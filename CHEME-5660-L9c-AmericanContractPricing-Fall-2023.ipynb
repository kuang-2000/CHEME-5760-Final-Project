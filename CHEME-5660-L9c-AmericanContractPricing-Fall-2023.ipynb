{
 "cells": [
  {
   "cell_type": "markdown",
   "id": "3c5bc2ac-3b77-41c4-9f55-efa807ee24ba",
   "metadata": {},
   "source": [
    "## Example: Pricing of American Options Contracts"
   ]
  },
  {
   "cell_type": "code",
   "execution_count": null,
   "id": "abcabf1d-bce7-409d-9c66-5cb1c35b1205",
   "metadata": {},
   "outputs": [],
   "source": []
  }
 ],
 "metadata": {
  "kernelspec": {
   "display_name": "Julia 1.9.3",
   "language": "julia",
   "name": "julia-1.9"
  },
  "language_info": {
   "file_extension": ".jl",
   "mimetype": "application/julia",
   "name": "julia",
   "version": "1.9.3"
  }
 },
 "nbformat": 4,
 "nbformat_minor": 5
}
