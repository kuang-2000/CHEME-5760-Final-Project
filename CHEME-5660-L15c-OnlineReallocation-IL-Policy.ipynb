{
 "cells": [
  {
   "cell_type": "markdown",
   "id": "c600411c-88de-45b8-8291-a7b6a3320959",
   "metadata": {},
   "source": [
    "# Lab 15b: Online Reallocation of Minimum Variance Portfolios\n",
    "The objective of `Lab 15b` is to familiarize students with `active` fund management using your initial project portfolios. In `Lab 15b`, we'll implement a fund management strategy discussed in the lecture. Namely, we'll reallocate the portfolio after the close of every trading day.\n",
    "\n",
    "## Assumptions\n",
    "We'll make several assumptions in `Lab 15b` to simply the calculations, many of which are `not` true in practice:\n",
    "* __Assumption 1__: The covariance matrix is constant and can be described using the backward-looking single index model approximation (estimated using `2018` to `2022` data).\n",
    "* __Assumption 2__: Ignore taxes, commissions, and other sources of market friction, e.g., overnight or weekend price changes to the components of our portfolio. \n",
    "\n",
    "## Tasks\n",
    "\n",
    "* __Task 1__: Load the Efficient Frontier Collection and Select an Initial Portfolio\n",
    "    * `TODO`: Specify a value for the `total_initial_budget` variable\n",
    "    * `TODO`: Copy your efficient frontier file generated from `THP3/PD1` (or generate it now if you have not done so) into the `data` subdirectory\n",
    "    * `TODO`: Specify which initial portfolio you wish to select from the efficient frontier collection\n",
    "* __Task 2__: Reallocate your portfolio after the close everyday\n",
    "    * `TODO`: Specify the `number_of_trading_days` you wish to simulate (up to `221`)\n",
    "    * `TODO`: Specify a value for the learning rate parameter $\\alpha\\geq{0}$\n",
    "    * `TODO`: Specify the minimum desired return in the `minimum_desired_return` variable\n",
    "* __Task 3__: Visualize the performance of the original portfolio, the reallocated portfolio, and the benchmark portfolio `SPY`.\n",
    "    * `Discussion`: Contrast the performance of the original portfolio with the reallocated portfolio. What is happening in the reallocation process - explain to each other what you believe is happening\n",
    "        * `Hint`: Check out the `share_volume_array` (after the plots), which holds the shares in the reallocated portfolio.* `Hint`: Check out the `share_volume_array` (after the plots), which holds the shares in the reallocated portfolio."
   ]
  },
  {
   "cell_type": "markdown",
   "id": "8f198f79-5cc5-42ca-9f99-b3327f32cb2e",
   "metadata": {},
   "source": [
    "## Setup"
   ]
  },
  {
   "cell_type": "code",
   "execution_count": 1,
   "id": "833c5b46-521d-4762-8213-d4c0e9ee8733",
   "metadata": {
    "tags": []
   },
   "outputs": [
    {
     "name": "stderr",
     "output_type": "stream",
     "text": [
      "\u001b[32m\u001b[1m    Updating\u001b[22m\u001b[39m git-repo `https://github.com/varnerlab/VLQuantitativeFinancePackage.jl.git`\n",
      "\u001b[32m\u001b[1m   Resolving\u001b[22m\u001b[39m package versions...\n",
      "\u001b[32m\u001b[1m  No Changes\u001b[22m\u001b[39m to `~/Desktop/julia_work/CHEME-5660-Examples-F23/Project.toml`\n",
      "\u001b[32m\u001b[1m  No Changes\u001b[22m\u001b[39m to `~/Desktop/julia_work/CHEME-5660-Examples-F23/Manifest.toml`\n",
      "\u001b[32m\u001b[1mPrecompiling\u001b[22m\u001b[39m project...\n",
      "\u001b[32m  ✓ \u001b[39mDataFrames\n",
      "\u001b[32m  ✓ \u001b[39m\u001b[90mLatexify → DataFramesExt\u001b[39m\n",
      "\u001b[32m  ✓ \u001b[39m\u001b[90mBangBang → BangBangDataFramesExt\u001b[39m\n",
      "\u001b[32m  ✓ \u001b[39m\u001b[90mMicroCollections\u001b[39m\n",
      "\u001b[32m  ✓ \u001b[39m\u001b[90mTransducers\u001b[39m\n",
      "\u001b[32m  ✓ \u001b[39m\u001b[90mTransducers → TransducersDataFramesExt\u001b[39m\n",
      "\u001b[32m  ✓ \u001b[39mVLQuantitativeFinancePackage\n",
      "\u001b[32m  ✓ \u001b[39m\u001b[90mFLoops\u001b[39m\n",
      "\u001b[32m  ✓ \u001b[39m\u001b[90mMLUtils\u001b[39m\n",
      "\u001b[32m  ✓ \u001b[39mFlux\n",
      "\u001b[32m  ✓ \u001b[39mPlots\n",
      "\u001b[32m  ✓ \u001b[39m\u001b[90mPlots → FileIOExt\u001b[39m\n",
      "\u001b[32m  ✓ \u001b[39m\u001b[90mPlots → UnitfulExt\u001b[39m\n",
      "\u001b[32m  ✓ \u001b[39mStatsPlots\n",
      "  14 dependencies successfully precompiled in 67 seconds. 289 already precompiled.\n",
      "\u001b[32m\u001b[1m  Activating\u001b[22m\u001b[39m project at `~/Desktop/julia_work/CHEME-5660-Examples-F23`\n",
      "\u001b[32m\u001b[1m  No Changes\u001b[22m\u001b[39m to `~/Desktop/julia_work/CHEME-5660-Examples-F23/Project.toml`\n",
      "\u001b[32m\u001b[1m  No Changes\u001b[22m\u001b[39m to `~/Desktop/julia_work/CHEME-5660-Examples-F23/Manifest.toml`\n",
      "\u001b[32m\u001b[1m    Updating\u001b[22m\u001b[39m registry at `~/.julia/registries/General.toml`\n",
      "\u001b[32m\u001b[1m    Updating\u001b[22m\u001b[39m git-repo `https://github.com/varnerlab/VLQuantitativeFinancePackage.jl.git`\n",
      "\u001b[32m\u001b[1m  No Changes\u001b[22m\u001b[39m to `~/Desktop/julia_work/CHEME-5660-Examples-F23/Project.toml`\n",
      "\u001b[32m\u001b[1m  No Changes\u001b[22m\u001b[39m to `~/Desktop/julia_work/CHEME-5660-Examples-F23/Manifest.toml`\n",
      "\u001b[36m\u001b[1m[ \u001b[22m\u001b[39m\u001b[36m\u001b[1mInfo: \u001b[22m\u001b[39mPrecompiling IJuliaExt [2f4121a4-3b3a-5ce6-9c5e-1f2673ce168a]\n"
     ]
    }
   ],
   "source": [
    "include(\"Include.jl\");"
   ]
  },
  {
   "cell_type": "markdown",
   "id": "d6436ca1-7423-42d6-a5a5-b4d52a13de5e",
   "metadata": {
    "tags": []
   },
   "source": [
    "## Prerequisites: Load historical dataset, compute expected returns and covariance\n",
    "We gathered a daily open-high-low-close `dataset` for each firm in the [S&P500](https://en.wikipedia.org/wiki/S%26P_500) since `01-03-2018` until `11-17-2023`, along with data for a few exchange traded funds and volatility products during that time. "
   ]
  },
  {
   "cell_type": "code",
   "execution_count": 2,
   "id": "e9f0411d-18c2-40cf-8a14-b61ed16245e4",
   "metadata": {
    "tags": []
   },
   "outputs": [],
   "source": [
    "original_dataset = load(joinpath(_PATH_TO_DATA, \n",
    "        \"SP500-Daily-OHLC-1-3-2018-to-11-17-2023.jld2\")) |> x-> x[\"dataset\"];"
   ]
  },
  {
   "cell_type": "markdown",
   "id": "8bd71c14-a8d6-4526-978d-7566b4cb05da",
   "metadata": {},
   "source": [
    "### Clean the data\n",
    "Not all of the tickers in our dataset have the maximum number of trading days for various reasons, e.g., acquistion or de-listing events. Let's collect only those tickers with the maximum number of trading days.\n",
    "\n",
    "* First, let's compute the number of records for a company that we know has a maximim value, e.g., `AAPL` and save that value in the `maximum_number_trading_days` variable:"
   ]
  },
  {
   "cell_type": "code",
   "execution_count": 3,
   "id": "412a43c3-5994-49a0-9c3c-67e445e7b426",
   "metadata": {
    "tags": []
   },
   "outputs": [],
   "source": [
    "maximum_number_trading_days = original_dataset[\"AAPL\"] |> nrow;"
   ]
  },
  {
   "cell_type": "markdown",
   "id": "8e1a61fb-d581-465b-b547-9d8954703ed3",
   "metadata": {},
   "source": [
    "Now, lets iterate through our data and collect only those tickers that have `maximum_number_trading_days` records. Save that data in the `dataset::Dict{String,DataFrame}` variable:"
   ]
  },
  {
   "cell_type": "code",
   "execution_count": 4,
   "id": "7748dcd0-c56c-45c0-883f-c2f882584a86",
   "metadata": {
    "tags": []
   },
   "outputs": [],
   "source": [
    "dataset = Dict{String,DataFrame}();\n",
    "for (ticker,data) ∈ original_dataset\n",
    "    if (nrow(data) == maximum_number_trading_days)\n",
    "        dataset[ticker] = data;\n",
    "    end\n",
    "end\n",
    "dataset;"
   ]
  },
  {
   "cell_type": "markdown",
   "id": "e1c9b3ac-cc0d-4edd-9071-74d4f5f135c5",
   "metadata": {},
   "source": [
    "Let's get a list of firms that we have in cleaned up `dataset`, and save it in the `all_tickers` array:"
   ]
  },
  {
   "cell_type": "code",
   "execution_count": 5,
   "id": "532f9abd-96c2-4750-96d4-7a62e4520d2b",
   "metadata": {
    "tags": []
   },
   "outputs": [],
   "source": [
    "all_tickers = keys(dataset) |> collect |> sort;\n",
    "K = length(all_tickers);"
   ]
  },
  {
   "cell_type": "markdown",
   "id": "e5424f58-a589-40dc-91a2-69d7e717a51a",
   "metadata": {},
   "source": [
    "### Get the 2023 `SPY` data"
   ]
  },
  {
   "cell_type": "code",
   "execution_count": 6,
   "id": "916e02d1-7e28-40af-9fde-293423a241f2",
   "metadata": {
    "tags": []
   },
   "outputs": [],
   "source": [
    "startdate = Date(2021,01,03);\n",
    "SPY_dataset = dataset[\"SPY\"];\n",
    "SPY_df = filter(:timestamp => x-> x >= startdate, SPY_dataset);"
   ]
  },
  {
   "cell_type": "markdown",
   "id": "68d8f47f-c241-4d0b-9843-85d9a95e47ba",
   "metadata": {
    "tags": []
   },
   "source": [
    "### Compute the covariance and expected yield for all firms in the dataset\n",
    "The expected return $\\mathbb{E}(r_{i})$ and covariance matrix $\\Sigma$ will be used in our calculations, so we'll provide values for both of these items for the entire data set (all `N = 459` tickers), and then you can pick out which tickers you are interested in. \n",
    "\n",
    "* First, we compute the expected (annualized) log return by passing the `dataset` and the entire list of firms we have in the dataset (held in the $N\\times{1}$ `all_array` array) to the `log_return_matrix(...)` method. The result is stored in the `all_firms_return_matrix` variable, a $T-1\\times{N}$ array of log return values. Each row of `all_firms_return_matrix` corresponds to a time-value, while each column corresponds to a firm:"
   ]
  },
  {
   "cell_type": "code",
   "execution_count": 7,
   "id": "351b0634-e284-4bd4-9368-5e6194c75c6a",
   "metadata": {
    "tags": []
   },
   "outputs": [],
   "source": [
    "all_firms_return_matrix = log_return_matrix(dataset, all_tickers, \n",
    "    Δt = (1.0/252.0), risk_free_rate = 0.0);"
   ]
  },
  {
   "cell_type": "code",
   "execution_count": 8,
   "id": "050ebfce-396e-4184-8fdc-6e117aac2d6b",
   "metadata": {
    "tags": []
   },
   "outputs": [],
   "source": [
    "μ = mean(all_firms_return_matrix, dims=1) |> vec;"
   ]
  },
  {
   "cell_type": "markdown",
   "id": "a75860d2-4218-4828-a47f-3231864bada5",
   "metadata": {},
   "source": [
    "### Build single index model approximation of the covariance"
   ]
  },
  {
   "cell_type": "code",
   "execution_count": 9,
   "id": "e0305375-3d70-4696-bcea-ab799683f9df",
   "metadata": {
    "tags": []
   },
   "outputs": [],
   "source": [
    "sims = load(joinpath(_PATH_TO_DATA, \"SIMs-PortfolioDriftExample-PD1-CHEME-5660-Fall-2023.jld2\")) |> x->x[\"sims\"];"
   ]
  },
  {
   "cell_type": "code",
   "execution_count": 10,
   "id": "ff3dca05-b416-4a83-a92b-0e3c2a7022c5",
   "metadata": {
    "tags": []
   },
   "outputs": [
    {
     "data": {
      "text/plain": [
       "0.08726475731522582"
      ]
     },
     "execution_count": 10,
     "metadata": {},
     "output_type": "execute_result"
    }
   ],
   "source": [
    "index_SPY = findfirst(x->x==\"SPY\", all_tickers);\n",
    "r_SPY = μ[index_SPY]"
   ]
  },
  {
   "cell_type": "markdown",
   "id": "ab82164b-9b16-489a-938b-68a55b22c211",
   "metadata": {},
   "source": [
    "Next let's build the `single index model` version of the covariance array. Substituting the single index model for the excess return of asset $i$ and $j$ into the covariance expression (and simplifying) gives:\n",
    "\n",
    "$$\n",
    "\\begin{equation*}\n",
    "\\text{cov}(R_{i}, R_{j}) = \\begin{cases}\n",
    "\\beta_{i}^{2}\\sigma_{m}^{2}+\\sigma_{\\epsilon_{i}}^{2} & i = j \\\\\n",
    "\\beta_{i}\\beta_{j}\\sigma_{m}^2 & i \\neq j\n",
    "\\end{cases}\n",
    "\\end{equation*}\n",
    "$$\n",
    "\n",
    "where $\\sigma_{m}^2$ denotes the variance of the excess return of the market,  and $\\sigma_{\\epsilon_{i}}^{2}$ denotes the variance of the firm-specific error model."
   ]
  },
  {
   "cell_type": "code",
   "execution_count": 11,
   "id": "777602f8-87be-4b24-b53c-9e23735c08f9",
   "metadata": {
    "tags": []
   },
   "outputs": [
    {
     "data": {
      "text/plain": [
       "2.5414369559913688"
      ]
     },
     "execution_count": 11,
     "metadata": {},
     "output_type": "execute_result"
    }
   ],
   "source": [
    "σₘ = std(all_firms_return_matrix[:, index_SPY])"
   ]
  },
  {
   "cell_type": "markdown",
   "id": "8333a859-2417-4d2b-9dc5-efe8ad5a2d65",
   "metadata": {
    "tags": []
   },
   "source": [
    "We populate the single index covariance array using nested `for` loops:"
   ]
  },
  {
   "cell_type": "code",
   "execution_count": 12,
   "id": "bdd12e1d-5b5c-42ad-99b2-cadbad237e2e",
   "metadata": {
    "tags": []
   },
   "outputs": [],
   "source": [
    "Σ_tmp = Array{Float64,2}(undef, length(μ), length(μ));\n",
    "for i ∈ eachindex(all_tickers)\n",
    "    outer_ticker = all_tickers[i];\n",
    "    sim_outer = sims[outer_ticker];\n",
    "    \n",
    "    for j ∈ eachindex(all_tickers)\n",
    "        \n",
    "        inner_ticker = all_tickers[j];\n",
    "        sim_inner = sims[inner_ticker];\n",
    "        \n",
    "        if (i == j)\n",
    "            βᵢ = sim_outer.β\n",
    "            ϵᵢ = sim_outer.ϵ\n",
    "            σ_ϵᵢ = params(ϵᵢ)[2];\n",
    "            Σ_tmp[i,j] = ((βᵢ)^2)*((σₘ)^2)+(σ_ϵᵢ)^2\n",
    "        else\n",
    "            βᵢ = sim_outer.β\n",
    "            βⱼ = sim_inner.β\n",
    "            Σ_tmp[i,j] = βᵢ*βⱼ*(σₘ)^2\n",
    "        end\n",
    "    end\n",
    "end\n",
    "Σ_sim  = Σ_tmp |> x-> x*(1/252);"
   ]
  },
  {
   "cell_type": "markdown",
   "id": "a5081f65-af79-44cc-956f-99d67742cd6e",
   "metadata": {},
   "source": [
    "## Task 1: Load the Efficient Frontier Collection and Select an Initial Portfolio"
   ]
  },
  {
   "cell_type": "markdown",
   "id": "ba019b3a-7f48-40e1-9ebe-c4aa5964e01b",
   "metadata": {},
   "source": [
    "`TODO`: Specify a value for the `total_initial_budget` variable:"
   ]
  },
  {
   "cell_type": "code",
   "execution_count": 13,
   "id": "017f24ab-dfa7-4b70-9c2d-a6c4c3d104da",
   "metadata": {
    "tags": []
   },
   "outputs": [],
   "source": [
    "total_initial_budget = 1000.0; "
   ]
  },
  {
   "cell_type": "markdown",
   "id": "8e82cfa9-1eae-47b6-93b6-3b7d97e3c027",
   "metadata": {},
   "source": [
    "`TODO`: Copy your efficient frontier file generated from `THP3/PD1` (or generate it now if you have not done so) into the `data` subdirectory, and update the filename in the expression below:"
   ]
  },
  {
   "cell_type": "code",
   "execution_count": 14,
   "id": "3f803dfa-b3cc-4270-8bc4-028e3a0f4ef5",
   "metadata": {
    "tags": []
   },
   "outputs": [
    {
     "data": {
      "text/html": [
       "<div><div style = \"float: left;\"><span>64×5 DataFrame</span></div><div style = \"float: right;\"><span style = \"font-style: italic;\">39 rows omitted</span></div><div style = \"clear: both;\"></div></div><div class = \"data-frame\" style = \"overflow-x: scroll;\"><table class = \"data-frame\" style = \"margin-bottom: 6px;\"><thead><tr class = \"header\"><th class = \"rowNumber\" style = \"font-weight: bold; text-align: right;\">Row</th><th style = \"text-align: left;\">expected_excess_return</th><th style = \"text-align: left;\">risk</th><th style = \"text-align: left;\">tickers</th><th style = \"text-align: left;\">w</th><th style = \"text-align: left;\">risk_free_rate</th></tr><tr class = \"subheader headerLastRow\"><th class = \"rowNumber\" style = \"font-weight: bold; text-align: right;\"></th><th title = \"Float64\" style = \"text-align: left;\">Float64</th><th title = \"Float64\" style = \"text-align: left;\">Float64</th><th title = \"Vector{String}\" style = \"text-align: left;\">Array…</th><th title = \"Vector{Float64}\" style = \"text-align: left;\">Array…</th><th title = \"Float64\" style = \"text-align: left;\">Float64</th></tr></thead><tbody><tr><td class = \"rowNumber\" style = \"font-weight: bold; text-align: right;\">1</td><td style = \"text-align: right;\">0.038845</td><td style = \"text-align: right;\">0.148496</td><td style = \"text-align: left;\">[&quot;PFE&quot;, &quot;MRK&quot;, &quot;AMD&quot;, &quot;MU&quot;, &quot;INTC&quot;, &quot;SPY&quot;]</td><td style = \"text-align: left;\">[0.194783, 0.299101, 7.80373e-8, 9.59536e-8, 4.84921e-7, 0.506115]</td><td style = \"text-align: right;\">0.05</td></tr><tr><td class = \"rowNumber\" style = \"font-weight: bold; text-align: right;\">2</td><td style = \"text-align: right;\">0.038845</td><td style = \"text-align: right;\">0.148496</td><td style = \"text-align: left;\">[&quot;PFE&quot;, &quot;MRK&quot;, &quot;AMD&quot;, &quot;MU&quot;, &quot;INTC&quot;, &quot;SPY&quot;]</td><td style = \"text-align: left;\">[0.194783, 0.299101, 7.80373e-8, 9.59536e-8, 4.85803e-7, 0.506115]</td><td style = \"text-align: right;\">0.05</td></tr><tr><td class = \"rowNumber\" style = \"font-weight: bold; text-align: right;\">3</td><td style = \"text-align: right;\">0.038845</td><td style = \"text-align: right;\">0.148496</td><td style = \"text-align: left;\">[&quot;PFE&quot;, &quot;MRK&quot;, &quot;AMD&quot;, &quot;MU&quot;, &quot;INTC&quot;, &quot;SPY&quot;]</td><td style = \"text-align: left;\">[0.194783, 0.299101, 7.80373e-8, 9.59537e-8, 4.87577e-7, 0.506115]</td><td style = \"text-align: right;\">0.05</td></tr><tr><td class = \"rowNumber\" style = \"font-weight: bold; text-align: right;\">4</td><td style = \"text-align: right;\">0.038845</td><td style = \"text-align: right;\">0.148496</td><td style = \"text-align: left;\">[&quot;PFE&quot;, &quot;MRK&quot;, &quot;AMD&quot;, &quot;MU&quot;, &quot;INTC&quot;, &quot;SPY&quot;]</td><td style = \"text-align: left;\">[0.194783, 0.299101, 7.80374e-8, 9.59542e-8, 5.32657e-7, 0.506115]</td><td style = \"text-align: right;\">0.05</td></tr><tr><td class = \"rowNumber\" style = \"font-weight: bold; text-align: right;\">5</td><td style = \"text-align: right;\">0.038845</td><td style = \"text-align: right;\">0.148496</td><td style = \"text-align: left;\">[&quot;PFE&quot;, &quot;MRK&quot;, &quot;AMD&quot;, &quot;MU&quot;, &quot;INTC&quot;, &quot;SPY&quot;]</td><td style = \"text-align: left;\">[0.194783, 0.299101, 7.80382e-8, 9.59546e-8, 5.69075e-7, 0.506115]</td><td style = \"text-align: right;\">0.05</td></tr><tr><td class = \"rowNumber\" style = \"font-weight: bold; text-align: right;\">6</td><td style = \"text-align: right;\">0.0388449</td><td style = \"text-align: right;\">0.148496</td><td style = \"text-align: left;\">[&quot;PFE&quot;, &quot;MRK&quot;, &quot;AMD&quot;, &quot;MU&quot;, &quot;INTC&quot;, &quot;SPY&quot;]</td><td style = \"text-align: left;\">[0.194783, 0.299101, 7.80362e-8, 9.59585e-8, 1.40028e-6, 0.506114]</td><td style = \"text-align: right;\">0.05</td></tr><tr><td class = \"rowNumber\" style = \"font-weight: bold; text-align: right;\">7</td><td style = \"text-align: right;\">0.038845</td><td style = \"text-align: right;\">0.148496</td><td style = \"text-align: left;\">[&quot;PFE&quot;, &quot;MRK&quot;, &quot;AMD&quot;, &quot;MU&quot;, &quot;INTC&quot;, &quot;SPY&quot;]</td><td style = \"text-align: left;\">[0.194783, 0.299102, 7.80366e-8, 9.59546e-8, 5.08398e-7, 0.506115]</td><td style = \"text-align: right;\">0.05</td></tr><tr><td class = \"rowNumber\" style = \"font-weight: bold; text-align: right;\">8</td><td style = \"text-align: right;\">0.038845</td><td style = \"text-align: right;\">0.148496</td><td style = \"text-align: left;\">[&quot;PFE&quot;, &quot;MRK&quot;, &quot;AMD&quot;, &quot;MU&quot;, &quot;INTC&quot;, &quot;SPY&quot;]</td><td style = \"text-align: left;\">[0.194783, 0.299102, 7.80371e-8, 9.59552e-8, 5.25002e-7, 0.506115]</td><td style = \"text-align: right;\">0.05</td></tr><tr><td class = \"rowNumber\" style = \"font-weight: bold; text-align: right;\">9</td><td style = \"text-align: right;\">0.038845</td><td style = \"text-align: right;\">0.148496</td><td style = \"text-align: left;\">[&quot;PFE&quot;, &quot;MRK&quot;, &quot;AMD&quot;, &quot;MU&quot;, &quot;INTC&quot;, &quot;SPY&quot;]</td><td style = \"text-align: left;\">[0.194783, 0.299102, 7.80333e-8, 9.60306e-8, 1.00265e-6, 0.506114]</td><td style = \"text-align: right;\">0.05</td></tr><tr><td class = \"rowNumber\" style = \"font-weight: bold; text-align: right;\">10</td><td style = \"text-align: right;\">0.0409093</td><td style = \"text-align: right;\">0.14862</td><td style = \"text-align: left;\">[&quot;PFE&quot;, &quot;MRK&quot;, &quot;AMD&quot;, &quot;MU&quot;, &quot;INTC&quot;, &quot;SPY&quot;]</td><td style = \"text-align: left;\">[0.190786, 0.329728, 1.27317e-7, 9.18789e-8, 3.62357e-7, 0.479486]</td><td style = \"text-align: right;\">0.05</td></tr><tr><td class = \"rowNumber\" style = \"font-weight: bold; text-align: right;\">11</td><td style = \"text-align: right;\">0.0454546</td><td style = \"text-align: right;\">0.149745</td><td style = \"text-align: left;\">[&quot;PFE&quot;, &quot;MRK&quot;, &quot;AMD&quot;, &quot;MU&quot;, &quot;INTC&quot;, &quot;SPY&quot;]</td><td style = \"text-align: left;\">[0.183564, 0.387762, 0.00233571, 8.09998e-8, 9.88061e-8, 0.426338]</td><td style = \"text-align: right;\">0.05</td></tr><tr><td class = \"rowNumber\" style = \"font-weight: bold; text-align: right;\">12</td><td style = \"text-align: right;\">0.05</td><td style = \"text-align: right;\">0.151401</td><td style = \"text-align: left;\">[&quot;PFE&quot;, &quot;MRK&quot;, &quot;AMD&quot;, &quot;MU&quot;, &quot;INTC&quot;, &quot;SPY&quot;]</td><td style = \"text-align: left;\">[0.183625, 0.402453, 0.0154396, 7.85067e-8, 8.80646e-8, 0.398482]</td><td style = \"text-align: right;\">0.05</td></tr><tr><td class = \"rowNumber\" style = \"font-weight: bold; text-align: right;\">13</td><td style = \"text-align: right;\">0.0545455</td><td style = \"text-align: right;\">0.153249</td><td style = \"text-align: left;\">[&quot;PFE&quot;, &quot;MRK&quot;, &quot;AMD&quot;, &quot;MU&quot;, &quot;INTC&quot;, &quot;SPY&quot;]</td><td style = \"text-align: left;\">[0.183685, 0.417142, 0.0285442, 7.64107e-8, 7.92928e-8, 0.370628]</td><td style = \"text-align: right;\">0.05</td></tr><tr><td style = \"text-align: right;\">&vellip;</td><td style = \"text-align: right;\">&vellip;</td><td style = \"text-align: right;\">&vellip;</td><td style = \"text-align: right;\">&vellip;</td><td style = \"text-align: right;\">&vellip;</td><td style = \"text-align: right;\">&vellip;</td></tr><tr><td class = \"rowNumber\" style = \"font-weight: bold; text-align: right;\">53</td><td style = \"text-align: right;\">0.236364</td><td style = \"text-align: right;\">0.361989</td><td style = \"text-align: left;\">[&quot;PFE&quot;, &quot;MRK&quot;, &quot;AMD&quot;, &quot;MU&quot;, &quot;INTC&quot;, &quot;SPY&quot;]</td><td style = \"text-align: left;\">[-8.78388e-9, 0.266277, 0.733723, -9.5306e-9, -9.71907e-9, -9.06965e-9]</td><td style = \"text-align: right;\">0.05</td></tr><tr><td class = \"rowNumber\" style = \"font-weight: bold; text-align: right;\">54</td><td style = \"text-align: right;\">0.240909</td><td style = \"text-align: right;\">0.370535</td><td style = \"text-align: left;\">[&quot;PFE&quot;, &quot;MRK&quot;, &quot;AMD&quot;, &quot;MU&quot;, &quot;INTC&quot;, &quot;SPY&quot;]</td><td style = \"text-align: left;\">[-8.85111e-9, 0.244051, 0.755949, -9.54794e-9, -9.72937e-9, -9.11278e-9]</td><td style = \"text-align: right;\">0.05</td></tr><tr><td class = \"rowNumber\" style = \"font-weight: bold; text-align: right;\">55</td><td style = \"text-align: right;\">0.245455</td><td style = \"text-align: right;\">0.379166</td><td style = \"text-align: left;\">[&quot;PFE&quot;, &quot;MRK&quot;, &quot;AMD&quot;, &quot;MU&quot;, &quot;INTC&quot;, &quot;SPY&quot;]</td><td style = \"text-align: left;\">[-8.9113e-9, 0.221826, 0.778174, -9.56405e-9, -9.73894e-9, -9.15208e-9]</td><td style = \"text-align: right;\">0.05</td></tr><tr><td class = \"rowNumber\" style = \"font-weight: bold; text-align: right;\">56</td><td style = \"text-align: right;\">0.25</td><td style = \"text-align: right;\">0.387874</td><td style = \"text-align: left;\">[&quot;PFE&quot;, &quot;MRK&quot;, &quot;AMD&quot;, &quot;MU&quot;, &quot;INTC&quot;, &quot;SPY&quot;]</td><td style = \"text-align: left;\">[-8.9655e-9, 0.1996, 0.8004, -9.57905e-9, -9.74785e-9, -9.18805e-9]</td><td style = \"text-align: right;\">0.05</td></tr><tr><td class = \"rowNumber\" style = \"font-weight: bold; text-align: right;\">57</td><td style = \"text-align: right;\">0.254545</td><td style = \"text-align: right;\">0.396656</td><td style = \"text-align: left;\">[&quot;PFE&quot;, &quot;MRK&quot;, &quot;AMD&quot;, &quot;MU&quot;, &quot;INTC&quot;, &quot;SPY&quot;]</td><td style = \"text-align: left;\">[-9.01455e-9, 0.177374, 0.822626, -9.59306e-9, -9.75618e-9, -9.22109e-9]</td><td style = \"text-align: right;\">0.05</td></tr><tr><td class = \"rowNumber\" style = \"font-weight: bold; text-align: right;\">58</td><td style = \"text-align: right;\">0.259091</td><td style = \"text-align: right;\">0.405505</td><td style = \"text-align: left;\">[&quot;PFE&quot;, &quot;MRK&quot;, &quot;AMD&quot;, &quot;MU&quot;, &quot;INTC&quot;, &quot;SPY&quot;]</td><td style = \"text-align: left;\">[-9.05917e-9, 0.155149, 0.844851, -9.60616e-9, -9.76397e-9, -9.25155e-9]</td><td style = \"text-align: right;\">0.05</td></tr><tr><td class = \"rowNumber\" style = \"font-weight: bold; text-align: right;\">59</td><td style = \"text-align: right;\">0.263636</td><td style = \"text-align: right;\">0.414419</td><td style = \"text-align: left;\">[&quot;PFE&quot;, &quot;MRK&quot;, &quot;AMD&quot;, &quot;MU&quot;, &quot;INTC&quot;, &quot;SPY&quot;]</td><td style = \"text-align: left;\">[3.02725e-8, 0.132923, 0.867077, 2.36589e-9, -2.9045e-9, 1.63799e-8]</td><td style = \"text-align: right;\">0.05</td></tr><tr><td class = \"rowNumber\" style = \"font-weight: bold; text-align: right;\">60</td><td style = \"text-align: right;\">0.268182</td><td style = \"text-align: right;\">0.423392</td><td style = \"text-align: left;\">[&quot;PFE&quot;, &quot;MRK&quot;, &quot;AMD&quot;, &quot;MU&quot;, &quot;INTC&quot;, &quot;SPY&quot;]</td><td style = \"text-align: left;\">[3.11671e-8, 0.110697, 0.889303, 2.44677e-9, -2.84952e-9, 1.67972e-8]</td><td style = \"text-align: right;\">0.05</td></tr><tr><td class = \"rowNumber\" style = \"font-weight: bold; text-align: right;\">61</td><td style = \"text-align: right;\">0.272727</td><td style = \"text-align: right;\">0.432421</td><td style = \"text-align: left;\">[&quot;PFE&quot;, &quot;MRK&quot;, &quot;AMD&quot;, &quot;MU&quot;, &quot;INTC&quot;, &quot;SPY&quot;]</td><td style = \"text-align: left;\">[3.53608e-8, 0.0884713, 0.911529, 3.10123e-9, -2.47125e-9, 1.88789e-8]</td><td style = \"text-align: right;\">0.05</td></tr><tr><td class = \"rowNumber\" style = \"font-weight: bold; text-align: right;\">62</td><td style = \"text-align: right;\">0.277273</td><td style = \"text-align: right;\">0.441503</td><td style = \"text-align: left;\">[&quot;PFE&quot;, &quot;MRK&quot;, &quot;AMD&quot;, &quot;MU&quot;, &quot;INTC&quot;, &quot;SPY&quot;]</td><td style = \"text-align: left;\">[9.96151e-9, 0.0662457, 0.933754, -1.25666e-9, -4.75597e-9, 6.21867e-9]</td><td style = \"text-align: right;\">0.05</td></tr><tr><td class = \"rowNumber\" style = \"font-weight: bold; text-align: right;\">63</td><td style = \"text-align: right;\">0.281818</td><td style = \"text-align: right;\">0.450635</td><td style = \"text-align: left;\">[&quot;PFE&quot;, &quot;MRK&quot;, &quot;AMD&quot;, &quot;MU&quot;, &quot;INTC&quot;, &quot;SPY&quot;]</td><td style = \"text-align: left;\">[9.22466e-9, 0.0440199, 0.95598, -1.49912e-9, -4.9005e-9, 5.68822e-9]</td><td style = \"text-align: right;\">0.05</td></tr><tr><td class = \"rowNumber\" style = \"font-weight: bold; text-align: right;\">64</td><td style = \"text-align: right;\">0.286364</td><td style = \"text-align: right;\">0.459813</td><td style = \"text-align: left;\">[&quot;PFE&quot;, &quot;MRK&quot;, &quot;AMD&quot;, &quot;MU&quot;, &quot;INTC&quot;, &quot;SPY&quot;]</td><td style = \"text-align: left;\">[8.54013e-9, 0.0217942, 0.978206, -1.72851e-9, -5.03728e-9, 5.1913e-9]</td><td style = \"text-align: right;\">0.05</td></tr></tbody></table></div>"
      ],
      "text/latex": [
       "\\begin{tabular}{r|ccccc}\n",
       "\t& expected\\_excess\\_return & risk & tickers & w & \\\\\n",
       "\t\\hline\n",
       "\t& Float64 & Float64 & Array… & Array… & \\\\\n",
       "\t\\hline\n",
       "\t1 & 0.038845 & 0.148496 & [\"PFE\", \"MRK\", \"AMD\", \"MU\", \"INTC\", \"SPY\"] & [0.194783, 0.299101, 7.80373e-8, 9.59536e-8, 4.84921e-7, 0.506115] & $\\dots$ \\\\\n",
       "\t2 & 0.038845 & 0.148496 & [\"PFE\", \"MRK\", \"AMD\", \"MU\", \"INTC\", \"SPY\"] & [0.194783, 0.299101, 7.80373e-8, 9.59536e-8, 4.85803e-7, 0.506115] & $\\dots$ \\\\\n",
       "\t3 & 0.038845 & 0.148496 & [\"PFE\", \"MRK\", \"AMD\", \"MU\", \"INTC\", \"SPY\"] & [0.194783, 0.299101, 7.80373e-8, 9.59537e-8, 4.87577e-7, 0.506115] & $\\dots$ \\\\\n",
       "\t4 & 0.038845 & 0.148496 & [\"PFE\", \"MRK\", \"AMD\", \"MU\", \"INTC\", \"SPY\"] & [0.194783, 0.299101, 7.80374e-8, 9.59542e-8, 5.32657e-7, 0.506115] & $\\dots$ \\\\\n",
       "\t5 & 0.038845 & 0.148496 & [\"PFE\", \"MRK\", \"AMD\", \"MU\", \"INTC\", \"SPY\"] & [0.194783, 0.299101, 7.80382e-8, 9.59546e-8, 5.69075e-7, 0.506115] & $\\dots$ \\\\\n",
       "\t6 & 0.0388449 & 0.148496 & [\"PFE\", \"MRK\", \"AMD\", \"MU\", \"INTC\", \"SPY\"] & [0.194783, 0.299101, 7.80362e-8, 9.59585e-8, 1.40028e-6, 0.506114] & $\\dots$ \\\\\n",
       "\t7 & 0.038845 & 0.148496 & [\"PFE\", \"MRK\", \"AMD\", \"MU\", \"INTC\", \"SPY\"] & [0.194783, 0.299102, 7.80366e-8, 9.59546e-8, 5.08398e-7, 0.506115] & $\\dots$ \\\\\n",
       "\t8 & 0.038845 & 0.148496 & [\"PFE\", \"MRK\", \"AMD\", \"MU\", \"INTC\", \"SPY\"] & [0.194783, 0.299102, 7.80371e-8, 9.59552e-8, 5.25002e-7, 0.506115] & $\\dots$ \\\\\n",
       "\t9 & 0.038845 & 0.148496 & [\"PFE\", \"MRK\", \"AMD\", \"MU\", \"INTC\", \"SPY\"] & [0.194783, 0.299102, 7.80333e-8, 9.60306e-8, 1.00265e-6, 0.506114] & $\\dots$ \\\\\n",
       "\t10 & 0.0409093 & 0.14862 & [\"PFE\", \"MRK\", \"AMD\", \"MU\", \"INTC\", \"SPY\"] & [0.190786, 0.329728, 1.27317e-7, 9.18789e-8, 3.62357e-7, 0.479486] & $\\dots$ \\\\\n",
       "\t11 & 0.0454546 & 0.149745 & [\"PFE\", \"MRK\", \"AMD\", \"MU\", \"INTC\", \"SPY\"] & [0.183564, 0.387762, 0.00233571, 8.09998e-8, 9.88061e-8, 0.426338] & $\\dots$ \\\\\n",
       "\t12 & 0.05 & 0.151401 & [\"PFE\", \"MRK\", \"AMD\", \"MU\", \"INTC\", \"SPY\"] & [0.183625, 0.402453, 0.0154396, 7.85067e-8, 8.80646e-8, 0.398482] & $\\dots$ \\\\\n",
       "\t13 & 0.0545455 & 0.153249 & [\"PFE\", \"MRK\", \"AMD\", \"MU\", \"INTC\", \"SPY\"] & [0.183685, 0.417142, 0.0285442, 7.64107e-8, 7.92928e-8, 0.370628] & $\\dots$ \\\\\n",
       "\t14 & 0.0590909 & 0.155282 & [\"PFE\", \"MRK\", \"AMD\", \"MU\", \"INTC\", \"SPY\"] & [0.183746, 0.43183, 0.0416488, -6.63645e-9, -6.73007e-9, 0.342775] & $\\dots$ \\\\\n",
       "\t15 & 0.0636364 & 0.157493 & [\"PFE\", \"MRK\", \"AMD\", \"MU\", \"INTC\", \"SPY\"] & [0.183807, 0.446518, 0.0547537, 1.09026e-7, 7.46797e-8, 0.314921] & $\\dots$ \\\\\n",
       "\t16 & 0.0681818 & 0.159875 & [\"PFE\", \"MRK\", \"AMD\", \"MU\", \"INTC\", \"SPY\"] & [0.183868, 0.461206, 0.0678584, 1.08832e-7, 8.14905e-8, 0.287067] & $\\dots$ \\\\\n",
       "\t17 & 0.0727273 & 0.162419 & [\"PFE\", \"MRK\", \"AMD\", \"MU\", \"INTC\", \"SPY\"] & [0.183928, 0.475895, 0.080963, -6.86738e-9, -7.3771e-9, 0.259214] & $\\dots$ \\\\\n",
       "\t18 & 0.0772727 & 0.16512 & [\"PFE\", \"MRK\", \"AMD\", \"MU\", \"INTC\", \"SPY\"] & [0.183989, 0.490583, 0.0940678, 1.07433e-7, 7.52251e-8, 0.23136] & $\\dots$ \\\\\n",
       "\t19 & 0.0818182 & 0.167968 & [\"PFE\", \"MRK\", \"AMD\", \"MU\", \"INTC\", \"SPY\"] & [0.18405, 0.505271, 0.107173, 1.06853e-7, 7.19803e-8, 0.203507] & $\\dots$ \\\\\n",
       "\t20 & 0.0863636 & 0.170957 & [\"PFE\", \"MRK\", \"AMD\", \"MU\", \"INTC\", \"SPY\"] & [0.18411, 0.519959, 0.120277, -7.06874e-9, -7.81046e-9, 0.175653] & $\\dots$ \\\\\n",
       "\t21 & 0.0909091 & 0.174079 & [\"PFE\", \"MRK\", \"AMD\", \"MU\", \"INTC\", \"SPY\"] & [0.184171, 0.534648, 0.133382, -7.13022e-9, -7.92476e-9, 0.1478] & $\\dots$ \\\\\n",
       "\t22 & 0.0954545 & 0.177328 & [\"PFE\", \"MRK\", \"AMD\", \"MU\", \"INTC\", \"SPY\"] & [0.184232, 0.549336, 0.146487, 6.04359e-8, 3.94235e-8, 0.119946] & $\\dots$ \\\\\n",
       "\t23 & 0.1 & 0.180696 & [\"PFE\", \"MRK\", \"AMD\", \"MU\", \"INTC\", \"SPY\"] & [0.184293, 0.564024, 0.159591, 1.30677e-7, 7.22128e-8, 0.0920919] & $\\dots$ \\\\\n",
       "\t24 & 0.104545 & 0.184178 & [\"PFE\", \"MRK\", \"AMD\", \"MU\", \"INTC\", \"SPY\"] & [0.184352, 0.578712, 0.172696, 1.45308e-7, 7.87451e-8, 0.06424] & $\\dots$ \\\\\n",
       "\t25 & 0.109091 & 0.187766 & [\"PFE\", \"MRK\", \"AMD\", \"MU\", \"INTC\", \"SPY\"] & [0.184413, 0.5934, 0.185801, 5.63934e-8, 3.30409e-8, 0.0363859] & $\\dots$ \\\\\n",
       "\t26 & 0.113636 & 0.191455 & [\"PFE\", \"MRK\", \"AMD\", \"MU\", \"INTC\", \"SPY\"] & [0.184471, 0.608087, 0.198906, 5.50869e-8, 3.12393e-8, 0.00853603] & $\\dots$ \\\\\n",
       "\t27 & 0.118182 & 0.195271 & [\"PFE\", \"MRK\", \"AMD\", \"MU\", \"INTC\", \"SPY\"] & [0.171166, 0.615004, 0.213825, 5.07892e-8, 2.79208e-8, 3.83814e-6] & $\\dots$ \\\\\n",
       "\t28 & 0.122727 & 0.199302 & [\"PFE\", \"MRK\", \"AMD\", \"MU\", \"INTC\", \"SPY\"] & [0.151962, 0.618492, 0.229546, -7.76882e-9, -8.62313e-9, 2.14375e-8] & $\\dots$ \\\\\n",
       "\t29 & 0.127273 & 0.203541 & [\"PFE\", \"MRK\", \"AMD\", \"MU\", \"INTC\", \"SPY\"] & [0.132755, 0.621978, 0.245267, 4.17928e-8, 2.16604e-8, 5.51994e-7] & $\\dots$ \\\\\n",
       "\t30 & 0.131818 & 0.207975 & [\"PFE\", \"MRK\", \"AMD\", \"MU\", \"INTC\", \"SPY\"] & [0.113548, 0.625464, 0.260987, 3.81617e-8, 1.92229e-8, 3.51657e-7] & $\\dots$ \\\\\n",
       "\t$\\dots$ & $\\dots$ & $\\dots$ & $\\dots$ & $\\dots$ &  \\\\\n",
       "\\end{tabular}\n"
      ],
      "text/plain": [
       "\u001b[1m64×5 DataFrame\u001b[0m\n",
       "\u001b[1m Row \u001b[0m│\u001b[1m expected_excess_return \u001b[0m\u001b[1m risk     \u001b[0m\u001b[1m tickers                           \u001b[0m\u001b[1m w \u001b[0m ⋯\n",
       "     │\u001b[90m Float64                \u001b[0m\u001b[90m Float64  \u001b[0m\u001b[90m Array…                            \u001b[0m\u001b[90m Ar\u001b[0m ⋯\n",
       "─────┼──────────────────────────────────────────────────────────────────────────\n",
       "   1 │              0.038845   0.148496  [\"PFE\", \"MRK\", \"AMD\", \"MU\", \"INT…  [0 ⋯\n",
       "   2 │              0.038845   0.148496  [\"PFE\", \"MRK\", \"AMD\", \"MU\", \"INT…  [0\n",
       "   3 │              0.038845   0.148496  [\"PFE\", \"MRK\", \"AMD\", \"MU\", \"INT…  [0\n",
       "   4 │              0.038845   0.148496  [\"PFE\", \"MRK\", \"AMD\", \"MU\", \"INT…  [0\n",
       "   5 │              0.038845   0.148496  [\"PFE\", \"MRK\", \"AMD\", \"MU\", \"INT…  [0 ⋯\n",
       "   6 │              0.0388449  0.148496  [\"PFE\", \"MRK\", \"AMD\", \"MU\", \"INT…  [0\n",
       "   7 │              0.038845   0.148496  [\"PFE\", \"MRK\", \"AMD\", \"MU\", \"INT…  [0\n",
       "   8 │              0.038845   0.148496  [\"PFE\", \"MRK\", \"AMD\", \"MU\", \"INT…  [0\n",
       "   9 │              0.038845   0.148496  [\"PFE\", \"MRK\", \"AMD\", \"MU\", \"INT…  [0 ⋯\n",
       "  10 │              0.0409093  0.14862   [\"PFE\", \"MRK\", \"AMD\", \"MU\", \"INT…  [0\n",
       "  11 │              0.0454546  0.149745  [\"PFE\", \"MRK\", \"AMD\", \"MU\", \"INT…  [0\n",
       "  ⋮  │           ⋮                ⋮                      ⋮                     ⋱\n",
       "  55 │              0.245455   0.379166  [\"PFE\", \"MRK\", \"AMD\", \"MU\", \"INT…  [-\n",
       "  56 │              0.25       0.387874  [\"PFE\", \"MRK\", \"AMD\", \"MU\", \"INT…  [- ⋯\n",
       "  57 │              0.254545   0.396656  [\"PFE\", \"MRK\", \"AMD\", \"MU\", \"INT…  [-\n",
       "  58 │              0.259091   0.405505  [\"PFE\", \"MRK\", \"AMD\", \"MU\", \"INT…  [-\n",
       "  59 │              0.263636   0.414419  [\"PFE\", \"MRK\", \"AMD\", \"MU\", \"INT…  [3\n",
       "  60 │              0.268182   0.423392  [\"PFE\", \"MRK\", \"AMD\", \"MU\", \"INT…  [3 ⋯\n",
       "  61 │              0.272727   0.432421  [\"PFE\", \"MRK\", \"AMD\", \"MU\", \"INT…  [3\n",
       "  62 │              0.277273   0.441503  [\"PFE\", \"MRK\", \"AMD\", \"MU\", \"INT…  [9\n",
       "  63 │              0.281818   0.450635  [\"PFE\", \"MRK\", \"AMD\", \"MU\", \"INT…  [9\n",
       "  64 │              0.286364   0.459813  [\"PFE\", \"MRK\", \"AMD\", \"MU\", \"INT…  [8 ⋯\n",
       "\u001b[36m                                                   2 columns and 43 rows omitted\u001b[0m"
      ]
     },
     "execution_count": 14,
     "metadata": {},
     "output_type": "execute_result"
    }
   ],
   "source": [
    "efficient_frontier = load(joinpath(_PATH_TO_DATA,\n",
    "        \"EfficientFrontier-PortfolioDriftExample-PD1-CHEME-5660-Fall-2023.jld2\")) |> x->x[\"dataset\"]"
   ]
  },
  {
   "cell_type": "markdown",
   "id": "339f136f-90c7-4f87-9647-1a0e835375f2",
   "metadata": {},
   "source": [
    "`TODO`: Specify which initial portfolio you wish to select, by setting the value of the `portfolio_index` variable:"
   ]
  },
  {
   "cell_type": "code",
   "execution_count": 15,
   "id": "407f53bb-4505-4d83-bdac-835cbff222b4",
   "metadata": {
    "tags": []
   },
   "outputs": [],
   "source": [
    "portfolio_index = 13;"
   ]
  },
  {
   "cell_type": "code",
   "execution_count": 16,
   "id": "f083c25d-b7e5-433e-84a7-b65ee37f530a",
   "metadata": {
    "tags": []
   },
   "outputs": [
    {
     "name": "stdout",
     "output_type": "stream",
     "text": [
      "The expected excess return for portfolio 13 equals 0.055 with risk = 0.153249\n"
     ]
    }
   ],
   "source": [
    "my_list_of_tickers = efficient_frontier[portfolio_index,:tickers];\n",
    "w = efficient_frontier[portfolio_index,:w] .|> x-> round(x,digits=6) .|> abs;\n",
    "risk = efficient_frontier[portfolio_index,:risk] .|> x-> round(x,digits=6) .|> abs;\n",
    "expected_excess_return = efficient_frontier[portfolio_index,:expected_excess_return] |> x-> round(x,digits=3)\n",
    "println(\"The expected excess return for portfolio $(portfolio_index) equals $(expected_excess_return) with risk = $(risk)\")"
   ]
  },
  {
   "cell_type": "markdown",
   "id": "b71ab0c3-a83f-403d-933d-14b629e6027a",
   "metadata": {},
   "source": [
    "#### What is in this portfolio?"
   ]
  },
  {
   "cell_type": "code",
   "execution_count": 17,
   "id": "f1dde4a0-c8d1-487b-bb8b-ed70abd44349",
   "metadata": {
    "tags": []
   },
   "outputs": [
    {
     "data": {
      "text/html": [
       "<div><div style = \"float: left;\"><span>6×2 DataFrame</span></div><div style = \"clear: both;\"></div></div><div class = \"data-frame\" style = \"overflow-x: scroll;\"><table class = \"data-frame\" style = \"margin-bottom: 6px;\"><thead><tr class = \"header\"><th class = \"rowNumber\" style = \"font-weight: bold; text-align: right;\">Row</th><th style = \"text-align: left;\">ticker</th><th style = \"text-align: left;\">allocation</th></tr><tr class = \"subheader headerLastRow\"><th class = \"rowNumber\" style = \"font-weight: bold; text-align: right;\"></th><th title = \"String\" style = \"text-align: left;\">String</th><th title = \"Float64\" style = \"text-align: left;\">Float64</th></tr></thead><tbody><tr><td class = \"rowNumber\" style = \"font-weight: bold; text-align: right;\">1</td><td style = \"text-align: left;\">PFE</td><td style = \"text-align: right;\">0.183685</td></tr><tr><td class = \"rowNumber\" style = \"font-weight: bold; text-align: right;\">2</td><td style = \"text-align: left;\">MRK</td><td style = \"text-align: right;\">0.417142</td></tr><tr><td class = \"rowNumber\" style = \"font-weight: bold; text-align: right;\">3</td><td style = \"text-align: left;\">AMD</td><td style = \"text-align: right;\">0.028544</td></tr><tr><td class = \"rowNumber\" style = \"font-weight: bold; text-align: right;\">4</td><td style = \"text-align: left;\">MU</td><td style = \"text-align: right;\">0.0</td></tr><tr><td class = \"rowNumber\" style = \"font-weight: bold; text-align: right;\">5</td><td style = \"text-align: left;\">INTC</td><td style = \"text-align: right;\">0.0</td></tr><tr><td class = \"rowNumber\" style = \"font-weight: bold; text-align: right;\">6</td><td style = \"text-align: left;\">SPY</td><td style = \"text-align: right;\">0.370628</td></tr></tbody></table></div>"
      ],
      "text/latex": [
       "\\begin{tabular}{r|cc}\n",
       "\t& ticker & allocation\\\\\n",
       "\t\\hline\n",
       "\t& String & Float64\\\\\n",
       "\t\\hline\n",
       "\t1 & PFE & 0.183685 \\\\\n",
       "\t2 & MRK & 0.417142 \\\\\n",
       "\t3 & AMD & 0.028544 \\\\\n",
       "\t4 & MU & 0.0 \\\\\n",
       "\t5 & INTC & 0.0 \\\\\n",
       "\t6 & SPY & 0.370628 \\\\\n",
       "\\end{tabular}\n"
      ],
      "text/plain": [
       "\u001b[1m6×2 DataFrame\u001b[0m\n",
       "\u001b[1m Row \u001b[0m│\u001b[1m ticker \u001b[0m\u001b[1m allocation \u001b[0m\n",
       "     │\u001b[90m String \u001b[0m\u001b[90m Float64    \u001b[0m\n",
       "─────┼────────────────────\n",
       "   1 │ PFE       0.183685\n",
       "   2 │ MRK       0.417142\n",
       "   3 │ AMD       0.028544\n",
       "   4 │ MU        0.0\n",
       "   5 │ INTC      0.0\n",
       "   6 │ SPY       0.370628"
      ]
     },
     "execution_count": 17,
     "metadata": {},
     "output_type": "execute_result"
    }
   ],
   "source": [
    "tmp_df = DataFrame();\n",
    "for i ∈ eachindex(w)\n",
    "    wᵢ = w[i];\n",
    "    row_df = (\n",
    "        ticker = my_list_of_tickers[i],\n",
    "        allocation = wᵢ\n",
    "    );\n",
    "    push!(tmp_df, row_df);\n",
    "end\n",
    "tmp_df"
   ]
  },
  {
   "cell_type": "markdown",
   "id": "998f6e63-cc2e-4af0-877e-3b4c3dcb401a",
   "metadata": {},
   "source": [
    "### Compute the number of shares of each asset in your initial portfolio"
   ]
  },
  {
   "cell_type": "markdown",
   "id": "fd58d6a3-275e-418d-a09a-74388f57c722",
   "metadata": {},
   "source": [
    "Get the `close` share price for each asset in the portfolio for the `startdate`. We'll store these values in the `Sₒ::Array{Float64,1}` variable:"
   ]
  },
  {
   "cell_type": "code",
   "execution_count": 18,
   "id": "0b50e1c9-2a84-4540-b784-a0e145220f32",
   "metadata": {
    "tags": []
   },
   "outputs": [],
   "source": [
    "Sₒ = Array{Float64,1}() # these are close prices at the end of Jan 3, 2023\n",
    "for ticker ∈ my_list_of_tickers\n",
    "    price_df = dataset[ticker];\n",
    "    startprice = filter(:timestamp => x-> x >= startdate, price_df) |> x-> x[1,:close] \n",
    "    push!(Sₒ,startprice)\n",
    "end"
   ]
  },
  {
   "cell_type": "markdown",
   "id": "5508b048-55bf-4c7a-8cdf-c8176c7a7c6b",
   "metadata": {},
   "source": [
    "Now that we have the `total_budget`, and the share price array `Sₒ`, we compute the number of shares of each asset that corresponds to the optimal allocation (the point in the efficient frontier) and store these values in the `Nₒ::Array{Float64,1}` variable (in this case, we allow for fractional shares):"
   ]
  },
  {
   "cell_type": "code",
   "execution_count": 19,
   "id": "fafe2da0-403c-41ee-961e-136b62badb74",
   "metadata": {
    "tags": []
   },
   "outputs": [
    {
     "data": {
      "text/plain": [
       "6-element Vector{Float64}:\n",
       " 4.9900842162455845\n",
       " 5.152445652173913\n",
       " 0.3092524377031419\n",
       " 0.0\n",
       " 0.0\n",
       " 1.0049838661568913"
      ]
     },
     "execution_count": 19,
     "metadata": {},
     "output_type": "execute_result"
    }
   ],
   "source": [
    "Nₒ = Array{Float64,1}()\n",
    "for i ∈ eachindex(w)\n",
    "    \n",
    "    wᵢ = w[i]\n",
    "    nᵢ = (wᵢ*total_initial_budget)/Sₒ[i];\n",
    "    push!(Nₒ,nᵢ)\n",
    "end\n",
    "Nₒ"
   ]
  },
  {
   "cell_type": "markdown",
   "id": "edfea004-7889-460a-b612-e70fb6d46c97",
   "metadata": {},
   "source": [
    "## Task 2: Reallocate your portfolio after the close every day\n",
    "In `task 2` we'll solve the Minimum Variance allocation problem to estimate the dollar fractions $\\omega_{i}$ for each portfolio component. We'll keep the covariance matrix $\\hat{\\Sigma}$ the same but update the `expected return` using current market data. In particular, suppose we update the expected return after each trading data using the update rule (incremental average):\n",
    "\n",
    "$$\n",
    "\\hat{\\mu}_{i,k} = \\hat{\\mu}_{i,k-1} + \\alpha\\cdot\\left(\\mu_{i,k}-\\hat{\\mu}_{i,k-1}\\right)\\qquad{i\\in\\mathcal{P}}\n",
    "$$\n",
    "\n",
    "where $\\hat{\\mu}_{i,k}$ denotes the estimated average return for asset $i$ at time $k$, $\\mu_{i,k}$ denotes the observed return for asset $i$ at time $k$ asset $i$ at time $k$, and $\\alpha\\geq{0}$ denotes the `learning rate` hyperparameter (you specify a value for this parameter). We'll initialize $\\hat{\\mu}_{i,k}$ using the historical expected value computed from the `2018` to `2022` data."
   ]
  },
  {
   "cell_type": "code",
   "execution_count": 20,
   "id": "554ab89b-b890-4e88-bcbe-4930c67e9b4e",
   "metadata": {
    "tags": []
   },
   "outputs": [],
   "source": [
    "number_of_trading_days = 724;"
   ]
  },
  {
   "cell_type": "code",
   "execution_count": 21,
   "id": "38fdd78d-62de-4543-8af8-af15713dfe44",
   "metadata": {
    "jupyter": {
     "source_hidden": true
    },
    "tags": []
   },
   "outputs": [],
   "source": [
    "# --- DO NOT CHANGE THIS BLOCK ----------------------------------------- #\n",
    "my_list_of_firm_ids = Array{Int64,1}();\n",
    "for ticker ∈ my_list_of_tickers\n",
    "    firm_index = findfirst(x->x==ticker, all_tickers);    \n",
    "    push!(my_list_of_firm_ids, firm_index)\n",
    "end\n",
    "# ---------------------------------------------------------------------- #\n",
    "\n",
    "# --- DO NOT CHANGE THIS BLOCK ----------------------------------------- #\n",
    "μ̂ = Array{Float64,1}();\n",
    "for firm_index ∈ my_list_of_firm_ids\n",
    "    push!(μ̂, μ[firm_index])\n",
    "end\n",
    "# ---------------------------------------------------------------------- #\n",
    "\n",
    "# --- DO NOT CHANGE THIS BLOCK FOR SIM  -------------------------------- #\n",
    "my_number_of_selected_firms = length(my_list_of_firm_ids)\n",
    "Σ̂ = Array{Float64,2}(undef, my_number_of_selected_firms, my_number_of_selected_firms);\n",
    "for i ∈ eachindex(my_list_of_firm_ids)\n",
    "    row_firm_index = my_list_of_firm_ids[i]\n",
    "    for j ∈ eachindex(my_list_of_firm_ids)\n",
    "        col_firm_index = my_list_of_firm_ids[j]\n",
    "        Σ̂[i,j] = Σ_sim[row_firm_index, col_firm_index]\n",
    "    end\n",
    "end\n",
    "# ---------------------------------------------------------------------- #"
   ]
  },
  {
   "cell_type": "markdown",
   "id": "ce8bdff6-3124-40e6-a93e-2f87452a0c15",
   "metadata": {},
   "source": [
    "`TODO`: Specify the learning rate parameter $\\alpha\\geq{0}$."
   ]
  },
  {
   "cell_type": "code",
   "execution_count": 22,
   "id": "92d5041a-4517-4593-ad29-3ca1d9b4cbdf",
   "metadata": {
    "tags": []
   },
   "outputs": [],
   "source": [
    "α = 0.01; # learning rate"
   ]
  },
  {
   "cell_type": "markdown",
   "id": "5f30cf00-ff71-41b5-9cd7-8a854cf67168",
   "metadata": {},
   "source": [
    "Build an instance of the `MyMarkowitzRiskyAssetOnlyPortfiolioChoiceProblem` type, using the `build(...)` method. Save the `sim` version of the problem in the `problem_risk_sim` variable:"
   ]
  },
  {
   "cell_type": "code",
   "execution_count": 23,
   "id": "68c561cc-cb33-431d-95a7-3c24ca0eab13",
   "metadata": {
    "tags": []
   },
   "outputs": [],
   "source": [
    "# setup the bounds\n",
    "number_of_firms = length(my_list_of_tickers);\n",
    "bounds = zeros(number_of_firms,2);\n",
    "bounds[:,2] .= 1.0;\n",
    "\n",
    "# build an inital problem instance (we'll update in the main simulation loop)\n",
    "problem_risk_sim = build(MyMarkowitzRiskyAssetOnlyPortfiolioChoiceProblem, (\n",
    "    Σ = Σ̂,\n",
    "    μ = μ̂,\n",
    "    bounds = bounds,\n",
    "    initial = w, # let start with the initial optimal allocation \n",
    "    R = 0.0\n",
    "));"
   ]
  },
  {
   "cell_type": "markdown",
   "id": "4a9b4e61-8d9e-4644-83e4-f10283f9c5c0",
   "metadata": {},
   "source": [
    "Next, construct a [Queue](https://en.wikipedia.org/wiki/Queue_(abstract_data_type)) data structure (exported by the [DataStructures.jl](https://juliacollections.github.io/DataStructures.jl/stable/stack_and_queue/) package, holding the `close` price of each asset in your portfolio, for each trading day we are considering. Store these values in the `next_market_day_close_queue` variable:"
   ]
  },
  {
   "cell_type": "code",
   "execution_count": 24,
   "id": "ba646adf-7d55-4688-9f92-f51658b43568",
   "metadata": {
    "tags": []
   },
   "outputs": [],
   "source": [
    "next_market_day_close_queue = Queue{Vector{Float64}}()\n",
    "for i ∈ 2:(number_of_trading_days + 1)\n",
    "    \n",
    "    price_array = Array{Float64,1}();\n",
    "    for ticker ∈ my_list_of_tickers\n",
    "        price_df = dataset[ticker];\n",
    "        startprice = filter(:timestamp => x-> x >= startdate, price_df) |> x-> x[i,:close] # get the close price starting *after* Jan 03, 2023\n",
    "        push!(price_array,startprice)\n",
    "    end\n",
    "    \n",
    "    # add the price array to the queue -\n",
    "    enqueue!(next_market_day_close_queue, price_array);\n",
    "end"
   ]
  },
  {
   "cell_type": "markdown",
   "id": "1adb1ca7-76d8-4b2b-875b-79a3f8fecfff",
   "metadata": {},
   "source": [
    "`TODO`: Specify the minimum desired return in the `minimum_desired_return` variable (as a multiple of the historical expected return of `SPY`):"
   ]
  },
  {
   "cell_type": "code",
   "execution_count": 25,
   "id": "c6ab4ad9-ff3b-4dc4-b18e-e4e561d90c56",
   "metadata": {
    "tags": []
   },
   "outputs": [
    {
     "data": {
      "text/plain": [
       "0.30542665060329033"
      ]
     },
     "execution_count": 25,
     "metadata": {},
     "output_type": "execute_result"
    }
   ],
   "source": [
    "minimum_desired_return = 3.5*r_SPY # multiple of expected SPY return"
   ]
  },
  {
   "cell_type": "markdown",
   "id": "0d10842d-ad2b-4efd-a6e2-61f2e229d2c7",
   "metadata": {},
   "source": [
    "#### Main simulation loop\n",
    "In this block of code, let's simulate the reallocation of our portfolio after the close of the market each day using a `while` loop. In particular,\n",
    "* First, `dequeue!(..)` a close price array from the `next_market_day_close_queue`; this gives us a `close` price for each asset in our portfolio at the end of the market day\n",
    "* Next, we calculate the observed annualized return for each asset at the end of the day; this is the $\\mu_{i,k}$ value we'll use to update the expected returns\n",
    "* Then, we calculate an updated value for the expected annualized return using the above mentioned incremental update rule. Once completed, we update the `problem_risk_sim` object and solve the MinVar allocation problem with the updated expected return values.\n",
    "* We then use the new optimal values for the dollar fractions $\\omega_{i}$ to reallocate the entire portfolio (we liquidate the portfolio and take the proceeds to purchase the appropriate asset mix).\n",
    "* Finally, we capture data from the loop and store this in the `my_results_df::DataFrame` variable"
   ]
  },
  {
   "cell_type": "markdown",
   "id": "b4250126-4d24-4631-b213-b729c873198c",
   "metadata": {},
   "source": [
    "`Modification`: Let's store the state $s$ and the actions $a$ of our `optimal agent,` so we can develop a policy $\\pi(s)$ by watching our `optimal agent.` \n",
    "* This is called `Imitation Learning,` and particularly `Behavioral cloning.` We copy what an expert does by watching them. For more information on this idea, [check out CS273b from Stanford](https://web.stanford.edu/class/cs237b/). \n",
    "* Let's implement the `policy` function $\\pi(s)$ as a dictionary that stores a `state tuple s` as its `keys` and action vector $a$ as the value. Let's keep this in the `policy` variable\n",
    "* We'll store a separate collection of the `states` and the `actions` so we can explore `policy` In both cases, we'll also implement these as dictionaries"
   ]
  },
  {
   "cell_type": "code",
   "execution_count": 26,
   "id": "7d03c38a-cfb0-4ac4-a93e-39babf3cc1d2",
   "metadata": {
    "tags": []
   },
   "outputs": [],
   "source": [
    "classes = [:buy,:sell,:hold];"
   ]
  },
  {
   "cell_type": "code",
   "execution_count": 27,
   "id": "d7d53190-3932-4407-ba8e-ad7f4f8d845d",
   "metadata": {
    "tags": []
   },
   "outputs": [],
   "source": [
    "# Initialize -\n",
    "policy = Dict{Tuple{Array{Float64,1},Array{Float64,1}},OneHotMatrix{UInt32, Vector{UInt32}}}();\n",
    "states = Dict{Int,Tuple{Array{Float64,1},Array{Float64,1}}}();\n",
    "actions = Dict{Int,OneHotMatrix{UInt32,Vector{UInt32}}}();\n",
    "previous_price_array = Sₒ\n",
    "μ̂_previous = μ̂\n",
    "N_previous = Nₒ\n",
    "Δt = (1/252);\n",
    "my_results_df = DataFrame();\n",
    "daycounter = 1;\n",
    "while (isempty(next_market_day_close_queue) == false)\n",
    "    \n",
    "    # what was the market vwap\n",
    "    current_price_array = dequeue!(next_market_day_close_queue); # holds the close price at the end of the trading day\n",
    "    \n",
    "    # compute the return -\n",
    "    asset_return_array = Array{Float64,1}();\n",
    "    for j ∈ eachindex(my_list_of_tickers)\n",
    "        tmp = (1/Δt)*log(current_price_array[j]/previous_price_array[j]);\n",
    "        push!(asset_return_array,tmp);\n",
    "    end\n",
    "    \n",
    "    # update the average return for each asset -\n",
    "    μ̂_new = μ̂_previous .+ α*(asset_return_array .- μ̂_previous);\n",
    "    \n",
    "    # build the state tuple -\n",
    "    state_tuple = (N_previous,μ̂_new);\n",
    "    states[daycounter] = state_tuple;\n",
    "    \n",
    "    # compute new allocation -\n",
    "    problem_risk_sim.μ = μ̂_new;\n",
    "    problem_risk_sim.R = minimum_desired_return;\n",
    "    \n",
    "    # compute -\n",
    "    solution_sim = solve(problem_risk_sim)\n",
    "\n",
    "    # check: did this converge?\n",
    "    w_new = w; # initialize to orginal portfolio -\n",
    "    risk_new = risk; # initialize to orginal portfolio -\n",
    "    status_flag = solution_sim[\"status\"];    \n",
    "    if (status_flag == MathOptInterface.LOCALLY_SOLVED)\n",
    "        w_new = solution_sim[\"argmax\"];\n",
    "        risk_new = sqrt(solution_sim[\"objective_value\"]);\n",
    "    end\n",
    "    \n",
    "    # liqudation value of the portfolio at the close of trading day i\n",
    "    liquidation_value_of_porfolio = dot(N_previous, current_price_array);\n",
    "    \n",
    "    # compute the number of shares for the new allocation -\n",
    "    N_new = Array{Float64,1}()\n",
    "    for i ∈ eachindex(w_new)\n",
    "        wᵢ = w_new[i]\n",
    "        nᵢ = (wᵢ*liquidation_value_of_porfolio)/current_price_array[i];\n",
    "        push!(N_new,nᵢ)\n",
    "    end\n",
    "    \n",
    "    # compute the recommended action (change in the number of shares)\n",
    "    dn = N_new .- N_previous; \n",
    "    moves = Array{Symbol,1}()\n",
    "    for i in eachindex(dn)\n",
    "        value = dn[i];\n",
    "         if (value ≥ 0.01)\n",
    "            push!(moves,:buy)\n",
    "        elseif (value ≤ -0.01)\n",
    "            push!(moves,:sell)\n",
    "        else\n",
    "           push!(moves,:hold)\n",
    "        end \n",
    "    end\n",
    "   \n",
    "    a = onehotbatch(moves, classes);\n",
    "    actions[daycounter] = a\n",
    "    policy[state_tuple] = a\n",
    "    \n",
    "    # store data -\n",
    "    results_tuple = (\n",
    "        N_new = N_new,\n",
    "        N_old = N_previous,\n",
    "        w_old = w,\n",
    "        w_new = w_new,\n",
    "        μ_previous = μ̂_previous,\n",
    "        μ_new = μ̂_new,\n",
    "        previous_close = previous_price_array,\n",
    "        current_close = current_price_array,\n",
    "        liquidation_value_of_porfolio = liquidation_value_of_porfolio,\n",
    "        risk = risk_new\n",
    "    );\n",
    "    push!(my_results_df,results_tuple)\n",
    "    \n",
    "    # update values -\n",
    "    μ̂_previous = μ̂_new;\n",
    "    previous_price_array = current_price_array;\n",
    "    N_previous = N_new;\n",
    "    \n",
    "    # update the daycounter -\n",
    "    daycounter += 1;\n",
    "end\n",
    "my_results_df;"
   ]
  },
  {
   "cell_type": "markdown",
   "id": "cdad29c1-67ee-49ed-9b4f-5130847e9e8e",
   "metadata": {},
   "source": [
    "### What does the `Q`, `states` and `actions` collections look like?"
   ]
  },
  {
   "cell_type": "code",
   "execution_count": 28,
   "id": "33af39f3-5611-4364-8210-86a5ceb57f9c",
   "metadata": {
    "tags": []
   },
   "outputs": [
    {
     "data": {
      "text/plain": [
       "Dict{Int64, Tuple{Vector{Float64}, Vector{Float64}}} with 724 entries:\n",
       "  719 => ([-3.32745e-7, -8.35878e-8, 4.08163, 2.87263, 10.8841, -1.68263e-8], […\n",
       "  699 => ([6.11533, 4.41339, 0.287562, 0.0, 0.0, 0.936689], [-0.442982, -0.0574…\n",
       "  319 => ([11.3418, 5.93843, 1.73385e-7, 2.42573e-7, 5.972e-7, 2.70393e-7], [0.…\n",
       "  687 => ([6.1735, 4.3101, 0.323912, 0.0, 0.0, 0.947662], [-0.490481, -0.068552…\n",
       "  185 => ([8.45982, -1.4585e-7, 5.02517, -1.44965e-7, -1.93781e-7, 0.537755], […\n",
       "  420 => ([4.07557, 4.95219, 0.358705, 0.0, 0.0, 0.967304], [-0.199043, 0.02149…\n",
       "  525 => ([-2.49332e-7, 1.01958, 11.4604, -1.66203e-7, -3.66302e-7, -2.52946e-8…\n",
       "  365 => ([3.84815, 4.9559, 0.329413, 0.0, 0.0, 0.995206], [-0.036862, 0.072967…\n",
       "  638 => ([-3.09779e-7, -8.39888e-8, 1.81939, -1.56978e-7, 6.60713e-8, 2.20593]…\n",
       "  263 => ([13.2298, 4.30499, 0.316555, 0.74137, 7.88556e-6, 0.210905], [0.38209…\n",
       "  422 => ([4.09711, 4.92674, 0.370101, 0.0, 0.0, 0.968096], [-0.171515, 0.03964…\n",
       "  242 => ([5.63143, 4.13673, 1.02204e-6, 1.66674e-6, 7.98532e-6, 1.42512], [0.7…\n",
       "  183 => ([14.2061, -1.48677e-7, 4.88768, -1.48666e-7, -2.00024e-7, 5.23188e-8]…\n",
       "  551 => ([4.78561, 4.0972, 0.361451, 0.0, 0.0, 0.998787], [-0.389479, 0.195489…\n",
       "  224 => ([7.47736, 2.9736, 0.209413, 1.53688e-6, 2.53978e-6, 1.31909], [0.4994…\n",
       "  694 => ([5.97589, 4.38438, 0.302024, 0.0, 0.0, 0.950703], [-0.383044, -0.0638…\n",
       "  692 => ([5.85004, 4.42537, 0.30793, 0.0, 0.0, 0.949146], [-0.376766, -0.10745…\n",
       "  177 => ([14.4021, 1.27425e-7, 3.3157, 5.14647e-8, 2.99409e-7, 0.324179], [0.2…\n",
       "  676 => ([4.46742e-7, 0.0558001, 9.02197e-7, 7.75192e-6, 16.6179, 1.18005], [-…\n",
       "  637 => ([-3.12428e-7, -8.2585e-8, 2.10082, -1.52508e-7, 2.21913e-7, 2.13285],…\n",
       "  523 => ([4.6508, 4.34233, 0.424687, 0.0, 0.0, 1.01949], [-0.229001, 0.264652,…\n",
       "  77  => ([5.1113, 5.76206, 0.371034, 0.0, 0.0, 0.956737], [0.140321, 0.0069050…\n",
       "  172 => ([11.2223, 1.24625e-6, 0.264013, 2.65203e-7, 7.44984e-7, 1.37004], [0.…\n",
       "  685 => ([6.17622, 4.31172, 0.32614, 0.0, 0.0, 0.946476], [-0.431358, -0.02347…\n",
       "  103 => ([5.06818, 5.89414, 0.375222, 0.0, 0.0, 0.938144], [0.104334, -0.04901…\n",
       "  ⋮   => ⋮"
      ]
     },
     "execution_count": 28,
     "metadata": {},
     "output_type": "execute_result"
    }
   ],
   "source": [
    "states"
   ]
  },
  {
   "cell_type": "code",
   "execution_count": 29,
   "id": "b7aa3391-fc2e-49fe-8c7c-6c3331e8b009",
   "metadata": {
    "tags": []
   },
   "outputs": [
    {
     "data": {
      "text/plain": [
       "3×6 OneHotMatrix(::Vector{UInt32}) with eltype Bool:\n",
       " ⋅  ⋅  1  1  ⋅  ⋅\n",
       " 1  1  ⋅  ⋅  ⋅  1\n",
       " ⋅  ⋅  ⋅  ⋅  1  ⋅"
      ]
     },
     "execution_count": 29,
     "metadata": {},
     "output_type": "execute_result"
    }
   ],
   "source": [
    "actions[1]"
   ]
  },
  {
   "cell_type": "code",
   "execution_count": 30,
   "id": "a5266b8d-9200-4e61-8615-1919a60dfac7",
   "metadata": {
    "tags": []
   },
   "outputs": [],
   "source": [
    "# dump this to disk so we can experiment w/the data -\n",
    "# save(joinpath(_PATH_TO_DATA, \"PolicyData-Testing-MinVar-Agent.jld2\"), \n",
    "#         Dict(\"policy\" => policy, \"states\" => states, \"actions\"=>actions))"
   ]
  },
  {
   "cell_type": "markdown",
   "id": "0fd3fcfc-52ce-4b11-b849-8e84be426315",
   "metadata": {},
   "source": [
    "### Ok, so we have a `policy` that we recorded from our `expert`, what now?\n",
    "Let's try to use [Deep Learning](https://www.deeplearningbook.org) to compute a policy function $\\pi_{\\theta}(s)$ using the [Flux.jl](https://fluxml.ai) machine learning package (loaded by the `Include.jl` file). First, let's build a `training` dataset from the `policy` function:"
   ]
  },
  {
   "cell_type": "code",
   "execution_count": 31,
   "id": "ac40b706-5fca-4f33-bf8a-530b9050b6db",
   "metadata": {
    "tags": []
   },
   "outputs": [
    {
     "ename": "LoadError",
     "evalue": "MethodError: no method matching Vector{Float32}(::OneHotMatrix{UInt32, Vector{UInt32}})\n\n\u001b[0mClosest candidates are:\n\u001b[0m  Array{T, N}(::AbstractArray{S, N}) where {T, N, S}\n\u001b[0m\u001b[90m   @\u001b[39m \u001b[90mBase\u001b[39m \u001b[90m\u001b[4marray.jl:621\u001b[24m\u001b[39m\n\u001b[0m  Vector{T}() where T\n\u001b[0m\u001b[90m   @\u001b[39m \u001b[90mCore\u001b[39m \u001b[90m\u001b[4mboot.jl:496\u001b[24m\u001b[39m\n\u001b[0m  Array{T, N}(\u001b[91m::FillArrays.AbstractOnes{V, N}\u001b[39m) where {T, V, N}\n\u001b[0m\u001b[90m   @\u001b[39m \u001b[35mFillArrays\u001b[39m \u001b[90m~/.julia/packages/FillArrays/2eiCe/src/\u001b[39m\u001b[90m\u001b[4mFillArrays.jl:527\u001b[24m\u001b[39m\n\u001b[0m  ...\n",
     "output_type": "error",
     "traceback": [
      "MethodError: no method matching Vector{Float32}(::OneHotMatrix{UInt32, Vector{UInt32}})\n\n\u001b[0mClosest candidates are:\n\u001b[0m  Array{T, N}(::AbstractArray{S, N}) where {T, N, S}\n\u001b[0m\u001b[90m   @\u001b[39m \u001b[90mBase\u001b[39m \u001b[90m\u001b[4marray.jl:621\u001b[24m\u001b[39m\n\u001b[0m  Vector{T}() where T\n\u001b[0m\u001b[90m   @\u001b[39m \u001b[90mCore\u001b[39m \u001b[90m\u001b[4mboot.jl:496\u001b[24m\u001b[39m\n\u001b[0m  Array{T, N}(\u001b[91m::FillArrays.AbstractOnes{V, N}\u001b[39m) where {T, V, N}\n\u001b[0m\u001b[90m   @\u001b[39m \u001b[35mFillArrays\u001b[39m \u001b[90m~/.julia/packages/FillArrays/2eiCe/src/\u001b[39m\u001b[90m\u001b[4mFillArrays.jl:527\u001b[24m\u001b[39m\n\u001b[0m  ...\n",
      "",
      "Stacktrace:",
      " [1] convert(#unused#::Type{Vector{Float32}}, a::OneHotMatrix{UInt32, Vector{UInt32}})",
      "   @ Base ./array.jl:613",
      " [2] cvt1",
      "   @ ./essentials.jl:418 [inlined]",
      " [3] ntuple",
      "   @ ./ntuple.jl:49 [inlined]",
      " [4] convert(#unused#::Type{Tuple{Vector{Float32}, Vector{Float32}}}, x::Tuple{Vector{Float64}, OneHotMatrix{UInt32, Vector{UInt32}}})",
      "   @ Base ./essentials.jl:419",
      " [5] push!(a::Vector{Tuple{Vector{Float32}, Vector{Float32}}}, item::Tuple{Vector{Float64}, OneHotMatrix{UInt32, Vector{UInt32}}})",
      "   @ Base ./array.jl:1060",
      " [6] top-level scope",
      "   @ ./In[31]:16"
     ]
    }
   ],
   "source": [
    "# initialize storage for labeled data for training -\n",
    "training_dataset = Vector{Tuple{Vector{Float32},Vector{Float32}}}()\n",
    "number_of_training_examples = length(policy);\n",
    "for (key,value) ∈ policy\n",
    "    \n",
    "    # get the state, put into a single vector -\n",
    "    single_state_vector = [key[1]...,key[2]...]\n",
    "    action_vector = value;\n",
    "    \n",
    "    # make a training tuple -\n",
    "    training_tuple = (\n",
    "        single_state_vector, action_vector\n",
    "    );\n",
    "    \n",
    "    # insert -\n",
    "    push!(training_dataset, training_tuple);\n",
    "    \n",
    "end"
   ]
  },
  {
   "cell_type": "code",
   "execution_count": 32,
   "id": "bd125301-e536-403e-9fc4-797b96b66527",
   "metadata": {
    "tags": []
   },
   "outputs": [
    {
     "ename": "LoadError",
     "evalue": "BoundsError: attempt to access 0-element Vector{Tuple{Vector{Float32}, Vector{Float32}}} at index [1]",
     "output_type": "error",
     "traceback": [
      "BoundsError: attempt to access 0-element Vector{Tuple{Vector{Float32}, Vector{Float32}}} at index [1]",
      "",
      "Stacktrace:",
      " [1] getindex(A::Vector{Tuple{Vector{Float32}, Vector{Float32}}}, i1::Int64)",
      "   @ Base ./essentials.jl:13",
      " [2] top-level scope",
      "   @ In[32]:1"
     ]
    }
   ],
   "source": [
    "length_of_states = length(training_dataset[1][1]);\n",
    "length_of_actions = length(training_dataset[1][2]);"
   ]
  },
  {
   "cell_type": "code",
   "execution_count": 33,
   "id": "59a245f1-bb39-4260-a9cc-5e9328d00143",
   "metadata": {
    "tags": []
   },
   "outputs": [
    {
     "ename": "LoadError",
     "evalue": "UndefVarError: `length_of_states` not defined",
     "output_type": "error",
     "traceback": [
      "UndefVarError: `length_of_states` not defined",
      "",
      "Stacktrace:",
      " [1] top-level scope",
      "   @ In[33]:2"
     ]
    }
   ],
   "source": [
    "# build the model -\n",
    "FFN_policy_model = Chain(Dense(length_of_states, 24, σ), Dense(24,48,σ), Dense(48,24,σ), Dense(24,24,σ), Dense(24, length_of_actions));"
   ]
  },
  {
   "cell_type": "markdown",
   "id": "fb8a2374-c725-4f6a-ae6d-7550fafee4c8",
   "metadata": {
    "tags": []
   },
   "source": [
    "We'll use a loss function $L(\\theta)$ of the form:\n",
    "\n",
    "$$\n",
    "L\\left(\\theta\\right) = \\frac{1}{n}\\sum_{i\\in\\mathcal{D}}(\\hat{y}_{i}\\left(\\theta\\right) - y_{i})^2\n",
    "$$\n",
    "\n",
    "where $\\hat{y}_{i}\\left(\\theta\\right)$ denotes the estimated output, $y_{i}$ denotes the measured output, and $n$ denotes the number of training examples supplied to the network."
   ]
  },
  {
   "cell_type": "code",
   "execution_count": 34,
   "id": "34ed7532-3ed1-4c01-9fdf-7feb0a67406c",
   "metadata": {
    "tags": []
   },
   "outputs": [],
   "source": [
    "# setup a loss function -\n",
    "# loss(x, y) = Flux.Losses.mse(FFN_policy_model(x), y; agg = mean);"
   ]
  },
  {
   "cell_type": "code",
   "execution_count": 35,
   "id": "32e0ce92-7f62-448f-be9d-fc9245280559",
   "metadata": {
    "tags": []
   },
   "outputs": [],
   "source": [
    "# # pointer to params -\n",
    "# θ = Flux.params(FFN_policy_model);"
   ]
  },
  {
   "cell_type": "markdown",
   "id": "eff71473-50e5-45c9-a685-17153ec84d26",
   "metadata": {},
   "source": [
    "Next, let's specify the optimization approach the we'll use to estimate the unknown model parameters $\\theta$. In particular, we'll use the [Momentum gradient descent algorithm](https://optimization.cbe.cornell.edu/index.php?title=Momentum): \n",
    "> Momentum is an extension to the gradient descent optimization algorithm that allows the search to build inertia in a direction in the search space and overcome the oscillations of noisy gradients and coast across flat spots of the search space"
   ]
  },
  {
   "cell_type": "code",
   "execution_count": 36,
   "id": "a0d65abc-47ea-41d4-8644-9c5a572707f9",
   "metadata": {
    "tags": []
   },
   "outputs": [],
   "source": [
    "# λ = 0.1;  # learning rate\n",
    "# β = 0.95; # momentum parameter\n",
    "# opt = Momentum(λ, β);"
   ]
  },
  {
   "cell_type": "markdown",
   "id": "824c2617-6730-43d3-a842-a99b4998a939",
   "metadata": {},
   "source": [
    "We'll specify the number of times we process the data (called an `epoch`) in the `number_of_epochs` variable. To run the gradient descent estimation algorithm, we'll call the `train!(...)` function exported by the [Flux.jl](https://fluxml.ai) package:"
   ]
  },
  {
   "cell_type": "code",
   "execution_count": 37,
   "id": "f6d54e86-21e9-4f90-983a-dc3f9788818b",
   "metadata": {
    "tags": []
   },
   "outputs": [],
   "source": [
    "# test_x, test_y = training_dataset[1][1], training_dataset[1][2]\n",
    "# number_of_epochs = 10000;\n",
    "# evalcb() = @show(loss(test_x, test_y))\n",
    "# throttled_cb = Flux.throttle(evalcb, 5)\n",
    "# for i = 1:number_of_epochs\n",
    "#     Flux.train!(loss, θ, training_dataset, opt, cb = throttled_cb)\n",
    "# end"
   ]
  },
  {
   "cell_type": "markdown",
   "id": "ef4512a3-2077-4270-8ed4-8932194f81f5",
   "metadata": {},
   "source": [
    "Now that we have the updated model parameter vector $\\theta$, we can run a forward prediction of the indifference curve by calling our model with an input vector. Let's store the predicted values in the `ŷ`  variable:"
   ]
  },
  {
   "cell_type": "code",
   "execution_count": 38,
   "id": "1dcd5adf-9e3a-4c00-9917-4e052e33e210",
   "metadata": {
    "tags": []
   },
   "outputs": [],
   "source": [
    "# index = 600\n",
    "# single_state_vector = [states[index][1]...,states[index][2]...] .|> x-> convert(Float32,x)\n",
    "# ŷ = FFN_policy_model(single_state_vector);"
   ]
  },
  {
   "cell_type": "code",
   "execution_count": 39,
   "id": "2a3a5fcc-9140-4e80-8aa1-fcb6f610a4c0",
   "metadata": {
    "tags": []
   },
   "outputs": [],
   "source": [
    "# [ŷ actions[index]]"
   ]
  },
  {
   "cell_type": "code",
   "execution_count": null,
   "id": "e0c97266-7d9b-4dae-b798-efeee1376332",
   "metadata": {},
   "outputs": [],
   "source": []
  },
  {
   "cell_type": "markdown",
   "id": "9dd8a1bf-315a-44e2-8f22-ae60f66738bd",
   "metadata": {},
   "source": [
    "## Task 3: Visualize and analyze the original and reallocated portfolios\n",
    "`Discussion`: Contrast the performance of the initial portfolio with the reallocated portfolio. Explain to each other what you believe is happening when we reallocate the portfolio\n",
    "* `Hint`: Check out the `share_volume_array` (after the plots), which holds the shares in the reallocated portfolio."
   ]
  },
  {
   "cell_type": "markdown",
   "id": "18476553-71eb-43bd-9dc5-e7a4cd88e238",
   "metadata": {
    "tags": []
   },
   "source": [
    "#### Original case"
   ]
  },
  {
   "cell_type": "code",
   "execution_count": 40,
   "id": "b6701dee-f673-46eb-a3df-14326d0fe1b5",
   "metadata": {
    "jupyter": {
     "source_hidden": true
    },
    "tags": []
   },
   "outputs": [],
   "source": [
    "portfolio_performance_array_original = Array{Float64,2}(undef, number_of_trading_days, length(w)+2)\n",
    "for i ∈ eachindex(my_list_of_tickers)\n",
    "    \n",
    "    ticker = my_list_of_tickers[i];\n",
    "    price_df = dataset[ticker];\n",
    "    ticker_data = filter(:timestamp => x-> x >= startdate, price_df)\n",
    "    nᵢ = Nₒ[i]\n",
    "    \n",
    "    for j ∈ 1:number_of_trading_days\n",
    "        portfolio_performance_array_original[j,i] = nᵢ*ticker_data[j+1,:close];\n",
    "    end\n",
    "end\n",
    "\n",
    "# total -\n",
    "for i ∈ 1:number_of_trading_days\n",
    "    portfolio_performance_array_original[i,end] = sum(portfolio_performance_array_original[i,1:end-2])\n",
    "end\n",
    "\n",
    "# compute the risk -\n",
    "for i ∈ 1:number_of_trading_days\n",
    "    data = portfolio_performance_array_original[i,1:end-2];\n",
    "    total = portfolio_performance_array_original[i,end];\n",
    "    w = (1/total)*data;\n",
    "    portfolio_performance_array_original[i,end-1] = transpose(w)*Σ̂*w |> sqrt\n",
    "end"
   ]
  },
  {
   "cell_type": "code",
   "execution_count": null,
   "id": "15c8dba0-14dd-46fb-9041-4c943e31e8ad",
   "metadata": {
    "tags": []
   },
   "outputs": [],
   "source": [
    "orignal_table_data = Array{Float64,2}(undef, number_of_trading_days, length(w)+3)\n",
    "for i ∈ 1:number_of_trading_days\n",
    "    orignal_table_data[i,1] = i\n",
    "    for j ∈ eachindex(my_list_of_tickers)\n",
    "        orignal_table_data[i,1+j] = portfolio_performance_array_original[i,j];\n",
    "    end\n",
    "    orignal_table_data[i,end-1] = portfolio_performance_array_original[i,end-1]\n",
    "    orignal_table_data[i,end] = portfolio_performance_array_original[i,end]\n",
    "end\n",
    "\n",
    "pretty_table(orignal_table_data, header=[\"index\",my_list_of_tickers...,\"risk (sqrt)\",\"total USD\"])"
   ]
  },
  {
   "cell_type": "markdown",
   "id": "b28aca28-65f8-4356-9f7b-536a8807633a",
   "metadata": {},
   "source": [
    "#### Reallocated case"
   ]
  },
  {
   "cell_type": "code",
   "execution_count": null,
   "id": "d3797a65-1f5c-47d8-9e7c-db6f9c941348",
   "metadata": {
    "tags": []
   },
   "outputs": [],
   "source": [
    "# Initialize -\n",
    "portfolio_performance_array_reallocate = Array{Float64,2}(undef, number_of_trading_days, length(w)+2)\n",
    "\n",
    "# values for each asset -\n",
    "for i ∈ 1:(number_of_trading_days)\n",
    "    \n",
    "    risk_new = my_results_df[i,:risk]\n",
    "    N_new = my_results_df[i,:N_new]\n",
    "    new_price = my_results_df[i,:current_close]\n",
    "    \n",
    "    for j ∈ eachindex(my_list_of_tickers)\n",
    "        portfolio_performance_array_reallocate[i,j] = N_new[j]*new_price[j] |> x-> round(x, digits=3) |> abs\n",
    "    end\n",
    "    \n",
    "    # compute the risk -\n",
    "    portfolio_performance_array_reallocate[i,end-1] = risk_new\n",
    "end\n",
    "\n",
    "# total -\n",
    "for i ∈ 1:number_of_trading_days\n",
    "    portfolio_performance_array_reallocate[i,end] = sum(portfolio_performance_array_reallocate[i,1:end-2])\n",
    "end\n",
    "\n",
    "# compute the initial risk -\n",
    "total = portfolio_performance_array_reallocate[1,end];\n",
    "data = portfolio_performance_array_reallocate[1,1:end-2];\n",
    "w = (1/total)*data\n",
    "portfolio_performance_array_reallocate[1,end-1] = transpose(w)*Σ̂*w |> sqrt;"
   ]
  },
  {
   "cell_type": "code",
   "execution_count": null,
   "id": "72fd0eb7-ecbc-4ce4-9b1a-0601ea7b6ce4",
   "metadata": {
    "tags": []
   },
   "outputs": [],
   "source": [
    "reallocate_table_data = Array{Float64,2}(undef, number_of_trading_days, length(w)+3)\n",
    "for i ∈ 1:number_of_trading_days\n",
    "    reallocate_table_data[i,1] = i\n",
    "    for j ∈ eachindex(my_list_of_tickers)\n",
    "        reallocate_table_data[i,1+j] = portfolio_performance_array_reallocate[i,j];\n",
    "    end\n",
    "    reallocate_table_data[i,end-1] = portfolio_performance_array_reallocate[i,end-1]\n",
    "    reallocate_table_data[i,end] = portfolio_performance_array_reallocate[i,end]\n",
    "end\n",
    "\n",
    "pretty_table(reallocate_table_data, header=[\"day\",my_list_of_tickers...,\"risk (sqrt)\",\"total USD\"])"
   ]
  },
  {
   "cell_type": "code",
   "execution_count": null,
   "id": "7472cec5-281a-40be-9dfa-26663592fca0",
   "metadata": {
    "tags": []
   },
   "outputs": [],
   "source": [
    "plot((1/portfolio_performance_array_original[1,end]).*portfolio_performance_array_original[:,end], \n",
    "    lw=3, c=:red, label=\"Portfolio $(portfolio_index) (actual)\")\n",
    "plot!((1/SPY_df[1,:volume_weighted_average_price]).*SPY_df[1:number_of_trading_days,:volume_weighted_average_price], lw=3, \n",
    "    c=:blue, label=\"SPY\")\n",
    "plot!((1/portfolio_performance_array_reallocate[1,end]).*portfolio_performance_array_reallocate[:,end], lw=3, \n",
    "    c=:green, label=\"Reallocate Portfolio $(portfolio_index) (actual)\")\n",
    "xlabel!(\"Trading Day Index (2023)\", fontsize=18)\n",
    "ylabel!(\"Wealth (USD)\", fontsize=18)"
   ]
  },
  {
   "cell_type": "markdown",
   "id": "02e61973-65e8-4b59-8027-fe1299c7d29a",
   "metadata": {},
   "source": [
    "### Compute `share_volume_array` "
   ]
  },
  {
   "cell_type": "code",
   "execution_count": null,
   "id": "282fea4c-250b-4628-9cb4-d75cd301f0cd",
   "metadata": {
    "tags": []
   },
   "outputs": [],
   "source": [
    "share_volume_array = Array{Float64,2}(undef, number_of_trading_days+1, length(w)+1)\n",
    "\n",
    "# initial (tday = 0)\n",
    "share_volume_array[1,1] = 0;\n",
    "for i ∈ eachindex(my_list_of_tickers)\n",
    "    share_volume_array[1,i+1] = Nₒ[i]\n",
    "end\n",
    "\n",
    "for i ∈ 1:number_of_trading_days\n",
    "    n_vector = my_results_df[i,:N_new]\n",
    "    share_volume_array[i+1,1] = i;\n",
    "    for j ∈ eachindex(n_vector)\n",
    "        share_volume_array[i+1,j+1] = n_vector[j] |> x-> round(x,digits=3) |> abs\n",
    "    end\n",
    "end\n",
    "header_data = Array{String,1}()\n",
    "push!(header_data,\"index\");\n",
    "[push!(header_data, ticker) for ticker ∈ my_list_of_tickers]\n",
    "pretty_table(share_volume_array, header=header_data)"
   ]
  },
  {
   "cell_type": "markdown",
   "id": "3d8f1ebd-a1bd-4190-a9b8-0d4ea9e6a4c4",
   "metadata": {},
   "source": [
    "## Disclaimer and Risks\n",
    "__This content is offered solely for training and  informational purposes__. No offer or solicitation to buy or sell securities or derivative products, or any investment or trading advice or strategy,  is made, given, or endorsed by the teaching team. \n",
    "\n",
    "__Trading involves risk__. Carefully review your financial situation before investing in securities, futures contracts, options, or commodity interests. Past performance, whether actual or indicated by historical tests of strategies, is no guarantee of future performance or success. Trading is generally inappropriate for someone with limited resources, investment or trading experience, or a low-risk tolerance.  Only risk capital that is not required for living expenses.\n",
    "\n",
    "__You are fully responsible for any investment or trading decisions you make__. Such decisions should be based solely on your evaluation of your financial circumstances, investment or trading objectives, risk tolerance, and liquidity needs."
   ]
  }
 ],
 "metadata": {
  "kernelspec": {
   "display_name": "Julia 1.9.3",
   "language": "julia",
   "name": "julia-1.9"
  },
  "language_info": {
   "file_extension": ".jl",
   "mimetype": "application/julia",
   "name": "julia",
   "version": "1.9.3"
  }
 },
 "nbformat": 4,
 "nbformat_minor": 5
}
