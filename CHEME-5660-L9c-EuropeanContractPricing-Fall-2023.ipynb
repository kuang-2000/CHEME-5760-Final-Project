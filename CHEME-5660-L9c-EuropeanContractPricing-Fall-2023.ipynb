{
 "cells": [
  {
   "cell_type": "markdown",
   "id": "bcc0b6df-54d8-4658-9662-e8c4cbf0d00e",
   "metadata": {},
   "source": [
    "## Example: Pricing of European Options Contracts\n",
    "Let's begin by computing the premium $\\mathcal{P}_{c}(K,S(0))$ the buyer must pay for a `call` contract. When early excersise is not allowed, the pricing formula is given by:\n",
    "\n",
    "$$\\mathcal{P}_{c}(K,S(0)) = \\mathbb{E}\\Bigl(\\mathcal{D}^{-1}_{T,0}(\\bar{r})\\cdot{V_{c}}(K,S(T))\\Bigr)$$\n",
    "\n",
    "which says the right (but not the obligation) to excercise the `call` contract is the expected value of the discounted future payoff from the contract. To compute the expectation, we simulate the future share price `T` days in the future using a [geometric Brownian motion](https://en.wikipedia.org/wiki/Geometric_Brownian_motion#:~:text=A%20geometric%20Brownian%20motion%20(GBM,a%20Wiener%20process)%20with%20drift.) model for the future share price:\n",
    "\n",
    "$$S(T) = S(0)\\cdot\\exp\\Biggl[\\left(\\bar{r}-\\frac{\\sigma^{2}}{2}\\right)\\cdot{T} + (\\sigma\\sqrt{T})\\cdot{Z_{t}(0,1)}\\Biggr]$$\n",
    "\n",
    "where we assume $S(0)$ is the share price today, $\\bar{r}$ denotes the risk-free rate (risk-neutral pricing), $\\sigma$ denotes share price volatility and `T` denotes the number of days until contract expiration. Once we have the $\\mathcal{P}_{c}(K,S(0))$ value, we can calculate (and visualize) the payoff, potential profit and breakeven values for the `call` contract.\n",
    "\n",
    "### Learning Objectives\n",
    "Let's consider an example: We have a European `call` that expires in `T = 365` days with a strike price `K = 60.0`. The current share price is `S(0)=60.0`. Assume a risk free rate of return of `5%` and a implied volatility of `10%`. The correct answer is $\\mathcal{P}_{c}(K,S(0))$ = 4.08 USD/share. \n",
    "\n",
    "Let's compute the European `call` premium using two appoaches:\n",
    "\n",
    "* Approach 1: Monte Carlo simulation of the share price by sampling the geometric Brownian motion model, and then explicitly calculating the expectation in the pricing relationship\n",
    "* Approach 2: Use the [Black–Scholes](https://en.wikipedia.org/wiki/Black–Scholes_model) pricing formula for a European `call` option"
   ]
  },
  {
   "cell_type": "markdown",
   "id": "9799a3d5-ad72-4d87-b4f9-a24c6c0a3cb9",
   "metadata": {},
   "source": [
    "## Setup"
   ]
  },
  {
   "cell_type": "code",
   "execution_count": 1,
   "id": "c63dcc9c-617f-485d-8b2e-681c8db6b5d8",
   "metadata": {
    "tags": []
   },
   "outputs": [
    {
     "name": "stderr",
     "output_type": "stream",
     "text": [
      "\u001b[32m\u001b[1m    Updating\u001b[22m\u001b[39m git-repo `https://github.com/varnerlab/VLQuantitativeFinancePackage.jl.git`\n",
      "\u001b[32m\u001b[1m   Resolving\u001b[22m\u001b[39m package versions...\n",
      "\u001b[32m\u001b[1m  No Changes\u001b[22m\u001b[39m to `~/Desktop/julia_work/CHEME-5660-Examples-F23/Project.toml`\n",
      "\u001b[32m\u001b[1m  No Changes\u001b[22m\u001b[39m to `~/Desktop/julia_work/CHEME-5660-Examples-F23/Manifest.toml`\n",
      "\u001b[32m\u001b[1m  Activating\u001b[22m\u001b[39m project at `~/Desktop/julia_work/CHEME-5660-Examples-F23`\n",
      "\u001b[32m\u001b[1m  No Changes\u001b[22m\u001b[39m to `~/Desktop/julia_work/CHEME-5660-Examples-F23/Project.toml`\n",
      "\u001b[32m\u001b[1m  No Changes\u001b[22m\u001b[39m to `~/Desktop/julia_work/CHEME-5660-Examples-F23/Manifest.toml`\n",
      "\u001b[32m\u001b[1m    Updating\u001b[22m\u001b[39m registry at `~/.julia/registries/General.toml`\n",
      "\u001b[32m\u001b[1m    Updating\u001b[22m\u001b[39m git-repo `https://github.com/varnerlab/VLQuantitativeFinancePackage.jl.git`\n",
      "\u001b[32m\u001b[1m  No Changes\u001b[22m\u001b[39m to `~/Desktop/julia_work/CHEME-5660-Examples-F23/Project.toml`\n",
      "\u001b[32m\u001b[1m  No Changes\u001b[22m\u001b[39m to `~/Desktop/julia_work/CHEME-5660-Examples-F23/Manifest.toml`\n"
     ]
    },
    {
     "data": {
      "text/plain": [
       "securityterm (generic function with 1 method)"
      ]
     },
     "execution_count": 1,
     "metadata": {},
     "output_type": "execute_result"
    }
   ],
   "source": [
    "include(\"Include.jl\");"
   ]
  },
  {
   "cell_type": "markdown",
   "id": "120910c2-4116-4790-9ce1-67cbdec36cd7",
   "metadata": {},
   "source": [
    "### Constants"
   ]
  },
  {
   "cell_type": "markdown",
   "id": "9d4ddd6a-c7c8-4475-a892-2c98b383d329",
   "metadata": {},
   "source": [
    "Define the problem parameters that are shared between the approaches:"
   ]
  },
  {
   "cell_type": "code",
   "execution_count": 2,
   "id": "9430a640-7d8b-4ace-babc-9b1e247d1433",
   "metadata": {
    "tags": []
   },
   "outputs": [],
   "source": [
    "Δt = (1.0/365.0);\n",
    "Sₒ = 60.0;\n",
    "K = 60.0;\n",
    "T = 365.0*Δt;\n",
    "r̄ = 0.05;\n",
    "σ̄ = 0.10;"
   ]
  },
  {
   "cell_type": "markdown",
   "id": "860a2757-4be6-4206-ab60-b8fda702d43d",
   "metadata": {},
   "source": [
    "## Approach 1: Monte Carlo estimate of European `call` contract price\n",
    "Let's build an instance of the `MyGeometricBrownianMotionEquityModel` type which holds the value for the price simulation using the `build(...)` method and store this instance in the `model` variable:"
   ]
  },
  {
   "cell_type": "code",
   "execution_count": 3,
   "id": "e2149ef1-d846-4298-aeb7-0c7c2284296e",
   "metadata": {
    "tags": []
   },
   "outputs": [],
   "source": [
    "model = build(MyGeometricBrownianMotionEquityModel, (\n",
    "        μ = r̄, σ = σ̄));"
   ]
  },
  {
   "cell_type": "markdown",
   "id": "452f82bb-29a1-4dff-bd3f-bb99b5ef1020",
   "metadata": {},
   "source": [
    "Next, we build an instance of the `MyEuropeanCallContractModel` type which holds the parameters for the `call` contract using the `build(...)` method. We store the contract model in the `call_contract_model` variable:"
   ]
  },
  {
   "cell_type": "code",
   "execution_count": 4,
   "id": "9fc3d4b7-e2ad-4b62-bb74-65c94438fbde",
   "metadata": {
    "tags": []
   },
   "outputs": [],
   "source": [
    "call_contract_model = build(MyEuropeanCallContractModel, (\n",
    "        K = K, IV = σ̄, DTE = T, sense = 1));"
   ]
  },
  {
   "cell_type": "markdown",
   "id": "24ee814d-90bf-45ec-8144-92f36fa7b860",
   "metadata": {},
   "source": [
    "We'll simulate the future share price at expiration $S(T)$ for different number of sample paths stored in the `number_of_samples` array:"
   ]
  },
  {
   "cell_type": "code",
   "execution_count": null,
   "id": "e7d40e7e-db7c-4478-bf52-948c7e12a4e1",
   "metadata": {},
   "outputs": [],
   "source": []
  }
 ],
 "metadata": {
  "kernelspec": {
   "display_name": "Julia 1.9.3",
   "language": "julia",
   "name": "julia-1.9"
  },
  "language_info": {
   "file_extension": ".jl",
   "mimetype": "application/julia",
   "name": "julia",
   "version": "1.9.3"
  }
 },
 "nbformat": 4,
 "nbformat_minor": 5
}
