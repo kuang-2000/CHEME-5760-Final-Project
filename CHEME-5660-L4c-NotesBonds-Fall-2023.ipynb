{
 "cells": [
  {
   "cell_type": "markdown",
   "id": "e6c976b0-d358-499d-9146-9cebba8ce5ab",
   "metadata": {},
   "source": [
    "## The Price of United States Treasury Notes and Bonds\n",
    "United States Treasury Notes or Bonds are a type of marketable fixed-income debt security that pays an investor a defined amount, called the face or par value, at the termination of the bill and periodic coupon payments during the lifetime of the note or bond.\n",
    "\n",
    "### Pricing\n",
    "A Treasury note (bond) with an effective yield $\\bar{r}$, $\\lambda$ coupon payments per year, and a term of `T`-years costs $V_{B}$ at auction.\n",
    "The price $V_{B}$ is the sum of the discounted future coupon payments $C$ and the face (par) value $V_{P}$ of the note (bond) such that the net present value (NPV) of the note (bond) is zero: \n",
    "\n",
    "\\begin{equation}\n",
    "\\text{NPV}(T,r) = -V_{B} + \\mathcal{D}^{-1}_{N,0}(\\bar{r})\\cdot{V_{P}}+C\\cdot\\sum_{j=1}^{\\lambda{T}}\\mathcal{D}_{j,0}^{-1}(\\bar{r}) = 0\n",
    "\\end{equation}\n",
    "\n",
    "or equivalently:\n",
    "\n",
    "\\begin{equation}\n",
    "V_{B}(T,\\bar{r},\\bar{c}) = \\mathcal{D}^{-1}_{N,0}(\\bar{r})\\cdot{V_{P}}+C\\cdot\\sum_{j=1}^{\\lambda{T}}\\mathcal{D}_{j,0}^{-1}(\\bar{r})\n",
    "\\end{equation}\n",
    "\n",
    "The term $\\mathcal{D}_{i,0}^{-1}(\\bar{r})$ is the inverse of the multistep discount factor for the period \n",
    "$0\\rightarrow{i}$, and $C=\\left(\\bar{c}/\\lambda\\right)\\cdot{V_{P}}$ denotes the coupon payment, \n",
    "where $\\bar{c}$ is the coupon rate, and $N = \\lambda{T}$ is the number of coupon payments. \n",
    "For notes (or bonds), the interest is typically compounded $\\lambda$-times per year. \n",
    "Thus, a typical discrete discount factor takes the form:\n",
    "\n",
    "$$\n",
    "\\mathcal{D}_{j,0}(\\bar{r}) = \\left(1+\\frac{\\bar{r}}{\\lambda}\\right)^{j}\n",
    "$$"
   ]
  },
  {
   "cell_type": "markdown",
   "id": "d974fa5e-8cb0-444d-a726-0ed15c08ab78",
   "metadata": {},
   "source": [
    "### Setup\n",
    "We load the [VLQuantitativeFinancePackage.jl](https://github.com/varnerlab/VLQuantitativeFinancePackage.jl) package, and several other external [Julia](https://julialang.org/downloads/https://julialang.org/downloads/) packages, as well as some helper code, by calling the [include(...)](https://docs.julialang.org/en/v1/manual/code-loading/https://docs.julialang.org/en/v1/manual/code-loading/) command on the file `Include.jl`:"
   ]
  },
  {
   "cell_type": "code",
   "execution_count": 1,
   "id": "fc270515-9fc3-4134-9093-7628986c4096",
   "metadata": {
    "tags": []
   },
   "outputs": [
    {
     "name": "stderr",
     "output_type": "stream",
     "text": [
      "\u001b[32m\u001b[1m    Updating\u001b[22m\u001b[39m git-repo `https://github.com/varnerlab/VLQuantitativeFinancePackage.jl.git`\n",
      "\u001b[32m\u001b[1m   Resolving\u001b[22m\u001b[39m package versions...\n",
      "\u001b[32m\u001b[1m    Updating\u001b[22m\u001b[39m `~/Desktop/julia_work/CHEME-5660-Examples-F23/Project.toml`\n",
      "  \u001b[90m[4119e0bf] \u001b[39m\u001b[93m~ VLQuantitativeFinancePackage v1.0.0-DEV `https://github.com/varnerlab/VLQuantitativeFinancePackage.jl.git#main` ⇒ v1.0.0-DEV `https://github.com/varnerlab/VLQuantitativeFinancePackage.jl.git#main`\u001b[39m\n",
      "\u001b[32m\u001b[1m    Updating\u001b[22m\u001b[39m `~/Desktop/julia_work/CHEME-5660-Examples-F23/Manifest.toml`\n",
      "  \u001b[90m[4119e0bf] \u001b[39m\u001b[93m~ VLQuantitativeFinancePackage v1.0.0-DEV `https://github.com/varnerlab/VLQuantitativeFinancePackage.jl.git#main` ⇒ v1.0.0-DEV `https://github.com/varnerlab/VLQuantitativeFinancePackage.jl.git#main`\u001b[39m\n",
      "  \u001b[90m[2702e6a9] \u001b[39m\u001b[92m+ EpollShim_jll v0.0.20230411+0\u001b[39m\n",
      "\u001b[32m\u001b[1mPrecompiling\u001b[22m\u001b[39m project...\n",
      "\u001b[32m  ✓ \u001b[39mVLQuantitativeFinancePackage\n",
      "  1 dependency successfully precompiled in 5 seconds. 229 already precompiled.\n"
     ]
    }
   ],
   "source": [
    "using Pkg\n",
    "Pkg.add(path=\"https://github.com/varnerlab/VLQuantitativeFinancePackage.jl.git\")"
   ]
  },
  {
   "cell_type": "code",
   "execution_count": 1,
   "id": "6d3c2807-225f-4493-92d5-84aaa79c5d3c",
   "metadata": {
    "tags": []
   },
   "outputs": [
    {
     "name": "stderr",
     "output_type": "stream",
     "text": [
      "\u001b[32m\u001b[1m  Activating\u001b[22m\u001b[39m project at `~/Desktop/julia_work/CHEME-5660-Examples-F23`\n",
      "\u001b[32m\u001b[1m  No Changes\u001b[22m\u001b[39m to `~/Desktop/julia_work/CHEME-5660-Examples-F23/Project.toml`\n",
      "\u001b[32m\u001b[1m  No Changes\u001b[22m\u001b[39m to `~/Desktop/julia_work/CHEME-5660-Examples-F23/Manifest.toml`\n",
      "\u001b[32m\u001b[1m    Updating\u001b[22m\u001b[39m registry at `~/.julia/registries/General.toml`\n",
      "\u001b[32m\u001b[1m    Updating\u001b[22m\u001b[39m git-repo `https://github.com/varnerlab/VLQuantitativeFinancePackage.jl.git`\n",
      "\u001b[32m\u001b[1m  No Changes\u001b[22m\u001b[39m to `~/Desktop/julia_work/CHEME-5660-Examples-F23/Project.toml`\n",
      "\u001b[32m\u001b[1m  No Changes\u001b[22m\u001b[39m to `~/Desktop/julia_work/CHEME-5660-Examples-F23/Manifest.toml`\n"
     ]
    }
   ],
   "source": [
    "include(\"Include.jl\");"
   ]
  },
  {
   "cell_type": "markdown",
   "id": "427ef55d-6751-4e50-8926-bb73fe92fd56",
   "metadata": {},
   "source": [
    "### Data\n",
    "We'll explore `T-note` and `T-bond` prices from United States Treasury auctions in `2022` and `2023` downloaded using the [Auction query functionality of TreasuryDirect.gov](https://www.treasurydirect.gov/auctions/auction-query/). We load the `CSV` dataset using the `MyTreasuryNotesAndBondsDataSet()` function, which returns the data as a `DataFrame`:"
   ]
  },
  {
   "cell_type": "code",
   "execution_count": 2,
   "id": "7fe47b66-1559-4a6a-b28b-30092c418794",
   "metadata": {
    "tags": []
   },
   "outputs": [
    {
     "data": {
      "text/html": [
       "<div><div style = \"float: left;\"><span>59×9 DataFrame</span></div><div style = \"float: right;\"><span style = \"font-style: italic;\">34 rows omitted</span></div><div style = \"clear: both;\"></div></div><div class = \"data-frame\" style = \"overflow-x: scroll;\"><table class = \"data-frame\" style = \"margin-bottom: 6px;\"><thead><tr class = \"header\"><th class = \"rowNumber\" style = \"font-weight: bold; text-align: right;\">Row</th><th style = \"text-align: left;\">CUSIP</th><th style = \"text-align: left;\">Security Type</th><th style = \"text-align: left;\">Security Term</th><th style = \"text-align: left;\">Auction Date</th><th style = \"text-align: left;\">Issue Date</th><th style = \"text-align: left;\">Maturity Date</th><th style = \"text-align: left;\">Price</th><th style = \"text-align: left;\">High Yield</th><th style = \"text-align: left;\">Interest Rate</th></tr><tr class = \"subheader headerLastRow\"><th class = \"rowNumber\" style = \"font-weight: bold; text-align: right;\"></th><th title = \"String15\" style = \"text-align: left;\">String15</th><th title = \"String7\" style = \"text-align: left;\">String7</th><th title = \"String7\" style = \"text-align: left;\">String7</th><th title = \"String15\" style = \"text-align: left;\">String15</th><th title = \"String15\" style = \"text-align: left;\">String15</th><th title = \"String15\" style = \"text-align: left;\">String15</th><th title = \"Float64\" style = \"text-align: left;\">Float64</th><th title = \"Float64\" style = \"text-align: left;\">Float64</th><th title = \"Float64\" style = \"text-align: left;\">Float64</th></tr></thead><tbody><tr><td class = \"rowNumber\" style = \"font-weight: bold; text-align: right;\">1</td><td style = \"text-align: left;\">91282CHW4</td><td style = \"text-align: left;\">Note</td><td style = \"text-align: left;\">7-Year</td><td style = \"text-align: left;\">08/29/2023</td><td style = \"text-align: left;\">08/31/2023</td><td style = \"text-align: left;\">08/31/2030</td><td style = \"text-align: right;\">99.4773</td><td style = \"text-align: right;\">0.04212</td><td style = \"text-align: right;\">0.04125</td></tr><tr><td class = \"rowNumber\" style = \"font-weight: bold; text-align: right;\">2</td><td style = \"text-align: left;\">91282CHV6</td><td style = \"text-align: left;\">Note</td><td style = \"text-align: left;\">2-Year</td><td style = \"text-align: left;\">08/28/2023</td><td style = \"text-align: left;\">08/31/2023</td><td style = \"text-align: left;\">08/31/2025</td><td style = \"text-align: right;\">99.9549</td><td style = \"text-align: right;\">0.05024</td><td style = \"text-align: right;\">0.05</td></tr><tr><td class = \"rowNumber\" style = \"font-weight: bold; text-align: right;\">3</td><td style = \"text-align: left;\">91282CHX2</td><td style = \"text-align: left;\">Note</td><td style = \"text-align: left;\">5-Year</td><td style = \"text-align: left;\">08/28/2023</td><td style = \"text-align: left;\">08/31/2023</td><td style = \"text-align: left;\">08/31/2028</td><td style = \"text-align: right;\">99.8889</td><td style = \"text-align: right;\">0.044</td><td style = \"text-align: right;\">0.04375</td></tr><tr><td class = \"rowNumber\" style = \"font-weight: bold; text-align: right;\">4</td><td style = \"text-align: left;\">912810TU2</td><td style = \"text-align: left;\">Bond</td><td style = \"text-align: left;\">20-Year</td><td style = \"text-align: left;\">08/23/2023</td><td style = \"text-align: left;\">08/31/2023</td><td style = \"text-align: left;\">08/15/2043</td><td style = \"text-align: right;\">98.3742</td><td style = \"text-align: right;\">0.04499</td><td style = \"text-align: right;\">0.04375</td></tr><tr><td class = \"rowNumber\" style = \"font-weight: bold; text-align: right;\">5</td><td style = \"text-align: left;\">912810TT5</td><td style = \"text-align: left;\">Bond</td><td style = \"text-align: left;\">30-Year</td><td style = \"text-align: left;\">08/10/2023</td><td style = \"text-align: left;\">08/15/2023</td><td style = \"text-align: left;\">08/15/2053</td><td style = \"text-align: right;\">98.9127</td><td style = \"text-align: right;\">0.04189</td><td style = \"text-align: right;\">0.04125</td></tr><tr><td class = \"rowNumber\" style = \"font-weight: bold; text-align: right;\">6</td><td style = \"text-align: left;\">91282CHT1</td><td style = \"text-align: left;\">Note</td><td style = \"text-align: left;\">10-Year</td><td style = \"text-align: left;\">08/09/2023</td><td style = \"text-align: left;\">08/15/2023</td><td style = \"text-align: left;\">08/15/2033</td><td style = \"text-align: right;\">98.9862</td><td style = \"text-align: right;\">0.03999</td><td style = \"text-align: right;\">0.03875</td></tr><tr><td class = \"rowNumber\" style = \"font-weight: bold; text-align: right;\">7</td><td style = \"text-align: left;\">91282CHU8</td><td style = \"text-align: left;\">Note</td><td style = \"text-align: left;\">3-Year</td><td style = \"text-align: left;\">08/08/2023</td><td style = \"text-align: left;\">08/15/2023</td><td style = \"text-align: left;\">08/15/2026</td><td style = \"text-align: right;\">99.936</td><td style = \"text-align: right;\">0.04398</td><td style = \"text-align: right;\">0.04375</td></tr><tr><td class = \"rowNumber\" style = \"font-weight: bold; text-align: right;\">8</td><td style = \"text-align: left;\">91282CHR5</td><td style = \"text-align: left;\">Note</td><td style = \"text-align: left;\">7-Year</td><td style = \"text-align: left;\">07/27/2023</td><td style = \"text-align: left;\">07/31/2023</td><td style = \"text-align: left;\">07/31/2030</td><td style = \"text-align: right;\">99.475</td><td style = \"text-align: right;\">0.04087</td><td style = \"text-align: right;\">0.04</td></tr><tr><td class = \"rowNumber\" style = \"font-weight: bold; text-align: right;\">9</td><td style = \"text-align: left;\">91282CHQ7</td><td style = \"text-align: left;\">Note</td><td style = \"text-align: left;\">5-Year</td><td style = \"text-align: left;\">07/25/2023</td><td style = \"text-align: left;\">07/31/2023</td><td style = \"text-align: left;\">07/31/2028</td><td style = \"text-align: right;\">99.7988</td><td style = \"text-align: right;\">0.0417</td><td style = \"text-align: right;\">0.04125</td></tr><tr><td class = \"rowNumber\" style = \"font-weight: bold; text-align: right;\">10</td><td style = \"text-align: left;\">91282CHN4</td><td style = \"text-align: left;\">Note</td><td style = \"text-align: left;\">2-Year</td><td style = \"text-align: left;\">07/24/2023</td><td style = \"text-align: left;\">07/31/2023</td><td style = \"text-align: left;\">07/31/2025</td><td style = \"text-align: right;\">99.8624</td><td style = \"text-align: right;\">0.04823</td><td style = \"text-align: right;\">0.0475</td></tr><tr><td class = \"rowNumber\" style = \"font-weight: bold; text-align: right;\">11</td><td style = \"text-align: left;\">91282CHP9</td><td style = \"text-align: left;\">Note</td><td style = \"text-align: left;\">10-Year</td><td style = \"text-align: left;\">07/20/2023</td><td style = \"text-align: left;\">07/31/2023</td><td style = \"text-align: left;\">07/15/2033</td><td style = \"text-align: right;\">99.0219</td><td style = \"text-align: right;\">0.01495</td><td style = \"text-align: right;\">0.01375</td></tr><tr><td class = \"rowNumber\" style = \"font-weight: bold; text-align: right;\">12</td><td style = \"text-align: left;\">91282CHM6</td><td style = \"text-align: left;\">Note</td><td style = \"text-align: left;\">3-Year</td><td style = \"text-align: left;\">07/11/2023</td><td style = \"text-align: left;\">07/17/2023</td><td style = \"text-align: left;\">07/15/2026</td><td style = \"text-align: right;\">99.9052</td><td style = \"text-align: right;\">0.04534</td><td style = \"text-align: right;\">0.045</td></tr><tr><td class = \"rowNumber\" style = \"font-weight: bold; text-align: right;\">13</td><td style = \"text-align: left;\">91282CHJ3</td><td style = \"text-align: left;\">Note</td><td style = \"text-align: left;\">7-Year</td><td style = \"text-align: left;\">06/28/2023</td><td style = \"text-align: left;\">06/30/2023</td><td style = \"text-align: left;\">06/30/2030</td><td style = \"text-align: right;\">99.4582</td><td style = \"text-align: right;\">0.03839</td><td style = \"text-align: right;\">0.0375</td></tr><tr><td style = \"text-align: right;\">&vellip;</td><td style = \"text-align: right;\">&vellip;</td><td style = \"text-align: right;\">&vellip;</td><td style = \"text-align: right;\">&vellip;</td><td style = \"text-align: right;\">&vellip;</td><td style = \"text-align: right;\">&vellip;</td><td style = \"text-align: right;\">&vellip;</td><td style = \"text-align: right;\">&vellip;</td><td style = \"text-align: right;\">&vellip;</td><td style = \"text-align: right;\">&vellip;</td></tr><tr><td class = \"rowNumber\" style = \"font-weight: bold; text-align: right;\">48</td><td style = \"text-align: left;\">91282CFY2</td><td style = \"text-align: left;\">Note</td><td style = \"text-align: left;\">7-Year</td><td style = \"text-align: left;\">11/22/2022</td><td style = \"text-align: left;\">11/30/2022</td><td style = \"text-align: left;\">11/30/2029</td><td style = \"text-align: right;\">99.9089</td><td style = \"text-align: right;\">0.0389</td><td style = \"text-align: right;\">0.03875</td></tr><tr><td class = \"rowNumber\" style = \"font-weight: bold; text-align: right;\">49</td><td style = \"text-align: left;\">91282CFX4</td><td style = \"text-align: left;\">Note</td><td style = \"text-align: left;\">2-Year</td><td style = \"text-align: left;\">11/21/2022</td><td style = \"text-align: left;\">11/30/2022</td><td style = \"text-align: left;\">11/30/2024</td><td style = \"text-align: right;\">99.9905</td><td style = \"text-align: right;\">0.04505</td><td style = \"text-align: right;\">0.045</td></tr><tr><td class = \"rowNumber\" style = \"font-weight: bold; text-align: right;\">50</td><td style = \"text-align: left;\">91282CFZ9</td><td style = \"text-align: left;\">Note</td><td style = \"text-align: left;\">5-Year</td><td style = \"text-align: left;\">11/21/2022</td><td style = \"text-align: left;\">11/30/2022</td><td style = \"text-align: left;\">11/30/2027</td><td style = \"text-align: right;\">99.5551</td><td style = \"text-align: right;\">0.03974</td><td style = \"text-align: right;\">0.03875</td></tr><tr><td class = \"rowNumber\" style = \"font-weight: bold; text-align: right;\">51</td><td style = \"text-align: left;\">912810TM0</td><td style = \"text-align: left;\">Bond</td><td style = \"text-align: left;\">20-Year</td><td style = \"text-align: left;\">11/16/2022</td><td style = \"text-align: left;\">11/30/2022</td><td style = \"text-align: left;\">11/15/2042</td><td style = \"text-align: right;\">99.0197</td><td style = \"text-align: right;\">0.04072</td><td style = \"text-align: right;\">0.04</td></tr><tr><td class = \"rowNumber\" style = \"font-weight: bold; text-align: right;\">52</td><td style = \"text-align: left;\">912810TL2</td><td style = \"text-align: left;\">Bond</td><td style = \"text-align: left;\">30-Year</td><td style = \"text-align: left;\">11/10/2022</td><td style = \"text-align: left;\">11/15/2022</td><td style = \"text-align: left;\">11/15/2052</td><td style = \"text-align: right;\">98.6229</td><td style = \"text-align: right;\">0.0408</td><td style = \"text-align: right;\">0.04</td></tr><tr><td class = \"rowNumber\" style = \"font-weight: bold; text-align: right;\">53</td><td style = \"text-align: left;\">91282CFV8</td><td style = \"text-align: left;\">Note</td><td style = \"text-align: left;\">10-Year</td><td style = \"text-align: left;\">11/09/2022</td><td style = \"text-align: left;\">11/15/2022</td><td style = \"text-align: left;\">11/15/2032</td><td style = \"text-align: right;\">99.8782</td><td style = \"text-align: right;\">0.0414</td><td style = \"text-align: right;\">0.04125</td></tr><tr><td class = \"rowNumber\" style = \"font-weight: bold; text-align: right;\">54</td><td style = \"text-align: left;\">91282CFW6</td><td style = \"text-align: left;\">Note</td><td style = \"text-align: left;\">3-Year</td><td style = \"text-align: left;\">11/08/2022</td><td style = \"text-align: left;\">11/15/2022</td><td style = \"text-align: left;\">11/15/2025</td><td style = \"text-align: right;\">99.7089</td><td style = \"text-align: right;\">0.04605</td><td style = \"text-align: right;\">0.045</td></tr><tr><td class = \"rowNumber\" style = \"font-weight: bold; text-align: right;\">55</td><td style = \"text-align: left;\">91282CFT3</td><td style = \"text-align: left;\">Note</td><td style = \"text-align: left;\">7-Year</td><td style = \"text-align: left;\">10/27/2022</td><td style = \"text-align: left;\">10/31/2022</td><td style = \"text-align: left;\">10/31/2029</td><td style = \"text-align: right;\">99.8367</td><td style = \"text-align: right;\">0.04027</td><td style = \"text-align: right;\">0.04</td></tr><tr><td class = \"rowNumber\" style = \"font-weight: bold; text-align: right;\">56</td><td style = \"text-align: left;\">91282CFU0</td><td style = \"text-align: left;\">Note</td><td style = \"text-align: left;\">5-Year</td><td style = \"text-align: left;\">10/26/2022</td><td style = \"text-align: left;\">10/31/2022</td><td style = \"text-align: left;\">10/31/2027</td><td style = \"text-align: right;\">99.7006</td><td style = \"text-align: right;\">0.04192</td><td style = \"text-align: right;\">0.04125</td></tr><tr><td class = \"rowNumber\" style = \"font-weight: bold; text-align: right;\">57</td><td style = \"text-align: left;\">91282CFQ9</td><td style = \"text-align: left;\">Note</td><td style = \"text-align: left;\">2-Year</td><td style = \"text-align: left;\">10/25/2022</td><td style = \"text-align: left;\">10/31/2022</td><td style = \"text-align: left;\">10/31/2024</td><td style = \"text-align: right;\">99.8391</td><td style = \"text-align: right;\">0.0446</td><td style = \"text-align: right;\">0.04375</td></tr><tr><td class = \"rowNumber\" style = \"font-weight: bold; text-align: right;\">58</td><td style = \"text-align: left;\">91282CFR7</td><td style = \"text-align: left;\">Note</td><td style = \"text-align: left;\">5-Year</td><td style = \"text-align: left;\">10/20/2022</td><td style = \"text-align: left;\">10/31/2022</td><td style = \"text-align: left;\">10/15/2027</td><td style = \"text-align: right;\">99.4754</td><td style = \"text-align: right;\">0.01732</td><td style = \"text-align: right;\">0.01625</td></tr><tr><td class = \"rowNumber\" style = \"font-weight: bold; text-align: right;\">59</td><td style = \"text-align: left;\">91282CFP1</td><td style = \"text-align: left;\">Note</td><td style = \"text-align: left;\">3-Year</td><td style = \"text-align: left;\">10/11/2022</td><td style = \"text-align: left;\">10/17/2022</td><td style = \"text-align: left;\">10/15/2025</td><td style = \"text-align: right;\">99.8104</td><td style = \"text-align: right;\">0.04318</td><td style = \"text-align: right;\">0.0425</td></tr></tbody></table></div>"
      ],
      "text/latex": [
       "\\begin{tabular}{r|ccccccc}\n",
       "\t& CUSIP & Security Type & Security Term & Auction Date & Issue Date & Maturity Date & \\\\\n",
       "\t\\hline\n",
       "\t& String15 & String7 & String7 & String15 & String15 & String15 & \\\\\n",
       "\t\\hline\n",
       "\t1 & 91282CHW4 & Note & 7-Year & 08/29/2023 & 08/31/2023 & 08/31/2030 & $\\dots$ \\\\\n",
       "\t2 & 91282CHV6 & Note & 2-Year & 08/28/2023 & 08/31/2023 & 08/31/2025 & $\\dots$ \\\\\n",
       "\t3 & 91282CHX2 & Note & 5-Year & 08/28/2023 & 08/31/2023 & 08/31/2028 & $\\dots$ \\\\\n",
       "\t4 & 912810TU2 & Bond & 20-Year & 08/23/2023 & 08/31/2023 & 08/15/2043 & $\\dots$ \\\\\n",
       "\t5 & 912810TT5 & Bond & 30-Year & 08/10/2023 & 08/15/2023 & 08/15/2053 & $\\dots$ \\\\\n",
       "\t6 & 91282CHT1 & Note & 10-Year & 08/09/2023 & 08/15/2023 & 08/15/2033 & $\\dots$ \\\\\n",
       "\t7 & 91282CHU8 & Note & 3-Year & 08/08/2023 & 08/15/2023 & 08/15/2026 & $\\dots$ \\\\\n",
       "\t8 & 91282CHR5 & Note & 7-Year & 07/27/2023 & 07/31/2023 & 07/31/2030 & $\\dots$ \\\\\n",
       "\t9 & 91282CHQ7 & Note & 5-Year & 07/25/2023 & 07/31/2023 & 07/31/2028 & $\\dots$ \\\\\n",
       "\t10 & 91282CHN4 & Note & 2-Year & 07/24/2023 & 07/31/2023 & 07/31/2025 & $\\dots$ \\\\\n",
       "\t11 & 91282CHP9 & Note & 10-Year & 07/20/2023 & 07/31/2023 & 07/15/2033 & $\\dots$ \\\\\n",
       "\t12 & 91282CHM6 & Note & 3-Year & 07/11/2023 & 07/17/2023 & 07/15/2026 & $\\dots$ \\\\\n",
       "\t13 & 91282CHJ3 & Note & 7-Year & 06/28/2023 & 06/30/2023 & 06/30/2030 & $\\dots$ \\\\\n",
       "\t14 & 91282CHK0 & Note & 5-Year & 06/27/2023 & 06/30/2023 & 06/30/2028 & $\\dots$ \\\\\n",
       "\t15 & 91282CHL8 & Note & 2-Year & 06/26/2023 & 06/30/2023 & 06/30/2025 & $\\dots$ \\\\\n",
       "\t16 & 91282CHH7 & Note & 3-Year & 06/12/2023 & 06/15/2023 & 06/15/2026 & $\\dots$ \\\\\n",
       "\t17 & 91282CHF1 & Note & 7-Year & 05/25/2023 & 05/31/2023 & 05/31/2030 & $\\dots$ \\\\\n",
       "\t18 & 91282CHE4 & Note & 5-Year & 05/24/2023 & 05/31/2023 & 05/31/2028 & $\\dots$ \\\\\n",
       "\t19 & 91282CHD6 & Note & 2-Year & 05/23/2023 & 05/31/2023 & 05/31/2025 & $\\dots$ \\\\\n",
       "\t20 & 912810TS7 & Bond & 20-Year & 05/17/2023 & 05/31/2023 & 05/15/2043 & $\\dots$ \\\\\n",
       "\t21 & 912810TR9 & Bond & 30-Year & 05/11/2023 & 05/15/2023 & 05/15/2053 & $\\dots$ \\\\\n",
       "\t22 & 91282CHC8 & Note & 10-Year & 05/10/2023 & 05/15/2023 & 05/15/2033 & $\\dots$ \\\\\n",
       "\t23 & 91282CHB0 & Note & 3-Year & 05/09/2023 & 05/15/2023 & 05/15/2026 & $\\dots$ \\\\\n",
       "\t24 & 91282CGZ8 & Note & 7-Year & 04/27/2023 & 05/01/2023 & 04/30/2030 & $\\dots$ \\\\\n",
       "\t25 & 91282CHA2 & Note & 5-Year & 04/26/2023 & 05/01/2023 & 04/30/2028 & $\\dots$ \\\\\n",
       "\t26 & 91282CGX3 & Note & 2-Year & 04/25/2023 & 05/01/2023 & 04/30/2025 & $\\dots$ \\\\\n",
       "\t27 & 91282CGV7 & Note & 3-Year & 04/11/2023 & 04/17/2023 & 04/15/2026 & $\\dots$ \\\\\n",
       "\t28 & 91282CGS4 & Note & 7-Year & 03/29/2023 & 03/31/2023 & 03/31/2030 & $\\dots$ \\\\\n",
       "\t29 & 91282CGT2 & Note & 5-Year & 03/28/2023 & 03/31/2023 & 03/31/2028 & $\\dots$ \\\\\n",
       "\t30 & 91282CGU9 & Note & 2-Year & 03/27/2023 & 03/31/2023 & 03/31/2025 & $\\dots$ \\\\\n",
       "\t$\\dots$ & $\\dots$ & $\\dots$ & $\\dots$ & $\\dots$ & $\\dots$ & $\\dots$ &  \\\\\n",
       "\\end{tabular}\n"
      ],
      "text/plain": [
       "\u001b[1m59×9 DataFrame\u001b[0m\n",
       "\u001b[1m Row \u001b[0m│\u001b[1m CUSIP     \u001b[0m\u001b[1m Security Type \u001b[0m\u001b[1m Security Term \u001b[0m\u001b[1m Auction Date \u001b[0m\u001b[1m Issue Date \u001b[0m\u001b[1m Matu\u001b[0m ⋯\n",
       "     │\u001b[90m String15  \u001b[0m\u001b[90m String7       \u001b[0m\u001b[90m String7       \u001b[0m\u001b[90m String15     \u001b[0m\u001b[90m String15   \u001b[0m\u001b[90m Stri\u001b[0m ⋯\n",
       "─────┼──────────────────────────────────────────────────────────────────────────\n",
       "   1 │ 91282CHW4  Note           7-Year         08/29/2023    08/31/2023  08/3 ⋯\n",
       "   2 │ 91282CHV6  Note           2-Year         08/28/2023    08/31/2023  08/3\n",
       "   3 │ 91282CHX2  Note           5-Year         08/28/2023    08/31/2023  08/3\n",
       "   4 │ 912810TU2  Bond           20-Year        08/23/2023    08/31/2023  08/1\n",
       "   5 │ 912810TT5  Bond           30-Year        08/10/2023    08/15/2023  08/1 ⋯\n",
       "   6 │ 91282CHT1  Note           10-Year        08/09/2023    08/15/2023  08/1\n",
       "   7 │ 91282CHU8  Note           3-Year         08/08/2023    08/15/2023  08/1\n",
       "   8 │ 91282CHR5  Note           7-Year         07/27/2023    07/31/2023  07/3\n",
       "   9 │ 91282CHQ7  Note           5-Year         07/25/2023    07/31/2023  07/3 ⋯\n",
       "  10 │ 91282CHN4  Note           2-Year         07/24/2023    07/31/2023  07/3\n",
       "  11 │ 91282CHP9  Note           10-Year        07/20/2023    07/31/2023  07/1\n",
       "  ⋮  │     ⋮            ⋮              ⋮             ⋮            ⋮            ⋱\n",
       "  50 │ 91282CFZ9  Note           5-Year         11/21/2022    11/30/2022  11/3\n",
       "  51 │ 912810TM0  Bond           20-Year        11/16/2022    11/30/2022  11/1 ⋯\n",
       "  52 │ 912810TL2  Bond           30-Year        11/10/2022    11/15/2022  11/1\n",
       "  53 │ 91282CFV8  Note           10-Year        11/09/2022    11/15/2022  11/1\n",
       "  54 │ 91282CFW6  Note           3-Year         11/08/2022    11/15/2022  11/1\n",
       "  55 │ 91282CFT3  Note           7-Year         10/27/2022    10/31/2022  10/3 ⋯\n",
       "  56 │ 91282CFU0  Note           5-Year         10/26/2022    10/31/2022  10/3\n",
       "  57 │ 91282CFQ9  Note           2-Year         10/25/2022    10/31/2022  10/3\n",
       "  58 │ 91282CFR7  Note           5-Year         10/20/2022    10/31/2022  10/1\n",
       "  59 │ 91282CFP1  Note           3-Year         10/11/2022    10/17/2022  10/1 ⋯\n",
       "\u001b[36m                                                   4 columns and 38 rows omitted\u001b[0m"
      ]
     },
     "execution_count": 2,
     "metadata": {},
     "output_type": "execute_result"
    }
   ],
   "source": [
    "dataset = MyTreasuryNotesAndBondsDataSet()"
   ]
  },
  {
   "cell_type": "markdown",
   "id": "da1e54d2-99a3-4aea-9281-cc8e9e060e8f",
   "metadata": {},
   "source": [
    "### Compute the price of `notes` and `bonds` at auction\n",
    "\n",
    "We begin by building a discounting model. In this case, let's construct an instance of the `DiscreteCompoundingModel()` type and store this discount model in the `discount_model` variable:"
   ]
  },
  {
   "cell_type": "code",
   "execution_count": 3,
   "id": "1380e8ea-bca9-4cbf-9585-0f621bb671cf",
   "metadata": {
    "tags": []
   },
   "outputs": [],
   "source": [
    "discount_model = DiscreteCompoundingModel();"
   ]
  },
  {
   "cell_type": "markdown",
   "id": "9ee7dc24-5e20-4112-8b7b-a5b827357503",
   "metadata": {
    "tags": []
   },
   "source": [
    "Next, we compute the price of treasury `notes` and `bonds` and compare the estimated cost with the price observed at auction. We process each entry in the `dataset` using a `for-loop`. During each iteration of the loop:\n",
    "\n",
    "* We get data from the `dataset` and update the model instance. In particular, we set the duration `T` field (which we convert to the number of years using the `securityterm` function), the yield field, i.e., the $\\bar{r}$ value in the discount rate, and coupon rate $c$.\n",
    "* Next, we compute the price of the `note (or bond)` on `L8` using the short-cut syntax and the discount model. \n",
    "* Finally, we calculate the percentage error between the estimated and observed price and store the data for each iteration in the `computed_price_table` DataFrame using the `push!(...)` function."
   ]
  },
  {
   "cell_type": "code",
   "execution_count": 4,
   "id": "73b53ad2-ec2d-4e01-aee9-b8b3c0bff0ae",
   "metadata": {
    "tags": []
   },
   "outputs": [
    {
     "data": {
      "text/html": [
       "<div><div style = \"float: left;\"><span>59×7 DataFrame</span></div><div style = \"float: right;\"><span style = \"font-style: italic;\">34 rows omitted</span></div><div style = \"clear: both;\"></div></div><div class = \"data-frame\" style = \"overflow-x: scroll;\"><table class = \"data-frame\" style = \"margin-bottom: 6px;\"><thead><tr class = \"header\"><th class = \"rowNumber\" style = \"font-weight: bold; text-align: right;\">Row</th><th style = \"text-align: left;\">CUSIP</th><th style = \"text-align: left;\">term</th><th style = \"text-align: left;\">rate</th><th style = \"text-align: left;\">coupon</th><th style = \"text-align: left;\">computed</th><th style = \"text-align: left;\">actual</th><th style = \"text-align: left;\">percent_error</th></tr><tr class = \"subheader headerLastRow\"><th class = \"rowNumber\" style = \"font-weight: bold; text-align: right;\"></th><th title = \"String15\" style = \"text-align: left;\">String15</th><th title = \"String7\" style = \"text-align: left;\">String7</th><th title = \"Float64\" style = \"text-align: left;\">Float64</th><th title = \"Float64\" style = \"text-align: left;\">Float64</th><th title = \"Float64\" style = \"text-align: left;\">Float64</th><th title = \"Float64\" style = \"text-align: left;\">Float64</th><th title = \"Float64\" style = \"text-align: left;\">Float64</th></tr></thead><tbody><tr><td class = \"rowNumber\" style = \"font-weight: bold; text-align: right;\">1</td><td style = \"text-align: left;\">91282CHW4</td><td style = \"text-align: left;\">7-Year</td><td style = \"text-align: right;\">4.212</td><td style = \"text-align: right;\">4.125</td><td style = \"text-align: right;\">99.4773</td><td style = \"text-align: right;\">99.4773</td><td style = \"text-align: right;\">3.59567e-7</td></tr><tr><td class = \"rowNumber\" style = \"font-weight: bold; text-align: right;\">2</td><td style = \"text-align: left;\">91282CHV6</td><td style = \"text-align: left;\">2-Year</td><td style = \"text-align: right;\">5.024</td><td style = \"text-align: right;\">5.0</td><td style = \"text-align: right;\">99.9549</td><td style = \"text-align: right;\">99.9549</td><td style = \"text-align: right;\">3.56315e-7</td></tr><tr><td class = \"rowNumber\" style = \"font-weight: bold; text-align: right;\">3</td><td style = \"text-align: left;\">91282CHX2</td><td style = \"text-align: left;\">5-Year</td><td style = \"text-align: right;\">4.4</td><td style = \"text-align: right;\">4.375</td><td style = \"text-align: right;\">99.8889</td><td style = \"text-align: right;\">99.8889</td><td style = \"text-align: right;\">3.89252e-7</td></tr><tr><td class = \"rowNumber\" style = \"font-weight: bold; text-align: right;\">4</td><td style = \"text-align: left;\">912810TU2</td><td style = \"text-align: left;\">20-Year</td><td style = \"text-align: right;\">4.499</td><td style = \"text-align: right;\">4.375</td><td style = \"text-align: right;\">98.3759</td><td style = \"text-align: right;\">98.3742</td><td style = \"text-align: right;\">0.00168543</td></tr><tr><td class = \"rowNumber\" style = \"font-weight: bold; text-align: right;\">5</td><td style = \"text-align: left;\">912810TT5</td><td style = \"text-align: left;\">30-Year</td><td style = \"text-align: right;\">4.189</td><td style = \"text-align: right;\">4.125</td><td style = \"text-align: right;\">98.9127</td><td style = \"text-align: right;\">98.9127</td><td style = \"text-align: right;\">2.72566e-7</td></tr><tr><td class = \"rowNumber\" style = \"font-weight: bold; text-align: right;\">6</td><td style = \"text-align: left;\">91282CHT1</td><td style = \"text-align: left;\">10-Year</td><td style = \"text-align: right;\">3.999</td><td style = \"text-align: right;\">3.875</td><td style = \"text-align: right;\">98.9862</td><td style = \"text-align: right;\">98.9862</td><td style = \"text-align: right;\">2.16414e-7</td></tr><tr><td class = \"rowNumber\" style = \"font-weight: bold; text-align: right;\">7</td><td style = \"text-align: left;\">91282CHU8</td><td style = \"text-align: left;\">3-Year</td><td style = \"text-align: right;\">4.398</td><td style = \"text-align: right;\">4.375</td><td style = \"text-align: right;\">99.936</td><td style = \"text-align: right;\">99.936</td><td style = \"text-align: right;\">7.11434e-8</td></tr><tr><td class = \"rowNumber\" style = \"font-weight: bold; text-align: right;\">8</td><td style = \"text-align: left;\">91282CHR5</td><td style = \"text-align: left;\">7-Year</td><td style = \"text-align: right;\">4.087</td><td style = \"text-align: right;\">4.0</td><td style = \"text-align: right;\">99.475</td><td style = \"text-align: right;\">99.475</td><td style = \"text-align: right;\">1.6564e-7</td></tr><tr><td class = \"rowNumber\" style = \"font-weight: bold; text-align: right;\">9</td><td style = \"text-align: left;\">91282CHQ7</td><td style = \"text-align: left;\">5-Year</td><td style = \"text-align: right;\">4.17</td><td style = \"text-align: right;\">4.125</td><td style = \"text-align: right;\">99.7988</td><td style = \"text-align: right;\">99.7988</td><td style = \"text-align: right;\">2.74693e-7</td></tr><tr><td class = \"rowNumber\" style = \"font-weight: bold; text-align: right;\">10</td><td style = \"text-align: left;\">91282CHN4</td><td style = \"text-align: left;\">2-Year</td><td style = \"text-align: right;\">4.823</td><td style = \"text-align: right;\">4.75</td><td style = \"text-align: right;\">99.8624</td><td style = \"text-align: right;\">99.8624</td><td style = \"text-align: right;\">2.96491e-7</td></tr><tr><td class = \"rowNumber\" style = \"font-weight: bold; text-align: right;\">11</td><td style = \"text-align: left;\">91282CHP9</td><td style = \"text-align: left;\">10-Year</td><td style = \"text-align: right;\">1.495</td><td style = \"text-align: right;\">1.375</td><td style = \"text-align: right;\">98.8892</td><td style = \"text-align: right;\">99.0219</td><td style = \"text-align: right;\">0.13411</td></tr><tr><td class = \"rowNumber\" style = \"font-weight: bold; text-align: right;\">12</td><td style = \"text-align: left;\">91282CHM6</td><td style = \"text-align: left;\">3-Year</td><td style = \"text-align: right;\">4.534</td><td style = \"text-align: right;\">4.5</td><td style = \"text-align: right;\">99.9056</td><td style = \"text-align: right;\">99.9052</td><td style = \"text-align: right;\">0.000379157</td></tr><tr><td class = \"rowNumber\" style = \"font-weight: bold; text-align: right;\">13</td><td style = \"text-align: left;\">91282CHJ3</td><td style = \"text-align: left;\">7-Year</td><td style = \"text-align: right;\">3.839</td><td style = \"text-align: right;\">3.75</td><td style = \"text-align: right;\">99.4582</td><td style = \"text-align: right;\">99.4582</td><td style = \"text-align: right;\">1.69474e-7</td></tr><tr><td style = \"text-align: right;\">&vellip;</td><td style = \"text-align: right;\">&vellip;</td><td style = \"text-align: right;\">&vellip;</td><td style = \"text-align: right;\">&vellip;</td><td style = \"text-align: right;\">&vellip;</td><td style = \"text-align: right;\">&vellip;</td><td style = \"text-align: right;\">&vellip;</td><td style = \"text-align: right;\">&vellip;</td></tr><tr><td class = \"rowNumber\" style = \"font-weight: bold; text-align: right;\">48</td><td style = \"text-align: left;\">91282CFY2</td><td style = \"text-align: left;\">7-Year</td><td style = \"text-align: right;\">3.89</td><td style = \"text-align: right;\">3.875</td><td style = \"text-align: right;\">99.9089</td><td style = \"text-align: right;\">99.9089</td><td style = \"text-align: right;\">3.15727e-7</td></tr><tr><td class = \"rowNumber\" style = \"font-weight: bold; text-align: right;\">49</td><td style = \"text-align: left;\">91282CFX4</td><td style = \"text-align: left;\">2-Year</td><td style = \"text-align: right;\">4.505</td><td style = \"text-align: right;\">4.5</td><td style = \"text-align: right;\">99.9905</td><td style = \"text-align: right;\">99.9905</td><td style = \"text-align: right;\">2.78662e-7</td></tr><tr><td class = \"rowNumber\" style = \"font-weight: bold; text-align: right;\">50</td><td style = \"text-align: left;\">91282CFZ9</td><td style = \"text-align: left;\">5-Year</td><td style = \"text-align: right;\">3.974</td><td style = \"text-align: right;\">3.875</td><td style = \"text-align: right;\">99.5551</td><td style = \"text-align: right;\">99.5551</td><td style = \"text-align: right;\">4.61927e-7</td></tr><tr><td class = \"rowNumber\" style = \"font-weight: bold; text-align: right;\">51</td><td style = \"text-align: left;\">912810TM0</td><td style = \"text-align: left;\">20-Year</td><td style = \"text-align: right;\">4.072</td><td style = \"text-align: right;\">4.0</td><td style = \"text-align: right;\">99.0214</td><td style = \"text-align: right;\">99.0197</td><td style = \"text-align: right;\">0.00174791</td></tr><tr><td class = \"rowNumber\" style = \"font-weight: bold; text-align: right;\">52</td><td style = \"text-align: left;\">912810TL2</td><td style = \"text-align: left;\">30-Year</td><td style = \"text-align: right;\">4.08</td><td style = \"text-align: right;\">4.0</td><td style = \"text-align: right;\">98.6229</td><td style = \"text-align: right;\">98.6229</td><td style = \"text-align: right;\">3.44063e-7</td></tr><tr><td class = \"rowNumber\" style = \"font-weight: bold; text-align: right;\">53</td><td style = \"text-align: left;\">91282CFV8</td><td style = \"text-align: left;\">10-Year</td><td style = \"text-align: right;\">4.14</td><td style = \"text-align: right;\">4.125</td><td style = \"text-align: right;\">99.8782</td><td style = \"text-align: right;\">99.8782</td><td style = \"text-align: right;\">3.4181e-7</td></tr><tr><td class = \"rowNumber\" style = \"font-weight: bold; text-align: right;\">54</td><td style = \"text-align: left;\">91282CFW6</td><td style = \"text-align: left;\">3-Year</td><td style = \"text-align: right;\">4.605</td><td style = \"text-align: right;\">4.5</td><td style = \"text-align: right;\">99.7089</td><td style = \"text-align: right;\">99.7089</td><td style = \"text-align: right;\">4.01493e-7</td></tr><tr><td class = \"rowNumber\" style = \"font-weight: bold; text-align: right;\">55</td><td style = \"text-align: left;\">91282CFT3</td><td style = \"text-align: left;\">7-Year</td><td style = \"text-align: right;\">4.027</td><td style = \"text-align: right;\">4.0</td><td style = \"text-align: right;\">99.8367</td><td style = \"text-align: right;\">99.8367</td><td style = \"text-align: right;\">1.84983e-7</td></tr><tr><td class = \"rowNumber\" style = \"font-weight: bold; text-align: right;\">56</td><td style = \"text-align: left;\">91282CFU0</td><td style = \"text-align: left;\">5-Year</td><td style = \"text-align: right;\">4.192</td><td style = \"text-align: right;\">4.125</td><td style = \"text-align: right;\">99.7006</td><td style = \"text-align: right;\">99.7006</td><td style = \"text-align: right;\">2.62547e-7</td></tr><tr><td class = \"rowNumber\" style = \"font-weight: bold; text-align: right;\">57</td><td style = \"text-align: left;\">91282CFQ9</td><td style = \"text-align: left;\">2-Year</td><td style = \"text-align: right;\">4.46</td><td style = \"text-align: right;\">4.375</td><td style = \"text-align: right;\">99.8391</td><td style = \"text-align: right;\">99.8391</td><td style = \"text-align: right;\">2.70693e-7</td></tr><tr><td class = \"rowNumber\" style = \"font-weight: bold; text-align: right;\">58</td><td style = \"text-align: left;\">91282CFR7</td><td style = \"text-align: left;\">5-Year</td><td style = \"text-align: right;\">1.732</td><td style = \"text-align: right;\">1.625</td><td style = \"text-align: right;\">99.4896</td><td style = \"text-align: right;\">99.4754</td><td style = \"text-align: right;\">0.0142614</td></tr><tr><td class = \"rowNumber\" style = \"font-weight: bold; text-align: right;\">59</td><td style = \"text-align: left;\">91282CFP1</td><td style = \"text-align: left;\">3-Year</td><td style = \"text-align: right;\">4.318</td><td style = \"text-align: right;\">4.25</td><td style = \"text-align: right;\">99.8106</td><td style = \"text-align: right;\">99.8104</td><td style = \"text-align: right;\">0.000167392</td></tr></tbody></table></div>"
      ],
      "text/latex": [
       "\\begin{tabular}{r|ccccccc}\n",
       "\t& CUSIP & term & rate & coupon & computed & actual & percent\\_error\\\\\n",
       "\t\\hline\n",
       "\t& String15 & String7 & Float64 & Float64 & Float64 & Float64 & Float64\\\\\n",
       "\t\\hline\n",
       "\t1 & 91282CHW4 & 7-Year & 4.212 & 4.125 & 99.4773 & 99.4773 & 3.59567e-7 \\\\\n",
       "\t2 & 91282CHV6 & 2-Year & 5.024 & 5.0 & 99.9549 & 99.9549 & 3.56315e-7 \\\\\n",
       "\t3 & 91282CHX2 & 5-Year & 4.4 & 4.375 & 99.8889 & 99.8889 & 3.89252e-7 \\\\\n",
       "\t4 & 912810TU2 & 20-Year & 4.499 & 4.375 & 98.3759 & 98.3742 & 0.00168543 \\\\\n",
       "\t5 & 912810TT5 & 30-Year & 4.189 & 4.125 & 98.9127 & 98.9127 & 2.72566e-7 \\\\\n",
       "\t6 & 91282CHT1 & 10-Year & 3.999 & 3.875 & 98.9862 & 98.9862 & 2.16414e-7 \\\\\n",
       "\t7 & 91282CHU8 & 3-Year & 4.398 & 4.375 & 99.936 & 99.936 & 7.11434e-8 \\\\\n",
       "\t8 & 91282CHR5 & 7-Year & 4.087 & 4.0 & 99.475 & 99.475 & 1.6564e-7 \\\\\n",
       "\t9 & 91282CHQ7 & 5-Year & 4.17 & 4.125 & 99.7988 & 99.7988 & 2.74693e-7 \\\\\n",
       "\t10 & 91282CHN4 & 2-Year & 4.823 & 4.75 & 99.8624 & 99.8624 & 2.96491e-7 \\\\\n",
       "\t11 & 91282CHP9 & 10-Year & 1.495 & 1.375 & 98.8892 & 99.0219 & 0.13411 \\\\\n",
       "\t12 & 91282CHM6 & 3-Year & 4.534 & 4.5 & 99.9056 & 99.9052 & 0.000379157 \\\\\n",
       "\t13 & 91282CHJ3 & 7-Year & 3.839 & 3.75 & 99.4582 & 99.4582 & 1.69474e-7 \\\\\n",
       "\t14 & 91282CHK0 & 5-Year & 4.019 & 4.0 & 99.9147 & 99.9147 & 1.57801e-7 \\\\\n",
       "\t15 & 91282CHL8 & 2-Year & 4.67 & 4.625 & 99.915 & 99.915 & 6.36863e-8 \\\\\n",
       "\t16 & 91282CHH7 & 3-Year & 4.202 & 4.125 & 99.7851 & 99.7851 & 5.25274e-8 \\\\\n",
       "\t17 & 91282CHF1 & 7-Year & 3.827 & 3.75 & 99.5311 & 99.5311 & 3.82533e-7 \\\\\n",
       "\t18 & 91282CHE4 & 5-Year & 3.749 & 3.625 & 99.4394 & 99.4394 & 3.92029e-8 \\\\\n",
       "\t19 & 91282CHD6 & 2-Year & 4.3 & 4.25 & 99.9052 & 99.9052 & 2.8156e-7 \\\\\n",
       "\t20 & 912810TS7 & 20-Year & 3.954 & 3.875 & 98.9151 & 98.9136 & 0.001461 \\\\\n",
       "\t21 & 912810TR9 & 30-Year & 3.741 & 3.625 & 97.9191 & 97.9191 & 1.11294e-7 \\\\\n",
       "\t22 & 91282CHC8 & 10-Year & 3.448 & 3.375 & 99.387 & 99.387 & 3.27417e-7 \\\\\n",
       "\t23 & 91282CHB0 & 3-Year & 3.695 & 3.625 & 99.8029 & 99.8029 & 5.77428e-8 \\\\\n",
       "\t24 & 91282CGZ8 & 7-Year & 3.563 & 3.5 & 99.6127 & 99.6127 & 3.49223e-5 \\\\\n",
       "\t25 & 91282CHA2 & 5-Year & 3.5 & 3.5 & 100.0 & 99.9998 & 0.000163 \\\\\n",
       "\t26 & 91282CGX3 & 2-Year & 3.969 & 3.875 & 99.821 & 99.821 & 2.76341e-5 \\\\\n",
       "\t27 & 91282CGV7 & 3-Year & 3.81 & 3.75 & 99.8314 & 99.8313 & 9.21494e-5 \\\\\n",
       "\t28 & 91282CGS4 & 7-Year & 3.626 & 3.625 & 99.9939 & 99.9939 & 4.43841e-7 \\\\\n",
       "\t29 & 91282CGT2 & 5-Year & 3.665 & 3.625 & 99.8188 & 99.8188 & 3.65004e-7 \\\\\n",
       "\t30 & 91282CGU9 & 2-Year & 3.954 & 3.875 & 99.8495 & 99.8495 & 2.69568e-7 \\\\\n",
       "\t$\\dots$ & $\\dots$ & $\\dots$ & $\\dots$ & $\\dots$ & $\\dots$ & $\\dots$ & $\\dots$ \\\\\n",
       "\\end{tabular}\n"
      ],
      "text/plain": [
       "\u001b[1m59×7 DataFrame\u001b[0m\n",
       "\u001b[1m Row \u001b[0m│\u001b[1m CUSIP     \u001b[0m\u001b[1m term    \u001b[0m\u001b[1m rate    \u001b[0m\u001b[1m coupon  \u001b[0m\u001b[1m computed \u001b[0m\u001b[1m actual  \u001b[0m\u001b[1m percent_error \u001b[0m\n",
       "     │\u001b[90m String15  \u001b[0m\u001b[90m String7 \u001b[0m\u001b[90m Float64 \u001b[0m\u001b[90m Float64 \u001b[0m\u001b[90m Float64  \u001b[0m\u001b[90m Float64 \u001b[0m\u001b[90m Float64       \u001b[0m\n",
       "─────┼────────────────────────────────────────────────────────────────────────\n",
       "   1 │ 91282CHW4  7-Year     4.212    4.125   99.4773  99.4773    3.59567e-7\n",
       "   2 │ 91282CHV6  2-Year     5.024    5.0     99.9549  99.9549    3.56315e-7\n",
       "   3 │ 91282CHX2  5-Year     4.4      4.375   99.8889  99.8889    3.89252e-7\n",
       "   4 │ 912810TU2  20-Year    4.499    4.375   98.3759  98.3742    0.00168543\n",
       "   5 │ 912810TT5  30-Year    4.189    4.125   98.9127  98.9127    2.72566e-7\n",
       "   6 │ 91282CHT1  10-Year    3.999    3.875   98.9862  98.9862    2.16414e-7\n",
       "   7 │ 91282CHU8  3-Year     4.398    4.375   99.936   99.936     7.11434e-8\n",
       "   8 │ 91282CHR5  7-Year     4.087    4.0     99.475   99.475     1.6564e-7\n",
       "   9 │ 91282CHQ7  5-Year     4.17     4.125   99.7988  99.7988    2.74693e-7\n",
       "  10 │ 91282CHN4  2-Year     4.823    4.75    99.8624  99.8624    2.96491e-7\n",
       "  11 │ 91282CHP9  10-Year    1.495    1.375   98.8892  99.0219    0.13411\n",
       "  ⋮  │     ⋮         ⋮        ⋮        ⋮        ⋮         ⋮           ⋮\n",
       "  50 │ 91282CFZ9  5-Year     3.974    3.875   99.5551  99.5551    4.61927e-7\n",
       "  51 │ 912810TM0  20-Year    4.072    4.0     99.0214  99.0197    0.00174791\n",
       "  52 │ 912810TL2  30-Year    4.08     4.0     98.6229  98.6229    3.44063e-7\n",
       "  53 │ 91282CFV8  10-Year    4.14     4.125   99.8782  99.8782    3.4181e-7\n",
       "  54 │ 91282CFW6  3-Year     4.605    4.5     99.7089  99.7089    4.01493e-7\n",
       "  55 │ 91282CFT3  7-Year     4.027    4.0     99.8367  99.8367    1.84983e-7\n",
       "  56 │ 91282CFU0  5-Year     4.192    4.125   99.7006  99.7006    2.62547e-7\n",
       "  57 │ 91282CFQ9  2-Year     4.46     4.375   99.8391  99.8391    2.70693e-7\n",
       "  58 │ 91282CFR7  5-Year     1.732    1.625   99.4896  99.4754    0.0142614\n",
       "  59 │ 91282CFP1  3-Year     4.318    4.25    99.8106  99.8104    0.000167392\n",
       "\u001b[36m                                                               38 rows omitted\u001b[0m"
      ]
     },
     "execution_count": 4,
     "metadata": {},
     "output_type": "execute_result"
    }
   ],
   "source": [
    "number_of_securities = nrow(dataset);\n",
    "computed_price_table = DataFrame();\n",
    "for i ∈ 1:number_of_securities\n",
    "    \n",
    "    T = dataset[i, Symbol(\"Security Term\")] |> String |> securityterm;\n",
    "    r̄ = dataset[i, Symbol(\"High Yield\")]\n",
    "    c = dataset[i, Symbol(\"Interest Rate\")]\n",
    "    model = build(MyUSTreasuryCouponSecurityModel, (\n",
    "            par = 100.0, T = T, rate = r̄, coupon = c, λ = 2\n",
    "        )) |> discount_model;\n",
    "       \n",
    "    \n",
    "    VB = dataset[i, :Price];\n",
    "    price_computed = model.price\n",
    "    error = 100*abs((VB - price_computed)/(price_computed));\n",
    "    \n",
    "    results_tuple = (\n",
    "        CUSIP = dataset[i, :CUSIP],\n",
    "        term = dataset[i, Symbol(\"Security Term\")],\n",
    "        rate = r̄*100,\n",
    "        coupon = c*100,\n",
    "        computed =  price_computed,\n",
    "        actual = VB,\n",
    "        percent_error = error\n",
    "    );\n",
    "    \n",
    "    push!(computed_price_table, results_tuple)\n",
    "end\n",
    "computed_price_table"
   ]
  },
  {
   "cell_type": "markdown",
   "id": "ed49487c-e342-4f82-ac5b-4c1cceb6a78c",
   "metadata": {},
   "source": [
    "#### Error analysis"
   ]
  },
  {
   "cell_type": "code",
   "execution_count": 5,
   "id": "22204f4f-276a-4c48-ae92-5ca1977b2570",
   "metadata": {
    "tags": []
   },
   "outputs": [
    {
     "name": "stdout",
     "output_type": "stream",
     "text": [
      "The maximum error 0.1341-percent occured for the security at index 11\n"
     ]
    }
   ],
   "source": [
    "max_value = maximum(computed_price_table[:,:percent_error]) |> x-> round(x,digits=4);\n",
    "max_index = argmax(computed_price_table[:,:percent_error]);\n",
    "println(\"The maximum error $(max_value)-percent occured for the security at index $(max_index)\")"
   ]
  },
  {
   "cell_type": "code",
   "execution_count": 6,
   "id": "6131c1de-cf2b-424e-8eed-f1f09ca03a11",
   "metadata": {
    "tags": []
   },
   "outputs": [
    {
     "data": {
      "text/html": [
       "<div><div style = \"float: left;\"><span>DataFrameRow (7 columns)</span></div><div style = \"clear: both;\"></div></div><div class = \"data-frame\" style = \"overflow-x: scroll;\"><table class = \"data-frame\" style = \"margin-bottom: 6px;\"><thead><tr class = \"header\"><th class = \"rowLabel\" style = \"font-weight: bold; text-align: right;\">Row</th><th style = \"text-align: left;\">CUSIP</th><th style = \"text-align: left;\">term</th><th style = \"text-align: left;\">rate</th><th style = \"text-align: left;\">coupon</th><th style = \"text-align: left;\">computed</th><th style = \"text-align: left;\">actual</th><th style = \"text-align: left;\">percent_error</th></tr><tr class = \"subheader headerLastRow\"><th class = \"rowLabel\" style = \"font-weight: bold; text-align: right;\"></th><th title = \"String15\" style = \"text-align: left;\">String15</th><th title = \"String7\" style = \"text-align: left;\">String7</th><th title = \"Float64\" style = \"text-align: left;\">Float64</th><th title = \"Float64\" style = \"text-align: left;\">Float64</th><th title = \"Float64\" style = \"text-align: left;\">Float64</th><th title = \"Float64\" style = \"text-align: left;\">Float64</th><th title = \"Float64\" style = \"text-align: left;\">Float64</th></tr></thead><tbody><tr><td class = \"rowLabel\" style = \"font-weight: bold; text-align: right;\">11</td><td style = \"text-align: left;\">91282CHP9</td><td style = \"text-align: left;\">10-Year</td><td style = \"text-align: right;\">1.495</td><td style = \"text-align: right;\">1.375</td><td style = \"text-align: right;\">98.8892</td><td style = \"text-align: right;\">99.0219</td><td style = \"text-align: right;\">0.13411</td></tr></tbody></table></div>"
      ],
      "text/latex": [
       "\\begin{tabular}{r|ccccccc}\n",
       "\t& CUSIP & term & rate & coupon & computed & actual & percent\\_error\\\\\n",
       "\t\\hline\n",
       "\t& String15 & String7 & Float64 & Float64 & Float64 & Float64 & Float64\\\\\n",
       "\t\\hline\n",
       "\t11 & 91282CHP9 & 10-Year & 1.495 & 1.375 & 98.8892 & 99.0219 & 0.13411 \\\\\n",
       "\\end{tabular}\n"
      ],
      "text/plain": [
       "\u001b[1mDataFrameRow\u001b[0m\n",
       "\u001b[1m Row \u001b[0m│\u001b[1m CUSIP     \u001b[0m\u001b[1m term    \u001b[0m\u001b[1m rate    \u001b[0m\u001b[1m coupon  \u001b[0m\u001b[1m computed \u001b[0m\u001b[1m actual  \u001b[0m\u001b[1m percent_error \u001b[0m\n",
       "     │\u001b[90m String15  \u001b[0m\u001b[90m String7 \u001b[0m\u001b[90m Float64 \u001b[0m\u001b[90m Float64 \u001b[0m\u001b[90m Float64  \u001b[0m\u001b[90m Float64 \u001b[0m\u001b[90m Float64       \u001b[0m\n",
       "─────┼────────────────────────────────────────────────────────────────────────\n",
       "  11 │ 91282CHP9  10-Year    1.495    1.375   98.8892  99.0219        0.13411"
      ]
     },
     "execution_count": 6,
     "metadata": {},
     "output_type": "execute_result"
    }
   ],
   "source": [
    "computed_price_table[max_index,:]"
   ]
  },
  {
   "cell_type": "markdown",
   "id": "06055589-b6d1-40e1-8c79-3c365c11c5f9",
   "metadata": {},
   "source": [
    "#### Cashflow"
   ]
  },
  {
   "cell_type": "code",
   "execution_count": 9,
   "id": "10e5cbdb-d5d1-4e1a-82db-ae6d9009d5f1",
   "metadata": {
    "tags": []
   },
   "outputs": [],
   "source": [
    "T = dataset[2, Symbol(\"Security Term\")] |> String |> securityterm;\n",
    "r̄ = dataset[2, Symbol(\"High Yield\")]\n",
    "c = dataset[2, Symbol(\"Interest Rate\")]\n",
    "cashflow_check_model = build(MyUSTreasuryCouponSecurityModel, (\n",
    "            par = 1000.0, T = T, rate = r̄, coupon = c, λ = 2\n",
    "        )) |> discount_model;\n",
    "\n",
    "cashflow = cashflow_check_model.cashflow;\n",
    "discount = cashflow_check_model.discount;"
   ]
  },
  {
   "cell_type": "markdown",
   "id": "3c00a2d7-738a-499e-8cf3-a010126c1ab8",
   "metadata": {},
   "source": [
    "#### Cashflow table"
   ]
  },
  {
   "cell_type": "code",
   "execution_count": 15,
   "id": "aa6086d3-f991-4fcb-b4c1-e2a5676c5f01",
   "metadata": {
    "tags": []
   },
   "outputs": [
    {
     "data": {
      "text/html": [
       "<div><div style = \"float: left;\"><span>5×5 DataFrame</span></div><div style = \"clear: both;\"></div></div><div class = \"data-frame\" style = \"overflow-x: scroll;\"><table class = \"data-frame\" style = \"margin-bottom: 6px;\"><thead><tr class = \"header\"><th class = \"rowNumber\" style = \"font-weight: bold; text-align: right;\">Row</th><th style = \"text-align: left;\">period</th><th style = \"text-align: left;\">discount</th><th style = \"text-align: left;\">notional_cashflow</th><th style = \"text-align: left;\">discounted_cashflow</th><th style = \"text-align: left;\">cumsum</th></tr><tr class = \"subheader headerLastRow\"><th class = \"rowNumber\" style = \"font-weight: bold; text-align: right;\"></th><th title = \"Int64\" style = \"text-align: left;\">Int64</th><th title = \"Float64\" style = \"text-align: left;\">Float64</th><th title = \"Float64\" style = \"text-align: left;\">Float64</th><th title = \"Float64\" style = \"text-align: left;\">Float64</th><th title = \"Float64\" style = \"text-align: left;\">Float64</th></tr></thead><tbody><tr><td class = \"rowNumber\" style = \"font-weight: bold; text-align: right;\">1</td><td style = \"text-align: right;\">0</td><td style = \"text-align: right;\">1.0</td><td style = \"text-align: right;\">-999.549</td><td style = \"text-align: right;\">-999.549</td><td style = \"text-align: right;\">-999.549</td></tr><tr><td class = \"rowNumber\" style = \"font-weight: bold; text-align: right;\">2</td><td style = \"text-align: right;\">1</td><td style = \"text-align: right;\">1.02512</td><td style = \"text-align: right;\">25.0</td><td style = \"text-align: right;\">24.3874</td><td style = \"text-align: right;\">-975.161</td></tr><tr><td class = \"rowNumber\" style = \"font-weight: bold; text-align: right;\">3</td><td style = \"text-align: right;\">2</td><td style = \"text-align: right;\">1.05087</td><td style = \"text-align: right;\">25.0</td><td style = \"text-align: right;\">23.7898</td><td style = \"text-align: right;\">-951.372</td></tr><tr><td class = \"rowNumber\" style = \"font-weight: bold; text-align: right;\">4</td><td style = \"text-align: right;\">3</td><td style = \"text-align: right;\">1.07727</td><td style = \"text-align: right;\">25.0</td><td style = \"text-align: right;\">23.2068</td><td style = \"text-align: right;\">-928.165</td></tr><tr><td class = \"rowNumber\" style = \"font-weight: bold; text-align: right;\">5</td><td style = \"text-align: right;\">4</td><td style = \"text-align: right;\">1.10433</td><td style = \"text-align: right;\">1025.0</td><td style = \"text-align: right;\">928.165</td><td style = \"text-align: right;\">0.0</td></tr></tbody></table></div>"
      ],
      "text/latex": [
       "\\begin{tabular}{r|ccccc}\n",
       "\t& period & discount & notional\\_cashflow & discounted\\_cashflow & cumsum\\\\\n",
       "\t\\hline\n",
       "\t& Int64 & Float64 & Float64 & Float64 & Float64\\\\\n",
       "\t\\hline\n",
       "\t1 & 0 & 1.0 & -999.549 & -999.549 & -999.549 \\\\\n",
       "\t2 & 1 & 1.02512 & 25.0 & 24.3874 & -975.161 \\\\\n",
       "\t3 & 2 & 1.05087 & 25.0 & 23.7898 & -951.372 \\\\\n",
       "\t4 & 3 & 1.07727 & 25.0 & 23.2068 & -928.165 \\\\\n",
       "\t5 & 4 & 1.10433 & 1025.0 & 928.165 & 0.0 \\\\\n",
       "\\end{tabular}\n"
      ],
      "text/plain": [
       "\u001b[1m5×5 DataFrame\u001b[0m\n",
       "\u001b[1m Row \u001b[0m│\u001b[1m period \u001b[0m\u001b[1m discount \u001b[0m\u001b[1m notional_cashflow \u001b[0m\u001b[1m discounted_cashflow \u001b[0m\u001b[1m cumsum   \u001b[0m\n",
       "     │\u001b[90m Int64  \u001b[0m\u001b[90m Float64  \u001b[0m\u001b[90m Float64           \u001b[0m\u001b[90m Float64             \u001b[0m\u001b[90m Float64  \u001b[0m\n",
       "─────┼────────────────────────────────────────────────────────────────────\n",
       "   1 │      0   1.0               -999.549            -999.549   -999.549\n",
       "   2 │      1   1.02512             25.0                24.3874  -975.161\n",
       "   3 │      2   1.05087             25.0                23.7898  -951.372\n",
       "   4 │      3   1.07727             25.0                23.2068  -928.165\n",
       "   5 │      4   1.10433           1025.0               928.165      0.0"
      ]
     },
     "execution_count": 15,
     "metadata": {},
     "output_type": "execute_result"
    }
   ],
   "source": [
    "number_of_periods = length(cashflow)\n",
    "df = DataFrame();\n",
    "sumvalue = 0.0;\n",
    "for i ∈ 0:(number_of_periods - 1)\n",
    "    \n",
    "    discount_value = discount[i]\n",
    "    payment = cashflow[i];\n",
    "    sumvalue += payment;\n",
    "    \n",
    "    row_tuple = (\n",
    "        period = i,\n",
    "        discount = discount_value,\n",
    "        notional_cashflow = discount_value*payment,\n",
    "        discounted_cashflow = payment,\n",
    "        cumsum = sumvalue\n",
    "    );\n",
    "    push!(df,row_tuple);\n",
    "end\n",
    "df"
   ]
  },
  {
   "cell_type": "code",
   "execution_count": null,
   "id": "4c1bed86-3ece-45ac-b2ef-910d7b37ddeb",
   "metadata": {},
   "outputs": [],
   "source": []
  }
 ],
 "metadata": {
  "kernelspec": {
   "display_name": "Julia 1.9.3",
   "language": "julia",
   "name": "julia-1.9"
  },
  "language_info": {
   "file_extension": ".jl",
   "mimetype": "application/julia",
   "name": "julia",
   "version": "1.9.3"
  }
 },
 "nbformat": 4,
 "nbformat_minor": 5
}
