{
 "cells": [
  {
   "cell_type": "markdown",
   "id": "e6c976b0-d358-499d-9146-9cebba8ce5ab",
   "metadata": {},
   "source": [
    "## The Price of United States Treasury Notes and Bonds"
   ]
  },
  {
   "cell_type": "code",
   "execution_count": 1,
   "id": "6d3c2807-225f-4493-92d5-84aaa79c5d3c",
   "metadata": {
    "tags": []
   },
   "outputs": [
    {
     "name": "stderr",
     "output_type": "stream",
     "text": [
      "\u001b[32m\u001b[1m  Activating\u001b[22m\u001b[39m project at `~/Desktop/julia_work/CHEME-5660-Examples-F23`\n",
      "\u001b[32m\u001b[1m  No Changes\u001b[22m\u001b[39m to `~/Desktop/julia_work/CHEME-5660-Examples-F23/Project.toml`\n",
      "\u001b[32m\u001b[1m  No Changes\u001b[22m\u001b[39m to `~/Desktop/julia_work/CHEME-5660-Examples-F23/Manifest.toml`\n",
      "\u001b[32m\u001b[1m    Updating\u001b[22m\u001b[39m registry at `~/.julia/registries/General.toml`\n",
      "\u001b[32m\u001b[1m    Updating\u001b[22m\u001b[39m git-repo `https://github.com/varnerlab/VLQuantitativeFinancePackage.jl.git`\n",
      "\u001b[32m\u001b[1m    Updating\u001b[22m\u001b[39m `~/Desktop/julia_work/CHEME-5660-Examples-F23/Project.toml`\n",
      "  \u001b[90m[4119e0bf] \u001b[39m\u001b[93m~ VLQuantitativeFinancePackage v1.0.0-DEV `https://github.com/varnerlab/VLQuantitativeFinancePackage.jl.git#main` ⇒ v1.0.0-DEV `https://github.com/varnerlab/VLQuantitativeFinancePackage.jl.git#main`\u001b[39m\n",
      "\u001b[32m\u001b[1m    Updating\u001b[22m\u001b[39m `~/Desktop/julia_work/CHEME-5660-Examples-F23/Manifest.toml`\n",
      "  \u001b[90m[4119e0bf] \u001b[39m\u001b[93m~ VLQuantitativeFinancePackage v1.0.0-DEV `https://github.com/varnerlab/VLQuantitativeFinancePackage.jl.git#main` ⇒ v1.0.0-DEV `https://github.com/varnerlab/VLQuantitativeFinancePackage.jl.git#main`\u001b[39m\n",
      "\u001b[32m\u001b[1mPrecompiling\u001b[22m\u001b[39m project...\n",
      "\u001b[32m  ✓ \u001b[39mVLQuantitativeFinancePackage\n",
      "  1 dependency successfully precompiled in 2 seconds. 208 already precompiled.\n"
     ]
    },
    {
     "data": {
      "text/plain": [
       "securityterm (generic function with 1 method)"
      ]
     },
     "execution_count": 1,
     "metadata": {},
     "output_type": "execute_result"
    }
   ],
   "source": [
    "include(\"Include.jl\")"
   ]
  },
  {
   "cell_type": "code",
   "execution_count": 89,
   "id": "1380e8ea-bca9-4cbf-9585-0f621bb671cf",
   "metadata": {
    "tags": []
   },
   "outputs": [],
   "source": [
    "Vₚ,T,r̄,c,λ = 100.0,5.0,0.041700,0.041250,2\n",
    "discrete_compounding = DiscreteCompoundingModel();"
   ]
  },
  {
   "cell_type": "code",
   "execution_count": 90,
   "id": "1958476e-46b3-48c0-8005-b67906b4b43b",
   "metadata": {
    "tags": []
   },
   "outputs": [],
   "source": [
    "model = build(MyUSTreasuryCouponSecurityModel, (\n",
    "            par = Vₚ, T = T, rate = r̄, coupon = c, λ = λ\n",
    "        )) |> discrete_compounding;"
   ]
  },
  {
   "cell_type": "code",
   "execution_count": 91,
   "id": "66a13f56-b709-46fd-b28d-a8d7549f542b",
   "metadata": {
    "tags": []
   },
   "outputs": [
    {
     "data": {
      "text/plain": [
       "99.79878772585985"
      ]
     },
     "execution_count": 91,
     "metadata": {},
     "output_type": "execute_result"
    }
   ],
   "source": [
    "model.price"
   ]
  },
  {
   "cell_type": "code",
   "execution_count": null,
   "id": "97612d2f-d29d-457c-acb0-4ee5fd7a78f2",
   "metadata": {},
   "outputs": [],
   "source": []
  }
 ],
 "metadata": {
  "kernelspec": {
   "display_name": "Julia 1.9.3",
   "language": "julia",
   "name": "julia-1.9"
  },
  "language_info": {
   "file_extension": ".jl",
   "mimetype": "application/julia",
   "name": "julia",
   "version": "1.9.3"
  }
 },
 "nbformat": 4,
 "nbformat_minor": 5
}
