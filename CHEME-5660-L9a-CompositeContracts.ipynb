{
 "cells": [
  {
   "cell_type": "markdown",
   "id": "c4f4fe1a-4a6a-405a-a0a7-9e935d3d5e99",
   "metadata": {},
   "source": [
    "# Example: Payoff and Profit of Composite Contracts at Expiration\n",
    "Call and put contracts can be combined to develop composite contract structures with interesting payoff diagrams. Let's limit our focus to contracts that have the same underlying asset and the same expiration date. A composite option contract be composed of $d$ legs (individual contracts) in the contract set $\\mathcal{C}$ where each leg $i\\in\\mathcal{C}$ is written with respect to the same underlying stock `XYZ` and has the same expiration date. Then, the overall payoff of the composite contract $\\hat{V}(S(T),K_{1},\\dots,K_{d})$ is given by:\n",
    "\n",
    "\n",
    "$$\\hat{V}(S(T),K_{1},\\dots,K_{d}) = \\sum_{i\\in\\mathcal{C}}\\theta_{i}n_{i}V_{i}(S(T),K_{i})$$\n",
    "\n",
    "\n",
    "where $K_{i}$ denotes the strike price of contract $i\\in\\mathcal{C}$. The overall profit of the composite contract $\\hat{P}$ is given by:\n",
    "\n",
    "\n",
    "$$\\hat{P}(S(T),K_{1},\\dots,K_{d}) = \\sum_{i\\in\\mathcal{C}}\\theta_{i}n_{i}P_{i}(S(T),K_{i})$$\n",
    "\n",
    "\n",
    "where $\\theta_{i}$ denotes the direction of contract $i$: if contract $i$ is short (sold), then $\\theta_{i}=-1$, otherwise $\\theta_{i}=1$, $n_{i}$ denotes the copy number of contract $i$, ${V}_{i}(S(T),K_{i})$ denotes the payoff of contract $i$, and $P_{i}(S(T),K_{i})$ denotes the profit of contract $i$. Finally, the profit for contract of type $\\star$ is given by:\n",
    "\n",
    "$$P_{\\star}(K,S(T)) = {V}_{\\star}(K,S(T)) -  \\mathcal{P}_{\\star}(K,S(0))$$\n",
    "\n",
    "where $\\mathcal{P}_{\\star}(K,S(0))$ denotes the premium of contract $\\star$, and ${V}_{\\star}(K,S(T))$ denotes the payoff of contract $\\star$ at expiration.\n",
    "\n",
    "\n",
    "## Learning Objectives\n",
    "For this example, we will compute the profit diagrams at expiration for some common composite contracts. We downloaded the options chain (premium value versus as a function of strike price) for [Advanced Micro Devices (AMD)](https://en.wikipedia.org/wiki/AMD) from [barchart.com](https://www.barchart.com). In this example, the share price of `AMD` is `S(0) = 117.50 USD/share`, and the average implied volatility for `AMD` options with `DTE = 31 days` is `IV = 51.75%`.\n",
    "\n",
    "* We'll examine vertical spreads, which are defined risk trades that make bullish or bearish directional assumptions and can be opened for a credit or debit.\n",
    "* Next, we'll explore long and short straddles, which are neutral trades that profit from share price movement in either direction.\n",
    "* Finally, we'll analyze long and short strangles, which are another type of neutral trade that benefits from share price movement in any direction or no price movement at all."
   ]
  },
  {
   "cell_type": "markdown",
   "id": "66a967af-d407-4318-bfd4-0973e5f1fa78",
   "metadata": {},
   "source": [
    "## Setup\n",
    "We set up the computational environment by including the `Include.jl` file. The `Include.jl` file loads external packages, various functions that we will use in the exercise, and custom types to model the components of our example problem."
   ]
  },
  {
   "cell_type": "code",
   "execution_count": null,
   "id": "72a3d846-0bf8-481a-87ca-c74c7d3ae6bb",
   "metadata": {
    "tags": []
   },
   "outputs": [
    {
     "name": "stderr",
     "output_type": "stream",
     "text": [
      "\u001b[32m\u001b[1m    Updating\u001b[22m\u001b[39m git-repo `https://github.com/varnerlab/VLQuantitativeFinancePackage.jl.git`\n",
      "\u001b[32m\u001b[1m   Resolving\u001b[22m\u001b[39m package versions...\n",
      "\u001b[32m\u001b[1m  No Changes\u001b[22m\u001b[39m to `~/Desktop/julia_work/CHEME-5660-Examples-F23/Project.toml`\n",
      "\u001b[32m\u001b[1m  No Changes\u001b[22m\u001b[39m to `~/Desktop/julia_work/CHEME-5660-Examples-F23/Manifest.toml`\n",
      "\u001b[32m\u001b[1mPrecompiling\u001b[22m\u001b[39m project...\n",
      "\u001b[32m  ✓ \u001b[39m\u001b[90mTranscodingStreams\u001b[39m\n",
      "\u001b[32m  ✓ \u001b[39m\u001b[90mCodecZlib\u001b[39m\n",
      "\u001b[32m  ✓ \u001b[39m\u001b[90mCodecBzip2\u001b[39m\n",
      "\u001b[32m  ✓ \u001b[39m\u001b[90mHTTP\u001b[39m\n",
      "\u001b[32m  ✓ \u001b[39m\u001b[90mGR\u001b[39m\n",
      "\u001b[32m  ✓ \u001b[39mCSV\n",
      "\u001b[32m  ✓ \u001b[39mJLD2\n",
      "\u001b[32m  ✓ \u001b[39mPlots\n",
      "\u001b[32m  ✓ \u001b[39m\u001b[90mPlots → FileIOExt\u001b[39m\n",
      "\u001b[32m  ✓ \u001b[39m\u001b[90mPlots → UnitfulExt\u001b[39m\n",
      "\u001b[32m  ✓ \u001b[39mStatsPlots\n",
      "\u001b[32m  ✓ \u001b[39m\u001b[90mMathOptInterface\u001b[39m\n",
      "\u001b[32m  ✓ \u001b[39m\u001b[90mMadNLP\u001b[39m\n",
      "\u001b[32m  ✓ \u001b[39m\u001b[90mJuMP\u001b[39m\n",
      "\u001b[32m  ✓ \u001b[39mVLQuantitativeFinancePackage\n",
      "  15 dependencies successfully precompiled in 208 seconds. 225 already precompiled.\n",
      "\u001b[32m\u001b[1m  Activating\u001b[22m\u001b[39m project at `~/Desktop/julia_work/CHEME-5660-Examples-F23`\n",
      "\u001b[32m\u001b[1m  No Changes\u001b[22m\u001b[39m to `~/Desktop/julia_work/CHEME-5660-Examples-F23/Project.toml`\n",
      "\u001b[32m\u001b[1m  No Changes\u001b[22m\u001b[39m to `~/Desktop/julia_work/CHEME-5660-Examples-F23/Manifest.toml`\n",
      "\u001b[33m\u001b[1m┌ \u001b[22m\u001b[39m\u001b[33m\u001b[1mWarning: \u001b[22m\u001b[39mcould not download https://pkg.julialang.org/registries\n",
      "\u001b[33m\u001b[1m│ \u001b[22m\u001b[39m  exception = RequestError: Could not resolve host: pkg.julialang.org while requesting https://pkg.julialang.org/registries\n",
      "\u001b[33m\u001b[1m└ \u001b[22m\u001b[39m\u001b[90m@ Pkg.Registry /Applications/Julia-1.9.app/Contents/Resources/julia/share/julia/stdlib/v1.9/Pkg/src/Registry/Registry.jl:69\u001b[39m\n",
      "\u001b[32m\u001b[1m    Updating\u001b[22m\u001b[39m registry at `~/.julia/registries/General.toml`\n",
      "\u001b[32m\u001b[1m    Updating\u001b[22m\u001b[39m git-repo `https://github.com/varnerlab/VLQuantitativeFinancePackage.jl.git`\n"
     ]
    },
    {
     "ename": "LoadError",
     "evalue": "LoadError: failed to fetch from https://github.com/varnerlab/VLQuantitativeFinancePackage.jl.git, error: GitError(Code:ERROR, Class:Net, failed to resolve address for github.com: nodename nor servname provided, or not known)\nin expression starting at /Users/jeffreyvarner/Desktop/julia_work/CHEME-5660-Examples-F23/Include.jl:10",
     "output_type": "error",
     "traceback": [
      "LoadError: failed to fetch from https://github.com/varnerlab/VLQuantitativeFinancePackage.jl.git, error: GitError(Code:ERROR, Class:Net, failed to resolve address for github.com: nodename nor servname provided, or not known)\nin expression starting at /Users/jeffreyvarner/Desktop/julia_work/CHEME-5660-Examples-F23/Include.jl:10",
      "",
      "Stacktrace:",
      "  [1] pkgerror(msg::String)",
      "    @ Pkg.Types /Applications/Julia-1.9.app/Contents/Resources/julia/share/julia/stdlib/v1.9/Pkg/src/Types.jl:69",
      "  [2] fetch(io::IJulia.IJuliaStdio{Base.PipeEndpoint}, repo::LibGit2.GitRepo, remoteurl::String; header::Nothing, credentials::Nothing, refspecs::Vector{String}, kwargs::Base.Pairs{Symbol, Union{}, Tuple{}, NamedTuple{(), Tuple{}}})",
      "    @ Pkg.GitTools /Applications/Julia-1.9.app/Contents/Resources/julia/share/julia/stdlib/v1.9/Pkg/src/GitTools.jl:175",
      "  [3] (::Pkg.Types.var\"#57#58\"{Pkg.Types.Context, Pkg.Types.PackageSpec, String})(repo::LibGit2.GitRepo)",
      "    @ Pkg.Types /Applications/Julia-1.9.app/Contents/Resources/julia/share/julia/stdlib/v1.9/Pkg/src/Types.jl:777",
      "  [4] with(f::Pkg.Types.var\"#57#58\"{Pkg.Types.Context, Pkg.Types.PackageSpec, String}, obj::LibGit2.GitRepo)",
      "    @ LibGit2 /Applications/Julia-1.9.app/Contents/Resources/julia/share/julia/stdlib/v1.9/LibGit2/src/types.jl:1160",
      "  [5] handle_repo_add!(ctx::Pkg.Types.Context, pkg::Pkg.Types.PackageSpec)",
      "    @ Pkg.Types /Applications/Julia-1.9.app/Contents/Resources/julia/share/julia/stdlib/v1.9/Pkg/src/Types.jl:752",
      "  [6] up_load_versions!(ctx::Pkg.Types.Context, pkg::Pkg.Types.PackageSpec, entry::Pkg.Types.PackageEntry, level::Pkg.Types.UpgradeLevel)",
      "    @ Pkg.Operations /Applications/Julia-1.9.app/Contents/Resources/julia/share/julia/stdlib/v1.9/Pkg/src/Operations.jl:1429",
      "  [7] up(ctx::Pkg.Types.Context, pkgs::Vector{Pkg.Types.PackageSpec}, level::Pkg.Types.UpgradeLevel; skip_writing_project::Bool, preserve::Nothing)",
      "    @ Pkg.Operations /Applications/Julia-1.9.app/Contents/Resources/julia/share/julia/stdlib/v1.9/Pkg/src/Operations.jl:1522",
      "  [8] up",
      "    @ /Applications/Julia-1.9.app/Contents/Resources/julia/share/julia/stdlib/v1.9/Pkg/src/Operations.jl:1516 [inlined]",
      "  [9] up(ctx::Pkg.Types.Context, pkgs::Vector{Pkg.Types.PackageSpec}; level::Pkg.Types.UpgradeLevel, mode::Pkg.Types.PackageMode, preserve::Nothing, update_registry::Bool, skip_writing_project::Bool, kwargs::Base.Pairs{Symbol, IJulia.IJuliaStdio{Base.PipeEndpoint}, Tuple{Symbol}, NamedTuple{(:io,), Tuple{IJulia.IJuliaStdio{Base.PipeEndpoint}}}})",
      "    @ Pkg.API /Applications/Julia-1.9.app/Contents/Resources/julia/share/julia/stdlib/v1.9/Pkg/src/API.jl:348",
      " [10] up(pkgs::Vector{Pkg.Types.PackageSpec}; io::IJulia.IJuliaStdio{Base.PipeEndpoint}, kwargs::Base.Pairs{Symbol, Pkg.Types.PackageMode, Tuple{Symbol}, NamedTuple{(:mode,), Tuple{Pkg.Types.PackageMode}}})",
      "    @ Pkg.API /Applications/Julia-1.9.app/Contents/Resources/julia/share/julia/stdlib/v1.9/Pkg/src/API.jl:156",
      " [11] up(; name::Nothing, uuid::Nothing, version::Nothing, url::Nothing, rev::Nothing, path::Nothing, mode::Pkg.Types.PackageMode, subdir::Nothing, kwargs::Base.Pairs{Symbol, Union{}, Tuple{}, NamedTuple{(), Tuple{}}})",
      "    @ Pkg.API /Applications/Julia-1.9.app/Contents/Resources/julia/share/julia/stdlib/v1.9/Pkg/src/API.jl:171",
      " [12] up()",
      "    @ Pkg.API /Applications/Julia-1.9.app/Contents/Resources/julia/share/julia/stdlib/v1.9/Pkg/src/API.jl:162",
      " [13] top-level scope",
      "    @ ~/Desktop/julia_work/CHEME-5660-Examples-F23/Include.jl:10",
      " [14] include(fname::String)",
      "    @ Base.MainInclude ./client.jl:478",
      " [15] top-level scope",
      "    @ In[1]:1"
     ]
    }
   ],
   "source": [
    "include(\"Include.jl\");"
   ]
  },
  {
   "cell_type": "markdown",
   "id": "555dd1cb-e33d-4f48-9b03-793e6d38c288",
   "metadata": {},
   "source": [
    "### Constants"
   ]
  },
  {
   "cell_type": "code",
   "execution_count": null,
   "id": "331aca86-5e10-47e2-9cd8-5c91ca9fcfb7",
   "metadata": {
    "tags": []
   },
   "outputs": [],
   "source": [
    "Sₒ = 117.50; # set the initial share price (this has no importance now because we have the options chain data)"
   ]
  },
  {
   "cell_type": "markdown",
   "id": "71daf1d4-9b63-4fc0-a0c9-68d95a387a69",
   "metadata": {},
   "source": [
    "## Prerequisite: Load options chain dataset\n",
    "To start, load the options data using using the `MyOptionsChainDataSet(...)` function and store the data in the `options_dataset` variable:"
   ]
  },
  {
   "cell_type": "code",
   "execution_count": null,
   "id": "25df7ae8-76bc-4614-86e4-3e6eb88076aa",
   "metadata": {
    "tags": []
   },
   "outputs": [
    {
     "ename": "LoadError",
     "evalue": "UndefVarError: `MyOptionsChainDataSet` not defined",
     "output_type": "error",
     "traceback": [
      "UndefVarError: `MyOptionsChainDataSet` not defined",
      "",
      "Stacktrace:",
      " [1] top-level scope",
      "   @ In[3]:1"
     ]
    }
   ],
   "source": [
    "options_dataset = MyOptionsChainDataSet();"
   ]
  },
  {
   "cell_type": "markdown",
   "id": "83885d8b-62d4-4a76-baa7-b3a78c2c4b2f",
   "metadata": {
    "tags": []
   },
   "source": [
    "## Directional: Credit and Debt Vertical Spreads\n",
    "[Vertical spreads](https://www.fidelity.com/bin-public/060_www_fidelity_com/documents/learning-center/Deck_Vertical-spreads.pdf), a defined risk directional strategy, involve buying and selling the same type of option with different strike prices and the same expiration date. This creates two legs, a long leg (the option purchased by the investor) and a short leg (the option sold by the investor).  The investor can use the strategy to take a position on whether the share price of the underlying stock, such as `XYZ`, will increase or decrease. "
   ]
  },
  {
   "cell_type": "markdown",
   "id": "8b5aac3b-c7a2-4777-a84a-abf10417cc00",
   "metadata": {
    "tags": []
   },
   "source": [
    "### Bullish `put` credit spread\n",
    "A `put` vertical spread is constructed by combining `2` $\\times$ `put` contracts, a short `put` contract generates income while the `long` put contract controls downside risk.  Let contract $j$ have a strike price of $K_{j}$ and premium $\\mathcal{P}_{j}$. The share price at expiration is given by $S$. Finally, let contract 1 be the short leg $\\theta_{1} = -1$ and contract 2 be the long leg $\\theta_{2} = 1$. Then, the profit for a single `put` vertical spread at expiration is given by:\n",
    "\n",
    "$$\\hat{P} = -P_{1}+P_{2}$$\n",
    "\n",
    "which, after substitution of the profit functions for a put contract, gives:\n",
    "\n",
    "$$\n",
    "\\hat{P} = \\left(K_{2} - S\\right)^{+} - \\left(K_{1} - S\\right)^{+} + \\left(\\mathcal{P}_{1} - \\mathcal{P}_{2}\\right)$$\n",
    "\n",
    "where $V_{p} = (K-S)^{+}=\\max(K-S,0)$ is the payoff function for a `put` contract. The first term is the net payout of the two legs of the spread, while the second term is the net cost of the two contracts. The maximum possible profit, loss, and breakeven conditions are given by:\n",
    "\n",
    "* The maximum possible profit of $\\left(\\mathcal{P}_{1} - \\mathcal{P}_{2}\\right)$ will occur when $S\\geq{K_{1}}$.\n",
    "* The maximum possible loss of $K_{2} - K_{1} + \\left(\\mathcal{P}_{1} - \\mathcal{P}_{2}\\right)$ will occur when $S\\leq{K_{2}}$.\n",
    "* The vertical put spread will breakeven when $S =  K_{1}+\\left(\\mathcal{P}_{2} - \\mathcal{P}_{1}\\right)$.\n",
    "\n",
    "Let's build a bullish put credit spread for `AMD` whose current share price is `S(0) = 117.50 USD/share`. This trade structure is constructed by selling (short) a `put` with strike $K_{1}$ and buying (long) a `put` with strike $K_{2}$, where $K_{1}<S(0)<K_{2}$. \n",
    "\n",
    "* Leg 1: The strike price for the `short put` leg is given by $K_{1}$ = 130 USD/share with `DTE = 31 days`\n",
    "* Leg 2: The strike price for the `long put` leg is given by $K_{2}$ = 110 USD/share with `DTE = 31 days`\n",
    "\n",
    "#### Implementation\n",
    "To create a profit diagram, we first need to determine the strike prices for each trade leg (stored in the $K_{\\star}$ variables). We then utilize `build(...)` methods to construct option contract models. Next, we generate an array of share prices at expiration and store them in the `S` array. Using the `profit(...)` function, we calculate the profit for each leg and the overall trade. We also determine the breakeven points for the trade using analytical expressions and plot the share price versus the profit with the help of `plot(...)` functions from the [Plots.jl](https://github.com/JuliaPlots/Plots.jl) package."
   ]
  },
  {
   "cell_type": "code",
   "execution_count": null,
   "id": "d512879b-2415-4bed-bbba-cb7f8351c551",
   "metadata": {
    "tags": []
   },
   "outputs": [
    {
     "ename": "LoadError",
     "evalue": "UndefVarError: `options_dataset` not defined",
     "output_type": "error",
     "traceback": [
      "UndefVarError: `options_dataset` not defined",
      "",
      "Stacktrace:",
      " [1] top-level scope",
      "   @ In[4]:5"
     ]
    }
   ],
   "source": [
    "let\n",
    "\n",
    "    K₁ = 130.0\n",
    "    K₂ = 110.0\n",
    "    premium_1 = filter([:Strike,:Type] => (x,y) -> (x == K₁ && y == \"Put\"), options_dataset)[1,:Midpoint];\n",
    "    premium_2 = filter([:Strike,:Type] => (x,y) -> (x == K₂ && y == \"Put\"), options_dataset)[1,:Midpoint];\n",
    "     \n",
    "    max_loss = K₂ - K₁ + (premium_1 - premium_2);\n",
    "    max_profit = (premium_1 - premium_2);\n",
    "    \n",
    "    put_contract_model_short = build(MyAmericanPutContractModel, (\n",
    "            K = K₁, premium = premium_1, sense = -1, copy = 1\n",
    "    ));\n",
    "\n",
    "    put_contract_model_long = build(MyAmericanPutContractModel, (\n",
    "            K = K₂, premium = premium_2, sense = 1, copy = 1\n",
    "    ));\n",
    "    \n",
    "    S = range(0.9*K₂,stop = 1.1*K₁, step=0.1) |> collect;\n",
    "    number_of_steps = length(S);\n",
    "    BEL = zeros(length(S))\n",
    "    profit_array = profit([put_contract_model_short, put_contract_model_long], S);\n",
    "    breakeven = K₁ + (premium_2 - premium_1)\n",
    "    \n",
    "    plot(profit_array[:,1], profit_array[:,4], lw=4, label=\"Profit\", c=:black, \n",
    "        bg=\"floralwhite\", \tbackground_color_outside=\"white\", framestyle = :box, fg_legend = :transparent)\n",
    "    plot!(profit_array[:,1], profit_array[:,2], lw=2, label=\"Put (short)\", ls=:dash, c=:red)\n",
    "    plot!(profit_array[:,1], profit_array[:,3], lw=2, label=\"Put (long)\", ls=:dash, c=:navyblue)\n",
    "    \n",
    "    plot!(S,BEL,lw=2, c=:green, label=\"\")\n",
    "    scatter!([breakeven], [0], c=:black, label=\"breakeven = $(breakeven) USD/share\", ms=5)\n",
    "    scatter!([K₁],[max_profit], ms=5, label = \"K₁ = $(K₁) (short)\", msc=:black, mc=:white)\n",
    "    scatter!([K₂],[max_loss], ms=5, label = \"K₂ = $(K₂) (long)\", msc=:black, mc=:white)\n",
    "\n",
    "    VLINE = zeros(number_of_steps, 2)\n",
    "    VLINE[:,1] .= Sₒ*ones(number_of_steps)\n",
    "    VLINE[:,2] .= range(minimum(-1*profit_array[:,end]), stop = maximum(profit_array[:,end]), length = number_of_steps) |> collect;\n",
    "    plot!(VLINE[:,1], VLINE[:,2], lw=2, c= :gray69, ls=:dash, label=\"Sₒ = $(Sₒ) USD/share\")\n",
    "    \n",
    "    xlabel!(\"Share price at expiration (USD/share)\", fontsize=18)\n",
    "    ylabel!(\"Profit (USD/share)\", fontsize=18)\n",
    "end"
   ]
  },
  {
   "cell_type": "markdown",
   "id": "d112c220-b6dd-4ffa-a4c3-c644421a1901",
   "metadata": {},
   "source": [
    "## Neutral: Straddles and Strangles\n",
    "\n",
    "### Straddles\n",
    "A [straddle](https://www.investopedia.com/terms/s/straddle.asp) is a _neutral strategy_ constructed by simultaneously buying (or selling) a put and a call option on the same underlying asset `XYZ`, with the _same expiration_, and the _same strike price_. Depending upon the choice of the strike prices and whether an investor buys or sells both legs, a [straddle](https://www.investopedia.com/terms/s/straddle.asp) can be initiated as a credit or debit and can potentially have undefined profit or loss.\n",
    "\n",
    "Let $K_{j}$ denote the strike price of contract $j$ (USD/share), where the price of contract $j$ is $\\mathcal{P}_{j}$ (USD/share). Finally, let index $j=1$ denote the `put` contract, $j=2$ denote the `call` contract; for a straddle $K_{1}= K_{2}\\equiv{K}$ (both legs have the same strike). The profit for a single straddle contract $\\hat{P}$ at expiration is given by:\n",
    "\n",
    "$$\\hat{P} = \\theta\\cdot\\left(P_{1}+P_{2}\\right)$$\n",
    "\n",
    "where $\\theta_{1}=\\theta_{2}\\equiv\\theta$ denotes a direction parameter: $\\theta=-1$ if each leg is sold (short), $\\theta=1$ otherwise. After substitution of the profit functions for a `put` and a `call` contract, the overall profit $\\hat{P}$ is given by:\n",
    "\n",
    "$$\\hat{P} = \\theta\\cdot\\Bigl[(K-S)^{+}+(S-K)^{+}-(\\mathcal{P}_{1}+\\mathcal{P}_{2})\\Bigr]$$\n",
    "\n",
    "where $V_{p} = (K-S)^{+}=\\max(K-S,0)$ is the payoff function for the `put` contract, and $V_{c} = (S-K)^{+} = \\max(S-K,0)$ is the payoff function for the `call` contract. The profit (or loss) of a straddle has three regimes given by:\n",
    "\n",
    "$$\n",
    "\\hat{P} = \\begin{cases}\n",
    "  \\theta\\cdot\\Bigl[(S-K)-\\left(\\mathcal{P}_{1}+\\mathcal{P}_{2}\\right)\\Bigr]  & S>K \\\\\n",
    "  -\\theta\\cdot\\Bigl[\\mathcal{P}_{1}+\\mathcal{P}_{2}\\Bigr] & S=K \\\\\n",
    "    \\theta\\cdot\\Bigl[(K-S)-\\left(\\mathcal{P}_{1}+\\mathcal{P}_{2}\\right)\\Bigr] & S<K\n",
    "\\end{cases}\n",
    "$$\n",
    "\n",
    "Finally, a straddle has _two_ possible breakeven points denoted as $S^{+}$ and $S^{-}$:\n",
    "* If $S>K$: a straddle will breakeven at $S^{+} = K + \\left(\\mathcal{P}_{1}+\\mathcal{P}_{2}\\right)$\n",
    "* If $S<K$: a straddle will breakeven at $S^{-} = K - \\left(\\mathcal{P}_{1}+\\mathcal{P}_{2}\\right)$."
   ]
  },
  {
   "cell_type": "markdown",
   "id": "9161080d-8951-4359-9904-68df146f54ba",
   "metadata": {},
   "source": [
    "#### Long straddle\n",
    "For a long straddle, we purchase (are long) both the `put` and the `call` contracts in the straddle, thus $\\theta = 1$. Let's contruct the profit diagram for a long straddle with the parameters:\n",
    "\n",
    "* Leg 1: The strike price for the `long put` leg is given by $K_{1}$ = 120 USD/share with `DTE = 31 days`\n",
    "* Leg 2: The strike price for the `long call` leg is given by $K_{2}$ = 120 USD/share with `DTE = 31 days`\n",
    "\n",
    "##### Implementation\n",
    "To create a profit diagram, we first need to determine the strike prices for each trade leg (stored in the $K_{\\star}$ variables). We then utilize `build(...)` methods to construct option contract models. Next, we generate an array of share prices at expiration and store them in the `S` array. Using the `profit(...)` function, we calculate the profit for each leg and the overall trade. We also determine the breakeven points for the trade using analytical expressions and plot the share price versus the profit with the help of `plot(...)` functions from the [Plots.jl](https://github.com/JuliaPlots/Plots.jl) package."
   ]
  },
  {
   "cell_type": "code",
   "execution_count": null,
   "id": "34c1b6d8-69ec-4839-9de7-8fcf774f0750",
   "metadata": {
    "tags": []
   },
   "outputs": [
    {
     "ename": "LoadError",
     "evalue": "UndefVarError: `options_dataset` not defined",
     "output_type": "error",
     "traceback": [
      "UndefVarError: `options_dataset` not defined",
      "",
      "Stacktrace:",
      " [1] top-level scope",
      "   @ In[5]:4"
     ]
    }
   ],
   "source": [
    "let\n",
    "    \n",
    "    K = 120.0\n",
    "    premium_1 = filter([:Strike,:Type] => (x,y) -> (x == K && y == \"Put\"), options_dataset)[1,:Midpoint];\n",
    "    premium_2 = filter([:Strike,:Type] => (x,y) -> (x == K && y == \"Call\"), options_dataset)[1,:Midpoint];\n",
    "\n",
    "    max_loss = -1*(premium_1 + premium_2);\n",
    "    \n",
    "    put_contract_model = build(MyAmericanPutContractModel, (\n",
    "            K = K, premium = premium_1, sense = 1, copy = 1\n",
    "    ));\n",
    "\n",
    "    call_contract_model = build(MyAmericanCallContractModel, (\n",
    "            K = K, premium = premium_2, sense = 1, copy = 1\n",
    "    ));\n",
    "    \n",
    "    S = range(90,stop = 150, step=0.1) |> collect;\n",
    "    number_of_steps = length(S);\n",
    "    BEL = zeros(length(S))\n",
    "    profit_array = profit([put_contract_model, call_contract_model], S);\n",
    "    \n",
    "    breakeven_array = zeros(2,2);\n",
    "    breakeven_array[1,1] = K + (premium_1 + premium_2);\n",
    "    breakeven_array[2,1] = K - (premium_1 + premium_2);\n",
    "    \n",
    "    plot(profit_array[:,1], profit_array[:,4], lw=4, label=\"Profit\", c=:black, \n",
    "        bg=\"floralwhite\", \tbackground_color_outside=\"white\", framestyle = :box, fg_legend = :transparent, \n",
    "        legend=:top)\n",
    "    plot!(profit_array[:,1], profit_array[:,2], lw=2, label=\"Put (long)\", ls=:dash, c=:red)\n",
    "    plot!(profit_array[:,1], profit_array[:,3], lw=2, label=\"Call (long)\", ls=:dash, c=:navyblue)\n",
    "    plot!(S,BEL,lw=3, c=:, label=\"\")\n",
    "    \n",
    "    VLINE = zeros(number_of_steps, 2)\n",
    "    VLINE[:,1] .= Sₒ*ones(number_of_steps)\n",
    "    VLINE[:,2] .= range(minimum(-1*profit_array[:,end]), stop = maximum(profit_array[:,end]), length = number_of_steps) |> collect;\n",
    "    plot!(VLINE[:,1], VLINE[:,2], lw=2, c= :gray69, ls=:dash, label=\"Sₒ = $(Sₒ) USD/share\")\n",
    "    \n",
    "    scatter!(breakeven_array[:,1], breakeven_array[:,2], c=:black, label=\"Breakeven\", ms=5)\n",
    "    scatter!([K],[max_loss], ms=5, label = \"K = $(K)\", msc=:black, mc=:white)\n",
    "    \n",
    "    xlabel!(\"Share price at expiration (USD/share)\", fontsize=18)\n",
    "    ylabel!(\"Profit (USD/share)\", fontsize=18)\n",
    "end"
   ]
  },
  {
   "cell_type": "markdown",
   "id": "550582c3-621d-48c9-a918-669c76edfd11",
   "metadata": {},
   "source": [
    "#### Short straddle\n",
    "For a short straddle, we sell (are short) both the `put` and the `call` contracts in the straddle, thus $\\theta = 1$. Let's contruct the profit diagram for a _short straddle_ with the parameters:\n",
    "\n",
    "* Leg 1: The strike price for the `short put` leg is given by $K_{1}$ = `120` USD/share with `DTE = 31 days`\n",
    "* Leg 2: The strike price for the `short call` leg is given by $K_{2}$ = `120` USD/share with `DTE = 31 days`"
   ]
  },
  {
   "cell_type": "code",
   "execution_count": null,
   "id": "8743e3c6-bd64-468c-a09f-7221171125b1",
   "metadata": {
    "tags": []
   },
   "outputs": [
    {
     "ename": "LoadError",
     "evalue": "UndefVarError: `options_dataset` not defined",
     "output_type": "error",
     "traceback": [
      "UndefVarError: `options_dataset` not defined",
      "",
      "Stacktrace:",
      " [1] top-level scope",
      "   @ In[6]:4"
     ]
    }
   ],
   "source": [
    "let \n",
    "    \n",
    "    K = 120.0\n",
    "    premium_1 = filter([:Strike,:Type] => (x,y) -> (x == K && y == \"Put\"), options_dataset)[1,:Midpoint];\n",
    "    premium_2 = filter([:Strike,:Type] => (x,y) -> (x == K && y == \"Call\"), options_dataset)[1,:Midpoint];\n",
    "    \n",
    "    max_profit = (premium_1 + premium_2);\n",
    "\n",
    "    put_contract_model = build(MyAmericanPutContractModel, (\n",
    "            K = K, premium = premium_1, sense = -1, copy = 1\n",
    "    ));\n",
    "\n",
    "    call_contract_model = build(MyAmericanCallContractModel, (\n",
    "            K = K, premium = premium_2, sense = -1, copy = 1\n",
    "    ));\n",
    "    \n",
    "    S = range(90,stop = 150, step=0.1) |> collect;\n",
    "    number_of_steps = length(S);\n",
    "    BEL = zeros(length(S))\n",
    "    profit_array = profit([put_contract_model, call_contract_model], S);\n",
    "    \n",
    "    breakeven_array = zeros(2,2);\n",
    "    breakeven_array[1,1] = K + (premium_1 + premium_2);\n",
    "    breakeven_array[2,1] = K - (premium_1 + premium_2);\n",
    "    \n",
    "    plot(profit_array[:,1], profit_array[:,4], lw=3, label=\"Profit\", c=:black, \n",
    "        bg=\"floralwhite\", \tbackground_color_outside=\"white\", framestyle = :box, fg_legend = :transparent,\n",
    "        legend=:bottom)\n",
    "    plot!(profit_array[:,1], profit_array[:,2], lw=2, label=\"Put (short)\", ls=:dash, c=:red)\n",
    "    plot!(profit_array[:,1], profit_array[:,3], lw=2, label=\"Call (short)\", ls=:dash, c=:navyblue)\n",
    "    \n",
    "    VLINE = zeros(number_of_steps, 2)\n",
    "    VLINE[:,1] .= Sₒ*ones(number_of_steps)\n",
    "    VLINE[:,2] .= range(minimum(-1*profit_array[:,end]), stop = maximum(profit_array[:,end]), length = number_of_steps) |> collect;\n",
    "    plot!(VLINE[:,1], VLINE[:,2], lw=2, c= :gray69, ls=:dash, label=\"Sₒ = $(Sₒ) USD/share\")\n",
    "    \n",
    "    plot!(S,BEL,lw=3, c=:green, label=\"\")\n",
    "    scatter!(breakeven_array[:,1], breakeven_array[:,2], c=:black, label=\"breakeven\", ms=5)\n",
    "    scatter!([K],[max_profit], ms=5, label = \"K = $(K)\", msc=:black, mc=:white)\n",
    "    \n",
    "    xlabel!(\"Share price at expiration (USD/share)\", fontsize=18)\n",
    "    ylabel!(\"Profit (USD/share)\", fontsize=18)\n",
    "end"
   ]
  },
  {
   "cell_type": "markdown",
   "id": "f0bc2818-0403-4f9a-b2f5-f867b3d11f7f",
   "metadata": {},
   "source": [
    "### Strangles\n",
    "A [strangle](https://www.investopedia.com/terms/s/strangle.asp) position is a _neutral strategy_ constructed by simultaneously buying or selling a put and a call option on the same underlying asset `XYZ`, with the _same expiration_ but with _different strike prices_. Depending upon the choice of the strike prices and whether an investor buys or sells both legs, a [strangle](https://www.investopedia.com/terms/s/strangle.asp) can be initiated as a credit or debit and can potentially have undefined profit or loss.\n",
    "\n",
    "Let $K_{j}$ denote the strike price of contract $j$ (USD/share), where the price of contract $j$ is $\\mathcal{P}_{j}$ (USD/share). Finally, let index $j=1$ denote the `put` contract, $j=2$ denote the `call` contract; for a strangle $K_{1}<K_{2}$. The profit for a single strangle contract $\\hat{P}$ at expiration is given by:\n",
    "\n",
    "$$\\hat{P} = \\theta\\cdot\\left(P_{1}+P_{2}\\right)$$\n",
    "\n",
    "where $\\theta_{1}=\\theta_{2}\\equiv\\theta$ denotes a direction parameter: $\\theta=-1$ if each leg is sold (short), $\\theta=1$ otherwise. After substitution of the profit functions for a `put` and a `call` contract, the overall profit $\\hat{P}$ is given by:\n",
    "\n",
    "$$\\hat{P} = \\theta\\cdot\\Bigl[(K_{1}-S)^{+}+(S-K_{2})^{+}-(\\mathcal{P}_{1}+\\mathcal{P}_{2})\\Bigr]$$\n",
    "\n",
    "where $V_{p} = (K_{1}-S)^{+}=\\max(K_{1}-S,0)$ is the `payoff` for the `put` contract, and $V_{c} = (S-K_{2})^{+} = \\max(S-K_{2},0)$ is the `payoff` for the `call` contract. The profit (or loss) of a strangle has three regimes given by:\n",
    "\n",
    "$$\n",
    "\\hat{P} = \\begin{cases}\n",
    "  \\theta\\cdot\\Bigl[(S-K_{2})-\\left(\\mathcal{P}_{1}+\\mathcal{P}_{2}\\right)\\Bigr]  & S>K_{2} \\\\\n",
    "  -\\theta\\cdot\\Bigl[\\mathcal{P}_{1}+\\mathcal{P}_{2}\\Bigr] & K_{1}\\leq{S}\\leq{K_{2}} \\\\\n",
    "  \\theta\\cdot\\Bigl[(K_{1}-S)-\\left(\\mathcal{P}_{1}+\\mathcal{P}_{2}\\right)\\Bigr] & S<{K_{1}}\n",
    "\\end{cases}\n",
    "$$\n",
    "\n",
    "A [strangle](https://www.investopedia.com/terms/s/strangle.asp) has two break-even points $S^{+}$ and $S^{-}$ where $K_{2}<S^{+}$ and $S^{-}<K_{1}$. The low break-even point $S^{-}$ is given by:\n",
    "\n",
    "$$S^{-} = K_{1} - \\left(\\mathcal{P}_{1}+\\mathcal{P}_{2}\\right)$$\n",
    "\n",
    "while the high break-even point $S^{+}$ is given by:\n",
    "\n",
    "$$S^{+} = K_{2} + \\left(\\mathcal{P}_{1}+\\mathcal{P}_{2}\\right)$$"
   ]
  },
  {
   "cell_type": "markdown",
   "id": "24f9782c-23dd-415d-be10-9b14fcbec1d4",
   "metadata": {},
   "source": [
    "#### Long strangle\n",
    "For a long strangle, we purchase (are long) both the `put` and the `call` contracts in the straddle, thus $\\theta = 1$. Opening this trade results in a `debit`, where the investor profits when the trade is closed. Let's contruct the profit diagram for a long straddle with the parameters:\n",
    "\n",
    "* Leg 1: The strike price for the `long put` leg is given by $K_{1}$ = 105 USD/share with `DTE = 31 days`\n",
    "* Leg 2: The strike price for the `long call` leg is given by $K_{2}$ = 135 USD/share with `DTE = 31 days`\n",
    "\n",
    "##### Implementation\n",
    "To create a profit diagram, we first need to determine the strike prices for each trade leg (stored in the $K_{\\star}$ variables). We then utilize `build(...)` methods to construct option contract models. Next, we generate an array of share prices at expiration and store them in the `S` array. Using the `profit(...)` function, we calculate the profit for each leg and the overall trade. We also determine the breakeven points for the trade using analytical expressions and plot the share price versus the profit with the help of `plot(...)` functions from the [Plots.jl](https://github.com/JuliaPlots/Plots.jl) package."
   ]
  },
  {
   "cell_type": "code",
   "execution_count": null,
   "id": "4830b215-bd4e-451b-a664-b3ec681f5e26",
   "metadata": {
    "tags": []
   },
   "outputs": [
    {
     "ename": "LoadError",
     "evalue": "UndefVarError: `options_dataset` not defined",
     "output_type": "error",
     "traceback": [
      "UndefVarError: `options_dataset` not defined",
      "",
      "Stacktrace:",
      " [1] top-level scope",
      "   @ In[7]:5"
     ]
    }
   ],
   "source": [
    "let\n",
    "\n",
    "    K₁ = 105.0;\n",
    "    K₂ = 135.0;\n",
    "    premium_1 = filter([:Strike,:Type] => (x,y) -> (x == K₁ && y == \"Put\"), options_dataset)[1,:Midpoint];\n",
    "    premium_2 = filter([:Strike,:Type] => (x,y) -> (x == K₂ && y == \"Call\"), options_dataset)[1,:Midpoint];\n",
    "    \n",
    "    max_loss = -1*(premium_1 + premium_2);\n",
    "    \n",
    "    put_contract_model = build(MyAmericanPutContractModel, (\n",
    "            K = K₁, premium = premium_1, sense = 1, copy = 1\n",
    "    ));\n",
    "\n",
    "    call_contract_model = build(MyAmericanCallContractModel, (\n",
    "            K = K₂, premium = premium_2, sense = 1, copy = 1\n",
    "    ));\n",
    "    \n",
    "    S = range(90,stop = 150, step=0.1) |> collect;\n",
    "    number_of_steps = length(S);\n",
    "    BEL = zeros(length(S))\n",
    "    profit_array = profit([put_contract_model, call_contract_model], S);\n",
    "    \n",
    "    breakeven_array = zeros(2,2);\n",
    "    breakeven_array[1,1] = K₂ + (premium_1 + premium_2);\n",
    "    breakeven_array[2,1] = K₁ - (premium_1 + premium_2);\n",
    "    \n",
    "    plot(profit_array[:,1], profit_array[:,4], lw=4, label=\"Profit\", c=:black, \n",
    "        bg=\"floralwhite\", \tbackground_color_outside=\"white\", framestyle = :box, fg_legend = :transparent, \n",
    "        legend = :top)\n",
    "    plot!(profit_array[:,1], profit_array[:,2], lw=2, label=\"Put\", ls=:dash, c=:red)\n",
    "    plot!(profit_array[:,1], profit_array[:,3], lw=2, label=\"Call\", ls=:dash, c=:navyblue)\n",
    "    \n",
    "    scatter!([K₂],[max_loss], ms=5, label = \"K₂ = $(K₂) (long call)\", msc=:black, mc=:white)\n",
    "    scatter!([K₁],[max_loss], ms=5, label = \"K₁ = $(K₁) (long put)\", msc=:black, mc=:white)\n",
    "    \n",
    "    plot!(S,BEL,lw=3, c=:green, label=\"\")\n",
    "    scatter!(breakeven_array[:,1], breakeven_array[:,2], c=:black, label=\"breakeven\", ms=5)\n",
    "    \n",
    "    VLINE = zeros(number_of_steps, 2)\n",
    "    VLINE[:,1] .= Sₒ*ones(number_of_steps)\n",
    "    VLINE[:,2] .= range(minimum(-1*profit_array[:,end]), stop = maximum(profit_array[:,end]), length = number_of_steps) |> collect;\n",
    "    plot!(VLINE[:,1], VLINE[:,2], lw=2, c= :gray69, ls=:dash, label=\"Sₒ = $(Sₒ) USD/share\")\n",
    "    \n",
    "    xlabel!(\"Share price at expiration (USD/share)\", fontsize=18)\n",
    "    ylabel!(\"Profit (USD/share)\", fontsize=18)\n",
    "end"
   ]
  },
  {
   "cell_type": "markdown",
   "id": "d8150011-1821-4e0b-9fc4-dec34c4d7094",
   "metadata": {},
   "source": [
    "#### Short strangle\n",
    "For a short strangle, we sell (are short) both the `put` and the `call` contracts in the straddle, thus $\\theta = 1$. Let's contruct the profit diagram for a long straddle with the parameters:\n",
    "\n",
    "* Leg 1: The strike price for the `short put` leg is given by $K_{1}$ = 105 USD/share with `DTE = 31 days`\n",
    "* Leg 2: The strike price for the `short call` leg is given by $K_{2}$ = 135 USD/share with `DTE = 31 days`\n",
    "\n",
    "##### Implementation\n",
    "To create a profit diagram, we first need to determine the strike prices for each trade leg (stored in the $K_{\\star}$ variables). We then utilize `build(...)` methods to construct option contract models. Next, we generate an array of share prices at expiration and store them in the `S` array. Using the `profit(...)` function, we calculate the profit for each leg and the overall trade. We also determine the breakeven points for the trade using analytical expressions and plot the share price versus the profit with the help of `plot(...)` functions from the [Plots.jl](https://github.com/JuliaPlots/Plots.jl) package."
   ]
  },
  {
   "cell_type": "code",
   "execution_count": null,
   "id": "0b7d5d3f-6def-4897-9d96-5d71ca55ab19",
   "metadata": {
    "tags": []
   },
   "outputs": [
    {
     "ename": "LoadError",
     "evalue": "UndefVarError: `options_dataset` not defined",
     "output_type": "error",
     "traceback": [
      "UndefVarError: `options_dataset` not defined",
      "",
      "Stacktrace:",
      " [1] top-level scope",
      "   @ In[8]:5"
     ]
    }
   ],
   "source": [
    "let\n",
    "\n",
    "    K₁ = 105.0;\n",
    "    K₂ = 135.0;\n",
    "    premium_1 = filter([:Strike,:Type] => (x,y) -> (x == K₁ && y == \"Put\"), options_dataset)[1,:Midpoint];\n",
    "    premium_2 = filter([:Strike,:Type] => (x,y) -> (x == K₂ && y == \"Call\"), options_dataset)[1,:Midpoint];\n",
    "    \n",
    "    max_profit = (premium_1 + premium_2);\n",
    "    \n",
    "    put_contract_model = build(MyAmericanPutContractModel, (\n",
    "            K = K₁, premium = premium_1, sense = -1, copy = 1\n",
    "    ));\n",
    "\n",
    "    call_contract_model = build(MyAmericanCallContractModel, (\n",
    "            K = K₂, premium = premium_2, sense = -1, copy = 1\n",
    "    ));\n",
    "    \n",
    "    S = range(90,stop = 150, step=0.1) |> collect;\n",
    "    number_of_steps = length(S);\n",
    "    BEL = zeros(length(S))\n",
    "    profit_array = profit([put_contract_model, call_contract_model], S);\n",
    "    \n",
    "    breakeven_array = zeros(2,2);\n",
    "    breakeven_array[1,1] = K₂ + (premium_1 + premium_2);\n",
    "    breakeven_array[2,1] = K₁ - (premium_1 + premium_2);\n",
    "    \n",
    "    plot(profit_array[:,1], profit_array[:,4], lw=3, label=\"Profit\", c=:black, \n",
    "    bg=\"floralwhite\", \tbackground_color_outside=\"white\", framestyle = :box, fg_legend = :transparent,\n",
    "    legend=:bottom)\n",
    "    plot!(profit_array[:,1], profit_array[:,2], lw=2, label=\"Put\", ls=:dash, c=:red)\n",
    "    plot!(profit_array[:,1], profit_array[:,3], lw=2, label=\"Call\", ls=:dash, c=:navyblue)\n",
    "    \n",
    "    plot!(S,BEL,lw=3, c=:green, label=\"\")\n",
    "    scatter!(breakeven_array[:,1], breakeven_array[:,2], c=:black, label=\"breakeven\", ms=5)\n",
    "    \n",
    "    scatter!([K₂],[max_profit], ms=5, label = \"K₂ = $(K₂) (short call)\", msc=:black, mc=:white)\n",
    "    scatter!([K₁],[max_profit], ms=5, label = \"K₁ = $(K₁) (short put)\", msc=:black, mc=:white)\n",
    "    \n",
    "    VLINE = zeros(number_of_steps, 2)\n",
    "    VLINE[:,1] .= Sₒ*ones(number_of_steps)\n",
    "    VLINE[:,2] .= range(minimum(-1*profit_array[:,end]), stop = maximum(profit_array[:,end]), length = number_of_steps) |> collect;\n",
    "    plot!(VLINE[:,1], VLINE[:,2], lw=2, c= :gray69, ls=:dash, label=\"Sₒ = $(Sₒ) USD/share\")\n",
    "    \n",
    "    xlabel!(\"Share price at expiration (USD/share)\", fontsize=18)\n",
    "    ylabel!(\"Profit (USD/share)\", fontsize=18)\n",
    "end"
   ]
  },
  {
   "cell_type": "markdown",
   "id": "d2eb39bc-27f1-4e4a-9f23-36f7d4c7ab96",
   "metadata": {},
   "source": [
    "## Disclaimer and Risks\n",
    "\n",
    "__This content is offered solely for training and informational purposes__. No offer or solicitation to buy or sell securities or derivative products or any investment or trading advice or strategy is made, given, or endorsed by the teaching team.\n",
    "\n",
    "__Trading involves risk__. Carefully review your financial situation before investing in securities, futures contracts, options, or commodity interests. Past performance, whether actual or indicated by historical tests of strategies, is no guarantee of future performance or success. Trading is generally inappropriate for someone with limited resources, investment or trading experience, or a low-risk tolerance. Only risk capital that is not required for living expenses.\n",
    "\n",
    "__You are fully responsible for any investment or trading decisions you make__. Such decisions should be based solely on evaluating your financial circumstances, investment or trading objectives, risk tolerance, and liquidity needs."
   ]
  },
  {
   "cell_type": "code",
   "execution_count": null,
   "id": "457c843c-83be-487f-a401-5f95ce6fa7d1",
   "metadata": {},
   "outputs": [],
   "source": []
  }
 ],
 "metadata": {
  "kernelspec": {
   "display_name": "Julia 1.9.3",
   "language": "julia",
   "name": "julia-1.9"
  },
  "language_info": {
   "file_extension": ".jl",
   "mimetype": "application/julia",
   "name": "julia",
   "version": "1.9.3"
  }
 },
 "nbformat": 4,
 "nbformat_minor": 5
}
