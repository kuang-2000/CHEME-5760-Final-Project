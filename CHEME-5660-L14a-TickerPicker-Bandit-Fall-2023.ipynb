{
 "cells": [
  {
   "cell_type": "markdown",
   "id": "e7581284-9d0a-44c4-b8f3-d9e735f72b55",
   "metadata": {},
   "source": [
    "## Example: Developing a Bernoulli Binary Bandit Ticker Picker Agent\n",
    "In this example, we'll develop an agent to select which stocks we should include in a portfolio $\\mathcal{P}$ by solving a Multi-arm Binary Bandit problem using [ϵ-Greedy Thompson Sampling](https://arxiv.org/abs/1707.02038). \n",
    "\n",
    "### Problem\n",
    "* We have `N` agents independently analyze sequences of daily Open High Low Close (OHLC) data and rank-order their belief that ticker `XYZ` will return at least the risk-free rate in the next step. \n",
    "* We then sample the `world`. If ticker `XYZ` returns greater than or equal to the risk-free rate in the next time period, the agent receives a reward of `+1`. Otherwise, the agent recives a reward of `0`.\n",
    "* Each agent develops a distribution of beliefs based on this experimentation, which is stored in a $\\beta$-distribution\n",
    "* Each ticker is an action in the set $\\mathcal{A}=\\left\\{a_{1},a_{2},\\dots,a_{K}\\right\\}$"
   ]
  },
  {
   "cell_type": "markdown",
   "id": "1f460c75-9615-41a5-b5a1-f3a843413f90",
   "metadata": {},
   "source": [
    "## Setup"
   ]
  },
  {
   "cell_type": "code",
   "execution_count": 1,
   "id": "734b30e2-a662-4bd3-bc37-a61d93b0b4dc",
   "metadata": {
    "tags": []
   },
   "outputs": [
    {
     "name": "stderr",
     "output_type": "stream",
     "text": [
      "\u001b[32m\u001b[1m    Updating\u001b[22m\u001b[39m git-repo `https://github.com/varnerlab/VLQuantitativeFinancePackage.jl.git`\n",
      "\u001b[32m\u001b[1m   Resolving\u001b[22m\u001b[39m package versions...\n",
      "\u001b[32m\u001b[1m  No Changes\u001b[22m\u001b[39m to `~/Desktop/julia_work/CHEME-5660-Examples-F23/Project.toml`\n",
      "\u001b[32m\u001b[1m  No Changes\u001b[22m\u001b[39m to `~/Desktop/julia_work/CHEME-5660-Examples-F23/Manifest.toml`\n",
      "\u001b[32m\u001b[1m  Activating\u001b[22m\u001b[39m project at `~/Desktop/julia_work/CHEME-5660-Examples-F23`\n",
      "\u001b[32m\u001b[1m  No Changes\u001b[22m\u001b[39m to `~/Desktop/julia_work/CHEME-5660-Examples-F23/Project.toml`\n",
      "\u001b[32m\u001b[1m  No Changes\u001b[22m\u001b[39m to `~/Desktop/julia_work/CHEME-5660-Examples-F23/Manifest.toml`\n",
      "\u001b[32m\u001b[1m    Updating\u001b[22m\u001b[39m registry at `~/.julia/registries/General.toml`\n",
      "\u001b[32m\u001b[1m    Updating\u001b[22m\u001b[39m git-repo `https://github.com/varnerlab/VLQuantitativeFinancePackage.jl.git`\n",
      "\u001b[32m\u001b[1m  No Changes\u001b[22m\u001b[39m to `~/Desktop/julia_work/CHEME-5660-Examples-F23/Project.toml`\n",
      "\u001b[32m\u001b[1m  No Changes\u001b[22m\u001b[39m to `~/Desktop/julia_work/CHEME-5660-Examples-F23/Manifest.toml`\n"
     ]
    }
   ],
   "source": [
    "include(\"Include.jl\");"
   ]
  },
  {
   "cell_type": "code",
   "execution_count": 2,
   "id": "74146e90-d630-49de-abf7-aaae8d6fbfd0",
   "metadata": {
    "tags": []
   },
   "outputs": [],
   "source": [
    "include(joinpath(_PATH_TO_SRC, \"CHEME-5660-L14a-BanditProblems-CodeLibrary.jl\"));"
   ]
  },
  {
   "cell_type": "markdown",
   "id": "44efd168-6b4b-4706-86ed-1abd7bd74468",
   "metadata": {
    "tags": []
   },
   "source": [
    "## Prerequisites: Load and clean the historical dataset\n",
    "We gathered a daily open-high-low-close `dataset` for each firm in the [S&P500](https://en.wikipedia.org/wiki/S%26P_500) since `01-03-2018` until `11-17-2023`, along with data for a few exchange traded funds and volatility products during that time. "
   ]
  },
  {
   "cell_type": "code",
   "execution_count": 3,
   "id": "2598add3-65e9-4c4e-a4b3-d3b9c4095d02",
   "metadata": {
    "tags": []
   },
   "outputs": [],
   "source": [
    "original_dataset = load(joinpath(_PATH_TO_DATA, \n",
    "        \"SP500-Daily-OHLC-1-3-2018-to-11-17-2023.jld2\")) |> x-> x[\"dataset\"];"
   ]
  },
  {
   "cell_type": "markdown",
   "id": "1f91f716-f9b9-41b2-806a-9f3f999f84e7",
   "metadata": {},
   "source": [
    "### Clean the data\n",
    "Not all of the tickers in our dataset have the maximum number of trading days for various reasons, e.g., acquistion or de-listing events. Let's collect only those tickers with the maximum number of trading days.\n",
    "\n",
    "* First, let's compute the number of records for a company that we know has a maximim value, e.g., `AAPL` and save that value in the `maximum_number_trading_days` variable:"
   ]
  },
  {
   "cell_type": "code",
   "execution_count": 4,
   "id": "64eceddb-6ed7-4f86-9f27-be8e4eb763bb",
   "metadata": {
    "tags": []
   },
   "outputs": [
    {
     "data": {
      "text/plain": [
       "1480"
      ]
     },
     "execution_count": 4,
     "metadata": {},
     "output_type": "execute_result"
    }
   ],
   "source": [
    "maximum_number_trading_days = original_dataset[\"AAPL\"] |> nrow"
   ]
  },
  {
   "cell_type": "markdown",
   "id": "ce9bfe6f-0463-4e33-b826-efb6a15a9d60",
   "metadata": {},
   "source": [
    "Now, lets iterate through our data and collect only those tickers that have `maximum_number_trading_days` records. Save that data in the `dataset::Dict{String,DataFrame}` variable:"
   ]
  },
  {
   "cell_type": "code",
   "execution_count": 5,
   "id": "8b46a0ff-60a0-45aa-b00c-eddd9c1f0a65",
   "metadata": {
    "tags": []
   },
   "outputs": [],
   "source": [
    "dataset = Dict{String,DataFrame}();\n",
    "for (ticker,data) ∈ original_dataset\n",
    "    if (nrow(data) == maximum_number_trading_days)\n",
    "        dataset[ticker] = data;\n",
    "    end\n",
    "end\n",
    "dataset;"
   ]
  },
  {
   "cell_type": "markdown",
   "id": "07956832-7e1f-4695-8391-530924d5d704",
   "metadata": {},
   "source": [
    "Let's get a list of firms that we have in cleaned up `dataset`, and save it in the `all_tickers` array:"
   ]
  },
  {
   "cell_type": "code",
   "execution_count": 6,
   "id": "bf104b4e-6829-4d88-be4d-cf8bd1833ef3",
   "metadata": {
    "tags": []
   },
   "outputs": [
    {
     "data": {
      "text/plain": [
       "459"
      ]
     },
     "execution_count": 6,
     "metadata": {},
     "output_type": "execute_result"
    }
   ],
   "source": [
    "all_tickers = keys(dataset) |> collect |> sort;\n",
    "K = length(all_tickers)"
   ]
  },
  {
   "cell_type": "markdown",
   "id": "8cc6fbed-15c7-4f21-bb8e-dab4be1d0984",
   "metadata": {},
   "source": [
    "## Initialize the `world` function\n",
    "The world function takes action `a`, i.e., chooses a `ticker` from the collection of stocks/ETFs that we are exploring, and asks whether or not the return of this `ticker` at the end of today was greater or equal to the risk-free rate. \n",
    "* If the daily return is greater than or equal to the risk-free rate, the `agent` receives a reward of `r = 1`. Otherwise, the `agent` receives a `r = 0` reward."
   ]
  },
  {
   "cell_type": "code",
   "execution_count": 7,
   "id": "80806586-5fb3-4f65-97d9-f65236d7ce61",
   "metadata": {
    "tags": []
   },
   "outputs": [],
   "source": [
    "function world(action::Int64, start::Int64, data::Dict{String, DataFrame}, tickers::Array{String,1}; \n",
    "        Δt::Float64 = (1.0/252.0), risk_free_rate::Float64 = 0.05, buffersize::Int64 = 1)::Int64\n",
    "\n",
    "    # initialize -\n",
    "    result_flag = 0;\n",
    "\n",
    "    # daily risk free rate -\n",
    "    T = buffersize*Δt;\n",
    "\n",
    "    # grab the ticker we are looking at?\n",
    "    ticker_symbol = tickers[action];\n",
    "    \n",
    "    # compute the expected return over the horizon -\n",
    "    price_df = data[ticker_symbol];\n",
    "    time = range(start+1,(start+buffersize), step=1) |> collect\n",
    "    buffer = Array{Float64,1}();\n",
    "    for t ∈ time\n",
    "        P₁ = price_df[t-1,  :volume_weighted_average_price]\n",
    "        P₂ = price_df[t, :volume_weighted_average_price]\n",
    "        R = (1/Δt)*log(P₂/P₁);\n",
    "        push!(buffer,R);\n",
    "    end\n",
    "    μ = mean(buffer);\n",
    "\n",
    "    # if we invested 1 USD, in each how much would we have at the end of horizon -\n",
    "    W_risk_free = exp(risk_free_rate*T);\n",
    "    W_ticker = exp(μ*T);\n",
    "    \n",
    "    # are we better or worse relative to the risk-free investment?\n",
    "    if (W_ticker >= W_risk_free)\n",
    "        result_flag = 1;\n",
    "    end\n",
    "\n",
    "    # default -\n",
    "    return result_flag;\n",
    "end;"
   ]
  },
  {
   "cell_type": "markdown",
   "id": "eeeed5cd-38c1-4675-8fc9-4fca94b63bbe",
   "metadata": {
    "tags": []
   },
   "source": [
    "Set the `risk_free_rate` variable:"
   ]
  },
  {
   "cell_type": "code",
   "execution_count": 8,
   "id": "4c0a61e0-bd90-439a-8ad4-1675fb4a64f3",
   "metadata": {
    "tags": []
   },
   "outputs": [],
   "source": [
    "risk_free_rate = 0.047;"
   ]
  },
  {
   "cell_type": "markdown",
   "id": "5e36d017-4939-4928-815f-8e5570927efc",
   "metadata": {},
   "source": [
    "## Setup the `ticker-picker` agent"
   ]
  },
  {
   "cell_type": "markdown",
   "id": "ab9db0c8-992e-4ebc-b16f-f32b0c1a23ea",
   "metadata": {},
   "source": [
    "First, let's specify the tickers that we want to examine in the `tickers` array, and store the number of tickers in the `K` variable:"
   ]
  },
  {
   "cell_type": "code",
   "execution_count": 9,
   "id": "f39a61bf-697f-40d0-8012-a099e19cd250",
   "metadata": {
    "tags": []
   },
   "outputs": [],
   "source": [
    "tickers = [\"MRK\", \"JNJ\", \"MET\", \"NFLX\", \"AAPL\", \"AMD\", \"MU\", \"INTC\", \"MSFT\", \"SPY\", \"SPYD\", \"MMM\",\n",
    "    \"UNH\", \"JPM\", \"OXY\", \"TSLA\", \"PEP\", \"LMT\", \"CMCSA\", \"ECL\", \"SRE\"];\n",
    "K = length(tickers);"
   ]
  },
  {
   "cell_type": "markdown",
   "id": "ca001a8e-911f-42ea-93b4-25c3834f1c97",
   "metadata": {},
   "source": [
    "Next, we construct the `EpsilonSamplingModel` instance which holds information about the ϵ-greedy sampling approach. The `EpsilonSamplingModel` type has one additional field, the `ϵ` field which controls the approximate fraction of `exploration` steps the algorithm takes; `exploration` steps are purely random."
   ]
  },
  {
   "cell_type": "code",
   "execution_count": 10,
   "id": "77681663-c7c3-4071-b522-65d16acfdf8b",
   "metadata": {
    "tags": []
   },
   "outputs": [],
   "source": [
    "model = EpsilonSamplingModel()\n",
    "model.K = K; # tickers\n",
    "model.α = ones(K); # initialize to uniform values\n",
    "model.β = ones(K); # initialize to uniform values\n",
    "model.ϵ = 0.2;"
   ]
  },
  {
   "cell_type": "markdown",
   "id": "5882a50a-4e0e-4572-8cee-32a390ae35ab",
   "metadata": {},
   "source": [
    "## Run a single `ticker-picker` agent and explore its preferences\n",
    "Let's run a single `ticker-picker` agent and examine what it returns using the `sample(...)` function. \n",
    "* The `sample(...)` function takes the agent model `model::EpsilonSamplingModel`, the `world::Function`, the cleaned `dataset` and your list of `tickers`, along with the `horizon` parameter, i.e., how many iterations we want the search to run for,  and the `risk_free_rate`. \n",
    "* The `sample(...)` function returns a dictionary holding the $(\\alpha,\\beta)$ parameters for each ticker (values) for iteration (keys).  "
   ]
  },
  {
   "cell_type": "code",
   "execution_count": 11,
   "id": "0f05cdd3-714f-4299-88fa-b4a5a81819f5",
   "metadata": {
    "tags": []
   },
   "outputs": [
    {
     "data": {
      "text/plain": [
       "Dict{Int64, Matrix{Float64}} with 1479 entries:\n",
       "  1144 => [17.0 12.0; 10.0 11.0; … ; 26.0 23.0; 2.0 8.0]\n",
       "  1175 => [19.0 14.0; 11.0 11.0; … ; 26.0 25.0; 2.0 8.0]\n",
       "  719  => [4.0 8.0; 4.0 8.0; … ; 15.0 15.0; 2.0 7.0]\n",
       "  1028 => [8.0 10.0; 7.0 10.0; … ; 23.0 21.0; 2.0 7.0]\n",
       "  699  => [4.0 8.0; 4.0 8.0; … ; 15.0 15.0; 2.0 7.0]\n",
       "  831  => [5.0 9.0; 6.0 9.0; … ; 16.0 15.0; 2.0 7.0]\n",
       "  1299 => [38.0 26.0; 13.0 14.0; … ; 27.0 25.0; 2.0 9.0]\n",
       "  1438 => [45.0 37.0; 18.0 17.0; … ; 28.0 29.0; 2.0 9.0]\n",
       "  1074 => [11.0 10.0; 8.0 11.0; … ; 23.0 22.0; 2.0 8.0]\n",
       "  319  => [4.0 7.0; 3.0 6.0; … ; 9.0 7.0; 2.0 4.0]\n",
       "  687  => [4.0 8.0; 3.0 8.0; … ; 15.0 15.0; 2.0 7.0]\n",
       "  1199 => [23.0 17.0; 11.0 11.0; … ; 26.0 25.0; 2.0 8.0]\n",
       "  185  => [2.0 3.0; 3.0 4.0; … ; 4.0 4.0; 2.0 4.0]\n",
       "  823  => [5.0 9.0; 6.0 9.0; … ; 16.0 15.0; 2.0 7.0]\n",
       "  1090 => [12.0 11.0; 8.0 11.0; … ; 23.0 22.0; 2.0 8.0]\n",
       "  420  => [4.0 8.0; 3.0 6.0; … ; 10.0 9.0; 2.0 5.0]\n",
       "  1370 => [40.0 35.0; 15.0 15.0; … ; 28.0 28.0; 2.0 9.0]\n",
       "  1437 => [45.0 37.0; 18.0 17.0; … ; 28.0 29.0; 2.0 9.0]\n",
       "  525  => [4.0 8.0; 3.0 6.0; … ; 11.0 12.0; 2.0 5.0]\n",
       "  365  => [4.0 7.0; 3.0 6.0; … ; 9.0 8.0; 2.0 5.0]\n",
       "  638  => [4.0 8.0; 3.0 8.0; … ; 15.0 13.0; 2.0 6.0]\n",
       "  263  => [3.0 5.0; 3.0 4.0; … ; 4.0 5.0; 2.0 4.0]\n",
       "  422  => [4.0 8.0; 3.0 6.0; … ; 10.0 9.0; 2.0 5.0]\n",
       "  242  => [3.0 5.0; 3.0 4.0; … ; 4.0 5.0; 2.0 4.0]\n",
       "  1266 => [33.0 22.0; 13.0 13.0; … ; 27.0 25.0; 2.0 8.0]\n",
       "  ⋮    => ⋮"
      ]
     },
     "execution_count": 11,
     "metadata": {},
     "output_type": "execute_result"
    }
   ],
   "source": [
    "time_sample_results_dict_eps = sample(model, world, dataset, tickers; \n",
    "    horizon = (maximum_number_trading_days - 1), risk_free_rate = risk_free_rate)"
   ]
  },
  {
   "cell_type": "code",
   "execution_count": 12,
   "id": "d673bb39-ddab-4e20-b8eb-9084f5b550f9",
   "metadata": {
    "tags": []
   },
   "outputs": [
    {
     "data": {
      "text/plain": [
       "21×2 Matrix{Float64}:\n",
       " 46.0  39.0\n",
       " 18.0  18.0\n",
       " 47.0  38.0\n",
       "  3.0  10.0\n",
       " 20.0  21.0\n",
       " 10.0  16.0\n",
       " 56.0  48.0\n",
       " 33.0  28.0\n",
       "  7.0  15.0\n",
       " 68.0  58.0\n",
       " 12.0  18.0\n",
       " 43.0  43.0\n",
       " 11.0  14.0\n",
       "  2.0   8.0\n",
       " 28.0  31.0\n",
       " 74.0  59.0\n",
       " 58.0  50.0\n",
       " 40.0  38.0\n",
       " 12.0  18.0\n",
       " 28.0  30.0\n",
       "  2.0   9.0"
      ]
     },
     "execution_count": 12,
     "metadata": {},
     "output_type": "execute_result"
    }
   ],
   "source": [
    "Z = time_sample_results_dict_eps[1479]"
   ]
  },
  {
   "cell_type": "markdown",
   "id": "41dd38c1-8cef-4919-8a6b-c470ad943e31",
   "metadata": {},
   "source": [
    "## Run a collection of `ticker-picker` agents and examine their preferences\n",
    "Repeat the single-agent analysis with `N` agents by running the `sample(...)` method inside a `for` loop. We'll store the results of the last time point in the `agent_specific_data::Array{Beta,2}(undef, K, number_of_agents)` array. \n",
    "* The `agent_specific_data` array holds the `Beta` distributions for each agent, i.e., it holds the preferences for each agent (cols) for each `ticker` in our collection (rows)."
   ]
  },
  {
   "cell_type": "code",
   "execution_count": 13,
   "id": "38545ba9-fe62-4d12-b3e7-157582823a2d",
   "metadata": {
    "tags": []
   },
   "outputs": [],
   "source": [
    "number_of_agents = 10000;\n",
    "trading_day_index = 1479\n",
    "agent_specific_data = Array{Beta,2}(undef, K, number_of_agents);\n",
    "\n",
    "for agent_index ∈ 1:number_of_agents\n",
    "    \n",
    "    # sample -\n",
    "    time_sample_results_dict_eps = sample(model, world, dataset, tickers; horizon = (maximum_number_trading_days - 1), risk_free_rate = risk_free_rate);\n",
    "    beta_array = build_beta_array(time_sample_results_dict_eps[trading_day_index]);\n",
    "\n",
    "    # grab data for this agent -\n",
    "    for k = 1:K\n",
    "        agent_specific_data[k, agent_index] = beta_array[k]\n",
    "    end\n",
    "end"
   ]
  },
  {
   "cell_type": "code",
   "execution_count": 14,
   "id": "261e43a9-7a37-4e5d-8f7b-7cd0a1e73cb7",
   "metadata": {
    "tags": []
   },
   "outputs": [
    {
     "data": {
      "text/plain": [
       "10000-element Vector{Beta}:\n",
       " Beta{Float64}(α=30.0, β=31.0)\n",
       " Beta{Float64}(α=80.0, β=68.0)\n",
       " Beta{Float64}(α=85.0, β=61.0)\n",
       " Beta{Float64}(α=66.0, β=49.0)\n",
       " Beta{Float64}(α=13.0, β=19.0)\n",
       " Beta{Float64}(α=1.0, β=6.0)\n",
       " Beta{Float64}(α=20.0, β=20.0)\n",
       " Beta{Float64}(α=14.0, β=20.0)\n",
       " Beta{Float64}(α=25.0, β=25.0)\n",
       " Beta{Float64}(α=37.0, β=31.0)\n",
       " Beta{Float64}(α=36.0, β=33.0)\n",
       " Beta{Float64}(α=16.0, β=18.0)\n",
       " Beta{Float64}(α=22.0, β=25.0)\n",
       " ⋮\n",
       " Beta{Float64}(α=2.0, β=8.0)\n",
       " Beta{Float64}(α=85.0, β=59.0)\n",
       " Beta{Float64}(α=21.0, β=22.0)\n",
       " Beta{Float64}(α=2.0, β=8.0)\n",
       " Beta{Float64}(α=21.0, β=24.0)\n",
       " Beta{Float64}(α=13.0, β=18.0)\n",
       " Beta{Float64}(α=37.0, β=25.0)\n",
       " Beta{Float64}(α=19.0, β=18.0)\n",
       " Beta{Float64}(α=17.0, β=20.0)\n",
       " Beta{Float64}(α=17.0, β=23.0)\n",
       " Beta{Float64}(α=13.0, β=18.0)\n",
       " Beta{Float64}(α=26.0, β=27.0)"
      ]
     },
     "execution_count": 14,
     "metadata": {},
     "output_type": "execute_result"
    }
   ],
   "source": [
    "agent_specific_data[1,:] # data for each agent for ticker 1 for all the agents"
   ]
  },
  {
   "cell_type": "markdown",
   "id": "e243138a-c610-406a-9a65-b9ba60a4eb0a",
   "metadata": {},
   "source": [
    "## The wisdom of the collective\n",
    "Now that we have prefernces for the `N` agents (encoded as `Beta` distributions for each ticker), let's develop a concencous belief in which tickers to include in our portfolio $\\mathcal{P}$. First, let's compute the agent-specific rank of eack ticker, where `rank = 1` is the best, and `rank = K` is the worst. We'll store these values in the `preference_rank_array` array."
   ]
  },
  {
   "cell_type": "code",
   "execution_count": 15,
   "id": "db1d74bf-a679-4023-b2b0-09a34569bb04",
   "metadata": {
    "tags": []
   },
   "outputs": [
    {
     "data": {
      "text/plain": [
       "10000×21 Matrix{Int64}:\n",
       " 10  19  21  13   1  12  18  20   2  …   8   4   5   9  16  11  17   3   7\n",
       "  4  15   2  16   5   3   6   8   1     17   7  13  12  10  21  19   9  10\n",
       "  1   9   2   3   6  17  20  12   9     13  15  14   7   4  20  11   8   5\n",
       "  3  14  19  16  11  16  15   6  12     20   9   4   5   8  10  21  18   2\n",
       " 16  19   9  20   7   8   6  21   3      4  15  13   1  11  12   2   5  14\n",
       " 21  11   7  15   8  12  19  18   6  …   2   5  14  17  16   4  13  20   3\n",
       " 10  12  15  17  18   4  19   8  21     14   1   6   2   7   3  11   5  16\n",
       " 15   4  10  14   1   3  20  10   2     12  15   5  21   6  13  18  18   8\n",
       " 10   9  16  21   1   3  12  20   2      8  18   4  19  13  14  15   7   6\n",
       "  4  19  12  16   1   6   8  13   3     11   9  14   9   5   6  21  20  15\n",
       "  6  21   3  11   4  12  18  13  10  …   1  17   8  20   9   2  15  19  15\n",
       " 17  12  16  12   7  20   1   8  11     15  19   3   4  14   6   9  18   2\n",
       " 17  14  20  16   8   1   3  14   4      5  13  11  21  12   9  19  10   7\n",
       "  ⋮                   ⋮              ⋱               ⋮                   ⋮\n",
       " 19  11   9   2   3   6   7   4  12     17   1   5  20  15  18  16  13  20\n",
       "  1   7   6  14  19  11  15  16   5      4  12  13  20   3  21   2  18   8\n",
       " 14  18  10   7   2   1   9   3   8  …  15  13  21  11   5  20  17   4  19\n",
       " 20   6   2  17   7   8   5  14   8     18   1  20  10  12  15  13  16  11\n",
       " 13  11   1   7   9  17  19   3   6     10   2  20  12  14  21   8  15  16\n",
       " 17   7   2   8   1   5  15  14   6      3  10  11   4   8  13  21  20  18\n",
       "  2  17  12  15  16   7  21  13   1     11  19   3   5   4   6  18   9  20\n",
       " 13  20  16  18   1  10  12  14   2  …   4  21   6   8  17  19   8  11  15\n",
       " 16   5  17   2   6   1  20   7  11     21   3  13  13   9   7  15  12  10\n",
       " 17   8  12  12   9   5   2  19  12     16  18   6   1   3   7  20  10   4\n",
       " 15  19  12   4   5   1  16  18   3     11   9  16  21   6  14  20   7   2\n",
       " 10  15  21   3  11   7  20  14   5     16  19  18  13  17   8   9   4  12"
      ]
     },
     "execution_count": 15,
     "metadata": {},
     "output_type": "execute_result"
    }
   ],
   "source": [
    "preference_rank_array = Array{Int,2}(undef, number_of_agents, K);\n",
    "for agent ∈ 1:number_of_agents\n",
    "        \n",
    "    # ask agent about thier preference for ticker i -\n",
    "    experience_distributions = agent_specific_data[:,agent]\n",
    "    preference_vector = preference(experience_distributions, tickers) .|> x-> trunc(Int64,x) # trunc function is cool!\n",
    "    \n",
    "    # package -\n",
    "    for i ∈ 1:K\n",
    "        preference_rank_array[agent, i] = preference_vector[i];\n",
    "    end\n",
    "end\n",
    "preference_rank_array"
   ]
  },
  {
   "cell_type": "markdown",
   "id": "42ffea10-9ddd-4713-ab27-bf17d5e70de6",
   "metadata": {},
   "source": [
    "### Compute the frequency dictionary\n",
    "Let's count the times a `ticker` is ranked in the `top 3` across the `N` agents and then normalize by the number of agents, i.e., compute the frequency of being ranked in the `top 3`. We'll store this value in the `frequency_dictionary,` where the `ticker` is the key, and the frequency is the value.\n",
    "* `Hypothesis`: Those `tickers` with high rank are likelier to beat an alternative `risk-free` investment, while low rank `tickers` do not outperform a `risk-free` alternative investment. "
   ]
  },
  {
   "cell_type": "code",
   "execution_count": 16,
   "id": "ef31e983-9274-484a-869c-732410886f2b",
   "metadata": {
    "tags": []
   },
   "outputs": [],
   "source": [
    "frequency_dictionary = Dict{String,Float64}();\n",
    "for i ∈ eachindex(tickers)\n",
    "    \n",
    "    # compute the frequency -\n",
    "    freq = findall(x->(x==1 || x== 2 || x == 3), preference_rank_array[:,i]) |> x-> length(x) |> x-> x/number_of_agents\n",
    "    \n",
    "    # get the ticker -\n",
    "    ticker = tickers[i];\n",
    "    frequency_dictionary[ticker] = freq;\n",
    "end"
   ]
  },
  {
   "cell_type": "code",
   "execution_count": 17,
   "id": "a36d1052-69b2-4228-8f6b-8dde9968db2e",
   "metadata": {},
   "outputs": [
    {
     "data": {
      "text/plain": [
       "Dict{String, Float64} with 21 entries:\n",
       "  \"MSFT\"  => 0.3172\n",
       "  \"JPM\"   => 0.1556\n",
       "  \"MRK\"   => 0.1311\n",
       "  \"UNH\"   => 0.1088\n",
       "  \"SPY\"   => 0.2584\n",
       "  \"MU\"    => 0.0877\n",
       "  \"SRE\"   => 0.1636\n",
       "  \"TSLA\"  => 0.1721\n",
       "  \"AMD\"   => 0.1643\n",
       "  \"INTC\"  => 0.103\n",
       "  \"MMM\"   => 0.0521\n",
       "  \"ECL\"   => 0.1085\n",
       "  \"LMT\"   => 0.0713\n",
       "  \"OXY\"   => 0.086\n",
       "  \"CMCSA\" => 0.0788\n",
       "  \"JNJ\"   => 0.0982\n",
       "  \"SPYD\"  => 0.1257\n",
       "  \"NFLX\"  => 0.1146\n",
       "  \"PEP\"   => 0.1496\n",
       "  \"MET\"   => 0.2158\n",
       "  \"AAPL\"  => 0.2539"
      ]
     },
     "execution_count": 17,
     "metadata": {},
     "output_type": "execute_result"
    }
   ],
   "source": [
    "frequency_dictionary"
   ]
  },
  {
   "cell_type": "markdown",
   "id": "c9be022e-5056-476d-9313-b81651bf6b4a",
   "metadata": {},
   "source": [
    "### Disclaimer and Risks\n",
    "__This content is offered solely for training and  informational purposes__. No offer or solicitation to buy or sell securities or derivative products, or any investment or trading advice or strategy,  is made, given, or endorsed by the teaching team. \n",
    "\n",
    "__Trading involves risk__. Carefully review your financial situation before investing in securities, futures contracts, options, or commodity interests. Past performance, whether actual or indicated by historical tests of strategies, is no guarantee of future performance or success. Trading is generally inappropriate for someone with limited resources, investment or trading experience, or a low-risk tolerance.  Only risk capital that is not required for living expenses.\n",
    "\n",
    "__You are fully responsible for any investment or trading decisions you make__. Such decisions should be based solely on your evaluation of your financial circumstances, investment or trading objectives, risk tolerance, and liquidity needs."
   ]
  },
  {
   "cell_type": "code",
   "execution_count": null,
   "id": "77c64884-d21f-4828-85ef-62a60da11150",
   "metadata": {},
   "outputs": [],
   "source": []
  }
 ],
 "metadata": {
  "kernelspec": {
   "display_name": "Julia 1.9.3",
   "language": "julia",
   "name": "julia-1.9"
  },
  "language_info": {
   "file_extension": ".jl",
   "mimetype": "application/julia",
   "name": "julia",
   "version": "1.9.3"
  }
 },
 "nbformat": 4,
 "nbformat_minor": 5
}
