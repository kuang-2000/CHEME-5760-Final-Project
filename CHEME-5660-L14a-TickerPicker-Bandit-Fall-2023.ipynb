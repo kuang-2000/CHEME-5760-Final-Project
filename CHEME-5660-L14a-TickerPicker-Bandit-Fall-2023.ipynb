{
 "cells": [
  {
   "cell_type": "markdown",
   "id": "e7581284-9d0a-44c4-b8f3-d9e735f72b55",
   "metadata": {},
   "source": [
    "## Example: Developing a Bernoulli Binary Bandit Ticker Picker Agent\n",
    "In this example, we'll develop an agent to select which stocks we should include in a portfolio $\\mathcal{P}$ by solving a Multi-arm Binary Bandit problem using [ϵ-Greedy Thompson Sampling](https://arxiv.org/abs/1707.02038). \n",
    "\n",
    "### Problem\n",
    "* Let's have `N` agents independently analyze sequences of daily Open High Low Close (OHLC) data and rank-order their belief that ticker `XYZ` will return at least the risk-free rate in the next step. \n",
    "* We then sample the `world`. If ticker `XYZ` returns greater than or equal to the risk-free rate in the next time period, the agent receives a reward of `+1`. Otherwise, the agent recives a reward of `0`.\n",
    "* Each agent develops a distribution of beliefs based on this experimentation, which is stored in a $\\beta$-distribution\n",
    "* Each ticker is an action in the set $\\mathcal{A}=\\left\\{a_{1},a_{2},\\dots,a_{K}\\right\\}$"
   ]
  },
  {
   "cell_type": "markdown",
   "id": "1f460c75-9615-41a5-b5a1-f3a843413f90",
   "metadata": {},
   "source": [
    "## Setup"
   ]
  },
  {
   "cell_type": "code",
   "execution_count": 1,
   "id": "734b30e2-a662-4bd3-bc37-a61d93b0b4dc",
   "metadata": {
    "tags": []
   },
   "outputs": [
    {
     "name": "stderr",
     "output_type": "stream",
     "text": [
      "\u001b[32m\u001b[1m    Updating\u001b[22m\u001b[39m git-repo `https://github.com/varnerlab/VLQuantitativeFinancePackage.jl.git`\n",
      "\u001b[32m\u001b[1m   Resolving\u001b[22m\u001b[39m package versions...\n",
      "\u001b[32m\u001b[1m  No Changes\u001b[22m\u001b[39m to `~/Desktop/julia_work/CHEME-5660-Examples-F23/Project.toml`\n",
      "\u001b[32m\u001b[1m  No Changes\u001b[22m\u001b[39m to `~/Desktop/julia_work/CHEME-5660-Examples-F23/Manifest.toml`\n",
      "\u001b[32m\u001b[1m  Activating\u001b[22m\u001b[39m project at `~/Desktop/julia_work/CHEME-5660-Examples-F23`\n",
      "\u001b[32m\u001b[1m  No Changes\u001b[22m\u001b[39m to `~/Desktop/julia_work/CHEME-5660-Examples-F23/Project.toml`\n",
      "\u001b[32m\u001b[1m  No Changes\u001b[22m\u001b[39m to `~/Desktop/julia_work/CHEME-5660-Examples-F23/Manifest.toml`\n",
      "\u001b[32m\u001b[1m    Updating\u001b[22m\u001b[39m registry at `~/.julia/registries/General.toml`\n",
      "\u001b[32m\u001b[1m    Updating\u001b[22m\u001b[39m git-repo `https://github.com/varnerlab/VLQuantitativeFinancePackage.jl.git`\n",
      "\u001b[32m\u001b[1m  No Changes\u001b[22m\u001b[39m to `~/Desktop/julia_work/CHEME-5660-Examples-F23/Project.toml`\n",
      "\u001b[32m\u001b[1m  No Changes\u001b[22m\u001b[39m to `~/Desktop/julia_work/CHEME-5660-Examples-F23/Manifest.toml`\n"
     ]
    }
   ],
   "source": [
    "include(\"Include.jl\");"
   ]
  },
  {
   "cell_type": "code",
   "execution_count": 2,
   "id": "74146e90-d630-49de-abf7-aaae8d6fbfd0",
   "metadata": {
    "tags": []
   },
   "outputs": [],
   "source": [
    "include(joinpath(_PATH_TO_SRC, \"CHEME-5660-L14a-BanditProblems-CodeLibrary.jl\"));"
   ]
  },
  {
   "cell_type": "markdown",
   "id": "44efd168-6b4b-4706-86ed-1abd7bd74468",
   "metadata": {
    "tags": []
   },
   "source": [
    "## Prerequisites: Load and clean the historical dataset\n",
    "We gathered a daily open-high-low-close `dataset` for each firm in the [S&P500](https://en.wikipedia.org/wiki/S%26P_500) since `01-03-2018` until `11-17-2023`, along with data for a few exchange traded funds and volatility products during that time. "
   ]
  },
  {
   "cell_type": "code",
   "execution_count": 3,
   "id": "2598add3-65e9-4c4e-a4b3-d3b9c4095d02",
   "metadata": {
    "tags": []
   },
   "outputs": [],
   "source": [
    "original_dataset = load(joinpath(_PATH_TO_DATA, \n",
    "        \"SP500-Daily-OHLC-1-3-2018-to-11-17-2023.jld2\")) |> x-> x[\"dataset\"];"
   ]
  },
  {
   "cell_type": "markdown",
   "id": "1f91f716-f9b9-41b2-806a-9f3f999f84e7",
   "metadata": {},
   "source": [
    "### Clean the data\n",
    "Not all of the tickers in our dataset have the maximum number of trading days for various reasons, e.g., acquistion or de-listing events. Let's collect only those tickers with the maximum number of trading days.\n",
    "\n",
    "* First, let's compute the number of records for a company that we know has a maximim value, e.g., `AAPL` and save that value in the `maximum_number_trading_days` variable:"
   ]
  },
  {
   "cell_type": "code",
   "execution_count": 4,
   "id": "64eceddb-6ed7-4f86-9f27-be8e4eb763bb",
   "metadata": {
    "tags": []
   },
   "outputs": [],
   "source": [
    "maximum_number_trading_days = original_dataset[\"AAPL\"] |> nrow;"
   ]
  },
  {
   "cell_type": "markdown",
   "id": "ce9bfe6f-0463-4e33-b826-efb6a15a9d60",
   "metadata": {},
   "source": [
    "Now, lets iterate through our data and collect only those tickers that have `maximum_number_trading_days` records. Save that data in the `dataset::Dict{String,DataFrame}` variable:"
   ]
  },
  {
   "cell_type": "code",
   "execution_count": 5,
   "id": "8b46a0ff-60a0-45aa-b00c-eddd9c1f0a65",
   "metadata": {
    "tags": []
   },
   "outputs": [],
   "source": [
    "dataset = Dict{String,DataFrame}();\n",
    "for (ticker,data) ∈ original_dataset\n",
    "    if (nrow(data) == maximum_number_trading_days)\n",
    "        dataset[ticker] = data;\n",
    "    end\n",
    "end\n",
    "dataset;"
   ]
  },
  {
   "cell_type": "markdown",
   "id": "07956832-7e1f-4695-8391-530924d5d704",
   "metadata": {},
   "source": [
    "Let's get a list of firms that we have in cleaned up `dataset`, and save it in the `all_tickers` array:"
   ]
  },
  {
   "cell_type": "code",
   "execution_count": 6,
   "id": "bf104b4e-6829-4d88-be4d-cf8bd1833ef3",
   "metadata": {
    "tags": []
   },
   "outputs": [
    {
     "data": {
      "text/plain": [
       "459"
      ]
     },
     "execution_count": 6,
     "metadata": {},
     "output_type": "execute_result"
    }
   ],
   "source": [
    "all_tickers = keys(dataset) |> collect |> sort;\n",
    "K = length(all_tickers)"
   ]
  },
  {
   "cell_type": "markdown",
   "id": "8cc6fbed-15c7-4f21-bb8e-dab4be1d0984",
   "metadata": {},
   "source": [
    "## Initialize the `world` function"
   ]
  },
  {
   "cell_type": "code",
   "execution_count": 7,
   "id": "80806586-5fb3-4f65-97d9-f65236d7ce61",
   "metadata": {
    "tags": []
   },
   "outputs": [],
   "source": [
    "function world(action::Int64, start::Int64, data::Dict{String, DataFrame}, tickers::Array{String,1}; \n",
    "        Δt::Float64 = (1.0/252.0), risk_free_rate::Float64 = 0.05, buffersize::Int64 = 1)::Int64\n",
    "\n",
    "    # initialize -\n",
    "    result_flag = 0;\n",
    "\n",
    "    # daily risk free rate -\n",
    "    T = buffersize*Δt;\n",
    "\n",
    "    # grab the ticker we are looking at?\n",
    "    ticker_symbol = tickers[action];\n",
    "    \n",
    "    # compute the expected return over the horizon -\n",
    "    price_df = data[ticker_symbol];\n",
    "    time = range(start+1,(start+buffersize), step=1) |> collect\n",
    "    buffer = Array{Float64,1}();\n",
    "    for t ∈ time\n",
    "        P₁ = price_df[t-1,  :volume_weighted_average_price]\n",
    "        P₂ = price_df[t, :volume_weighted_average_price]\n",
    "        R = (1/Δt)*log(P₂/P₁);\n",
    "        push!(buffer,R);\n",
    "    end\n",
    "    μ = mean(buffer);\n",
    "\n",
    "    # if we invested 1 USD, in each how much would we have at the end of horizon -\n",
    "    W_risk_free = exp(risk_free_rate*T);\n",
    "    W_ticker = exp(μ*T);\n",
    "    \n",
    "    # are we better or worse relative to the risk-free investment?\n",
    "    if (W_ticker >= W_risk_free)\n",
    "        result_flag = 1;\n",
    "    end\n",
    "\n",
    "    # default -\n",
    "    return result_flag;\n",
    "end;"
   ]
  },
  {
   "cell_type": "code",
   "execution_count": 8,
   "id": "4c0a61e0-bd90-439a-8ad4-1675fb4a64f3",
   "metadata": {
    "tags": []
   },
   "outputs": [],
   "source": [
    "risk_free_rate = 0.047;"
   ]
  },
  {
   "cell_type": "markdown",
   "id": "5e36d017-4939-4928-815f-8e5570927efc",
   "metadata": {},
   "source": [
    "## Setup the `ticker-picker` agent"
   ]
  },
  {
   "cell_type": "markdown",
   "id": "ab9db0c8-992e-4ebc-b16f-f32b0c1a23ea",
   "metadata": {},
   "source": [
    "First, let's specify the tickers that we want to examine in the `tickers` array, and store the number of tickers in the `K` variable:"
   ]
  },
  {
   "cell_type": "code",
   "execution_count": 9,
   "id": "f39a61bf-697f-40d0-8012-a099e19cd250",
   "metadata": {
    "tags": []
   },
   "outputs": [],
   "source": [
    "tickers = [\"MRK\", \"JNJ\", \"MET\", \"NFLX\", \"K\", \"AAPL\", \"AMD\", \"MU\", \"INTC\", \"MSFT\", \"SPY\", \"SPYD\"];\n",
    "K = length(tickers);"
   ]
  },
  {
   "cell_type": "markdown",
   "id": "ca001a8e-911f-42ea-93b4-25c3834f1c97",
   "metadata": {},
   "source": [
    "Next, we construct the `EpsilonSamplingModel` instance which holds information about the ϵ-greedy sampling approach. The `EpsilonSamplingModel` type has one additional field, the `ϵ` field which controls the approximate fraction of `exploration` steps the algorithm takes; `exploration` steps are purely random."
   ]
  },
  {
   "cell_type": "code",
   "execution_count": 10,
   "id": "77681663-c7c3-4071-b522-65d16acfdf8b",
   "metadata": {
    "tags": []
   },
   "outputs": [],
   "source": [
    "model = EpsilonSamplingModel()\n",
    "model.K = K; # tickers\n",
    "model.α = ones(K); # initialize to uniform values\n",
    "model.β = ones(K); # initialize to uniform values\n",
    "model.ϵ = 0.2;"
   ]
  },
  {
   "cell_type": "markdown",
   "id": "5882a50a-4e0e-4572-8cee-32a390ae35ab",
   "metadata": {},
   "source": [
    "## A single `ticker-picker` agent learning its preferences"
   ]
  },
  {
   "cell_type": "code",
   "execution_count": 11,
   "id": "0f05cdd3-714f-4299-88fa-b4a5a81819f5",
   "metadata": {
    "tags": []
   },
   "outputs": [
    {
     "data": {
      "text/plain": [
       "Dict{Int64, Matrix{Float64}} with 1479 entries:\n",
       "  1144 => [2.0 7.0; 17.0 23.0; … ; 129.0 91.0; 43.0 37.0]\n",
       "  1175 => [2.0 7.0; 17.0 23.0; … ; 137.0 96.0; 44.0 37.0]\n",
       "  719  => [1.0 6.0; 11.0 14.0; … ; 69.0 46.0; 29.0 27.0]\n",
       "  1028 => [2.0 6.0; 17.0 21.0; … ; 119.0 78.0; 37.0 34.0]\n",
       "  699  => [1.0 6.0; 11.0 13.0; … ; 67.0 45.0; 28.0 26.0]\n",
       "  831  => [1.0 6.0; 13.0 14.0; … ; 88.0 58.0; 31.0 30.0]\n",
       "  1299 => [5.0 8.0; 18.0 23.0; … ; 152.0 109.0; 50.0 42.0]\n",
       "  1438 => [6.0 10.0; 18.0 23.0; … ; 178.0 122.0; 58.0 47.0]\n",
       "  1074 => [2.0 6.0; 17.0 21.0; … ; 120.0 85.0; 40.0 35.0]\n",
       "  319  => [1.0 4.0; 4.0 7.0; … ; 29.0 16.0; 15.0 12.0]\n",
       "  687  => [1.0 6.0; 11.0 13.0; … ; 66.0 45.0; 27.0 26.0]\n",
       "  1199 => [2.0 7.0; 17.0 23.0; … ; 141.0 98.0; 44.0 37.0]\n",
       "  185  => [1.0 3.0; 3.0 4.0; … ; 11.0 7.0; 4.0 5.0]\n",
       "  823  => [1.0 6.0; 13.0 14.0; … ; 87.0 57.0; 31.0 30.0]\n",
       "  1090 => [2.0 6.0; 17.0 21.0; … ; 121.0 87.0; 41.0 35.0]\n",
       "  420  => [1.0 4.0; 4.0 8.0; … ; 39.0 24.0; 18.0 15.0]\n",
       "  1370 => [5.0 9.0; 18.0 23.0; … ; 164.0 115.0; 55.0 45.0]\n",
       "  1437 => [6.0 10.0; 18.0 23.0; … ; 178.0 122.0; 58.0 47.0]\n",
       "  525  => [1.0 4.0; 4.0 8.0; … ; 52.0 35.0; 25.0 22.0]\n",
       "  365  => [1.0 4.0; 4.0 8.0; … ; 33.0 21.0; 15.0 15.0]\n",
       "  638  => [1.0 5.0; 10.0 11.0; … ; 59.0 43.0; 27.0 26.0]\n",
       "  263  => [1.0 4.0; 3.0 6.0; … ; 16.0 11.0; 12.0 9.0]\n",
       "  422  => [1.0 4.0; 4.0 8.0; … ; 39.0 24.0; 19.0 15.0]\n",
       "  242  => [1.0 4.0; 3.0 6.0; … ; 14.0 11.0; 12.0 9.0]\n",
       "  1266 => [4.0 7.0; 18.0 23.0; … ; 148.0 104.0; 50.0 42.0]\n",
       "  ⋮    => ⋮"
      ]
     },
     "execution_count": 11,
     "metadata": {},
     "output_type": "execute_result"
    }
   ],
   "source": [
    "time_sample_results_dict_eps = sample(model, world, dataset, tickers; horizon = (maximum_number_trading_days - 1), risk_free_rate = risk_free_rate)"
   ]
  },
  {
   "cell_type": "code",
   "execution_count": 12,
   "id": "d673bb39-ddab-4e20-b8eb-9084f5b550f9",
   "metadata": {
    "tags": []
   },
   "outputs": [
    {
     "data": {
      "text/plain": [
       "12×2 Matrix{Float64}:\n",
       " 1.0  3.0\n",
       " 1.0  3.0\n",
       " 2.0  4.0\n",
       " 2.0  2.0\n",
       " 1.0  3.0\n",
       " 9.0  4.0\n",
       " 9.0  6.0\n",
       " 7.0  5.0\n",
       " 3.0  3.0\n",
       " 8.0  7.0\n",
       " 7.0  5.0\n",
       " 4.0  4.0"
      ]
     },
     "execution_count": 12,
     "metadata": {},
     "output_type": "execute_result"
    }
   ],
   "source": [
    "Z = time_sample_results_dict_eps[100]"
   ]
  },
  {
   "cell_type": "markdown",
   "id": "41dd38c1-8cef-4919-8a6b-c470ad943e31",
   "metadata": {},
   "source": [
    "## Many `ticker-picker` agents learning "
   ]
  },
  {
   "cell_type": "code",
   "execution_count": 13,
   "id": "38545ba9-fe62-4d12-b3e7-157582823a2d",
   "metadata": {
    "tags": []
   },
   "outputs": [],
   "source": [
    "number_of_agents = 100;\n",
    "trading_day_index = 1469\n",
    "\n",
    "pref_array = Array{Float64,2}(undef, K, number_of_agents);\n",
    "agent_specific_data = Array{Beta,2}(undef, K, number_of_agents);\n",
    "\n",
    "for agent_index ∈ 1:number_of_agents\n",
    "    \n",
    "    # sample -\n",
    "    time_sample_results_dict_eps = sample(model, world, dataset, tickers; horizon = (maximum_number_trading_days - 1), risk_free_rate = risk_free_rate);\n",
    "    beta_array = build_beta_array(time_sample_results_dict_eps[trading_day_index]);\n",
    "\n",
    "    # grab data for this agent -\n",
    "    for k = 1:K\n",
    "        agent_specific_data[k, agent_index] = beta_array[k]\n",
    "    end\n",
    "end"
   ]
  },
  {
   "cell_type": "code",
   "execution_count": 14,
   "id": "261e43a9-7a37-4e5d-8f7b-7cd0a1e73cb7",
   "metadata": {
    "tags": []
   },
   "outputs": [
    {
     "data": {
      "text/plain": [
       "100-element Vector{Beta}:\n",
       " Beta{Float64}(α=26.0, β=33.0)\n",
       " Beta{Float64}(α=24.0, β=31.0)\n",
       " Beta{Float64}(α=5.0, β=13.0)\n",
       " Beta{Float64}(α=40.0, β=41.0)\n",
       " Beta{Float64}(α=31.0, β=31.0)\n",
       " Beta{Float64}(α=25.0, β=27.0)\n",
       " Beta{Float64}(α=50.0, β=56.0)\n",
       " Beta{Float64}(α=88.0, β=73.0)\n",
       " Beta{Float64}(α=100.0, β=77.0)\n",
       " Beta{Float64}(α=102.0, β=86.0)\n",
       " Beta{Float64}(α=107.0, β=92.0)\n",
       " Beta{Float64}(α=35.0, β=32.0)\n",
       " Beta{Float64}(α=65.0, β=57.0)\n",
       " ⋮\n",
       " Beta{Float64}(α=19.0, β=28.0)\n",
       " Beta{Float64}(α=69.0, β=62.0)\n",
       " Beta{Float64}(α=14.0, β=18.0)\n",
       " Beta{Float64}(α=28.0, β=28.0)\n",
       " Beta{Float64}(α=91.0, β=77.0)\n",
       " Beta{Float64}(α=4.0, β=10.0)\n",
       " Beta{Float64}(α=10.0, β=19.0)\n",
       " Beta{Float64}(α=14.0, β=21.0)\n",
       " Beta{Float64}(α=11.0, β=19.0)\n",
       " Beta{Float64}(α=43.0, β=44.0)\n",
       " Beta{Float64}(α=39.0, β=35.0)\n",
       " Beta{Float64}(α=44.0, β=43.0)"
      ]
     },
     "execution_count": 14,
     "metadata": {},
     "output_type": "execute_result"
    }
   ],
   "source": [
    "agent_specific_data[1,:] # data for each agent for ticker i "
   ]
  },
  {
   "cell_type": "markdown",
   "id": "e243138a-c610-406a-9a65-b9ba60a4eb0a",
   "metadata": {},
   "source": [
    "## The wisdom of the collective\n",
    "Now that we have prefernces for the `N` agents (encoded as `beta` distributions for each ticker), let's develop a concencous belief in which tickers to include in our portfolio $\\mathcal{P}$."
   ]
  },
  {
   "cell_type": "code",
   "execution_count": 26,
   "id": "db1d74bf-a679-4023-b2b0-09a34569bb04",
   "metadata": {
    "tags": []
   },
   "outputs": [],
   "source": [
    "preference_rank_array = Array{Int,2}(undef, number_of_agents, K);\n",
    "for agent ∈ 1:number_of_agents\n",
    "        \n",
    "    # ask agent about thier preference for ticker i -\n",
    "    experience_distributions = agent_specific_data[:,agent]\n",
    "    preference_vector = preference(experience_distributions, tickers, N = 5000)\n",
    "    \n",
    "    # compute the rank -\n",
    "    preference_rank = tiedrank(preference_vector, rev=true) .|> x-> trunc(Int64,x) # trunc function is cool!\n",
    "    for i ∈ 1:K\n",
    "        preference_rank_array[agent, i] = preference_rank[i];\n",
    "    end\n",
    "end"
   ]
  },
  {
   "cell_type": "markdown",
   "id": "42ffea10-9ddd-4713-ab27-bf17d5e70de6",
   "metadata": {},
   "source": [
    "### Build a preference table"
   ]
  },
  {
   "cell_type": "code",
   "execution_count": 27,
   "id": "ff076efe-7de5-44f0-938b-cf3e6653590f",
   "metadata": {
    "tags": []
   },
   "outputs": [
    {
     "data": {
      "text/plain": [
       "100×12 Matrix{Int64}:\n",
       "  8   3   9  10   7   1   4  11   6   2   5  12\n",
       " 11   7   1   3   2  12  10   9   8   6   5   4\n",
       " 12   9   6   8  10   5   3   2   7   4   1  11\n",
       "  8  12  11   3   9  10   4   5   6   1   2   7\n",
       "  5   2   7   3  12   4   9  10   6  11   1   8\n",
       "  9   8  11  12   3   1   5   6  10   6   2   4\n",
       "  8   1   6   9  12   2  10  11   7   5   3   4\n",
       "  2  10   8   9  12   1   4   6  11   5   3   7\n",
       "  3   7  11  12   8   2   9   1  10   4   6   5\n",
       "  2   9  12   1   8   5   4   2  11   7   6  10\n",
       "  2   8  11   5   1   7  10   3  12   9   4   6\n",
       "  7   4   9   2  12   3  11   6   5   8   1  10\n",
       "  2   8   6  11   4  12   3   9   7   1   5  10\n",
       "  ⋮                   ⋮                   ⋮  \n",
       " 10   8   2   5   1  12   6   4  11   9   3   7\n",
       "  4   9   2   5  12  10   1  11   7   3   6   8\n",
       "  7   9   2   8  12  10  11   5   4   6   1   3\n",
       "  7   8   4   6  12   1   2  10   5   9   3  11\n",
       "  2   3   6   8   5  12  10   1   4   7  11   9\n",
       " 12   9  10   4   6   3   7   8   5   2   1  11\n",
       " 11   1   7   6   5   2   3  10  12   4   8   9\n",
       " 11   8   2  10   9   3   6   7  12   4   1   5\n",
       " 11   5   2  10   4   6   9  12   3   7   1   8\n",
       "  8   2  11   9   7   1   6   4   3   5  10  12\n",
       "  1  11   2  10  12   9   3   8   5   7   4   6\n",
       "  9   7   6  11   4   2  12  10   8   3   1   5"
      ]
     },
     "execution_count": 27,
     "metadata": {},
     "output_type": "execute_result"
    }
   ],
   "source": [
    "preference_rank_array"
   ]
  },
  {
   "cell_type": "code",
   "execution_count": 44,
   "id": "ef31e983-9274-484a-869c-732410886f2b",
   "metadata": {
    "tags": []
   },
   "outputs": [
    {
     "data": {
      "text/plain": [
       "0.09"
      ]
     },
     "execution_count": 44,
     "metadata": {},
     "output_type": "execute_result"
    }
   ],
   "source": [
    "freq = findall(x->x==3,preference_rank_array[:,12]) |> x-> length(x) |> x-> x/number_of_agents"
   ]
  },
  {
   "cell_type": "code",
   "execution_count": null,
   "id": "a36d1052-69b2-4228-8f6b-8dde9968db2e",
   "metadata": {},
   "outputs": [],
   "source": []
  }
 ],
 "metadata": {
  "kernelspec": {
   "display_name": "Julia 1.9.3",
   "language": "julia",
   "name": "julia-1.9"
  },
  "language_info": {
   "file_extension": ".jl",
   "mimetype": "application/julia",
   "name": "julia",
   "version": "1.9.3"
  }
 },
 "nbformat": 4,
 "nbformat_minor": 5
}
