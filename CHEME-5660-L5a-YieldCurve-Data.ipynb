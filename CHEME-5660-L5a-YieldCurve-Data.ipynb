{
 "cells": [
  {
   "cell_type": "markdown",
   "id": "a2fd49fe-1eca-4f39-a1f0-c523471114e4",
   "metadata": {},
   "source": [
    "## The Yield Curve\n",
    "A yield curve is a line that plots yields, or interest rates, of bonds that have differing maturity dates. The slope of the yield curve can predict future interest rate changes and economic activity. There are three main yield curve shapes: normal upward-sloping curve, inverted downward-sloping curve, and flat.\n",
    "\n",
    "* __Normal curves point to economic expansion__. A normal yield curve shows low yields for shorter-maturity bonds and then increases for bonds with a longer maturity, sloping upwards. \n",
    "* __Downward-sloping curves point to economic recession__. An inverted yield curve slopes downward, with short-term interest rates exceeding long-term rates. Such a yield curve corresponds to periods of economic recession, where investors expect yields on longer-maturity bonds to trend lower in the future.\n",
    "* __Flat yield curves point to an uncertain future__. A flat yield curve reflects similar yields across all maturities, implying an uncertain economic situation."
   ]
  },
  {
   "cell_type": "markdown",
   "id": "b1612966-8dde-42c2-a9a2-83c2eec4dfe2",
   "metadata": {},
   "source": [
    "### Setup\n",
    "We load the [VLQuantitativeFinancePackage.jl](https://github.com/varnerlab/VLQuantitativeFinancePackage.jl) package, and several other external [Julia](https://julialang.org/downloads/https://julialang.org/downloads/) packages, as well as some helper code, by calling the [include(...)](https://docs.julialang.org/en/v1/manual/code-loading/https://docs.julialang.org/en/v1/manual/code-loading/) command on the file `Include.jl`:"
   ]
  },
  {
   "cell_type": "code",
   "execution_count": 1,
   "id": "2e6240a0-2c38-4eba-868c-5509d86ee6c7",
   "metadata": {
    "tags": []
   },
   "outputs": [
    {
     "name": "stderr",
     "output_type": "stream",
     "text": [
      "\u001b[32m\u001b[1m  Activating\u001b[22m\u001b[39m project at `~/Desktop/julia_work/CHEME-5660-Examples-F23`\n",
      "\u001b[32m\u001b[1m  No Changes\u001b[22m\u001b[39m to `~/Desktop/julia_work/CHEME-5660-Examples-F23/Project.toml`\n",
      "\u001b[32m\u001b[1m  No Changes\u001b[22m\u001b[39m to `~/Desktop/julia_work/CHEME-5660-Examples-F23/Manifest.toml`\n",
      "\u001b[32m\u001b[1m    Updating\u001b[22m\u001b[39m registry at `~/.julia/registries/General.toml`\n",
      "\u001b[32m\u001b[1m    Updating\u001b[22m\u001b[39m git-repo `https://github.com/varnerlab/VLQuantitativeFinancePackage.jl.git`\n",
      "\u001b[32m\u001b[1m  No Changes\u001b[22m\u001b[39m to `~/Desktop/julia_work/CHEME-5660-Examples-F23/Project.toml`\n",
      "\u001b[32m\u001b[1m  No Changes\u001b[22m\u001b[39m to `~/Desktop/julia_work/CHEME-5660-Examples-F23/Manifest.toml`\n"
     ]
    }
   ],
   "source": [
    "include(\"Include.jl\");"
   ]
  },
  {
   "cell_type": "markdown",
   "id": "97712bd8-8b70-4e86-bf14-ec4c926024ad",
   "metadata": {},
   "source": [
    "### Data\n",
    "Values for the yeild on Treasury securities as a function of duration is compiled daily by the United States Treasury, and is availble for [download](https://home.treasury.gov/policy-issues/financing-the-government/interest-rate-statistics). "
   ]
  },
  {
   "cell_type": "code",
   "execution_count": 3,
   "id": "d6244b05-c760-4576-a6f1-753acf701518",
   "metadata": {
    "tags": []
   },
   "outputs": [],
   "source": [
    "dataset = MyDailyTreasuryYieldCurveDataSet();"
   ]
  },
  {
   "cell_type": "markdown",
   "id": "81fe686a-5374-45e7-8840-97309d719df9",
   "metadata": {},
   "source": [
    "### Visualize"
   ]
  },
  {
   "cell_type": "code",
   "execution_count": null,
   "id": "5ba28c88-f506-46b1-8b39-28fdbd15a5c4",
   "metadata": {},
   "outputs": [],
   "source": []
  }
 ],
 "metadata": {
  "kernelspec": {
   "display_name": "Julia 1.9.3",
   "language": "julia",
   "name": "julia-1.9"
  },
  "language_info": {
   "file_extension": ".jl",
   "mimetype": "application/julia",
   "name": "julia",
   "version": "1.9.3"
  }
 },
 "nbformat": 4,
 "nbformat_minor": 5
}
