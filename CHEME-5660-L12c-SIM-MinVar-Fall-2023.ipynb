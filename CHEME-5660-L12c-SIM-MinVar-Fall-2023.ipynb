{
 "cells": [
  {
   "cell_type": "markdown",
   "id": "d2534105-6383-4535-a269-6af6c4d1680b",
   "metadata": {},
   "source": [
    "## Example: Single Index Models and MinVar Portfolio Allocation\n",
    "Fill me in"
   ]
  },
  {
   "cell_type": "markdown",
   "id": "75c1691d-25c3-4f99-836d-5f01182c7842",
   "metadata": {},
   "source": [
    "## Setup"
   ]
  },
  {
   "cell_type": "code",
   "execution_count": 1,
   "id": "914fab8e-454d-4f98-bbce-bd4ec2edaf29",
   "metadata": {
    "tags": []
   },
   "outputs": [
    {
     "name": "stderr",
     "output_type": "stream",
     "text": [
      "\u001b[32m\u001b[1m    Updating\u001b[22m\u001b[39m git-repo `https://github.com/varnerlab/VLQuantitativeFinancePackage.jl.git`\n",
      "\u001b[32m\u001b[1m    Updating\u001b[22m\u001b[39m registry at `~/.julia/registries/General.toml`\n",
      "\u001b[32m\u001b[1m   Resolving\u001b[22m\u001b[39m package versions...\n",
      "\u001b[32m\u001b[1m  No Changes\u001b[22m\u001b[39m to `~/Desktop/julia_work/CHEME-5660-Examples-F23/Project.toml`\n",
      "\u001b[32m\u001b[1m  No Changes\u001b[22m\u001b[39m to `~/Desktop/julia_work/CHEME-5660-Examples-F23/Manifest.toml`\n",
      "\u001b[32m\u001b[1m  Activating\u001b[22m\u001b[39m project at `~/Desktop/julia_work/CHEME-5660-Examples-F23`\n",
      "\u001b[32m\u001b[1m  No Changes\u001b[22m\u001b[39m to `~/Desktop/julia_work/CHEME-5660-Examples-F23/Project.toml`\n",
      "\u001b[32m\u001b[1m  No Changes\u001b[22m\u001b[39m to `~/Desktop/julia_work/CHEME-5660-Examples-F23/Manifest.toml`\n",
      "\u001b[32m\u001b[1m    Updating\u001b[22m\u001b[39m registry at `~/.julia/registries/General.toml`\n",
      "\u001b[32m\u001b[1m    Updating\u001b[22m\u001b[39m git-repo `https://github.com/varnerlab/VLQuantitativeFinancePackage.jl.git`\n",
      "\u001b[32m\u001b[1m   Installed\u001b[22m\u001b[39m XZ_jll ── v5.4.5+0\n",
      "\u001b[32m\u001b[1m   Installed\u001b[22m\u001b[39m MbedTLS ─ v1.1.8\n",
      "\u001b[32m\u001b[1m  No Changes\u001b[22m\u001b[39m to `~/Desktop/julia_work/CHEME-5660-Examples-F23/Project.toml`\n",
      "\u001b[32m\u001b[1m    Updating\u001b[22m\u001b[39m `~/Desktop/julia_work/CHEME-5660-Examples-F23/Manifest.toml`\n",
      "  \u001b[90m[739be429] \u001b[39m\u001b[93m↑ MbedTLS v1.1.7 ⇒ v1.1.8\u001b[39m\n",
      "  \u001b[90m[ffd25f8a] \u001b[39m\u001b[93m↑ XZ_jll v5.4.4+0 ⇒ v5.4.5+0\u001b[39m\n",
      "\u001b[32m\u001b[1mPrecompiling\u001b[22m\u001b[39m project...\n",
      "\u001b[32m  ✓ \u001b[39m\u001b[90mXZ_jll\u001b[39m\n",
      "\u001b[33m  ✓ \u001b[39m\u001b[90mMbedTLS\u001b[39m\n",
      "\u001b[32m  ✓ \u001b[39m\u001b[90mLibtiff_jll\u001b[39m\n",
      "\u001b[32m  ✓ \u001b[39m\u001b[90mGR_jll\u001b[39m\n",
      "\u001b[32m  ✓ \u001b[39m\u001b[90mHTTP\u001b[39m\n",
      "\u001b[32m  ✓ \u001b[39m\u001b[90mGR\u001b[39m\n",
      "\u001b[32m  ✓ \u001b[39mPlots\n",
      "\u001b[32m  ✓ \u001b[39m\u001b[90mPlots → FileIOExt\u001b[39m\n",
      "\u001b[32m  ✓ \u001b[39m\u001b[90mPlots → UnitfulExt\u001b[39m\n",
      "\u001b[32m  ✓ \u001b[39mStatsPlots\n",
      "  10 dependencies successfully precompiled in 45 seconds. 243 already precompiled.\n",
      "  \u001b[33m1\u001b[39m dependency precompiled but a different version is currently loaded. Restart julia to access the new version\n",
      "\u001b[36m\u001b[1m[ \u001b[22m\u001b[39m\u001b[36m\u001b[1mInfo: \u001b[22m\u001b[39mPrecompiling IJuliaExt [2f4121a4-3b3a-5ce6-9c5e-1f2673ce168a]\n"
     ]
    }
   ],
   "source": [
    "include(\"Include.jl\");"
   ]
  },
  {
   "cell_type": "markdown",
   "id": "f4a165c6-1a16-4d94-8ec7-e33cc54913a4",
   "metadata": {},
   "source": [
    "## Prerequisites: Load and clean the historical dataset\n",
    "We gathered a daily open-high-low-close `dataset` for each firm in the [S&P500](https://en.wikipedia.org/wiki/S%26P_500) since `01-03-2018` until `11-03-2023`, along with data for a few exchange traded funds and volatility products during that time. We load the `orignal_dataset` by calling the `load(...)` method exported by the [JLD2.jl](https://github.com/JuliaIO/JLD2.jl.git) package:"
   ]
  },
  {
   "cell_type": "code",
   "execution_count": 2,
   "id": "ede4f7d8-de2a-4c06-81d9-5e462afc6df2",
   "metadata": {
    "tags": []
   },
   "outputs": [],
   "source": [
    "original_dataset = load(joinpath(_PATH_TO_DATA, \"SP500-Daily-OHLC-1-3-2018-to-11-03-2023.jld2\")) |> x-> x[\"dataset\"];"
   ]
  },
  {
   "cell_type": "markdown",
   "id": "7ee23930-149c-49ee-b468-2405dfa9d786",
   "metadata": {},
   "source": [
    "### Clean the data\n",
    "Not all of the tickers in our dataset have the maximum number of trading days for various reasons, e.g., acquistion or de-listing events. Let's collect only those tickers with the maximum number of tradition days.\n",
    "\n",
    "* First, let's compute the number of records for a company that we know has a maximim value, e.g., `AAPL` and save that value in the `maximum_number_trading_days` variable:"
   ]
  },
  {
   "cell_type": "code",
   "execution_count": 3,
   "id": "9229500e-ccad-46db-8df4-5665fb9e2589",
   "metadata": {
    "tags": []
   },
   "outputs": [],
   "source": [
    "maximum_number_trading_days = original_dataset[\"AAPL\"] |> nrow;"
   ]
  },
  {
   "cell_type": "code",
   "execution_count": 4,
   "id": "d75b54c3-c1d7-4f93-be35-2da7e42a86f1",
   "metadata": {
    "tags": []
   },
   "outputs": [],
   "source": [
    "dataset = Dict{String,DataFrame}();\n",
    "for (ticker,data) ∈ original_dataset\n",
    "    if (nrow(data) == maximum_number_trading_days)\n",
    "        dataset[ticker] = data;\n",
    "    end\n",
    "end\n",
    "dataset;"
   ]
  },
  {
   "cell_type": "markdown",
   "id": "7d776d45-97d1-48c6-9d70-c2e6840687a7",
   "metadata": {},
   "source": [
    "Let's get a list of firms that we have in cleaned up `dataset`, and save it ib the `all_tickers` array"
   ]
  },
  {
   "cell_type": "code",
   "execution_count": 5,
   "id": "5c80006a-3338-4f4b-9983-f2b366af5719",
   "metadata": {
    "tags": []
   },
   "outputs": [],
   "source": [
    "all_tickers = keys(dataset) |> collect |> sort;"
   ]
  },
  {
   "cell_type": "markdown",
   "id": "3489f983-ddb4-4f71-9500-51167768cc14",
   "metadata": {},
   "source": [
    "Finally, let's set some constant values"
   ]
  },
  {
   "cell_type": "code",
   "execution_count": 6,
   "id": "82ff7747-f489-4750-bd52-81b9410ac379",
   "metadata": {
    "tags": []
   },
   "outputs": [],
   "source": [
    "risk_free_rate = 0.05;"
   ]
  },
  {
   "cell_type": "markdown",
   "id": "c9fc18a8-ad53-4a43-aed4-fb6988ec72b0",
   "metadata": {},
   "source": [
    "### Compute the covariance and expected yield for all firms in the dataset\n",
    "The expected return $\\mathbb{E}(r_{i})$ and covariance matrix $\\Sigma$ will be used in our calculations, so we'll provide values for both of these items for the entire data set (all `N = 459` tickers), and then you can pick out which tickers you are interested in. \n",
    "\n",
    "* First, we compute the expected (annualized) log return by passing the `dataset` and the entire list of firms we have in the dataset (held in the $N\\times{1}$ `all_array` array) to the `log_return_matrix(...)` method. The result is stored in the `all_firms_return_matrix` variable, a $T-1\\times{N}$ array of log return values. Each row of `all_firms_return_matrix` corresponds to a time-value, while each column corresponds to a firm:"
   ]
  },
  {
   "cell_type": "code",
   "execution_count": 7,
   "id": "3cb45c2e-0214-45d5-a5da-df652d84acea",
   "metadata": {
    "tags": []
   },
   "outputs": [],
   "source": [
    "all_firms_excess_return_matrix = log_return_matrix(dataset, all_tickers, \n",
    "    Δt = (1.0/252.0), risk_free_rate = risk_free_rate);"
   ]
  },
  {
   "cell_type": "markdown",
   "id": "3df872c9-861f-49bc-9b46-280b1d6666f2",
   "metadata": {},
   "source": [
    "Next, we estimate the expected excess return for each firm from the `all_firms_excess_return_matrix` using the `mean(...)` function, which is exported by the [Statistics.jl package](https://docs.julialang.org/en/v1/stdlib/Statistics/). We set the $N\\times{1}$ vector of expected values, i.e., $\\mathbb{E}(R_{1}),\\dotsc,\\mathbb{E}(R_{N})$ in the variable $\\mu$:"
   ]
  },
  {
   "cell_type": "code",
   "execution_count": 8,
   "id": "7519be34-b42a-4315-a773-78ca6594efe3",
   "metadata": {
    "tags": []
   },
   "outputs": [],
   "source": [
    "μ = mean(all_firms_excess_return_matrix, dims=1) |> vec;"
   ]
  },
  {
   "cell_type": "markdown",
   "id": "76d2de23-284e-43e5-9ed3-aacc3181e813",
   "metadata": {},
   "source": [
    "Finally, we estimate the annualized `covariance_matrix` from the `all_firms_return_matrix` using the `cov(...)` function, exported by the [Statistics.jl package](https://docs.julialang.org/en/v1/stdlib/Statistics/). We store the $N\\times{N}$ covariance matrix in the $\\Sigma$ variable:"
   ]
  },
  {
   "cell_type": "code",
   "execution_count": 11,
   "id": "a7f60651-73b8-4b2c-83b9-130197f669fc",
   "metadata": {
    "tags": []
   },
   "outputs": [],
   "source": [
    "Σ = cov(all_firms_excess_return_matrix) |> x-> x*(1/252); # annualized, historical volatility"
   ]
  },
  {
   "cell_type": "markdown",
   "id": "0ac860fb-6307-4f31-be40-001bd6aa600e",
   "metadata": {},
   "source": [
    "### Build single index model returns and covariance"
   ]
  },
  {
   "cell_type": "code",
   "execution_count": 13,
   "id": "4a228ac1-8c15-4349-9bd6-6eefadcd5c66",
   "metadata": {
    "tags": []
   },
   "outputs": [
    {
     "data": {
      "text/plain": [
       "Dict{String, MySingleIndexModel} with 459 entries:\n",
       "  \"NI\"   => MySingleIndexModel(-0.0667694, 0.650089, 0.05, Normal{Float64}(μ=4.…\n",
       "  \"EMR\"  => MySingleIndexModel(-0.0420337, 1.23606, 0.05, Normal{Float64}(μ=8.6…\n",
       "  \"CTAS\" => MySingleIndexModel(0.121342, 1.18426, 0.05, Normal{Float64}(μ=-3.75…\n",
       "  \"HSIC\" => MySingleIndexModel(-0.0887318, 0.918814, 0.05, Normal{Float64}(μ=7.…\n",
       "  \"KIM\"  => MySingleIndexModel(-0.0834768, 1.28034, 0.05, Normal{Float64}(μ=-1.…\n",
       "  \"PLD\"  => MySingleIndexModel(0.00268562, 1.01582, 0.05, Normal{Float64}(μ=7.3…\n",
       "  \"IEX\"  => MySingleIndexModel(-0.00997753, 0.962278, 0.05, Normal{Float64}(μ=3…\n",
       "  \"BAC\"  => MySingleIndexModel(-0.105029, 1.31866, 0.05, Normal{Float64}(μ=-1.6…\n",
       "  \"CBOE\" => MySingleIndexModel(-0.0157717, 0.594397, 0.05, Normal{Float64}(μ=-3…\n",
       "  \"EXR\"  => MySingleIndexModel(-0.0361987, 0.709725, 0.05, Normal{Float64}(μ=1.…\n",
       "  \"NCLH\" => MySingleIndexModel(-0.349225, 2.33008, 0.05, Normal{Float64}(μ=3.66…\n",
       "  \"CVS\"  => MySingleIndexModel(-0.0803743, 0.78294, 0.05, Normal{Float64}(μ=1.7…\n",
       "  \"DRI\"  => MySingleIndexModel(-0.0163202, 1.36716, 0.05, Normal{Float64}(μ=-1.…\n",
       "  \"DTE\"  => MySingleIndexModel(-0.0886175, 0.763632, 0.05, Normal{Float64}(μ=-3…\n",
       "  \"ZION\" => MySingleIndexModel(-0.16904, 1.33812, 0.05, Normal{Float64}(μ=5.452…\n",
       "  \"AVY\"  => MySingleIndexModel(-0.00879973, 1.16002, 0.05, Normal{Float64}(μ=-1…\n",
       "  \"EW\"   => MySingleIndexModel(0.0109984, 1.1094, 0.05, Normal{Float64}(μ=1.254…\n",
       "  \"EA\"   => MySingleIndexModel(-0.0449826, 0.626946, 0.05, Normal{Float64}(μ=-2…\n",
       "  \"NWSA\" => MySingleIndexModel(-0.0387667, 1.12072, 0.05, Normal{Float64}(μ=-2.…\n",
       "  \"CAG\"  => MySingleIndexModel(-0.114534, 0.435849, 0.05, Normal{Float64}(μ=-8.…\n",
       "  \"GILD\" => MySingleIndexModel(-0.0540277, 0.514077, 0.05, Normal{Float64}(μ=9.…\n",
       "  \"FCX\"  => MySingleIndexModel(0.000569782, 1.8011, 0.05, Normal{Float64}(μ=1.2…\n",
       "  \"GPC\"  => MySingleIndexModel(-0.0276181, 1.06659, 0.05, Normal{Float64}(μ=-2.…\n",
       "  \"UNP\"  => MySingleIndexModel(-0.00322765, 1.03047, 0.05, Normal{Float64}(μ=5.…\n",
       "  \"CDW\"  => MySingleIndexModel(0.0976779, 1.21753, 0.05, Normal{Float64}(μ=4.99…\n",
       "  ⋮      => ⋮"
      ]
     },
     "execution_count": 13,
     "metadata": {},
     "output_type": "execute_result"
    }
   ],
   "source": [
    "sims = load(joinpath(_PATH_TO_DATA, \"SIM-SP500-01-03-18-to-10-31-23.jld2\")) |> x->x[\"sim\"]"
   ]
  },
  {
   "cell_type": "code",
   "execution_count": 19,
   "id": "86e3f4a1-b7dd-4ef9-8fff-9555a6571416",
   "metadata": {
    "tags": []
   },
   "outputs": [],
   "source": [
    "index_SPY = findfirst(x->x==\"SPY\", all_tickers);\n",
    "expected_return_SPY = μ[index_SPY];"
   ]
  },
  {
   "cell_type": "code",
   "execution_count": null,
   "id": "6d9258a1-0c39-4721-8d8c-e67070072ff5",
   "metadata": {},
   "outputs": [],
   "source": []
  },
  {
   "cell_type": "markdown",
   "id": "f5783b18-2f56-4641-9464-82658cc68a38",
   "metadata": {},
   "source": [
    "### Disclaimer and Risks\n",
    "__This content is offered solely for training and  informational purposes__. No offer or solicitation to buy or sell securities or derivative products, or any investment or trading advice or strategy,  is made, given, or endorsed by the teaching team. \n",
    "\n",
    "__Trading involves risk__. Carefully review your financial situation before investing in securities, futures contracts, options, or commodity interests. Past performance, whether actual or indicated by historical tests of strategies, is no guarantee of future performance or success. Trading is generally inappropriate for someone with limited resources, investment or trading experience, or a low-risk tolerance.  Only risk capital that is not required for living expenses.\n",
    "\n",
    "__You are fully responsible for any investment or trading decisions you make__. Such decisions should be based solely on your evaluation of your financial circumstances, investment or trading objectives, risk tolerance, and liquidity needs."
   ]
  },
  {
   "cell_type": "code",
   "execution_count": null,
   "id": "6d9cbddb-fb4b-4e88-9d4f-4ac7421e35f2",
   "metadata": {},
   "outputs": [],
   "source": []
  }
 ],
 "metadata": {
  "kernelspec": {
   "display_name": "Julia 1.9.3",
   "language": "julia",
   "name": "julia-1.9"
  },
  "language_info": {
   "file_extension": ".jl",
   "mimetype": "application/julia",
   "name": "julia",
   "version": "1.9.3"
  }
 },
 "nbformat": 4,
 "nbformat_minor": 5
}
