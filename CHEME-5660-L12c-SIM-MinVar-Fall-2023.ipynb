{
 "cells": [
  {
   "cell_type": "markdown",
   "id": "d2534105-6383-4535-a269-6af6c4d1680b",
   "metadata": {},
   "source": [
    "## Example: Single Index Models and MinVar Portfolio Allocation\n",
    "The direct computation of the expected returns $\\mathbb{E}(r_{i})$ of the covariance matrix $\\Sigma$ in the _data-driven_ Minimum-Variance (Markowitz) portfolio problem can be computationally challenging and data-heavy as the number of assets in the portfolio grows. An alternative is to use index models to compute the expected returns and the covariance.\n",
    "\n",
    "A single index model describes the return of a firm’s stock in terms of a firm-specific return and the overall market return. One of the simplest (yet still widely used) single index models was developed by [Sharpe (1963)](https://en.wikipedia.org/wiki/William_F._Sharpe). Let $R_{i}(t)\\equiv\\left(r_{i}\\left(t\\right) - r_{f}\\right)$ \n",
    "and $R_{m}(t)\\equiv\\left(r_{m}\\left(t\\right)-r_{f}\\right)$ denote the firm-specific and market __excess returns__, where $r_{f}$ denotes the risk-free rate of return. Further, let $\\epsilon_{i}\\left(t\\right)$ denote stationary normally distributed random noise\n",
    "with mean zero and standard deviation $\\sigma_{i}$. Then, the single index model of [Sharpe](https://en.wikipedia.org/wiki/William_F._Sharpe) is given by:\n",
    "\n",
    "$$\n",
    "\\begin{equation*}\n",
    "R_{i}\\left(t\\right) = \\alpha_{i}+\\beta_{i}\\cdot{R}_{m}\\left(t\\right)+\\epsilon_{i}\n",
    "\\left(t\\right)\\qquad{t=1,2,\\dots,T}\n",
    "\\end{equation*}\n",
    "$$\n",
    "\n",
    "where $\\alpha_{i}$ and $\\beta_{i}$ are (unknown) model parameters: \n",
    "* $\\alpha_{i}$ describes the firm-specific return not explained by the market; thus, $\\alpha_{i}$ is the idiosyncratic return of firm $i$.\n",
    "* $\\beta_{i}$ has two interpretations. First, it measures the relationship between the excess return of firm $i$ and the excess return of the market. A large $\\beta_{i}$ suggests that the market returns (or losses) are amplified for firm $i$, while a small $\\beta_{i}$ suggests that the market returns (or losses) are damped for firm $i$.  Second, it represents the relative risk of investing in a firm $i$ relative to the overall market.\n",
    "\n",
    "### Learning objectives\n",
    "The objective of this example is to compute the expected return vector $\\mathbb{E}(R_{i})$ and the covariance matrix $\\mathbf{\\Sigma}$ using the `single index models` estimated in `Lab 12b`, where we use `SPY` as the market, or benchmark, portfolio. \n",
    "\n",
    "* __Prerequisites__: we'll begin by loading the historical dataset. The data we'll explore is daily open-high-low-close values for firms in the [S&P500 index](https://en.wikipedia.org/wiki/S%26P_500) between `01-03-2018` and `10-31-2023`.\n",
    "* __Task 1__: Next, we'll compute the expected returns and the covariance arrays from the historical dataset, and the single index models.\n",
    "* __Task 2__: We'll compute the efficient frontier by solving the MinVar optimization problem for both the data-driven and the single index model formulation."
   ]
  },
  {
   "cell_type": "markdown",
   "id": "75c1691d-25c3-4f99-836d-5f01182c7842",
   "metadata": {},
   "source": [
    "## Setup"
   ]
  },
  {
   "cell_type": "code",
   "execution_count": 1,
   "id": "914fab8e-454d-4f98-bbce-bd4ec2edaf29",
   "metadata": {
    "tags": []
   },
   "outputs": [
    {
     "name": "stderr",
     "output_type": "stream",
     "text": [
      "\u001b[32m\u001b[1m    Updating\u001b[22m\u001b[39m git-repo `https://github.com/varnerlab/VLQuantitativeFinancePackage.jl.git`\n",
      "\u001b[32m\u001b[1m   Resolving\u001b[22m\u001b[39m package versions...\n",
      "\u001b[32m\u001b[1m  No Changes\u001b[22m\u001b[39m to `~/Desktop/julia_work/CHEME-5660-Examples-F23/Project.toml`\n",
      "\u001b[32m\u001b[1m  No Changes\u001b[22m\u001b[39m to `~/Desktop/julia_work/CHEME-5660-Examples-F23/Manifest.toml`\n",
      "\u001b[32m\u001b[1m  Activating\u001b[22m\u001b[39m project at `~/Desktop/julia_work/CHEME-5660-Examples-F23`\n",
      "\u001b[32m\u001b[1m  No Changes\u001b[22m\u001b[39m to `~/Desktop/julia_work/CHEME-5660-Examples-F23/Project.toml`\n",
      "\u001b[32m\u001b[1m  No Changes\u001b[22m\u001b[39m to `~/Desktop/julia_work/CHEME-5660-Examples-F23/Manifest.toml`\n",
      "\u001b[32m\u001b[1m    Updating\u001b[22m\u001b[39m registry at `~/.julia/registries/General.toml`\n",
      "\u001b[32m\u001b[1m    Updating\u001b[22m\u001b[39m git-repo `https://github.com/varnerlab/VLQuantitativeFinancePackage.jl.git`\n",
      "\u001b[32m\u001b[1m  No Changes\u001b[22m\u001b[39m to `~/Desktop/julia_work/CHEME-5660-Examples-F23/Project.toml`\n",
      "\u001b[32m\u001b[1m  No Changes\u001b[22m\u001b[39m to `~/Desktop/julia_work/CHEME-5660-Examples-F23/Manifest.toml`\n"
     ]
    }
   ],
   "source": [
    "include(\"Include.jl\");"
   ]
  },
  {
   "cell_type": "markdown",
   "id": "f4a165c6-1a16-4d94-8ec7-e33cc54913a4",
   "metadata": {},
   "source": [
    "## Prerequisites: Load and clean the historical dataset\n",
    "We gathered a daily open-high-low-close `dataset` for each firm in the [S&P500](https://en.wikipedia.org/wiki/S%26P_500) since `01-03-2018` until `11-03-2023`, along with data for a few exchange traded funds and volatility products during that time. We load the `orignal_dataset` by calling the `load(...)` method exported by the [JLD2.jl](https://github.com/JuliaIO/JLD2.jl.git) package:"
   ]
  },
  {
   "cell_type": "code",
   "execution_count": 2,
   "id": "ede4f7d8-de2a-4c06-81d9-5e462afc6df2",
   "metadata": {
    "tags": []
   },
   "outputs": [],
   "source": [
    "original_dataset = load(joinpath(_PATH_TO_DATA, \"SP500-Daily-OHLC-1-3-2018-to-11-03-2023.jld2\")) |> x-> x[\"dataset\"];"
   ]
  },
  {
   "cell_type": "markdown",
   "id": "7ee23930-149c-49ee-b468-2405dfa9d786",
   "metadata": {},
   "source": [
    "### Clean the data\n",
    "Not all of the tickers in our dataset have the maximum number of trading days for various reasons, e.g., acquistion or de-listing events. Let's collect only those tickers with the maximum number of tradition days.\n",
    "\n",
    "* First, let's compute the number of records for a company that we know has a maximim value, e.g., `AAPL` and save that value in the `maximum_number_trading_days` variable:"
   ]
  },
  {
   "cell_type": "code",
   "execution_count": 3,
   "id": "9229500e-ccad-46db-8df4-5665fb9e2589",
   "metadata": {
    "tags": []
   },
   "outputs": [],
   "source": [
    "maximum_number_trading_days = original_dataset[\"AAPL\"] |> nrow;"
   ]
  },
  {
   "cell_type": "code",
   "execution_count": 4,
   "id": "d75b54c3-c1d7-4f93-be35-2da7e42a86f1",
   "metadata": {
    "tags": []
   },
   "outputs": [],
   "source": [
    "dataset = Dict{String,DataFrame}();\n",
    "for (ticker,data) ∈ original_dataset\n",
    "    if (nrow(data) == maximum_number_trading_days)\n",
    "        dataset[ticker] = data;\n",
    "    end\n",
    "end\n",
    "dataset;"
   ]
  },
  {
   "cell_type": "markdown",
   "id": "7d776d45-97d1-48c6-9d70-c2e6840687a7",
   "metadata": {},
   "source": [
    "Let's get a list of firms that we have in cleaned up `dataset`, and save it ib the `all_tickers` array"
   ]
  },
  {
   "cell_type": "code",
   "execution_count": 5,
   "id": "5c80006a-3338-4f4b-9983-f2b366af5719",
   "metadata": {
    "tags": []
   },
   "outputs": [],
   "source": [
    "all_tickers = keys(dataset) |> collect |> sort;"
   ]
  },
  {
   "cell_type": "markdown",
   "id": "3489f983-ddb4-4f71-9500-51167768cc14",
   "metadata": {},
   "source": [
    "Finally, let's set some constant values"
   ]
  },
  {
   "cell_type": "code",
   "execution_count": 6,
   "id": "82ff7747-f489-4750-bd52-81b9410ac379",
   "metadata": {
    "tags": []
   },
   "outputs": [],
   "source": [
    "risk_free_rate = 0.05;"
   ]
  },
  {
   "cell_type": "markdown",
   "id": "c9fc18a8-ad53-4a43-aed4-fb6988ec72b0",
   "metadata": {},
   "source": [
    "### Compute the covariance and expected yield for all firms in the dataset\n",
    "The expected return $\\mathbb{E}(r_{i})$ and covariance matrix $\\Sigma$ will be used in our calculations, so we'll provide values for both of these items for the entire data set (all `N = 459` tickers), and then you can pick out which tickers you are interested in. \n",
    "\n",
    "* First, we compute the expected (annualized) log return by passing the `dataset` and the entire list of firms we have in the dataset (held in the $N\\times{1}$ `all_array` array) to the `log_return_matrix(...)` method. The result is stored in the `all_firms_return_matrix` variable, a $T-1\\times{N}$ array of log return values. Each row of `all_firms_return_matrix` corresponds to a time-value, while each column corresponds to a firm:"
   ]
  },
  {
   "cell_type": "code",
   "execution_count": 7,
   "id": "3cb45c2e-0214-45d5-a5da-df652d84acea",
   "metadata": {
    "tags": []
   },
   "outputs": [],
   "source": [
    "all_firms_excess_return_matrix = log_return_matrix(dataset, all_tickers, \n",
    "    Δt = (1.0/252.0), risk_free_rate = risk_free_rate);"
   ]
  },
  {
   "cell_type": "markdown",
   "id": "3df872c9-861f-49bc-9b46-280b1d6666f2",
   "metadata": {},
   "source": [
    "Next, we estimate the expected excess return for each firm from the `all_firms_excess_return_matrix` using the `mean(...)` function, which is exported by the [Statistics.jl package](https://docs.julialang.org/en/v1/stdlib/Statistics/). We set the $N\\times{1}$ vector of expected values, i.e., $\\mathbb{E}(R_{1}),\\dotsc,\\mathbb{E}(R_{N})$ in the variable $\\mu$:"
   ]
  },
  {
   "cell_type": "code",
   "execution_count": 8,
   "id": "7519be34-b42a-4315-a773-78ca6594efe3",
   "metadata": {
    "tags": []
   },
   "outputs": [],
   "source": [
    "μ = mean(all_firms_excess_return_matrix, dims=1) |> vec;"
   ]
  },
  {
   "cell_type": "markdown",
   "id": "76d2de23-284e-43e5-9ed3-aacc3181e813",
   "metadata": {},
   "source": [
    "Finally, we estimate the annualized `covariance_matrix` from the `all_firms_return_matrix` using the `cov(...)` function, exported by the [Statistics.jl package](https://docs.julialang.org/en/v1/stdlib/Statistics/). We store the $N\\times{N}$ covariance matrix in the $\\Sigma$ variable:"
   ]
  },
  {
   "cell_type": "code",
   "execution_count": 9,
   "id": "a7f60651-73b8-4b2c-83b9-130197f669fc",
   "metadata": {
    "tags": []
   },
   "outputs": [],
   "source": [
    "Σ = cov(all_firms_excess_return_matrix) |> x-> x*(1/252); # annualized, historical volatility"
   ]
  },
  {
   "cell_type": "markdown",
   "id": "0ac860fb-6307-4f31-be40-001bd6aa600e",
   "metadata": {},
   "source": [
    "### Build single index model returns and covariance"
   ]
  },
  {
   "cell_type": "code",
   "execution_count": 10,
   "id": "4a228ac1-8c15-4349-9bd6-6eefadcd5c66",
   "metadata": {
    "tags": []
   },
   "outputs": [
    {
     "data": {
      "text/plain": [
       "Dict{String, MySingleIndexModel} with 459 entries:\n",
       "  \"NI\"   => MySingleIndexModel(-0.0667694, 0.650089, 0.05, Normal{Float64}(μ=4.…\n",
       "  \"EMR\"  => MySingleIndexModel(-0.0420337, 1.23606, 0.05, Normal{Float64}(μ=8.6…\n",
       "  \"CTAS\" => MySingleIndexModel(0.121342, 1.18426, 0.05, Normal{Float64}(μ=-3.75…\n",
       "  \"HSIC\" => MySingleIndexModel(-0.0887318, 0.918814, 0.05, Normal{Float64}(μ=7.…\n",
       "  \"KIM\"  => MySingleIndexModel(-0.0834768, 1.28034, 0.05, Normal{Float64}(μ=-1.…\n",
       "  \"PLD\"  => MySingleIndexModel(0.00268562, 1.01582, 0.05, Normal{Float64}(μ=7.3…\n",
       "  \"IEX\"  => MySingleIndexModel(-0.00997753, 0.962278, 0.05, Normal{Float64}(μ=3…\n",
       "  \"BAC\"  => MySingleIndexModel(-0.105029, 1.31866, 0.05, Normal{Float64}(μ=-1.6…\n",
       "  \"CBOE\" => MySingleIndexModel(-0.0157717, 0.594397, 0.05, Normal{Float64}(μ=-3…\n",
       "  \"EXR\"  => MySingleIndexModel(-0.0361987, 0.709725, 0.05, Normal{Float64}(μ=1.…\n",
       "  \"NCLH\" => MySingleIndexModel(-0.349225, 2.33008, 0.05, Normal{Float64}(μ=3.66…\n",
       "  \"CVS\"  => MySingleIndexModel(-0.0803743, 0.78294, 0.05, Normal{Float64}(μ=1.7…\n",
       "  \"DRI\"  => MySingleIndexModel(-0.0163202, 1.36716, 0.05, Normal{Float64}(μ=-1.…\n",
       "  \"DTE\"  => MySingleIndexModel(-0.0886175, 0.763632, 0.05, Normal{Float64}(μ=-3…\n",
       "  \"ZION\" => MySingleIndexModel(-0.16904, 1.33812, 0.05, Normal{Float64}(μ=5.452…\n",
       "  \"AVY\"  => MySingleIndexModel(-0.00879973, 1.16002, 0.05, Normal{Float64}(μ=-1…\n",
       "  \"EW\"   => MySingleIndexModel(0.0109984, 1.1094, 0.05, Normal{Float64}(μ=1.254…\n",
       "  \"EA\"   => MySingleIndexModel(-0.0449826, 0.626946, 0.05, Normal{Float64}(μ=-2…\n",
       "  \"NWSA\" => MySingleIndexModel(-0.0387667, 1.12072, 0.05, Normal{Float64}(μ=-2.…\n",
       "  \"CAG\"  => MySingleIndexModel(-0.114534, 0.435849, 0.05, Normal{Float64}(μ=-8.…\n",
       "  \"GILD\" => MySingleIndexModel(-0.0540277, 0.514077, 0.05, Normal{Float64}(μ=9.…\n",
       "  \"FCX\"  => MySingleIndexModel(0.000569782, 1.8011, 0.05, Normal{Float64}(μ=1.2…\n",
       "  \"GPC\"  => MySingleIndexModel(-0.0276181, 1.06659, 0.05, Normal{Float64}(μ=-2.…\n",
       "  \"UNP\"  => MySingleIndexModel(-0.00322765, 1.03047, 0.05, Normal{Float64}(μ=5.…\n",
       "  \"CDW\"  => MySingleIndexModel(0.0976779, 1.21753, 0.05, Normal{Float64}(μ=4.99…\n",
       "  ⋮      => ⋮"
      ]
     },
     "execution_count": 10,
     "metadata": {},
     "output_type": "execute_result"
    }
   ],
   "source": [
    "sims = load(joinpath(_PATH_TO_DATA, \"SIM-SP500-01-03-18-to-10-31-23.jld2\")) |> x->x[\"sim\"]"
   ]
  },
  {
   "cell_type": "markdown",
   "id": "1c71da00-cb71-40c9-a486-c01be98cdf1c",
   "metadata": {},
   "source": [
    "Store the index of the market portfolio in the `index_SPY` variable, and then the expected return of the market portfolio $\\mathbb{E}(R_{m})$ in the `R_SPY` vector:"
   ]
  },
  {
   "cell_type": "code",
   "execution_count": 11,
   "id": "86e3f4a1-b7dd-4ef9-8fff-9555a6571416",
   "metadata": {
    "tags": []
   },
   "outputs": [],
   "source": [
    "index_SPY = findfirst(x->x==\"SPY\", all_tickers);\n",
    "R_SPY = μ[index_SPY];"
   ]
  },
  {
   "cell_type": "markdown",
   "id": "ba8ba6d4-726d-4254-a396-39478ef6ce0c",
   "metadata": {},
   "source": [
    "Now, compute the expected return for each ticker in `dataset` using the `single index models` computed in `Lab 12b` using a `for` loop. For iteration of the loop:\n",
    "* Get the `ticker` symbol from the `all_tickers` array, and pull out the corresponding `single index model` from the `sims` dictionary\n",
    "* Next, pull out the $(\\alpha, \\beta)$ parameters from the `sim` model instance and compute the expected return $\\mathbb{E}(R_{i})$. Store the expected return in the `μ_sim` array"
   ]
  },
  {
   "cell_type": "code",
   "execution_count": 12,
   "id": "6d9258a1-0c39-4721-8d8c-e67070072ff5",
   "metadata": {
    "tags": []
   },
   "outputs": [],
   "source": [
    "μ_sim = Array{Float64,1}();\n",
    "for i ∈ eachindex(all_tickers)\n",
    "    \n",
    "    myticker = all_tickers[i];\n",
    "    sim = sims[myticker];\n",
    "    \n",
    "    αᵢ = sim.α\n",
    "    βᵢ = sim.β\n",
    "    Rᵢ = αᵢ+βᵢ*R_SPY\n",
    "    \n",
    "    push!(μ_sim,Rᵢ)\n",
    "end"
   ]
  },
  {
   "cell_type": "markdown",
   "id": "f28f3361-7a89-46f0-be64-2519f5a7041e",
   "metadata": {},
   "source": [
    "Next let's build the `single index model` version of the covariance array. Substituting the single index model for the excess return of asset $i$ and $j$ into the covariance expression (and simplifying) gives:\n",
    "\n",
    "$$\n",
    "\\begin{equation*}\n",
    "\\text{cov}(R_{i}, R_{j}) = \\begin{cases}\n",
    "\\beta_{i}^{2}\\sigma_{m}^{2}+\\sigma_{\\epsilon_{i}}^{2} & i = j \\\\\n",
    "\\beta_{i}\\beta_{j}\\sigma_{m}^2 & i \\neq j\n",
    "\\end{cases}\n",
    "\\end{equation*}\n",
    "$$\n",
    "\n",
    "where $\\sigma_{m}^2$ denotes the variance of the excess return of the market,  and $\\sigma_{\\epsilon_{i}}^{2}$ denotes the variance of the firm-specific error model."
   ]
  },
  {
   "cell_type": "code",
   "execution_count": 13,
   "id": "f9cd87c4-f581-4e3e-a000-88d10a9d5e7e",
   "metadata": {
    "tags": []
   },
   "outputs": [
    {
     "data": {
      "text/plain": [
       "2.546795574795173"
      ]
     },
     "execution_count": 13,
     "metadata": {},
     "output_type": "execute_result"
    }
   ],
   "source": [
    "σₘ = std(all_firms_excess_return_matrix[:, index_SPY])"
   ]
  },
  {
   "cell_type": "markdown",
   "id": "40ef12a8-9ad5-46d9-8518-4b5387b5fef7",
   "metadata": {},
   "source": [
    "We populate the single index covariance array using nested `for` loops:"
   ]
  },
  {
   "cell_type": "code",
   "execution_count": 27,
   "id": "88163f26-dd92-49f3-9205-729192450f7e",
   "metadata": {
    "tags": []
   },
   "outputs": [
    {
     "data": {
      "text/plain": [
       "459×459 Matrix{Float64}:\n",
       " 0.0648561  0.048115   0.0269906  …  0.0386802  0.0367313  0.0287961\n",
       " 0.048115   0.288444   0.0443604     0.0635729  0.0603698  0.0473278\n",
       " 0.0269906  0.0443604  0.121501      0.0356619  0.0338651  0.026549\n",
       " 0.0341593  0.0561427  0.0314938     0.0451337  0.0428597  0.0336005\n",
       " 0.0195813  0.0321828  0.0180533     0.0258722  0.0245686  0.0192609\n",
       " 0.0229324  0.0376907  0.021143   …  0.0303     0.0287733  0.0225573\n",
       " 0.0332793  0.0546963  0.0306825     0.043971   0.0417556  0.0327349\n",
       " 0.0346185  0.0568974  0.0319172     0.0457405  0.0434359  0.0340522\n",
       " 0.0338761  0.0556772  0.0312327     0.0447596  0.0425044  0.0333219\n",
       " 0.0226985  0.0373061  0.0209273     0.0299908  0.0284798  0.0223271\n",
       " 0.0280514  0.0461039  0.0258625  …  0.0370635  0.0351961  0.0275925\n",
       " 0.0405045  0.0665713  0.0373438     0.0535174  0.050821   0.0398419\n",
       " 0.017015   0.0279651  0.0156873     0.0224815  0.0213488  0.0167367\n",
       " ⋮                                ⋱                        \n",
       " 0.0236992  0.0389508  0.0218499     0.031313   0.0297354  0.0233115\n",
       " 0.0365146  0.0600136  0.0336653     0.0482457  0.0458148  0.0359172\n",
       " 0.0486064  0.0798872  0.0448135     0.0642222  0.0609864  0.0478112\n",
       " 0.0151647  0.024924   0.0139813  …  0.0200367  0.0190271  0.0149166\n",
       " 0.0280569  0.046113   0.0258675     0.0370707  0.035203   0.0275979\n",
       " 0.0273145  0.0448929  0.0251831     0.0360899  0.0342716  0.0268677\n",
       " 0.0316018  0.0519392  0.0291358     0.0417545  0.0396507  0.0310848\n",
       " 0.0243313  0.0399898  0.0224327     0.0321483  0.0305285  0.0239333\n",
       " 0.0318201  0.0522981  0.0293371  …  0.042043   0.0399247  0.0312996\n",
       " 0.0386802  0.0635729  0.0356619     0.12912    0.048532   0.0380474\n",
       " 0.0367313  0.0603698  0.0338651     0.048532   0.158322   0.0361304\n",
       " 0.0287961  0.0473278  0.026549      0.0380474  0.0361304  0.0596704"
      ]
     },
     "execution_count": 27,
     "metadata": {},
     "output_type": "execute_result"
    }
   ],
   "source": [
    "Σ_tmp = Array{Float64,2}(undef, length(μ), length(μ));\n",
    "for i ∈ eachindex(all_tickers)\n",
    "    outer_ticker = all_tickers[i];\n",
    "    sim_outer = sims[outer_ticker];\n",
    "    \n",
    "    for j ∈ eachindex(all_tickers)\n",
    "        \n",
    "        inner_ticker = all_tickers[j];\n",
    "        sim_inner = sims[inner_ticker];\n",
    "        \n",
    "        if (i == j)\n",
    "            βᵢ = sim_outer.β\n",
    "            ϵᵢ = sim_outer.ϵ\n",
    "            σ_ϵᵢ = params(ϵᵢ)[2];\n",
    "            Σ_tmp[i,j] = ((βᵢ)^2)*((σₘ)^2)+(σ_ϵᵢ)^2\n",
    "        else\n",
    "            βᵢ = sim_outer.β\n",
    "            βⱼ = sim_inner.β\n",
    "            Σ_tmp[i,j] = βᵢ*βⱼ*(σₘ)^2\n",
    "        end\n",
    "    end\n",
    "end\n",
    "Σ_sim  = Σ_tmp |> x-> x*(1/252)"
   ]
  },
  {
   "cell_type": "markdown",
   "id": "2ddbb66e-c036-4622-9426-dd4e7ed131e4",
   "metadata": {},
   "source": [
    "## Task 1: Build the return array and covariance matrix for our tickers\n",
    "Before we compute the efficient frontier, we must decide which stocks to include in the risky portfolio. One strategy is to pick stocks that have small or even negative covariance. Let's explore this idea. \n",
    "\n",
    "* Specify a collection of `ticker symbols`, e.g., `AAPL`, `MSFT`, etc., that interest you in the `my_list_of_tickers` array. We'll  put the indexes of your tickers in the `my_list_of_firm_ids` array:"
   ]
  },
  {
   "cell_type": "code",
   "execution_count": 16,
   "id": "987b9082-695b-476d-98bd-11bf8c285514",
   "metadata": {
    "tags": []
   },
   "outputs": [],
   "source": [
    "my_list_of_tickers = [\"AAPL\", \"INTC\", \"MSFT\", \"MU\", \"AMD\", \"GS\", \"BAC\", \"WFC\", \"C\", \"F\"];\n",
    "my_list_of_firm_ids = Array{Int64,1}();\n",
    "for ticker ∈ my_list_of_tickers\n",
    "    firm_index = findfirst(x->x==ticker, all_tickers);    \n",
    "    push!(my_list_of_firm_ids, firm_index)\n",
    "end"
   ]
  },
  {
   "cell_type": "markdown",
   "id": "c27ba58a-3226-4883-844d-5b1ce084871a",
   "metadata": {},
   "source": [
    "Now that you have selected the firms in your risky portfolio, we'll compute for you the firm-specific expected return vector and covariance matrix. We'll store these in the $\\hat{\\mu}$ and $\\hat{\\Sigma}$ variables. First, we'll construct the $\\hat{\\mu}$ vector for the `data` and `single index model` versions of the problem:"
   ]
  },
  {
   "cell_type": "code",
   "execution_count": 17,
   "id": "edf0c44d-4af0-4a1a-86b7-42706212871b",
   "metadata": {
    "tags": []
   },
   "outputs": [],
   "source": [
    "# --- DO NOT CHANGE THIS BLOCK ----------------------------------------- #\n",
    "μ̂ = Array{Float64,1}();\n",
    "μ̂_sim = Array{Float64,1}();\n",
    "for firm_index ∈ my_list_of_firm_ids\n",
    "    push!(μ̂, μ[firm_index])\n",
    "    push!(μ̂_sim, μ_sim[firm_index])\n",
    "end\n",
    "# ---------------------------------------------------------------------- #"
   ]
  },
  {
   "cell_type": "markdown",
   "id": "cf6e0031-89ac-48c5-a79e-0f5ae86983f6",
   "metadata": {},
   "source": [
    "and then we'll compute the firm-specific covariance $\\hat{\\Sigma}$ matrix for the `data` version of the problem:"
   ]
  },
  {
   "cell_type": "code",
   "execution_count": 18,
   "id": "16c088cc-0253-4d4d-8561-b7a084bac211",
   "metadata": {
    "tags": []
   },
   "outputs": [],
   "source": [
    "# --- DO NOT CHANGE THIS BLOCK ----------------------------------------- #\n",
    "my_number_of_selected_firms = length(my_list_of_firm_ids)\n",
    "Σ̂ = Array{Float64,2}(undef, my_number_of_selected_firms, my_number_of_selected_firms);\n",
    "for i ∈ eachindex(my_list_of_firm_ids)\n",
    "    row_firm_index = my_list_of_firm_ids[i]\n",
    "    for j ∈ eachindex(my_list_of_firm_ids)\n",
    "        col_firm_index = my_list_of_firm_ids[j]\n",
    "        Σ̂[i,j] = Σ[row_firm_index, col_firm_index]\n",
    "    end\n",
    "end\n",
    "# ---------------------------------------------------------------------- #"
   ]
  },
  {
   "cell_type": "markdown",
   "id": "b91fec59-ddba-47fa-95b0-b76145953015",
   "metadata": {},
   "source": [
    "and then the `single index model` version of the problem:"
   ]
  },
  {
   "cell_type": "code",
   "execution_count": 19,
   "id": "a041c01a-856f-4bd5-a10c-395418a57e76",
   "metadata": {
    "tags": []
   },
   "outputs": [],
   "source": [
    "# --- DO NOT CHANGE THIS BLOCK FOR SIM  -------------------------------- #\n",
    "my_number_of_selected_firms = length(my_list_of_firm_ids)\n",
    "Σ̂_sim = Array{Float64,2}(undef, my_number_of_selected_firms, my_number_of_selected_firms);\n",
    "for i ∈ eachindex(my_list_of_firm_ids)\n",
    "    row_firm_index = my_list_of_firm_ids[i]\n",
    "    for j ∈ eachindex(my_list_of_firm_ids)\n",
    "        col_firm_index = my_list_of_firm_ids[j]\n",
    "        Σ̂_sim[i,j] = Σ_sim[row_firm_index, col_firm_index]\n",
    "    end\n",
    "end\n",
    "# ---------------------------------------------------------------------- #"
   ]
  },
  {
   "cell_type": "markdown",
   "id": "401a2d24-deb1-4bbb-ba05-2f6c7611ea20",
   "metadata": {},
   "source": [
    "## Task 2: Compute the efficient frontier for your collection of stocks\n",
    "Create an instance of the `MyMarkowitzRiskyAssetOnlyPortfiolioChoiceProblem` type, and store this in the `problem_risk` variable using the `build(...)` method. You'll need to pass your covariance array $\\hat{\\Sigma}$, the expected return array $\\hat{\\mu}$, along with bounds and an initial guess, to the `build(...)` method. \n",
    "\n",
    "Let's setup the bounds, and some other constants:"
   ]
  },
  {
   "cell_type": "code",
   "execution_count": 20,
   "id": "0840da92-f0f9-4072-9df6-39f09e6c4e4d",
   "metadata": {
    "tags": []
   },
   "outputs": [],
   "source": [
    "number_of_firms = length(my_list_of_tickers);\n",
    "wₒ = zeros(number_of_firms);\n",
    "wₒ[1] = 1.0;\n",
    "bounds = zeros(number_of_firms,2);\n",
    "bounds[:,2] .= 1.0;\n",
    "risk_free_rate = 0.05;\n",
    "number_of_points = 40;"
   ]
  },
  {
   "cell_type": "markdown",
   "id": "ba901c71-c62c-44d9-9976-1d08e83f8350",
   "metadata": {},
   "source": [
    "and the build an instance of the `MyMarkowitzRiskyAssetOnlyPortfiolioChoiceProblem` type, using the `build(...)` method. Save the `data` version of the problem in the `problem_risk` variable:"
   ]
  },
  {
   "cell_type": "code",
   "execution_count": 21,
   "id": "4ba80199-8917-4357-a800-4c973148de3d",
   "metadata": {
    "tags": []
   },
   "outputs": [],
   "source": [
    "problem_risk = build(MyMarkowitzRiskyAssetOnlyPortfiolioChoiceProblem, (\n",
    "    Σ = Σ̂,\n",
    "    μ = μ̂,\n",
    "    bounds = bounds,\n",
    "    initial = wₒ,\n",
    "    R = 0.0\n",
    "));"
   ]
  },
  {
   "cell_type": "markdown",
   "id": "10d8346c-4d38-495c-8550-d63576c4051a",
   "metadata": {},
   "source": [
    "and the `single index model` version of the problem in the `problem_risk_sim` variable:"
   ]
  },
  {
   "cell_type": "code",
   "execution_count": 22,
   "id": "8fe92cd2-dd7f-46e2-9a10-7a9f1de3f2d0",
   "metadata": {
    "tags": []
   },
   "outputs": [],
   "source": [
    "problem_risk_sim = build(MyMarkowitzRiskyAssetOnlyPortfiolioChoiceProblem, (\n",
    "    Σ = Σ̂_sim,\n",
    "    μ = μ̂_sim,\n",
    "    bounds = bounds,\n",
    "    initial = wₒ,\n",
    "    R = 0.0\n",
    "));"
   ]
  },
  {
   "cell_type": "markdown",
   "id": "287c4ec0-e9d4-45c9-9c2e-7db7911b4b41",
   "metadata": {},
   "source": [
    "Next, we create an array with the minimum desired rewards (the calculation must achieve at least this much reward). We store these values in the `minimum_desired_reward_array` variable:"
   ]
  },
  {
   "cell_type": "code",
   "execution_count": 23,
   "id": "a62e9f23-02cb-4c3c-b5a0-30215ca2c86f",
   "metadata": {
    "tags": []
   },
   "outputs": [],
   "source": [
    "minimum_desired_reward_array = range(0.0, stop = 0.5 - risk_free_rate, length = number_of_points) |> collect;"
   ]
  },
  {
   "cell_type": "markdown",
   "id": "9e583610-fae9-4325-a3d1-70476ad2847c",
   "metadata": {},
   "source": [
    "Finally, we iterate through the `minimum_desired_reward_array` and compute the minimum risk required to achieve the specified reward level using a `for-loop`. In particular, for each pass through the loop, we:\n",
    "* Update the `problem_risk` variable with the minimum desired reward\n",
    "* We then pass the updated `problem` object to the `solve(...)` method (which initializes and solves the optimization problem). The solution returned from the `solve(...)` method is stored in the `solution` dictionary. \n",
    "* We check the `status` of the solution. If the `status` indicates an optimal solution was found, we store the solution in the `frontier` dictionary."
   ]
  },
  {
   "cell_type": "code",
   "execution_count": 24,
   "id": "8c80968c-cdf4-4759-9bc5-c21a32a40055",
   "metadata": {
    "tags": []
   },
   "outputs": [
    {
     "data": {
      "text/plain": [
       "Dict{Float64, Float64} with 30 entries:\n",
       "  0.221234 => 0.173077\n",
       "  0.230462 => 0.196154\n",
       "  0.207576 => 0.0824187\n",
       "  0.225514 => 0.184615\n",
       "  0.207576 => 0.0824187\n",
       "  0.335592 => 0.276923\n",
       "  0.208297 => 0.103846\n",
       "  0.40753  => 0.311538\n",
       "  0.207576 => 0.0824196\n",
       "  0.217662 => 0.161538\n",
       "  0.459585 => 0.334615\n",
       "  0.207576 => 0.0824187\n",
       "  0.259737 => 0.230769\n",
       "  0.210701 => 0.126923\n",
       "  0.358575 => 0.288462\n",
       "  0.207576 => 0.0824187\n",
       "  0.236809 => 0.207692\n",
       "  0.207576 => 0.0824187\n",
       "  0.246654 => 0.219231\n",
       "  0.293788 => 0.253846\n",
       "  0.209291 => 0.115385\n",
       "  0.313901 => 0.265385\n",
       "  0.382616 => 0.3\n",
       "  0.207576 => 0.0824187\n",
       "  0.275598 => 0.242308\n",
       "  ⋮        => ⋮"
      ]
     },
     "execution_count": 24,
     "metadata": {},
     "output_type": "execute_result"
    }
   ],
   "source": [
    "efficient_frontier = Dict{Float64,Float64}();\n",
    "for i ∈ eachindex(minimum_desired_reward_array)\n",
    "    \n",
    "    # update the problem object -\n",
    "    problem_risk.R = minimum_desired_reward_array[i];\n",
    "    \n",
    "    # compute -\n",
    "    solution = solve(problem_risk)\n",
    "\n",
    "    # check: did this converge?\n",
    "    status_flag = solution[\"status\"];    \n",
    "    if (status_flag == MathOptInterface.LOCALLY_SOLVED)\n",
    "        key = sqrt(solution[\"objective_value\"]);\n",
    "        value = solution[\"reward\"];\n",
    "        efficient_frontier[key] = value;\n",
    "    end\n",
    "end\n",
    "efficient_frontier"
   ]
  },
  {
   "cell_type": "markdown",
   "id": "60b0b348-5129-46cf-836f-7c407bfbc032",
   "metadata": {},
   "source": [
    "Let's now do this for the single index model case, where we store the results in the `efficient_frontier_sim` dictionary:"
   ]
  },
  {
   "cell_type": "code",
   "execution_count": 25,
   "id": "ef9652f6-cd88-4036-8efd-ed0cc11132cb",
   "metadata": {
    "tags": []
   },
   "outputs": [
    {
     "data": {
      "text/plain": [
       "Dict{Float64, Float64} with 29 entries:\n",
       "  0.251875 => 0.230769\n",
       "  0.209568 => 0.0923077\n",
       "  0.227202 => 0.207692\n",
       "  0.237284 => 0.219231\n",
       "  0.209404 => 0.0788191\n",
       "  0.209404 => 0.0788191\n",
       "  0.209404 => 0.0788191\n",
       "  0.270247 => 0.242308\n",
       "  0.426785 => 0.311538\n",
       "  0.457179 => 0.323077\n",
       "  0.222221 => 0.196154\n",
       "  0.209404 => 0.0788191\n",
       "  0.209404 => 0.0788191\n",
       "  0.210608 => 0.115385\n",
       "  0.209404 => 0.0788191\n",
       "  0.209969 => 0.103846\n",
       "  0.291687 => 0.253846\n",
       "  0.368719 => 0.288462\n",
       "  0.341382 => 0.276923\n",
       "  0.315569 => 0.265385\n",
       "  0.217435 => 0.173077\n",
       "  0.215524 => 0.161538\n",
       "  0.212592 => 0.138462\n",
       "  0.219669 => 0.184615\n",
       "  0.213932 => 0.15\n",
       "  ⋮        => ⋮"
      ]
     },
     "execution_count": 25,
     "metadata": {},
     "output_type": "execute_result"
    }
   ],
   "source": [
    "efficient_frontier_sim = Dict{Float64,Float64}();\n",
    "for i ∈ eachindex(minimum_desired_reward_array)\n",
    "    \n",
    "    # update the problem object -\n",
    "    problem_risk_sim.R = minimum_desired_reward_array[i];\n",
    "    \n",
    "    # compute -\n",
    "    solution_sim = solve(problem_risk_sim)\n",
    "\n",
    "    # check: did this converge?\n",
    "    status_flag = solution_sim[\"status\"];    \n",
    "    if (status_flag == MathOptInterface.LOCALLY_SOLVED)\n",
    "        key = sqrt(solution_sim[\"objective_value\"]);\n",
    "        value = solution_sim[\"reward\"];\n",
    "        efficient_frontier_sim[key] = value;\n",
    "    end\n",
    "end\n",
    "efficient_frontier_sim"
   ]
  },
  {
   "cell_type": "markdown",
   "id": "97244c7f-c619-4c4d-8bbd-f70c3b2ae812",
   "metadata": {},
   "source": [
    "### Visualize the Efficient Frontiers for the data and single index model"
   ]
  },
  {
   "cell_type": "code",
   "execution_count": 26,
   "id": "40d141d1-3652-40c8-bdbb-0634053827af",
   "metadata": {
    "tags": []
   },
   "outputs": [
    {
     "data": {
      "image/png": "[encoded data removed]",
      "image/svg+xml": [
       "<?xml version=\"1.0\" encoding=\"utf-8\"?>\n",
       "<svg xmlns=\"http://www.w3.org/2000/svg\" xmlns:xlink=\"http://www.w3.org/1999/xlink\" width=\"600\" height=\"400\" viewBox=\"0 0 2400 1600\">\n",
       "<defs>\n",
       "  <clipPath id=\"clip620\">\n",
       "    <rect x=\"0\" y=\"0\" width=\"2400\" height=\"1600\"/>\n",
       "  </clipPath>\n",
       "</defs>\n",
       "<path clip-path=\"url(#clip620)\" d=\"M0 1600 L2400 1600 L2400 0 L0 0  Z\" fill=\"#ffffff\" fill-rule=\"evenodd\" fill-opacity=\"1\"/>\n",
       "<defs>\n",
       "  <clipPath id=\"clip621\">\n",
       "    <rect x=\"480\" y=\"0\" width=\"1681\" height=\"1600\"/>\n",
       "  </clipPath>\n",
       "</defs>\n",
       "<path clip-path=\"url(#clip620)\" d=\"M249.542 1423.18 L2352.76 1423.18 L2352.76 47.2441 L249.542 47.2441  Z\" fill=\"#ffffff\" fill-rule=\"evenodd\" fill-opacity=\"1\"/>\n",
       "<defs>\n",
       "  <clipPath id=\"clip622\">\n",
       "    <rect x=\"249\" y=\"47\" width=\"2104\" height=\"1377\"/>\n",
       "  </clipPath>\n",
       "</defs>\n",
       "<polyline clip-path=\"url(#clip622)\" style=\"stroke:#000000; stroke-linecap:round; stroke-linejoin:round; stroke-width:2; stroke-opacity:0.1; fill:none\" points=\"249.542,1423.18 249.542,47.2441 \"/>\n",
       "<polyline clip-path=\"url(#clip622)\" style=\"stroke:#000000; stroke-linecap:round; stroke-linejoin:round; stroke-width:2; stroke-opacity:0.1; fill:none\" points=\"632.91,1423.18 632.91,47.2441 \"/>\n",
       "<polyline clip-path=\"url(#clip622)\" style=\"stroke:#000000; stroke-linecap:round; stroke-linejoin:round; stroke-width:2; stroke-opacity:0.1; fill:none\" points=\"1016.28,1423.18 1016.28,47.2441 \"/>\n",
       "<polyline clip-path=\"url(#clip622)\" style=\"stroke:#000000; stroke-linecap:round; stroke-linejoin:round; stroke-width:2; stroke-opacity:0.1; fill:none\" points=\"1399.65,1423.18 1399.65,47.2441 \"/>\n",
       "<polyline clip-path=\"url(#clip622)\" style=\"stroke:#000000; stroke-linecap:round; stroke-linejoin:round; stroke-width:2; stroke-opacity:0.1; fill:none\" points=\"1783.02,1423.18 1783.02,47.2441 \"/>\n",
       "<polyline clip-path=\"url(#clip622)\" style=\"stroke:#000000; stroke-linecap:round; stroke-linejoin:round; stroke-width:2; stroke-opacity:0.1; fill:none\" points=\"2166.38,1423.18 2166.38,47.2441 \"/>\n",
       "<polyline clip-path=\"url(#clip620)\" style=\"stroke:#000000; stroke-linecap:round; stroke-linejoin:round; stroke-width:4; stroke-opacity:1; fill:none\" points=\"249.542,1423.18 2352.76,1423.18 \"/>\n",
       "<polyline clip-path=\"url(#clip620)\" style=\"stroke:#000000; stroke-linecap:round; stroke-linejoin:round; stroke-width:4; stroke-opacity:1; fill:none\" points=\"249.542,1423.18 249.542,1404.28 \"/>\n",
       "<polyline clip-path=\"url(#clip620)\" style=\"stroke:#000000; stroke-linecap:round; stroke-linejoin:round; stroke-width:4; stroke-opacity:1; fill:none\" points=\"632.91,1423.18 632.91,1404.28 \"/>\n",
       "<polyline clip-path=\"url(#clip620)\" style=\"stroke:#000000; stroke-linecap:round; stroke-linejoin:round; stroke-width:4; stroke-opacity:1; fill:none\" points=\"1016.28,1423.18 1016.28,1404.28 \"/>\n",
       "<polyline clip-path=\"url(#clip620)\" style=\"stroke:#000000; stroke-linecap:round; stroke-linejoin:round; stroke-width:4; stroke-opacity:1; fill:none\" points=\"1399.65,1423.18 1399.65,1404.28 \"/>\n",
       "<polyline clip-path=\"url(#clip620)\" style=\"stroke:#000000; stroke-linecap:round; stroke-linejoin:round; stroke-width:4; stroke-opacity:1; fill:none\" points=\"1783.02,1423.18 1783.02,1404.28 \"/>\n",
       "<polyline clip-path=\"url(#clip620)\" style=\"stroke:#000000; stroke-linecap:round; stroke-linejoin:round; stroke-width:4; stroke-opacity:1; fill:none\" points=\"2166.38,1423.18 2166.38,1404.28 \"/>\n",
       "<path clip-path=\"url(#clip620)\" d=\"M226.926 1454.1 Q223.315 1454.1 221.487 1457.66 Q219.681 1461.2 219.681 1468.33 Q219.681 1475.44 221.487 1479.01 Q223.315 1482.55 226.926 1482.55 Q230.561 1482.55 232.366 1479.01 Q234.195 1475.44 234.195 1468.33 Q234.195 1461.2 232.366 1457.66 Q230.561 1454.1 226.926 1454.1 M226.926 1450.39 Q232.737 1450.39 235.792 1455 Q238.871 1459.58 238.871 1468.33 Q238.871 1477.06 235.792 1481.67 Q232.737 1486.25 226.926 1486.25 Q221.116 1486.25 218.038 1481.67 Q214.982 1477.06 214.982 1468.33 Q214.982 1459.58 218.038 1455 Q221.116 1450.39 226.926 1450.39 Z\" fill=\"#000000\" fill-rule=\"nonzero\" fill-opacity=\"1\" /><path clip-path=\"url(#clip620)\" d=\"M247.088 1479.7 L251.973 1479.7 L251.973 1485.58 L247.088 1485.58 L247.088 1479.7 Z\" fill=\"#000000\" fill-rule=\"nonzero\" fill-opacity=\"1\" /><path clip-path=\"url(#clip620)\" d=\"M272.158 1454.1 Q268.547 1454.1 266.718 1457.66 Q264.912 1461.2 264.912 1468.33 Q264.912 1475.44 266.718 1479.01 Q268.547 1482.55 272.158 1482.55 Q275.792 1482.55 277.597 1479.01 Q279.426 1475.44 279.426 1468.33 Q279.426 1461.2 277.597 1457.66 Q275.792 1454.1 272.158 1454.1 M272.158 1450.39 Q277.968 1450.39 281.023 1455 Q284.102 1459.58 284.102 1468.33 Q284.102 1477.06 281.023 1481.67 Q277.968 1486.25 272.158 1486.25 Q266.347 1486.25 263.269 1481.67 Q260.213 1477.06 260.213 1468.33 Q260.213 1459.58 263.269 1455 Q266.347 1450.39 272.158 1450.39 Z\" fill=\"#000000\" fill-rule=\"nonzero\" fill-opacity=\"1\" /><path clip-path=\"url(#clip620)\" d=\"M610.908 1454.1 Q607.297 1454.1 605.468 1457.66 Q603.663 1461.2 603.663 1468.33 Q603.663 1475.44 605.468 1479.01 Q607.297 1482.55 610.908 1482.55 Q614.543 1482.55 616.348 1479.01 Q618.177 1475.44 618.177 1468.33 Q618.177 1461.2 616.348 1457.66 Q614.543 1454.1 610.908 1454.1 M610.908 1450.39 Q616.718 1450.39 619.774 1455 Q622.853 1459.58 622.853 1468.33 Q622.853 1477.06 619.774 1481.67 Q616.718 1486.25 610.908 1486.25 Q605.098 1486.25 602.019 1481.67 Q598.964 1477.06 598.964 1468.33 Q598.964 1459.58 602.019 1455 Q605.098 1450.39 610.908 1450.39 Z\" fill=\"#000000\" fill-rule=\"nonzero\" fill-opacity=\"1\" /><path clip-path=\"url(#clip620)\" d=\"M631.07 1479.7 L635.954 1479.7 L635.954 1485.58 L631.07 1485.58 L631.07 1479.7 Z\" fill=\"#000000\" fill-rule=\"nonzero\" fill-opacity=\"1\" /><path clip-path=\"url(#clip620)\" d=\"M646.95 1481.64 L654.589 1481.64 L654.589 1455.28 L646.278 1456.95 L646.278 1452.69 L654.542 1451.02 L659.218 1451.02 L659.218 1481.64 L666.857 1481.64 L666.857 1485.58 L646.95 1485.58 L646.95 1481.64 Z\" fill=\"#000000\" fill-rule=\"nonzero\" fill-opacity=\"1\" /><path clip-path=\"url(#clip620)\" d=\"M994.462 1454.1 Q990.851 1454.1 989.022 1457.66 Q987.217 1461.2 987.217 1468.33 Q987.217 1475.44 989.022 1479.01 Q990.851 1482.55 994.462 1482.55 Q998.096 1482.55 999.902 1479.01 Q1001.73 1475.44 1001.73 1468.33 Q1001.73 1461.2 999.902 1457.66 Q998.096 1454.1 994.462 1454.1 M994.462 1450.39 Q1000.27 1450.39 1003.33 1455 Q1006.41 1459.58 1006.41 1468.33 Q1006.41 1477.06 1003.33 1481.67 Q1000.27 1486.25 994.462 1486.25 Q988.652 1486.25 985.573 1481.67 Q982.517 1477.06 982.517 1468.33 Q982.517 1459.58 985.573 1455 Q988.652 1450.39 994.462 1450.39 Z\" fill=\"#000000\" fill-rule=\"nonzero\" fill-opacity=\"1\" /><path clip-path=\"url(#clip620)\" d=\"M1014.62 1479.7 L1019.51 1479.7 L1019.51 1485.58 L1014.62 1485.58 L1014.62 1479.7 Z\" fill=\"#000000\" fill-rule=\"nonzero\" fill-opacity=\"1\" /><path clip-path=\"url(#clip620)\" d=\"M1033.72 1481.64 L1050.04 1481.64 L1050.04 1485.58 L1028.1 1485.58 L1028.1 1481.64 Q1030.76 1478.89 1035.34 1474.26 Q1039.95 1469.61 1041.13 1468.27 Q1043.37 1465.74 1044.25 1464.01 Q1045.16 1462.25 1045.16 1460.56 Q1045.16 1457.8 1043.21 1456.07 Q1041.29 1454.33 1038.19 1454.33 Q1035.99 1454.33 1033.54 1455.09 Q1031.11 1455.86 1028.33 1457.41 L1028.33 1452.69 Q1031.15 1451.55 1033.61 1450.97 Q1036.06 1450.39 1038.1 1450.39 Q1043.47 1450.39 1046.66 1453.08 Q1049.86 1455.77 1049.86 1460.26 Q1049.86 1462.39 1049.04 1464.31 Q1048.26 1466.2 1046.15 1468.8 Q1045.57 1469.47 1042.47 1472.69 Q1039.37 1475.88 1033.72 1481.64 Z\" fill=\"#000000\" fill-rule=\"nonzero\" fill-opacity=\"1\" /><path clip-path=\"url(#clip620)\" d=\"M1377.36 1454.1 Q1373.74 1454.1 1371.92 1457.66 Q1370.11 1461.2 1370.11 1468.33 Q1370.11 1475.44 1371.92 1479.01 Q1373.74 1482.55 1377.36 1482.55 Q1380.99 1482.55 1382.8 1479.01 Q1384.62 1475.44 1384.62 1468.33 Q1384.62 1461.2 1382.8 1457.66 Q1380.99 1454.1 1377.36 1454.1 M1377.36 1450.39 Q1383.17 1450.39 1386.22 1455 Q1389.3 1459.58 1389.3 1468.33 Q1389.3 1477.06 1386.22 1481.67 Q1383.17 1486.25 1377.36 1486.25 Q1371.55 1486.25 1368.47 1481.67 Q1365.41 1477.06 1365.41 1468.33 Q1365.41 1459.58 1368.47 1455 Q1371.55 1450.39 1377.36 1450.39 Z\" fill=\"#000000\" fill-rule=\"nonzero\" fill-opacity=\"1\" /><path clip-path=\"url(#clip620)\" d=\"M1397.52 1479.7 L1402.4 1479.7 L1402.4 1485.58 L1397.52 1485.58 L1397.52 1479.7 Z\" fill=\"#000000\" fill-rule=\"nonzero\" fill-opacity=\"1\" /><path clip-path=\"url(#clip620)\" d=\"M1426.75 1466.95 Q1430.11 1467.66 1431.99 1469.93 Q1433.88 1472.2 1433.88 1475.53 Q1433.88 1480.65 1430.36 1483.45 Q1426.85 1486.25 1420.36 1486.25 Q1418.19 1486.25 1415.87 1485.81 Q1413.58 1485.39 1411.13 1484.54 L1411.13 1480.02 Q1413.07 1481.16 1415.39 1481.74 Q1417.7 1482.32 1420.23 1482.32 Q1424.62 1482.32 1426.92 1480.58 Q1429.23 1478.84 1429.23 1475.53 Q1429.23 1472.48 1427.08 1470.77 Q1424.95 1469.03 1421.13 1469.03 L1417.1 1469.03 L1417.1 1465.19 L1421.31 1465.19 Q1424.76 1465.19 1426.59 1463.82 Q1428.42 1462.43 1428.42 1459.84 Q1428.42 1457.18 1426.52 1455.77 Q1424.65 1454.33 1421.13 1454.33 Q1419.21 1454.33 1417.01 1454.75 Q1414.81 1455.16 1412.17 1456.04 L1412.17 1451.88 Q1414.83 1451.14 1417.15 1450.77 Q1419.49 1450.39 1421.55 1450.39 Q1426.87 1450.39 1429.97 1452.83 Q1433.07 1455.23 1433.07 1459.35 Q1433.07 1462.22 1431.43 1464.21 Q1429.79 1466.18 1426.75 1466.95 Z\" fill=\"#000000\" fill-rule=\"nonzero\" fill-opacity=\"1\" /><path clip-path=\"url(#clip620)\" d=\"M1760.16 1454.1 Q1756.55 1454.1 1754.72 1457.66 Q1752.91 1461.2 1752.91 1468.33 Q1752.91 1475.44 1754.72 1479.01 Q1756.55 1482.55 1760.16 1482.55 Q1763.79 1482.55 1765.6 1479.01 Q1767.43 1475.44 1767.43 1468.33 Q1767.43 1461.2 1765.6 1457.66 Q1763.79 1454.1 1760.16 1454.1 M1760.16 1450.39 Q1765.97 1450.39 1769.02 1455 Q1772.1 1459.58 1772.1 1468.33 Q1772.1 1477.06 1769.02 1481.67 Q1765.97 1486.25 1760.16 1486.25 Q1754.35 1486.25 1751.27 1481.67 Q1748.21 1477.06 1748.21 1468.33 Q1748.21 1459.58 1751.27 1455 Q1754.35 1450.39 1760.16 1450.39 Z\" fill=\"#000000\" fill-rule=\"nonzero\" fill-opacity=\"1\" /><path clip-path=\"url(#clip620)\" d=\"M1780.32 1479.7 L1785.2 1479.7 L1785.2 1485.58 L1780.32 1485.58 L1780.32 1479.7 Z\" fill=\"#000000\" fill-rule=\"nonzero\" fill-opacity=\"1\" /><path clip-path=\"url(#clip620)\" d=\"M1808.24 1455.09 L1796.43 1473.54 L1808.24 1473.54 L1808.24 1455.09 M1807.01 1451.02 L1812.89 1451.02 L1812.89 1473.54 L1817.82 1473.54 L1817.82 1477.43 L1812.89 1477.43 L1812.89 1485.58 L1808.24 1485.58 L1808.24 1477.43 L1792.63 1477.43 L1792.63 1472.92 L1807.01 1451.02 Z\" fill=\"#000000\" fill-rule=\"nonzero\" fill-opacity=\"1\" /><path clip-path=\"url(#clip620)\" d=\"M2144.27 1454.1 Q2140.66 1454.1 2138.83 1457.66 Q2137.02 1461.2 2137.02 1468.33 Q2137.02 1475.44 2138.83 1479.01 Q2140.66 1482.55 2144.27 1482.55 Q2147.9 1482.55 2149.71 1479.01 Q2151.53 1475.44 2151.53 1468.33 Q2151.53 1461.2 2149.71 1457.66 Q2147.9 1454.1 2144.27 1454.1 M2144.27 1450.39 Q2150.08 1450.39 2153.13 1455 Q2156.21 1459.58 2156.21 1468.33 Q2156.21 1477.06 2153.13 1481.67 Q2150.08 1486.25 2144.27 1486.25 Q2138.46 1486.25 2135.38 1481.67 Q2132.32 1477.06 2132.32 1468.33 Q2132.32 1459.58 2135.38 1455 Q2138.46 1450.39 2144.27 1450.39 Z\" fill=\"#000000\" fill-rule=\"nonzero\" fill-opacity=\"1\" /><path clip-path=\"url(#clip620)\" d=\"M2164.43 1479.7 L2169.31 1479.7 L2169.31 1485.58 L2164.43 1485.58 L2164.43 1479.7 Z\" fill=\"#000000\" fill-rule=\"nonzero\" fill-opacity=\"1\" /><path clip-path=\"url(#clip620)\" d=\"M2179.54 1451.02 L2197.9 1451.02 L2197.9 1454.96 L2183.83 1454.96 L2183.83 1463.43 Q2184.84 1463.08 2185.86 1462.92 Q2186.88 1462.73 2187.9 1462.73 Q2193.69 1462.73 2197.07 1465.9 Q2200.45 1469.08 2200.45 1474.49 Q2200.45 1480.07 2196.97 1483.17 Q2193.5 1486.25 2187.18 1486.25 Q2185.01 1486.25 2182.74 1485.88 Q2180.49 1485.51 2178.09 1484.77 L2178.09 1480.07 Q2180.17 1481.2 2182.39 1481.76 Q2184.61 1482.32 2187.09 1482.32 Q2191.09 1482.32 2193.43 1480.21 Q2195.77 1478.1 2195.77 1474.49 Q2195.77 1470.88 2193.43 1468.77 Q2191.09 1466.67 2187.09 1466.67 Q2185.22 1466.67 2183.34 1467.08 Q2181.49 1467.5 2179.54 1468.38 L2179.54 1451.02 Z\" fill=\"#000000\" fill-rule=\"nonzero\" fill-opacity=\"1\" /><path clip-path=\"url(#clip620)\" d=\"M1001.94 1525.81 L1001.94 1543.66 L1010.03 1543.66 Q1014.52 1543.66 1016.97 1541.34 Q1019.42 1539.02 1019.42 1534.72 Q1019.42 1530.45 1016.97 1528.13 Q1014.52 1525.81 1010.03 1525.81 L1001.94 1525.81 M995.515 1520.52 L1010.03 1520.52 Q1018.02 1520.52 1022.09 1524.15 Q1026.2 1527.75 1026.2 1534.72 Q1026.2 1541.75 1022.09 1545.35 Q1018.02 1548.95 1010.03 1548.95 L1001.94 1548.95 L1001.94 1568.04 L995.515 1568.04 L995.515 1520.52 Z\" fill=\"#000000\" fill-rule=\"nonzero\" fill-opacity=\"1\" /><path clip-path=\"url(#clip620)\" d=\"M1046.06 1536.5 Q1041.35 1536.5 1038.61 1540.19 Q1035.87 1543.85 1035.87 1550.25 Q1035.87 1556.65 1038.58 1560.34 Q1041.32 1564 1046.06 1564 Q1050.74 1564 1053.48 1560.31 Q1056.21 1556.62 1056.21 1550.25 Q1056.21 1543.92 1053.48 1540.23 Q1050.74 1536.5 1046.06 1536.5 M1046.06 1531.54 Q1053.7 1531.54 1058.06 1536.5 Q1062.42 1541.47 1062.42 1550.25 Q1062.42 1559 1058.06 1564 Q1053.7 1568.97 1046.06 1568.97 Q1038.39 1568.97 1034.03 1564 Q1029.7 1559 1029.7 1550.25 Q1029.7 1541.47 1034.03 1536.5 Q1038.39 1531.54 1046.06 1531.54 Z\" fill=\"#000000\" fill-rule=\"nonzero\" fill-opacity=\"1\" /><path clip-path=\"url(#clip620)\" d=\"M1092.78 1537.87 Q1091.8 1537.3 1090.62 1537.04 Q1089.47 1536.76 1088.07 1536.76 Q1083.11 1536.76 1080.43 1540 Q1077.79 1543.22 1077.79 1549.27 L1077.79 1568.04 L1071.9 1568.04 L1071.9 1532.4 L1077.79 1532.4 L1077.79 1537.93 Q1079.64 1534.69 1082.6 1533.13 Q1085.56 1531.54 1089.79 1531.54 Q1090.4 1531.54 1091.13 1531.63 Q1091.86 1531.7 1092.75 1531.85 L1092.78 1537.87 Z\" fill=\"#000000\" fill-rule=\"nonzero\" fill-opacity=\"1\" /><path clip-path=\"url(#clip620)\" d=\"M1104.72 1522.27 L1104.72 1532.4 L1116.78 1532.4 L1116.78 1536.95 L1104.72 1536.95 L1104.72 1556.3 Q1104.72 1560.66 1105.9 1561.9 Q1107.11 1563.14 1110.77 1563.14 L1116.78 1563.14 L1116.78 1568.04 L1110.77 1568.04 Q1103.99 1568.04 1101.41 1565.53 Q1098.83 1562.98 1098.83 1556.3 L1098.83 1536.95 L1094.53 1536.95 L1094.53 1532.4 L1098.83 1532.4 L1098.83 1522.27 L1104.72 1522.27 Z\" fill=\"#000000\" fill-rule=\"nonzero\" fill-opacity=\"1\" /><path clip-path=\"url(#clip620)\" d=\"M1142.53 1518.52 L1142.53 1523.39 L1136.93 1523.39 Q1133.78 1523.39 1132.54 1524.66 Q1131.33 1525.93 1131.33 1529.24 L1131.33 1532.4 L1140.97 1532.4 L1140.97 1536.95 L1131.33 1536.95 L1131.33 1568.04 L1125.44 1568.04 L1125.44 1536.95 L1119.84 1536.95 L1119.84 1532.4 L1125.44 1532.4 L1125.44 1529.91 Q1125.44 1523.96 1128.21 1521.26 Q1130.98 1518.52 1136.99 1518.52 L1142.53 1518.52 Z\" fill=\"#000000\" fill-rule=\"nonzero\" fill-opacity=\"1\" /><path clip-path=\"url(#clip620)\" d=\"M1161.25 1536.5 Q1156.54 1536.5 1153.8 1540.19 Q1151.06 1543.85 1151.06 1550.25 Q1151.06 1556.65 1153.77 1560.34 Q1156.5 1564 1161.25 1564 Q1165.93 1564 1168.66 1560.31 Q1171.4 1556.62 1171.4 1550.25 Q1171.4 1543.92 1168.66 1540.23 Q1165.93 1536.5 1161.25 1536.5 M1161.25 1531.54 Q1168.89 1531.54 1173.25 1536.5 Q1177.61 1541.47 1177.61 1550.25 Q1177.61 1559 1173.25 1564 Q1168.89 1568.97 1161.25 1568.97 Q1153.58 1568.97 1149.22 1564 Q1144.89 1559 1144.89 1550.25 Q1144.89 1541.47 1149.22 1536.5 Q1153.58 1531.54 1161.25 1531.54 Z\" fill=\"#000000\" fill-rule=\"nonzero\" fill-opacity=\"1\" /><path clip-path=\"url(#clip620)\" d=\"M1187.31 1518.52 L1193.17 1518.52 L1193.17 1568.04 L1187.31 1568.04 L1187.31 1518.52 Z\" fill=\"#000000\" fill-rule=\"nonzero\" fill-opacity=\"1\" /><path clip-path=\"url(#clip620)\" d=\"M1205.42 1532.4 L1211.28 1532.4 L1211.28 1568.04 L1205.42 1568.04 L1205.42 1532.4 M1205.42 1518.52 L1211.28 1518.52 L1211.28 1525.93 L1205.42 1525.93 L1205.42 1518.52 Z\" fill=\"#000000\" fill-rule=\"nonzero\" fill-opacity=\"1\" /><path clip-path=\"url(#clip620)\" d=\"M1237.35 1536.5 Q1232.64 1536.5 1229.9 1540.19 Q1227.16 1543.85 1227.16 1550.25 Q1227.16 1556.65 1229.87 1560.34 Q1232.61 1564 1237.35 1564 Q1242.03 1564 1244.76 1560.31 Q1247.5 1556.62 1247.5 1550.25 Q1247.5 1543.92 1244.76 1540.23 Q1242.03 1536.5 1237.35 1536.5 M1237.35 1531.54 Q1244.99 1531.54 1249.35 1536.5 Q1253.71 1541.47 1253.71 1550.25 Q1253.71 1559 1249.35 1564 Q1244.99 1568.97 1237.35 1568.97 Q1229.68 1568.97 1225.32 1564 Q1220.99 1559 1220.99 1550.25 Q1220.99 1541.47 1225.32 1536.5 Q1229.68 1531.54 1237.35 1531.54 Z\" fill=\"#000000\" fill-rule=\"nonzero\" fill-opacity=\"1\" /><path clip-path=\"url(#clip620)\" d=\"M1306.93 1545.76 Q1308.99 1546.46 1310.94 1548.76 Q1312.91 1551.05 1314.88 1555.06 L1321.41 1568.04 L1314.5 1568.04 L1308.42 1555.85 Q1306.07 1551.08 1303.84 1549.52 Q1301.64 1547.96 1297.82 1547.96 L1290.82 1547.96 L1290.82 1568.04 L1284.39 1568.04 L1284.39 1520.52 L1298.91 1520.52 Q1307.05 1520.52 1311.06 1523.93 Q1315.07 1527.34 1315.07 1534.21 Q1315.07 1538.7 1312.97 1541.66 Q1310.9 1544.62 1306.93 1545.76 M1290.82 1525.81 L1290.82 1542.68 L1298.91 1542.68 Q1303.55 1542.68 1305.91 1540.54 Q1308.29 1538.38 1308.29 1534.21 Q1308.29 1530.04 1305.91 1527.94 Q1303.55 1525.81 1298.91 1525.81 L1290.82 1525.81 Z\" fill=\"#000000\" fill-rule=\"nonzero\" fill-opacity=\"1\" /><path clip-path=\"url(#clip620)\" d=\"M1329.43 1532.4 L1335.29 1532.4 L1335.29 1568.04 L1329.43 1568.04 L1329.43 1532.4 M1329.43 1518.52 L1335.29 1518.52 L1335.29 1525.93 L1329.43 1525.93 L1329.43 1518.52 Z\" fill=\"#000000\" fill-rule=\"nonzero\" fill-opacity=\"1\" /><path clip-path=\"url(#clip620)\" d=\"M1370.26 1533.45 L1370.26 1538.98 Q1367.78 1537.71 1365.11 1537.07 Q1362.43 1536.44 1359.57 1536.44 Q1355.21 1536.44 1353.01 1537.77 Q1350.85 1539.11 1350.85 1541.79 Q1350.85 1543.82 1352.41 1545 Q1353.97 1546.15 1358.68 1547.2 L1360.68 1547.64 Q1366.92 1548.98 1369.53 1551.43 Q1372.17 1553.85 1372.17 1558.21 Q1372.17 1563.17 1368.23 1566.07 Q1364.31 1568.97 1357.44 1568.97 Q1354.57 1568.97 1351.45 1568.39 Q1348.37 1567.85 1344.93 1566.74 L1344.93 1560.69 Q1348.18 1562.38 1351.33 1563.24 Q1354.48 1564.07 1357.57 1564.07 Q1361.7 1564.07 1363.93 1562.66 Q1366.16 1561.23 1366.16 1558.65 Q1366.16 1556.27 1364.54 1554.99 Q1362.94 1553.72 1357.5 1552.54 L1355.46 1552.07 Q1350.02 1550.92 1347.6 1548.56 Q1345.18 1546.18 1345.18 1542.04 Q1345.18 1537.01 1348.75 1534.27 Q1352.31 1531.54 1358.87 1531.54 Q1362.12 1531.54 1364.98 1532.01 Q1367.85 1532.49 1370.26 1533.45 Z\" fill=\"#000000\" fill-rule=\"nonzero\" fill-opacity=\"1\" /><path clip-path=\"url(#clip620)\" d=\"M1381.28 1518.52 L1387.17 1518.52 L1387.17 1547.77 L1404.64 1532.4 L1412.12 1532.4 L1393.21 1549.07 L1412.91 1568.04 L1405.28 1568.04 L1387.17 1550.63 L1387.17 1568.04 L1381.28 1568.04 L1381.28 1518.52 Z\" fill=\"#000000\" fill-rule=\"nonzero\" fill-opacity=\"1\" /><path clip-path=\"url(#clip620)\" d=\"M1454.04 1518.58 Q1449.77 1525.9 1447.7 1533.06 Q1445.63 1540.23 1445.63 1547.58 Q1445.63 1554.93 1447.7 1562.16 Q1449.8 1569.35 1454.04 1576.64 L1448.94 1576.64 Q1444.17 1569.16 1441.78 1561.93 Q1439.43 1554.71 1439.43 1547.58 Q1439.43 1540.48 1441.78 1533.29 Q1444.14 1526.09 1448.94 1518.58 L1454.04 1518.58 Z\" fill=\"#000000\" fill-rule=\"nonzero\" fill-opacity=\"1\" /><path clip-path=\"url(#clip620)\" d=\"M1488.13 1533.45 L1488.13 1538.98 Q1485.64 1537.71 1482.97 1537.07 Q1480.3 1536.44 1477.43 1536.44 Q1473.07 1536.44 1470.87 1537.77 Q1468.71 1539.11 1468.71 1541.79 Q1468.71 1543.82 1470.27 1545 Q1471.83 1546.15 1476.54 1547.2 L1478.55 1547.64 Q1484.78 1548.98 1487.39 1551.43 Q1490.04 1553.85 1490.04 1558.21 Q1490.04 1563.17 1486.09 1566.07 Q1482.17 1568.97 1475.3 1568.97 Q1472.43 1568.97 1469.32 1568.39 Q1466.23 1567.85 1462.79 1566.74 L1462.79 1560.69 Q1466.04 1562.38 1469.19 1563.24 Q1472.34 1564.07 1475.43 1564.07 Q1479.56 1564.07 1481.79 1562.66 Q1484.02 1561.23 1484.02 1558.65 Q1484.02 1556.27 1482.4 1554.99 Q1480.81 1553.72 1475.36 1552.54 L1473.33 1552.07 Q1467.88 1550.92 1465.46 1548.56 Q1463.04 1546.18 1463.04 1542.04 Q1463.04 1537.01 1466.61 1534.27 Q1470.17 1531.54 1476.73 1531.54 Q1479.98 1531.54 1482.84 1532.01 Q1485.71 1532.49 1488.13 1533.45 Z\" fill=\"#000000\" fill-rule=\"nonzero\" fill-opacity=\"1\" /><path clip-path=\"url(#clip620)\" d=\"M1502.86 1550.25 Q1502.86 1556.71 1505.5 1560.4 Q1508.18 1564.07 1512.82 1564.07 Q1517.47 1564.07 1520.15 1560.4 Q1522.82 1556.71 1522.82 1550.25 Q1522.82 1543.79 1520.15 1540.13 Q1517.47 1536.44 1512.82 1536.44 Q1508.18 1536.44 1505.5 1540.13 Q1502.86 1543.79 1502.86 1550.25 M1522.82 1562.7 Q1520.97 1565.88 1518.14 1567.44 Q1515.34 1568.97 1511.39 1568.97 Q1504.93 1568.97 1500.86 1563.81 Q1496.81 1558.65 1496.81 1550.25 Q1496.81 1541.85 1500.86 1536.69 Q1504.93 1531.54 1511.39 1531.54 Q1515.34 1531.54 1518.14 1533.1 Q1520.97 1534.62 1522.82 1537.81 L1522.82 1532.4 L1528.68 1532.4 L1528.68 1581.6 L1522.82 1581.6 L1522.82 1562.7 Z\" fill=\"#000000\" fill-rule=\"nonzero\" fill-opacity=\"1\" /><path clip-path=\"url(#clip620)\" d=\"M1561.39 1537.87 Q1560.41 1537.3 1559.23 1537.04 Q1558.08 1536.76 1556.68 1536.76 Q1551.72 1536.76 1549.05 1540 Q1546.4 1543.22 1546.4 1549.27 L1546.4 1568.04 L1540.52 1568.04 L1540.52 1532.4 L1546.4 1532.4 L1546.4 1537.93 Q1548.25 1534.69 1551.21 1533.13 Q1554.17 1531.54 1558.4 1531.54 Q1559.01 1531.54 1559.74 1531.63 Q1560.47 1531.7 1561.36 1531.85 L1561.39 1537.87 Z\" fill=\"#000000\" fill-rule=\"nonzero\" fill-opacity=\"1\" /><path clip-path=\"url(#clip620)\" d=\"M1573.33 1522.27 L1573.33 1532.4 L1585.39 1532.4 L1585.39 1536.95 L1573.33 1536.95 L1573.33 1556.3 Q1573.33 1560.66 1574.51 1561.9 Q1575.72 1563.14 1579.38 1563.14 L1585.39 1563.14 L1585.39 1568.04 L1579.38 1568.04 Q1572.6 1568.04 1570.02 1565.53 Q1567.44 1562.98 1567.44 1556.3 L1567.44 1536.95 L1563.15 1536.95 L1563.15 1532.4 L1567.44 1532.4 L1567.44 1522.27 L1573.33 1522.27 Z\" fill=\"#000000\" fill-rule=\"nonzero\" fill-opacity=\"1\" /><path clip-path=\"url(#clip620)\" d=\"M1592.17 1518.58 L1597.27 1518.58 Q1602.04 1526.09 1604.4 1533.29 Q1606.78 1540.48 1606.78 1547.58 Q1606.78 1554.71 1604.4 1561.93 Q1602.04 1569.16 1597.27 1576.64 L1592.17 1576.64 Q1596.41 1569.35 1598.48 1562.16 Q1600.58 1554.93 1600.58 1547.58 Q1600.58 1540.23 1598.48 1533.06 Q1596.41 1525.9 1592.17 1518.58 Z\" fill=\"#000000\" fill-rule=\"nonzero\" fill-opacity=\"1\" /><polyline clip-path=\"url(#clip622)\" style=\"stroke:#000000; stroke-linecap:round; stroke-linejoin:round; stroke-width:2; stroke-opacity:0.1; fill:none\" points=\"249.542,1276.75 2352.76,1276.75 \"/>\n",
       "<polyline clip-path=\"url(#clip622)\" style=\"stroke:#000000; stroke-linecap:round; stroke-linejoin:round; stroke-width:2; stroke-opacity:0.1; fill:none\" points=\"249.542,1023.03 2352.76,1023.03 \"/>\n",
       "<polyline clip-path=\"url(#clip622)\" style=\"stroke:#000000; stroke-linecap:round; stroke-linejoin:round; stroke-width:2; stroke-opacity:0.1; fill:none\" points=\"249.542,769.299 2352.76,769.299 \"/>\n",
       "<polyline clip-path=\"url(#clip622)\" style=\"stroke:#000000; stroke-linecap:round; stroke-linejoin:round; stroke-width:2; stroke-opacity:0.1; fill:none\" points=\"249.542,515.571 2352.76,515.571 \"/>\n",
       "<polyline clip-path=\"url(#clip622)\" style=\"stroke:#000000; stroke-linecap:round; stroke-linejoin:round; stroke-width:2; stroke-opacity:0.1; fill:none\" points=\"249.542,261.843 2352.76,261.843 \"/>\n",
       "<polyline clip-path=\"url(#clip620)\" style=\"stroke:#000000; stroke-linecap:round; stroke-linejoin:round; stroke-width:4; stroke-opacity:1; fill:none\" points=\"249.542,1423.18 249.542,47.2441 \"/>\n",
       "<polyline clip-path=\"url(#clip620)\" style=\"stroke:#000000; stroke-linecap:round; stroke-linejoin:round; stroke-width:4; stroke-opacity:1; fill:none\" points=\"249.542,1276.75 268.44,1276.75 \"/>\n",
       "<polyline clip-path=\"url(#clip620)\" style=\"stroke:#000000; stroke-linecap:round; stroke-linejoin:round; stroke-width:4; stroke-opacity:1; fill:none\" points=\"249.542,1023.03 268.44,1023.03 \"/>\n",
       "<polyline clip-path=\"url(#clip620)\" style=\"stroke:#000000; stroke-linecap:round; stroke-linejoin:round; stroke-width:4; stroke-opacity:1; fill:none\" points=\"249.542,769.299 268.44,769.299 \"/>\n",
       "<polyline clip-path=\"url(#clip620)\" style=\"stroke:#000000; stroke-linecap:round; stroke-linejoin:round; stroke-width:4; stroke-opacity:1; fill:none\" points=\"249.542,515.571 268.44,515.571 \"/>\n",
       "<polyline clip-path=\"url(#clip620)\" style=\"stroke:#000000; stroke-linecap:round; stroke-linejoin:round; stroke-width:4; stroke-opacity:1; fill:none\" points=\"249.542,261.843 268.44,261.843 \"/>\n",
       "<path clip-path=\"url(#clip620)\" d=\"M126.205 1262.55 Q122.593 1262.55 120.765 1266.12 Q118.959 1269.66 118.959 1276.79 Q118.959 1283.9 120.765 1287.46 Q122.593 1291 126.205 1291 Q129.839 1291 131.644 1287.46 Q133.473 1283.9 133.473 1276.79 Q133.473 1269.66 131.644 1266.12 Q129.839 1262.55 126.205 1262.55 M126.205 1258.85 Q132.015 1258.85 135.07 1263.46 Q138.149 1268.04 138.149 1276.79 Q138.149 1285.52 135.07 1290.12 Q132.015 1294.71 126.205 1294.71 Q120.394 1294.71 117.316 1290.12 Q114.26 1285.52 114.26 1276.79 Q114.26 1268.04 117.316 1263.46 Q120.394 1258.85 126.205 1258.85 Z\" fill=\"#000000\" fill-rule=\"nonzero\" fill-opacity=\"1\" /><path clip-path=\"url(#clip620)\" d=\"M146.366 1288.15 L151.251 1288.15 L151.251 1294.03 L146.366 1294.03 L146.366 1288.15 Z\" fill=\"#000000\" fill-rule=\"nonzero\" fill-opacity=\"1\" /><path clip-path=\"url(#clip620)\" d=\"M162.246 1290.1 L169.885 1290.1 L169.885 1263.73 L161.575 1265.4 L161.575 1261.14 L169.839 1259.47 L174.514 1259.47 L174.514 1290.1 L182.153 1290.1 L182.153 1294.03 L162.246 1294.03 L162.246 1290.1 Z\" fill=\"#000000\" fill-rule=\"nonzero\" fill-opacity=\"1\" /><path clip-path=\"url(#clip620)\" d=\"M201.598 1262.55 Q197.987 1262.55 196.158 1266.12 Q194.352 1269.66 194.352 1276.79 Q194.352 1283.9 196.158 1287.46 Q197.987 1291 201.598 1291 Q205.232 1291 207.037 1287.46 Q208.866 1283.9 208.866 1276.79 Q208.866 1269.66 207.037 1266.12 Q205.232 1262.55 201.598 1262.55 M201.598 1258.85 Q207.408 1258.85 210.463 1263.46 Q213.542 1268.04 213.542 1276.79 Q213.542 1285.52 210.463 1290.12 Q207.408 1294.71 201.598 1294.71 Q195.787 1294.71 192.709 1290.12 Q189.653 1285.52 189.653 1276.79 Q189.653 1268.04 192.709 1263.46 Q195.787 1258.85 201.598 1258.85 Z\" fill=\"#000000\" fill-rule=\"nonzero\" fill-opacity=\"1\" /><path clip-path=\"url(#clip620)\" d=\"M127.2 1008.83 Q123.589 1008.83 121.76 1012.39 Q119.955 1015.93 119.955 1023.06 Q119.955 1030.17 121.76 1033.73 Q123.589 1037.27 127.2 1037.27 Q130.834 1037.27 132.64 1033.73 Q134.468 1030.17 134.468 1023.06 Q134.468 1015.93 132.64 1012.39 Q130.834 1008.83 127.2 1008.83 M127.2 1005.12 Q133.01 1005.12 136.066 1009.73 Q139.144 1014.31 139.144 1023.06 Q139.144 1031.79 136.066 1036.39 Q133.01 1040.98 127.2 1040.98 Q121.39 1040.98 118.311 1036.39 Q115.256 1031.79 115.256 1023.06 Q115.256 1014.31 118.311 1009.73 Q121.39 1005.12 127.2 1005.12 Z\" fill=\"#000000\" fill-rule=\"nonzero\" fill-opacity=\"1\" /><path clip-path=\"url(#clip620)\" d=\"M147.362 1034.43 L152.246 1034.43 L152.246 1040.31 L147.362 1040.31 L147.362 1034.43 Z\" fill=\"#000000\" fill-rule=\"nonzero\" fill-opacity=\"1\" /><path clip-path=\"url(#clip620)\" d=\"M163.241 1036.37 L170.88 1036.37 L170.88 1010.01 L162.57 1011.67 L162.57 1007.41 L170.834 1005.75 L175.51 1005.75 L175.51 1036.37 L183.149 1036.37 L183.149 1040.31 L163.241 1040.31 L163.241 1036.37 Z\" fill=\"#000000\" fill-rule=\"nonzero\" fill-opacity=\"1\" /><path clip-path=\"url(#clip620)\" d=\"M192.639 1005.75 L210.996 1005.75 L210.996 1009.68 L196.922 1009.68 L196.922 1018.15 Q197.94 1017.81 198.959 1017.64 Q199.977 1017.46 200.996 1017.46 Q206.783 1017.46 210.162 1020.63 Q213.542 1023.8 213.542 1029.22 Q213.542 1034.8 210.07 1037.9 Q206.598 1040.98 200.278 1040.98 Q198.102 1040.98 195.834 1040.61 Q193.588 1040.24 191.181 1039.5 L191.181 1034.8 Q193.264 1035.93 195.487 1036.49 Q197.709 1037.04 200.186 1037.04 Q204.19 1037.04 206.528 1034.94 Q208.866 1032.83 208.866 1029.22 Q208.866 1025.61 206.528 1023.5 Q204.19 1021.39 200.186 1021.39 Q198.311 1021.39 196.436 1021.81 Q194.584 1022.23 192.639 1023.11 L192.639 1005.75 Z\" fill=\"#000000\" fill-rule=\"nonzero\" fill-opacity=\"1\" /><path clip-path=\"url(#clip620)\" d=\"M126.205 755.098 Q122.593 755.098 120.765 758.662 Q118.959 762.204 118.959 769.334 Q118.959 776.44 120.765 780.005 Q122.593 783.547 126.205 783.547 Q129.839 783.547 131.644 780.005 Q133.473 776.44 133.473 769.334 Q133.473 762.204 131.644 758.662 Q129.839 755.098 126.205 755.098 M126.205 751.394 Q132.015 751.394 135.07 756 Q138.149 760.584 138.149 769.334 Q138.149 778.06 135.07 782.667 Q132.015 787.25 126.205 787.25 Q120.394 787.25 117.316 782.667 Q114.26 778.06 114.26 769.334 Q114.26 760.584 117.316 756 Q120.394 751.394 126.205 751.394 Z\" fill=\"#000000\" fill-rule=\"nonzero\" fill-opacity=\"1\" /><path clip-path=\"url(#clip620)\" d=\"M146.366 780.699 L151.251 780.699 L151.251 786.579 L146.366 786.579 L146.366 780.699 Z\" fill=\"#000000\" fill-rule=\"nonzero\" fill-opacity=\"1\" /><path clip-path=\"url(#clip620)\" d=\"M165.464 782.644 L181.783 782.644 L181.783 786.579 L159.839 786.579 L159.839 782.644 Q162.501 779.889 167.084 775.26 Q171.69 770.607 172.871 769.264 Q175.116 766.741 175.996 765.005 Q176.899 763.246 176.899 761.556 Q176.899 758.801 174.954 757.065 Q173.033 755.329 169.931 755.329 Q167.732 755.329 165.278 756.093 Q162.848 756.857 160.07 758.408 L160.07 753.686 Q162.894 752.551 165.348 751.973 Q167.802 751.394 169.839 751.394 Q175.209 751.394 178.403 754.079 Q181.598 756.764 181.598 761.255 Q181.598 763.385 180.788 765.306 Q180.001 767.204 177.894 769.797 Q177.315 770.468 174.214 773.685 Q171.112 776.88 165.464 782.644 Z\" fill=\"#000000\" fill-rule=\"nonzero\" fill-opacity=\"1\" /><path clip-path=\"url(#clip620)\" d=\"M201.598 755.098 Q197.987 755.098 196.158 758.662 Q194.352 762.204 194.352 769.334 Q194.352 776.44 196.158 780.005 Q197.987 783.547 201.598 783.547 Q205.232 783.547 207.037 780.005 Q208.866 776.44 208.866 769.334 Q208.866 762.204 207.037 758.662 Q205.232 755.098 201.598 755.098 M201.598 751.394 Q207.408 751.394 210.463 756 Q213.542 760.584 213.542 769.334 Q213.542 778.06 210.463 782.667 Q207.408 787.25 201.598 787.25 Q195.787 787.25 192.709 782.667 Q189.653 778.06 189.653 769.334 Q189.653 760.584 192.709 756 Q195.787 751.394 201.598 751.394 Z\" fill=\"#000000\" fill-rule=\"nonzero\" fill-opacity=\"1\" /><path clip-path=\"url(#clip620)\" d=\"M127.2 501.37 Q123.589 501.37 121.76 504.935 Q119.955 508.476 119.955 515.606 Q119.955 522.712 121.76 526.277 Q123.589 529.819 127.2 529.819 Q130.834 529.819 132.64 526.277 Q134.468 522.712 134.468 515.606 Q134.468 508.476 132.64 504.935 Q130.834 501.37 127.2 501.37 M127.2 497.666 Q133.01 497.666 136.066 502.273 Q139.144 506.856 139.144 515.606 Q139.144 524.333 136.066 528.939 Q133.01 533.522 127.2 533.522 Q121.39 533.522 118.311 528.939 Q115.256 524.333 115.256 515.606 Q115.256 506.856 118.311 502.273 Q121.39 497.666 127.2 497.666 Z\" fill=\"#000000\" fill-rule=\"nonzero\" fill-opacity=\"1\" /><path clip-path=\"url(#clip620)\" d=\"M147.362 526.972 L152.246 526.972 L152.246 532.851 L147.362 532.851 L147.362 526.972 Z\" fill=\"#000000\" fill-rule=\"nonzero\" fill-opacity=\"1\" /><path clip-path=\"url(#clip620)\" d=\"M166.459 528.916 L182.778 528.916 L182.778 532.851 L160.834 532.851 L160.834 528.916 Q163.496 526.161 168.079 521.532 Q172.686 516.879 173.866 515.536 Q176.112 513.013 176.991 511.277 Q177.894 509.518 177.894 507.828 Q177.894 505.073 175.95 503.337 Q174.028 501.601 170.927 501.601 Q168.727 501.601 166.274 502.365 Q163.843 503.129 161.065 504.68 L161.065 499.958 Q163.89 498.824 166.343 498.245 Q168.797 497.666 170.834 497.666 Q176.204 497.666 179.399 500.351 Q182.593 503.036 182.593 507.527 Q182.593 509.657 181.783 511.578 Q180.996 513.476 178.889 516.069 Q178.311 516.74 175.209 519.958 Q172.107 523.152 166.459 528.916 Z\" fill=\"#000000\" fill-rule=\"nonzero\" fill-opacity=\"1\" /><path clip-path=\"url(#clip620)\" d=\"M192.639 498.291 L210.996 498.291 L210.996 502.226 L196.922 502.226 L196.922 510.698 Q197.94 510.351 198.959 510.189 Q199.977 510.004 200.996 510.004 Q206.783 510.004 210.162 513.175 Q213.542 516.347 213.542 521.763 Q213.542 527.342 210.07 530.444 Q206.598 533.522 200.278 533.522 Q198.102 533.522 195.834 533.152 Q193.588 532.782 191.181 532.041 L191.181 527.342 Q193.264 528.476 195.487 529.032 Q197.709 529.587 200.186 529.587 Q204.19 529.587 206.528 527.481 Q208.866 525.374 208.866 521.763 Q208.866 518.152 206.528 516.046 Q204.19 513.939 200.186 513.939 Q198.311 513.939 196.436 514.356 Q194.584 514.773 192.639 515.652 L192.639 498.291 Z\" fill=\"#000000\" fill-rule=\"nonzero\" fill-opacity=\"1\" /><path clip-path=\"url(#clip620)\" d=\"M126.205 247.642 Q122.593 247.642 120.765 251.207 Q118.959 254.748 118.959 261.878 Q118.959 268.984 120.765 272.549 Q122.593 276.091 126.205 276.091 Q129.839 276.091 131.644 272.549 Q133.473 268.984 133.473 261.878 Q133.473 254.748 131.644 251.207 Q129.839 247.642 126.205 247.642 M126.205 243.938 Q132.015 243.938 135.07 248.545 Q138.149 253.128 138.149 261.878 Q138.149 270.605 135.07 275.211 Q132.015 279.795 126.205 279.795 Q120.394 279.795 117.316 275.211 Q114.26 270.605 114.26 261.878 Q114.26 253.128 117.316 248.545 Q120.394 243.938 126.205 243.938 Z\" fill=\"#000000\" fill-rule=\"nonzero\" fill-opacity=\"1\" /><path clip-path=\"url(#clip620)\" d=\"M146.366 273.244 L151.251 273.244 L151.251 279.123 L146.366 279.123 L146.366 273.244 Z\" fill=\"#000000\" fill-rule=\"nonzero\" fill-opacity=\"1\" /><path clip-path=\"url(#clip620)\" d=\"M175.602 260.489 Q178.959 261.207 180.834 263.475 Q182.732 265.744 182.732 269.077 Q182.732 274.193 179.214 276.994 Q175.695 279.795 169.214 279.795 Q167.038 279.795 164.723 279.355 Q162.431 278.938 159.978 278.082 L159.978 273.568 Q161.922 274.702 164.237 275.281 Q166.552 275.859 169.075 275.859 Q173.473 275.859 175.764 274.123 Q178.079 272.387 178.079 269.077 Q178.079 266.022 175.926 264.309 Q173.797 262.572 169.977 262.572 L165.95 262.572 L165.95 258.73 L170.163 258.73 Q173.612 258.73 175.44 257.364 Q177.269 255.975 177.269 253.383 Q177.269 250.721 175.371 249.309 Q173.496 247.873 169.977 247.873 Q168.056 247.873 165.857 248.29 Q163.658 248.707 161.019 249.586 L161.019 245.42 Q163.681 244.679 165.996 244.309 Q168.334 243.938 170.394 243.938 Q175.718 243.938 178.82 246.369 Q181.922 248.776 181.922 252.897 Q181.922 255.767 180.278 257.758 Q178.635 259.725 175.602 260.489 Z\" fill=\"#000000\" fill-rule=\"nonzero\" fill-opacity=\"1\" /><path clip-path=\"url(#clip620)\" d=\"M201.598 247.642 Q197.987 247.642 196.158 251.207 Q194.352 254.748 194.352 261.878 Q194.352 268.984 196.158 272.549 Q197.987 276.091 201.598 276.091 Q205.232 276.091 207.037 272.549 Q208.866 268.984 208.866 261.878 Q208.866 254.748 207.037 251.207 Q205.232 247.642 201.598 247.642 M201.598 243.938 Q207.408 243.938 210.463 248.545 Q213.542 253.128 213.542 261.878 Q213.542 270.605 210.463 275.211 Q207.408 279.795 201.598 279.795 Q195.787 279.795 192.709 275.211 Q189.653 270.605 189.653 261.878 Q189.653 253.128 192.709 248.545 Q195.787 243.938 201.598 243.938 Z\" fill=\"#000000\" fill-rule=\"nonzero\" fill-opacity=\"1\" /><path clip-path=\"url(#clip620)\" d=\"M21.7677 1184.09 L39.6235 1184.09 L39.6235 1176.01 Q39.6235 1171.52 37.3 1169.07 Q34.9765 1166.62 30.6797 1166.62 Q26.4147 1166.62 24.0912 1169.07 Q21.7677 1171.52 21.7677 1176.01 L21.7677 1184.09 M16.4842 1190.52 L16.4842 1176.01 Q16.4842 1168.02 20.1126 1163.94 Q23.7092 1159.84 30.6797 1159.84 Q37.7138 1159.84 41.3104 1163.94 Q44.907 1168.02 44.907 1176.01 L44.907 1184.09 L64.0042 1184.09 L64.0042 1190.52 L16.4842 1190.52 Z\" fill=\"#000000\" fill-rule=\"nonzero\" fill-opacity=\"1\" /><path clip-path=\"url(#clip620)\" d=\"M32.4621 1139.98 Q32.4621 1144.69 36.1542 1147.42 Q39.8145 1150.16 46.212 1150.16 Q52.6095 1150.16 56.3017 1147.46 Q59.9619 1144.72 59.9619 1139.98 Q59.9619 1135.3 56.2698 1132.56 Q52.5777 1129.82 46.212 1129.82 Q39.8781 1129.82 36.186 1132.56 Q32.4621 1135.3 32.4621 1139.98 M27.4968 1139.98 Q27.4968 1132.34 32.4621 1127.98 Q37.4273 1123.62 46.212 1123.62 Q54.9649 1123.62 59.9619 1127.98 Q64.9272 1132.34 64.9272 1139.98 Q64.9272 1147.65 59.9619 1152.01 Q54.9649 1156.34 46.212 1156.34 Q37.4273 1156.34 32.4621 1152.01 Q27.4968 1147.65 27.4968 1139.98 Z\" fill=\"#000000\" fill-rule=\"nonzero\" fill-opacity=\"1\" /><path clip-path=\"url(#clip620)\" d=\"M33.8307 1093.25 Q33.2578 1094.24 33.0032 1095.42 Q32.7167 1096.56 32.7167 1097.96 Q32.7167 1102.93 35.9632 1105.6 Q39.1779 1108.24 45.2253 1108.24 L64.0042 1108.24 L64.0042 1114.13 L28.3562 1114.13 L28.3562 1108.24 L33.8944 1108.24 Q30.6479 1106.4 29.0883 1103.44 Q27.4968 1100.48 27.4968 1096.24 Q27.4968 1095.64 27.5923 1094.91 Q27.656 1094.17 27.8151 1093.28 L33.8307 1093.25 Z\" fill=\"#000000\" fill-rule=\"nonzero\" fill-opacity=\"1\" /><path clip-path=\"url(#clip620)\" d=\"M18.2347 1081.32 L28.3562 1081.32 L28.3562 1069.25 L32.9077 1069.25 L32.9077 1081.32 L52.2594 1081.32 Q56.6199 1081.32 57.8613 1080.14 Q59.1026 1078.93 59.1026 1075.27 L59.1026 1069.25 L64.0042 1069.25 L64.0042 1075.27 Q64.0042 1082.05 61.4897 1084.63 Q58.9434 1087.2 52.2594 1087.2 L32.9077 1087.2 L32.9077 1091.5 L28.3562 1091.5 L28.3562 1087.2 L18.2347 1087.2 L18.2347 1081.32 Z\" fill=\"#000000\" fill-rule=\"nonzero\" fill-opacity=\"1\" /><path clip-path=\"url(#clip620)\" d=\"M14.479 1043.5 L19.3487 1043.5 L19.3487 1049.1 Q19.3487 1052.26 20.6219 1053.5 Q21.895 1054.71 25.2052 1054.71 L28.3562 1054.71 L28.3562 1045.06 L32.9077 1045.06 L32.9077 1054.71 L64.0042 1054.71 L64.0042 1060.6 L32.9077 1060.6 L32.9077 1066.2 L28.3562 1066.2 L28.3562 1060.6 L25.8736 1060.6 Q19.9216 1060.6 17.2162 1057.83 Q14.479 1055.06 14.479 1049.04 L14.479 1043.5 Z\" fill=\"#000000\" fill-rule=\"nonzero\" fill-opacity=\"1\" /><path clip-path=\"url(#clip620)\" d=\"M32.4621 1024.79 Q32.4621 1029.5 36.1542 1032.24 Q39.8145 1034.97 46.212 1034.97 Q52.6095 1034.97 56.3017 1032.27 Q59.9619 1029.53 59.9619 1024.79 Q59.9619 1020.11 56.2698 1017.37 Q52.5777 1014.63 46.212 1014.63 Q39.8781 1014.63 36.186 1017.37 Q32.4621 1020.11 32.4621 1024.79 M27.4968 1024.79 Q27.4968 1017.15 32.4621 1012.79 Q37.4273 1008.43 46.212 1008.43 Q54.9649 1008.43 59.9619 1012.79 Q64.9272 1017.15 64.9272 1024.79 Q64.9272 1032.46 59.9619 1036.82 Q54.9649 1041.15 46.212 1041.15 Q37.4273 1041.15 32.4621 1036.82 Q27.4968 1032.46 27.4968 1024.79 Z\" fill=\"#000000\" fill-rule=\"nonzero\" fill-opacity=\"1\" /><path clip-path=\"url(#clip620)\" d=\"M14.479 998.72 L14.479 992.864 L64.0042 992.864 L64.0042 998.72 L14.479 998.72 Z\" fill=\"#000000\" fill-rule=\"nonzero\" fill-opacity=\"1\" /><path clip-path=\"url(#clip620)\" d=\"M28.3562 980.61 L28.3562 974.754 L64.0042 974.754 L64.0042 980.61 L28.3562 980.61 M14.479 980.61 L14.479 974.754 L21.895 974.754 L21.895 980.61 L14.479 980.61 Z\" fill=\"#000000\" fill-rule=\"nonzero\" fill-opacity=\"1\" /><path clip-path=\"url(#clip620)\" d=\"M32.4621 948.686 Q32.4621 953.397 36.1542 956.134 Q39.8145 958.871 46.212 958.871 Q52.6095 958.871 56.3017 956.166 Q59.9619 953.428 59.9619 948.686 Q59.9619 944.007 56.2698 941.27 Q52.5777 938.533 46.212 938.533 Q39.8781 938.533 36.186 941.27 Q32.4621 944.007 32.4621 948.686 M27.4968 948.686 Q27.4968 941.047 32.4621 936.687 Q37.4273 932.326 46.212 932.326 Q54.9649 932.326 59.9619 936.687 Q64.9272 941.047 64.9272 948.686 Q64.9272 956.357 59.9619 960.717 Q54.9649 965.046 46.212 965.046 Q37.4273 965.046 32.4621 960.717 Q27.4968 956.357 27.4968 948.686 Z\" fill=\"#000000\" fill-rule=\"nonzero\" fill-opacity=\"1\" /><path clip-path=\"url(#clip620)\" d=\"M41.7242 879.109 Q42.4244 877.04 44.7161 875.098 Q47.0077 873.125 51.0181 871.152 L64.0042 864.627 L64.0042 871.534 L51.8138 877.613 Q47.0395 879.968 45.48 882.196 Q43.9204 884.392 43.9204 888.212 L43.9204 895.214 L64.0042 895.214 L64.0042 901.643 L16.4842 901.643 L16.4842 887.13 Q16.4842 878.981 19.8898 874.971 Q23.2955 870.961 30.1704 870.961 Q34.6582 870.961 37.6183 873.061 Q40.5784 875.13 41.7242 879.109 M21.7677 895.214 L38.6368 895.214 L38.6368 887.13 Q38.6368 882.483 36.5043 880.127 Q34.34 877.74 30.1704 877.74 Q26.0009 877.74 23.9002 880.127 Q21.7677 882.483 21.7677 887.13 L21.7677 895.214 Z\" fill=\"#000000\" fill-rule=\"nonzero\" fill-opacity=\"1\" /><path clip-path=\"url(#clip620)\" d=\"M44.7161 829.042 L47.5806 829.042 L47.5806 855.969 Q53.6281 855.587 56.8109 852.341 Q59.9619 849.063 59.9619 843.238 Q59.9619 839.864 59.1344 836.713 Q58.3069 833.53 56.6518 830.411 L62.1899 830.411 Q63.5267 833.562 64.227 836.872 Q64.9272 840.182 64.9272 843.588 Q64.9272 852.118 59.9619 857.115 Q54.9967 862.081 46.5303 862.081 Q37.7774 862.081 32.6531 857.37 Q27.4968 852.627 27.4968 844.607 Q27.4968 837.413 32.1438 833.244 Q36.7589 829.042 44.7161 829.042 M42.9973 834.899 Q38.1912 834.963 35.3266 837.604 Q32.4621 840.214 32.4621 844.543 Q32.4621 849.445 35.2312 852.405 Q38.0002 855.333 43.0292 855.778 L42.9973 834.899 Z\" fill=\"#000000\" fill-rule=\"nonzero\" fill-opacity=\"1\" /><path clip-path=\"url(#clip620)\" d=\"M28.3562 822.836 L28.3562 816.979 L56.1743 809.659 L28.3562 802.37 L28.3562 795.463 L56.1743 788.143 L28.3562 780.854 L28.3562 774.998 L64.0042 784.323 L64.0042 791.23 L34.7856 798.901 L64.0042 806.603 L64.0042 813.51 L28.3562 822.836 Z\" fill=\"#000000\" fill-rule=\"nonzero\" fill-opacity=\"1\" /><path clip-path=\"url(#clip620)\" d=\"M46.0847 749.917 Q46.0847 757.015 47.7079 759.752 Q49.3312 762.489 53.2461 762.489 Q56.3653 762.489 58.2114 760.452 Q60.0256 758.383 60.0256 754.85 Q60.0256 749.98 56.5881 747.052 Q53.1188 744.092 47.3897 744.092 L46.0847 744.092 L46.0847 749.917 M43.6657 738.236 L64.0042 738.236 L64.0042 744.092 L58.5933 744.092 Q61.8398 746.097 63.3994 749.089 Q64.9272 752.081 64.9272 756.41 Q64.9272 761.884 61.8716 765.131 Q58.7843 768.345 53.6281 768.345 Q47.6125 768.345 44.5569 764.335 Q41.5014 760.293 41.5014 752.304 L41.5014 744.092 L40.9285 744.092 Q36.8862 744.092 34.6901 746.766 Q32.4621 749.407 32.4621 754.214 Q32.4621 757.269 33.1941 760.166 Q33.9262 763.062 35.3903 765.736 L29.9795 765.736 Q28.7381 762.521 28.1334 759.497 Q27.4968 756.473 27.4968 753.609 Q27.4968 745.875 31.5072 742.055 Q35.5176 738.236 43.6657 738.236 Z\" fill=\"#000000\" fill-rule=\"nonzero\" fill-opacity=\"1\" /><path clip-path=\"url(#clip620)\" d=\"M33.8307 705.516 Q33.2578 706.503 33.0032 707.68 Q32.7167 708.826 32.7167 710.227 Q32.7167 715.192 35.9632 717.865 Q39.1779 720.507 45.2253 720.507 L64.0042 720.507 L64.0042 726.395 L28.3562 726.395 L28.3562 720.507 L33.8944 720.507 Q30.6479 718.661 29.0883 715.701 Q27.4968 712.741 27.4968 708.508 Q27.4968 707.903 27.5923 707.171 Q27.656 706.439 27.8151 705.548 L33.8307 705.516 Z\" fill=\"#000000\" fill-rule=\"nonzero\" fill-opacity=\"1\" /><path clip-path=\"url(#clip620)\" d=\"M33.7671 677.061 L14.479 677.061 L14.479 671.205 L64.0042 671.205 L64.0042 677.061 L58.657 677.061 Q61.8398 678.907 63.3994 681.74 Q64.9272 684.541 64.9272 688.488 Q64.9272 694.949 59.771 699.023 Q54.6147 703.065 46.212 703.065 Q37.8093 703.065 32.6531 699.023 Q27.4968 694.949 27.4968 688.488 Q27.4968 684.541 29.0564 681.74 Q30.5842 678.907 33.7671 677.061 M46.212 697.018 Q52.6732 697.018 56.3653 694.376 Q60.0256 691.702 60.0256 687.055 Q60.0256 682.408 56.3653 679.735 Q52.6732 677.061 46.212 677.061 Q39.7508 677.061 36.0905 679.735 Q32.3984 682.408 32.3984 687.055 Q32.3984 691.702 36.0905 694.376 Q39.7508 697.018 46.212 697.018 Z\" fill=\"#000000\" fill-rule=\"nonzero\" fill-opacity=\"1\" /><path clip-path=\"url(#clip620)\" d=\"M14.5426 624.353 Q21.8632 628.618 29.0246 630.687 Q36.186 632.756 43.5384 632.756 Q50.8908 632.756 58.1159 630.687 Q65.3091 628.586 72.5979 624.353 L72.5979 629.446 Q65.1182 634.22 57.8931 636.607 Q50.668 638.962 43.5384 638.962 Q36.4406 638.962 29.2474 636.607 Q22.0542 634.252 14.5426 629.446 L14.5426 624.353 Z\" fill=\"#000000\" fill-rule=\"nonzero\" fill-opacity=\"1\" /><path clip-path=\"url(#clip620)\" d=\"M14.479 612.99 L14.479 607.134 L64.0042 607.134 L64.0042 612.99 L14.479 612.99 Z\" fill=\"#000000\" fill-rule=\"nonzero\" fill-opacity=\"1\" /><path clip-path=\"url(#clip620)\" d=\"M32.4621 581.066 Q32.4621 585.777 36.1542 588.514 Q39.8145 591.252 46.212 591.252 Q52.6095 591.252 56.3017 588.546 Q59.9619 585.809 59.9619 581.066 Q59.9619 576.388 56.2698 573.65 Q52.5777 570.913 46.212 570.913 Q39.8781 570.913 36.186 573.65 Q32.4621 576.388 32.4621 581.066 M27.4968 581.066 Q27.4968 573.428 32.4621 569.067 Q37.4273 564.707 46.212 564.707 Q54.9649 564.707 59.9619 569.067 Q64.9272 573.428 64.9272 581.066 Q64.9272 588.737 59.9619 593.098 Q54.9649 597.426 46.212 597.426 Q37.4273 597.426 32.4621 593.098 Q27.4968 588.737 27.4968 581.066 Z\" fill=\"#000000\" fill-rule=\"nonzero\" fill-opacity=\"1\" /><path clip-path=\"url(#clip620)\" d=\"M45.7664 531.541 Q39.4007 531.541 35.8996 534.183 Q32.3984 536.793 32.3984 541.535 Q32.3984 546.246 35.8996 548.888 Q39.4007 551.498 45.7664 551.498 Q52.1003 551.498 55.6014 548.888 Q59.1026 546.246 59.1026 541.535 Q59.1026 536.793 55.6014 534.183 Q52.1003 531.541 45.7664 531.541 M59.58 525.685 Q68.683 525.685 73.1071 529.727 Q77.5631 533.769 77.5631 542.108 Q77.5631 545.196 77.0857 547.933 Q76.6401 550.67 75.6852 553.248 L69.9879 553.248 Q71.3884 550.67 72.0568 548.156 Q72.7252 545.641 72.7252 543.031 Q72.7252 537.27 69.7015 534.406 Q66.7096 531.541 60.6303 531.541 L57.7339 531.541 Q60.885 533.355 62.4446 536.188 Q64.0042 539.021 64.0042 542.968 Q64.0042 549.524 59.0071 553.535 Q54.01 557.545 45.7664 557.545 Q37.491 557.545 32.4939 553.535 Q27.4968 549.524 27.4968 542.968 Q27.4968 539.021 29.0564 536.188 Q30.616 533.355 33.7671 531.541 L28.3562 531.541 L28.3562 525.685 L59.58 525.685 Z\" fill=\"#000000\" fill-rule=\"nonzero\" fill-opacity=\"1\" /><path clip-path=\"url(#clip620)\" d=\"M33.8307 472.245 Q33.2578 473.231 33.0032 474.409 Q32.7167 475.555 32.7167 476.955 Q32.7167 481.921 35.9632 484.594 Q39.1779 487.236 45.2253 487.236 L64.0042 487.236 L64.0042 493.124 L28.3562 493.124 L28.3562 487.236 L33.8944 487.236 Q30.6479 485.39 29.0883 482.43 Q27.4968 479.47 27.4968 475.237 Q27.4968 474.632 27.5923 473.9 Q27.656 473.168 27.8151 472.276 L33.8307 472.245 Z\" fill=\"#000000\" fill-rule=\"nonzero\" fill-opacity=\"1\" /><path clip-path=\"url(#clip620)\" d=\"M44.7161 437.042 L47.5806 437.042 L47.5806 463.969 Q53.6281 463.587 56.8109 460.341 Q59.9619 457.062 59.9619 451.238 Q59.9619 447.864 59.1344 444.713 Q58.3069 441.53 56.6518 438.411 L62.1899 438.411 Q63.5267 441.562 64.227 444.872 Q64.9272 448.182 64.9272 451.588 Q64.9272 460.118 59.9619 465.115 Q54.9967 470.08 46.5303 470.08 Q37.7774 470.08 32.6531 465.37 Q27.4968 460.627 27.4968 452.606 Q27.4968 445.413 32.1438 441.244 Q36.7589 437.042 44.7161 437.042 M42.9973 442.899 Q38.1912 442.962 35.3266 445.604 Q32.4621 448.214 32.4621 452.543 Q32.4621 457.444 35.2312 460.404 Q38.0002 463.333 43.0292 463.778 L42.9973 442.899 Z\" fill=\"#000000\" fill-rule=\"nonzero\" fill-opacity=\"1\" /><path clip-path=\"url(#clip620)\" d=\"M18.2347 421.637 L28.3562 421.637 L28.3562 409.574 L32.9077 409.574 L32.9077 421.637 L52.2594 421.637 Q56.6199 421.637 57.8613 420.46 Q59.1026 419.25 59.1026 415.59 L59.1026 409.574 L64.0042 409.574 L64.0042 415.59 Q64.0042 422.369 61.4897 424.947 Q58.9434 427.526 52.2594 427.526 L32.9077 427.526 L32.9077 431.822 L28.3562 431.822 L28.3562 427.526 L18.2347 427.526 L18.2347 421.637 Z\" fill=\"#000000\" fill-rule=\"nonzero\" fill-opacity=\"1\" /><path clip-path=\"url(#clip620)\" d=\"M49.9359 402.476 L28.3562 402.476 L28.3562 396.62 L49.7131 396.62 Q54.7739 396.62 57.3202 394.647 Q59.8346 392.673 59.8346 388.727 Q59.8346 383.984 56.8109 381.247 Q53.7872 378.478 48.5673 378.478 L28.3562 378.478 L28.3562 372.621 L64.0042 372.621 L64.0042 378.478 L58.5296 378.478 Q61.7762 380.61 63.3676 383.443 Q64.9272 386.244 64.9272 389.968 Q64.9272 396.111 61.1078 399.294 Q57.2883 402.476 49.9359 402.476 M27.4968 387.74 L27.4968 387.74 Z\" fill=\"#000000\" fill-rule=\"nonzero\" fill-opacity=\"1\" /><path clip-path=\"url(#clip620)\" d=\"M33.8307 339.902 Q33.2578 340.888 33.0032 342.066 Q32.7167 343.212 32.7167 344.612 Q32.7167 349.577 35.9632 352.251 Q39.1779 354.893 45.2253 354.893 L64.0042 354.893 L64.0042 360.781 L28.3562 360.781 L28.3562 354.893 L33.8944 354.893 Q30.6479 353.047 29.0883 350.087 Q27.4968 347.127 27.4968 342.893 Q27.4968 342.289 27.5923 341.557 Q27.656 340.825 27.8151 339.933 L33.8307 339.902 Z\" fill=\"#000000\" fill-rule=\"nonzero\" fill-opacity=\"1\" /><path clip-path=\"url(#clip620)\" d=\"M42.4881 305.272 L64.0042 305.272 L64.0042 311.129 L42.679 311.129 Q37.6183 311.129 35.1038 313.102 Q32.5894 315.075 32.5894 319.022 Q32.5894 323.765 35.6131 326.502 Q38.6368 329.239 43.8567 329.239 L64.0042 329.239 L64.0042 335.127 L28.3562 335.127 L28.3562 329.239 L33.8944 329.239 Q30.6797 327.138 29.0883 324.306 Q27.4968 321.441 27.4968 317.717 Q27.4968 311.574 31.3163 308.423 Q35.1038 305.272 42.4881 305.272 Z\" fill=\"#000000\" fill-rule=\"nonzero\" fill-opacity=\"1\" /><path clip-path=\"url(#clip620)\" d=\"M14.5426 294.514 L14.5426 289.422 Q22.0542 284.647 29.2474 282.292 Q36.4406 279.905 43.5384 279.905 Q50.668 279.905 57.8931 282.292 Q65.1182 284.647 72.5979 289.422 L72.5979 294.514 Q65.3091 290.281 58.1159 288.212 Q50.8908 286.111 43.5384 286.111 Q36.186 286.111 29.0246 288.212 Q21.8632 290.281 14.5426 294.514 Z\" fill=\"#000000\" fill-rule=\"nonzero\" fill-opacity=\"1\" /><polyline clip-path=\"url(#clip622)\" style=\"stroke:#b0b0b0; stroke-linecap:round; stroke-linejoin:round; stroke-width:16; stroke-opacity:1; fill:none\" points=\"1045.32,1365.97 1045.32,1365.97 1045.32,1365.97 1045.32,1365.97 1045.32,1365.97 1045.32,1365.97 1045.32,1365.97 1045.32,1365.97 1045.9,1315.79 1048.09,1257.24 1051.9,1198.68 1057.3,1140.13 1064.28,1081.58 1072.96,1023.03 1083.99,964.474 1097.68,905.922 1114.09,847.369 1133.06,788.816 1157.39,730.264 1195.13,671.711 1245.29,613.159 1306.1,554.606 1375.83,496.054 1452.94,437.501 1536.1,378.949 1624.2,320.396 1716.37,261.843 1811.88,203.291 1910.36,144.738 2011.45,86.1857 \"/>\n",
       "<circle clip-path=\"url(#clip622)\" cx=\"1097.68\" cy=\"905.922\" r=\"10.8\" fill=\"#ffffff\" fill-rule=\"evenodd\" fill-opacity=\"1\" stroke=\"#000000\" stroke-opacity=\"1\" stroke-width=\"3.2\"/>\n",
       "<circle clip-path=\"url(#clip622)\" cx=\"1133.06\" cy=\"788.816\" r=\"10.8\" fill=\"#ffffff\" fill-rule=\"evenodd\" fill-opacity=\"1\" stroke=\"#000000\" stroke-opacity=\"1\" stroke-width=\"3.2\"/>\n",
       "<circle clip-path=\"url(#clip622)\" cx=\"1045.32\" cy=\"1365.97\" r=\"10.8\" fill=\"#ffffff\" fill-rule=\"evenodd\" fill-opacity=\"1\" stroke=\"#000000\" stroke-opacity=\"1\" stroke-width=\"3.2\"/>\n",
       "<circle clip-path=\"url(#clip622)\" cx=\"1114.09\" cy=\"847.369\" r=\"10.8\" fill=\"#ffffff\" fill-rule=\"evenodd\" fill-opacity=\"1\" stroke=\"#000000\" stroke-opacity=\"1\" stroke-width=\"3.2\"/>\n",
       "<circle clip-path=\"url(#clip622)\" cx=\"1045.32\" cy=\"1365.97\" r=\"10.8\" fill=\"#ffffff\" fill-rule=\"evenodd\" fill-opacity=\"1\" stroke=\"#000000\" stroke-opacity=\"1\" stroke-width=\"3.2\"/>\n",
       "<circle clip-path=\"url(#clip622)\" cx=\"1536.1\" cy=\"378.949\" r=\"10.8\" fill=\"#ffffff\" fill-rule=\"evenodd\" fill-opacity=\"1\" stroke=\"#000000\" stroke-opacity=\"1\" stroke-width=\"3.2\"/>\n",
       "<circle clip-path=\"url(#clip622)\" cx=\"1048.09\" cy=\"1257.24\" r=\"10.8\" fill=\"#ffffff\" fill-rule=\"evenodd\" fill-opacity=\"1\" stroke=\"#000000\" stroke-opacity=\"1\" stroke-width=\"3.2\"/>\n",
       "<circle clip-path=\"url(#clip622)\" cx=\"1811.88\" cy=\"203.291\" r=\"10.8\" fill=\"#ffffff\" fill-rule=\"evenodd\" fill-opacity=\"1\" stroke=\"#000000\" stroke-opacity=\"1\" stroke-width=\"3.2\"/>\n",
       "<circle clip-path=\"url(#clip622)\" cx=\"1045.32\" cy=\"1365.97\" r=\"10.8\" fill=\"#ffffff\" fill-rule=\"evenodd\" fill-opacity=\"1\" stroke=\"#000000\" stroke-opacity=\"1\" stroke-width=\"3.2\"/>\n",
       "<circle clip-path=\"url(#clip622)\" cx=\"1083.99\" cy=\"964.474\" r=\"10.8\" fill=\"#ffffff\" fill-rule=\"evenodd\" fill-opacity=\"1\" stroke=\"#000000\" stroke-opacity=\"1\" stroke-width=\"3.2\"/>\n",
       "<circle clip-path=\"url(#clip622)\" cx=\"2011.45\" cy=\"86.1857\" r=\"10.8\" fill=\"#ffffff\" fill-rule=\"evenodd\" fill-opacity=\"1\" stroke=\"#000000\" stroke-opacity=\"1\" stroke-width=\"3.2\"/>\n",
       "<circle clip-path=\"url(#clip622)\" cx=\"1045.32\" cy=\"1365.97\" r=\"10.8\" fill=\"#ffffff\" fill-rule=\"evenodd\" fill-opacity=\"1\" stroke=\"#000000\" stroke-opacity=\"1\" stroke-width=\"3.2\"/>\n",
       "<circle clip-path=\"url(#clip622)\" cx=\"1245.29\" cy=\"613.159\" r=\"10.8\" fill=\"#ffffff\" fill-rule=\"evenodd\" fill-opacity=\"1\" stroke=\"#000000\" stroke-opacity=\"1\" stroke-width=\"3.2\"/>\n",
       "<circle clip-path=\"url(#clip622)\" cx=\"1057.3\" cy=\"1140.13\" r=\"10.8\" fill=\"#ffffff\" fill-rule=\"evenodd\" fill-opacity=\"1\" stroke=\"#000000\" stroke-opacity=\"1\" stroke-width=\"3.2\"/>\n",
       "<circle clip-path=\"url(#clip622)\" cx=\"1624.2\" cy=\"320.396\" r=\"10.8\" fill=\"#ffffff\" fill-rule=\"evenodd\" fill-opacity=\"1\" stroke=\"#000000\" stroke-opacity=\"1\" stroke-width=\"3.2\"/>\n",
       "<circle clip-path=\"url(#clip622)\" cx=\"1045.32\" cy=\"1365.97\" r=\"10.8\" fill=\"#ffffff\" fill-rule=\"evenodd\" fill-opacity=\"1\" stroke=\"#000000\" stroke-opacity=\"1\" stroke-width=\"3.2\"/>\n",
       "<circle clip-path=\"url(#clip622)\" cx=\"1157.39\" cy=\"730.264\" r=\"10.8\" fill=\"#ffffff\" fill-rule=\"evenodd\" fill-opacity=\"1\" stroke=\"#000000\" stroke-opacity=\"1\" stroke-width=\"3.2\"/>\n",
       "<circle clip-path=\"url(#clip622)\" cx=\"1045.32\" cy=\"1365.97\" r=\"10.8\" fill=\"#ffffff\" fill-rule=\"evenodd\" fill-opacity=\"1\" stroke=\"#000000\" stroke-opacity=\"1\" stroke-width=\"3.2\"/>\n",
       "<circle clip-path=\"url(#clip622)\" cx=\"1195.13\" cy=\"671.711\" r=\"10.8\" fill=\"#ffffff\" fill-rule=\"evenodd\" fill-opacity=\"1\" stroke=\"#000000\" stroke-opacity=\"1\" stroke-width=\"3.2\"/>\n",
       "<circle clip-path=\"url(#clip622)\" cx=\"1375.83\" cy=\"496.054\" r=\"10.8\" fill=\"#ffffff\" fill-rule=\"evenodd\" fill-opacity=\"1\" stroke=\"#000000\" stroke-opacity=\"1\" stroke-width=\"3.2\"/>\n",
       "<circle clip-path=\"url(#clip622)\" cx=\"1051.9\" cy=\"1198.68\" r=\"10.8\" fill=\"#ffffff\" fill-rule=\"evenodd\" fill-opacity=\"1\" stroke=\"#000000\" stroke-opacity=\"1\" stroke-width=\"3.2\"/>\n",
       "<circle clip-path=\"url(#clip622)\" cx=\"1452.94\" cy=\"437.501\" r=\"10.8\" fill=\"#ffffff\" fill-rule=\"evenodd\" fill-opacity=\"1\" stroke=\"#000000\" stroke-opacity=\"1\" stroke-width=\"3.2\"/>\n",
       "<circle clip-path=\"url(#clip622)\" cx=\"1716.37\" cy=\"261.843\" r=\"10.8\" fill=\"#ffffff\" fill-rule=\"evenodd\" fill-opacity=\"1\" stroke=\"#000000\" stroke-opacity=\"1\" stroke-width=\"3.2\"/>\n",
       "<circle clip-path=\"url(#clip622)\" cx=\"1045.32\" cy=\"1365.97\" r=\"10.8\" fill=\"#ffffff\" fill-rule=\"evenodd\" fill-opacity=\"1\" stroke=\"#000000\" stroke-opacity=\"1\" stroke-width=\"3.2\"/>\n",
       "<circle clip-path=\"url(#clip622)\" cx=\"1306.1\" cy=\"554.606\" r=\"10.8\" fill=\"#ffffff\" fill-rule=\"evenodd\" fill-opacity=\"1\" stroke=\"#000000\" stroke-opacity=\"1\" stroke-width=\"3.2\"/>\n",
       "<circle clip-path=\"url(#clip622)\" cx=\"1072.96\" cy=\"1023.03\" r=\"10.8\" fill=\"#ffffff\" fill-rule=\"evenodd\" fill-opacity=\"1\" stroke=\"#000000\" stroke-opacity=\"1\" stroke-width=\"3.2\"/>\n",
       "<circle clip-path=\"url(#clip622)\" cx=\"1910.36\" cy=\"144.738\" r=\"10.8\" fill=\"#ffffff\" fill-rule=\"evenodd\" fill-opacity=\"1\" stroke=\"#000000\" stroke-opacity=\"1\" stroke-width=\"3.2\"/>\n",
       "<circle clip-path=\"url(#clip622)\" cx=\"1064.28\" cy=\"1081.58\" r=\"10.8\" fill=\"#ffffff\" fill-rule=\"evenodd\" fill-opacity=\"1\" stroke=\"#000000\" stroke-opacity=\"1\" stroke-width=\"3.2\"/>\n",
       "<circle clip-path=\"url(#clip622)\" cx=\"1045.9\" cy=\"1315.79\" r=\"10.8\" fill=\"#ffffff\" fill-rule=\"evenodd\" fill-opacity=\"1\" stroke=\"#000000\" stroke-opacity=\"1\" stroke-width=\"3.2\"/>\n",
       "<circle clip-path=\"url(#clip622)\" cx=\"1045.32\" cy=\"1365.97\" r=\"10.8\" fill=\"#ffffff\" fill-rule=\"evenodd\" fill-opacity=\"1\" stroke=\"#000000\" stroke-opacity=\"1\" stroke-width=\"3.2\"/>\n",
       "<polyline clip-path=\"url(#clip622)\" style=\"stroke:#ff0000; stroke-linecap:round; stroke-linejoin:round; stroke-width:16; stroke-opacity:1; fill:none\" points=\"1052.33,1384.24 1052.33,1384.24 1052.33,1384.24 1052.33,1384.24 1052.33,1384.24 1052.33,1384.24 1052.33,1384.24 1052.34,1374.33 1052.96,1315.79 1054.5,1257.24 1056.95,1198.68 1060.3,1140.13 1064.55,1081.58 1069.69,1023.03 1075.79,964.474 1083.12,905.922 1091.68,847.369 1101.47,788.816 1120.56,730.264 1159.21,671.711 1215.15,613.159 1285.58,554.606 1367.78,496.054 1459.33,437.501 1558.29,378.949 1663.1,320.396 1772.54,261.843 1885.7,203.291 2002.22,144.738 \"/>\n",
       "<circle clip-path=\"url(#clip622)\" cx=\"1215.15\" cy=\"613.159\" r=\"10.8\" fill=\"#ffffff\" fill-rule=\"evenodd\" fill-opacity=\"1\" stroke=\"#000000\" stroke-opacity=\"1\" stroke-width=\"3.2\"/>\n",
       "<circle clip-path=\"url(#clip622)\" cx=\"1052.96\" cy=\"1315.79\" r=\"10.8\" fill=\"#ffffff\" fill-rule=\"evenodd\" fill-opacity=\"1\" stroke=\"#000000\" stroke-opacity=\"1\" stroke-width=\"3.2\"/>\n",
       "<circle clip-path=\"url(#clip622)\" cx=\"1120.56\" cy=\"730.264\" r=\"10.8\" fill=\"#ffffff\" fill-rule=\"evenodd\" fill-opacity=\"1\" stroke=\"#000000\" stroke-opacity=\"1\" stroke-width=\"3.2\"/>\n",
       "<circle clip-path=\"url(#clip622)\" cx=\"1159.21\" cy=\"671.711\" r=\"10.8\" fill=\"#ffffff\" fill-rule=\"evenodd\" fill-opacity=\"1\" stroke=\"#000000\" stroke-opacity=\"1\" stroke-width=\"3.2\"/>\n",
       "<circle clip-path=\"url(#clip622)\" cx=\"1052.33\" cy=\"1384.24\" r=\"10.8\" fill=\"#ffffff\" fill-rule=\"evenodd\" fill-opacity=\"1\" stroke=\"#000000\" stroke-opacity=\"1\" stroke-width=\"3.2\"/>\n",
       "<circle clip-path=\"url(#clip622)\" cx=\"1052.33\" cy=\"1384.24\" r=\"10.8\" fill=\"#ffffff\" fill-rule=\"evenodd\" fill-opacity=\"1\" stroke=\"#000000\" stroke-opacity=\"1\" stroke-width=\"3.2\"/>\n",
       "<circle clip-path=\"url(#clip622)\" cx=\"1052.33\" cy=\"1384.24\" r=\"10.8\" fill=\"#ffffff\" fill-rule=\"evenodd\" fill-opacity=\"1\" stroke=\"#000000\" stroke-opacity=\"1\" stroke-width=\"3.2\"/>\n",
       "<circle clip-path=\"url(#clip622)\" cx=\"1285.58\" cy=\"554.606\" r=\"10.8\" fill=\"#ffffff\" fill-rule=\"evenodd\" fill-opacity=\"1\" stroke=\"#000000\" stroke-opacity=\"1\" stroke-width=\"3.2\"/>\n",
       "<circle clip-path=\"url(#clip622)\" cx=\"1885.7\" cy=\"203.291\" r=\"10.8\" fill=\"#ffffff\" fill-rule=\"evenodd\" fill-opacity=\"1\" stroke=\"#000000\" stroke-opacity=\"1\" stroke-width=\"3.2\"/>\n",
       "<circle clip-path=\"url(#clip622)\" cx=\"2002.22\" cy=\"144.738\" r=\"10.8\" fill=\"#ffffff\" fill-rule=\"evenodd\" fill-opacity=\"1\" stroke=\"#000000\" stroke-opacity=\"1\" stroke-width=\"3.2\"/>\n",
       "<circle clip-path=\"url(#clip622)\" cx=\"1101.47\" cy=\"788.816\" r=\"10.8\" fill=\"#ffffff\" fill-rule=\"evenodd\" fill-opacity=\"1\" stroke=\"#000000\" stroke-opacity=\"1\" stroke-width=\"3.2\"/>\n",
       "<circle clip-path=\"url(#clip622)\" cx=\"1052.33\" cy=\"1384.24\" r=\"10.8\" fill=\"#ffffff\" fill-rule=\"evenodd\" fill-opacity=\"1\" stroke=\"#000000\" stroke-opacity=\"1\" stroke-width=\"3.2\"/>\n",
       "<circle clip-path=\"url(#clip622)\" cx=\"1052.33\" cy=\"1384.24\" r=\"10.8\" fill=\"#ffffff\" fill-rule=\"evenodd\" fill-opacity=\"1\" stroke=\"#000000\" stroke-opacity=\"1\" stroke-width=\"3.2\"/>\n",
       "<circle clip-path=\"url(#clip622)\" cx=\"1056.95\" cy=\"1198.68\" r=\"10.8\" fill=\"#ffffff\" fill-rule=\"evenodd\" fill-opacity=\"1\" stroke=\"#000000\" stroke-opacity=\"1\" stroke-width=\"3.2\"/>\n",
       "<circle clip-path=\"url(#clip622)\" cx=\"1052.33\" cy=\"1384.24\" r=\"10.8\" fill=\"#ffffff\" fill-rule=\"evenodd\" fill-opacity=\"1\" stroke=\"#000000\" stroke-opacity=\"1\" stroke-width=\"3.2\"/>\n",
       "<circle clip-path=\"url(#clip622)\" cx=\"1054.5\" cy=\"1257.24\" r=\"10.8\" fill=\"#ffffff\" fill-rule=\"evenodd\" fill-opacity=\"1\" stroke=\"#000000\" stroke-opacity=\"1\" stroke-width=\"3.2\"/>\n",
       "<circle clip-path=\"url(#clip622)\" cx=\"1367.78\" cy=\"496.054\" r=\"10.8\" fill=\"#ffffff\" fill-rule=\"evenodd\" fill-opacity=\"1\" stroke=\"#000000\" stroke-opacity=\"1\" stroke-width=\"3.2\"/>\n",
       "<circle clip-path=\"url(#clip622)\" cx=\"1663.1\" cy=\"320.396\" r=\"10.8\" fill=\"#ffffff\" fill-rule=\"evenodd\" fill-opacity=\"1\" stroke=\"#000000\" stroke-opacity=\"1\" stroke-width=\"3.2\"/>\n",
       "<circle clip-path=\"url(#clip622)\" cx=\"1558.29\" cy=\"378.949\" r=\"10.8\" fill=\"#ffffff\" fill-rule=\"evenodd\" fill-opacity=\"1\" stroke=\"#000000\" stroke-opacity=\"1\" stroke-width=\"3.2\"/>\n",
       "<circle clip-path=\"url(#clip622)\" cx=\"1459.33\" cy=\"437.501\" r=\"10.8\" fill=\"#ffffff\" fill-rule=\"evenodd\" fill-opacity=\"1\" stroke=\"#000000\" stroke-opacity=\"1\" stroke-width=\"3.2\"/>\n",
       "<circle clip-path=\"url(#clip622)\" cx=\"1083.12\" cy=\"905.922\" r=\"10.8\" fill=\"#ffffff\" fill-rule=\"evenodd\" fill-opacity=\"1\" stroke=\"#000000\" stroke-opacity=\"1\" stroke-width=\"3.2\"/>\n",
       "<circle clip-path=\"url(#clip622)\" cx=\"1075.79\" cy=\"964.474\" r=\"10.8\" fill=\"#ffffff\" fill-rule=\"evenodd\" fill-opacity=\"1\" stroke=\"#000000\" stroke-opacity=\"1\" stroke-width=\"3.2\"/>\n",
       "<circle clip-path=\"url(#clip622)\" cx=\"1064.55\" cy=\"1081.58\" r=\"10.8\" fill=\"#ffffff\" fill-rule=\"evenodd\" fill-opacity=\"1\" stroke=\"#000000\" stroke-opacity=\"1\" stroke-width=\"3.2\"/>\n",
       "<circle clip-path=\"url(#clip622)\" cx=\"1091.68\" cy=\"847.369\" r=\"10.8\" fill=\"#ffffff\" fill-rule=\"evenodd\" fill-opacity=\"1\" stroke=\"#000000\" stroke-opacity=\"1\" stroke-width=\"3.2\"/>\n",
       "<circle clip-path=\"url(#clip622)\" cx=\"1069.69\" cy=\"1023.03\" r=\"10.8\" fill=\"#ffffff\" fill-rule=\"evenodd\" fill-opacity=\"1\" stroke=\"#000000\" stroke-opacity=\"1\" stroke-width=\"3.2\"/>\n",
       "<circle clip-path=\"url(#clip622)\" cx=\"1772.54\" cy=\"261.843\" r=\"10.8\" fill=\"#ffffff\" fill-rule=\"evenodd\" fill-opacity=\"1\" stroke=\"#000000\" stroke-opacity=\"1\" stroke-width=\"3.2\"/>\n",
       "<circle clip-path=\"url(#clip622)\" cx=\"1052.33\" cy=\"1384.24\" r=\"10.8\" fill=\"#ffffff\" fill-rule=\"evenodd\" fill-opacity=\"1\" stroke=\"#000000\" stroke-opacity=\"1\" stroke-width=\"3.2\"/>\n",
       "<circle clip-path=\"url(#clip622)\" cx=\"1052.34\" cy=\"1374.33\" r=\"10.8\" fill=\"#ffffff\" fill-rule=\"evenodd\" fill-opacity=\"1\" stroke=\"#000000\" stroke-opacity=\"1\" stroke-width=\"3.2\"/>\n",
       "<circle clip-path=\"url(#clip622)\" cx=\"1060.3\" cy=\"1140.13\" r=\"10.8\" fill=\"#ffffff\" fill-rule=\"evenodd\" fill-opacity=\"1\" stroke=\"#000000\" stroke-opacity=\"1\" stroke-width=\"3.2\"/>\n",
       "<path clip-path=\"url(#clip620)\" d=\"M319.649 248.629 L634.206 248.629 L634.206 93.1086 L319.649 93.1086  Z\" fill=\"#ffffff\" fill-rule=\"evenodd\" fill-opacity=\"1\"/>\n",
       "<polyline clip-path=\"url(#clip620)\" style=\"stroke:#000000; stroke-linecap:round; stroke-linejoin:round; stroke-width:4; stroke-opacity:1; fill:none\" points=\"319.649,248.629 634.206,248.629 634.206,93.1086 319.649,93.1086 319.649,248.629 \"/>\n",
       "<polyline clip-path=\"url(#clip620)\" style=\"stroke:#b0b0b0; stroke-linecap:round; stroke-linejoin:round; stroke-width:16; stroke-opacity:1; fill:none\" points=\"343.018,144.949 483.232,144.949 \"/>\n",
       "<path clip-path=\"url(#clip620)\" d=\"M511.277 131.511 L511.277 158.386 L516.926 158.386 Q524.078 158.386 527.388 155.145 Q530.722 151.905 530.722 144.914 Q530.722 137.969 527.388 134.752 Q524.078 131.511 516.926 131.511 L511.277 131.511 M506.602 127.669 L516.208 127.669 Q526.254 127.669 530.953 131.858 Q535.652 136.025 535.652 144.914 Q535.652 153.849 530.93 158.039 Q526.208 162.229 516.208 162.229 L506.602 162.229 L506.602 127.669 Z\" fill=\"#000000\" fill-rule=\"nonzero\" fill-opacity=\"1\" /><path clip-path=\"url(#clip620)\" d=\"M554.703 149.196 Q549.541 149.196 547.55 150.377 Q545.56 151.557 545.56 154.405 Q545.56 156.673 547.041 158.016 Q548.546 159.335 551.115 159.335 Q554.657 159.335 556.786 156.835 Q558.939 154.312 558.939 150.145 L558.939 149.196 L554.703 149.196 M563.198 147.437 L563.198 162.229 L558.939 162.229 L558.939 158.293 Q557.481 160.655 555.305 161.789 Q553.129 162.9 549.981 162.9 Q545.999 162.9 543.638 160.678 Q541.3 158.432 541.3 154.682 Q541.3 150.307 544.217 148.085 Q547.157 145.863 552.967 145.863 L558.939 145.863 L558.939 145.446 Q558.939 142.507 556.995 140.909 Q555.073 139.289 551.578 139.289 Q549.356 139.289 547.249 139.821 Q545.143 140.354 543.199 141.419 L543.199 137.483 Q545.536 136.581 547.736 136.141 Q549.935 135.678 552.018 135.678 Q557.643 135.678 560.421 138.594 Q563.198 141.511 563.198 147.437 Z\" fill=\"#000000\" fill-rule=\"nonzero\" fill-opacity=\"1\" /><path clip-path=\"url(#clip620)\" d=\"M576.184 128.942 L576.184 136.303 L584.958 136.303 L584.958 139.613 L576.184 139.613 L576.184 153.687 Q576.184 156.858 577.041 157.761 Q577.921 158.664 580.583 158.664 L584.958 158.664 L584.958 162.229 L580.583 162.229 Q575.652 162.229 573.777 160.4 Q571.902 158.548 571.902 153.687 L571.902 139.613 L568.777 139.613 L568.777 136.303 L571.902 136.303 L571.902 128.942 L576.184 128.942 Z\" fill=\"#000000\" fill-rule=\"nonzero\" fill-opacity=\"1\" /><path clip-path=\"url(#clip620)\" d=\"M602.342 149.196 Q597.18 149.196 595.189 150.377 Q593.198 151.557 593.198 154.405 Q593.198 156.673 594.68 158.016 Q596.184 159.335 598.754 159.335 Q602.295 159.335 604.425 156.835 Q606.578 154.312 606.578 150.145 L606.578 149.196 L602.342 149.196 M610.837 147.437 L610.837 162.229 L606.578 162.229 L606.578 158.293 Q605.119 160.655 602.944 161.789 Q600.768 162.9 597.62 162.9 Q593.638 162.9 591.277 160.678 Q588.939 158.432 588.939 154.682 Q588.939 150.307 591.856 148.085 Q594.795 145.863 600.606 145.863 L606.578 145.863 L606.578 145.446 Q606.578 142.507 604.633 140.909 Q602.712 139.289 599.217 139.289 Q596.995 139.289 594.888 139.821 Q592.782 140.354 590.837 141.419 L590.837 137.483 Q593.175 136.581 595.374 136.141 Q597.573 135.678 599.657 135.678 Q605.282 135.678 608.059 138.594 Q610.837 141.511 610.837 147.437 Z\" fill=\"#000000\" fill-rule=\"nonzero\" fill-opacity=\"1\" /><polyline clip-path=\"url(#clip620)\" style=\"stroke:#ff0000; stroke-linecap:round; stroke-linejoin:round; stroke-width:16; stroke-opacity:1; fill:none\" points=\"343.018,196.789 483.232,196.789 \"/>\n",
       "<path clip-path=\"url(#clip620)\" d=\"M528.847 180.643 L528.847 185.203 Q526.185 183.93 523.824 183.305 Q521.463 182.68 519.263 182.68 Q515.444 182.68 513.361 184.161 Q511.301 185.643 511.301 188.374 Q511.301 190.666 512.666 191.847 Q514.055 193.004 517.898 193.722 L520.722 194.3 Q525.953 195.296 528.43 197.819 Q530.93 200.319 530.93 204.532 Q530.93 209.555 527.55 212.147 Q524.194 214.74 517.689 214.74 Q515.236 214.74 512.458 214.184 Q509.703 213.629 506.74 212.541 L506.74 207.726 Q509.588 209.323 512.319 210.133 Q515.051 210.944 517.689 210.944 Q521.694 210.944 523.87 209.37 Q526.046 207.796 526.046 204.879 Q526.046 202.333 524.472 200.897 Q522.921 199.462 519.356 198.745 L516.509 198.189 Q511.277 197.147 508.939 194.925 Q506.602 192.703 506.602 188.745 Q506.602 184.161 509.819 181.522 Q513.06 178.884 518.731 178.884 Q521.162 178.884 523.685 179.323 Q526.208 179.763 528.847 180.643 Z\" fill=\"#000000\" fill-rule=\"nonzero\" fill-opacity=\"1\" /><path clip-path=\"url(#clip620)\" d=\"M538.222 179.509 L542.898 179.509 L542.898 214.069 L538.222 214.069 L538.222 179.509 Z\" fill=\"#000000\" fill-rule=\"nonzero\" fill-opacity=\"1\" /><path clip-path=\"url(#clip620)\" d=\"M552.203 179.509 L559.171 179.509 L567.99 203.027 L576.856 179.509 L583.823 179.509 L583.823 214.069 L579.263 214.069 L579.263 183.722 L570.351 207.425 L565.652 207.425 L556.74 183.722 L556.74 214.069 L552.203 214.069 L552.203 179.509 Z\" fill=\"#000000\" fill-rule=\"nonzero\" fill-opacity=\"1\" /></svg>\n"
      ],
      "text/html": [
       "<?xml version=\"1.0\" encoding=\"utf-8\"?>\n",
       "<svg xmlns=\"http://www.w3.org/2000/svg\" xmlns:xlink=\"http://www.w3.org/1999/xlink\" width=\"600\" height=\"400\" viewBox=\"0 0 2400 1600\">\n",
       "<defs>\n",
       "  <clipPath id=\"clip670\">\n",
       "    <rect x=\"0\" y=\"0\" width=\"2400\" height=\"1600\"/>\n",
       "  </clipPath>\n",
       "</defs>\n",
       "<path clip-path=\"url(#clip670)\" d=\"M0 1600 L2400 1600 L2400 0 L0 0  Z\" fill=\"#ffffff\" fill-rule=\"evenodd\" fill-opacity=\"1\"/>\n",
       "<defs>\n",
       "  <clipPath id=\"clip671\">\n",
       "    <rect x=\"480\" y=\"0\" width=\"1681\" height=\"1600\"/>\n",
       "  </clipPath>\n",
       "</defs>\n",
       "<path clip-path=\"url(#clip670)\" d=\"M249.542 1423.18 L2352.76 1423.18 L2352.76 47.2441 L249.542 47.2441  Z\" fill=\"#ffffff\" fill-rule=\"evenodd\" fill-opacity=\"1\"/>\n",
       "<defs>\n",
       "  <clipPath id=\"clip672\">\n",
       "    <rect x=\"249\" y=\"47\" width=\"2104\" height=\"1377\"/>\n",
       "  </clipPath>\n",
       "</defs>\n",
       "<polyline clip-path=\"url(#clip672)\" style=\"stroke:#000000; stroke-linecap:round; stroke-linejoin:round; stroke-width:2; stroke-opacity:0.1; fill:none\" points=\"249.542,1423.18 249.542,47.2441 \"/>\n",
       "<polyline clip-path=\"url(#clip672)\" style=\"stroke:#000000; stroke-linecap:round; stroke-linejoin:round; stroke-width:2; stroke-opacity:0.1; fill:none\" points=\"632.91,1423.18 632.91,47.2441 \"/>\n",
       "<polyline clip-path=\"url(#clip672)\" style=\"stroke:#000000; stroke-linecap:round; stroke-linejoin:round; stroke-width:2; stroke-opacity:0.1; fill:none\" points=\"1016.28,1423.18 1016.28,47.2441 \"/>\n",
       "<polyline clip-path=\"url(#clip672)\" style=\"stroke:#000000; stroke-linecap:round; stroke-linejoin:round; stroke-width:2; stroke-opacity:0.1; fill:none\" points=\"1399.65,1423.18 1399.65,47.2441 \"/>\n",
       "<polyline clip-path=\"url(#clip672)\" style=\"stroke:#000000; stroke-linecap:round; stroke-linejoin:round; stroke-width:2; stroke-opacity:0.1; fill:none\" points=\"1783.02,1423.18 1783.02,47.2441 \"/>\n",
       "<polyline clip-path=\"url(#clip672)\" style=\"stroke:#000000; stroke-linecap:round; stroke-linejoin:round; stroke-width:2; stroke-opacity:0.1; fill:none\" points=\"2166.38,1423.18 2166.38,47.2441 \"/>\n",
       "<polyline clip-path=\"url(#clip670)\" style=\"stroke:#000000; stroke-linecap:round; stroke-linejoin:round; stroke-width:4; stroke-opacity:1; fill:none\" points=\"249.542,1423.18 2352.76,1423.18 \"/>\n",
       "<polyline clip-path=\"url(#clip670)\" style=\"stroke:#000000; stroke-linecap:round; stroke-linejoin:round; stroke-width:4; stroke-opacity:1; fill:none\" points=\"249.542,1423.18 249.542,1404.28 \"/>\n",
       "<polyline clip-path=\"url(#clip670)\" style=\"stroke:#000000; stroke-linecap:round; stroke-linejoin:round; stroke-width:4; stroke-opacity:1; fill:none\" points=\"632.91,1423.18 632.91,1404.28 \"/>\n",
       "<polyline clip-path=\"url(#clip670)\" style=\"stroke:#000000; stroke-linecap:round; stroke-linejoin:round; stroke-width:4; stroke-opacity:1; fill:none\" points=\"1016.28,1423.18 1016.28,1404.28 \"/>\n",
       "<polyline clip-path=\"url(#clip670)\" style=\"stroke:#000000; stroke-linecap:round; stroke-linejoin:round; stroke-width:4; stroke-opacity:1; fill:none\" points=\"1399.65,1423.18 1399.65,1404.28 \"/>\n",
       "<polyline clip-path=\"url(#clip670)\" style=\"stroke:#000000; stroke-linecap:round; stroke-linejoin:round; stroke-width:4; stroke-opacity:1; fill:none\" points=\"1783.02,1423.18 1783.02,1404.28 \"/>\n",
       "<polyline clip-path=\"url(#clip670)\" style=\"stroke:#000000; stroke-linecap:round; stroke-linejoin:round; stroke-width:4; stroke-opacity:1; fill:none\" points=\"2166.38,1423.18 2166.38,1404.28 \"/>\n",
       "<path clip-path=\"url(#clip670)\" d=\"M226.926 1454.1 Q223.315 1454.1 221.487 1457.66 Q219.681 1461.2 219.681 1468.33 Q219.681 1475.44 221.487 1479.01 Q223.315 1482.55 226.926 1482.55 Q230.561 1482.55 232.366 1479.01 Q234.195 1475.44 234.195 1468.33 Q234.195 1461.2 232.366 1457.66 Q230.561 1454.1 226.926 1454.1 M226.926 1450.39 Q232.737 1450.39 235.792 1455 Q238.871 1459.58 238.871 1468.33 Q238.871 1477.06 235.792 1481.67 Q232.737 1486.25 226.926 1486.25 Q221.116 1486.25 218.038 1481.67 Q214.982 1477.06 214.982 1468.33 Q214.982 1459.58 218.038 1455 Q221.116 1450.39 226.926 1450.39 Z\" fill=\"#000000\" fill-rule=\"nonzero\" fill-opacity=\"1\" /><path clip-path=\"url(#clip670)\" d=\"M247.088 1479.7 L251.973 1479.7 L251.973 1485.58 L247.088 1485.58 L247.088 1479.7 Z\" fill=\"#000000\" fill-rule=\"nonzero\" fill-opacity=\"1\" /><path clip-path=\"url(#clip670)\" d=\"M272.158 1454.1 Q268.547 1454.1 266.718 1457.66 Q264.912 1461.2 264.912 1468.33 Q264.912 1475.44 266.718 1479.01 Q268.547 1482.55 272.158 1482.55 Q275.792 1482.55 277.597 1479.01 Q279.426 1475.44 279.426 1468.33 Q279.426 1461.2 277.597 1457.66 Q275.792 1454.1 272.158 1454.1 M272.158 1450.39 Q277.968 1450.39 281.023 1455 Q284.102 1459.58 284.102 1468.33 Q284.102 1477.06 281.023 1481.67 Q277.968 1486.25 272.158 1486.25 Q266.347 1486.25 263.269 1481.67 Q260.213 1477.06 260.213 1468.33 Q260.213 1459.58 263.269 1455 Q266.347 1450.39 272.158 1450.39 Z\" fill=\"#000000\" fill-rule=\"nonzero\" fill-opacity=\"1\" /><path clip-path=\"url(#clip670)\" d=\"M610.908 1454.1 Q607.297 1454.1 605.468 1457.66 Q603.663 1461.2 603.663 1468.33 Q603.663 1475.44 605.468 1479.01 Q607.297 1482.55 610.908 1482.55 Q614.543 1482.55 616.348 1479.01 Q618.177 1475.44 618.177 1468.33 Q618.177 1461.2 616.348 1457.66 Q614.543 1454.1 610.908 1454.1 M610.908 1450.39 Q616.718 1450.39 619.774 1455 Q622.853 1459.58 622.853 1468.33 Q622.853 1477.06 619.774 1481.67 Q616.718 1486.25 610.908 1486.25 Q605.098 1486.25 602.019 1481.67 Q598.964 1477.06 598.964 1468.33 Q598.964 1459.58 602.019 1455 Q605.098 1450.39 610.908 1450.39 Z\" fill=\"#000000\" fill-rule=\"nonzero\" fill-opacity=\"1\" /><path clip-path=\"url(#clip670)\" d=\"M631.07 1479.7 L635.954 1479.7 L635.954 1485.58 L631.07 1485.58 L631.07 1479.7 Z\" fill=\"#000000\" fill-rule=\"nonzero\" fill-opacity=\"1\" /><path clip-path=\"url(#clip670)\" d=\"M646.95 1481.64 L654.589 1481.64 L654.589 1455.28 L646.278 1456.95 L646.278 1452.69 L654.542 1451.02 L659.218 1451.02 L659.218 1481.64 L666.857 1481.64 L666.857 1485.58 L646.95 1485.58 L646.95 1481.64 Z\" fill=\"#000000\" fill-rule=\"nonzero\" fill-opacity=\"1\" /><path clip-path=\"url(#clip670)\" d=\"M994.462 1454.1 Q990.851 1454.1 989.022 1457.66 Q987.217 1461.2 987.217 1468.33 Q987.217 1475.44 989.022 1479.01 Q990.851 1482.55 994.462 1482.55 Q998.096 1482.55 999.902 1479.01 Q1001.73 1475.44 1001.73 1468.33 Q1001.73 1461.2 999.902 1457.66 Q998.096 1454.1 994.462 1454.1 M994.462 1450.39 Q1000.27 1450.39 1003.33 1455 Q1006.41 1459.58 1006.41 1468.33 Q1006.41 1477.06 1003.33 1481.67 Q1000.27 1486.25 994.462 1486.25 Q988.652 1486.25 985.573 1481.67 Q982.517 1477.06 982.517 1468.33 Q982.517 1459.58 985.573 1455 Q988.652 1450.39 994.462 1450.39 Z\" fill=\"#000000\" fill-rule=\"nonzero\" fill-opacity=\"1\" /><path clip-path=\"url(#clip670)\" d=\"M1014.62 1479.7 L1019.51 1479.7 L1019.51 1485.58 L1014.62 1485.58 L1014.62 1479.7 Z\" fill=\"#000000\" fill-rule=\"nonzero\" fill-opacity=\"1\" /><path clip-path=\"url(#clip670)\" d=\"M1033.72 1481.64 L1050.04 1481.64 L1050.04 1485.58 L1028.1 1485.58 L1028.1 1481.64 Q1030.76 1478.89 1035.34 1474.26 Q1039.95 1469.61 1041.13 1468.27 Q1043.37 1465.74 1044.25 1464.01 Q1045.16 1462.25 1045.16 1460.56 Q1045.16 1457.8 1043.21 1456.07 Q1041.29 1454.33 1038.19 1454.33 Q1035.99 1454.33 1033.54 1455.09 Q1031.11 1455.86 1028.33 1457.41 L1028.33 1452.69 Q1031.15 1451.55 1033.61 1450.97 Q1036.06 1450.39 1038.1 1450.39 Q1043.47 1450.39 1046.66 1453.08 Q1049.86 1455.77 1049.86 1460.26 Q1049.86 1462.39 1049.04 1464.31 Q1048.26 1466.2 1046.15 1468.8 Q1045.57 1469.47 1042.47 1472.69 Q1039.37 1475.88 1033.72 1481.64 Z\" fill=\"#000000\" fill-rule=\"nonzero\" fill-opacity=\"1\" /><path clip-path=\"url(#clip670)\" d=\"M1377.36 1454.1 Q1373.74 1454.1 1371.92 1457.66 Q1370.11 1461.2 1370.11 1468.33 Q1370.11 1475.44 1371.92 1479.01 Q1373.74 1482.55 1377.36 1482.55 Q1380.99 1482.55 1382.8 1479.01 Q1384.62 1475.44 1384.62 1468.33 Q1384.62 1461.2 1382.8 1457.66 Q1380.99 1454.1 1377.36 1454.1 M1377.36 1450.39 Q1383.17 1450.39 1386.22 1455 Q1389.3 1459.58 1389.3 1468.33 Q1389.3 1477.06 1386.22 1481.67 Q1383.17 1486.25 1377.36 1486.25 Q1371.55 1486.25 1368.47 1481.67 Q1365.41 1477.06 1365.41 1468.33 Q1365.41 1459.58 1368.47 1455 Q1371.55 1450.39 1377.36 1450.39 Z\" fill=\"#000000\" fill-rule=\"nonzero\" fill-opacity=\"1\" /><path clip-path=\"url(#clip670)\" d=\"M1397.52 1479.7 L1402.4 1479.7 L1402.4 1485.58 L1397.52 1485.58 L1397.52 1479.7 Z\" fill=\"#000000\" fill-rule=\"nonzero\" fill-opacity=\"1\" /><path clip-path=\"url(#clip670)\" d=\"M1426.75 1466.95 Q1430.11 1467.66 1431.99 1469.93 Q1433.88 1472.2 1433.88 1475.53 Q1433.88 1480.65 1430.36 1483.45 Q1426.85 1486.25 1420.36 1486.25 Q1418.19 1486.25 1415.87 1485.81 Q1413.58 1485.39 1411.13 1484.54 L1411.13 1480.02 Q1413.07 1481.16 1415.39 1481.74 Q1417.7 1482.32 1420.23 1482.32 Q1424.62 1482.32 1426.92 1480.58 Q1429.23 1478.84 1429.23 1475.53 Q1429.23 1472.48 1427.08 1470.77 Q1424.95 1469.03 1421.13 1469.03 L1417.1 1469.03 L1417.1 1465.19 L1421.31 1465.19 Q1424.76 1465.19 1426.59 1463.82 Q1428.42 1462.43 1428.42 1459.84 Q1428.42 1457.18 1426.52 1455.77 Q1424.65 1454.33 1421.13 1454.33 Q1419.21 1454.33 1417.01 1454.75 Q1414.81 1455.16 1412.17 1456.04 L1412.17 1451.88 Q1414.83 1451.14 1417.15 1450.77 Q1419.49 1450.39 1421.55 1450.39 Q1426.87 1450.39 1429.97 1452.83 Q1433.07 1455.23 1433.07 1459.35 Q1433.07 1462.22 1431.43 1464.21 Q1429.79 1466.18 1426.75 1466.95 Z\" fill=\"#000000\" fill-rule=\"nonzero\" fill-opacity=\"1\" /><path clip-path=\"url(#clip670)\" d=\"M1760.16 1454.1 Q1756.55 1454.1 1754.72 1457.66 Q1752.91 1461.2 1752.91 1468.33 Q1752.91 1475.44 1754.72 1479.01 Q1756.55 1482.55 1760.16 1482.55 Q1763.79 1482.55 1765.6 1479.01 Q1767.43 1475.44 1767.43 1468.33 Q1767.43 1461.2 1765.6 1457.66 Q1763.79 1454.1 1760.16 1454.1 M1760.16 1450.39 Q1765.97 1450.39 1769.02 1455 Q1772.1 1459.58 1772.1 1468.33 Q1772.1 1477.06 1769.02 1481.67 Q1765.97 1486.25 1760.16 1486.25 Q1754.35 1486.25 1751.27 1481.67 Q1748.21 1477.06 1748.21 1468.33 Q1748.21 1459.58 1751.27 1455 Q1754.35 1450.39 1760.16 1450.39 Z\" fill=\"#000000\" fill-rule=\"nonzero\" fill-opacity=\"1\" /><path clip-path=\"url(#clip670)\" d=\"M1780.32 1479.7 L1785.2 1479.7 L1785.2 1485.58 L1780.32 1485.58 L1780.32 1479.7 Z\" fill=\"#000000\" fill-rule=\"nonzero\" fill-opacity=\"1\" /><path clip-path=\"url(#clip670)\" d=\"M1808.24 1455.09 L1796.43 1473.54 L1808.24 1473.54 L1808.24 1455.09 M1807.01 1451.02 L1812.89 1451.02 L1812.89 1473.54 L1817.82 1473.54 L1817.82 1477.43 L1812.89 1477.43 L1812.89 1485.58 L1808.24 1485.58 L1808.24 1477.43 L1792.63 1477.43 L1792.63 1472.92 L1807.01 1451.02 Z\" fill=\"#000000\" fill-rule=\"nonzero\" fill-opacity=\"1\" /><path clip-path=\"url(#clip670)\" d=\"M2144.27 1454.1 Q2140.66 1454.1 2138.83 1457.66 Q2137.02 1461.2 2137.02 1468.33 Q2137.02 1475.44 2138.83 1479.01 Q2140.66 1482.55 2144.27 1482.55 Q2147.9 1482.55 2149.71 1479.01 Q2151.53 1475.44 2151.53 1468.33 Q2151.53 1461.2 2149.71 1457.66 Q2147.9 1454.1 2144.27 1454.1 M2144.27 1450.39 Q2150.08 1450.39 2153.13 1455 Q2156.21 1459.58 2156.21 1468.33 Q2156.21 1477.06 2153.13 1481.67 Q2150.08 1486.25 2144.27 1486.25 Q2138.46 1486.25 2135.38 1481.67 Q2132.32 1477.06 2132.32 1468.33 Q2132.32 1459.58 2135.38 1455 Q2138.46 1450.39 2144.27 1450.39 Z\" fill=\"#000000\" fill-rule=\"nonzero\" fill-opacity=\"1\" /><path clip-path=\"url(#clip670)\" d=\"M2164.43 1479.7 L2169.31 1479.7 L2169.31 1485.58 L2164.43 1485.58 L2164.43 1479.7 Z\" fill=\"#000000\" fill-rule=\"nonzero\" fill-opacity=\"1\" /><path clip-path=\"url(#clip670)\" d=\"M2179.54 1451.02 L2197.9 1451.02 L2197.9 1454.96 L2183.83 1454.96 L2183.83 1463.43 Q2184.84 1463.08 2185.86 1462.92 Q2186.88 1462.73 2187.9 1462.73 Q2193.69 1462.73 2197.07 1465.9 Q2200.45 1469.08 2200.45 1474.49 Q2200.45 1480.07 2196.97 1483.17 Q2193.5 1486.25 2187.18 1486.25 Q2185.01 1486.25 2182.74 1485.88 Q2180.49 1485.51 2178.09 1484.77 L2178.09 1480.07 Q2180.17 1481.2 2182.39 1481.76 Q2184.61 1482.32 2187.09 1482.32 Q2191.09 1482.32 2193.43 1480.21 Q2195.77 1478.1 2195.77 1474.49 Q2195.77 1470.88 2193.43 1468.77 Q2191.09 1466.67 2187.09 1466.67 Q2185.22 1466.67 2183.34 1467.08 Q2181.49 1467.5 2179.54 1468.38 L2179.54 1451.02 Z\" fill=\"#000000\" fill-rule=\"nonzero\" fill-opacity=\"1\" /><path clip-path=\"url(#clip670)\" d=\"M1001.94 1525.81 L1001.94 1543.66 L1010.03 1543.66 Q1014.52 1543.66 1016.97 1541.34 Q1019.42 1539.02 1019.42 1534.72 Q1019.42 1530.45 1016.97 1528.13 Q1014.52 1525.81 1010.03 1525.81 L1001.94 1525.81 M995.515 1520.52 L1010.03 1520.52 Q1018.02 1520.52 1022.09 1524.15 Q1026.2 1527.75 1026.2 1534.72 Q1026.2 1541.75 1022.09 1545.35 Q1018.02 1548.95 1010.03 1548.95 L1001.94 1548.95 L1001.94 1568.04 L995.515 1568.04 L995.515 1520.52 Z\" fill=\"#000000\" fill-rule=\"nonzero\" fill-opacity=\"1\" /><path clip-path=\"url(#clip670)\" d=\"M1046.06 1536.5 Q1041.35 1536.5 1038.61 1540.19 Q1035.87 1543.85 1035.87 1550.25 Q1035.87 1556.65 1038.58 1560.34 Q1041.32 1564 1046.06 1564 Q1050.74 1564 1053.48 1560.31 Q1056.21 1556.62 1056.21 1550.25 Q1056.21 1543.92 1053.48 1540.23 Q1050.74 1536.5 1046.06 1536.5 M1046.06 1531.54 Q1053.7 1531.54 1058.06 1536.5 Q1062.42 1541.47 1062.42 1550.25 Q1062.42 1559 1058.06 1564 Q1053.7 1568.97 1046.06 1568.97 Q1038.39 1568.97 1034.03 1564 Q1029.7 1559 1029.7 1550.25 Q1029.7 1541.47 1034.03 1536.5 Q1038.39 1531.54 1046.06 1531.54 Z\" fill=\"#000000\" fill-rule=\"nonzero\" fill-opacity=\"1\" /><path clip-path=\"url(#clip670)\" d=\"M1092.78 1537.87 Q1091.8 1537.3 1090.62 1537.04 Q1089.47 1536.76 1088.07 1536.76 Q1083.11 1536.76 1080.43 1540 Q1077.79 1543.22 1077.79 1549.27 L1077.79 1568.04 L1071.9 1568.04 L1071.9 1532.4 L1077.79 1532.4 L1077.79 1537.93 Q1079.64 1534.69 1082.6 1533.13 Q1085.56 1531.54 1089.79 1531.54 Q1090.4 1531.54 1091.13 1531.63 Q1091.86 1531.7 1092.75 1531.85 L1092.78 1537.87 Z\" fill=\"#000000\" fill-rule=\"nonzero\" fill-opacity=\"1\" /><path clip-path=\"url(#clip670)\" d=\"M1104.72 1522.27 L1104.72 1532.4 L1116.78 1532.4 L1116.78 1536.95 L1104.72 1536.95 L1104.72 1556.3 Q1104.72 1560.66 1105.9 1561.9 Q1107.11 1563.14 1110.77 1563.14 L1116.78 1563.14 L1116.78 1568.04 L1110.77 1568.04 Q1103.99 1568.04 1101.41 1565.53 Q1098.83 1562.98 1098.83 1556.3 L1098.83 1536.95 L1094.53 1536.95 L1094.53 1532.4 L1098.83 1532.4 L1098.83 1522.27 L1104.72 1522.27 Z\" fill=\"#000000\" fill-rule=\"nonzero\" fill-opacity=\"1\" /><path clip-path=\"url(#clip670)\" d=\"M1142.53 1518.52 L1142.53 1523.39 L1136.93 1523.39 Q1133.78 1523.39 1132.54 1524.66 Q1131.33 1525.93 1131.33 1529.24 L1131.33 1532.4 L1140.97 1532.4 L1140.97 1536.95 L1131.33 1536.95 L1131.33 1568.04 L1125.44 1568.04 L1125.44 1536.95 L1119.84 1536.95 L1119.84 1532.4 L1125.44 1532.4 L1125.44 1529.91 Q1125.44 1523.96 1128.21 1521.26 Q1130.98 1518.52 1136.99 1518.52 L1142.53 1518.52 Z\" fill=\"#000000\" fill-rule=\"nonzero\" fill-opacity=\"1\" /><path clip-path=\"url(#clip670)\" d=\"M1161.25 1536.5 Q1156.54 1536.5 1153.8 1540.19 Q1151.06 1543.85 1151.06 1550.25 Q1151.06 1556.65 1153.77 1560.34 Q1156.5 1564 1161.25 1564 Q1165.93 1564 1168.66 1560.31 Q1171.4 1556.62 1171.4 1550.25 Q1171.4 1543.92 1168.66 1540.23 Q1165.93 1536.5 1161.25 1536.5 M1161.25 1531.54 Q1168.89 1531.54 1173.25 1536.5 Q1177.61 1541.47 1177.61 1550.25 Q1177.61 1559 1173.25 1564 Q1168.89 1568.97 1161.25 1568.97 Q1153.58 1568.97 1149.22 1564 Q1144.89 1559 1144.89 1550.25 Q1144.89 1541.47 1149.22 1536.5 Q1153.58 1531.54 1161.25 1531.54 Z\" fill=\"#000000\" fill-rule=\"nonzero\" fill-opacity=\"1\" /><path clip-path=\"url(#clip670)\" d=\"M1187.31 1518.52 L1193.17 1518.52 L1193.17 1568.04 L1187.31 1568.04 L1187.31 1518.52 Z\" fill=\"#000000\" fill-rule=\"nonzero\" fill-opacity=\"1\" /><path clip-path=\"url(#clip670)\" d=\"M1205.42 1532.4 L1211.28 1532.4 L1211.28 1568.04 L1205.42 1568.04 L1205.42 1532.4 M1205.42 1518.52 L1211.28 1518.52 L1211.28 1525.93 L1205.42 1525.93 L1205.42 1518.52 Z\" fill=\"#000000\" fill-rule=\"nonzero\" fill-opacity=\"1\" /><path clip-path=\"url(#clip670)\" d=\"M1237.35 1536.5 Q1232.64 1536.5 1229.9 1540.19 Q1227.16 1543.85 1227.16 1550.25 Q1227.16 1556.65 1229.87 1560.34 Q1232.61 1564 1237.35 1564 Q1242.03 1564 1244.76 1560.31 Q1247.5 1556.62 1247.5 1550.25 Q1247.5 1543.92 1244.76 1540.23 Q1242.03 1536.5 1237.35 1536.5 M1237.35 1531.54 Q1244.99 1531.54 1249.35 1536.5 Q1253.71 1541.47 1253.71 1550.25 Q1253.71 1559 1249.35 1564 Q1244.99 1568.97 1237.35 1568.97 Q1229.68 1568.97 1225.32 1564 Q1220.99 1559 1220.99 1550.25 Q1220.99 1541.47 1225.32 1536.5 Q1229.68 1531.54 1237.35 1531.54 Z\" fill=\"#000000\" fill-rule=\"nonzero\" fill-opacity=\"1\" /><path clip-path=\"url(#clip670)\" d=\"M1306.93 1545.76 Q1308.99 1546.46 1310.94 1548.76 Q1312.91 1551.05 1314.88 1555.06 L1321.41 1568.04 L1314.5 1568.04 L1308.42 1555.85 Q1306.07 1551.08 1303.84 1549.52 Q1301.64 1547.96 1297.82 1547.96 L1290.82 1547.96 L1290.82 1568.04 L1284.39 1568.04 L1284.39 1520.52 L1298.91 1520.52 Q1307.05 1520.52 1311.06 1523.93 Q1315.07 1527.34 1315.07 1534.21 Q1315.07 1538.7 1312.97 1541.66 Q1310.9 1544.62 1306.93 1545.76 M1290.82 1525.81 L1290.82 1542.68 L1298.91 1542.68 Q1303.55 1542.68 1305.91 1540.54 Q1308.29 1538.38 1308.29 1534.21 Q1308.29 1530.04 1305.91 1527.94 Q1303.55 1525.81 1298.91 1525.81 L1290.82 1525.81 Z\" fill=\"#000000\" fill-rule=\"nonzero\" fill-opacity=\"1\" /><path clip-path=\"url(#clip670)\" d=\"M1329.43 1532.4 L1335.29 1532.4 L1335.29 1568.04 L1329.43 1568.04 L1329.43 1532.4 M1329.43 1518.52 L1335.29 1518.52 L1335.29 1525.93 L1329.43 1525.93 L1329.43 1518.52 Z\" fill=\"#000000\" fill-rule=\"nonzero\" fill-opacity=\"1\" /><path clip-path=\"url(#clip670)\" d=\"M1370.26 1533.45 L1370.26 1538.98 Q1367.78 1537.71 1365.11 1537.07 Q1362.43 1536.44 1359.57 1536.44 Q1355.21 1536.44 1353.01 1537.77 Q1350.85 1539.11 1350.85 1541.79 Q1350.85 1543.82 1352.41 1545 Q1353.97 1546.15 1358.68 1547.2 L1360.68 1547.64 Q1366.92 1548.98 1369.53 1551.43 Q1372.17 1553.85 1372.17 1558.21 Q1372.17 1563.17 1368.23 1566.07 Q1364.31 1568.97 1357.44 1568.97 Q1354.57 1568.97 1351.45 1568.39 Q1348.37 1567.85 1344.93 1566.74 L1344.93 1560.69 Q1348.18 1562.38 1351.33 1563.24 Q1354.48 1564.07 1357.57 1564.07 Q1361.7 1564.07 1363.93 1562.66 Q1366.16 1561.23 1366.16 1558.65 Q1366.16 1556.27 1364.54 1554.99 Q1362.94 1553.72 1357.5 1552.54 L1355.46 1552.07 Q1350.02 1550.92 1347.6 1548.56 Q1345.18 1546.18 1345.18 1542.04 Q1345.18 1537.01 1348.75 1534.27 Q1352.31 1531.54 1358.87 1531.54 Q1362.12 1531.54 1364.98 1532.01 Q1367.85 1532.49 1370.26 1533.45 Z\" fill=\"#000000\" fill-rule=\"nonzero\" fill-opacity=\"1\" /><path clip-path=\"url(#clip670)\" d=\"M1381.28 1518.52 L1387.17 1518.52 L1387.17 1547.77 L1404.64 1532.4 L1412.12 1532.4 L1393.21 1549.07 L1412.91 1568.04 L1405.28 1568.04 L1387.17 1550.63 L1387.17 1568.04 L1381.28 1568.04 L1381.28 1518.52 Z\" fill=\"#000000\" fill-rule=\"nonzero\" fill-opacity=\"1\" /><path clip-path=\"url(#clip670)\" d=\"M1454.04 1518.58 Q1449.77 1525.9 1447.7 1533.06 Q1445.63 1540.23 1445.63 1547.58 Q1445.63 1554.93 1447.7 1562.16 Q1449.8 1569.35 1454.04 1576.64 L1448.94 1576.64 Q1444.17 1569.16 1441.78 1561.93 Q1439.43 1554.71 1439.43 1547.58 Q1439.43 1540.48 1441.78 1533.29 Q1444.14 1526.09 1448.94 1518.58 L1454.04 1518.58 Z\" fill=\"#000000\" fill-rule=\"nonzero\" fill-opacity=\"1\" /><path clip-path=\"url(#clip670)\" d=\"M1488.13 1533.45 L1488.13 1538.98 Q1485.64 1537.71 1482.97 1537.07 Q1480.3 1536.44 1477.43 1536.44 Q1473.07 1536.44 1470.87 1537.77 Q1468.71 1539.11 1468.71 1541.79 Q1468.71 1543.82 1470.27 1545 Q1471.83 1546.15 1476.54 1547.2 L1478.55 1547.64 Q1484.78 1548.98 1487.39 1551.43 Q1490.04 1553.85 1490.04 1558.21 Q1490.04 1563.17 1486.09 1566.07 Q1482.17 1568.97 1475.3 1568.97 Q1472.43 1568.97 1469.32 1568.39 Q1466.23 1567.85 1462.79 1566.74 L1462.79 1560.69 Q1466.04 1562.38 1469.19 1563.24 Q1472.34 1564.07 1475.43 1564.07 Q1479.56 1564.07 1481.79 1562.66 Q1484.02 1561.23 1484.02 1558.65 Q1484.02 1556.27 1482.4 1554.99 Q1480.81 1553.72 1475.36 1552.54 L1473.33 1552.07 Q1467.88 1550.92 1465.46 1548.56 Q1463.04 1546.18 1463.04 1542.04 Q1463.04 1537.01 1466.61 1534.27 Q1470.17 1531.54 1476.73 1531.54 Q1479.98 1531.54 1482.84 1532.01 Q1485.71 1532.49 1488.13 1533.45 Z\" fill=\"#000000\" fill-rule=\"nonzero\" fill-opacity=\"1\" /><path clip-path=\"url(#clip670)\" d=\"M1502.86 1550.25 Q1502.86 1556.71 1505.5 1560.4 Q1508.18 1564.07 1512.82 1564.07 Q1517.47 1564.07 1520.15 1560.4 Q1522.82 1556.71 1522.82 1550.25 Q1522.82 1543.79 1520.15 1540.13 Q1517.47 1536.44 1512.82 1536.44 Q1508.18 1536.44 1505.5 1540.13 Q1502.86 1543.79 1502.86 1550.25 M1522.82 1562.7 Q1520.97 1565.88 1518.14 1567.44 Q1515.34 1568.97 1511.39 1568.97 Q1504.93 1568.97 1500.86 1563.81 Q1496.81 1558.65 1496.81 1550.25 Q1496.81 1541.85 1500.86 1536.69 Q1504.93 1531.54 1511.39 1531.54 Q1515.34 1531.54 1518.14 1533.1 Q1520.97 1534.62 1522.82 1537.81 L1522.82 1532.4 L1528.68 1532.4 L1528.68 1581.6 L1522.82 1581.6 L1522.82 1562.7 Z\" fill=\"#000000\" fill-rule=\"nonzero\" fill-opacity=\"1\" /><path clip-path=\"url(#clip670)\" d=\"M1561.39 1537.87 Q1560.41 1537.3 1559.23 1537.04 Q1558.08 1536.76 1556.68 1536.76 Q1551.72 1536.76 1549.05 1540 Q1546.4 1543.22 1546.4 1549.27 L1546.4 1568.04 L1540.52 1568.04 L1540.52 1532.4 L1546.4 1532.4 L1546.4 1537.93 Q1548.25 1534.69 1551.21 1533.13 Q1554.17 1531.54 1558.4 1531.54 Q1559.01 1531.54 1559.74 1531.63 Q1560.47 1531.7 1561.36 1531.85 L1561.39 1537.87 Z\" fill=\"#000000\" fill-rule=\"nonzero\" fill-opacity=\"1\" /><path clip-path=\"url(#clip670)\" d=\"M1573.33 1522.27 L1573.33 1532.4 L1585.39 1532.4 L1585.39 1536.95 L1573.33 1536.95 L1573.33 1556.3 Q1573.33 1560.66 1574.51 1561.9 Q1575.72 1563.14 1579.38 1563.14 L1585.39 1563.14 L1585.39 1568.04 L1579.38 1568.04 Q1572.6 1568.04 1570.02 1565.53 Q1567.44 1562.98 1567.44 1556.3 L1567.44 1536.95 L1563.15 1536.95 L1563.15 1532.4 L1567.44 1532.4 L1567.44 1522.27 L1573.33 1522.27 Z\" fill=\"#000000\" fill-rule=\"nonzero\" fill-opacity=\"1\" /><path clip-path=\"url(#clip670)\" d=\"M1592.17 1518.58 L1597.27 1518.58 Q1602.04 1526.09 1604.4 1533.29 Q1606.78 1540.48 1606.78 1547.58 Q1606.78 1554.71 1604.4 1561.93 Q1602.04 1569.16 1597.27 1576.64 L1592.17 1576.64 Q1596.41 1569.35 1598.48 1562.16 Q1600.58 1554.93 1600.58 1547.58 Q1600.58 1540.23 1598.48 1533.06 Q1596.41 1525.9 1592.17 1518.58 Z\" fill=\"#000000\" fill-rule=\"nonzero\" fill-opacity=\"1\" /><polyline clip-path=\"url(#clip672)\" style=\"stroke:#000000; stroke-linecap:round; stroke-linejoin:round; stroke-width:2; stroke-opacity:0.1; fill:none\" points=\"249.542,1276.75 2352.76,1276.75 \"/>\n",
       "<polyline clip-path=\"url(#clip672)\" style=\"stroke:#000000; stroke-linecap:round; stroke-linejoin:round; stroke-width:2; stroke-opacity:0.1; fill:none\" points=\"249.542,1023.03 2352.76,1023.03 \"/>\n",
       "<polyline clip-path=\"url(#clip672)\" style=\"stroke:#000000; stroke-linecap:round; stroke-linejoin:round; stroke-width:2; stroke-opacity:0.1; fill:none\" points=\"249.542,769.299 2352.76,769.299 \"/>\n",
       "<polyline clip-path=\"url(#clip672)\" style=\"stroke:#000000; stroke-linecap:round; stroke-linejoin:round; stroke-width:2; stroke-opacity:0.1; fill:none\" points=\"249.542,515.571 2352.76,515.571 \"/>\n",
       "<polyline clip-path=\"url(#clip672)\" style=\"stroke:#000000; stroke-linecap:round; stroke-linejoin:round; stroke-width:2; stroke-opacity:0.1; fill:none\" points=\"249.542,261.843 2352.76,261.843 \"/>\n",
       "<polyline clip-path=\"url(#clip670)\" style=\"stroke:#000000; stroke-linecap:round; stroke-linejoin:round; stroke-width:4; stroke-opacity:1; fill:none\" points=\"249.542,1423.18 249.542,47.2441 \"/>\n",
       "<polyline clip-path=\"url(#clip670)\" style=\"stroke:#000000; stroke-linecap:round; stroke-linejoin:round; stroke-width:4; stroke-opacity:1; fill:none\" points=\"249.542,1276.75 268.44,1276.75 \"/>\n",
       "<polyline clip-path=\"url(#clip670)\" style=\"stroke:#000000; stroke-linecap:round; stroke-linejoin:round; stroke-width:4; stroke-opacity:1; fill:none\" points=\"249.542,1023.03 268.44,1023.03 \"/>\n",
       "<polyline clip-path=\"url(#clip670)\" style=\"stroke:#000000; stroke-linecap:round; stroke-linejoin:round; stroke-width:4; stroke-opacity:1; fill:none\" points=\"249.542,769.299 268.44,769.299 \"/>\n",
       "<polyline clip-path=\"url(#clip670)\" style=\"stroke:#000000; stroke-linecap:round; stroke-linejoin:round; stroke-width:4; stroke-opacity:1; fill:none\" points=\"249.542,515.571 268.44,515.571 \"/>\n",
       "<polyline clip-path=\"url(#clip670)\" style=\"stroke:#000000; stroke-linecap:round; stroke-linejoin:round; stroke-width:4; stroke-opacity:1; fill:none\" points=\"249.542,261.843 268.44,261.843 \"/>\n",
       "<path clip-path=\"url(#clip670)\" d=\"M126.205 1262.55 Q122.593 1262.55 120.765 1266.12 Q118.959 1269.66 118.959 1276.79 Q118.959 1283.9 120.765 1287.46 Q122.593 1291 126.205 1291 Q129.839 1291 131.644 1287.46 Q133.473 1283.9 133.473 1276.79 Q133.473 1269.66 131.644 1266.12 Q129.839 1262.55 126.205 1262.55 M126.205 1258.85 Q132.015 1258.85 135.07 1263.46 Q138.149 1268.04 138.149 1276.79 Q138.149 1285.52 135.07 1290.12 Q132.015 1294.71 126.205 1294.71 Q120.394 1294.71 117.316 1290.12 Q114.26 1285.52 114.26 1276.79 Q114.26 1268.04 117.316 1263.46 Q120.394 1258.85 126.205 1258.85 Z\" fill=\"#000000\" fill-rule=\"nonzero\" fill-opacity=\"1\" /><path clip-path=\"url(#clip670)\" d=\"M146.366 1288.15 L151.251 1288.15 L151.251 1294.03 L146.366 1294.03 L146.366 1288.15 Z\" fill=\"#000000\" fill-rule=\"nonzero\" fill-opacity=\"1\" /><path clip-path=\"url(#clip670)\" d=\"M162.246 1290.1 L169.885 1290.1 L169.885 1263.73 L161.575 1265.4 L161.575 1261.14 L169.839 1259.47 L174.514 1259.47 L174.514 1290.1 L182.153 1290.1 L182.153 1294.03 L162.246 1294.03 L162.246 1290.1 Z\" fill=\"#000000\" fill-rule=\"nonzero\" fill-opacity=\"1\" /><path clip-path=\"url(#clip670)\" d=\"M201.598 1262.55 Q197.987 1262.55 196.158 1266.12 Q194.352 1269.66 194.352 1276.79 Q194.352 1283.9 196.158 1287.46 Q197.987 1291 201.598 1291 Q205.232 1291 207.037 1287.46 Q208.866 1283.9 208.866 1276.79 Q208.866 1269.66 207.037 1266.12 Q205.232 1262.55 201.598 1262.55 M201.598 1258.85 Q207.408 1258.85 210.463 1263.46 Q213.542 1268.04 213.542 1276.79 Q213.542 1285.52 210.463 1290.12 Q207.408 1294.71 201.598 1294.71 Q195.787 1294.71 192.709 1290.12 Q189.653 1285.52 189.653 1276.79 Q189.653 1268.04 192.709 1263.46 Q195.787 1258.85 201.598 1258.85 Z\" fill=\"#000000\" fill-rule=\"nonzero\" fill-opacity=\"1\" /><path clip-path=\"url(#clip670)\" d=\"M127.2 1008.83 Q123.589 1008.83 121.76 1012.39 Q119.955 1015.93 119.955 1023.06 Q119.955 1030.17 121.76 1033.73 Q123.589 1037.27 127.2 1037.27 Q130.834 1037.27 132.64 1033.73 Q134.468 1030.17 134.468 1023.06 Q134.468 1015.93 132.64 1012.39 Q130.834 1008.83 127.2 1008.83 M127.2 1005.12 Q133.01 1005.12 136.066 1009.73 Q139.144 1014.31 139.144 1023.06 Q139.144 1031.79 136.066 1036.39 Q133.01 1040.98 127.2 1040.98 Q121.39 1040.98 118.311 1036.39 Q115.256 1031.79 115.256 1023.06 Q115.256 1014.31 118.311 1009.73 Q121.39 1005.12 127.2 1005.12 Z\" fill=\"#000000\" fill-rule=\"nonzero\" fill-opacity=\"1\" /><path clip-path=\"url(#clip670)\" d=\"M147.362 1034.43 L152.246 1034.43 L152.246 1040.31 L147.362 1040.31 L147.362 1034.43 Z\" fill=\"#000000\" fill-rule=\"nonzero\" fill-opacity=\"1\" /><path clip-path=\"url(#clip670)\" d=\"M163.241 1036.37 L170.88 1036.37 L170.88 1010.01 L162.57 1011.67 L162.57 1007.41 L170.834 1005.75 L175.51 1005.75 L175.51 1036.37 L183.149 1036.37 L183.149 1040.31 L163.241 1040.31 L163.241 1036.37 Z\" fill=\"#000000\" fill-rule=\"nonzero\" fill-opacity=\"1\" /><path clip-path=\"url(#clip670)\" d=\"M192.639 1005.75 L210.996 1005.75 L210.996 1009.68 L196.922 1009.68 L196.922 1018.15 Q197.94 1017.81 198.959 1017.64 Q199.977 1017.46 200.996 1017.46 Q206.783 1017.46 210.162 1020.63 Q213.542 1023.8 213.542 1029.22 Q213.542 1034.8 210.07 1037.9 Q206.598 1040.98 200.278 1040.98 Q198.102 1040.98 195.834 1040.61 Q193.588 1040.24 191.181 1039.5 L191.181 1034.8 Q193.264 1035.93 195.487 1036.49 Q197.709 1037.04 200.186 1037.04 Q204.19 1037.04 206.528 1034.94 Q208.866 1032.83 208.866 1029.22 Q208.866 1025.61 206.528 1023.5 Q204.19 1021.39 200.186 1021.39 Q198.311 1021.39 196.436 1021.81 Q194.584 1022.23 192.639 1023.11 L192.639 1005.75 Z\" fill=\"#000000\" fill-rule=\"nonzero\" fill-opacity=\"1\" /><path clip-path=\"url(#clip670)\" d=\"M126.205 755.098 Q122.593 755.098 120.765 758.662 Q118.959 762.204 118.959 769.334 Q118.959 776.44 120.765 780.005 Q122.593 783.547 126.205 783.547 Q129.839 783.547 131.644 780.005 Q133.473 776.44 133.473 769.334 Q133.473 762.204 131.644 758.662 Q129.839 755.098 126.205 755.098 M126.205 751.394 Q132.015 751.394 135.07 756 Q138.149 760.584 138.149 769.334 Q138.149 778.06 135.07 782.667 Q132.015 787.25 126.205 787.25 Q120.394 787.25 117.316 782.667 Q114.26 778.06 114.26 769.334 Q114.26 760.584 117.316 756 Q120.394 751.394 126.205 751.394 Z\" fill=\"#000000\" fill-rule=\"nonzero\" fill-opacity=\"1\" /><path clip-path=\"url(#clip670)\" d=\"M146.366 780.699 L151.251 780.699 L151.251 786.579 L146.366 786.579 L146.366 780.699 Z\" fill=\"#000000\" fill-rule=\"nonzero\" fill-opacity=\"1\" /><path clip-path=\"url(#clip670)\" d=\"M165.464 782.644 L181.783 782.644 L181.783 786.579 L159.839 786.579 L159.839 782.644 Q162.501 779.889 167.084 775.26 Q171.69 770.607 172.871 769.264 Q175.116 766.741 175.996 765.005 Q176.899 763.246 176.899 761.556 Q176.899 758.801 174.954 757.065 Q173.033 755.329 169.931 755.329 Q167.732 755.329 165.278 756.093 Q162.848 756.857 160.07 758.408 L160.07 753.686 Q162.894 752.551 165.348 751.973 Q167.802 751.394 169.839 751.394 Q175.209 751.394 178.403 754.079 Q181.598 756.764 181.598 761.255 Q181.598 763.385 180.788 765.306 Q180.001 767.204 177.894 769.797 Q177.315 770.468 174.214 773.685 Q171.112 776.88 165.464 782.644 Z\" fill=\"#000000\" fill-rule=\"nonzero\" fill-opacity=\"1\" /><path clip-path=\"url(#clip670)\" d=\"M201.598 755.098 Q197.987 755.098 196.158 758.662 Q194.352 762.204 194.352 769.334 Q194.352 776.44 196.158 780.005 Q197.987 783.547 201.598 783.547 Q205.232 783.547 207.037 780.005 Q208.866 776.44 208.866 769.334 Q208.866 762.204 207.037 758.662 Q205.232 755.098 201.598 755.098 M201.598 751.394 Q207.408 751.394 210.463 756 Q213.542 760.584 213.542 769.334 Q213.542 778.06 210.463 782.667 Q207.408 787.25 201.598 787.25 Q195.787 787.25 192.709 782.667 Q189.653 778.06 189.653 769.334 Q189.653 760.584 192.709 756 Q195.787 751.394 201.598 751.394 Z\" fill=\"#000000\" fill-rule=\"nonzero\" fill-opacity=\"1\" /><path clip-path=\"url(#clip670)\" d=\"M127.2 501.37 Q123.589 501.37 121.76 504.935 Q119.955 508.476 119.955 515.606 Q119.955 522.712 121.76 526.277 Q123.589 529.819 127.2 529.819 Q130.834 529.819 132.64 526.277 Q134.468 522.712 134.468 515.606 Q134.468 508.476 132.64 504.935 Q130.834 501.37 127.2 501.37 M127.2 497.666 Q133.01 497.666 136.066 502.273 Q139.144 506.856 139.144 515.606 Q139.144 524.333 136.066 528.939 Q133.01 533.522 127.2 533.522 Q121.39 533.522 118.311 528.939 Q115.256 524.333 115.256 515.606 Q115.256 506.856 118.311 502.273 Q121.39 497.666 127.2 497.666 Z\" fill=\"#000000\" fill-rule=\"nonzero\" fill-opacity=\"1\" /><path clip-path=\"url(#clip670)\" d=\"M147.362 526.972 L152.246 526.972 L152.246 532.851 L147.362 532.851 L147.362 526.972 Z\" fill=\"#000000\" fill-rule=\"nonzero\" fill-opacity=\"1\" /><path clip-path=\"url(#clip670)\" d=\"M166.459 528.916 L182.778 528.916 L182.778 532.851 L160.834 532.851 L160.834 528.916 Q163.496 526.161 168.079 521.532 Q172.686 516.879 173.866 515.536 Q176.112 513.013 176.991 511.277 Q177.894 509.518 177.894 507.828 Q177.894 505.073 175.95 503.337 Q174.028 501.601 170.927 501.601 Q168.727 501.601 166.274 502.365 Q163.843 503.129 161.065 504.68 L161.065 499.958 Q163.89 498.824 166.343 498.245 Q168.797 497.666 170.834 497.666 Q176.204 497.666 179.399 500.351 Q182.593 503.036 182.593 507.527 Q182.593 509.657 181.783 511.578 Q180.996 513.476 178.889 516.069 Q178.311 516.74 175.209 519.958 Q172.107 523.152 166.459 528.916 Z\" fill=\"#000000\" fill-rule=\"nonzero\" fill-opacity=\"1\" /><path clip-path=\"url(#clip670)\" d=\"M192.639 498.291 L210.996 498.291 L210.996 502.226 L196.922 502.226 L196.922 510.698 Q197.94 510.351 198.959 510.189 Q199.977 510.004 200.996 510.004 Q206.783 510.004 210.162 513.175 Q213.542 516.347 213.542 521.763 Q213.542 527.342 210.07 530.444 Q206.598 533.522 200.278 533.522 Q198.102 533.522 195.834 533.152 Q193.588 532.782 191.181 532.041 L191.181 527.342 Q193.264 528.476 195.487 529.032 Q197.709 529.587 200.186 529.587 Q204.19 529.587 206.528 527.481 Q208.866 525.374 208.866 521.763 Q208.866 518.152 206.528 516.046 Q204.19 513.939 200.186 513.939 Q198.311 513.939 196.436 514.356 Q194.584 514.773 192.639 515.652 L192.639 498.291 Z\" fill=\"#000000\" fill-rule=\"nonzero\" fill-opacity=\"1\" /><path clip-path=\"url(#clip670)\" d=\"M126.205 247.642 Q122.593 247.642 120.765 251.207 Q118.959 254.748 118.959 261.878 Q118.959 268.984 120.765 272.549 Q122.593 276.091 126.205 276.091 Q129.839 276.091 131.644 272.549 Q133.473 268.984 133.473 261.878 Q133.473 254.748 131.644 251.207 Q129.839 247.642 126.205 247.642 M126.205 243.938 Q132.015 243.938 135.07 248.545 Q138.149 253.128 138.149 261.878 Q138.149 270.605 135.07 275.211 Q132.015 279.795 126.205 279.795 Q120.394 279.795 117.316 275.211 Q114.26 270.605 114.26 261.878 Q114.26 253.128 117.316 248.545 Q120.394 243.938 126.205 243.938 Z\" fill=\"#000000\" fill-rule=\"nonzero\" fill-opacity=\"1\" /><path clip-path=\"url(#clip670)\" d=\"M146.366 273.244 L151.251 273.244 L151.251 279.123 L146.366 279.123 L146.366 273.244 Z\" fill=\"#000000\" fill-rule=\"nonzero\" fill-opacity=\"1\" /><path clip-path=\"url(#clip670)\" d=\"M175.602 260.489 Q178.959 261.207 180.834 263.475 Q182.732 265.744 182.732 269.077 Q182.732 274.193 179.214 276.994 Q175.695 279.795 169.214 279.795 Q167.038 279.795 164.723 279.355 Q162.431 278.938 159.978 278.082 L159.978 273.568 Q161.922 274.702 164.237 275.281 Q166.552 275.859 169.075 275.859 Q173.473 275.859 175.764 274.123 Q178.079 272.387 178.079 269.077 Q178.079 266.022 175.926 264.309 Q173.797 262.572 169.977 262.572 L165.95 262.572 L165.95 258.73 L170.163 258.73 Q173.612 258.73 175.44 257.364 Q177.269 255.975 177.269 253.383 Q177.269 250.721 175.371 249.309 Q173.496 247.873 169.977 247.873 Q168.056 247.873 165.857 248.29 Q163.658 248.707 161.019 249.586 L161.019 245.42 Q163.681 244.679 165.996 244.309 Q168.334 243.938 170.394 243.938 Q175.718 243.938 178.82 246.369 Q181.922 248.776 181.922 252.897 Q181.922 255.767 180.278 257.758 Q178.635 259.725 175.602 260.489 Z\" fill=\"#000000\" fill-rule=\"nonzero\" fill-opacity=\"1\" /><path clip-path=\"url(#clip670)\" d=\"M201.598 247.642 Q197.987 247.642 196.158 251.207 Q194.352 254.748 194.352 261.878 Q194.352 268.984 196.158 272.549 Q197.987 276.091 201.598 276.091 Q205.232 276.091 207.037 272.549 Q208.866 268.984 208.866 261.878 Q208.866 254.748 207.037 251.207 Q205.232 247.642 201.598 247.642 M201.598 243.938 Q207.408 243.938 210.463 248.545 Q213.542 253.128 213.542 261.878 Q213.542 270.605 210.463 275.211 Q207.408 279.795 201.598 279.795 Q195.787 279.795 192.709 275.211 Q189.653 270.605 189.653 261.878 Q189.653 253.128 192.709 248.545 Q195.787 243.938 201.598 243.938 Z\" fill=\"#000000\" fill-rule=\"nonzero\" fill-opacity=\"1\" /><path clip-path=\"url(#clip670)\" d=\"M21.7677 1184.09 L39.6235 1184.09 L39.6235 1176.01 Q39.6235 1171.52 37.3 1169.07 Q34.9765 1166.62 30.6797 1166.62 Q26.4147 1166.62 24.0912 1169.07 Q21.7677 1171.52 21.7677 1176.01 L21.7677 1184.09 M16.4842 1190.52 L16.4842 1176.01 Q16.4842 1168.02 20.1126 1163.94 Q23.7092 1159.84 30.6797 1159.84 Q37.7138 1159.84 41.3104 1163.94 Q44.907 1168.02 44.907 1176.01 L44.907 1184.09 L64.0042 1184.09 L64.0042 1190.52 L16.4842 1190.52 Z\" fill=\"#000000\" fill-rule=\"nonzero\" fill-opacity=\"1\" /><path clip-path=\"url(#clip670)\" d=\"M32.4621 1139.98 Q32.4621 1144.69 36.1542 1147.42 Q39.8145 1150.16 46.212 1150.16 Q52.6095 1150.16 56.3017 1147.46 Q59.9619 1144.72 59.9619 1139.98 Q59.9619 1135.3 56.2698 1132.56 Q52.5777 1129.82 46.212 1129.82 Q39.8781 1129.82 36.186 1132.56 Q32.4621 1135.3 32.4621 1139.98 M27.4968 1139.98 Q27.4968 1132.34 32.4621 1127.98 Q37.4273 1123.62 46.212 1123.62 Q54.9649 1123.62 59.9619 1127.98 Q64.9272 1132.34 64.9272 1139.98 Q64.9272 1147.65 59.9619 1152.01 Q54.9649 1156.34 46.212 1156.34 Q37.4273 1156.34 32.4621 1152.01 Q27.4968 1147.65 27.4968 1139.98 Z\" fill=\"#000000\" fill-rule=\"nonzero\" fill-opacity=\"1\" /><path clip-path=\"url(#clip670)\" d=\"M33.8307 1093.25 Q33.2578 1094.24 33.0032 1095.42 Q32.7167 1096.56 32.7167 1097.96 Q32.7167 1102.93 35.9632 1105.6 Q39.1779 1108.24 45.2253 1108.24 L64.0042 1108.24 L64.0042 1114.13 L28.3562 1114.13 L28.3562 1108.24 L33.8944 1108.24 Q30.6479 1106.4 29.0883 1103.44 Q27.4968 1100.48 27.4968 1096.24 Q27.4968 1095.64 27.5923 1094.91 Q27.656 1094.17 27.8151 1093.28 L33.8307 1093.25 Z\" fill=\"#000000\" fill-rule=\"nonzero\" fill-opacity=\"1\" /><path clip-path=\"url(#clip670)\" d=\"M18.2347 1081.32 L28.3562 1081.32 L28.3562 1069.25 L32.9077 1069.25 L32.9077 1081.32 L52.2594 1081.32 Q56.6199 1081.32 57.8613 1080.14 Q59.1026 1078.93 59.1026 1075.27 L59.1026 1069.25 L64.0042 1069.25 L64.0042 1075.27 Q64.0042 1082.05 61.4897 1084.63 Q58.9434 1087.2 52.2594 1087.2 L32.9077 1087.2 L32.9077 1091.5 L28.3562 1091.5 L28.3562 1087.2 L18.2347 1087.2 L18.2347 1081.32 Z\" fill=\"#000000\" fill-rule=\"nonzero\" fill-opacity=\"1\" /><path clip-path=\"url(#clip670)\" d=\"M14.479 1043.5 L19.3487 1043.5 L19.3487 1049.1 Q19.3487 1052.26 20.6219 1053.5 Q21.895 1054.71 25.2052 1054.71 L28.3562 1054.71 L28.3562 1045.06 L32.9077 1045.06 L32.9077 1054.71 L64.0042 1054.71 L64.0042 1060.6 L32.9077 1060.6 L32.9077 1066.2 L28.3562 1066.2 L28.3562 1060.6 L25.8736 1060.6 Q19.9216 1060.6 17.2162 1057.83 Q14.479 1055.06 14.479 1049.04 L14.479 1043.5 Z\" fill=\"#000000\" fill-rule=\"nonzero\" fill-opacity=\"1\" /><path clip-path=\"url(#clip670)\" d=\"M32.4621 1024.79 Q32.4621 1029.5 36.1542 1032.24 Q39.8145 1034.97 46.212 1034.97 Q52.6095 1034.97 56.3017 1032.27 Q59.9619 1029.53 59.9619 1024.79 Q59.9619 1020.11 56.2698 1017.37 Q52.5777 1014.63 46.212 1014.63 Q39.8781 1014.63 36.186 1017.37 Q32.4621 1020.11 32.4621 1024.79 M27.4968 1024.79 Q27.4968 1017.15 32.4621 1012.79 Q37.4273 1008.43 46.212 1008.43 Q54.9649 1008.43 59.9619 1012.79 Q64.9272 1017.15 64.9272 1024.79 Q64.9272 1032.46 59.9619 1036.82 Q54.9649 1041.15 46.212 1041.15 Q37.4273 1041.15 32.4621 1036.82 Q27.4968 1032.46 27.4968 1024.79 Z\" fill=\"#000000\" fill-rule=\"nonzero\" fill-opacity=\"1\" /><path clip-path=\"url(#clip670)\" d=\"M14.479 998.72 L14.479 992.864 L64.0042 992.864 L64.0042 998.72 L14.479 998.72 Z\" fill=\"#000000\" fill-rule=\"nonzero\" fill-opacity=\"1\" /><path clip-path=\"url(#clip670)\" d=\"M28.3562 980.61 L28.3562 974.754 L64.0042 974.754 L64.0042 980.61 L28.3562 980.61 M14.479 980.61 L14.479 974.754 L21.895 974.754 L21.895 980.61 L14.479 980.61 Z\" fill=\"#000000\" fill-rule=\"nonzero\" fill-opacity=\"1\" /><path clip-path=\"url(#clip670)\" d=\"M32.4621 948.686 Q32.4621 953.397 36.1542 956.134 Q39.8145 958.871 46.212 958.871 Q52.6095 958.871 56.3017 956.166 Q59.9619 953.428 59.9619 948.686 Q59.9619 944.007 56.2698 941.27 Q52.5777 938.533 46.212 938.533 Q39.8781 938.533 36.186 941.27 Q32.4621 944.007 32.4621 948.686 M27.4968 948.686 Q27.4968 941.047 32.4621 936.687 Q37.4273 932.326 46.212 932.326 Q54.9649 932.326 59.9619 936.687 Q64.9272 941.047 64.9272 948.686 Q64.9272 956.357 59.9619 960.717 Q54.9649 965.046 46.212 965.046 Q37.4273 965.046 32.4621 960.717 Q27.4968 956.357 27.4968 948.686 Z\" fill=\"#000000\" fill-rule=\"nonzero\" fill-opacity=\"1\" /><path clip-path=\"url(#clip670)\" d=\"M41.7242 879.109 Q42.4244 877.04 44.7161 875.098 Q47.0077 873.125 51.0181 871.152 L64.0042 864.627 L64.0042 871.534 L51.8138 877.613 Q47.0395 879.968 45.48 882.196 Q43.9204 884.392 43.9204 888.212 L43.9204 895.214 L64.0042 895.214 L64.0042 901.643 L16.4842 901.643 L16.4842 887.13 Q16.4842 878.981 19.8898 874.971 Q23.2955 870.961 30.1704 870.961 Q34.6582 870.961 37.6183 873.061 Q40.5784 875.13 41.7242 879.109 M21.7677 895.214 L38.6368 895.214 L38.6368 887.13 Q38.6368 882.483 36.5043 880.127 Q34.34 877.74 30.1704 877.74 Q26.0009 877.74 23.9002 880.127 Q21.7677 882.483 21.7677 887.13 L21.7677 895.214 Z\" fill=\"#000000\" fill-rule=\"nonzero\" fill-opacity=\"1\" /><path clip-path=\"url(#clip670)\" d=\"M44.7161 829.042 L47.5806 829.042 L47.5806 855.969 Q53.6281 855.587 56.8109 852.341 Q59.9619 849.063 59.9619 843.238 Q59.9619 839.864 59.1344 836.713 Q58.3069 833.53 56.6518 830.411 L62.1899 830.411 Q63.5267 833.562 64.227 836.872 Q64.9272 840.182 64.9272 843.588 Q64.9272 852.118 59.9619 857.115 Q54.9967 862.081 46.5303 862.081 Q37.7774 862.081 32.6531 857.37 Q27.4968 852.627 27.4968 844.607 Q27.4968 837.413 32.1438 833.244 Q36.7589 829.042 44.7161 829.042 M42.9973 834.899 Q38.1912 834.963 35.3266 837.604 Q32.4621 840.214 32.4621 844.543 Q32.4621 849.445 35.2312 852.405 Q38.0002 855.333 43.0292 855.778 L42.9973 834.899 Z\" fill=\"#000000\" fill-rule=\"nonzero\" fill-opacity=\"1\" /><path clip-path=\"url(#clip670)\" d=\"M28.3562 822.836 L28.3562 816.979 L56.1743 809.659 L28.3562 802.37 L28.3562 795.463 L56.1743 788.143 L28.3562 780.854 L28.3562 774.998 L64.0042 784.323 L64.0042 791.23 L34.7856 798.901 L64.0042 806.603 L64.0042 813.51 L28.3562 822.836 Z\" fill=\"#000000\" fill-rule=\"nonzero\" fill-opacity=\"1\" /><path clip-path=\"url(#clip670)\" d=\"M46.0847 749.917 Q46.0847 757.015 47.7079 759.752 Q49.3312 762.489 53.2461 762.489 Q56.3653 762.489 58.2114 760.452 Q60.0256 758.383 60.0256 754.85 Q60.0256 749.98 56.5881 747.052 Q53.1188 744.092 47.3897 744.092 L46.0847 744.092 L46.0847 749.917 M43.6657 738.236 L64.0042 738.236 L64.0042 744.092 L58.5933 744.092 Q61.8398 746.097 63.3994 749.089 Q64.9272 752.081 64.9272 756.41 Q64.9272 761.884 61.8716 765.131 Q58.7843 768.345 53.6281 768.345 Q47.6125 768.345 44.5569 764.335 Q41.5014 760.293 41.5014 752.304 L41.5014 744.092 L40.9285 744.092 Q36.8862 744.092 34.6901 746.766 Q32.4621 749.407 32.4621 754.214 Q32.4621 757.269 33.1941 760.166 Q33.9262 763.062 35.3903 765.736 L29.9795 765.736 Q28.7381 762.521 28.1334 759.497 Q27.4968 756.473 27.4968 753.609 Q27.4968 745.875 31.5072 742.055 Q35.5176 738.236 43.6657 738.236 Z\" fill=\"#000000\" fill-rule=\"nonzero\" fill-opacity=\"1\" /><path clip-path=\"url(#clip670)\" d=\"M33.8307 705.516 Q33.2578 706.503 33.0032 707.68 Q32.7167 708.826 32.7167 710.227 Q32.7167 715.192 35.9632 717.865 Q39.1779 720.507 45.2253 720.507 L64.0042 720.507 L64.0042 726.395 L28.3562 726.395 L28.3562 720.507 L33.8944 720.507 Q30.6479 718.661 29.0883 715.701 Q27.4968 712.741 27.4968 708.508 Q27.4968 707.903 27.5923 707.171 Q27.656 706.439 27.8151 705.548 L33.8307 705.516 Z\" fill=\"#000000\" fill-rule=\"nonzero\" fill-opacity=\"1\" /><path clip-path=\"url(#clip670)\" d=\"M33.7671 677.061 L14.479 677.061 L14.479 671.205 L64.0042 671.205 L64.0042 677.061 L58.657 677.061 Q61.8398 678.907 63.3994 681.74 Q64.9272 684.541 64.9272 688.488 Q64.9272 694.949 59.771 699.023 Q54.6147 703.065 46.212 703.065 Q37.8093 703.065 32.6531 699.023 Q27.4968 694.949 27.4968 688.488 Q27.4968 684.541 29.0564 681.74 Q30.5842 678.907 33.7671 677.061 M46.212 697.018 Q52.6732 697.018 56.3653 694.376 Q60.0256 691.702 60.0256 687.055 Q60.0256 682.408 56.3653 679.735 Q52.6732 677.061 46.212 677.061 Q39.7508 677.061 36.0905 679.735 Q32.3984 682.408 32.3984 687.055 Q32.3984 691.702 36.0905 694.376 Q39.7508 697.018 46.212 697.018 Z\" fill=\"#000000\" fill-rule=\"nonzero\" fill-opacity=\"1\" /><path clip-path=\"url(#clip670)\" d=\"M14.5426 624.353 Q21.8632 628.618 29.0246 630.687 Q36.186 632.756 43.5384 632.756 Q50.8908 632.756 58.1159 630.687 Q65.3091 628.586 72.5979 624.353 L72.5979 629.446 Q65.1182 634.22 57.8931 636.607 Q50.668 638.962 43.5384 638.962 Q36.4406 638.962 29.2474 636.607 Q22.0542 634.252 14.5426 629.446 L14.5426 624.353 Z\" fill=\"#000000\" fill-rule=\"nonzero\" fill-opacity=\"1\" /><path clip-path=\"url(#clip670)\" d=\"M14.479 612.99 L14.479 607.134 L64.0042 607.134 L64.0042 612.99 L14.479 612.99 Z\" fill=\"#000000\" fill-rule=\"nonzero\" fill-opacity=\"1\" /><path clip-path=\"url(#clip670)\" d=\"M32.4621 581.066 Q32.4621 585.777 36.1542 588.514 Q39.8145 591.252 46.212 591.252 Q52.6095 591.252 56.3017 588.546 Q59.9619 585.809 59.9619 581.066 Q59.9619 576.388 56.2698 573.65 Q52.5777 570.913 46.212 570.913 Q39.8781 570.913 36.186 573.65 Q32.4621 576.388 32.4621 581.066 M27.4968 581.066 Q27.4968 573.428 32.4621 569.067 Q37.4273 564.707 46.212 564.707 Q54.9649 564.707 59.9619 569.067 Q64.9272 573.428 64.9272 581.066 Q64.9272 588.737 59.9619 593.098 Q54.9649 597.426 46.212 597.426 Q37.4273 597.426 32.4621 593.098 Q27.4968 588.737 27.4968 581.066 Z\" fill=\"#000000\" fill-rule=\"nonzero\" fill-opacity=\"1\" /><path clip-path=\"url(#clip670)\" d=\"M45.7664 531.541 Q39.4007 531.541 35.8996 534.183 Q32.3984 536.793 32.3984 541.535 Q32.3984 546.246 35.8996 548.888 Q39.4007 551.498 45.7664 551.498 Q52.1003 551.498 55.6014 548.888 Q59.1026 546.246 59.1026 541.535 Q59.1026 536.793 55.6014 534.183 Q52.1003 531.541 45.7664 531.541 M59.58 525.685 Q68.683 525.685 73.1071 529.727 Q77.5631 533.769 77.5631 542.108 Q77.5631 545.196 77.0857 547.933 Q76.6401 550.67 75.6852 553.248 L69.9879 553.248 Q71.3884 550.67 72.0568 548.156 Q72.7252 545.641 72.7252 543.031 Q72.7252 537.27 69.7015 534.406 Q66.7096 531.541 60.6303 531.541 L57.7339 531.541 Q60.885 533.355 62.4446 536.188 Q64.0042 539.021 64.0042 542.968 Q64.0042 549.524 59.0071 553.535 Q54.01 557.545 45.7664 557.545 Q37.491 557.545 32.4939 553.535 Q27.4968 549.524 27.4968 542.968 Q27.4968 539.021 29.0564 536.188 Q30.616 533.355 33.7671 531.541 L28.3562 531.541 L28.3562 525.685 L59.58 525.685 Z\" fill=\"#000000\" fill-rule=\"nonzero\" fill-opacity=\"1\" /><path clip-path=\"url(#clip670)\" d=\"M33.8307 472.245 Q33.2578 473.231 33.0032 474.409 Q32.7167 475.555 32.7167 476.955 Q32.7167 481.921 35.9632 484.594 Q39.1779 487.236 45.2253 487.236 L64.0042 487.236 L64.0042 493.124 L28.3562 493.124 L28.3562 487.236 L33.8944 487.236 Q30.6479 485.39 29.0883 482.43 Q27.4968 479.47 27.4968 475.237 Q27.4968 474.632 27.5923 473.9 Q27.656 473.168 27.8151 472.276 L33.8307 472.245 Z\" fill=\"#000000\" fill-rule=\"nonzero\" fill-opacity=\"1\" /><path clip-path=\"url(#clip670)\" d=\"M44.7161 437.042 L47.5806 437.042 L47.5806 463.969 Q53.6281 463.587 56.8109 460.341 Q59.9619 457.062 59.9619 451.238 Q59.9619 447.864 59.1344 444.713 Q58.3069 441.53 56.6518 438.411 L62.1899 438.411 Q63.5267 441.562 64.227 444.872 Q64.9272 448.182 64.9272 451.588 Q64.9272 460.118 59.9619 465.115 Q54.9967 470.08 46.5303 470.08 Q37.7774 470.08 32.6531 465.37 Q27.4968 460.627 27.4968 452.606 Q27.4968 445.413 32.1438 441.244 Q36.7589 437.042 44.7161 437.042 M42.9973 442.899 Q38.1912 442.962 35.3266 445.604 Q32.4621 448.214 32.4621 452.543 Q32.4621 457.444 35.2312 460.404 Q38.0002 463.333 43.0292 463.778 L42.9973 442.899 Z\" fill=\"#000000\" fill-rule=\"nonzero\" fill-opacity=\"1\" /><path clip-path=\"url(#clip670)\" d=\"M18.2347 421.637 L28.3562 421.637 L28.3562 409.574 L32.9077 409.574 L32.9077 421.637 L52.2594 421.637 Q56.6199 421.637 57.8613 420.46 Q59.1026 419.25 59.1026 415.59 L59.1026 409.574 L64.0042 409.574 L64.0042 415.59 Q64.0042 422.369 61.4897 424.947 Q58.9434 427.526 52.2594 427.526 L32.9077 427.526 L32.9077 431.822 L28.3562 431.822 L28.3562 427.526 L18.2347 427.526 L18.2347 421.637 Z\" fill=\"#000000\" fill-rule=\"nonzero\" fill-opacity=\"1\" /><path clip-path=\"url(#clip670)\" d=\"M49.9359 402.476 L28.3562 402.476 L28.3562 396.62 L49.7131 396.62 Q54.7739 396.62 57.3202 394.647 Q59.8346 392.673 59.8346 388.727 Q59.8346 383.984 56.8109 381.247 Q53.7872 378.478 48.5673 378.478 L28.3562 378.478 L28.3562 372.621 L64.0042 372.621 L64.0042 378.478 L58.5296 378.478 Q61.7762 380.61 63.3676 383.443 Q64.9272 386.244 64.9272 389.968 Q64.9272 396.111 61.1078 399.294 Q57.2883 402.476 49.9359 402.476 M27.4968 387.74 L27.4968 387.74 Z\" fill=\"#000000\" fill-rule=\"nonzero\" fill-opacity=\"1\" /><path clip-path=\"url(#clip670)\" d=\"M33.8307 339.902 Q33.2578 340.888 33.0032 342.066 Q32.7167 343.212 32.7167 344.612 Q32.7167 349.577 35.9632 352.251 Q39.1779 354.893 45.2253 354.893 L64.0042 354.893 L64.0042 360.781 L28.3562 360.781 L28.3562 354.893 L33.8944 354.893 Q30.6479 353.047 29.0883 350.087 Q27.4968 347.127 27.4968 342.893 Q27.4968 342.289 27.5923 341.557 Q27.656 340.825 27.8151 339.933 L33.8307 339.902 Z\" fill=\"#000000\" fill-rule=\"nonzero\" fill-opacity=\"1\" /><path clip-path=\"url(#clip670)\" d=\"M42.4881 305.272 L64.0042 305.272 L64.0042 311.129 L42.679 311.129 Q37.6183 311.129 35.1038 313.102 Q32.5894 315.075 32.5894 319.022 Q32.5894 323.765 35.6131 326.502 Q38.6368 329.239 43.8567 329.239 L64.0042 329.239 L64.0042 335.127 L28.3562 335.127 L28.3562 329.239 L33.8944 329.239 Q30.6797 327.138 29.0883 324.306 Q27.4968 321.441 27.4968 317.717 Q27.4968 311.574 31.3163 308.423 Q35.1038 305.272 42.4881 305.272 Z\" fill=\"#000000\" fill-rule=\"nonzero\" fill-opacity=\"1\" /><path clip-path=\"url(#clip670)\" d=\"M14.5426 294.514 L14.5426 289.422 Q22.0542 284.647 29.2474 282.292 Q36.4406 279.905 43.5384 279.905 Q50.668 279.905 57.8931 282.292 Q65.1182 284.647 72.5979 289.422 L72.5979 294.514 Q65.3091 290.281 58.1159 288.212 Q50.8908 286.111 43.5384 286.111 Q36.186 286.111 29.0246 288.212 Q21.8632 290.281 14.5426 294.514 Z\" fill=\"#000000\" fill-rule=\"nonzero\" fill-opacity=\"1\" /><polyline clip-path=\"url(#clip672)\" style=\"stroke:#b0b0b0; stroke-linecap:round; stroke-linejoin:round; stroke-width:16; stroke-opacity:1; fill:none\" points=\"1045.32,1365.97 1045.32,1365.97 1045.32,1365.97 1045.32,1365.97 1045.32,1365.97 1045.32,1365.97 1045.32,1365.97 1045.32,1365.97 1045.9,1315.79 1048.09,1257.24 1051.9,1198.68 1057.3,1140.13 1064.28,1081.58 1072.96,1023.03 1083.99,964.474 1097.68,905.922 1114.09,847.369 1133.06,788.816 1157.39,730.264 1195.13,671.711 1245.29,613.159 1306.1,554.606 1375.83,496.054 1452.94,437.501 1536.1,378.949 1624.2,320.396 1716.37,261.843 1811.88,203.291 1910.36,144.738 2011.45,86.1857 \"/>\n",
       "<circle clip-path=\"url(#clip672)\" cx=\"1097.68\" cy=\"905.922\" r=\"10.8\" fill=\"#ffffff\" fill-rule=\"evenodd\" fill-opacity=\"1\" stroke=\"#000000\" stroke-opacity=\"1\" stroke-width=\"3.2\"/>\n",
       "<circle clip-path=\"url(#clip672)\" cx=\"1133.06\" cy=\"788.816\" r=\"10.8\" fill=\"#ffffff\" fill-rule=\"evenodd\" fill-opacity=\"1\" stroke=\"#000000\" stroke-opacity=\"1\" stroke-width=\"3.2\"/>\n",
       "<circle clip-path=\"url(#clip672)\" cx=\"1045.32\" cy=\"1365.97\" r=\"10.8\" fill=\"#ffffff\" fill-rule=\"evenodd\" fill-opacity=\"1\" stroke=\"#000000\" stroke-opacity=\"1\" stroke-width=\"3.2\"/>\n",
       "<circle clip-path=\"url(#clip672)\" cx=\"1114.09\" cy=\"847.369\" r=\"10.8\" fill=\"#ffffff\" fill-rule=\"evenodd\" fill-opacity=\"1\" stroke=\"#000000\" stroke-opacity=\"1\" stroke-width=\"3.2\"/>\n",
       "<circle clip-path=\"url(#clip672)\" cx=\"1045.32\" cy=\"1365.97\" r=\"10.8\" fill=\"#ffffff\" fill-rule=\"evenodd\" fill-opacity=\"1\" stroke=\"#000000\" stroke-opacity=\"1\" stroke-width=\"3.2\"/>\n",
       "<circle clip-path=\"url(#clip672)\" cx=\"1536.1\" cy=\"378.949\" r=\"10.8\" fill=\"#ffffff\" fill-rule=\"evenodd\" fill-opacity=\"1\" stroke=\"#000000\" stroke-opacity=\"1\" stroke-width=\"3.2\"/>\n",
       "<circle clip-path=\"url(#clip672)\" cx=\"1048.09\" cy=\"1257.24\" r=\"10.8\" fill=\"#ffffff\" fill-rule=\"evenodd\" fill-opacity=\"1\" stroke=\"#000000\" stroke-opacity=\"1\" stroke-width=\"3.2\"/>\n",
       "<circle clip-path=\"url(#clip672)\" cx=\"1811.88\" cy=\"203.291\" r=\"10.8\" fill=\"#ffffff\" fill-rule=\"evenodd\" fill-opacity=\"1\" stroke=\"#000000\" stroke-opacity=\"1\" stroke-width=\"3.2\"/>\n",
       "<circle clip-path=\"url(#clip672)\" cx=\"1045.32\" cy=\"1365.97\" r=\"10.8\" fill=\"#ffffff\" fill-rule=\"evenodd\" fill-opacity=\"1\" stroke=\"#000000\" stroke-opacity=\"1\" stroke-width=\"3.2\"/>\n",
       "<circle clip-path=\"url(#clip672)\" cx=\"1083.99\" cy=\"964.474\" r=\"10.8\" fill=\"#ffffff\" fill-rule=\"evenodd\" fill-opacity=\"1\" stroke=\"#000000\" stroke-opacity=\"1\" stroke-width=\"3.2\"/>\n",
       "<circle clip-path=\"url(#clip672)\" cx=\"2011.45\" cy=\"86.1857\" r=\"10.8\" fill=\"#ffffff\" fill-rule=\"evenodd\" fill-opacity=\"1\" stroke=\"#000000\" stroke-opacity=\"1\" stroke-width=\"3.2\"/>\n",
       "<circle clip-path=\"url(#clip672)\" cx=\"1045.32\" cy=\"1365.97\" r=\"10.8\" fill=\"#ffffff\" fill-rule=\"evenodd\" fill-opacity=\"1\" stroke=\"#000000\" stroke-opacity=\"1\" stroke-width=\"3.2\"/>\n",
       "<circle clip-path=\"url(#clip672)\" cx=\"1245.29\" cy=\"613.159\" r=\"10.8\" fill=\"#ffffff\" fill-rule=\"evenodd\" fill-opacity=\"1\" stroke=\"#000000\" stroke-opacity=\"1\" stroke-width=\"3.2\"/>\n",
       "<circle clip-path=\"url(#clip672)\" cx=\"1057.3\" cy=\"1140.13\" r=\"10.8\" fill=\"#ffffff\" fill-rule=\"evenodd\" fill-opacity=\"1\" stroke=\"#000000\" stroke-opacity=\"1\" stroke-width=\"3.2\"/>\n",
       "<circle clip-path=\"url(#clip672)\" cx=\"1624.2\" cy=\"320.396\" r=\"10.8\" fill=\"#ffffff\" fill-rule=\"evenodd\" fill-opacity=\"1\" stroke=\"#000000\" stroke-opacity=\"1\" stroke-width=\"3.2\"/>\n",
       "<circle clip-path=\"url(#clip672)\" cx=\"1045.32\" cy=\"1365.97\" r=\"10.8\" fill=\"#ffffff\" fill-rule=\"evenodd\" fill-opacity=\"1\" stroke=\"#000000\" stroke-opacity=\"1\" stroke-width=\"3.2\"/>\n",
       "<circle clip-path=\"url(#clip672)\" cx=\"1157.39\" cy=\"730.264\" r=\"10.8\" fill=\"#ffffff\" fill-rule=\"evenodd\" fill-opacity=\"1\" stroke=\"#000000\" stroke-opacity=\"1\" stroke-width=\"3.2\"/>\n",
       "<circle clip-path=\"url(#clip672)\" cx=\"1045.32\" cy=\"1365.97\" r=\"10.8\" fill=\"#ffffff\" fill-rule=\"evenodd\" fill-opacity=\"1\" stroke=\"#000000\" stroke-opacity=\"1\" stroke-width=\"3.2\"/>\n",
       "<circle clip-path=\"url(#clip672)\" cx=\"1195.13\" cy=\"671.711\" r=\"10.8\" fill=\"#ffffff\" fill-rule=\"evenodd\" fill-opacity=\"1\" stroke=\"#000000\" stroke-opacity=\"1\" stroke-width=\"3.2\"/>\n",
       "<circle clip-path=\"url(#clip672)\" cx=\"1375.83\" cy=\"496.054\" r=\"10.8\" fill=\"#ffffff\" fill-rule=\"evenodd\" fill-opacity=\"1\" stroke=\"#000000\" stroke-opacity=\"1\" stroke-width=\"3.2\"/>\n",
       "<circle clip-path=\"url(#clip672)\" cx=\"1051.9\" cy=\"1198.68\" r=\"10.8\" fill=\"#ffffff\" fill-rule=\"evenodd\" fill-opacity=\"1\" stroke=\"#000000\" stroke-opacity=\"1\" stroke-width=\"3.2\"/>\n",
       "<circle clip-path=\"url(#clip672)\" cx=\"1452.94\" cy=\"437.501\" r=\"10.8\" fill=\"#ffffff\" fill-rule=\"evenodd\" fill-opacity=\"1\" stroke=\"#000000\" stroke-opacity=\"1\" stroke-width=\"3.2\"/>\n",
       "<circle clip-path=\"url(#clip672)\" cx=\"1716.37\" cy=\"261.843\" r=\"10.8\" fill=\"#ffffff\" fill-rule=\"evenodd\" fill-opacity=\"1\" stroke=\"#000000\" stroke-opacity=\"1\" stroke-width=\"3.2\"/>\n",
       "<circle clip-path=\"url(#clip672)\" cx=\"1045.32\" cy=\"1365.97\" r=\"10.8\" fill=\"#ffffff\" fill-rule=\"evenodd\" fill-opacity=\"1\" stroke=\"#000000\" stroke-opacity=\"1\" stroke-width=\"3.2\"/>\n",
       "<circle clip-path=\"url(#clip672)\" cx=\"1306.1\" cy=\"554.606\" r=\"10.8\" fill=\"#ffffff\" fill-rule=\"evenodd\" fill-opacity=\"1\" stroke=\"#000000\" stroke-opacity=\"1\" stroke-width=\"3.2\"/>\n",
       "<circle clip-path=\"url(#clip672)\" cx=\"1072.96\" cy=\"1023.03\" r=\"10.8\" fill=\"#ffffff\" fill-rule=\"evenodd\" fill-opacity=\"1\" stroke=\"#000000\" stroke-opacity=\"1\" stroke-width=\"3.2\"/>\n",
       "<circle clip-path=\"url(#clip672)\" cx=\"1910.36\" cy=\"144.738\" r=\"10.8\" fill=\"#ffffff\" fill-rule=\"evenodd\" fill-opacity=\"1\" stroke=\"#000000\" stroke-opacity=\"1\" stroke-width=\"3.2\"/>\n",
       "<circle clip-path=\"url(#clip672)\" cx=\"1064.28\" cy=\"1081.58\" r=\"10.8\" fill=\"#ffffff\" fill-rule=\"evenodd\" fill-opacity=\"1\" stroke=\"#000000\" stroke-opacity=\"1\" stroke-width=\"3.2\"/>\n",
       "<circle clip-path=\"url(#clip672)\" cx=\"1045.9\" cy=\"1315.79\" r=\"10.8\" fill=\"#ffffff\" fill-rule=\"evenodd\" fill-opacity=\"1\" stroke=\"#000000\" stroke-opacity=\"1\" stroke-width=\"3.2\"/>\n",
       "<circle clip-path=\"url(#clip672)\" cx=\"1045.32\" cy=\"1365.97\" r=\"10.8\" fill=\"#ffffff\" fill-rule=\"evenodd\" fill-opacity=\"1\" stroke=\"#000000\" stroke-opacity=\"1\" stroke-width=\"3.2\"/>\n",
       "<polyline clip-path=\"url(#clip672)\" style=\"stroke:#ff0000; stroke-linecap:round; stroke-linejoin:round; stroke-width:16; stroke-opacity:1; fill:none\" points=\"1052.33,1384.24 1052.33,1384.24 1052.33,1384.24 1052.33,1384.24 1052.33,1384.24 1052.33,1384.24 1052.33,1384.24 1052.34,1374.33 1052.96,1315.79 1054.5,1257.24 1056.95,1198.68 1060.3,1140.13 1064.55,1081.58 1069.69,1023.03 1075.79,964.474 1083.12,905.922 1091.68,847.369 1101.47,788.816 1120.56,730.264 1159.21,671.711 1215.15,613.159 1285.58,554.606 1367.78,496.054 1459.33,437.501 1558.29,378.949 1663.1,320.396 1772.54,261.843 1885.7,203.291 2002.22,144.738 \"/>\n",
       "<circle clip-path=\"url(#clip672)\" cx=\"1215.15\" cy=\"613.159\" r=\"10.8\" fill=\"#ffffff\" fill-rule=\"evenodd\" fill-opacity=\"1\" stroke=\"#000000\" stroke-opacity=\"1\" stroke-width=\"3.2\"/>\n",
       "<circle clip-path=\"url(#clip672)\" cx=\"1052.96\" cy=\"1315.79\" r=\"10.8\" fill=\"#ffffff\" fill-rule=\"evenodd\" fill-opacity=\"1\" stroke=\"#000000\" stroke-opacity=\"1\" stroke-width=\"3.2\"/>\n",
       "<circle clip-path=\"url(#clip672)\" cx=\"1120.56\" cy=\"730.264\" r=\"10.8\" fill=\"#ffffff\" fill-rule=\"evenodd\" fill-opacity=\"1\" stroke=\"#000000\" stroke-opacity=\"1\" stroke-width=\"3.2\"/>\n",
       "<circle clip-path=\"url(#clip672)\" cx=\"1159.21\" cy=\"671.711\" r=\"10.8\" fill=\"#ffffff\" fill-rule=\"evenodd\" fill-opacity=\"1\" stroke=\"#000000\" stroke-opacity=\"1\" stroke-width=\"3.2\"/>\n",
       "<circle clip-path=\"url(#clip672)\" cx=\"1052.33\" cy=\"1384.24\" r=\"10.8\" fill=\"#ffffff\" fill-rule=\"evenodd\" fill-opacity=\"1\" stroke=\"#000000\" stroke-opacity=\"1\" stroke-width=\"3.2\"/>\n",
       "<circle clip-path=\"url(#clip672)\" cx=\"1052.33\" cy=\"1384.24\" r=\"10.8\" fill=\"#ffffff\" fill-rule=\"evenodd\" fill-opacity=\"1\" stroke=\"#000000\" stroke-opacity=\"1\" stroke-width=\"3.2\"/>\n",
       "<circle clip-path=\"url(#clip672)\" cx=\"1052.33\" cy=\"1384.24\" r=\"10.8\" fill=\"#ffffff\" fill-rule=\"evenodd\" fill-opacity=\"1\" stroke=\"#000000\" stroke-opacity=\"1\" stroke-width=\"3.2\"/>\n",
       "<circle clip-path=\"url(#clip672)\" cx=\"1285.58\" cy=\"554.606\" r=\"10.8\" fill=\"#ffffff\" fill-rule=\"evenodd\" fill-opacity=\"1\" stroke=\"#000000\" stroke-opacity=\"1\" stroke-width=\"3.2\"/>\n",
       "<circle clip-path=\"url(#clip672)\" cx=\"1885.7\" cy=\"203.291\" r=\"10.8\" fill=\"#ffffff\" fill-rule=\"evenodd\" fill-opacity=\"1\" stroke=\"#000000\" stroke-opacity=\"1\" stroke-width=\"3.2\"/>\n",
       "<circle clip-path=\"url(#clip672)\" cx=\"2002.22\" cy=\"144.738\" r=\"10.8\" fill=\"#ffffff\" fill-rule=\"evenodd\" fill-opacity=\"1\" stroke=\"#000000\" stroke-opacity=\"1\" stroke-width=\"3.2\"/>\n",
       "<circle clip-path=\"url(#clip672)\" cx=\"1101.47\" cy=\"788.816\" r=\"10.8\" fill=\"#ffffff\" fill-rule=\"evenodd\" fill-opacity=\"1\" stroke=\"#000000\" stroke-opacity=\"1\" stroke-width=\"3.2\"/>\n",
       "<circle clip-path=\"url(#clip672)\" cx=\"1052.33\" cy=\"1384.24\" r=\"10.8\" fill=\"#ffffff\" fill-rule=\"evenodd\" fill-opacity=\"1\" stroke=\"#000000\" stroke-opacity=\"1\" stroke-width=\"3.2\"/>\n",
       "<circle clip-path=\"url(#clip672)\" cx=\"1052.33\" cy=\"1384.24\" r=\"10.8\" fill=\"#ffffff\" fill-rule=\"evenodd\" fill-opacity=\"1\" stroke=\"#000000\" stroke-opacity=\"1\" stroke-width=\"3.2\"/>\n",
       "<circle clip-path=\"url(#clip672)\" cx=\"1056.95\" cy=\"1198.68\" r=\"10.8\" fill=\"#ffffff\" fill-rule=\"evenodd\" fill-opacity=\"1\" stroke=\"#000000\" stroke-opacity=\"1\" stroke-width=\"3.2\"/>\n",
       "<circle clip-path=\"url(#clip672)\" cx=\"1052.33\" cy=\"1384.24\" r=\"10.8\" fill=\"#ffffff\" fill-rule=\"evenodd\" fill-opacity=\"1\" stroke=\"#000000\" stroke-opacity=\"1\" stroke-width=\"3.2\"/>\n",
       "<circle clip-path=\"url(#clip672)\" cx=\"1054.5\" cy=\"1257.24\" r=\"10.8\" fill=\"#ffffff\" fill-rule=\"evenodd\" fill-opacity=\"1\" stroke=\"#000000\" stroke-opacity=\"1\" stroke-width=\"3.2\"/>\n",
       "<circle clip-path=\"url(#clip672)\" cx=\"1367.78\" cy=\"496.054\" r=\"10.8\" fill=\"#ffffff\" fill-rule=\"evenodd\" fill-opacity=\"1\" stroke=\"#000000\" stroke-opacity=\"1\" stroke-width=\"3.2\"/>\n",
       "<circle clip-path=\"url(#clip672)\" cx=\"1663.1\" cy=\"320.396\" r=\"10.8\" fill=\"#ffffff\" fill-rule=\"evenodd\" fill-opacity=\"1\" stroke=\"#000000\" stroke-opacity=\"1\" stroke-width=\"3.2\"/>\n",
       "<circle clip-path=\"url(#clip672)\" cx=\"1558.29\" cy=\"378.949\" r=\"10.8\" fill=\"#ffffff\" fill-rule=\"evenodd\" fill-opacity=\"1\" stroke=\"#000000\" stroke-opacity=\"1\" stroke-width=\"3.2\"/>\n",
       "<circle clip-path=\"url(#clip672)\" cx=\"1459.33\" cy=\"437.501\" r=\"10.8\" fill=\"#ffffff\" fill-rule=\"evenodd\" fill-opacity=\"1\" stroke=\"#000000\" stroke-opacity=\"1\" stroke-width=\"3.2\"/>\n",
       "<circle clip-path=\"url(#clip672)\" cx=\"1083.12\" cy=\"905.922\" r=\"10.8\" fill=\"#ffffff\" fill-rule=\"evenodd\" fill-opacity=\"1\" stroke=\"#000000\" stroke-opacity=\"1\" stroke-width=\"3.2\"/>\n",
       "<circle clip-path=\"url(#clip672)\" cx=\"1075.79\" cy=\"964.474\" r=\"10.8\" fill=\"#ffffff\" fill-rule=\"evenodd\" fill-opacity=\"1\" stroke=\"#000000\" stroke-opacity=\"1\" stroke-width=\"3.2\"/>\n",
       "<circle clip-path=\"url(#clip672)\" cx=\"1064.55\" cy=\"1081.58\" r=\"10.8\" fill=\"#ffffff\" fill-rule=\"evenodd\" fill-opacity=\"1\" stroke=\"#000000\" stroke-opacity=\"1\" stroke-width=\"3.2\"/>\n",
       "<circle clip-path=\"url(#clip672)\" cx=\"1091.68\" cy=\"847.369\" r=\"10.8\" fill=\"#ffffff\" fill-rule=\"evenodd\" fill-opacity=\"1\" stroke=\"#000000\" stroke-opacity=\"1\" stroke-width=\"3.2\"/>\n",
       "<circle clip-path=\"url(#clip672)\" cx=\"1069.69\" cy=\"1023.03\" r=\"10.8\" fill=\"#ffffff\" fill-rule=\"evenodd\" fill-opacity=\"1\" stroke=\"#000000\" stroke-opacity=\"1\" stroke-width=\"3.2\"/>\n",
       "<circle clip-path=\"url(#clip672)\" cx=\"1772.54\" cy=\"261.843\" r=\"10.8\" fill=\"#ffffff\" fill-rule=\"evenodd\" fill-opacity=\"1\" stroke=\"#000000\" stroke-opacity=\"1\" stroke-width=\"3.2\"/>\n",
       "<circle clip-path=\"url(#clip672)\" cx=\"1052.33\" cy=\"1384.24\" r=\"10.8\" fill=\"#ffffff\" fill-rule=\"evenodd\" fill-opacity=\"1\" stroke=\"#000000\" stroke-opacity=\"1\" stroke-width=\"3.2\"/>\n",
       "<circle clip-path=\"url(#clip672)\" cx=\"1052.34\" cy=\"1374.33\" r=\"10.8\" fill=\"#ffffff\" fill-rule=\"evenodd\" fill-opacity=\"1\" stroke=\"#000000\" stroke-opacity=\"1\" stroke-width=\"3.2\"/>\n",
       "<circle clip-path=\"url(#clip672)\" cx=\"1060.3\" cy=\"1140.13\" r=\"10.8\" fill=\"#ffffff\" fill-rule=\"evenodd\" fill-opacity=\"1\" stroke=\"#000000\" stroke-opacity=\"1\" stroke-width=\"3.2\"/>\n",
       "<path clip-path=\"url(#clip670)\" d=\"M319.649 248.629 L634.206 248.629 L634.206 93.1086 L319.649 93.1086  Z\" fill=\"#ffffff\" fill-rule=\"evenodd\" fill-opacity=\"1\"/>\n",
       "<polyline clip-path=\"url(#clip670)\" style=\"stroke:#000000; stroke-linecap:round; stroke-linejoin:round; stroke-width:4; stroke-opacity:1; fill:none\" points=\"319.649,248.629 634.206,248.629 634.206,93.1086 319.649,93.1086 319.649,248.629 \"/>\n",
       "<polyline clip-path=\"url(#clip670)\" style=\"stroke:#b0b0b0; stroke-linecap:round; stroke-linejoin:round; stroke-width:16; stroke-opacity:1; fill:none\" points=\"343.018,144.949 483.232,144.949 \"/>\n",
       "<path clip-path=\"url(#clip670)\" d=\"M511.277 131.511 L511.277 158.386 L516.926 158.386 Q524.078 158.386 527.388 155.145 Q530.722 151.905 530.722 144.914 Q530.722 137.969 527.388 134.752 Q524.078 131.511 516.926 131.511 L511.277 131.511 M506.602 127.669 L516.208 127.669 Q526.254 127.669 530.953 131.858 Q535.652 136.025 535.652 144.914 Q535.652 153.849 530.93 158.039 Q526.208 162.229 516.208 162.229 L506.602 162.229 L506.602 127.669 Z\" fill=\"#000000\" fill-rule=\"nonzero\" fill-opacity=\"1\" /><path clip-path=\"url(#clip670)\" d=\"M554.703 149.196 Q549.541 149.196 547.55 150.377 Q545.56 151.557 545.56 154.405 Q545.56 156.673 547.041 158.016 Q548.546 159.335 551.115 159.335 Q554.657 159.335 556.786 156.835 Q558.939 154.312 558.939 150.145 L558.939 149.196 L554.703 149.196 M563.198 147.437 L563.198 162.229 L558.939 162.229 L558.939 158.293 Q557.481 160.655 555.305 161.789 Q553.129 162.9 549.981 162.9 Q545.999 162.9 543.638 160.678 Q541.3 158.432 541.3 154.682 Q541.3 150.307 544.217 148.085 Q547.157 145.863 552.967 145.863 L558.939 145.863 L558.939 145.446 Q558.939 142.507 556.995 140.909 Q555.073 139.289 551.578 139.289 Q549.356 139.289 547.249 139.821 Q545.143 140.354 543.199 141.419 L543.199 137.483 Q545.536 136.581 547.736 136.141 Q549.935 135.678 552.018 135.678 Q557.643 135.678 560.421 138.594 Q563.198 141.511 563.198 147.437 Z\" fill=\"#000000\" fill-rule=\"nonzero\" fill-opacity=\"1\" /><path clip-path=\"url(#clip670)\" d=\"M576.184 128.942 L576.184 136.303 L584.958 136.303 L584.958 139.613 L576.184 139.613 L576.184 153.687 Q576.184 156.858 577.041 157.761 Q577.921 158.664 580.583 158.664 L584.958 158.664 L584.958 162.229 L580.583 162.229 Q575.652 162.229 573.777 160.4 Q571.902 158.548 571.902 153.687 L571.902 139.613 L568.777 139.613 L568.777 136.303 L571.902 136.303 L571.902 128.942 L576.184 128.942 Z\" fill=\"#000000\" fill-rule=\"nonzero\" fill-opacity=\"1\" /><path clip-path=\"url(#clip670)\" d=\"M602.342 149.196 Q597.18 149.196 595.189 150.377 Q593.198 151.557 593.198 154.405 Q593.198 156.673 594.68 158.016 Q596.184 159.335 598.754 159.335 Q602.295 159.335 604.425 156.835 Q606.578 154.312 606.578 150.145 L606.578 149.196 L602.342 149.196 M610.837 147.437 L610.837 162.229 L606.578 162.229 L606.578 158.293 Q605.119 160.655 602.944 161.789 Q600.768 162.9 597.62 162.9 Q593.638 162.9 591.277 160.678 Q588.939 158.432 588.939 154.682 Q588.939 150.307 591.856 148.085 Q594.795 145.863 600.606 145.863 L606.578 145.863 L606.578 145.446 Q606.578 142.507 604.633 140.909 Q602.712 139.289 599.217 139.289 Q596.995 139.289 594.888 139.821 Q592.782 140.354 590.837 141.419 L590.837 137.483 Q593.175 136.581 595.374 136.141 Q597.573 135.678 599.657 135.678 Q605.282 135.678 608.059 138.594 Q610.837 141.511 610.837 147.437 Z\" fill=\"#000000\" fill-rule=\"nonzero\" fill-opacity=\"1\" /><polyline clip-path=\"url(#clip670)\" style=\"stroke:#ff0000; stroke-linecap:round; stroke-linejoin:round; stroke-width:16; stroke-opacity:1; fill:none\" points=\"343.018,196.789 483.232,196.789 \"/>\n",
       "<path clip-path=\"url(#clip670)\" d=\"M528.847 180.643 L528.847 185.203 Q526.185 183.93 523.824 183.305 Q521.463 182.68 519.263 182.68 Q515.444 182.68 513.361 184.161 Q511.301 185.643 511.301 188.374 Q511.301 190.666 512.666 191.847 Q514.055 193.004 517.898 193.722 L520.722 194.3 Q525.953 195.296 528.43 197.819 Q530.93 200.319 530.93 204.532 Q530.93 209.555 527.55 212.147 Q524.194 214.74 517.689 214.74 Q515.236 214.74 512.458 214.184 Q509.703 213.629 506.74 212.541 L506.74 207.726 Q509.588 209.323 512.319 210.133 Q515.051 210.944 517.689 210.944 Q521.694 210.944 523.87 209.37 Q526.046 207.796 526.046 204.879 Q526.046 202.333 524.472 200.897 Q522.921 199.462 519.356 198.745 L516.509 198.189 Q511.277 197.147 508.939 194.925 Q506.602 192.703 506.602 188.745 Q506.602 184.161 509.819 181.522 Q513.06 178.884 518.731 178.884 Q521.162 178.884 523.685 179.323 Q526.208 179.763 528.847 180.643 Z\" fill=\"#000000\" fill-rule=\"nonzero\" fill-opacity=\"1\" /><path clip-path=\"url(#clip670)\" d=\"M538.222 179.509 L542.898 179.509 L542.898 214.069 L538.222 214.069 L538.222 179.509 Z\" fill=\"#000000\" fill-rule=\"nonzero\" fill-opacity=\"1\" /><path clip-path=\"url(#clip670)\" d=\"M552.203 179.509 L559.171 179.509 L567.99 203.027 L576.856 179.509 L583.823 179.509 L583.823 214.069 L579.263 214.069 L579.263 183.722 L570.351 207.425 L565.652 207.425 L556.74 183.722 L556.74 214.069 L552.203 214.069 L552.203 179.509 Z\" fill=\"#000000\" fill-rule=\"nonzero\" fill-opacity=\"1\" /></svg>\n"
      ]
     },
     "execution_count": 26,
     "metadata": {},
     "output_type": "execute_result"
    }
   ],
   "source": [
    "# regular -\n",
    "plot(efficient_frontier, lw=4, xlabel=\"Portfolio Risk (sqrt)\", \n",
    "    ylabel=\"Portfolio Reward (log return)\", fontsize=18, c=:gray69, \n",
    "    xlim=(0.0, 1.2*maximum(efficient_frontier).first), label=\"Data\")\n",
    "scatter!(efficient_frontier, label=\"\", c=:white, mec=:black, ms=3)\n",
    "\n",
    "# single index model -\n",
    "plot!(efficient_frontier_sim, lw=4, xlabel=\"Portfolio Risk (sqrt)\", \n",
    "    ylabel=\"Portfolio Reward (log return)\", fontsize=18, label=\"SIM\", c=:red, \n",
    "    xlim=(0.0, 1.2*maximum(efficient_frontier_sim).first))\n",
    "scatter!(efficient_frontier_sim, label=\"\", c=:white, mec=:red, ms=3)"
   ]
  },
  {
   "cell_type": "markdown",
   "id": "f5783b18-2f56-4641-9464-82658cc68a38",
   "metadata": {},
   "source": [
    "### Disclaimer and Risks\n",
    "__This content is offered solely for training and  informational purposes__. No offer or solicitation to buy or sell securities or derivative products, or any investment or trading advice or strategy,  is made, given, or endorsed by the teaching team. \n",
    "\n",
    "__Trading involves risk__. Carefully review your financial situation before investing in securities, futures contracts, options, or commodity interests. Past performance, whether actual or indicated by historical tests of strategies, is no guarantee of future performance or success. Trading is generally inappropriate for someone with limited resources, investment or trading experience, or a low-risk tolerance.  Only risk capital that is not required for living expenses.\n",
    "\n",
    "__You are fully responsible for any investment or trading decisions you make__. Such decisions should be based solely on your evaluation of your financial circumstances, investment or trading objectives, risk tolerance, and liquidity needs."
   ]
  },
  {
   "cell_type": "code",
   "execution_count": null,
   "id": "1b932005-fdec-4ce0-9469-60f406a464f5",
   "metadata": {},
   "outputs": [],
   "source": []
  },
  {
   "cell_type": "code",
   "execution_count": null,
   "id": "1a22012b-0efa-42be-b128-6ae0abf8fe95",
   "metadata": {},
   "outputs": [],
   "source": []
  },
  {
   "cell_type": "code",
   "execution_count": null,
   "id": "6d9cbddb-fb4b-4e88-9d4f-4ac7421e35f2",
   "metadata": {},
   "outputs": [],
   "source": []
  }
 ],
 "metadata": {
  "kernelspec": {
   "display_name": "Julia 1.9.3",
   "language": "julia",
   "name": "julia-1.9"
  },
  "language_info": {
   "file_extension": ".jl",
   "mimetype": "application/julia",
   "name": "julia",
   "version": "1.9.3"
  }
 },
 "nbformat": 4,
 "nbformat_minor": 5
}
