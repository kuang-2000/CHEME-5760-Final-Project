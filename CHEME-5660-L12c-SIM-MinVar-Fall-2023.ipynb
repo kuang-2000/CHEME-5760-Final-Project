{
 "cells": [
  {
   "cell_type": "markdown",
   "id": "d2534105-6383-4535-a269-6af6c4d1680b",
   "metadata": {},
   "source": [
    "## Example: Single Index Models and MinVar Portfolio Allocation\n",
    "Fill me in"
   ]
  },
  {
   "cell_type": "markdown",
   "id": "75c1691d-25c3-4f99-836d-5f01182c7842",
   "metadata": {},
   "source": [
    "## Setup"
   ]
  },
  {
   "cell_type": "code",
   "execution_count": 1,
   "id": "914fab8e-454d-4f98-bbce-bd4ec2edaf29",
   "metadata": {
    "tags": []
   },
   "outputs": [
    {
     "name": "stderr",
     "output_type": "stream",
     "text": [
      "\u001b[32m\u001b[1m    Updating\u001b[22m\u001b[39m git-repo `https://github.com/varnerlab/VLQuantitativeFinancePackage.jl.git`\n",
      "\u001b[32m\u001b[1m   Resolving\u001b[22m\u001b[39m package versions...\n",
      "\u001b[32m\u001b[1m  No Changes\u001b[22m\u001b[39m to `~/Desktop/julia_work/CHEME-5660-Examples-F23/Project.toml`\n",
      "\u001b[32m\u001b[1m  No Changes\u001b[22m\u001b[39m to `~/Desktop/julia_work/CHEME-5660-Examples-F23/Manifest.toml`\n",
      "\u001b[32m\u001b[1m  Activating\u001b[22m\u001b[39m project at `~/Desktop/julia_work/CHEME-5660-Examples-F23`\n",
      "\u001b[32m\u001b[1m  No Changes\u001b[22m\u001b[39m to `~/Desktop/julia_work/CHEME-5660-Examples-F23/Project.toml`\n",
      "\u001b[32m\u001b[1m  No Changes\u001b[22m\u001b[39m to `~/Desktop/julia_work/CHEME-5660-Examples-F23/Manifest.toml`\n",
      "\u001b[32m\u001b[1m    Updating\u001b[22m\u001b[39m registry at `~/.julia/registries/General.toml`\n",
      "\u001b[32m\u001b[1m    Updating\u001b[22m\u001b[39m git-repo `https://github.com/varnerlab/VLQuantitativeFinancePackage.jl.git`\n",
      "\u001b[32m\u001b[1m  No Changes\u001b[22m\u001b[39m to `~/Desktop/julia_work/CHEME-5660-Examples-F23/Project.toml`\n",
      "\u001b[32m\u001b[1m  No Changes\u001b[22m\u001b[39m to `~/Desktop/julia_work/CHEME-5660-Examples-F23/Manifest.toml`\n"
     ]
    }
   ],
   "source": [
    "include(\"Include.jl\");"
   ]
  },
  {
   "cell_type": "markdown",
   "id": "f4a165c6-1a16-4d94-8ec7-e33cc54913a4",
   "metadata": {},
   "source": [
    "## Prerequisites: Load and clean the historical dataset\n",
    "We gathered a daily open-high-low-close `dataset` for each firm in the [S&P500](https://en.wikipedia.org/wiki/S%26P_500) since `01-03-2018` until `11-03-2023`, along with data for a few exchange traded funds and volatility products during that time. We load the `orignal_dataset` by calling the `load(...)` method exported by the [JLD2.jl](https://github.com/JuliaIO/JLD2.jl.git) package:"
   ]
  },
  {
   "cell_type": "code",
   "execution_count": 2,
   "id": "ede4f7d8-de2a-4c06-81d9-5e462afc6df2",
   "metadata": {
    "tags": []
   },
   "outputs": [],
   "source": [
    "original_dataset = load(joinpath(_PATH_TO_DATA, \"SP500-Daily-OHLC-1-3-2018-to-11-03-2023.jld2\")) |> x-> x[\"dataset\"];"
   ]
  },
  {
   "cell_type": "markdown",
   "id": "7ee23930-149c-49ee-b468-2405dfa9d786",
   "metadata": {},
   "source": [
    "### Clean the data\n",
    "Not all of the tickers in our dataset have the maximum number of trading days for various reasons, e.g., acquistion or de-listing events. Let's collect only those tickers with the maximum number of tradition days.\n",
    "\n",
    "* First, let's compute the number of records for a company that we know has a maximim value, e.g., `AAPL` and save that value in the `maximum_number_trading_days` variable:"
   ]
  },
  {
   "cell_type": "code",
   "execution_count": 3,
   "id": "9229500e-ccad-46db-8df4-5665fb9e2589",
   "metadata": {
    "tags": []
   },
   "outputs": [],
   "source": [
    "maximum_number_trading_days = original_dataset[\"AAPL\"] |> nrow;"
   ]
  },
  {
   "cell_type": "code",
   "execution_count": 4,
   "id": "d75b54c3-c1d7-4f93-be35-2da7e42a86f1",
   "metadata": {
    "tags": []
   },
   "outputs": [],
   "source": [
    "dataset = Dict{String,DataFrame}();\n",
    "for (ticker,data) ∈ original_dataset\n",
    "    if (nrow(data) == maximum_number_trading_days)\n",
    "        dataset[ticker] = data;\n",
    "    end\n",
    "end\n",
    "dataset;"
   ]
  },
  {
   "cell_type": "markdown",
   "id": "7d776d45-97d1-48c6-9d70-c2e6840687a7",
   "metadata": {},
   "source": [
    "Let's get a list of firms that we have in cleaned up `dataset`, and save it ib the `all_tickers` array"
   ]
  },
  {
   "cell_type": "code",
   "execution_count": 5,
   "id": "5c80006a-3338-4f4b-9983-f2b366af5719",
   "metadata": {
    "tags": []
   },
   "outputs": [],
   "source": [
    "all_tickers = keys(dataset) |> collect |> sort;"
   ]
  },
  {
   "cell_type": "markdown",
   "id": "3489f983-ddb4-4f71-9500-51167768cc14",
   "metadata": {},
   "source": [
    "Finally, let's set some constant values"
   ]
  },
  {
   "cell_type": "code",
   "execution_count": 6,
   "id": "82ff7747-f489-4750-bd52-81b9410ac379",
   "metadata": {
    "tags": []
   },
   "outputs": [],
   "source": [
    "risk_free_rate = 0.05;"
   ]
  },
  {
   "cell_type": "markdown",
   "id": "c9fc18a8-ad53-4a43-aed4-fb6988ec72b0",
   "metadata": {},
   "source": [
    "### Compute the covariance and expected yield for all firms in the dataset\n",
    "The expected return $\\mathbb{E}(r_{i})$ and covariance matrix $\\Sigma$ will be used in our calculations, so we'll provide values for both of these items for the entire data set (all `N = 459` tickers), and then you can pick out which tickers you are interested in. \n",
    "\n",
    "* First, we compute the expected (annualized) log return by passing the `dataset` and the entire list of firms we have in the dataset (held in the $N\\times{1}$ `all_array` array) to the `log_return_matrix(...)` method. The result is stored in the `all_firms_return_matrix` variable, a $T-1\\times{N}$ array of log return values. Each row of `all_firms_return_matrix` corresponds to a time-value, while each column corresponds to a firm:"
   ]
  },
  {
   "cell_type": "code",
   "execution_count": 7,
   "id": "3cb45c2e-0214-45d5-a5da-df652d84acea",
   "metadata": {
    "tags": []
   },
   "outputs": [],
   "source": [
    "all_firms_excess_return_matrix = log_return_matrix(dataset, all_tickers, \n",
    "    Δt = (1.0/252.0), risk_free_rate = risk_free_rate);"
   ]
  },
  {
   "cell_type": "markdown",
   "id": "3df872c9-861f-49bc-9b46-280b1d6666f2",
   "metadata": {},
   "source": [
    "Next, we estimate the expected excess return for each firm from the `all_firms_excess_return_matrix` using the `mean(...)` function, which is exported by the [Statistics.jl package](https://docs.julialang.org/en/v1/stdlib/Statistics/). We set the $N\\times{1}$ vector of expected values, i.e., $\\mathbb{E}(R_{1}),\\dotsc,\\mathbb{E}(R_{N})$ in the variable $\\mu$:"
   ]
  },
  {
   "cell_type": "code",
   "execution_count": 8,
   "id": "7519be34-b42a-4315-a773-78ca6594efe3",
   "metadata": {
    "tags": []
   },
   "outputs": [],
   "source": [
    "μ = mean(all_firms_excess_return_matrix, dims=1) |> vec;"
   ]
  },
  {
   "cell_type": "markdown",
   "id": "76d2de23-284e-43e5-9ed3-aacc3181e813",
   "metadata": {},
   "source": [
    "Finally, we estimate the annualized `covariance_matrix` from the `all_firms_return_matrix` using the `cov(...)` function, exported by the [Statistics.jl package](https://docs.julialang.org/en/v1/stdlib/Statistics/). We store the $N\\times{N}$ covariance matrix in the $\\Sigma$ variable:"
   ]
  },
  {
   "cell_type": "code",
   "execution_count": 9,
   "id": "a7f60651-73b8-4b2c-83b9-130197f669fc",
   "metadata": {
    "tags": []
   },
   "outputs": [],
   "source": [
    "Σ = cov(all_firms_excess_return_matrix) |> x-> x*(1/252); # annualized, historical volatility"
   ]
  },
  {
   "cell_type": "markdown",
   "id": "0ac860fb-6307-4f31-be40-001bd6aa600e",
   "metadata": {},
   "source": [
    "### Build single index model returns and covariance"
   ]
  },
  {
   "cell_type": "code",
   "execution_count": 10,
   "id": "4a228ac1-8c15-4349-9bd6-6eefadcd5c66",
   "metadata": {
    "tags": []
   },
   "outputs": [
    {
     "data": {
      "text/plain": [
       "Dict{String, MySingleIndexModel} with 459 entries:\n",
       "  \"NI\"   => MySingleIndexModel(-0.0667694, 0.650089, 0.05, Normal{Float64}(μ=4.…\n",
       "  \"EMR\"  => MySingleIndexModel(-0.0420337, 1.23606, 0.05, Normal{Float64}(μ=8.6…\n",
       "  \"CTAS\" => MySingleIndexModel(0.121342, 1.18426, 0.05, Normal{Float64}(μ=-3.75…\n",
       "  \"HSIC\" => MySingleIndexModel(-0.0887318, 0.918814, 0.05, Normal{Float64}(μ=7.…\n",
       "  \"KIM\"  => MySingleIndexModel(-0.0834768, 1.28034, 0.05, Normal{Float64}(μ=-1.…\n",
       "  \"PLD\"  => MySingleIndexModel(0.00268562, 1.01582, 0.05, Normal{Float64}(μ=7.3…\n",
       "  \"IEX\"  => MySingleIndexModel(-0.00997753, 0.962278, 0.05, Normal{Float64}(μ=3…\n",
       "  \"BAC\"  => MySingleIndexModel(-0.105029, 1.31866, 0.05, Normal{Float64}(μ=-1.6…\n",
       "  \"CBOE\" => MySingleIndexModel(-0.0157717, 0.594397, 0.05, Normal{Float64}(μ=-3…\n",
       "  \"EXR\"  => MySingleIndexModel(-0.0361987, 0.709725, 0.05, Normal{Float64}(μ=1.…\n",
       "  \"NCLH\" => MySingleIndexModel(-0.349225, 2.33008, 0.05, Normal{Float64}(μ=3.66…\n",
       "  \"CVS\"  => MySingleIndexModel(-0.0803743, 0.78294, 0.05, Normal{Float64}(μ=1.7…\n",
       "  \"DRI\"  => MySingleIndexModel(-0.0163202, 1.36716, 0.05, Normal{Float64}(μ=-1.…\n",
       "  \"DTE\"  => MySingleIndexModel(-0.0886175, 0.763632, 0.05, Normal{Float64}(μ=-3…\n",
       "  \"ZION\" => MySingleIndexModel(-0.16904, 1.33812, 0.05, Normal{Float64}(μ=5.452…\n",
       "  \"AVY\"  => MySingleIndexModel(-0.00879973, 1.16002, 0.05, Normal{Float64}(μ=-1…\n",
       "  \"EW\"   => MySingleIndexModel(0.0109984, 1.1094, 0.05, Normal{Float64}(μ=1.254…\n",
       "  \"EA\"   => MySingleIndexModel(-0.0449826, 0.626946, 0.05, Normal{Float64}(μ=-2…\n",
       "  \"NWSA\" => MySingleIndexModel(-0.0387667, 1.12072, 0.05, Normal{Float64}(μ=-2.…\n",
       "  \"CAG\"  => MySingleIndexModel(-0.114534, 0.435849, 0.05, Normal{Float64}(μ=-8.…\n",
       "  \"GILD\" => MySingleIndexModel(-0.0540277, 0.514077, 0.05, Normal{Float64}(μ=9.…\n",
       "  \"FCX\"  => MySingleIndexModel(0.000569782, 1.8011, 0.05, Normal{Float64}(μ=1.2…\n",
       "  \"GPC\"  => MySingleIndexModel(-0.0276181, 1.06659, 0.05, Normal{Float64}(μ=-2.…\n",
       "  \"UNP\"  => MySingleIndexModel(-0.00322765, 1.03047, 0.05, Normal{Float64}(μ=5.…\n",
       "  \"CDW\"  => MySingleIndexModel(0.0976779, 1.21753, 0.05, Normal{Float64}(μ=4.99…\n",
       "  ⋮      => ⋮"
      ]
     },
     "execution_count": 10,
     "metadata": {},
     "output_type": "execute_result"
    }
   ],
   "source": [
    "sims = load(joinpath(_PATH_TO_DATA, \"SIM-SP500-01-03-18-to-10-31-23.jld2\")) |> x->x[\"sim\"]"
   ]
  },
  {
   "cell_type": "code",
   "execution_count": 11,
   "id": "86e3f4a1-b7dd-4ef9-8fff-9555a6571416",
   "metadata": {
    "tags": []
   },
   "outputs": [],
   "source": [
    "index_SPY = findfirst(x->x==\"SPY\", all_tickers);\n",
    "R_SPY = μ[index_SPY];"
   ]
  },
  {
   "cell_type": "code",
   "execution_count": 12,
   "id": "6d9258a1-0c39-4721-8d8c-e67070072ff5",
   "metadata": {
    "tags": []
   },
   "outputs": [],
   "source": [
    "μ_sim = Array{Float64,1}();\n",
    "for i ∈ eachindex(all_tickers)\n",
    "    \n",
    "    myticker = all_tickers[i];\n",
    "    sim = sims[myticker];\n",
    "    \n",
    "    αᵢ = sim.α\n",
    "    βᵢ = sim.β\n",
    "    Rᵢ = αᵢ+βᵢ*R_SPY\n",
    "    \n",
    "    push!(μ_sim,Rᵢ)\n",
    "end"
   ]
  },
  {
   "cell_type": "markdown",
   "id": "f28f3361-7a89-46f0-be64-2519f5a7041e",
   "metadata": {},
   "source": [
    "Now let's build the `single index model` version of the covariance array. Substituting the single index model for the excess return of asset $i$ and $j$ into the covariance expression (and simplifing) gives:\n",
    "\n",
    "$$\n",
    "\\begin{equation*}\n",
    "\\text{cov}(R_{i}, R_{j}) = \\begin{cases}\n",
    "\\beta_{i}^{2}\\sigma_{m}^{2}+\\sigma_{\\epsilon_{i}}^{2} & i = j \\\\\n",
    "\\beta_{i}\\beta_{j}\\sigma_{m}^2 & i \\neq j\n",
    "\\end{cases}\n",
    "\\end{equation*}\n",
    "$$\n",
    "\n",
    "where $\\sigma_{m}^2$ denotes the variance of the excess return of the market, \n",
    "and $\\sigma_{\\epsilon_{i}}^{2}$ denotes the variance of the firm-specific error model."
   ]
  },
  {
   "cell_type": "code",
   "execution_count": 13,
   "id": "f9cd87c4-f581-4e3e-a000-88d10a9d5e7e",
   "metadata": {
    "tags": []
   },
   "outputs": [
    {
     "data": {
      "text/plain": [
       "1.7683675703910142"
      ]
     },
     "execution_count": 13,
     "metadata": {},
     "output_type": "execute_result"
    }
   ],
   "source": [
    "d = fit_mle(Laplace, all_firms_excess_return_matrix[:,index_SPY]);\n",
    "σₘ = params(d)[2]"
   ]
  },
  {
   "cell_type": "code",
   "execution_count": 14,
   "id": "88163f26-dd92-49f3-9205-729192450f7e",
   "metadata": {
    "tags": []
   },
   "outputs": [],
   "source": [
    "Σ_tmp = Array{Float64,2}(undef, length(μ), length(μ));\n",
    "for i ∈ eachindex(all_tickers)\n",
    "    outer_ticker = all_tickers[i];\n",
    "    sim_outer = sims[outer_ticker];\n",
    "    \n",
    "    for j ∈ eachindex(all_tickers)\n",
    "        \n",
    "        inner_ticker = all_tickers[j];\n",
    "        sim_inner = sims[inner_ticker];\n",
    "        \n",
    "        if (i == j)\n",
    "            βᵢ = sim_outer.β\n",
    "            ϵᵢ = sim_outer.ϵ\n",
    "            σ_ϵᵢ = params(ϵᵢ)[2];\n",
    "            Σ_tmp[i,j] = ((βᵢ)^2)*((σₘ)^2)+(σ_ϵᵢ)^2\n",
    "        else\n",
    "            βᵢ = sim_outer.β\n",
    "            βⱼ = sim_inner.β\n",
    "            Σ_tmp[i,j] = βᵢ*βⱼ*(σₘ)^2\n",
    "        end\n",
    "    end\n",
    "end"
   ]
  },
  {
   "cell_type": "code",
   "execution_count": 15,
   "id": "40fea553-442f-428c-a6ef-625ddd7f62c9",
   "metadata": {
    "tags": []
   },
   "outputs": [
    {
     "data": {
      "text/plain": [
       "459×459 Matrix{Float64}:\n",
       " 0.0496953   0.0231973  0.0130127   …  0.0186486   0.017709   0.0138832\n",
       " 0.0231973   0.247491   0.0213871      0.0306499   0.0291056  0.0228178\n",
       " 0.0130127   0.0213871  0.108614       0.0171934   0.0163271  0.0127999\n",
       " 0.016469    0.0270676  0.0151838      0.02176     0.0206636  0.0161995\n",
       " 0.00944056  0.015516   0.00870388     0.0124735   0.0118451  0.00928612\n",
       " 0.0110562   0.0181715  0.0101935   …  0.0146083   0.0138723  0.0108754\n",
       " 0.0160447   0.0263703  0.0147927      0.0211994   0.0201313  0.0157822\n",
       " 0.0166904   0.0274315  0.015388       0.0220525   0.0209414  0.0164173\n",
       " 0.0163324   0.0268432  0.015058       0.0215796   0.0204923  0.0160652\n",
       " 0.0109434   0.0179861  0.0100895      0.0144592   0.0137307  0.0107644\n",
       " 0.0135242   0.0222277  0.0124689   …  0.0178691   0.0169688  0.0133029\n",
       " 0.0195281   0.0320955  0.0180043      0.0258019   0.0245019  0.0192086\n",
       " 0.00820333  0.0134826  0.0075632      0.0108388   0.0102927  0.00806913\n",
       " ⋮                                  ⋱                         \n",
       " 0.0114259   0.0187791  0.0105343      0.0150967   0.0143361  0.011239\n",
       " 0.0176045   0.0289339  0.0162308      0.0232603   0.0220883  0.0173165\n",
       " 0.0234342   0.0385154  0.0216056      0.0309629   0.0294029  0.0230508\n",
       " 0.00731123  0.0120164  0.00674071  …  0.00966011  0.0091734  0.00719162\n",
       " 0.0135268   0.0222321  0.0124713      0.0178726   0.0169721  0.0133055\n",
       " 0.0131689   0.0216438  0.0121413      0.0173997   0.0165231  0.0129535\n",
       " 0.0152359   0.025041   0.014047       0.0201308   0.0191165  0.0149867\n",
       " 0.0117307   0.01928    0.0108153      0.0154994   0.0147185  0.0115388\n",
       " 0.0153412   0.025214   0.0141441   …  0.0202699   0.0192486  0.0150902\n",
       " 0.0186486   0.0306499  0.0171934      0.102653    0.0233984  0.0183435\n",
       " 0.017709    0.0291056  0.0163271      0.0233984   0.134455   0.0174193\n",
       " 0.0138832   0.0228178  0.0127999      0.0183435   0.0174193  0.0450015"
      ]
     },
     "execution_count": 15,
     "metadata": {},
     "output_type": "execute_result"
    }
   ],
   "source": [
    "Σ_sim  = Σ_tmp |> x-> x*(1/252)"
   ]
  },
  {
   "cell_type": "markdown",
   "id": "2ddbb66e-c036-4622-9426-dd4e7ed131e4",
   "metadata": {},
   "source": [
    "## Task 1: Build the log return array and covariance matrix\n",
    "Before we compute the efficient frontier, we must decide which stocks to include in the risky portfolio. One strategy is to pick stocks that have small or even negative covariance. Let's explore this idea. \n",
    "\n",
    "* Specify a collection of `ticker symbols`, e.g., `AAPL`, `MSFT`, etc., that interest you in the `my_list_of_tickers` array. We'll  put the indexes of your tickers in the `my_list_of_firm_ids` array:"
   ]
  },
  {
   "cell_type": "code",
   "execution_count": 16,
   "id": "987b9082-695b-476d-98bd-11bf8c285514",
   "metadata": {
    "tags": []
   },
   "outputs": [],
   "source": [
    "my_list_of_tickers = [\"AAPL\", \"INTC\", \"MSFT\", \"MU\", \"AMD\", \"GS\", \"BAC\", \"WFC\", \"C\", \"F\"];\n",
    "my_list_of_firm_ids = Array{Int64,1}();\n",
    "for ticker ∈ my_list_of_tickers\n",
    "    firm_index = findfirst(x->x==ticker, all_tickers);    \n",
    "    push!(my_list_of_firm_ids, firm_index)\n",
    "end"
   ]
  },
  {
   "cell_type": "markdown",
   "id": "c27ba58a-3226-4883-844d-5b1ce084871a",
   "metadata": {},
   "source": [
    "Now that you have selected the firms in your risky portfolio, we'll compute for you the firm-specific expected return vector and covariance matrix. We'll store these in the $\\hat{\\mu}$ and $\\hat{\\Sigma}$ variables. First, we'll construct the $\\hat{\\mu}$ vector for the `data` and `single index model` versions of the problem:"
   ]
  },
  {
   "cell_type": "code",
   "execution_count": 17,
   "id": "edf0c44d-4af0-4a1a-86b7-42706212871b",
   "metadata": {
    "tags": []
   },
   "outputs": [],
   "source": [
    "# --- DO NOT CHANGE THIS BLOCK ----------------------------------------- #\n",
    "μ̂ = Array{Float64,1}();\n",
    "μ̂_sim = Array{Float64,1}();\n",
    "for firm_index ∈ my_list_of_firm_ids\n",
    "    push!(μ̂, μ[firm_index])\n",
    "    push!(μ̂_sim, μ_sim[firm_index])\n",
    "end\n",
    "# ---------------------------------------------------------------------- #"
   ]
  },
  {
   "cell_type": "markdown",
   "id": "cf6e0031-89ac-48c5-a79e-0f5ae86983f6",
   "metadata": {},
   "source": [
    "and then we'll compute the firm-specific covariance $\\hat{\\Sigma}$ matrix for the `data` version of the problem:"
   ]
  },
  {
   "cell_type": "code",
   "execution_count": 18,
   "id": "16c088cc-0253-4d4d-8561-b7a084bac211",
   "metadata": {
    "tags": []
   },
   "outputs": [],
   "source": [
    "# --- DO NOT CHANGE THIS BLOCK ----------------------------------------- #\n",
    "my_number_of_selected_firms = length(my_list_of_firm_ids)\n",
    "Σ̂ = Array{Float64,2}(undef, my_number_of_selected_firms, my_number_of_selected_firms);\n",
    "for i ∈ eachindex(my_list_of_firm_ids)\n",
    "    row_firm_index = my_list_of_firm_ids[i]\n",
    "    for j ∈ eachindex(my_list_of_firm_ids)\n",
    "        col_firm_index = my_list_of_firm_ids[j]\n",
    "        Σ̂[i,j] = Σ[row_firm_index, col_firm_index]\n",
    "    end\n",
    "end\n",
    "# ---------------------------------------------------------------------- #"
   ]
  },
  {
   "cell_type": "markdown",
   "id": "b91fec59-ddba-47fa-95b0-b76145953015",
   "metadata": {},
   "source": [
    "and then the `single index model` version of the problem:"
   ]
  },
  {
   "cell_type": "code",
   "execution_count": 19,
   "id": "a041c01a-856f-4bd5-a10c-395418a57e76",
   "metadata": {
    "tags": []
   },
   "outputs": [],
   "source": [
    "# --- DO NOT CHANGE THIS BLOCK FOR SIM  -------------------------------- #\n",
    "my_number_of_selected_firms = length(my_list_of_firm_ids)\n",
    "Σ̂_sim = Array{Float64,2}(undef, my_number_of_selected_firms, my_number_of_selected_firms);\n",
    "for i ∈ eachindex(my_list_of_firm_ids)\n",
    "    row_firm_index = my_list_of_firm_ids[i]\n",
    "    for j ∈ eachindex(my_list_of_firm_ids)\n",
    "        col_firm_index = my_list_of_firm_ids[j]\n",
    "        Σ̂_sim[i,j] = Σ_sim[row_firm_index, col_firm_index]\n",
    "    end\n",
    "end\n",
    "# ---------------------------------------------------------------------- #"
   ]
  },
  {
   "cell_type": "markdown",
   "id": "401a2d24-deb1-4bbb-ba05-2f6c7611ea20",
   "metadata": {},
   "source": [
    "## Task 2: Compute the efficient frontier for your collection of stocks\n",
    "Create an instance of the `MyMarkowitzRiskyAssetOnlyPortfiolioChoiceProblem` type, and store this in the `problem_risk` variable using the `build(...)` method. You'll need to pass your covariance array $\\hat{\\Sigma}$, the expected return array $\\hat{\\mu}$, along with bounds and an initial guess, to the `build(...)` method. \n",
    "\n",
    "Let's setup the bounds, and some other constants:"
   ]
  },
  {
   "cell_type": "code",
   "execution_count": 20,
   "id": "0840da92-f0f9-4072-9df6-39f09e6c4e4d",
   "metadata": {
    "tags": []
   },
   "outputs": [],
   "source": [
    "number_of_firms = length(my_list_of_tickers);\n",
    "wₒ = zeros(number_of_firms);\n",
    "wₒ[1] = 1.0;\n",
    "bounds = zeros(number_of_firms,2);\n",
    "bounds[:,2] .= 1.0;\n",
    "risk_free_rate = 0.05;\n",
    "number_of_points = 40;"
   ]
  },
  {
   "cell_type": "markdown",
   "id": "ba901c71-c62c-44d9-9976-1d08e83f8350",
   "metadata": {},
   "source": [
    "and the build an instance of the `MyMarkowitzRiskyAssetOnlyPortfiolioChoiceProblem` type, using the `build(...)` method. Save the `data` version of the problem in the `problem_risk` variable:"
   ]
  },
  {
   "cell_type": "code",
   "execution_count": 21,
   "id": "4ba80199-8917-4357-a800-4c973148de3d",
   "metadata": {
    "tags": []
   },
   "outputs": [],
   "source": [
    "problem_risk = build(MyMarkowitzRiskyAssetOnlyPortfiolioChoiceProblem, (\n",
    "    Σ = Σ̂,\n",
    "    μ = μ̂,\n",
    "    bounds = bounds,\n",
    "    initial = wₒ,\n",
    "    R = 0.0\n",
    "));"
   ]
  },
  {
   "cell_type": "markdown",
   "id": "10d8346c-4d38-495c-8550-d63576c4051a",
   "metadata": {},
   "source": [
    "and the `single index model` version of the problem in the `problem_risk_sim` variable:"
   ]
  },
  {
   "cell_type": "code",
   "execution_count": 22,
   "id": "8fe92cd2-dd7f-46e2-9a10-7a9f1de3f2d0",
   "metadata": {
    "tags": []
   },
   "outputs": [],
   "source": [
    "problem_risk_sim = build(MyMarkowitzRiskyAssetOnlyPortfiolioChoiceProblem, (\n",
    "    Σ = Σ̂_sim,\n",
    "    μ = μ̂_sim,\n",
    "    bounds = bounds,\n",
    "    initial = wₒ,\n",
    "    R = 0.0\n",
    "));"
   ]
  },
  {
   "cell_type": "markdown",
   "id": "287c4ec0-e9d4-45c9-9c2e-7db7911b4b41",
   "metadata": {},
   "source": [
    "Next, we create an array with the minimum desired rewards (the calculation must achieve at least this much reward). We store these values in the `minimum_desired_reward_array` variable:"
   ]
  },
  {
   "cell_type": "code",
   "execution_count": 23,
   "id": "a62e9f23-02cb-4c3c-b5a0-30215ca2c86f",
   "metadata": {
    "tags": []
   },
   "outputs": [],
   "source": [
    "minimum_desired_reward_array = range(0.0, stop = 0.5 - risk_free_rate, length = number_of_points) |> collect;"
   ]
  },
  {
   "cell_type": "markdown",
   "id": "9e583610-fae9-4325-a3d1-70476ad2847c",
   "metadata": {},
   "source": [
    "Finally, we iterate through the `minimum_desired_reward_array` and compute the minimum risk required to achieve the specified reward level using a `for-loop`. In particular, for each pass through the loop, we:\n",
    "* Update the `problem_risk` variable with the minimum desired reward\n",
    "* We then pass the updated `problem` object to the `solve(...)` method (which initializes and solves the optimization problem). The solution returned from the `solve(...)` method is stored in the `solution` dictionary. \n",
    "* We check the `status` of the solution. If the `status` indicates an optimal solution was found, we store the solution in the `frontier` dictionary."
   ]
  },
  {
   "cell_type": "code",
   "execution_count": 24,
   "id": "8c80968c-cdf4-4759-9bc5-c21a32a40055",
   "metadata": {
    "tags": []
   },
   "outputs": [
    {
     "data": {
      "text/plain": [
       "Dict{Float64, Float64} with 30 entries:\n",
       "  0.221234 => 0.173077\n",
       "  0.230462 => 0.196154\n",
       "  0.207576 => 0.0824187\n",
       "  0.225514 => 0.184615\n",
       "  0.207576 => 0.0824187\n",
       "  0.335592 => 0.276923\n",
       "  0.208297 => 0.103846\n",
       "  0.40753  => 0.311538\n",
       "  0.207576 => 0.0824196\n",
       "  0.217662 => 0.161538\n",
       "  0.459585 => 0.334615\n",
       "  0.207576 => 0.0824187\n",
       "  0.259737 => 0.230769\n",
       "  0.210701 => 0.126923\n",
       "  0.358575 => 0.288462\n",
       "  0.207576 => 0.0824187\n",
       "  0.236809 => 0.207692\n",
       "  0.207576 => 0.0824187\n",
       "  0.246654 => 0.219231\n",
       "  0.293788 => 0.253846\n",
       "  0.209291 => 0.115385\n",
       "  0.313901 => 0.265385\n",
       "  0.382616 => 0.3\n",
       "  0.207576 => 0.0824187\n",
       "  0.275598 => 0.242308\n",
       "  ⋮        => ⋮"
      ]
     },
     "execution_count": 24,
     "metadata": {},
     "output_type": "execute_result"
    }
   ],
   "source": [
    "efficient_frontier = Dict{Float64,Float64}();\n",
    "for i ∈ eachindex(minimum_desired_reward_array)\n",
    "    \n",
    "    # update the problem object -\n",
    "    problem_risk.R = minimum_desired_reward_array[i];\n",
    "    \n",
    "    # compute -\n",
    "    solution = solve(problem_risk)\n",
    "\n",
    "    # check: did this converge?\n",
    "    status_flag = solution[\"status\"];    \n",
    "    if (status_flag == MathOptInterface.LOCALLY_SOLVED)\n",
    "        key = sqrt(solution[\"objective_value\"]);\n",
    "        value = solution[\"reward\"];\n",
    "        efficient_frontier[key] = value;\n",
    "    end\n",
    "end\n",
    "efficient_frontier"
   ]
  },
  {
   "cell_type": "markdown",
   "id": "60b0b348-5129-46cf-836f-7c407bfbc032",
   "metadata": {},
   "source": [
    "Let's now do the single index model case:"
   ]
  },
  {
   "cell_type": "code",
   "execution_count": 25,
   "id": "ef9652f6-cd88-4036-8efd-ed0cc11132cb",
   "metadata": {
    "tags": []
   },
   "outputs": [
    {
     "data": {
      "text/plain": [
       "Dict{Float64, Float64} with 29 entries:\n",
       "  0.165347 => 0.161538\n",
       "  0.26755  => 0.265385\n",
       "  0.158944 => 0.115385\n",
       "  0.170103 => 0.184615\n",
       "  0.176811 => 0.207692\n",
       "  0.156242 => 0.0583033\n",
       "  0.157966 => 0.103846\n",
       "  0.173033 => 0.196154\n",
       "  0.200428 => 0.230769\n",
       "  0.157223 => 0.0923078\n",
       "  0.156685 => 0.0807694\n",
       "  0.163381 => 0.15\n",
       "  0.15635  => 0.0692308\n",
       "  0.185778 => 0.219231\n",
       "  0.242293 => 0.253846\n",
       "  0.353061 => 0.3\n",
       "  0.156242 => 0.0583033\n",
       "  0.156242 => 0.0583177\n",
       "  0.156242 => 0.0583033\n",
       "  0.294731 => 0.276923\n",
       "  0.161654 => 0.138462\n",
       "  0.156242 => 0.0583032\n",
       "  0.160172 => 0.126923\n",
       "  0.323351 => 0.288462\n",
       "  0.383608 => 0.311538\n",
       "  ⋮        => ⋮"
      ]
     },
     "execution_count": 25,
     "metadata": {},
     "output_type": "execute_result"
    }
   ],
   "source": [
    "efficient_frontier_sim = Dict{Float64,Float64}();\n",
    "for i ∈ eachindex(minimum_desired_reward_array)\n",
    "    \n",
    "    # update the problem object -\n",
    "    problem_risk_sim.R = minimum_desired_reward_array[i];\n",
    "    \n",
    "    # compute -\n",
    "    solution_sim = solve(problem_risk_sim)\n",
    "\n",
    "    # check: did this converge?\n",
    "    status_flag = solution_sim[\"status\"];    \n",
    "    if (status_flag == MathOptInterface.LOCALLY_SOLVED)\n",
    "        key = sqrt(solution_sim[\"objective_value\"]);\n",
    "        value = solution_sim[\"reward\"];\n",
    "        efficient_frontier_sim[key] = value;\n",
    "    end\n",
    "end\n",
    "efficient_frontier_sim"
   ]
  },
  {
   "cell_type": "markdown",
   "id": "97244c7f-c619-4c4d-8bbd-f70c3b2ae812",
   "metadata": {},
   "source": [
    "### Visualize the Efficient Frontiers for the data and single index model"
   ]
  },
  {
   "cell_type": "code",
   "execution_count": 26,
   "id": "40d141d1-3652-40c8-bdbb-0634053827af",
   "metadata": {
    "tags": []
   },
   "outputs": [
    {
     "data": {
      "image/png": "[encoded data removed]",
      "image/svg+xml": [
       "<?xml version=\"1.0\" encoding=\"utf-8\"?>\n",
       "<svg xmlns=\"http://www.w3.org/2000/svg\" xmlns:xlink=\"http://www.w3.org/1999/xlink\" width=\"600\" height=\"400\" viewBox=\"0 0 2400 1600\">\n",
       "<defs>\n",
       "  <clipPath id=\"clip070\">\n",
       "    <rect x=\"0\" y=\"0\" width=\"2400\" height=\"1600\"/>\n",
       "  </clipPath>\n",
       "</defs>\n",
       "<path clip-path=\"url(#clip070)\" d=\"M0 1600 L2400 1600 L2400 0 L0 0  Z\" fill=\"#ffffff\" fill-rule=\"evenodd\" fill-opacity=\"1\"/>\n",
       "<defs>\n",
       "  <clipPath id=\"clip071\">\n",
       "    <rect x=\"480\" y=\"0\" width=\"1681\" height=\"1600\"/>\n",
       "  </clipPath>\n",
       "</defs>\n",
       "<path clip-path=\"url(#clip070)\" d=\"M249.542 1423.18 L2352.76 1423.18 L2352.76 47.2441 L249.542 47.2441  Z\" fill=\"#ffffff\" fill-rule=\"evenodd\" fill-opacity=\"1\"/>\n",
       "<defs>\n",
       "  <clipPath id=\"clip072\">\n",
       "    <rect x=\"249\" y=\"47\" width=\"2104\" height=\"1377\"/>\n",
       "  </clipPath>\n",
       "</defs>\n",
       "<polyline clip-path=\"url(#clip072)\" style=\"stroke:#000000; stroke-linecap:round; stroke-linejoin:round; stroke-width:2; stroke-opacity:0.1; fill:none\" points=\"249.542,1423.18 249.542,47.2441 \"/>\n",
       "<polyline clip-path=\"url(#clip072)\" style=\"stroke:#000000; stroke-linecap:round; stroke-linejoin:round; stroke-width:2; stroke-opacity:0.1; fill:none\" points=\"672.072,1423.18 672.072,47.2441 \"/>\n",
       "<polyline clip-path=\"url(#clip072)\" style=\"stroke:#000000; stroke-linecap:round; stroke-linejoin:round; stroke-width:2; stroke-opacity:0.1; fill:none\" points=\"1094.6,1423.18 1094.6,47.2441 \"/>\n",
       "<polyline clip-path=\"url(#clip072)\" style=\"stroke:#000000; stroke-linecap:round; stroke-linejoin:round; stroke-width:2; stroke-opacity:0.1; fill:none\" points=\"1517.13,1423.18 1517.13,47.2441 \"/>\n",
       "<polyline clip-path=\"url(#clip072)\" style=\"stroke:#000000; stroke-linecap:round; stroke-linejoin:round; stroke-width:2; stroke-opacity:0.1; fill:none\" points=\"1939.66,1423.18 1939.66,47.2441 \"/>\n",
       "<polyline clip-path=\"url(#clip070)\" style=\"stroke:#000000; stroke-linecap:round; stroke-linejoin:round; stroke-width:4; stroke-opacity:1; fill:none\" points=\"249.542,1423.18 2352.76,1423.18 \"/>\n",
       "<polyline clip-path=\"url(#clip070)\" style=\"stroke:#000000; stroke-linecap:round; stroke-linejoin:round; stroke-width:4; stroke-opacity:1; fill:none\" points=\"249.542,1423.18 249.542,1404.28 \"/>\n",
       "<polyline clip-path=\"url(#clip070)\" style=\"stroke:#000000; stroke-linecap:round; stroke-linejoin:round; stroke-width:4; stroke-opacity:1; fill:none\" points=\"672.072,1423.18 672.072,1404.28 \"/>\n",
       "<polyline clip-path=\"url(#clip070)\" style=\"stroke:#000000; stroke-linecap:round; stroke-linejoin:round; stroke-width:4; stroke-opacity:1; fill:none\" points=\"1094.6,1423.18 1094.6,1404.28 \"/>\n",
       "<polyline clip-path=\"url(#clip070)\" style=\"stroke:#000000; stroke-linecap:round; stroke-linejoin:round; stroke-width:4; stroke-opacity:1; fill:none\" points=\"1517.13,1423.18 1517.13,1404.28 \"/>\n",
       "<polyline clip-path=\"url(#clip070)\" style=\"stroke:#000000; stroke-linecap:round; stroke-linejoin:round; stroke-width:4; stroke-opacity:1; fill:none\" points=\"1939.66,1423.18 1939.66,1404.28 \"/>\n",
       "<path clip-path=\"url(#clip070)\" d=\"M226.926 1454.1 Q223.315 1454.1 221.487 1457.66 Q219.681 1461.2 219.681 1468.33 Q219.681 1475.44 221.487 1479.01 Q223.315 1482.55 226.926 1482.55 Q230.561 1482.55 232.366 1479.01 Q234.195 1475.44 234.195 1468.33 Q234.195 1461.2 232.366 1457.66 Q230.561 1454.1 226.926 1454.1 M226.926 1450.39 Q232.737 1450.39 235.792 1455 Q238.871 1459.58 238.871 1468.33 Q238.871 1477.06 235.792 1481.67 Q232.737 1486.25 226.926 1486.25 Q221.116 1486.25 218.038 1481.67 Q214.982 1477.06 214.982 1468.33 Q214.982 1459.58 218.038 1455 Q221.116 1450.39 226.926 1450.39 Z\" fill=\"#000000\" fill-rule=\"nonzero\" fill-opacity=\"1\" /><path clip-path=\"url(#clip070)\" d=\"M247.088 1479.7 L251.973 1479.7 L251.973 1485.58 L247.088 1485.58 L247.088 1479.7 Z\" fill=\"#000000\" fill-rule=\"nonzero\" fill-opacity=\"1\" /><path clip-path=\"url(#clip070)\" d=\"M272.158 1454.1 Q268.547 1454.1 266.718 1457.66 Q264.912 1461.2 264.912 1468.33 Q264.912 1475.44 266.718 1479.01 Q268.547 1482.55 272.158 1482.55 Q275.792 1482.55 277.597 1479.01 Q279.426 1475.44 279.426 1468.33 Q279.426 1461.2 277.597 1457.66 Q275.792 1454.1 272.158 1454.1 M272.158 1450.39 Q277.968 1450.39 281.023 1455 Q284.102 1459.58 284.102 1468.33 Q284.102 1477.06 281.023 1481.67 Q277.968 1486.25 272.158 1486.25 Q266.347 1486.25 263.269 1481.67 Q260.213 1477.06 260.213 1468.33 Q260.213 1459.58 263.269 1455 Q266.347 1450.39 272.158 1450.39 Z\" fill=\"#000000\" fill-rule=\"nonzero\" fill-opacity=\"1\" /><path clip-path=\"url(#clip070)\" d=\"M650.07 1454.1 Q646.458 1454.1 644.63 1457.66 Q642.824 1461.2 642.824 1468.33 Q642.824 1475.44 644.63 1479.01 Q646.458 1482.55 650.07 1482.55 Q653.704 1482.55 655.509 1479.01 Q657.338 1475.44 657.338 1468.33 Q657.338 1461.2 655.509 1457.66 Q653.704 1454.1 650.07 1454.1 M650.07 1450.39 Q655.88 1450.39 658.935 1455 Q662.014 1459.58 662.014 1468.33 Q662.014 1477.06 658.935 1481.67 Q655.88 1486.25 650.07 1486.25 Q644.259 1486.25 641.181 1481.67 Q638.125 1477.06 638.125 1468.33 Q638.125 1459.58 641.181 1455 Q644.259 1450.39 650.07 1450.39 Z\" fill=\"#000000\" fill-rule=\"nonzero\" fill-opacity=\"1\" /><path clip-path=\"url(#clip070)\" d=\"M670.232 1479.7 L675.116 1479.7 L675.116 1485.58 L670.232 1485.58 L670.232 1479.7 Z\" fill=\"#000000\" fill-rule=\"nonzero\" fill-opacity=\"1\" /><path clip-path=\"url(#clip070)\" d=\"M686.111 1481.64 L693.75 1481.64 L693.75 1455.28 L685.44 1456.95 L685.44 1452.69 L693.704 1451.02 L698.379 1451.02 L698.379 1481.64 L706.018 1481.64 L706.018 1485.58 L686.111 1485.58 L686.111 1481.64 Z\" fill=\"#000000\" fill-rule=\"nonzero\" fill-opacity=\"1\" /><path clip-path=\"url(#clip070)\" d=\"M1072.78 1454.1 Q1069.17 1454.1 1067.34 1457.66 Q1065.54 1461.2 1065.54 1468.33 Q1065.54 1475.44 1067.34 1479.01 Q1069.17 1482.55 1072.78 1482.55 Q1076.42 1482.55 1078.22 1479.01 Q1080.05 1475.44 1080.05 1468.33 Q1080.05 1461.2 1078.22 1457.66 Q1076.42 1454.1 1072.78 1454.1 M1072.78 1450.39 Q1078.59 1450.39 1081.65 1455 Q1084.73 1459.58 1084.73 1468.33 Q1084.73 1477.06 1081.65 1481.67 Q1078.59 1486.25 1072.78 1486.25 Q1066.97 1486.25 1063.9 1481.67 Q1060.84 1477.06 1060.84 1468.33 Q1060.84 1459.58 1063.9 1455 Q1066.97 1450.39 1072.78 1450.39 Z\" fill=\"#000000\" fill-rule=\"nonzero\" fill-opacity=\"1\" /><path clip-path=\"url(#clip070)\" d=\"M1092.95 1479.7 L1097.83 1479.7 L1097.83 1485.58 L1092.95 1485.58 L1092.95 1479.7 Z\" fill=\"#000000\" fill-rule=\"nonzero\" fill-opacity=\"1\" /><path clip-path=\"url(#clip070)\" d=\"M1112.04 1481.64 L1128.36 1481.64 L1128.36 1485.58 L1106.42 1485.58 L1106.42 1481.64 Q1109.08 1478.89 1113.66 1474.26 Q1118.27 1469.61 1119.45 1468.27 Q1121.7 1465.74 1122.58 1464.01 Q1123.48 1462.25 1123.48 1460.56 Q1123.48 1457.8 1121.53 1456.07 Q1119.61 1454.33 1116.51 1454.33 Q1114.31 1454.33 1111.86 1455.09 Q1109.43 1455.86 1106.65 1457.41 L1106.65 1452.69 Q1109.47 1451.55 1111.93 1450.97 Q1114.38 1450.39 1116.42 1450.39 Q1121.79 1450.39 1124.98 1453.08 Q1128.18 1455.77 1128.18 1460.26 Q1128.18 1462.39 1127.37 1464.31 Q1126.58 1466.2 1124.47 1468.8 Q1123.9 1469.47 1120.79 1472.69 Q1117.69 1475.88 1112.04 1481.64 Z\" fill=\"#000000\" fill-rule=\"nonzero\" fill-opacity=\"1\" /><path clip-path=\"url(#clip070)\" d=\"M1494.84 1454.1 Q1491.23 1454.1 1489.4 1457.66 Q1487.59 1461.2 1487.59 1468.33 Q1487.59 1475.44 1489.4 1479.01 Q1491.23 1482.55 1494.84 1482.55 Q1498.47 1482.55 1500.28 1479.01 Q1502.11 1475.44 1502.11 1468.33 Q1502.11 1461.2 1500.28 1457.66 Q1498.47 1454.1 1494.84 1454.1 M1494.84 1450.39 Q1500.65 1450.39 1503.71 1455 Q1506.78 1459.58 1506.78 1468.33 Q1506.78 1477.06 1503.71 1481.67 Q1500.65 1486.25 1494.84 1486.25 Q1489.03 1486.25 1485.95 1481.67 Q1482.9 1477.06 1482.9 1468.33 Q1482.9 1459.58 1485.95 1455 Q1489.03 1450.39 1494.84 1450.39 Z\" fill=\"#000000\" fill-rule=\"nonzero\" fill-opacity=\"1\" /><path clip-path=\"url(#clip070)\" d=\"M1515 1479.7 L1519.89 1479.7 L1519.89 1485.58 L1515 1485.58 L1515 1479.7 Z\" fill=\"#000000\" fill-rule=\"nonzero\" fill-opacity=\"1\" /><path clip-path=\"url(#clip070)\" d=\"M1544.24 1466.95 Q1547.59 1467.66 1549.47 1469.93 Q1551.37 1472.2 1551.37 1475.53 Q1551.37 1480.65 1547.85 1483.45 Q1544.33 1486.25 1537.85 1486.25 Q1535.67 1486.25 1533.36 1485.81 Q1531.07 1485.39 1528.61 1484.54 L1528.61 1480.02 Q1530.56 1481.16 1532.87 1481.74 Q1535.19 1482.32 1537.71 1482.32 Q1542.11 1482.32 1544.4 1480.58 Q1546.71 1478.84 1546.71 1475.53 Q1546.71 1472.48 1544.56 1470.77 Q1542.43 1469.03 1538.61 1469.03 L1534.58 1469.03 L1534.58 1465.19 L1538.8 1465.19 Q1542.25 1465.19 1544.08 1463.82 Q1545.9 1462.43 1545.9 1459.84 Q1545.9 1457.18 1544.01 1455.77 Q1542.13 1454.33 1538.61 1454.33 Q1536.69 1454.33 1534.49 1454.75 Q1532.29 1455.16 1529.65 1456.04 L1529.65 1451.88 Q1532.32 1451.14 1534.63 1450.77 Q1536.97 1450.39 1539.03 1450.39 Q1544.35 1450.39 1547.46 1452.83 Q1550.56 1455.23 1550.56 1459.35 Q1550.56 1462.22 1548.91 1464.21 Q1547.27 1466.18 1544.24 1466.95 Z\" fill=\"#000000\" fill-rule=\"nonzero\" fill-opacity=\"1\" /><path clip-path=\"url(#clip070)\" d=\"M1916.8 1454.1 Q1913.19 1454.1 1911.36 1457.66 Q1909.56 1461.2 1909.56 1468.33 Q1909.56 1475.44 1911.36 1479.01 Q1913.19 1482.55 1916.8 1482.55 Q1920.44 1482.55 1922.24 1479.01 Q1924.07 1475.44 1924.07 1468.33 Q1924.07 1461.2 1922.24 1457.66 Q1920.44 1454.1 1916.8 1454.1 M1916.8 1450.39 Q1922.61 1450.39 1925.67 1455 Q1928.75 1459.58 1928.75 1468.33 Q1928.75 1477.06 1925.67 1481.67 Q1922.61 1486.25 1916.8 1486.25 Q1910.99 1486.25 1907.91 1481.67 Q1904.86 1477.06 1904.86 1468.33 Q1904.86 1459.58 1907.91 1455 Q1910.99 1450.39 1916.8 1450.39 Z\" fill=\"#000000\" fill-rule=\"nonzero\" fill-opacity=\"1\" /><path clip-path=\"url(#clip070)\" d=\"M1936.96 1479.7 L1941.85 1479.7 L1941.85 1485.58 L1936.96 1485.58 L1936.96 1479.7 Z\" fill=\"#000000\" fill-rule=\"nonzero\" fill-opacity=\"1\" /><path clip-path=\"url(#clip070)\" d=\"M1964.88 1455.09 L1953.08 1473.54 L1964.88 1473.54 L1964.88 1455.09 M1963.65 1451.02 L1969.53 1451.02 L1969.53 1473.54 L1974.46 1473.54 L1974.46 1477.43 L1969.53 1477.43 L1969.53 1485.58 L1964.88 1485.58 L1964.88 1477.43 L1949.28 1477.43 L1949.28 1472.92 L1963.65 1451.02 Z\" fill=\"#000000\" fill-rule=\"nonzero\" fill-opacity=\"1\" /><path clip-path=\"url(#clip070)\" d=\"M1001.94 1525.81 L1001.94 1543.66 L1010.03 1543.66 Q1014.52 1543.66 1016.97 1541.34 Q1019.42 1539.02 1019.42 1534.72 Q1019.42 1530.45 1016.97 1528.13 Q1014.52 1525.81 1010.03 1525.81 L1001.94 1525.81 M995.515 1520.52 L1010.03 1520.52 Q1018.02 1520.52 1022.09 1524.15 Q1026.2 1527.75 1026.2 1534.72 Q1026.2 1541.75 1022.09 1545.35 Q1018.02 1548.95 1010.03 1548.95 L1001.94 1548.95 L1001.94 1568.04 L995.515 1568.04 L995.515 1520.52 Z\" fill=\"#000000\" fill-rule=\"nonzero\" fill-opacity=\"1\" /><path clip-path=\"url(#clip070)\" d=\"M1046.06 1536.5 Q1041.35 1536.5 1038.61 1540.19 Q1035.87 1543.85 1035.87 1550.25 Q1035.87 1556.65 1038.58 1560.34 Q1041.32 1564 1046.06 1564 Q1050.74 1564 1053.48 1560.31 Q1056.21 1556.62 1056.21 1550.25 Q1056.21 1543.92 1053.48 1540.23 Q1050.74 1536.5 1046.06 1536.5 M1046.06 1531.54 Q1053.7 1531.54 1058.06 1536.5 Q1062.42 1541.47 1062.42 1550.25 Q1062.42 1559 1058.06 1564 Q1053.7 1568.97 1046.06 1568.97 Q1038.39 1568.97 1034.03 1564 Q1029.7 1559 1029.7 1550.25 Q1029.7 1541.47 1034.03 1536.5 Q1038.39 1531.54 1046.06 1531.54 Z\" fill=\"#000000\" fill-rule=\"nonzero\" fill-opacity=\"1\" /><path clip-path=\"url(#clip070)\" d=\"M1092.78 1537.87 Q1091.8 1537.3 1090.62 1537.04 Q1089.47 1536.76 1088.07 1536.76 Q1083.11 1536.76 1080.43 1540 Q1077.79 1543.22 1077.79 1549.27 L1077.79 1568.04 L1071.9 1568.04 L1071.9 1532.4 L1077.79 1532.4 L1077.79 1537.93 Q1079.64 1534.69 1082.6 1533.13 Q1085.56 1531.54 1089.79 1531.54 Q1090.4 1531.54 1091.13 1531.63 Q1091.86 1531.7 1092.75 1531.85 L1092.78 1537.87 Z\" fill=\"#000000\" fill-rule=\"nonzero\" fill-opacity=\"1\" /><path clip-path=\"url(#clip070)\" d=\"M1104.72 1522.27 L1104.72 1532.4 L1116.78 1532.4 L1116.78 1536.95 L1104.72 1536.95 L1104.72 1556.3 Q1104.72 1560.66 1105.9 1561.9 Q1107.11 1563.14 1110.77 1563.14 L1116.78 1563.14 L1116.78 1568.04 L1110.77 1568.04 Q1103.99 1568.04 1101.41 1565.53 Q1098.83 1562.98 1098.83 1556.3 L1098.83 1536.95 L1094.53 1536.95 L1094.53 1532.4 L1098.83 1532.4 L1098.83 1522.27 L1104.72 1522.27 Z\" fill=\"#000000\" fill-rule=\"nonzero\" fill-opacity=\"1\" /><path clip-path=\"url(#clip070)\" d=\"M1142.53 1518.52 L1142.53 1523.39 L1136.93 1523.39 Q1133.78 1523.39 1132.54 1524.66 Q1131.33 1525.93 1131.33 1529.24 L1131.33 1532.4 L1140.97 1532.4 L1140.97 1536.95 L1131.33 1536.95 L1131.33 1568.04 L1125.44 1568.04 L1125.44 1536.95 L1119.84 1536.95 L1119.84 1532.4 L1125.44 1532.4 L1125.44 1529.91 Q1125.44 1523.96 1128.21 1521.26 Q1130.98 1518.52 1136.99 1518.52 L1142.53 1518.52 Z\" fill=\"#000000\" fill-rule=\"nonzero\" fill-opacity=\"1\" /><path clip-path=\"url(#clip070)\" d=\"M1161.25 1536.5 Q1156.54 1536.5 1153.8 1540.19 Q1151.06 1543.85 1151.06 1550.25 Q1151.06 1556.65 1153.77 1560.34 Q1156.5 1564 1161.25 1564 Q1165.93 1564 1168.66 1560.31 Q1171.4 1556.62 1171.4 1550.25 Q1171.4 1543.92 1168.66 1540.23 Q1165.93 1536.5 1161.25 1536.5 M1161.25 1531.54 Q1168.89 1531.54 1173.25 1536.5 Q1177.61 1541.47 1177.61 1550.25 Q1177.61 1559 1173.25 1564 Q1168.89 1568.97 1161.25 1568.97 Q1153.58 1568.97 1149.22 1564 Q1144.89 1559 1144.89 1550.25 Q1144.89 1541.47 1149.22 1536.5 Q1153.58 1531.54 1161.25 1531.54 Z\" fill=\"#000000\" fill-rule=\"nonzero\" fill-opacity=\"1\" /><path clip-path=\"url(#clip070)\" d=\"M1187.31 1518.52 L1193.17 1518.52 L1193.17 1568.04 L1187.31 1568.04 L1187.31 1518.52 Z\" fill=\"#000000\" fill-rule=\"nonzero\" fill-opacity=\"1\" /><path clip-path=\"url(#clip070)\" d=\"M1205.42 1532.4 L1211.28 1532.4 L1211.28 1568.04 L1205.42 1568.04 L1205.42 1532.4 M1205.42 1518.52 L1211.28 1518.52 L1211.28 1525.93 L1205.42 1525.93 L1205.42 1518.52 Z\" fill=\"#000000\" fill-rule=\"nonzero\" fill-opacity=\"1\" /><path clip-path=\"url(#clip070)\" d=\"M1237.35 1536.5 Q1232.64 1536.5 1229.9 1540.19 Q1227.16 1543.85 1227.16 1550.25 Q1227.16 1556.65 1229.87 1560.34 Q1232.61 1564 1237.35 1564 Q1242.03 1564 1244.76 1560.31 Q1247.5 1556.62 1247.5 1550.25 Q1247.5 1543.92 1244.76 1540.23 Q1242.03 1536.5 1237.35 1536.5 M1237.35 1531.54 Q1244.99 1531.54 1249.35 1536.5 Q1253.71 1541.47 1253.71 1550.25 Q1253.71 1559 1249.35 1564 Q1244.99 1568.97 1237.35 1568.97 Q1229.68 1568.97 1225.32 1564 Q1220.99 1559 1220.99 1550.25 Q1220.99 1541.47 1225.32 1536.5 Q1229.68 1531.54 1237.35 1531.54 Z\" fill=\"#000000\" fill-rule=\"nonzero\" fill-opacity=\"1\" /><path clip-path=\"url(#clip070)\" d=\"M1306.93 1545.76 Q1308.99 1546.46 1310.94 1548.76 Q1312.91 1551.05 1314.88 1555.06 L1321.41 1568.04 L1314.5 1568.04 L1308.42 1555.85 Q1306.07 1551.08 1303.84 1549.52 Q1301.64 1547.96 1297.82 1547.96 L1290.82 1547.96 L1290.82 1568.04 L1284.39 1568.04 L1284.39 1520.52 L1298.91 1520.52 Q1307.05 1520.52 1311.06 1523.93 Q1315.07 1527.34 1315.07 1534.21 Q1315.07 1538.7 1312.97 1541.66 Q1310.9 1544.62 1306.93 1545.76 M1290.82 1525.81 L1290.82 1542.68 L1298.91 1542.68 Q1303.55 1542.68 1305.91 1540.54 Q1308.29 1538.38 1308.29 1534.21 Q1308.29 1530.04 1305.91 1527.94 Q1303.55 1525.81 1298.91 1525.81 L1290.82 1525.81 Z\" fill=\"#000000\" fill-rule=\"nonzero\" fill-opacity=\"1\" /><path clip-path=\"url(#clip070)\" d=\"M1329.43 1532.4 L1335.29 1532.4 L1335.29 1568.04 L1329.43 1568.04 L1329.43 1532.4 M1329.43 1518.52 L1335.29 1518.52 L1335.29 1525.93 L1329.43 1525.93 L1329.43 1518.52 Z\" fill=\"#000000\" fill-rule=\"nonzero\" fill-opacity=\"1\" /><path clip-path=\"url(#clip070)\" d=\"M1370.26 1533.45 L1370.26 1538.98 Q1367.78 1537.71 1365.11 1537.07 Q1362.43 1536.44 1359.57 1536.44 Q1355.21 1536.44 1353.01 1537.77 Q1350.85 1539.11 1350.85 1541.79 Q1350.85 1543.82 1352.41 1545 Q1353.97 1546.15 1358.68 1547.2 L1360.68 1547.64 Q1366.92 1548.98 1369.53 1551.43 Q1372.17 1553.85 1372.17 1558.21 Q1372.17 1563.17 1368.23 1566.07 Q1364.31 1568.97 1357.44 1568.97 Q1354.57 1568.97 1351.45 1568.39 Q1348.37 1567.85 1344.93 1566.74 L1344.93 1560.69 Q1348.18 1562.38 1351.33 1563.24 Q1354.48 1564.07 1357.57 1564.07 Q1361.7 1564.07 1363.93 1562.66 Q1366.16 1561.23 1366.16 1558.65 Q1366.16 1556.27 1364.54 1554.99 Q1362.94 1553.72 1357.5 1552.54 L1355.46 1552.07 Q1350.02 1550.92 1347.6 1548.56 Q1345.18 1546.18 1345.18 1542.04 Q1345.18 1537.01 1348.75 1534.27 Q1352.31 1531.54 1358.87 1531.54 Q1362.12 1531.54 1364.98 1532.01 Q1367.85 1532.49 1370.26 1533.45 Z\" fill=\"#000000\" fill-rule=\"nonzero\" fill-opacity=\"1\" /><path clip-path=\"url(#clip070)\" d=\"M1381.28 1518.52 L1387.17 1518.52 L1387.17 1547.77 L1404.64 1532.4 L1412.12 1532.4 L1393.21 1549.07 L1412.91 1568.04 L1405.28 1568.04 L1387.17 1550.63 L1387.17 1568.04 L1381.28 1568.04 L1381.28 1518.52 Z\" fill=\"#000000\" fill-rule=\"nonzero\" fill-opacity=\"1\" /><path clip-path=\"url(#clip070)\" d=\"M1454.04 1518.58 Q1449.77 1525.9 1447.7 1533.06 Q1445.63 1540.23 1445.63 1547.58 Q1445.63 1554.93 1447.7 1562.16 Q1449.8 1569.35 1454.04 1576.64 L1448.94 1576.64 Q1444.17 1569.16 1441.78 1561.93 Q1439.43 1554.71 1439.43 1547.58 Q1439.43 1540.48 1441.78 1533.29 Q1444.14 1526.09 1448.94 1518.58 L1454.04 1518.58 Z\" fill=\"#000000\" fill-rule=\"nonzero\" fill-opacity=\"1\" /><path clip-path=\"url(#clip070)\" d=\"M1488.13 1533.45 L1488.13 1538.98 Q1485.64 1537.71 1482.97 1537.07 Q1480.3 1536.44 1477.43 1536.44 Q1473.07 1536.44 1470.87 1537.77 Q1468.71 1539.11 1468.71 1541.79 Q1468.71 1543.82 1470.27 1545 Q1471.83 1546.15 1476.54 1547.2 L1478.55 1547.64 Q1484.78 1548.98 1487.39 1551.43 Q1490.04 1553.85 1490.04 1558.21 Q1490.04 1563.17 1486.09 1566.07 Q1482.17 1568.97 1475.3 1568.97 Q1472.43 1568.97 1469.32 1568.39 Q1466.23 1567.85 1462.79 1566.74 L1462.79 1560.69 Q1466.04 1562.38 1469.19 1563.24 Q1472.34 1564.07 1475.43 1564.07 Q1479.56 1564.07 1481.79 1562.66 Q1484.02 1561.23 1484.02 1558.65 Q1484.02 1556.27 1482.4 1554.99 Q1480.81 1553.72 1475.36 1552.54 L1473.33 1552.07 Q1467.88 1550.92 1465.46 1548.56 Q1463.04 1546.18 1463.04 1542.04 Q1463.04 1537.01 1466.61 1534.27 Q1470.17 1531.54 1476.73 1531.54 Q1479.98 1531.54 1482.84 1532.01 Q1485.71 1532.49 1488.13 1533.45 Z\" fill=\"#000000\" fill-rule=\"nonzero\" fill-opacity=\"1\" /><path clip-path=\"url(#clip070)\" d=\"M1502.86 1550.25 Q1502.86 1556.71 1505.5 1560.4 Q1508.18 1564.07 1512.82 1564.07 Q1517.47 1564.07 1520.15 1560.4 Q1522.82 1556.71 1522.82 1550.25 Q1522.82 1543.79 1520.15 1540.13 Q1517.47 1536.44 1512.82 1536.44 Q1508.18 1536.44 1505.5 1540.13 Q1502.86 1543.79 1502.86 1550.25 M1522.82 1562.7 Q1520.97 1565.88 1518.14 1567.44 Q1515.34 1568.97 1511.39 1568.97 Q1504.93 1568.97 1500.86 1563.81 Q1496.81 1558.65 1496.81 1550.25 Q1496.81 1541.85 1500.86 1536.69 Q1504.93 1531.54 1511.39 1531.54 Q1515.34 1531.54 1518.14 1533.1 Q1520.97 1534.62 1522.82 1537.81 L1522.82 1532.4 L1528.68 1532.4 L1528.68 1581.6 L1522.82 1581.6 L1522.82 1562.7 Z\" fill=\"#000000\" fill-rule=\"nonzero\" fill-opacity=\"1\" /><path clip-path=\"url(#clip070)\" d=\"M1561.39 1537.87 Q1560.41 1537.3 1559.23 1537.04 Q1558.08 1536.76 1556.68 1536.76 Q1551.72 1536.76 1549.05 1540 Q1546.4 1543.22 1546.4 1549.27 L1546.4 1568.04 L1540.52 1568.04 L1540.52 1532.4 L1546.4 1532.4 L1546.4 1537.93 Q1548.25 1534.69 1551.21 1533.13 Q1554.17 1531.54 1558.4 1531.54 Q1559.01 1531.54 1559.74 1531.63 Q1560.47 1531.7 1561.36 1531.85 L1561.39 1537.87 Z\" fill=\"#000000\" fill-rule=\"nonzero\" fill-opacity=\"1\" /><path clip-path=\"url(#clip070)\" d=\"M1573.33 1522.27 L1573.33 1532.4 L1585.39 1532.4 L1585.39 1536.95 L1573.33 1536.95 L1573.33 1556.3 Q1573.33 1560.66 1574.51 1561.9 Q1575.72 1563.14 1579.38 1563.14 L1585.39 1563.14 L1585.39 1568.04 L1579.38 1568.04 Q1572.6 1568.04 1570.02 1565.53 Q1567.44 1562.98 1567.44 1556.3 L1567.44 1536.95 L1563.15 1536.95 L1563.15 1532.4 L1567.44 1532.4 L1567.44 1522.27 L1573.33 1522.27 Z\" fill=\"#000000\" fill-rule=\"nonzero\" fill-opacity=\"1\" /><path clip-path=\"url(#clip070)\" d=\"M1592.17 1518.58 L1597.27 1518.58 Q1602.04 1526.09 1604.4 1533.29 Q1606.78 1540.48 1606.78 1547.58 Q1606.78 1554.71 1604.4 1561.93 Q1602.04 1569.16 1597.27 1576.64 L1592.17 1576.64 Q1596.41 1569.35 1598.48 1562.16 Q1600.58 1554.93 1600.58 1547.58 Q1600.58 1540.23 1598.48 1533.06 Q1596.41 1525.9 1592.17 1518.58 Z\" fill=\"#000000\" fill-rule=\"nonzero\" fill-opacity=\"1\" /><polyline clip-path=\"url(#clip072)\" style=\"stroke:#000000; stroke-linecap:round; stroke-linejoin:round; stroke-width:2; stroke-opacity:0.1; fill:none\" points=\"249.542,1188.36 2352.76,1188.36 \"/>\n",
       "<polyline clip-path=\"url(#clip072)\" style=\"stroke:#000000; stroke-linecap:round; stroke-linejoin:round; stroke-width:2; stroke-opacity:0.1; fill:none\" points=\"249.542,953.467 2352.76,953.467 \"/>\n",
       "<polyline clip-path=\"url(#clip072)\" style=\"stroke:#000000; stroke-linecap:round; stroke-linejoin:round; stroke-width:2; stroke-opacity:0.1; fill:none\" points=\"249.542,718.579 2352.76,718.579 \"/>\n",
       "<polyline clip-path=\"url(#clip072)\" style=\"stroke:#000000; stroke-linecap:round; stroke-linejoin:round; stroke-width:2; stroke-opacity:0.1; fill:none\" points=\"249.542,483.69 2352.76,483.69 \"/>\n",
       "<polyline clip-path=\"url(#clip072)\" style=\"stroke:#000000; stroke-linecap:round; stroke-linejoin:round; stroke-width:2; stroke-opacity:0.1; fill:none\" points=\"249.542,248.801 2352.76,248.801 \"/>\n",
       "<polyline clip-path=\"url(#clip070)\" style=\"stroke:#000000; stroke-linecap:round; stroke-linejoin:round; stroke-width:4; stroke-opacity:1; fill:none\" points=\"249.542,1423.18 249.542,47.2441 \"/>\n",
       "<polyline clip-path=\"url(#clip070)\" style=\"stroke:#000000; stroke-linecap:round; stroke-linejoin:round; stroke-width:4; stroke-opacity:1; fill:none\" points=\"249.542,1188.36 268.44,1188.36 \"/>\n",
       "<polyline clip-path=\"url(#clip070)\" style=\"stroke:#000000; stroke-linecap:round; stroke-linejoin:round; stroke-width:4; stroke-opacity:1; fill:none\" points=\"249.542,953.467 268.44,953.467 \"/>\n",
       "<polyline clip-path=\"url(#clip070)\" style=\"stroke:#000000; stroke-linecap:round; stroke-linejoin:round; stroke-width:4; stroke-opacity:1; fill:none\" points=\"249.542,718.579 268.44,718.579 \"/>\n",
       "<polyline clip-path=\"url(#clip070)\" style=\"stroke:#000000; stroke-linecap:round; stroke-linejoin:round; stroke-width:4; stroke-opacity:1; fill:none\" points=\"249.542,483.69 268.44,483.69 \"/>\n",
       "<polyline clip-path=\"url(#clip070)\" style=\"stroke:#000000; stroke-linecap:round; stroke-linejoin:round; stroke-width:4; stroke-opacity:1; fill:none\" points=\"249.542,248.801 268.44,248.801 \"/>\n",
       "<path clip-path=\"url(#clip070)\" d=\"M126.205 1174.15 Q122.593 1174.15 120.765 1177.72 Q118.959 1181.26 118.959 1188.39 Q118.959 1195.5 120.765 1199.06 Q122.593 1202.6 126.205 1202.6 Q129.839 1202.6 131.644 1199.06 Q133.473 1195.5 133.473 1188.39 Q133.473 1181.26 131.644 1177.72 Q129.839 1174.15 126.205 1174.15 M126.205 1170.45 Q132.015 1170.45 135.07 1175.06 Q138.149 1179.64 138.149 1188.39 Q138.149 1197.12 135.07 1201.72 Q132.015 1206.31 126.205 1206.31 Q120.394 1206.31 117.316 1201.72 Q114.26 1197.12 114.26 1188.39 Q114.26 1179.64 117.316 1175.06 Q120.394 1170.45 126.205 1170.45 Z\" fill=\"#000000\" fill-rule=\"nonzero\" fill-opacity=\"1\" /><path clip-path=\"url(#clip070)\" d=\"M146.366 1199.76 L151.251 1199.76 L151.251 1205.64 L146.366 1205.64 L146.366 1199.76 Z\" fill=\"#000000\" fill-rule=\"nonzero\" fill-opacity=\"1\" /><path clip-path=\"url(#clip070)\" d=\"M162.246 1201.7 L169.885 1201.7 L169.885 1175.34 L161.575 1177 L161.575 1172.74 L169.839 1171.08 L174.514 1171.08 L174.514 1201.7 L182.153 1201.7 L182.153 1205.64 L162.246 1205.64 L162.246 1201.7 Z\" fill=\"#000000\" fill-rule=\"nonzero\" fill-opacity=\"1\" /><path clip-path=\"url(#clip070)\" d=\"M201.598 1174.15 Q197.987 1174.15 196.158 1177.72 Q194.352 1181.26 194.352 1188.39 Q194.352 1195.5 196.158 1199.06 Q197.987 1202.6 201.598 1202.6 Q205.232 1202.6 207.037 1199.06 Q208.866 1195.5 208.866 1188.39 Q208.866 1181.26 207.037 1177.72 Q205.232 1174.15 201.598 1174.15 M201.598 1170.45 Q207.408 1170.45 210.463 1175.06 Q213.542 1179.64 213.542 1188.39 Q213.542 1197.12 210.463 1201.72 Q207.408 1206.31 201.598 1206.31 Q195.787 1206.31 192.709 1201.72 Q189.653 1197.12 189.653 1188.39 Q189.653 1179.64 192.709 1175.06 Q195.787 1170.45 201.598 1170.45 Z\" fill=\"#000000\" fill-rule=\"nonzero\" fill-opacity=\"1\" /><path clip-path=\"url(#clip070)\" d=\"M127.2 939.266 Q123.589 939.266 121.76 942.831 Q119.955 946.373 119.955 953.502 Q119.955 960.609 121.76 964.173 Q123.589 967.715 127.2 967.715 Q130.834 967.715 132.64 964.173 Q134.468 960.609 134.468 953.502 Q134.468 946.373 132.64 942.831 Q130.834 939.266 127.2 939.266 M127.2 935.562 Q133.01 935.562 136.066 940.169 Q139.144 944.752 139.144 953.502 Q139.144 962.229 136.066 966.835 Q133.01 971.419 127.2 971.419 Q121.39 971.419 118.311 966.835 Q115.256 962.229 115.256 953.502 Q115.256 944.752 118.311 940.169 Q121.39 935.562 127.2 935.562 Z\" fill=\"#000000\" fill-rule=\"nonzero\" fill-opacity=\"1\" /><path clip-path=\"url(#clip070)\" d=\"M147.362 964.868 L152.246 964.868 L152.246 970.747 L147.362 970.747 L147.362 964.868 Z\" fill=\"#000000\" fill-rule=\"nonzero\" fill-opacity=\"1\" /><path clip-path=\"url(#clip070)\" d=\"M163.241 966.812 L170.88 966.812 L170.88 940.447 L162.57 942.113 L162.57 937.854 L170.834 936.187 L175.51 936.187 L175.51 966.812 L183.149 966.812 L183.149 970.747 L163.241 970.747 L163.241 966.812 Z\" fill=\"#000000\" fill-rule=\"nonzero\" fill-opacity=\"1\" /><path clip-path=\"url(#clip070)\" d=\"M192.639 936.187 L210.996 936.187 L210.996 940.123 L196.922 940.123 L196.922 948.595 Q197.94 948.248 198.959 948.086 Q199.977 947.9 200.996 947.9 Q206.783 947.9 210.162 951.072 Q213.542 954.243 213.542 959.66 Q213.542 965.238 210.07 968.34 Q206.598 971.419 200.278 971.419 Q198.102 971.419 195.834 971.048 Q193.588 970.678 191.181 969.937 L191.181 965.238 Q193.264 966.372 195.487 966.928 Q197.709 967.484 200.186 967.484 Q204.19 967.484 206.528 965.377 Q208.866 963.271 208.866 959.66 Q208.866 956.048 206.528 953.942 Q204.19 951.835 200.186 951.835 Q198.311 951.835 196.436 952.252 Q194.584 952.669 192.639 953.548 L192.639 936.187 Z\" fill=\"#000000\" fill-rule=\"nonzero\" fill-opacity=\"1\" /><path clip-path=\"url(#clip070)\" d=\"M126.205 704.377 Q122.593 704.377 120.765 707.942 Q118.959 711.484 118.959 718.613 Q118.959 725.72 120.765 729.285 Q122.593 732.826 126.205 732.826 Q129.839 732.826 131.644 729.285 Q133.473 725.72 133.473 718.613 Q133.473 711.484 131.644 707.942 Q129.839 704.377 126.205 704.377 M126.205 700.674 Q132.015 700.674 135.07 705.28 Q138.149 709.863 138.149 718.613 Q138.149 727.34 135.07 731.947 Q132.015 736.53 126.205 736.53 Q120.394 736.53 117.316 731.947 Q114.26 727.34 114.26 718.613 Q114.26 709.863 117.316 705.28 Q120.394 700.674 126.205 700.674 Z\" fill=\"#000000\" fill-rule=\"nonzero\" fill-opacity=\"1\" /><path clip-path=\"url(#clip070)\" d=\"M146.366 729.979 L151.251 729.979 L151.251 735.859 L146.366 735.859 L146.366 729.979 Z\" fill=\"#000000\" fill-rule=\"nonzero\" fill-opacity=\"1\" /><path clip-path=\"url(#clip070)\" d=\"M165.464 731.923 L181.783 731.923 L181.783 735.859 L159.839 735.859 L159.839 731.923 Q162.501 729.169 167.084 724.539 Q171.69 719.886 172.871 718.544 Q175.116 716.021 175.996 714.285 Q176.899 712.525 176.899 710.836 Q176.899 708.081 174.954 706.345 Q173.033 704.609 169.931 704.609 Q167.732 704.609 165.278 705.373 Q162.848 706.137 160.07 707.687 L160.07 702.965 Q162.894 701.831 165.348 701.252 Q167.802 700.674 169.839 700.674 Q175.209 700.674 178.403 703.359 Q181.598 706.044 181.598 710.535 Q181.598 712.664 180.788 714.586 Q180.001 716.484 177.894 719.076 Q177.315 719.748 174.214 722.965 Q171.112 726.16 165.464 731.923 Z\" fill=\"#000000\" fill-rule=\"nonzero\" fill-opacity=\"1\" /><path clip-path=\"url(#clip070)\" d=\"M201.598 704.377 Q197.987 704.377 196.158 707.942 Q194.352 711.484 194.352 718.613 Q194.352 725.72 196.158 729.285 Q197.987 732.826 201.598 732.826 Q205.232 732.826 207.037 729.285 Q208.866 725.72 208.866 718.613 Q208.866 711.484 207.037 707.942 Q205.232 704.377 201.598 704.377 M201.598 700.674 Q207.408 700.674 210.463 705.28 Q213.542 709.863 213.542 718.613 Q213.542 727.34 210.463 731.947 Q207.408 736.53 201.598 736.53 Q195.787 736.53 192.709 731.947 Q189.653 727.34 189.653 718.613 Q189.653 709.863 192.709 705.28 Q195.787 700.674 201.598 700.674 Z\" fill=\"#000000\" fill-rule=\"nonzero\" fill-opacity=\"1\" /><path clip-path=\"url(#clip070)\" d=\"M127.2 469.488 Q123.589 469.488 121.76 473.053 Q119.955 476.595 119.955 483.725 Q119.955 490.831 121.76 494.396 Q123.589 497.937 127.2 497.937 Q130.834 497.937 132.64 494.396 Q134.468 490.831 134.468 483.725 Q134.468 476.595 132.64 473.053 Q130.834 469.488 127.2 469.488 M127.2 465.785 Q133.01 465.785 136.066 470.391 Q139.144 474.975 139.144 483.725 Q139.144 492.451 136.066 497.058 Q133.01 501.641 127.2 501.641 Q121.39 501.641 118.311 497.058 Q115.256 492.451 115.256 483.725 Q115.256 474.975 118.311 470.391 Q121.39 465.785 127.2 465.785 Z\" fill=\"#000000\" fill-rule=\"nonzero\" fill-opacity=\"1\" /><path clip-path=\"url(#clip070)\" d=\"M147.362 495.09 L152.246 495.09 L152.246 500.97 L147.362 500.97 L147.362 495.09 Z\" fill=\"#000000\" fill-rule=\"nonzero\" fill-opacity=\"1\" /><path clip-path=\"url(#clip070)\" d=\"M166.459 497.035 L182.778 497.035 L182.778 500.97 L160.834 500.97 L160.834 497.035 Q163.496 494.28 168.079 489.65 Q172.686 484.998 173.866 483.655 Q176.112 481.132 176.991 479.396 Q177.894 477.637 177.894 475.947 Q177.894 473.192 175.95 471.456 Q174.028 469.72 170.927 469.72 Q168.727 469.72 166.274 470.484 Q163.843 471.248 161.065 472.799 L161.065 468.076 Q163.89 466.942 166.343 466.363 Q168.797 465.785 170.834 465.785 Q176.204 465.785 179.399 468.47 Q182.593 471.155 182.593 475.646 Q182.593 477.775 181.783 479.697 Q180.996 481.595 178.889 484.187 Q178.311 484.859 175.209 488.076 Q172.107 491.271 166.459 497.035 Z\" fill=\"#000000\" fill-rule=\"nonzero\" fill-opacity=\"1\" /><path clip-path=\"url(#clip070)\" d=\"M192.639 466.41 L210.996 466.41 L210.996 470.345 L196.922 470.345 L196.922 478.817 Q197.94 478.47 198.959 478.308 Q199.977 478.123 200.996 478.123 Q206.783 478.123 210.162 481.294 Q213.542 484.465 213.542 489.882 Q213.542 495.461 210.07 498.562 Q206.598 501.641 200.278 501.641 Q198.102 501.641 195.834 501.271 Q193.588 500.9 191.181 500.16 L191.181 495.461 Q193.264 496.595 195.487 497.15 Q197.709 497.706 200.186 497.706 Q204.19 497.706 206.528 495.599 Q208.866 493.493 208.866 489.882 Q208.866 486.271 206.528 484.164 Q204.19 482.058 200.186 482.058 Q198.311 482.058 196.436 482.475 Q194.584 482.891 192.639 483.771 L192.639 466.41 Z\" fill=\"#000000\" fill-rule=\"nonzero\" fill-opacity=\"1\" /><path clip-path=\"url(#clip070)\" d=\"M126.205 234.6 Q122.593 234.6 120.765 238.164 Q118.959 241.706 118.959 248.836 Q118.959 255.942 120.765 259.507 Q122.593 263.049 126.205 263.049 Q129.839 263.049 131.644 259.507 Q133.473 255.942 133.473 248.836 Q133.473 241.706 131.644 238.164 Q129.839 234.6 126.205 234.6 M126.205 230.896 Q132.015 230.896 135.07 235.502 Q138.149 240.086 138.149 248.836 Q138.149 257.562 135.07 262.169 Q132.015 266.752 126.205 266.752 Q120.394 266.752 117.316 262.169 Q114.26 257.562 114.26 248.836 Q114.26 240.086 117.316 235.502 Q120.394 230.896 126.205 230.896 Z\" fill=\"#000000\" fill-rule=\"nonzero\" fill-opacity=\"1\" /><path clip-path=\"url(#clip070)\" d=\"M146.366 260.201 L151.251 260.201 L151.251 266.081 L146.366 266.081 L146.366 260.201 Z\" fill=\"#000000\" fill-rule=\"nonzero\" fill-opacity=\"1\" /><path clip-path=\"url(#clip070)\" d=\"M175.602 247.447 Q178.959 248.164 180.834 250.433 Q182.732 252.701 182.732 256.035 Q182.732 261.15 179.214 263.951 Q175.695 266.752 169.214 266.752 Q167.038 266.752 164.723 266.312 Q162.431 265.896 159.978 265.039 L159.978 260.525 Q161.922 261.66 164.237 262.238 Q166.552 262.817 169.075 262.817 Q173.473 262.817 175.764 261.081 Q178.079 259.345 178.079 256.035 Q178.079 252.979 175.926 251.266 Q173.797 249.53 169.977 249.53 L165.95 249.53 L165.95 245.688 L170.163 245.688 Q173.612 245.688 175.44 244.322 Q177.269 242.933 177.269 240.34 Q177.269 237.678 175.371 236.266 Q173.496 234.831 169.977 234.831 Q168.056 234.831 165.857 235.248 Q163.658 235.664 161.019 236.544 L161.019 232.377 Q163.681 231.637 165.996 231.266 Q168.334 230.896 170.394 230.896 Q175.718 230.896 178.82 233.327 Q181.922 235.734 181.922 239.854 Q181.922 242.725 180.278 244.715 Q178.635 246.683 175.602 247.447 Z\" fill=\"#000000\" fill-rule=\"nonzero\" fill-opacity=\"1\" /><path clip-path=\"url(#clip070)\" d=\"M201.598 234.6 Q197.987 234.6 196.158 238.164 Q194.352 241.706 194.352 248.836 Q194.352 255.942 196.158 259.507 Q197.987 263.049 201.598 263.049 Q205.232 263.049 207.037 259.507 Q208.866 255.942 208.866 248.836 Q208.866 241.706 207.037 238.164 Q205.232 234.6 201.598 234.6 M201.598 230.896 Q207.408 230.896 210.463 235.502 Q213.542 240.086 213.542 248.836 Q213.542 257.562 210.463 262.169 Q207.408 266.752 201.598 266.752 Q195.787 266.752 192.709 262.169 Q189.653 257.562 189.653 248.836 Q189.653 240.086 192.709 235.502 Q195.787 230.896 201.598 230.896 Z\" fill=\"#000000\" fill-rule=\"nonzero\" fill-opacity=\"1\" /><path clip-path=\"url(#clip070)\" d=\"M21.7677 1184.09 L39.6235 1184.09 L39.6235 1176.01 Q39.6235 1171.52 37.3 1169.07 Q34.9765 1166.62 30.6797 1166.62 Q26.4147 1166.62 24.0912 1169.07 Q21.7677 1171.52 21.7677 1176.01 L21.7677 1184.09 M16.4842 1190.52 L16.4842 1176.01 Q16.4842 1168.02 20.1126 1163.94 Q23.7092 1159.84 30.6797 1159.84 Q37.7138 1159.84 41.3104 1163.94 Q44.907 1168.02 44.907 1176.01 L44.907 1184.09 L64.0042 1184.09 L64.0042 1190.52 L16.4842 1190.52 Z\" fill=\"#000000\" fill-rule=\"nonzero\" fill-opacity=\"1\" /><path clip-path=\"url(#clip070)\" d=\"M32.4621 1139.98 Q32.4621 1144.69 36.1542 1147.42 Q39.8145 1150.16 46.212 1150.16 Q52.6095 1150.16 56.3017 1147.46 Q59.9619 1144.72 59.9619 1139.98 Q59.9619 1135.3 56.2698 1132.56 Q52.5777 1129.82 46.212 1129.82 Q39.8781 1129.82 36.186 1132.56 Q32.4621 1135.3 32.4621 1139.98 M27.4968 1139.98 Q27.4968 1132.34 32.4621 1127.98 Q37.4273 1123.62 46.212 1123.62 Q54.9649 1123.62 59.9619 1127.98 Q64.9272 1132.34 64.9272 1139.98 Q64.9272 1147.65 59.9619 1152.01 Q54.9649 1156.34 46.212 1156.34 Q37.4273 1156.34 32.4621 1152.01 Q27.4968 1147.65 27.4968 1139.98 Z\" fill=\"#000000\" fill-rule=\"nonzero\" fill-opacity=\"1\" /><path clip-path=\"url(#clip070)\" d=\"M33.8307 1093.25 Q33.2578 1094.24 33.0032 1095.42 Q32.7167 1096.56 32.7167 1097.96 Q32.7167 1102.93 35.9632 1105.6 Q39.1779 1108.24 45.2253 1108.24 L64.0042 1108.24 L64.0042 1114.13 L28.3562 1114.13 L28.3562 1108.24 L33.8944 1108.24 Q30.6479 1106.4 29.0883 1103.44 Q27.4968 1100.48 27.4968 1096.24 Q27.4968 1095.64 27.5923 1094.91 Q27.656 1094.17 27.8151 1093.28 L33.8307 1093.25 Z\" fill=\"#000000\" fill-rule=\"nonzero\" fill-opacity=\"1\" /><path clip-path=\"url(#clip070)\" d=\"M18.2347 1081.32 L28.3562 1081.32 L28.3562 1069.25 L32.9077 1069.25 L32.9077 1081.32 L52.2594 1081.32 Q56.6199 1081.32 57.8613 1080.14 Q59.1026 1078.93 59.1026 1075.27 L59.1026 1069.25 L64.0042 1069.25 L64.0042 1075.27 Q64.0042 1082.05 61.4897 1084.63 Q58.9434 1087.2 52.2594 1087.2 L32.9077 1087.2 L32.9077 1091.5 L28.3562 1091.5 L28.3562 1087.2 L18.2347 1087.2 L18.2347 1081.32 Z\" fill=\"#000000\" fill-rule=\"nonzero\" fill-opacity=\"1\" /><path clip-path=\"url(#clip070)\" d=\"M14.479 1043.5 L19.3487 1043.5 L19.3487 1049.1 Q19.3487 1052.26 20.6219 1053.5 Q21.895 1054.71 25.2052 1054.71 L28.3562 1054.71 L28.3562 1045.06 L32.9077 1045.06 L32.9077 1054.71 L64.0042 1054.71 L64.0042 1060.6 L32.9077 1060.6 L32.9077 1066.2 L28.3562 1066.2 L28.3562 1060.6 L25.8736 1060.6 Q19.9216 1060.6 17.2162 1057.83 Q14.479 1055.06 14.479 1049.04 L14.479 1043.5 Z\" fill=\"#000000\" fill-rule=\"nonzero\" fill-opacity=\"1\" /><path clip-path=\"url(#clip070)\" d=\"M32.4621 1024.79 Q32.4621 1029.5 36.1542 1032.24 Q39.8145 1034.97 46.212 1034.97 Q52.6095 1034.97 56.3017 1032.27 Q59.9619 1029.53 59.9619 1024.79 Q59.9619 1020.11 56.2698 1017.37 Q52.5777 1014.63 46.212 1014.63 Q39.8781 1014.63 36.186 1017.37 Q32.4621 1020.11 32.4621 1024.79 M27.4968 1024.79 Q27.4968 1017.15 32.4621 1012.79 Q37.4273 1008.43 46.212 1008.43 Q54.9649 1008.43 59.9619 1012.79 Q64.9272 1017.15 64.9272 1024.79 Q64.9272 1032.46 59.9619 1036.82 Q54.9649 1041.15 46.212 1041.15 Q37.4273 1041.15 32.4621 1036.82 Q27.4968 1032.46 27.4968 1024.79 Z\" fill=\"#000000\" fill-rule=\"nonzero\" fill-opacity=\"1\" /><path clip-path=\"url(#clip070)\" d=\"M14.479 998.72 L14.479 992.864 L64.0042 992.864 L64.0042 998.72 L14.479 998.72 Z\" fill=\"#000000\" fill-rule=\"nonzero\" fill-opacity=\"1\" /><path clip-path=\"url(#clip070)\" d=\"M28.3562 980.61 L28.3562 974.754 L64.0042 974.754 L64.0042 980.61 L28.3562 980.61 M14.479 980.61 L14.479 974.754 L21.895 974.754 L21.895 980.61 L14.479 980.61 Z\" fill=\"#000000\" fill-rule=\"nonzero\" fill-opacity=\"1\" /><path clip-path=\"url(#clip070)\" d=\"M32.4621 948.686 Q32.4621 953.397 36.1542 956.134 Q39.8145 958.871 46.212 958.871 Q52.6095 958.871 56.3017 956.166 Q59.9619 953.428 59.9619 948.686 Q59.9619 944.007 56.2698 941.27 Q52.5777 938.533 46.212 938.533 Q39.8781 938.533 36.186 941.27 Q32.4621 944.007 32.4621 948.686 M27.4968 948.686 Q27.4968 941.047 32.4621 936.687 Q37.4273 932.326 46.212 932.326 Q54.9649 932.326 59.9619 936.687 Q64.9272 941.047 64.9272 948.686 Q64.9272 956.357 59.9619 960.717 Q54.9649 965.046 46.212 965.046 Q37.4273 965.046 32.4621 960.717 Q27.4968 956.357 27.4968 948.686 Z\" fill=\"#000000\" fill-rule=\"nonzero\" fill-opacity=\"1\" /><path clip-path=\"url(#clip070)\" d=\"M41.7242 879.109 Q42.4244 877.04 44.7161 875.098 Q47.0077 873.125 51.0181 871.152 L64.0042 864.627 L64.0042 871.534 L51.8138 877.613 Q47.0395 879.968 45.48 882.196 Q43.9204 884.392 43.9204 888.212 L43.9204 895.214 L64.0042 895.214 L64.0042 901.643 L16.4842 901.643 L16.4842 887.13 Q16.4842 878.981 19.8898 874.971 Q23.2955 870.961 30.1704 870.961 Q34.6582 870.961 37.6183 873.061 Q40.5784 875.13 41.7242 879.109 M21.7677 895.214 L38.6368 895.214 L38.6368 887.13 Q38.6368 882.483 36.5043 880.127 Q34.34 877.74 30.1704 877.74 Q26.0009 877.74 23.9002 880.127 Q21.7677 882.483 21.7677 887.13 L21.7677 895.214 Z\" fill=\"#000000\" fill-rule=\"nonzero\" fill-opacity=\"1\" /><path clip-path=\"url(#clip070)\" d=\"M44.7161 829.042 L47.5806 829.042 L47.5806 855.969 Q53.6281 855.587 56.8109 852.341 Q59.9619 849.063 59.9619 843.238 Q59.9619 839.864 59.1344 836.713 Q58.3069 833.53 56.6518 830.411 L62.1899 830.411 Q63.5267 833.562 64.227 836.872 Q64.9272 840.182 64.9272 843.588 Q64.9272 852.118 59.9619 857.115 Q54.9967 862.081 46.5303 862.081 Q37.7774 862.081 32.6531 857.37 Q27.4968 852.627 27.4968 844.607 Q27.4968 837.413 32.1438 833.244 Q36.7589 829.042 44.7161 829.042 M42.9973 834.899 Q38.1912 834.963 35.3266 837.604 Q32.4621 840.214 32.4621 844.543 Q32.4621 849.445 35.2312 852.405 Q38.0002 855.333 43.0292 855.778 L42.9973 834.899 Z\" fill=\"#000000\" fill-rule=\"nonzero\" fill-opacity=\"1\" /><path clip-path=\"url(#clip070)\" d=\"M28.3562 822.836 L28.3562 816.979 L56.1743 809.659 L28.3562 802.37 L28.3562 795.463 L56.1743 788.143 L28.3562 780.854 L28.3562 774.998 L64.0042 784.323 L64.0042 791.23 L34.7856 798.901 L64.0042 806.603 L64.0042 813.51 L28.3562 822.836 Z\" fill=\"#000000\" fill-rule=\"nonzero\" fill-opacity=\"1\" /><path clip-path=\"url(#clip070)\" d=\"M46.0847 749.917 Q46.0847 757.015 47.7079 759.752 Q49.3312 762.489 53.2461 762.489 Q56.3653 762.489 58.2114 760.452 Q60.0256 758.383 60.0256 754.85 Q60.0256 749.98 56.5881 747.052 Q53.1188 744.092 47.3897 744.092 L46.0847 744.092 L46.0847 749.917 M43.6657 738.236 L64.0042 738.236 L64.0042 744.092 L58.5933 744.092 Q61.8398 746.097 63.3994 749.089 Q64.9272 752.081 64.9272 756.41 Q64.9272 761.884 61.8716 765.131 Q58.7843 768.345 53.6281 768.345 Q47.6125 768.345 44.5569 764.335 Q41.5014 760.293 41.5014 752.304 L41.5014 744.092 L40.9285 744.092 Q36.8862 744.092 34.6901 746.766 Q32.4621 749.407 32.4621 754.214 Q32.4621 757.269 33.1941 760.166 Q33.9262 763.062 35.3903 765.736 L29.9795 765.736 Q28.7381 762.521 28.1334 759.497 Q27.4968 756.473 27.4968 753.609 Q27.4968 745.875 31.5072 742.055 Q35.5176 738.236 43.6657 738.236 Z\" fill=\"#000000\" fill-rule=\"nonzero\" fill-opacity=\"1\" /><path clip-path=\"url(#clip070)\" d=\"M33.8307 705.516 Q33.2578 706.503 33.0032 707.68 Q32.7167 708.826 32.7167 710.227 Q32.7167 715.192 35.9632 717.865 Q39.1779 720.507 45.2253 720.507 L64.0042 720.507 L64.0042 726.395 L28.3562 726.395 L28.3562 720.507 L33.8944 720.507 Q30.6479 718.661 29.0883 715.701 Q27.4968 712.741 27.4968 708.508 Q27.4968 707.903 27.5923 707.171 Q27.656 706.439 27.8151 705.548 L33.8307 705.516 Z\" fill=\"#000000\" fill-rule=\"nonzero\" fill-opacity=\"1\" /><path clip-path=\"url(#clip070)\" d=\"M33.7671 677.061 L14.479 677.061 L14.479 671.205 L64.0042 671.205 L64.0042 677.061 L58.657 677.061 Q61.8398 678.907 63.3994 681.74 Q64.9272 684.541 64.9272 688.488 Q64.9272 694.949 59.771 699.023 Q54.6147 703.065 46.212 703.065 Q37.8093 703.065 32.6531 699.023 Q27.4968 694.949 27.4968 688.488 Q27.4968 684.541 29.0564 681.74 Q30.5842 678.907 33.7671 677.061 M46.212 697.018 Q52.6732 697.018 56.3653 694.376 Q60.0256 691.702 60.0256 687.055 Q60.0256 682.408 56.3653 679.735 Q52.6732 677.061 46.212 677.061 Q39.7508 677.061 36.0905 679.735 Q32.3984 682.408 32.3984 687.055 Q32.3984 691.702 36.0905 694.376 Q39.7508 697.018 46.212 697.018 Z\" fill=\"#000000\" fill-rule=\"nonzero\" fill-opacity=\"1\" /><path clip-path=\"url(#clip070)\" d=\"M14.5426 624.353 Q21.8632 628.618 29.0246 630.687 Q36.186 632.756 43.5384 632.756 Q50.8908 632.756 58.1159 630.687 Q65.3091 628.586 72.5979 624.353 L72.5979 629.446 Q65.1182 634.22 57.8931 636.607 Q50.668 638.962 43.5384 638.962 Q36.4406 638.962 29.2474 636.607 Q22.0542 634.252 14.5426 629.446 L14.5426 624.353 Z\" fill=\"#000000\" fill-rule=\"nonzero\" fill-opacity=\"1\" /><path clip-path=\"url(#clip070)\" d=\"M14.479 612.99 L14.479 607.134 L64.0042 607.134 L64.0042 612.99 L14.479 612.99 Z\" fill=\"#000000\" fill-rule=\"nonzero\" fill-opacity=\"1\" /><path clip-path=\"url(#clip070)\" d=\"M32.4621 581.066 Q32.4621 585.777 36.1542 588.514 Q39.8145 591.252 46.212 591.252 Q52.6095 591.252 56.3017 588.546 Q59.9619 585.809 59.9619 581.066 Q59.9619 576.388 56.2698 573.65 Q52.5777 570.913 46.212 570.913 Q39.8781 570.913 36.186 573.65 Q32.4621 576.388 32.4621 581.066 M27.4968 581.066 Q27.4968 573.428 32.4621 569.067 Q37.4273 564.707 46.212 564.707 Q54.9649 564.707 59.9619 569.067 Q64.9272 573.428 64.9272 581.066 Q64.9272 588.737 59.9619 593.098 Q54.9649 597.426 46.212 597.426 Q37.4273 597.426 32.4621 593.098 Q27.4968 588.737 27.4968 581.066 Z\" fill=\"#000000\" fill-rule=\"nonzero\" fill-opacity=\"1\" /><path clip-path=\"url(#clip070)\" d=\"M45.7664 531.541 Q39.4007 531.541 35.8996 534.183 Q32.3984 536.793 32.3984 541.535 Q32.3984 546.246 35.8996 548.888 Q39.4007 551.498 45.7664 551.498 Q52.1003 551.498 55.6014 548.888 Q59.1026 546.246 59.1026 541.535 Q59.1026 536.793 55.6014 534.183 Q52.1003 531.541 45.7664 531.541 M59.58 525.685 Q68.683 525.685 73.1071 529.727 Q77.5631 533.769 77.5631 542.108 Q77.5631 545.196 77.0857 547.933 Q76.6401 550.67 75.6852 553.248 L69.9879 553.248 Q71.3884 550.67 72.0568 548.156 Q72.7252 545.641 72.7252 543.031 Q72.7252 537.27 69.7015 534.406 Q66.7096 531.541 60.6303 531.541 L57.7339 531.541 Q60.885 533.355 62.4446 536.188 Q64.0042 539.021 64.0042 542.968 Q64.0042 549.524 59.0071 553.535 Q54.01 557.545 45.7664 557.545 Q37.491 557.545 32.4939 553.535 Q27.4968 549.524 27.4968 542.968 Q27.4968 539.021 29.0564 536.188 Q30.616 533.355 33.7671 531.541 L28.3562 531.541 L28.3562 525.685 L59.58 525.685 Z\" fill=\"#000000\" fill-rule=\"nonzero\" fill-opacity=\"1\" /><path clip-path=\"url(#clip070)\" d=\"M33.8307 472.245 Q33.2578 473.231 33.0032 474.409 Q32.7167 475.555 32.7167 476.955 Q32.7167 481.921 35.9632 484.594 Q39.1779 487.236 45.2253 487.236 L64.0042 487.236 L64.0042 493.124 L28.3562 493.124 L28.3562 487.236 L33.8944 487.236 Q30.6479 485.39 29.0883 482.43 Q27.4968 479.47 27.4968 475.237 Q27.4968 474.632 27.5923 473.9 Q27.656 473.168 27.8151 472.276 L33.8307 472.245 Z\" fill=\"#000000\" fill-rule=\"nonzero\" fill-opacity=\"1\" /><path clip-path=\"url(#clip070)\" d=\"M44.7161 437.042 L47.5806 437.042 L47.5806 463.969 Q53.6281 463.587 56.8109 460.341 Q59.9619 457.062 59.9619 451.238 Q59.9619 447.864 59.1344 444.713 Q58.3069 441.53 56.6518 438.411 L62.1899 438.411 Q63.5267 441.562 64.227 444.872 Q64.9272 448.182 64.9272 451.588 Q64.9272 460.118 59.9619 465.115 Q54.9967 470.08 46.5303 470.08 Q37.7774 470.08 32.6531 465.37 Q27.4968 460.627 27.4968 452.606 Q27.4968 445.413 32.1438 441.244 Q36.7589 437.042 44.7161 437.042 M42.9973 442.899 Q38.1912 442.962 35.3266 445.604 Q32.4621 448.214 32.4621 452.543 Q32.4621 457.444 35.2312 460.404 Q38.0002 463.333 43.0292 463.778 L42.9973 442.899 Z\" fill=\"#000000\" fill-rule=\"nonzero\" fill-opacity=\"1\" /><path clip-path=\"url(#clip070)\" d=\"M18.2347 421.637 L28.3562 421.637 L28.3562 409.574 L32.9077 409.574 L32.9077 421.637 L52.2594 421.637 Q56.6199 421.637 57.8613 420.46 Q59.1026 419.25 59.1026 415.59 L59.1026 409.574 L64.0042 409.574 L64.0042 415.59 Q64.0042 422.369 61.4897 424.947 Q58.9434 427.526 52.2594 427.526 L32.9077 427.526 L32.9077 431.822 L28.3562 431.822 L28.3562 427.526 L18.2347 427.526 L18.2347 421.637 Z\" fill=\"#000000\" fill-rule=\"nonzero\" fill-opacity=\"1\" /><path clip-path=\"url(#clip070)\" d=\"M49.9359 402.476 L28.3562 402.476 L28.3562 396.62 L49.7131 396.62 Q54.7739 396.62 57.3202 394.647 Q59.8346 392.673 59.8346 388.727 Q59.8346 383.984 56.8109 381.247 Q53.7872 378.478 48.5673 378.478 L28.3562 378.478 L28.3562 372.621 L64.0042 372.621 L64.0042 378.478 L58.5296 378.478 Q61.7762 380.61 63.3676 383.443 Q64.9272 386.244 64.9272 389.968 Q64.9272 396.111 61.1078 399.294 Q57.2883 402.476 49.9359 402.476 M27.4968 387.74 L27.4968 387.74 Z\" fill=\"#000000\" fill-rule=\"nonzero\" fill-opacity=\"1\" /><path clip-path=\"url(#clip070)\" d=\"M33.8307 339.902 Q33.2578 340.888 33.0032 342.066 Q32.7167 343.212 32.7167 344.612 Q32.7167 349.577 35.9632 352.251 Q39.1779 354.893 45.2253 354.893 L64.0042 354.893 L64.0042 360.781 L28.3562 360.781 L28.3562 354.893 L33.8944 354.893 Q30.6479 353.047 29.0883 350.087 Q27.4968 347.127 27.4968 342.893 Q27.4968 342.289 27.5923 341.557 Q27.656 340.825 27.8151 339.933 L33.8307 339.902 Z\" fill=\"#000000\" fill-rule=\"nonzero\" fill-opacity=\"1\" /><path clip-path=\"url(#clip070)\" d=\"M42.4881 305.272 L64.0042 305.272 L64.0042 311.129 L42.679 311.129 Q37.6183 311.129 35.1038 313.102 Q32.5894 315.075 32.5894 319.022 Q32.5894 323.765 35.6131 326.502 Q38.6368 329.239 43.8567 329.239 L64.0042 329.239 L64.0042 335.127 L28.3562 335.127 L28.3562 329.239 L33.8944 329.239 Q30.6797 327.138 29.0883 324.306 Q27.4968 321.441 27.4968 317.717 Q27.4968 311.574 31.3163 308.423 Q35.1038 305.272 42.4881 305.272 Z\" fill=\"#000000\" fill-rule=\"nonzero\" fill-opacity=\"1\" /><path clip-path=\"url(#clip070)\" d=\"M14.5426 294.514 L14.5426 289.422 Q22.0542 284.647 29.2474 282.292 Q36.4406 279.905 43.5384 279.905 Q50.668 279.905 57.8931 282.292 Q65.1182 284.647 72.5979 289.422 L72.5979 294.514 Q65.3091 290.281 58.1159 288.212 Q50.8908 286.111 43.5384 286.111 Q36.186 286.111 29.0246 288.212 Q21.8632 290.281 14.5426 294.514 Z\" fill=\"#000000\" fill-rule=\"nonzero\" fill-opacity=\"1\" /><polyline clip-path=\"url(#clip072)\" style=\"stroke:#b0b0b0; stroke-linecap:round; stroke-linejoin:round; stroke-width:16; stroke-opacity:1; fill:none\" points=\"1126.61,1270.95 1126.61,1270.95 1126.61,1270.95 1126.61,1270.95 1126.61,1270.95 1126.61,1270.95 1126.61,1270.95 1126.61,1270.94 1127.25,1224.49 1129.66,1170.29 1133.86,1116.08 1139.82,1061.88 1147.5,1007.67 1157.08,953.467 1169.23,899.262 1184.32,845.057 1202.41,790.852 1223.31,736.647 1250.13,682.442 1291.73,628.237 1347.01,574.032 1414.03,519.827 1490.88,465.621 1575.87,411.416 1667.52,357.211 1764.63,303.006 1866.21,248.801 1971.48,194.596 2080.02,140.391 2191.42,86.1857 \"/>\n",
       "<circle clip-path=\"url(#clip072)\" cx=\"1184.32\" cy=\"845.057\" r=\"10.8\" fill=\"#ffffff\" fill-rule=\"evenodd\" fill-opacity=\"1\" stroke=\"#000000\" stroke-opacity=\"1\" stroke-width=\"3.2\"/>\n",
       "<circle clip-path=\"url(#clip072)\" cx=\"1223.31\" cy=\"736.647\" r=\"10.8\" fill=\"#ffffff\" fill-rule=\"evenodd\" fill-opacity=\"1\" stroke=\"#000000\" stroke-opacity=\"1\" stroke-width=\"3.2\"/>\n",
       "<circle clip-path=\"url(#clip072)\" cx=\"1126.61\" cy=\"1270.95\" r=\"10.8\" fill=\"#ffffff\" fill-rule=\"evenodd\" fill-opacity=\"1\" stroke=\"#000000\" stroke-opacity=\"1\" stroke-width=\"3.2\"/>\n",
       "<circle clip-path=\"url(#clip072)\" cx=\"1202.41\" cy=\"790.852\" r=\"10.8\" fill=\"#ffffff\" fill-rule=\"evenodd\" fill-opacity=\"1\" stroke=\"#000000\" stroke-opacity=\"1\" stroke-width=\"3.2\"/>\n",
       "<circle clip-path=\"url(#clip072)\" cx=\"1126.61\" cy=\"1270.95\" r=\"10.8\" fill=\"#ffffff\" fill-rule=\"evenodd\" fill-opacity=\"1\" stroke=\"#000000\" stroke-opacity=\"1\" stroke-width=\"3.2\"/>\n",
       "<circle clip-path=\"url(#clip072)\" cx=\"1667.52\" cy=\"357.211\" r=\"10.8\" fill=\"#ffffff\" fill-rule=\"evenodd\" fill-opacity=\"1\" stroke=\"#000000\" stroke-opacity=\"1\" stroke-width=\"3.2\"/>\n",
       "<circle clip-path=\"url(#clip072)\" cx=\"1129.66\" cy=\"1170.29\" r=\"10.8\" fill=\"#ffffff\" fill-rule=\"evenodd\" fill-opacity=\"1\" stroke=\"#000000\" stroke-opacity=\"1\" stroke-width=\"3.2\"/>\n",
       "<circle clip-path=\"url(#clip072)\" cx=\"1971.48\" cy=\"194.596\" r=\"10.8\" fill=\"#ffffff\" fill-rule=\"evenodd\" fill-opacity=\"1\" stroke=\"#000000\" stroke-opacity=\"1\" stroke-width=\"3.2\"/>\n",
       "<circle clip-path=\"url(#clip072)\" cx=\"1126.61\" cy=\"1270.94\" r=\"10.8\" fill=\"#ffffff\" fill-rule=\"evenodd\" fill-opacity=\"1\" stroke=\"#000000\" stroke-opacity=\"1\" stroke-width=\"3.2\"/>\n",
       "<circle clip-path=\"url(#clip072)\" cx=\"1169.23\" cy=\"899.262\" r=\"10.8\" fill=\"#ffffff\" fill-rule=\"evenodd\" fill-opacity=\"1\" stroke=\"#000000\" stroke-opacity=\"1\" stroke-width=\"3.2\"/>\n",
       "<circle clip-path=\"url(#clip072)\" cx=\"2191.42\" cy=\"86.1857\" r=\"10.8\" fill=\"#ffffff\" fill-rule=\"evenodd\" fill-opacity=\"1\" stroke=\"#000000\" stroke-opacity=\"1\" stroke-width=\"3.2\"/>\n",
       "<circle clip-path=\"url(#clip072)\" cx=\"1126.61\" cy=\"1270.95\" r=\"10.8\" fill=\"#ffffff\" fill-rule=\"evenodd\" fill-opacity=\"1\" stroke=\"#000000\" stroke-opacity=\"1\" stroke-width=\"3.2\"/>\n",
       "<circle clip-path=\"url(#clip072)\" cx=\"1347.01\" cy=\"574.032\" r=\"10.8\" fill=\"#ffffff\" fill-rule=\"evenodd\" fill-opacity=\"1\" stroke=\"#000000\" stroke-opacity=\"1\" stroke-width=\"3.2\"/>\n",
       "<circle clip-path=\"url(#clip072)\" cx=\"1139.82\" cy=\"1061.88\" r=\"10.8\" fill=\"#ffffff\" fill-rule=\"evenodd\" fill-opacity=\"1\" stroke=\"#000000\" stroke-opacity=\"1\" stroke-width=\"3.2\"/>\n",
       "<circle clip-path=\"url(#clip072)\" cx=\"1764.63\" cy=\"303.006\" r=\"10.8\" fill=\"#ffffff\" fill-rule=\"evenodd\" fill-opacity=\"1\" stroke=\"#000000\" stroke-opacity=\"1\" stroke-width=\"3.2\"/>\n",
       "<circle clip-path=\"url(#clip072)\" cx=\"1126.61\" cy=\"1270.95\" r=\"10.8\" fill=\"#ffffff\" fill-rule=\"evenodd\" fill-opacity=\"1\" stroke=\"#000000\" stroke-opacity=\"1\" stroke-width=\"3.2\"/>\n",
       "<circle clip-path=\"url(#clip072)\" cx=\"1250.13\" cy=\"682.442\" r=\"10.8\" fill=\"#ffffff\" fill-rule=\"evenodd\" fill-opacity=\"1\" stroke=\"#000000\" stroke-opacity=\"1\" stroke-width=\"3.2\"/>\n",
       "<circle clip-path=\"url(#clip072)\" cx=\"1126.61\" cy=\"1270.95\" r=\"10.8\" fill=\"#ffffff\" fill-rule=\"evenodd\" fill-opacity=\"1\" stroke=\"#000000\" stroke-opacity=\"1\" stroke-width=\"3.2\"/>\n",
       "<circle clip-path=\"url(#clip072)\" cx=\"1291.73\" cy=\"628.237\" r=\"10.8\" fill=\"#ffffff\" fill-rule=\"evenodd\" fill-opacity=\"1\" stroke=\"#000000\" stroke-opacity=\"1\" stroke-width=\"3.2\"/>\n",
       "<circle clip-path=\"url(#clip072)\" cx=\"1490.88\" cy=\"465.621\" r=\"10.8\" fill=\"#ffffff\" fill-rule=\"evenodd\" fill-opacity=\"1\" stroke=\"#000000\" stroke-opacity=\"1\" stroke-width=\"3.2\"/>\n",
       "<circle clip-path=\"url(#clip072)\" cx=\"1133.86\" cy=\"1116.08\" r=\"10.8\" fill=\"#ffffff\" fill-rule=\"evenodd\" fill-opacity=\"1\" stroke=\"#000000\" stroke-opacity=\"1\" stroke-width=\"3.2\"/>\n",
       "<circle clip-path=\"url(#clip072)\" cx=\"1575.87\" cy=\"411.416\" r=\"10.8\" fill=\"#ffffff\" fill-rule=\"evenodd\" fill-opacity=\"1\" stroke=\"#000000\" stroke-opacity=\"1\" stroke-width=\"3.2\"/>\n",
       "<circle clip-path=\"url(#clip072)\" cx=\"1866.21\" cy=\"248.801\" r=\"10.8\" fill=\"#ffffff\" fill-rule=\"evenodd\" fill-opacity=\"1\" stroke=\"#000000\" stroke-opacity=\"1\" stroke-width=\"3.2\"/>\n",
       "<circle clip-path=\"url(#clip072)\" cx=\"1126.61\" cy=\"1270.95\" r=\"10.8\" fill=\"#ffffff\" fill-rule=\"evenodd\" fill-opacity=\"1\" stroke=\"#000000\" stroke-opacity=\"1\" stroke-width=\"3.2\"/>\n",
       "<circle clip-path=\"url(#clip072)\" cx=\"1414.03\" cy=\"519.827\" r=\"10.8\" fill=\"#ffffff\" fill-rule=\"evenodd\" fill-opacity=\"1\" stroke=\"#000000\" stroke-opacity=\"1\" stroke-width=\"3.2\"/>\n",
       "<circle clip-path=\"url(#clip072)\" cx=\"1157.08\" cy=\"953.467\" r=\"10.8\" fill=\"#ffffff\" fill-rule=\"evenodd\" fill-opacity=\"1\" stroke=\"#000000\" stroke-opacity=\"1\" stroke-width=\"3.2\"/>\n",
       "<circle clip-path=\"url(#clip072)\" cx=\"2080.02\" cy=\"140.391\" r=\"10.8\" fill=\"#ffffff\" fill-rule=\"evenodd\" fill-opacity=\"1\" stroke=\"#000000\" stroke-opacity=\"1\" stroke-width=\"3.2\"/>\n",
       "<circle clip-path=\"url(#clip072)\" cx=\"1147.5\" cy=\"1007.67\" r=\"10.8\" fill=\"#ffffff\" fill-rule=\"evenodd\" fill-opacity=\"1\" stroke=\"#000000\" stroke-opacity=\"1\" stroke-width=\"3.2\"/>\n",
       "<circle clip-path=\"url(#clip072)\" cx=\"1127.25\" cy=\"1224.49\" r=\"10.8\" fill=\"#ffffff\" fill-rule=\"evenodd\" fill-opacity=\"1\" stroke=\"#000000\" stroke-opacity=\"1\" stroke-width=\"3.2\"/>\n",
       "<circle clip-path=\"url(#clip072)\" cx=\"1126.61\" cy=\"1270.95\" r=\"10.8\" fill=\"#ffffff\" fill-rule=\"evenodd\" fill-opacity=\"1\" stroke=\"#000000\" stroke-opacity=\"1\" stroke-width=\"3.2\"/>\n",
       "<polyline clip-path=\"url(#clip072)\" style=\"stroke:#ff0000; stroke-linecap:round; stroke-linejoin:round; stroke-width:16; stroke-opacity:1; fill:none\" points=\"909.712,1384.24 909.712,1384.24 909.712,1384.24 909.712,1384.24 909.712,1384.24 909.712,1384.17 910.169,1332.9 911.582,1278.7 913.857,1224.49 916.996,1170.29 921.129,1116.08 926.318,1061.88 932.577,1007.67 939.876,953.467 948.182,899.262 957.542,845.057 968.277,790.852 980.66,736.647 996.62,682.442 1034.51,628.237 1096.41,574.032 1177.53,519.827 1273.3,465.621 1380.02,411.416 1494.87,357.211 1615.8,303.006 1741.33,248.801 1870.4,194.596 2002.22,140.391 \"/>\n",
       "<circle clip-path=\"url(#clip072)\" cx=\"948.182\" cy=\"899.262\" r=\"10.8\" fill=\"#ffffff\" fill-rule=\"evenodd\" fill-opacity=\"1\" stroke=\"#000000\" stroke-opacity=\"1\" stroke-width=\"3.2\"/>\n",
       "<circle clip-path=\"url(#clip072)\" cx=\"1380.02\" cy=\"411.416\" r=\"10.8\" fill=\"#ffffff\" fill-rule=\"evenodd\" fill-opacity=\"1\" stroke=\"#000000\" stroke-opacity=\"1\" stroke-width=\"3.2\"/>\n",
       "<circle clip-path=\"url(#clip072)\" cx=\"921.129\" cy=\"1116.08\" r=\"10.8\" fill=\"#ffffff\" fill-rule=\"evenodd\" fill-opacity=\"1\" stroke=\"#000000\" stroke-opacity=\"1\" stroke-width=\"3.2\"/>\n",
       "<circle clip-path=\"url(#clip072)\" cx=\"968.277\" cy=\"790.852\" r=\"10.8\" fill=\"#ffffff\" fill-rule=\"evenodd\" fill-opacity=\"1\" stroke=\"#000000\" stroke-opacity=\"1\" stroke-width=\"3.2\"/>\n",
       "<circle clip-path=\"url(#clip072)\" cx=\"996.62\" cy=\"682.442\" r=\"10.8\" fill=\"#ffffff\" fill-rule=\"evenodd\" fill-opacity=\"1\" stroke=\"#000000\" stroke-opacity=\"1\" stroke-width=\"3.2\"/>\n",
       "<circle clip-path=\"url(#clip072)\" cx=\"909.712\" cy=\"1384.24\" r=\"10.8\" fill=\"#ffffff\" fill-rule=\"evenodd\" fill-opacity=\"1\" stroke=\"#000000\" stroke-opacity=\"1\" stroke-width=\"3.2\"/>\n",
       "<circle clip-path=\"url(#clip072)\" cx=\"916.996\" cy=\"1170.29\" r=\"10.8\" fill=\"#ffffff\" fill-rule=\"evenodd\" fill-opacity=\"1\" stroke=\"#000000\" stroke-opacity=\"1\" stroke-width=\"3.2\"/>\n",
       "<circle clip-path=\"url(#clip072)\" cx=\"980.66\" cy=\"736.647\" r=\"10.8\" fill=\"#ffffff\" fill-rule=\"evenodd\" fill-opacity=\"1\" stroke=\"#000000\" stroke-opacity=\"1\" stroke-width=\"3.2\"/>\n",
       "<circle clip-path=\"url(#clip072)\" cx=\"1096.41\" cy=\"574.032\" r=\"10.8\" fill=\"#ffffff\" fill-rule=\"evenodd\" fill-opacity=\"1\" stroke=\"#000000\" stroke-opacity=\"1\" stroke-width=\"3.2\"/>\n",
       "<circle clip-path=\"url(#clip072)\" cx=\"913.857\" cy=\"1224.49\" r=\"10.8\" fill=\"#ffffff\" fill-rule=\"evenodd\" fill-opacity=\"1\" stroke=\"#000000\" stroke-opacity=\"1\" stroke-width=\"3.2\"/>\n",
       "<circle clip-path=\"url(#clip072)\" cx=\"911.582\" cy=\"1278.7\" r=\"10.8\" fill=\"#ffffff\" fill-rule=\"evenodd\" fill-opacity=\"1\" stroke=\"#000000\" stroke-opacity=\"1\" stroke-width=\"3.2\"/>\n",
       "<circle clip-path=\"url(#clip072)\" cx=\"939.876\" cy=\"953.467\" r=\"10.8\" fill=\"#ffffff\" fill-rule=\"evenodd\" fill-opacity=\"1\" stroke=\"#000000\" stroke-opacity=\"1\" stroke-width=\"3.2\"/>\n",
       "<circle clip-path=\"url(#clip072)\" cx=\"910.169\" cy=\"1332.9\" r=\"10.8\" fill=\"#ffffff\" fill-rule=\"evenodd\" fill-opacity=\"1\" stroke=\"#000000\" stroke-opacity=\"1\" stroke-width=\"3.2\"/>\n",
       "<circle clip-path=\"url(#clip072)\" cx=\"1034.51\" cy=\"628.237\" r=\"10.8\" fill=\"#ffffff\" fill-rule=\"evenodd\" fill-opacity=\"1\" stroke=\"#000000\" stroke-opacity=\"1\" stroke-width=\"3.2\"/>\n",
       "<circle clip-path=\"url(#clip072)\" cx=\"1273.3\" cy=\"465.621\" r=\"10.8\" fill=\"#ffffff\" fill-rule=\"evenodd\" fill-opacity=\"1\" stroke=\"#000000\" stroke-opacity=\"1\" stroke-width=\"3.2\"/>\n",
       "<circle clip-path=\"url(#clip072)\" cx=\"1741.33\" cy=\"248.801\" r=\"10.8\" fill=\"#ffffff\" fill-rule=\"evenodd\" fill-opacity=\"1\" stroke=\"#000000\" stroke-opacity=\"1\" stroke-width=\"3.2\"/>\n",
       "<circle clip-path=\"url(#clip072)\" cx=\"909.712\" cy=\"1384.24\" r=\"10.8\" fill=\"#ffffff\" fill-rule=\"evenodd\" fill-opacity=\"1\" stroke=\"#000000\" stroke-opacity=\"1\" stroke-width=\"3.2\"/>\n",
       "<circle clip-path=\"url(#clip072)\" cx=\"909.712\" cy=\"1384.17\" r=\"10.8\" fill=\"#ffffff\" fill-rule=\"evenodd\" fill-opacity=\"1\" stroke=\"#000000\" stroke-opacity=\"1\" stroke-width=\"3.2\"/>\n",
       "<circle clip-path=\"url(#clip072)\" cx=\"909.712\" cy=\"1384.24\" r=\"10.8\" fill=\"#ffffff\" fill-rule=\"evenodd\" fill-opacity=\"1\" stroke=\"#000000\" stroke-opacity=\"1\" stroke-width=\"3.2\"/>\n",
       "<circle clip-path=\"url(#clip072)\" cx=\"1494.87\" cy=\"357.211\" r=\"10.8\" fill=\"#ffffff\" fill-rule=\"evenodd\" fill-opacity=\"1\" stroke=\"#000000\" stroke-opacity=\"1\" stroke-width=\"3.2\"/>\n",
       "<circle clip-path=\"url(#clip072)\" cx=\"932.577\" cy=\"1007.67\" r=\"10.8\" fill=\"#ffffff\" fill-rule=\"evenodd\" fill-opacity=\"1\" stroke=\"#000000\" stroke-opacity=\"1\" stroke-width=\"3.2\"/>\n",
       "<circle clip-path=\"url(#clip072)\" cx=\"909.712\" cy=\"1384.24\" r=\"10.8\" fill=\"#ffffff\" fill-rule=\"evenodd\" fill-opacity=\"1\" stroke=\"#000000\" stroke-opacity=\"1\" stroke-width=\"3.2\"/>\n",
       "<circle clip-path=\"url(#clip072)\" cx=\"926.318\" cy=\"1061.88\" r=\"10.8\" fill=\"#ffffff\" fill-rule=\"evenodd\" fill-opacity=\"1\" stroke=\"#000000\" stroke-opacity=\"1\" stroke-width=\"3.2\"/>\n",
       "<circle clip-path=\"url(#clip072)\" cx=\"1615.8\" cy=\"303.006\" r=\"10.8\" fill=\"#ffffff\" fill-rule=\"evenodd\" fill-opacity=\"1\" stroke=\"#000000\" stroke-opacity=\"1\" stroke-width=\"3.2\"/>\n",
       "<circle clip-path=\"url(#clip072)\" cx=\"1870.4\" cy=\"194.596\" r=\"10.8\" fill=\"#ffffff\" fill-rule=\"evenodd\" fill-opacity=\"1\" stroke=\"#000000\" stroke-opacity=\"1\" stroke-width=\"3.2\"/>\n",
       "<circle clip-path=\"url(#clip072)\" cx=\"909.712\" cy=\"1384.24\" r=\"10.8\" fill=\"#ffffff\" fill-rule=\"evenodd\" fill-opacity=\"1\" stroke=\"#000000\" stroke-opacity=\"1\" stroke-width=\"3.2\"/>\n",
       "<circle clip-path=\"url(#clip072)\" cx=\"2002.22\" cy=\"140.391\" r=\"10.8\" fill=\"#ffffff\" fill-rule=\"evenodd\" fill-opacity=\"1\" stroke=\"#000000\" stroke-opacity=\"1\" stroke-width=\"3.2\"/>\n",
       "<circle clip-path=\"url(#clip072)\" cx=\"957.542\" cy=\"845.057\" r=\"10.8\" fill=\"#ffffff\" fill-rule=\"evenodd\" fill-opacity=\"1\" stroke=\"#000000\" stroke-opacity=\"1\" stroke-width=\"3.2\"/>\n",
       "<circle clip-path=\"url(#clip072)\" cx=\"1177.53\" cy=\"519.827\" r=\"10.8\" fill=\"#ffffff\" fill-rule=\"evenodd\" fill-opacity=\"1\" stroke=\"#000000\" stroke-opacity=\"1\" stroke-width=\"3.2\"/>\n",
       "<path clip-path=\"url(#clip070)\" d=\"M319.649 248.629 L634.206 248.629 L634.206 93.1086 L319.649 93.1086  Z\" fill=\"#ffffff\" fill-rule=\"evenodd\" fill-opacity=\"1\"/>\n",
       "<polyline clip-path=\"url(#clip070)\" style=\"stroke:#000000; stroke-linecap:round; stroke-linejoin:round; stroke-width:4; stroke-opacity:1; fill:none\" points=\"319.649,248.629 634.206,248.629 634.206,93.1086 319.649,93.1086 319.649,248.629 \"/>\n",
       "<polyline clip-path=\"url(#clip070)\" style=\"stroke:#b0b0b0; stroke-linecap:round; stroke-linejoin:round; stroke-width:16; stroke-opacity:1; fill:none\" points=\"343.018,144.949 483.232,144.949 \"/>\n",
       "<path clip-path=\"url(#clip070)\" d=\"M511.277 131.511 L511.277 158.386 L516.926 158.386 Q524.078 158.386 527.388 155.145 Q530.722 151.905 530.722 144.914 Q530.722 137.969 527.388 134.752 Q524.078 131.511 516.926 131.511 L511.277 131.511 M506.602 127.669 L516.208 127.669 Q526.254 127.669 530.953 131.858 Q535.652 136.025 535.652 144.914 Q535.652 153.849 530.93 158.039 Q526.208 162.229 516.208 162.229 L506.602 162.229 L506.602 127.669 Z\" fill=\"#000000\" fill-rule=\"nonzero\" fill-opacity=\"1\" /><path clip-path=\"url(#clip070)\" d=\"M554.703 149.196 Q549.541 149.196 547.55 150.377 Q545.56 151.557 545.56 154.405 Q545.56 156.673 547.041 158.016 Q548.546 159.335 551.115 159.335 Q554.657 159.335 556.786 156.835 Q558.939 154.312 558.939 150.145 L558.939 149.196 L554.703 149.196 M563.198 147.437 L563.198 162.229 L558.939 162.229 L558.939 158.293 Q557.481 160.655 555.305 161.789 Q553.129 162.9 549.981 162.9 Q545.999 162.9 543.638 160.678 Q541.3 158.432 541.3 154.682 Q541.3 150.307 544.217 148.085 Q547.157 145.863 552.967 145.863 L558.939 145.863 L558.939 145.446 Q558.939 142.507 556.995 140.909 Q555.073 139.289 551.578 139.289 Q549.356 139.289 547.249 139.821 Q545.143 140.354 543.199 141.419 L543.199 137.483 Q545.536 136.581 547.736 136.141 Q549.935 135.678 552.018 135.678 Q557.643 135.678 560.421 138.594 Q563.198 141.511 563.198 147.437 Z\" fill=\"#000000\" fill-rule=\"nonzero\" fill-opacity=\"1\" /><path clip-path=\"url(#clip070)\" d=\"M576.184 128.942 L576.184 136.303 L584.958 136.303 L584.958 139.613 L576.184 139.613 L576.184 153.687 Q576.184 156.858 577.041 157.761 Q577.921 158.664 580.583 158.664 L584.958 158.664 L584.958 162.229 L580.583 162.229 Q575.652 162.229 573.777 160.4 Q571.902 158.548 571.902 153.687 L571.902 139.613 L568.777 139.613 L568.777 136.303 L571.902 136.303 L571.902 128.942 L576.184 128.942 Z\" fill=\"#000000\" fill-rule=\"nonzero\" fill-opacity=\"1\" /><path clip-path=\"url(#clip070)\" d=\"M602.342 149.196 Q597.18 149.196 595.189 150.377 Q593.198 151.557 593.198 154.405 Q593.198 156.673 594.68 158.016 Q596.184 159.335 598.754 159.335 Q602.295 159.335 604.425 156.835 Q606.578 154.312 606.578 150.145 L606.578 149.196 L602.342 149.196 M610.837 147.437 L610.837 162.229 L606.578 162.229 L606.578 158.293 Q605.119 160.655 602.944 161.789 Q600.768 162.9 597.62 162.9 Q593.638 162.9 591.277 160.678 Q588.939 158.432 588.939 154.682 Q588.939 150.307 591.856 148.085 Q594.795 145.863 600.606 145.863 L606.578 145.863 L606.578 145.446 Q606.578 142.507 604.633 140.909 Q602.712 139.289 599.217 139.289 Q596.995 139.289 594.888 139.821 Q592.782 140.354 590.837 141.419 L590.837 137.483 Q593.175 136.581 595.374 136.141 Q597.573 135.678 599.657 135.678 Q605.282 135.678 608.059 138.594 Q610.837 141.511 610.837 147.437 Z\" fill=\"#000000\" fill-rule=\"nonzero\" fill-opacity=\"1\" /><polyline clip-path=\"url(#clip070)\" style=\"stroke:#ff0000; stroke-linecap:round; stroke-linejoin:round; stroke-width:16; stroke-opacity:1; fill:none\" points=\"343.018,196.789 483.232,196.789 \"/>\n",
       "<path clip-path=\"url(#clip070)\" d=\"M528.847 180.643 L528.847 185.203 Q526.185 183.93 523.824 183.305 Q521.463 182.68 519.263 182.68 Q515.444 182.68 513.361 184.161 Q511.301 185.643 511.301 188.374 Q511.301 190.666 512.666 191.847 Q514.055 193.004 517.898 193.722 L520.722 194.3 Q525.953 195.296 528.43 197.819 Q530.93 200.319 530.93 204.532 Q530.93 209.555 527.55 212.147 Q524.194 214.74 517.689 214.74 Q515.236 214.74 512.458 214.184 Q509.703 213.629 506.74 212.541 L506.74 207.726 Q509.588 209.323 512.319 210.133 Q515.051 210.944 517.689 210.944 Q521.694 210.944 523.87 209.37 Q526.046 207.796 526.046 204.879 Q526.046 202.333 524.472 200.897 Q522.921 199.462 519.356 198.745 L516.509 198.189 Q511.277 197.147 508.939 194.925 Q506.602 192.703 506.602 188.745 Q506.602 184.161 509.819 181.522 Q513.06 178.884 518.731 178.884 Q521.162 178.884 523.685 179.323 Q526.208 179.763 528.847 180.643 Z\" fill=\"#000000\" fill-rule=\"nonzero\" fill-opacity=\"1\" /><path clip-path=\"url(#clip070)\" d=\"M538.222 179.509 L542.898 179.509 L542.898 214.069 L538.222 214.069 L538.222 179.509 Z\" fill=\"#000000\" fill-rule=\"nonzero\" fill-opacity=\"1\" /><path clip-path=\"url(#clip070)\" d=\"M552.203 179.509 L559.171 179.509 L567.99 203.027 L576.856 179.509 L583.823 179.509 L583.823 214.069 L579.263 214.069 L579.263 183.722 L570.351 207.425 L565.652 207.425 L556.74 183.722 L556.74 214.069 L552.203 214.069 L552.203 179.509 Z\" fill=\"#000000\" fill-rule=\"nonzero\" fill-opacity=\"1\" /></svg>\n"
      ],
      "text/html": [
       "<?xml version=\"1.0\" encoding=\"utf-8\"?>\n",
       "<svg xmlns=\"http://www.w3.org/2000/svg\" xmlns:xlink=\"http://www.w3.org/1999/xlink\" width=\"600\" height=\"400\" viewBox=\"0 0 2400 1600\">\n",
       "<defs>\n",
       "  <clipPath id=\"clip120\">\n",
       "    <rect x=\"0\" y=\"0\" width=\"2400\" height=\"1600\"/>\n",
       "  </clipPath>\n",
       "</defs>\n",
       "<path clip-path=\"url(#clip120)\" d=\"M0 1600 L2400 1600 L2400 0 L0 0  Z\" fill=\"#ffffff\" fill-rule=\"evenodd\" fill-opacity=\"1\"/>\n",
       "<defs>\n",
       "  <clipPath id=\"clip121\">\n",
       "    <rect x=\"480\" y=\"0\" width=\"1681\" height=\"1600\"/>\n",
       "  </clipPath>\n",
       "</defs>\n",
       "<path clip-path=\"url(#clip120)\" d=\"M249.542 1423.18 L2352.76 1423.18 L2352.76 47.2441 L249.542 47.2441  Z\" fill=\"#ffffff\" fill-rule=\"evenodd\" fill-opacity=\"1\"/>\n",
       "<defs>\n",
       "  <clipPath id=\"clip122\">\n",
       "    <rect x=\"249\" y=\"47\" width=\"2104\" height=\"1377\"/>\n",
       "  </clipPath>\n",
       "</defs>\n",
       "<polyline clip-path=\"url(#clip122)\" style=\"stroke:#000000; stroke-linecap:round; stroke-linejoin:round; stroke-width:2; stroke-opacity:0.1; fill:none\" points=\"249.542,1423.18 249.542,47.2441 \"/>\n",
       "<polyline clip-path=\"url(#clip122)\" style=\"stroke:#000000; stroke-linecap:round; stroke-linejoin:round; stroke-width:2; stroke-opacity:0.1; fill:none\" points=\"672.072,1423.18 672.072,47.2441 \"/>\n",
       "<polyline clip-path=\"url(#clip122)\" style=\"stroke:#000000; stroke-linecap:round; stroke-linejoin:round; stroke-width:2; stroke-opacity:0.1; fill:none\" points=\"1094.6,1423.18 1094.6,47.2441 \"/>\n",
       "<polyline clip-path=\"url(#clip122)\" style=\"stroke:#000000; stroke-linecap:round; stroke-linejoin:round; stroke-width:2; stroke-opacity:0.1; fill:none\" points=\"1517.13,1423.18 1517.13,47.2441 \"/>\n",
       "<polyline clip-path=\"url(#clip122)\" style=\"stroke:#000000; stroke-linecap:round; stroke-linejoin:round; stroke-width:2; stroke-opacity:0.1; fill:none\" points=\"1939.66,1423.18 1939.66,47.2441 \"/>\n",
       "<polyline clip-path=\"url(#clip120)\" style=\"stroke:#000000; stroke-linecap:round; stroke-linejoin:round; stroke-width:4; stroke-opacity:1; fill:none\" points=\"249.542,1423.18 2352.76,1423.18 \"/>\n",
       "<polyline clip-path=\"url(#clip120)\" style=\"stroke:#000000; stroke-linecap:round; stroke-linejoin:round; stroke-width:4; stroke-opacity:1; fill:none\" points=\"249.542,1423.18 249.542,1404.28 \"/>\n",
       "<polyline clip-path=\"url(#clip120)\" style=\"stroke:#000000; stroke-linecap:round; stroke-linejoin:round; stroke-width:4; stroke-opacity:1; fill:none\" points=\"672.072,1423.18 672.072,1404.28 \"/>\n",
       "<polyline clip-path=\"url(#clip120)\" style=\"stroke:#000000; stroke-linecap:round; stroke-linejoin:round; stroke-width:4; stroke-opacity:1; fill:none\" points=\"1094.6,1423.18 1094.6,1404.28 \"/>\n",
       "<polyline clip-path=\"url(#clip120)\" style=\"stroke:#000000; stroke-linecap:round; stroke-linejoin:round; stroke-width:4; stroke-opacity:1; fill:none\" points=\"1517.13,1423.18 1517.13,1404.28 \"/>\n",
       "<polyline clip-path=\"url(#clip120)\" style=\"stroke:#000000; stroke-linecap:round; stroke-linejoin:round; stroke-width:4; stroke-opacity:1; fill:none\" points=\"1939.66,1423.18 1939.66,1404.28 \"/>\n",
       "<path clip-path=\"url(#clip120)\" d=\"M226.926 1454.1 Q223.315 1454.1 221.487 1457.66 Q219.681 1461.2 219.681 1468.33 Q219.681 1475.44 221.487 1479.01 Q223.315 1482.55 226.926 1482.55 Q230.561 1482.55 232.366 1479.01 Q234.195 1475.44 234.195 1468.33 Q234.195 1461.2 232.366 1457.66 Q230.561 1454.1 226.926 1454.1 M226.926 1450.39 Q232.737 1450.39 235.792 1455 Q238.871 1459.58 238.871 1468.33 Q238.871 1477.06 235.792 1481.67 Q232.737 1486.25 226.926 1486.25 Q221.116 1486.25 218.038 1481.67 Q214.982 1477.06 214.982 1468.33 Q214.982 1459.58 218.038 1455 Q221.116 1450.39 226.926 1450.39 Z\" fill=\"#000000\" fill-rule=\"nonzero\" fill-opacity=\"1\" /><path clip-path=\"url(#clip120)\" d=\"M247.088 1479.7 L251.973 1479.7 L251.973 1485.58 L247.088 1485.58 L247.088 1479.7 Z\" fill=\"#000000\" fill-rule=\"nonzero\" fill-opacity=\"1\" /><path clip-path=\"url(#clip120)\" d=\"M272.158 1454.1 Q268.547 1454.1 266.718 1457.66 Q264.912 1461.2 264.912 1468.33 Q264.912 1475.44 266.718 1479.01 Q268.547 1482.55 272.158 1482.55 Q275.792 1482.55 277.597 1479.01 Q279.426 1475.44 279.426 1468.33 Q279.426 1461.2 277.597 1457.66 Q275.792 1454.1 272.158 1454.1 M272.158 1450.39 Q277.968 1450.39 281.023 1455 Q284.102 1459.58 284.102 1468.33 Q284.102 1477.06 281.023 1481.67 Q277.968 1486.25 272.158 1486.25 Q266.347 1486.25 263.269 1481.67 Q260.213 1477.06 260.213 1468.33 Q260.213 1459.58 263.269 1455 Q266.347 1450.39 272.158 1450.39 Z\" fill=\"#000000\" fill-rule=\"nonzero\" fill-opacity=\"1\" /><path clip-path=\"url(#clip120)\" d=\"M650.07 1454.1 Q646.458 1454.1 644.63 1457.66 Q642.824 1461.2 642.824 1468.33 Q642.824 1475.44 644.63 1479.01 Q646.458 1482.55 650.07 1482.55 Q653.704 1482.55 655.509 1479.01 Q657.338 1475.44 657.338 1468.33 Q657.338 1461.2 655.509 1457.66 Q653.704 1454.1 650.07 1454.1 M650.07 1450.39 Q655.88 1450.39 658.935 1455 Q662.014 1459.58 662.014 1468.33 Q662.014 1477.06 658.935 1481.67 Q655.88 1486.25 650.07 1486.25 Q644.259 1486.25 641.181 1481.67 Q638.125 1477.06 638.125 1468.33 Q638.125 1459.58 641.181 1455 Q644.259 1450.39 650.07 1450.39 Z\" fill=\"#000000\" fill-rule=\"nonzero\" fill-opacity=\"1\" /><path clip-path=\"url(#clip120)\" d=\"M670.232 1479.7 L675.116 1479.7 L675.116 1485.58 L670.232 1485.58 L670.232 1479.7 Z\" fill=\"#000000\" fill-rule=\"nonzero\" fill-opacity=\"1\" /><path clip-path=\"url(#clip120)\" d=\"M686.111 1481.64 L693.75 1481.64 L693.75 1455.28 L685.44 1456.95 L685.44 1452.69 L693.704 1451.02 L698.379 1451.02 L698.379 1481.64 L706.018 1481.64 L706.018 1485.58 L686.111 1485.58 L686.111 1481.64 Z\" fill=\"#000000\" fill-rule=\"nonzero\" fill-opacity=\"1\" /><path clip-path=\"url(#clip120)\" d=\"M1072.78 1454.1 Q1069.17 1454.1 1067.34 1457.66 Q1065.54 1461.2 1065.54 1468.33 Q1065.54 1475.44 1067.34 1479.01 Q1069.17 1482.55 1072.78 1482.55 Q1076.42 1482.55 1078.22 1479.01 Q1080.05 1475.44 1080.05 1468.33 Q1080.05 1461.2 1078.22 1457.66 Q1076.42 1454.1 1072.78 1454.1 M1072.78 1450.39 Q1078.59 1450.39 1081.65 1455 Q1084.73 1459.58 1084.73 1468.33 Q1084.73 1477.06 1081.65 1481.67 Q1078.59 1486.25 1072.78 1486.25 Q1066.97 1486.25 1063.9 1481.67 Q1060.84 1477.06 1060.84 1468.33 Q1060.84 1459.58 1063.9 1455 Q1066.97 1450.39 1072.78 1450.39 Z\" fill=\"#000000\" fill-rule=\"nonzero\" fill-opacity=\"1\" /><path clip-path=\"url(#clip120)\" d=\"M1092.95 1479.7 L1097.83 1479.7 L1097.83 1485.58 L1092.95 1485.58 L1092.95 1479.7 Z\" fill=\"#000000\" fill-rule=\"nonzero\" fill-opacity=\"1\" /><path clip-path=\"url(#clip120)\" d=\"M1112.04 1481.64 L1128.36 1481.64 L1128.36 1485.58 L1106.42 1485.58 L1106.42 1481.64 Q1109.08 1478.89 1113.66 1474.26 Q1118.27 1469.61 1119.45 1468.27 Q1121.7 1465.74 1122.58 1464.01 Q1123.48 1462.25 1123.48 1460.56 Q1123.48 1457.8 1121.53 1456.07 Q1119.61 1454.33 1116.51 1454.33 Q1114.31 1454.33 1111.86 1455.09 Q1109.43 1455.86 1106.65 1457.41 L1106.65 1452.69 Q1109.47 1451.55 1111.93 1450.97 Q1114.38 1450.39 1116.42 1450.39 Q1121.79 1450.39 1124.98 1453.08 Q1128.18 1455.77 1128.18 1460.26 Q1128.18 1462.39 1127.37 1464.31 Q1126.58 1466.2 1124.47 1468.8 Q1123.9 1469.47 1120.79 1472.69 Q1117.69 1475.88 1112.04 1481.64 Z\" fill=\"#000000\" fill-rule=\"nonzero\" fill-opacity=\"1\" /><path clip-path=\"url(#clip120)\" d=\"M1494.84 1454.1 Q1491.23 1454.1 1489.4 1457.66 Q1487.59 1461.2 1487.59 1468.33 Q1487.59 1475.44 1489.4 1479.01 Q1491.23 1482.55 1494.84 1482.55 Q1498.47 1482.55 1500.28 1479.01 Q1502.11 1475.44 1502.11 1468.33 Q1502.11 1461.2 1500.28 1457.66 Q1498.47 1454.1 1494.84 1454.1 M1494.84 1450.39 Q1500.65 1450.39 1503.71 1455 Q1506.78 1459.58 1506.78 1468.33 Q1506.78 1477.06 1503.71 1481.67 Q1500.65 1486.25 1494.84 1486.25 Q1489.03 1486.25 1485.95 1481.67 Q1482.9 1477.06 1482.9 1468.33 Q1482.9 1459.58 1485.95 1455 Q1489.03 1450.39 1494.84 1450.39 Z\" fill=\"#000000\" fill-rule=\"nonzero\" fill-opacity=\"1\" /><path clip-path=\"url(#clip120)\" d=\"M1515 1479.7 L1519.89 1479.7 L1519.89 1485.58 L1515 1485.58 L1515 1479.7 Z\" fill=\"#000000\" fill-rule=\"nonzero\" fill-opacity=\"1\" /><path clip-path=\"url(#clip120)\" d=\"M1544.24 1466.95 Q1547.59 1467.66 1549.47 1469.93 Q1551.37 1472.2 1551.37 1475.53 Q1551.37 1480.65 1547.85 1483.45 Q1544.33 1486.25 1537.85 1486.25 Q1535.67 1486.25 1533.36 1485.81 Q1531.07 1485.39 1528.61 1484.54 L1528.61 1480.02 Q1530.56 1481.16 1532.87 1481.74 Q1535.19 1482.32 1537.71 1482.32 Q1542.11 1482.32 1544.4 1480.58 Q1546.71 1478.84 1546.71 1475.53 Q1546.71 1472.48 1544.56 1470.77 Q1542.43 1469.03 1538.61 1469.03 L1534.58 1469.03 L1534.58 1465.19 L1538.8 1465.19 Q1542.25 1465.19 1544.08 1463.82 Q1545.9 1462.43 1545.9 1459.84 Q1545.9 1457.18 1544.01 1455.77 Q1542.13 1454.33 1538.61 1454.33 Q1536.69 1454.33 1534.49 1454.75 Q1532.29 1455.16 1529.65 1456.04 L1529.65 1451.88 Q1532.32 1451.14 1534.63 1450.77 Q1536.97 1450.39 1539.03 1450.39 Q1544.35 1450.39 1547.46 1452.83 Q1550.56 1455.23 1550.56 1459.35 Q1550.56 1462.22 1548.91 1464.21 Q1547.27 1466.18 1544.24 1466.95 Z\" fill=\"#000000\" fill-rule=\"nonzero\" fill-opacity=\"1\" /><path clip-path=\"url(#clip120)\" d=\"M1916.8 1454.1 Q1913.19 1454.1 1911.36 1457.66 Q1909.56 1461.2 1909.56 1468.33 Q1909.56 1475.44 1911.36 1479.01 Q1913.19 1482.55 1916.8 1482.55 Q1920.44 1482.55 1922.24 1479.01 Q1924.07 1475.44 1924.07 1468.33 Q1924.07 1461.2 1922.24 1457.66 Q1920.44 1454.1 1916.8 1454.1 M1916.8 1450.39 Q1922.61 1450.39 1925.67 1455 Q1928.75 1459.58 1928.75 1468.33 Q1928.75 1477.06 1925.67 1481.67 Q1922.61 1486.25 1916.8 1486.25 Q1910.99 1486.25 1907.91 1481.67 Q1904.86 1477.06 1904.86 1468.33 Q1904.86 1459.58 1907.91 1455 Q1910.99 1450.39 1916.8 1450.39 Z\" fill=\"#000000\" fill-rule=\"nonzero\" fill-opacity=\"1\" /><path clip-path=\"url(#clip120)\" d=\"M1936.96 1479.7 L1941.85 1479.7 L1941.85 1485.58 L1936.96 1485.58 L1936.96 1479.7 Z\" fill=\"#000000\" fill-rule=\"nonzero\" fill-opacity=\"1\" /><path clip-path=\"url(#clip120)\" d=\"M1964.88 1455.09 L1953.08 1473.54 L1964.88 1473.54 L1964.88 1455.09 M1963.65 1451.02 L1969.53 1451.02 L1969.53 1473.54 L1974.46 1473.54 L1974.46 1477.43 L1969.53 1477.43 L1969.53 1485.58 L1964.88 1485.58 L1964.88 1477.43 L1949.28 1477.43 L1949.28 1472.92 L1963.65 1451.02 Z\" fill=\"#000000\" fill-rule=\"nonzero\" fill-opacity=\"1\" /><path clip-path=\"url(#clip120)\" d=\"M1001.94 1525.81 L1001.94 1543.66 L1010.03 1543.66 Q1014.52 1543.66 1016.97 1541.34 Q1019.42 1539.02 1019.42 1534.72 Q1019.42 1530.45 1016.97 1528.13 Q1014.52 1525.81 1010.03 1525.81 L1001.94 1525.81 M995.515 1520.52 L1010.03 1520.52 Q1018.02 1520.52 1022.09 1524.15 Q1026.2 1527.75 1026.2 1534.72 Q1026.2 1541.75 1022.09 1545.35 Q1018.02 1548.95 1010.03 1548.95 L1001.94 1548.95 L1001.94 1568.04 L995.515 1568.04 L995.515 1520.52 Z\" fill=\"#000000\" fill-rule=\"nonzero\" fill-opacity=\"1\" /><path clip-path=\"url(#clip120)\" d=\"M1046.06 1536.5 Q1041.35 1536.5 1038.61 1540.19 Q1035.87 1543.85 1035.87 1550.25 Q1035.87 1556.65 1038.58 1560.34 Q1041.32 1564 1046.06 1564 Q1050.74 1564 1053.48 1560.31 Q1056.21 1556.62 1056.21 1550.25 Q1056.21 1543.92 1053.48 1540.23 Q1050.74 1536.5 1046.06 1536.5 M1046.06 1531.54 Q1053.7 1531.54 1058.06 1536.5 Q1062.42 1541.47 1062.42 1550.25 Q1062.42 1559 1058.06 1564 Q1053.7 1568.97 1046.06 1568.97 Q1038.39 1568.97 1034.03 1564 Q1029.7 1559 1029.7 1550.25 Q1029.7 1541.47 1034.03 1536.5 Q1038.39 1531.54 1046.06 1531.54 Z\" fill=\"#000000\" fill-rule=\"nonzero\" fill-opacity=\"1\" /><path clip-path=\"url(#clip120)\" d=\"M1092.78 1537.87 Q1091.8 1537.3 1090.62 1537.04 Q1089.47 1536.76 1088.07 1536.76 Q1083.11 1536.76 1080.43 1540 Q1077.79 1543.22 1077.79 1549.27 L1077.79 1568.04 L1071.9 1568.04 L1071.9 1532.4 L1077.79 1532.4 L1077.79 1537.93 Q1079.64 1534.69 1082.6 1533.13 Q1085.56 1531.54 1089.79 1531.54 Q1090.4 1531.54 1091.13 1531.63 Q1091.86 1531.7 1092.75 1531.85 L1092.78 1537.87 Z\" fill=\"#000000\" fill-rule=\"nonzero\" fill-opacity=\"1\" /><path clip-path=\"url(#clip120)\" d=\"M1104.72 1522.27 L1104.72 1532.4 L1116.78 1532.4 L1116.78 1536.95 L1104.72 1536.95 L1104.72 1556.3 Q1104.72 1560.66 1105.9 1561.9 Q1107.11 1563.14 1110.77 1563.14 L1116.78 1563.14 L1116.78 1568.04 L1110.77 1568.04 Q1103.99 1568.04 1101.41 1565.53 Q1098.83 1562.98 1098.83 1556.3 L1098.83 1536.95 L1094.53 1536.95 L1094.53 1532.4 L1098.83 1532.4 L1098.83 1522.27 L1104.72 1522.27 Z\" fill=\"#000000\" fill-rule=\"nonzero\" fill-opacity=\"1\" /><path clip-path=\"url(#clip120)\" d=\"M1142.53 1518.52 L1142.53 1523.39 L1136.93 1523.39 Q1133.78 1523.39 1132.54 1524.66 Q1131.33 1525.93 1131.33 1529.24 L1131.33 1532.4 L1140.97 1532.4 L1140.97 1536.95 L1131.33 1536.95 L1131.33 1568.04 L1125.44 1568.04 L1125.44 1536.95 L1119.84 1536.95 L1119.84 1532.4 L1125.44 1532.4 L1125.44 1529.91 Q1125.44 1523.96 1128.21 1521.26 Q1130.98 1518.52 1136.99 1518.52 L1142.53 1518.52 Z\" fill=\"#000000\" fill-rule=\"nonzero\" fill-opacity=\"1\" /><path clip-path=\"url(#clip120)\" d=\"M1161.25 1536.5 Q1156.54 1536.5 1153.8 1540.19 Q1151.06 1543.85 1151.06 1550.25 Q1151.06 1556.65 1153.77 1560.34 Q1156.5 1564 1161.25 1564 Q1165.93 1564 1168.66 1560.31 Q1171.4 1556.62 1171.4 1550.25 Q1171.4 1543.92 1168.66 1540.23 Q1165.93 1536.5 1161.25 1536.5 M1161.25 1531.54 Q1168.89 1531.54 1173.25 1536.5 Q1177.61 1541.47 1177.61 1550.25 Q1177.61 1559 1173.25 1564 Q1168.89 1568.97 1161.25 1568.97 Q1153.58 1568.97 1149.22 1564 Q1144.89 1559 1144.89 1550.25 Q1144.89 1541.47 1149.22 1536.5 Q1153.58 1531.54 1161.25 1531.54 Z\" fill=\"#000000\" fill-rule=\"nonzero\" fill-opacity=\"1\" /><path clip-path=\"url(#clip120)\" d=\"M1187.31 1518.52 L1193.17 1518.52 L1193.17 1568.04 L1187.31 1568.04 L1187.31 1518.52 Z\" fill=\"#000000\" fill-rule=\"nonzero\" fill-opacity=\"1\" /><path clip-path=\"url(#clip120)\" d=\"M1205.42 1532.4 L1211.28 1532.4 L1211.28 1568.04 L1205.42 1568.04 L1205.42 1532.4 M1205.42 1518.52 L1211.28 1518.52 L1211.28 1525.93 L1205.42 1525.93 L1205.42 1518.52 Z\" fill=\"#000000\" fill-rule=\"nonzero\" fill-opacity=\"1\" /><path clip-path=\"url(#clip120)\" d=\"M1237.35 1536.5 Q1232.64 1536.5 1229.9 1540.19 Q1227.16 1543.85 1227.16 1550.25 Q1227.16 1556.65 1229.87 1560.34 Q1232.61 1564 1237.35 1564 Q1242.03 1564 1244.76 1560.31 Q1247.5 1556.62 1247.5 1550.25 Q1247.5 1543.92 1244.76 1540.23 Q1242.03 1536.5 1237.35 1536.5 M1237.35 1531.54 Q1244.99 1531.54 1249.35 1536.5 Q1253.71 1541.47 1253.71 1550.25 Q1253.71 1559 1249.35 1564 Q1244.99 1568.97 1237.35 1568.97 Q1229.68 1568.97 1225.32 1564 Q1220.99 1559 1220.99 1550.25 Q1220.99 1541.47 1225.32 1536.5 Q1229.68 1531.54 1237.35 1531.54 Z\" fill=\"#000000\" fill-rule=\"nonzero\" fill-opacity=\"1\" /><path clip-path=\"url(#clip120)\" d=\"M1306.93 1545.76 Q1308.99 1546.46 1310.94 1548.76 Q1312.91 1551.05 1314.88 1555.06 L1321.41 1568.04 L1314.5 1568.04 L1308.42 1555.85 Q1306.07 1551.08 1303.84 1549.52 Q1301.64 1547.96 1297.82 1547.96 L1290.82 1547.96 L1290.82 1568.04 L1284.39 1568.04 L1284.39 1520.52 L1298.91 1520.52 Q1307.05 1520.52 1311.06 1523.93 Q1315.07 1527.34 1315.07 1534.21 Q1315.07 1538.7 1312.97 1541.66 Q1310.9 1544.62 1306.93 1545.76 M1290.82 1525.81 L1290.82 1542.68 L1298.91 1542.68 Q1303.55 1542.68 1305.91 1540.54 Q1308.29 1538.38 1308.29 1534.21 Q1308.29 1530.04 1305.91 1527.94 Q1303.55 1525.81 1298.91 1525.81 L1290.82 1525.81 Z\" fill=\"#000000\" fill-rule=\"nonzero\" fill-opacity=\"1\" /><path clip-path=\"url(#clip120)\" d=\"M1329.43 1532.4 L1335.29 1532.4 L1335.29 1568.04 L1329.43 1568.04 L1329.43 1532.4 M1329.43 1518.52 L1335.29 1518.52 L1335.29 1525.93 L1329.43 1525.93 L1329.43 1518.52 Z\" fill=\"#000000\" fill-rule=\"nonzero\" fill-opacity=\"1\" /><path clip-path=\"url(#clip120)\" d=\"M1370.26 1533.45 L1370.26 1538.98 Q1367.78 1537.71 1365.11 1537.07 Q1362.43 1536.44 1359.57 1536.44 Q1355.21 1536.44 1353.01 1537.77 Q1350.85 1539.11 1350.85 1541.79 Q1350.85 1543.82 1352.41 1545 Q1353.97 1546.15 1358.68 1547.2 L1360.68 1547.64 Q1366.92 1548.98 1369.53 1551.43 Q1372.17 1553.85 1372.17 1558.21 Q1372.17 1563.17 1368.23 1566.07 Q1364.31 1568.97 1357.44 1568.97 Q1354.57 1568.97 1351.45 1568.39 Q1348.37 1567.85 1344.93 1566.74 L1344.93 1560.69 Q1348.18 1562.38 1351.33 1563.24 Q1354.48 1564.07 1357.57 1564.07 Q1361.7 1564.07 1363.93 1562.66 Q1366.16 1561.23 1366.16 1558.65 Q1366.16 1556.27 1364.54 1554.99 Q1362.94 1553.72 1357.5 1552.54 L1355.46 1552.07 Q1350.02 1550.92 1347.6 1548.56 Q1345.18 1546.18 1345.18 1542.04 Q1345.18 1537.01 1348.75 1534.27 Q1352.31 1531.54 1358.87 1531.54 Q1362.12 1531.54 1364.98 1532.01 Q1367.85 1532.49 1370.26 1533.45 Z\" fill=\"#000000\" fill-rule=\"nonzero\" fill-opacity=\"1\" /><path clip-path=\"url(#clip120)\" d=\"M1381.28 1518.52 L1387.17 1518.52 L1387.17 1547.77 L1404.64 1532.4 L1412.12 1532.4 L1393.21 1549.07 L1412.91 1568.04 L1405.28 1568.04 L1387.17 1550.63 L1387.17 1568.04 L1381.28 1568.04 L1381.28 1518.52 Z\" fill=\"#000000\" fill-rule=\"nonzero\" fill-opacity=\"1\" /><path clip-path=\"url(#clip120)\" d=\"M1454.04 1518.58 Q1449.77 1525.9 1447.7 1533.06 Q1445.63 1540.23 1445.63 1547.58 Q1445.63 1554.93 1447.7 1562.16 Q1449.8 1569.35 1454.04 1576.64 L1448.94 1576.64 Q1444.17 1569.16 1441.78 1561.93 Q1439.43 1554.71 1439.43 1547.58 Q1439.43 1540.48 1441.78 1533.29 Q1444.14 1526.09 1448.94 1518.58 L1454.04 1518.58 Z\" fill=\"#000000\" fill-rule=\"nonzero\" fill-opacity=\"1\" /><path clip-path=\"url(#clip120)\" d=\"M1488.13 1533.45 L1488.13 1538.98 Q1485.64 1537.71 1482.97 1537.07 Q1480.3 1536.44 1477.43 1536.44 Q1473.07 1536.44 1470.87 1537.77 Q1468.71 1539.11 1468.71 1541.79 Q1468.71 1543.82 1470.27 1545 Q1471.83 1546.15 1476.54 1547.2 L1478.55 1547.64 Q1484.78 1548.98 1487.39 1551.43 Q1490.04 1553.85 1490.04 1558.21 Q1490.04 1563.17 1486.09 1566.07 Q1482.17 1568.97 1475.3 1568.97 Q1472.43 1568.97 1469.32 1568.39 Q1466.23 1567.85 1462.79 1566.74 L1462.79 1560.69 Q1466.04 1562.38 1469.19 1563.24 Q1472.34 1564.07 1475.43 1564.07 Q1479.56 1564.07 1481.79 1562.66 Q1484.02 1561.23 1484.02 1558.65 Q1484.02 1556.27 1482.4 1554.99 Q1480.81 1553.72 1475.36 1552.54 L1473.33 1552.07 Q1467.88 1550.92 1465.46 1548.56 Q1463.04 1546.18 1463.04 1542.04 Q1463.04 1537.01 1466.61 1534.27 Q1470.17 1531.54 1476.73 1531.54 Q1479.98 1531.54 1482.84 1532.01 Q1485.71 1532.49 1488.13 1533.45 Z\" fill=\"#000000\" fill-rule=\"nonzero\" fill-opacity=\"1\" /><path clip-path=\"url(#clip120)\" d=\"M1502.86 1550.25 Q1502.86 1556.71 1505.5 1560.4 Q1508.18 1564.07 1512.82 1564.07 Q1517.47 1564.07 1520.15 1560.4 Q1522.82 1556.71 1522.82 1550.25 Q1522.82 1543.79 1520.15 1540.13 Q1517.47 1536.44 1512.82 1536.44 Q1508.18 1536.44 1505.5 1540.13 Q1502.86 1543.79 1502.86 1550.25 M1522.82 1562.7 Q1520.97 1565.88 1518.14 1567.44 Q1515.34 1568.97 1511.39 1568.97 Q1504.93 1568.97 1500.86 1563.81 Q1496.81 1558.65 1496.81 1550.25 Q1496.81 1541.85 1500.86 1536.69 Q1504.93 1531.54 1511.39 1531.54 Q1515.34 1531.54 1518.14 1533.1 Q1520.97 1534.62 1522.82 1537.81 L1522.82 1532.4 L1528.68 1532.4 L1528.68 1581.6 L1522.82 1581.6 L1522.82 1562.7 Z\" fill=\"#000000\" fill-rule=\"nonzero\" fill-opacity=\"1\" /><path clip-path=\"url(#clip120)\" d=\"M1561.39 1537.87 Q1560.41 1537.3 1559.23 1537.04 Q1558.08 1536.76 1556.68 1536.76 Q1551.72 1536.76 1549.05 1540 Q1546.4 1543.22 1546.4 1549.27 L1546.4 1568.04 L1540.52 1568.04 L1540.52 1532.4 L1546.4 1532.4 L1546.4 1537.93 Q1548.25 1534.69 1551.21 1533.13 Q1554.17 1531.54 1558.4 1531.54 Q1559.01 1531.54 1559.74 1531.63 Q1560.47 1531.7 1561.36 1531.85 L1561.39 1537.87 Z\" fill=\"#000000\" fill-rule=\"nonzero\" fill-opacity=\"1\" /><path clip-path=\"url(#clip120)\" d=\"M1573.33 1522.27 L1573.33 1532.4 L1585.39 1532.4 L1585.39 1536.95 L1573.33 1536.95 L1573.33 1556.3 Q1573.33 1560.66 1574.51 1561.9 Q1575.72 1563.14 1579.38 1563.14 L1585.39 1563.14 L1585.39 1568.04 L1579.38 1568.04 Q1572.6 1568.04 1570.02 1565.53 Q1567.44 1562.98 1567.44 1556.3 L1567.44 1536.95 L1563.15 1536.95 L1563.15 1532.4 L1567.44 1532.4 L1567.44 1522.27 L1573.33 1522.27 Z\" fill=\"#000000\" fill-rule=\"nonzero\" fill-opacity=\"1\" /><path clip-path=\"url(#clip120)\" d=\"M1592.17 1518.58 L1597.27 1518.58 Q1602.04 1526.09 1604.4 1533.29 Q1606.78 1540.48 1606.78 1547.58 Q1606.78 1554.71 1604.4 1561.93 Q1602.04 1569.16 1597.27 1576.64 L1592.17 1576.64 Q1596.41 1569.35 1598.48 1562.16 Q1600.58 1554.93 1600.58 1547.58 Q1600.58 1540.23 1598.48 1533.06 Q1596.41 1525.9 1592.17 1518.58 Z\" fill=\"#000000\" fill-rule=\"nonzero\" fill-opacity=\"1\" /><polyline clip-path=\"url(#clip122)\" style=\"stroke:#000000; stroke-linecap:round; stroke-linejoin:round; stroke-width:2; stroke-opacity:0.1; fill:none\" points=\"249.542,1188.36 2352.76,1188.36 \"/>\n",
       "<polyline clip-path=\"url(#clip122)\" style=\"stroke:#000000; stroke-linecap:round; stroke-linejoin:round; stroke-width:2; stroke-opacity:0.1; fill:none\" points=\"249.542,953.467 2352.76,953.467 \"/>\n",
       "<polyline clip-path=\"url(#clip122)\" style=\"stroke:#000000; stroke-linecap:round; stroke-linejoin:round; stroke-width:2; stroke-opacity:0.1; fill:none\" points=\"249.542,718.579 2352.76,718.579 \"/>\n",
       "<polyline clip-path=\"url(#clip122)\" style=\"stroke:#000000; stroke-linecap:round; stroke-linejoin:round; stroke-width:2; stroke-opacity:0.1; fill:none\" points=\"249.542,483.69 2352.76,483.69 \"/>\n",
       "<polyline clip-path=\"url(#clip122)\" style=\"stroke:#000000; stroke-linecap:round; stroke-linejoin:round; stroke-width:2; stroke-opacity:0.1; fill:none\" points=\"249.542,248.801 2352.76,248.801 \"/>\n",
       "<polyline clip-path=\"url(#clip120)\" style=\"stroke:#000000; stroke-linecap:round; stroke-linejoin:round; stroke-width:4; stroke-opacity:1; fill:none\" points=\"249.542,1423.18 249.542,47.2441 \"/>\n",
       "<polyline clip-path=\"url(#clip120)\" style=\"stroke:#000000; stroke-linecap:round; stroke-linejoin:round; stroke-width:4; stroke-opacity:1; fill:none\" points=\"249.542,1188.36 268.44,1188.36 \"/>\n",
       "<polyline clip-path=\"url(#clip120)\" style=\"stroke:#000000; stroke-linecap:round; stroke-linejoin:round; stroke-width:4; stroke-opacity:1; fill:none\" points=\"249.542,953.467 268.44,953.467 \"/>\n",
       "<polyline clip-path=\"url(#clip120)\" style=\"stroke:#000000; stroke-linecap:round; stroke-linejoin:round; stroke-width:4; stroke-opacity:1; fill:none\" points=\"249.542,718.579 268.44,718.579 \"/>\n",
       "<polyline clip-path=\"url(#clip120)\" style=\"stroke:#000000; stroke-linecap:round; stroke-linejoin:round; stroke-width:4; stroke-opacity:1; fill:none\" points=\"249.542,483.69 268.44,483.69 \"/>\n",
       "<polyline clip-path=\"url(#clip120)\" style=\"stroke:#000000; stroke-linecap:round; stroke-linejoin:round; stroke-width:4; stroke-opacity:1; fill:none\" points=\"249.542,248.801 268.44,248.801 \"/>\n",
       "<path clip-path=\"url(#clip120)\" d=\"M126.205 1174.15 Q122.593 1174.15 120.765 1177.72 Q118.959 1181.26 118.959 1188.39 Q118.959 1195.5 120.765 1199.06 Q122.593 1202.6 126.205 1202.6 Q129.839 1202.6 131.644 1199.06 Q133.473 1195.5 133.473 1188.39 Q133.473 1181.26 131.644 1177.72 Q129.839 1174.15 126.205 1174.15 M126.205 1170.45 Q132.015 1170.45 135.07 1175.06 Q138.149 1179.64 138.149 1188.39 Q138.149 1197.12 135.07 1201.72 Q132.015 1206.31 126.205 1206.31 Q120.394 1206.31 117.316 1201.72 Q114.26 1197.12 114.26 1188.39 Q114.26 1179.64 117.316 1175.06 Q120.394 1170.45 126.205 1170.45 Z\" fill=\"#000000\" fill-rule=\"nonzero\" fill-opacity=\"1\" /><path clip-path=\"url(#clip120)\" d=\"M146.366 1199.76 L151.251 1199.76 L151.251 1205.64 L146.366 1205.64 L146.366 1199.76 Z\" fill=\"#000000\" fill-rule=\"nonzero\" fill-opacity=\"1\" /><path clip-path=\"url(#clip120)\" d=\"M162.246 1201.7 L169.885 1201.7 L169.885 1175.34 L161.575 1177 L161.575 1172.74 L169.839 1171.08 L174.514 1171.08 L174.514 1201.7 L182.153 1201.7 L182.153 1205.64 L162.246 1205.64 L162.246 1201.7 Z\" fill=\"#000000\" fill-rule=\"nonzero\" fill-opacity=\"1\" /><path clip-path=\"url(#clip120)\" d=\"M201.598 1174.15 Q197.987 1174.15 196.158 1177.72 Q194.352 1181.26 194.352 1188.39 Q194.352 1195.5 196.158 1199.06 Q197.987 1202.6 201.598 1202.6 Q205.232 1202.6 207.037 1199.06 Q208.866 1195.5 208.866 1188.39 Q208.866 1181.26 207.037 1177.72 Q205.232 1174.15 201.598 1174.15 M201.598 1170.45 Q207.408 1170.45 210.463 1175.06 Q213.542 1179.64 213.542 1188.39 Q213.542 1197.12 210.463 1201.72 Q207.408 1206.31 201.598 1206.31 Q195.787 1206.31 192.709 1201.72 Q189.653 1197.12 189.653 1188.39 Q189.653 1179.64 192.709 1175.06 Q195.787 1170.45 201.598 1170.45 Z\" fill=\"#000000\" fill-rule=\"nonzero\" fill-opacity=\"1\" /><path clip-path=\"url(#clip120)\" d=\"M127.2 939.266 Q123.589 939.266 121.76 942.831 Q119.955 946.373 119.955 953.502 Q119.955 960.609 121.76 964.173 Q123.589 967.715 127.2 967.715 Q130.834 967.715 132.64 964.173 Q134.468 960.609 134.468 953.502 Q134.468 946.373 132.64 942.831 Q130.834 939.266 127.2 939.266 M127.2 935.562 Q133.01 935.562 136.066 940.169 Q139.144 944.752 139.144 953.502 Q139.144 962.229 136.066 966.835 Q133.01 971.419 127.2 971.419 Q121.39 971.419 118.311 966.835 Q115.256 962.229 115.256 953.502 Q115.256 944.752 118.311 940.169 Q121.39 935.562 127.2 935.562 Z\" fill=\"#000000\" fill-rule=\"nonzero\" fill-opacity=\"1\" /><path clip-path=\"url(#clip120)\" d=\"M147.362 964.868 L152.246 964.868 L152.246 970.747 L147.362 970.747 L147.362 964.868 Z\" fill=\"#000000\" fill-rule=\"nonzero\" fill-opacity=\"1\" /><path clip-path=\"url(#clip120)\" d=\"M163.241 966.812 L170.88 966.812 L170.88 940.447 L162.57 942.113 L162.57 937.854 L170.834 936.187 L175.51 936.187 L175.51 966.812 L183.149 966.812 L183.149 970.747 L163.241 970.747 L163.241 966.812 Z\" fill=\"#000000\" fill-rule=\"nonzero\" fill-opacity=\"1\" /><path clip-path=\"url(#clip120)\" d=\"M192.639 936.187 L210.996 936.187 L210.996 940.123 L196.922 940.123 L196.922 948.595 Q197.94 948.248 198.959 948.086 Q199.977 947.9 200.996 947.9 Q206.783 947.9 210.162 951.072 Q213.542 954.243 213.542 959.66 Q213.542 965.238 210.07 968.34 Q206.598 971.419 200.278 971.419 Q198.102 971.419 195.834 971.048 Q193.588 970.678 191.181 969.937 L191.181 965.238 Q193.264 966.372 195.487 966.928 Q197.709 967.484 200.186 967.484 Q204.19 967.484 206.528 965.377 Q208.866 963.271 208.866 959.66 Q208.866 956.048 206.528 953.942 Q204.19 951.835 200.186 951.835 Q198.311 951.835 196.436 952.252 Q194.584 952.669 192.639 953.548 L192.639 936.187 Z\" fill=\"#000000\" fill-rule=\"nonzero\" fill-opacity=\"1\" /><path clip-path=\"url(#clip120)\" d=\"M126.205 704.377 Q122.593 704.377 120.765 707.942 Q118.959 711.484 118.959 718.613 Q118.959 725.72 120.765 729.285 Q122.593 732.826 126.205 732.826 Q129.839 732.826 131.644 729.285 Q133.473 725.72 133.473 718.613 Q133.473 711.484 131.644 707.942 Q129.839 704.377 126.205 704.377 M126.205 700.674 Q132.015 700.674 135.07 705.28 Q138.149 709.863 138.149 718.613 Q138.149 727.34 135.07 731.947 Q132.015 736.53 126.205 736.53 Q120.394 736.53 117.316 731.947 Q114.26 727.34 114.26 718.613 Q114.26 709.863 117.316 705.28 Q120.394 700.674 126.205 700.674 Z\" fill=\"#000000\" fill-rule=\"nonzero\" fill-opacity=\"1\" /><path clip-path=\"url(#clip120)\" d=\"M146.366 729.979 L151.251 729.979 L151.251 735.859 L146.366 735.859 L146.366 729.979 Z\" fill=\"#000000\" fill-rule=\"nonzero\" fill-opacity=\"1\" /><path clip-path=\"url(#clip120)\" d=\"M165.464 731.923 L181.783 731.923 L181.783 735.859 L159.839 735.859 L159.839 731.923 Q162.501 729.169 167.084 724.539 Q171.69 719.886 172.871 718.544 Q175.116 716.021 175.996 714.285 Q176.899 712.525 176.899 710.836 Q176.899 708.081 174.954 706.345 Q173.033 704.609 169.931 704.609 Q167.732 704.609 165.278 705.373 Q162.848 706.137 160.07 707.687 L160.07 702.965 Q162.894 701.831 165.348 701.252 Q167.802 700.674 169.839 700.674 Q175.209 700.674 178.403 703.359 Q181.598 706.044 181.598 710.535 Q181.598 712.664 180.788 714.586 Q180.001 716.484 177.894 719.076 Q177.315 719.748 174.214 722.965 Q171.112 726.16 165.464 731.923 Z\" fill=\"#000000\" fill-rule=\"nonzero\" fill-opacity=\"1\" /><path clip-path=\"url(#clip120)\" d=\"M201.598 704.377 Q197.987 704.377 196.158 707.942 Q194.352 711.484 194.352 718.613 Q194.352 725.72 196.158 729.285 Q197.987 732.826 201.598 732.826 Q205.232 732.826 207.037 729.285 Q208.866 725.72 208.866 718.613 Q208.866 711.484 207.037 707.942 Q205.232 704.377 201.598 704.377 M201.598 700.674 Q207.408 700.674 210.463 705.28 Q213.542 709.863 213.542 718.613 Q213.542 727.34 210.463 731.947 Q207.408 736.53 201.598 736.53 Q195.787 736.53 192.709 731.947 Q189.653 727.34 189.653 718.613 Q189.653 709.863 192.709 705.28 Q195.787 700.674 201.598 700.674 Z\" fill=\"#000000\" fill-rule=\"nonzero\" fill-opacity=\"1\" /><path clip-path=\"url(#clip120)\" d=\"M127.2 469.488 Q123.589 469.488 121.76 473.053 Q119.955 476.595 119.955 483.725 Q119.955 490.831 121.76 494.396 Q123.589 497.937 127.2 497.937 Q130.834 497.937 132.64 494.396 Q134.468 490.831 134.468 483.725 Q134.468 476.595 132.64 473.053 Q130.834 469.488 127.2 469.488 M127.2 465.785 Q133.01 465.785 136.066 470.391 Q139.144 474.975 139.144 483.725 Q139.144 492.451 136.066 497.058 Q133.01 501.641 127.2 501.641 Q121.39 501.641 118.311 497.058 Q115.256 492.451 115.256 483.725 Q115.256 474.975 118.311 470.391 Q121.39 465.785 127.2 465.785 Z\" fill=\"#000000\" fill-rule=\"nonzero\" fill-opacity=\"1\" /><path clip-path=\"url(#clip120)\" d=\"M147.362 495.09 L152.246 495.09 L152.246 500.97 L147.362 500.97 L147.362 495.09 Z\" fill=\"#000000\" fill-rule=\"nonzero\" fill-opacity=\"1\" /><path clip-path=\"url(#clip120)\" d=\"M166.459 497.035 L182.778 497.035 L182.778 500.97 L160.834 500.97 L160.834 497.035 Q163.496 494.28 168.079 489.65 Q172.686 484.998 173.866 483.655 Q176.112 481.132 176.991 479.396 Q177.894 477.637 177.894 475.947 Q177.894 473.192 175.95 471.456 Q174.028 469.72 170.927 469.72 Q168.727 469.72 166.274 470.484 Q163.843 471.248 161.065 472.799 L161.065 468.076 Q163.89 466.942 166.343 466.363 Q168.797 465.785 170.834 465.785 Q176.204 465.785 179.399 468.47 Q182.593 471.155 182.593 475.646 Q182.593 477.775 181.783 479.697 Q180.996 481.595 178.889 484.187 Q178.311 484.859 175.209 488.076 Q172.107 491.271 166.459 497.035 Z\" fill=\"#000000\" fill-rule=\"nonzero\" fill-opacity=\"1\" /><path clip-path=\"url(#clip120)\" d=\"M192.639 466.41 L210.996 466.41 L210.996 470.345 L196.922 470.345 L196.922 478.817 Q197.94 478.47 198.959 478.308 Q199.977 478.123 200.996 478.123 Q206.783 478.123 210.162 481.294 Q213.542 484.465 213.542 489.882 Q213.542 495.461 210.07 498.562 Q206.598 501.641 200.278 501.641 Q198.102 501.641 195.834 501.271 Q193.588 500.9 191.181 500.16 L191.181 495.461 Q193.264 496.595 195.487 497.15 Q197.709 497.706 200.186 497.706 Q204.19 497.706 206.528 495.599 Q208.866 493.493 208.866 489.882 Q208.866 486.271 206.528 484.164 Q204.19 482.058 200.186 482.058 Q198.311 482.058 196.436 482.475 Q194.584 482.891 192.639 483.771 L192.639 466.41 Z\" fill=\"#000000\" fill-rule=\"nonzero\" fill-opacity=\"1\" /><path clip-path=\"url(#clip120)\" d=\"M126.205 234.6 Q122.593 234.6 120.765 238.164 Q118.959 241.706 118.959 248.836 Q118.959 255.942 120.765 259.507 Q122.593 263.049 126.205 263.049 Q129.839 263.049 131.644 259.507 Q133.473 255.942 133.473 248.836 Q133.473 241.706 131.644 238.164 Q129.839 234.6 126.205 234.6 M126.205 230.896 Q132.015 230.896 135.07 235.502 Q138.149 240.086 138.149 248.836 Q138.149 257.562 135.07 262.169 Q132.015 266.752 126.205 266.752 Q120.394 266.752 117.316 262.169 Q114.26 257.562 114.26 248.836 Q114.26 240.086 117.316 235.502 Q120.394 230.896 126.205 230.896 Z\" fill=\"#000000\" fill-rule=\"nonzero\" fill-opacity=\"1\" /><path clip-path=\"url(#clip120)\" d=\"M146.366 260.201 L151.251 260.201 L151.251 266.081 L146.366 266.081 L146.366 260.201 Z\" fill=\"#000000\" fill-rule=\"nonzero\" fill-opacity=\"1\" /><path clip-path=\"url(#clip120)\" d=\"M175.602 247.447 Q178.959 248.164 180.834 250.433 Q182.732 252.701 182.732 256.035 Q182.732 261.15 179.214 263.951 Q175.695 266.752 169.214 266.752 Q167.038 266.752 164.723 266.312 Q162.431 265.896 159.978 265.039 L159.978 260.525 Q161.922 261.66 164.237 262.238 Q166.552 262.817 169.075 262.817 Q173.473 262.817 175.764 261.081 Q178.079 259.345 178.079 256.035 Q178.079 252.979 175.926 251.266 Q173.797 249.53 169.977 249.53 L165.95 249.53 L165.95 245.688 L170.163 245.688 Q173.612 245.688 175.44 244.322 Q177.269 242.933 177.269 240.34 Q177.269 237.678 175.371 236.266 Q173.496 234.831 169.977 234.831 Q168.056 234.831 165.857 235.248 Q163.658 235.664 161.019 236.544 L161.019 232.377 Q163.681 231.637 165.996 231.266 Q168.334 230.896 170.394 230.896 Q175.718 230.896 178.82 233.327 Q181.922 235.734 181.922 239.854 Q181.922 242.725 180.278 244.715 Q178.635 246.683 175.602 247.447 Z\" fill=\"#000000\" fill-rule=\"nonzero\" fill-opacity=\"1\" /><path clip-path=\"url(#clip120)\" d=\"M201.598 234.6 Q197.987 234.6 196.158 238.164 Q194.352 241.706 194.352 248.836 Q194.352 255.942 196.158 259.507 Q197.987 263.049 201.598 263.049 Q205.232 263.049 207.037 259.507 Q208.866 255.942 208.866 248.836 Q208.866 241.706 207.037 238.164 Q205.232 234.6 201.598 234.6 M201.598 230.896 Q207.408 230.896 210.463 235.502 Q213.542 240.086 213.542 248.836 Q213.542 257.562 210.463 262.169 Q207.408 266.752 201.598 266.752 Q195.787 266.752 192.709 262.169 Q189.653 257.562 189.653 248.836 Q189.653 240.086 192.709 235.502 Q195.787 230.896 201.598 230.896 Z\" fill=\"#000000\" fill-rule=\"nonzero\" fill-opacity=\"1\" /><path clip-path=\"url(#clip120)\" d=\"M21.7677 1184.09 L39.6235 1184.09 L39.6235 1176.01 Q39.6235 1171.52 37.3 1169.07 Q34.9765 1166.62 30.6797 1166.62 Q26.4147 1166.62 24.0912 1169.07 Q21.7677 1171.52 21.7677 1176.01 L21.7677 1184.09 M16.4842 1190.52 L16.4842 1176.01 Q16.4842 1168.02 20.1126 1163.94 Q23.7092 1159.84 30.6797 1159.84 Q37.7138 1159.84 41.3104 1163.94 Q44.907 1168.02 44.907 1176.01 L44.907 1184.09 L64.0042 1184.09 L64.0042 1190.52 L16.4842 1190.52 Z\" fill=\"#000000\" fill-rule=\"nonzero\" fill-opacity=\"1\" /><path clip-path=\"url(#clip120)\" d=\"M32.4621 1139.98 Q32.4621 1144.69 36.1542 1147.42 Q39.8145 1150.16 46.212 1150.16 Q52.6095 1150.16 56.3017 1147.46 Q59.9619 1144.72 59.9619 1139.98 Q59.9619 1135.3 56.2698 1132.56 Q52.5777 1129.82 46.212 1129.82 Q39.8781 1129.82 36.186 1132.56 Q32.4621 1135.3 32.4621 1139.98 M27.4968 1139.98 Q27.4968 1132.34 32.4621 1127.98 Q37.4273 1123.62 46.212 1123.62 Q54.9649 1123.62 59.9619 1127.98 Q64.9272 1132.34 64.9272 1139.98 Q64.9272 1147.65 59.9619 1152.01 Q54.9649 1156.34 46.212 1156.34 Q37.4273 1156.34 32.4621 1152.01 Q27.4968 1147.65 27.4968 1139.98 Z\" fill=\"#000000\" fill-rule=\"nonzero\" fill-opacity=\"1\" /><path clip-path=\"url(#clip120)\" d=\"M33.8307 1093.25 Q33.2578 1094.24 33.0032 1095.42 Q32.7167 1096.56 32.7167 1097.96 Q32.7167 1102.93 35.9632 1105.6 Q39.1779 1108.24 45.2253 1108.24 L64.0042 1108.24 L64.0042 1114.13 L28.3562 1114.13 L28.3562 1108.24 L33.8944 1108.24 Q30.6479 1106.4 29.0883 1103.44 Q27.4968 1100.48 27.4968 1096.24 Q27.4968 1095.64 27.5923 1094.91 Q27.656 1094.17 27.8151 1093.28 L33.8307 1093.25 Z\" fill=\"#000000\" fill-rule=\"nonzero\" fill-opacity=\"1\" /><path clip-path=\"url(#clip120)\" d=\"M18.2347 1081.32 L28.3562 1081.32 L28.3562 1069.25 L32.9077 1069.25 L32.9077 1081.32 L52.2594 1081.32 Q56.6199 1081.32 57.8613 1080.14 Q59.1026 1078.93 59.1026 1075.27 L59.1026 1069.25 L64.0042 1069.25 L64.0042 1075.27 Q64.0042 1082.05 61.4897 1084.63 Q58.9434 1087.2 52.2594 1087.2 L32.9077 1087.2 L32.9077 1091.5 L28.3562 1091.5 L28.3562 1087.2 L18.2347 1087.2 L18.2347 1081.32 Z\" fill=\"#000000\" fill-rule=\"nonzero\" fill-opacity=\"1\" /><path clip-path=\"url(#clip120)\" d=\"M14.479 1043.5 L19.3487 1043.5 L19.3487 1049.1 Q19.3487 1052.26 20.6219 1053.5 Q21.895 1054.71 25.2052 1054.71 L28.3562 1054.71 L28.3562 1045.06 L32.9077 1045.06 L32.9077 1054.71 L64.0042 1054.71 L64.0042 1060.6 L32.9077 1060.6 L32.9077 1066.2 L28.3562 1066.2 L28.3562 1060.6 L25.8736 1060.6 Q19.9216 1060.6 17.2162 1057.83 Q14.479 1055.06 14.479 1049.04 L14.479 1043.5 Z\" fill=\"#000000\" fill-rule=\"nonzero\" fill-opacity=\"1\" /><path clip-path=\"url(#clip120)\" d=\"M32.4621 1024.79 Q32.4621 1029.5 36.1542 1032.24 Q39.8145 1034.97 46.212 1034.97 Q52.6095 1034.97 56.3017 1032.27 Q59.9619 1029.53 59.9619 1024.79 Q59.9619 1020.11 56.2698 1017.37 Q52.5777 1014.63 46.212 1014.63 Q39.8781 1014.63 36.186 1017.37 Q32.4621 1020.11 32.4621 1024.79 M27.4968 1024.79 Q27.4968 1017.15 32.4621 1012.79 Q37.4273 1008.43 46.212 1008.43 Q54.9649 1008.43 59.9619 1012.79 Q64.9272 1017.15 64.9272 1024.79 Q64.9272 1032.46 59.9619 1036.82 Q54.9649 1041.15 46.212 1041.15 Q37.4273 1041.15 32.4621 1036.82 Q27.4968 1032.46 27.4968 1024.79 Z\" fill=\"#000000\" fill-rule=\"nonzero\" fill-opacity=\"1\" /><path clip-path=\"url(#clip120)\" d=\"M14.479 998.72 L14.479 992.864 L64.0042 992.864 L64.0042 998.72 L14.479 998.72 Z\" fill=\"#000000\" fill-rule=\"nonzero\" fill-opacity=\"1\" /><path clip-path=\"url(#clip120)\" d=\"M28.3562 980.61 L28.3562 974.754 L64.0042 974.754 L64.0042 980.61 L28.3562 980.61 M14.479 980.61 L14.479 974.754 L21.895 974.754 L21.895 980.61 L14.479 980.61 Z\" fill=\"#000000\" fill-rule=\"nonzero\" fill-opacity=\"1\" /><path clip-path=\"url(#clip120)\" d=\"M32.4621 948.686 Q32.4621 953.397 36.1542 956.134 Q39.8145 958.871 46.212 958.871 Q52.6095 958.871 56.3017 956.166 Q59.9619 953.428 59.9619 948.686 Q59.9619 944.007 56.2698 941.27 Q52.5777 938.533 46.212 938.533 Q39.8781 938.533 36.186 941.27 Q32.4621 944.007 32.4621 948.686 M27.4968 948.686 Q27.4968 941.047 32.4621 936.687 Q37.4273 932.326 46.212 932.326 Q54.9649 932.326 59.9619 936.687 Q64.9272 941.047 64.9272 948.686 Q64.9272 956.357 59.9619 960.717 Q54.9649 965.046 46.212 965.046 Q37.4273 965.046 32.4621 960.717 Q27.4968 956.357 27.4968 948.686 Z\" fill=\"#000000\" fill-rule=\"nonzero\" fill-opacity=\"1\" /><path clip-path=\"url(#clip120)\" d=\"M41.7242 879.109 Q42.4244 877.04 44.7161 875.098 Q47.0077 873.125 51.0181 871.152 L64.0042 864.627 L64.0042 871.534 L51.8138 877.613 Q47.0395 879.968 45.48 882.196 Q43.9204 884.392 43.9204 888.212 L43.9204 895.214 L64.0042 895.214 L64.0042 901.643 L16.4842 901.643 L16.4842 887.13 Q16.4842 878.981 19.8898 874.971 Q23.2955 870.961 30.1704 870.961 Q34.6582 870.961 37.6183 873.061 Q40.5784 875.13 41.7242 879.109 M21.7677 895.214 L38.6368 895.214 L38.6368 887.13 Q38.6368 882.483 36.5043 880.127 Q34.34 877.74 30.1704 877.74 Q26.0009 877.74 23.9002 880.127 Q21.7677 882.483 21.7677 887.13 L21.7677 895.214 Z\" fill=\"#000000\" fill-rule=\"nonzero\" fill-opacity=\"1\" /><path clip-path=\"url(#clip120)\" d=\"M44.7161 829.042 L47.5806 829.042 L47.5806 855.969 Q53.6281 855.587 56.8109 852.341 Q59.9619 849.063 59.9619 843.238 Q59.9619 839.864 59.1344 836.713 Q58.3069 833.53 56.6518 830.411 L62.1899 830.411 Q63.5267 833.562 64.227 836.872 Q64.9272 840.182 64.9272 843.588 Q64.9272 852.118 59.9619 857.115 Q54.9967 862.081 46.5303 862.081 Q37.7774 862.081 32.6531 857.37 Q27.4968 852.627 27.4968 844.607 Q27.4968 837.413 32.1438 833.244 Q36.7589 829.042 44.7161 829.042 M42.9973 834.899 Q38.1912 834.963 35.3266 837.604 Q32.4621 840.214 32.4621 844.543 Q32.4621 849.445 35.2312 852.405 Q38.0002 855.333 43.0292 855.778 L42.9973 834.899 Z\" fill=\"#000000\" fill-rule=\"nonzero\" fill-opacity=\"1\" /><path clip-path=\"url(#clip120)\" d=\"M28.3562 822.836 L28.3562 816.979 L56.1743 809.659 L28.3562 802.37 L28.3562 795.463 L56.1743 788.143 L28.3562 780.854 L28.3562 774.998 L64.0042 784.323 L64.0042 791.23 L34.7856 798.901 L64.0042 806.603 L64.0042 813.51 L28.3562 822.836 Z\" fill=\"#000000\" fill-rule=\"nonzero\" fill-opacity=\"1\" /><path clip-path=\"url(#clip120)\" d=\"M46.0847 749.917 Q46.0847 757.015 47.7079 759.752 Q49.3312 762.489 53.2461 762.489 Q56.3653 762.489 58.2114 760.452 Q60.0256 758.383 60.0256 754.85 Q60.0256 749.98 56.5881 747.052 Q53.1188 744.092 47.3897 744.092 L46.0847 744.092 L46.0847 749.917 M43.6657 738.236 L64.0042 738.236 L64.0042 744.092 L58.5933 744.092 Q61.8398 746.097 63.3994 749.089 Q64.9272 752.081 64.9272 756.41 Q64.9272 761.884 61.8716 765.131 Q58.7843 768.345 53.6281 768.345 Q47.6125 768.345 44.5569 764.335 Q41.5014 760.293 41.5014 752.304 L41.5014 744.092 L40.9285 744.092 Q36.8862 744.092 34.6901 746.766 Q32.4621 749.407 32.4621 754.214 Q32.4621 757.269 33.1941 760.166 Q33.9262 763.062 35.3903 765.736 L29.9795 765.736 Q28.7381 762.521 28.1334 759.497 Q27.4968 756.473 27.4968 753.609 Q27.4968 745.875 31.5072 742.055 Q35.5176 738.236 43.6657 738.236 Z\" fill=\"#000000\" fill-rule=\"nonzero\" fill-opacity=\"1\" /><path clip-path=\"url(#clip120)\" d=\"M33.8307 705.516 Q33.2578 706.503 33.0032 707.68 Q32.7167 708.826 32.7167 710.227 Q32.7167 715.192 35.9632 717.865 Q39.1779 720.507 45.2253 720.507 L64.0042 720.507 L64.0042 726.395 L28.3562 726.395 L28.3562 720.507 L33.8944 720.507 Q30.6479 718.661 29.0883 715.701 Q27.4968 712.741 27.4968 708.508 Q27.4968 707.903 27.5923 707.171 Q27.656 706.439 27.8151 705.548 L33.8307 705.516 Z\" fill=\"#000000\" fill-rule=\"nonzero\" fill-opacity=\"1\" /><path clip-path=\"url(#clip120)\" d=\"M33.7671 677.061 L14.479 677.061 L14.479 671.205 L64.0042 671.205 L64.0042 677.061 L58.657 677.061 Q61.8398 678.907 63.3994 681.74 Q64.9272 684.541 64.9272 688.488 Q64.9272 694.949 59.771 699.023 Q54.6147 703.065 46.212 703.065 Q37.8093 703.065 32.6531 699.023 Q27.4968 694.949 27.4968 688.488 Q27.4968 684.541 29.0564 681.74 Q30.5842 678.907 33.7671 677.061 M46.212 697.018 Q52.6732 697.018 56.3653 694.376 Q60.0256 691.702 60.0256 687.055 Q60.0256 682.408 56.3653 679.735 Q52.6732 677.061 46.212 677.061 Q39.7508 677.061 36.0905 679.735 Q32.3984 682.408 32.3984 687.055 Q32.3984 691.702 36.0905 694.376 Q39.7508 697.018 46.212 697.018 Z\" fill=\"#000000\" fill-rule=\"nonzero\" fill-opacity=\"1\" /><path clip-path=\"url(#clip120)\" d=\"M14.5426 624.353 Q21.8632 628.618 29.0246 630.687 Q36.186 632.756 43.5384 632.756 Q50.8908 632.756 58.1159 630.687 Q65.3091 628.586 72.5979 624.353 L72.5979 629.446 Q65.1182 634.22 57.8931 636.607 Q50.668 638.962 43.5384 638.962 Q36.4406 638.962 29.2474 636.607 Q22.0542 634.252 14.5426 629.446 L14.5426 624.353 Z\" fill=\"#000000\" fill-rule=\"nonzero\" fill-opacity=\"1\" /><path clip-path=\"url(#clip120)\" d=\"M14.479 612.99 L14.479 607.134 L64.0042 607.134 L64.0042 612.99 L14.479 612.99 Z\" fill=\"#000000\" fill-rule=\"nonzero\" fill-opacity=\"1\" /><path clip-path=\"url(#clip120)\" d=\"M32.4621 581.066 Q32.4621 585.777 36.1542 588.514 Q39.8145 591.252 46.212 591.252 Q52.6095 591.252 56.3017 588.546 Q59.9619 585.809 59.9619 581.066 Q59.9619 576.388 56.2698 573.65 Q52.5777 570.913 46.212 570.913 Q39.8781 570.913 36.186 573.65 Q32.4621 576.388 32.4621 581.066 M27.4968 581.066 Q27.4968 573.428 32.4621 569.067 Q37.4273 564.707 46.212 564.707 Q54.9649 564.707 59.9619 569.067 Q64.9272 573.428 64.9272 581.066 Q64.9272 588.737 59.9619 593.098 Q54.9649 597.426 46.212 597.426 Q37.4273 597.426 32.4621 593.098 Q27.4968 588.737 27.4968 581.066 Z\" fill=\"#000000\" fill-rule=\"nonzero\" fill-opacity=\"1\" /><path clip-path=\"url(#clip120)\" d=\"M45.7664 531.541 Q39.4007 531.541 35.8996 534.183 Q32.3984 536.793 32.3984 541.535 Q32.3984 546.246 35.8996 548.888 Q39.4007 551.498 45.7664 551.498 Q52.1003 551.498 55.6014 548.888 Q59.1026 546.246 59.1026 541.535 Q59.1026 536.793 55.6014 534.183 Q52.1003 531.541 45.7664 531.541 M59.58 525.685 Q68.683 525.685 73.1071 529.727 Q77.5631 533.769 77.5631 542.108 Q77.5631 545.196 77.0857 547.933 Q76.6401 550.67 75.6852 553.248 L69.9879 553.248 Q71.3884 550.67 72.0568 548.156 Q72.7252 545.641 72.7252 543.031 Q72.7252 537.27 69.7015 534.406 Q66.7096 531.541 60.6303 531.541 L57.7339 531.541 Q60.885 533.355 62.4446 536.188 Q64.0042 539.021 64.0042 542.968 Q64.0042 549.524 59.0071 553.535 Q54.01 557.545 45.7664 557.545 Q37.491 557.545 32.4939 553.535 Q27.4968 549.524 27.4968 542.968 Q27.4968 539.021 29.0564 536.188 Q30.616 533.355 33.7671 531.541 L28.3562 531.541 L28.3562 525.685 L59.58 525.685 Z\" fill=\"#000000\" fill-rule=\"nonzero\" fill-opacity=\"1\" /><path clip-path=\"url(#clip120)\" d=\"M33.8307 472.245 Q33.2578 473.231 33.0032 474.409 Q32.7167 475.555 32.7167 476.955 Q32.7167 481.921 35.9632 484.594 Q39.1779 487.236 45.2253 487.236 L64.0042 487.236 L64.0042 493.124 L28.3562 493.124 L28.3562 487.236 L33.8944 487.236 Q30.6479 485.39 29.0883 482.43 Q27.4968 479.47 27.4968 475.237 Q27.4968 474.632 27.5923 473.9 Q27.656 473.168 27.8151 472.276 L33.8307 472.245 Z\" fill=\"#000000\" fill-rule=\"nonzero\" fill-opacity=\"1\" /><path clip-path=\"url(#clip120)\" d=\"M44.7161 437.042 L47.5806 437.042 L47.5806 463.969 Q53.6281 463.587 56.8109 460.341 Q59.9619 457.062 59.9619 451.238 Q59.9619 447.864 59.1344 444.713 Q58.3069 441.53 56.6518 438.411 L62.1899 438.411 Q63.5267 441.562 64.227 444.872 Q64.9272 448.182 64.9272 451.588 Q64.9272 460.118 59.9619 465.115 Q54.9967 470.08 46.5303 470.08 Q37.7774 470.08 32.6531 465.37 Q27.4968 460.627 27.4968 452.606 Q27.4968 445.413 32.1438 441.244 Q36.7589 437.042 44.7161 437.042 M42.9973 442.899 Q38.1912 442.962 35.3266 445.604 Q32.4621 448.214 32.4621 452.543 Q32.4621 457.444 35.2312 460.404 Q38.0002 463.333 43.0292 463.778 L42.9973 442.899 Z\" fill=\"#000000\" fill-rule=\"nonzero\" fill-opacity=\"1\" /><path clip-path=\"url(#clip120)\" d=\"M18.2347 421.637 L28.3562 421.637 L28.3562 409.574 L32.9077 409.574 L32.9077 421.637 L52.2594 421.637 Q56.6199 421.637 57.8613 420.46 Q59.1026 419.25 59.1026 415.59 L59.1026 409.574 L64.0042 409.574 L64.0042 415.59 Q64.0042 422.369 61.4897 424.947 Q58.9434 427.526 52.2594 427.526 L32.9077 427.526 L32.9077 431.822 L28.3562 431.822 L28.3562 427.526 L18.2347 427.526 L18.2347 421.637 Z\" fill=\"#000000\" fill-rule=\"nonzero\" fill-opacity=\"1\" /><path clip-path=\"url(#clip120)\" d=\"M49.9359 402.476 L28.3562 402.476 L28.3562 396.62 L49.7131 396.62 Q54.7739 396.62 57.3202 394.647 Q59.8346 392.673 59.8346 388.727 Q59.8346 383.984 56.8109 381.247 Q53.7872 378.478 48.5673 378.478 L28.3562 378.478 L28.3562 372.621 L64.0042 372.621 L64.0042 378.478 L58.5296 378.478 Q61.7762 380.61 63.3676 383.443 Q64.9272 386.244 64.9272 389.968 Q64.9272 396.111 61.1078 399.294 Q57.2883 402.476 49.9359 402.476 M27.4968 387.74 L27.4968 387.74 Z\" fill=\"#000000\" fill-rule=\"nonzero\" fill-opacity=\"1\" /><path clip-path=\"url(#clip120)\" d=\"M33.8307 339.902 Q33.2578 340.888 33.0032 342.066 Q32.7167 343.212 32.7167 344.612 Q32.7167 349.577 35.9632 352.251 Q39.1779 354.893 45.2253 354.893 L64.0042 354.893 L64.0042 360.781 L28.3562 360.781 L28.3562 354.893 L33.8944 354.893 Q30.6479 353.047 29.0883 350.087 Q27.4968 347.127 27.4968 342.893 Q27.4968 342.289 27.5923 341.557 Q27.656 340.825 27.8151 339.933 L33.8307 339.902 Z\" fill=\"#000000\" fill-rule=\"nonzero\" fill-opacity=\"1\" /><path clip-path=\"url(#clip120)\" d=\"M42.4881 305.272 L64.0042 305.272 L64.0042 311.129 L42.679 311.129 Q37.6183 311.129 35.1038 313.102 Q32.5894 315.075 32.5894 319.022 Q32.5894 323.765 35.6131 326.502 Q38.6368 329.239 43.8567 329.239 L64.0042 329.239 L64.0042 335.127 L28.3562 335.127 L28.3562 329.239 L33.8944 329.239 Q30.6797 327.138 29.0883 324.306 Q27.4968 321.441 27.4968 317.717 Q27.4968 311.574 31.3163 308.423 Q35.1038 305.272 42.4881 305.272 Z\" fill=\"#000000\" fill-rule=\"nonzero\" fill-opacity=\"1\" /><path clip-path=\"url(#clip120)\" d=\"M14.5426 294.514 L14.5426 289.422 Q22.0542 284.647 29.2474 282.292 Q36.4406 279.905 43.5384 279.905 Q50.668 279.905 57.8931 282.292 Q65.1182 284.647 72.5979 289.422 L72.5979 294.514 Q65.3091 290.281 58.1159 288.212 Q50.8908 286.111 43.5384 286.111 Q36.186 286.111 29.0246 288.212 Q21.8632 290.281 14.5426 294.514 Z\" fill=\"#000000\" fill-rule=\"nonzero\" fill-opacity=\"1\" /><polyline clip-path=\"url(#clip122)\" style=\"stroke:#b0b0b0; stroke-linecap:round; stroke-linejoin:round; stroke-width:16; stroke-opacity:1; fill:none\" points=\"1126.61,1270.95 1126.61,1270.95 1126.61,1270.95 1126.61,1270.95 1126.61,1270.95 1126.61,1270.95 1126.61,1270.95 1126.61,1270.94 1127.25,1224.49 1129.66,1170.29 1133.86,1116.08 1139.82,1061.88 1147.5,1007.67 1157.08,953.467 1169.23,899.262 1184.32,845.057 1202.41,790.852 1223.31,736.647 1250.13,682.442 1291.73,628.237 1347.01,574.032 1414.03,519.827 1490.88,465.621 1575.87,411.416 1667.52,357.211 1764.63,303.006 1866.21,248.801 1971.48,194.596 2080.02,140.391 2191.42,86.1857 \"/>\n",
       "<circle clip-path=\"url(#clip122)\" cx=\"1184.32\" cy=\"845.057\" r=\"10.8\" fill=\"#ffffff\" fill-rule=\"evenodd\" fill-opacity=\"1\" stroke=\"#000000\" stroke-opacity=\"1\" stroke-width=\"3.2\"/>\n",
       "<circle clip-path=\"url(#clip122)\" cx=\"1223.31\" cy=\"736.647\" r=\"10.8\" fill=\"#ffffff\" fill-rule=\"evenodd\" fill-opacity=\"1\" stroke=\"#000000\" stroke-opacity=\"1\" stroke-width=\"3.2\"/>\n",
       "<circle clip-path=\"url(#clip122)\" cx=\"1126.61\" cy=\"1270.95\" r=\"10.8\" fill=\"#ffffff\" fill-rule=\"evenodd\" fill-opacity=\"1\" stroke=\"#000000\" stroke-opacity=\"1\" stroke-width=\"3.2\"/>\n",
       "<circle clip-path=\"url(#clip122)\" cx=\"1202.41\" cy=\"790.852\" r=\"10.8\" fill=\"#ffffff\" fill-rule=\"evenodd\" fill-opacity=\"1\" stroke=\"#000000\" stroke-opacity=\"1\" stroke-width=\"3.2\"/>\n",
       "<circle clip-path=\"url(#clip122)\" cx=\"1126.61\" cy=\"1270.95\" r=\"10.8\" fill=\"#ffffff\" fill-rule=\"evenodd\" fill-opacity=\"1\" stroke=\"#000000\" stroke-opacity=\"1\" stroke-width=\"3.2\"/>\n",
       "<circle clip-path=\"url(#clip122)\" cx=\"1667.52\" cy=\"357.211\" r=\"10.8\" fill=\"#ffffff\" fill-rule=\"evenodd\" fill-opacity=\"1\" stroke=\"#000000\" stroke-opacity=\"1\" stroke-width=\"3.2\"/>\n",
       "<circle clip-path=\"url(#clip122)\" cx=\"1129.66\" cy=\"1170.29\" r=\"10.8\" fill=\"#ffffff\" fill-rule=\"evenodd\" fill-opacity=\"1\" stroke=\"#000000\" stroke-opacity=\"1\" stroke-width=\"3.2\"/>\n",
       "<circle clip-path=\"url(#clip122)\" cx=\"1971.48\" cy=\"194.596\" r=\"10.8\" fill=\"#ffffff\" fill-rule=\"evenodd\" fill-opacity=\"1\" stroke=\"#000000\" stroke-opacity=\"1\" stroke-width=\"3.2\"/>\n",
       "<circle clip-path=\"url(#clip122)\" cx=\"1126.61\" cy=\"1270.94\" r=\"10.8\" fill=\"#ffffff\" fill-rule=\"evenodd\" fill-opacity=\"1\" stroke=\"#000000\" stroke-opacity=\"1\" stroke-width=\"3.2\"/>\n",
       "<circle clip-path=\"url(#clip122)\" cx=\"1169.23\" cy=\"899.262\" r=\"10.8\" fill=\"#ffffff\" fill-rule=\"evenodd\" fill-opacity=\"1\" stroke=\"#000000\" stroke-opacity=\"1\" stroke-width=\"3.2\"/>\n",
       "<circle clip-path=\"url(#clip122)\" cx=\"2191.42\" cy=\"86.1857\" r=\"10.8\" fill=\"#ffffff\" fill-rule=\"evenodd\" fill-opacity=\"1\" stroke=\"#000000\" stroke-opacity=\"1\" stroke-width=\"3.2\"/>\n",
       "<circle clip-path=\"url(#clip122)\" cx=\"1126.61\" cy=\"1270.95\" r=\"10.8\" fill=\"#ffffff\" fill-rule=\"evenodd\" fill-opacity=\"1\" stroke=\"#000000\" stroke-opacity=\"1\" stroke-width=\"3.2\"/>\n",
       "<circle clip-path=\"url(#clip122)\" cx=\"1347.01\" cy=\"574.032\" r=\"10.8\" fill=\"#ffffff\" fill-rule=\"evenodd\" fill-opacity=\"1\" stroke=\"#000000\" stroke-opacity=\"1\" stroke-width=\"3.2\"/>\n",
       "<circle clip-path=\"url(#clip122)\" cx=\"1139.82\" cy=\"1061.88\" r=\"10.8\" fill=\"#ffffff\" fill-rule=\"evenodd\" fill-opacity=\"1\" stroke=\"#000000\" stroke-opacity=\"1\" stroke-width=\"3.2\"/>\n",
       "<circle clip-path=\"url(#clip122)\" cx=\"1764.63\" cy=\"303.006\" r=\"10.8\" fill=\"#ffffff\" fill-rule=\"evenodd\" fill-opacity=\"1\" stroke=\"#000000\" stroke-opacity=\"1\" stroke-width=\"3.2\"/>\n",
       "<circle clip-path=\"url(#clip122)\" cx=\"1126.61\" cy=\"1270.95\" r=\"10.8\" fill=\"#ffffff\" fill-rule=\"evenodd\" fill-opacity=\"1\" stroke=\"#000000\" stroke-opacity=\"1\" stroke-width=\"3.2\"/>\n",
       "<circle clip-path=\"url(#clip122)\" cx=\"1250.13\" cy=\"682.442\" r=\"10.8\" fill=\"#ffffff\" fill-rule=\"evenodd\" fill-opacity=\"1\" stroke=\"#000000\" stroke-opacity=\"1\" stroke-width=\"3.2\"/>\n",
       "<circle clip-path=\"url(#clip122)\" cx=\"1126.61\" cy=\"1270.95\" r=\"10.8\" fill=\"#ffffff\" fill-rule=\"evenodd\" fill-opacity=\"1\" stroke=\"#000000\" stroke-opacity=\"1\" stroke-width=\"3.2\"/>\n",
       "<circle clip-path=\"url(#clip122)\" cx=\"1291.73\" cy=\"628.237\" r=\"10.8\" fill=\"#ffffff\" fill-rule=\"evenodd\" fill-opacity=\"1\" stroke=\"#000000\" stroke-opacity=\"1\" stroke-width=\"3.2\"/>\n",
       "<circle clip-path=\"url(#clip122)\" cx=\"1490.88\" cy=\"465.621\" r=\"10.8\" fill=\"#ffffff\" fill-rule=\"evenodd\" fill-opacity=\"1\" stroke=\"#000000\" stroke-opacity=\"1\" stroke-width=\"3.2\"/>\n",
       "<circle clip-path=\"url(#clip122)\" cx=\"1133.86\" cy=\"1116.08\" r=\"10.8\" fill=\"#ffffff\" fill-rule=\"evenodd\" fill-opacity=\"1\" stroke=\"#000000\" stroke-opacity=\"1\" stroke-width=\"3.2\"/>\n",
       "<circle clip-path=\"url(#clip122)\" cx=\"1575.87\" cy=\"411.416\" r=\"10.8\" fill=\"#ffffff\" fill-rule=\"evenodd\" fill-opacity=\"1\" stroke=\"#000000\" stroke-opacity=\"1\" stroke-width=\"3.2\"/>\n",
       "<circle clip-path=\"url(#clip122)\" cx=\"1866.21\" cy=\"248.801\" r=\"10.8\" fill=\"#ffffff\" fill-rule=\"evenodd\" fill-opacity=\"1\" stroke=\"#000000\" stroke-opacity=\"1\" stroke-width=\"3.2\"/>\n",
       "<circle clip-path=\"url(#clip122)\" cx=\"1126.61\" cy=\"1270.95\" r=\"10.8\" fill=\"#ffffff\" fill-rule=\"evenodd\" fill-opacity=\"1\" stroke=\"#000000\" stroke-opacity=\"1\" stroke-width=\"3.2\"/>\n",
       "<circle clip-path=\"url(#clip122)\" cx=\"1414.03\" cy=\"519.827\" r=\"10.8\" fill=\"#ffffff\" fill-rule=\"evenodd\" fill-opacity=\"1\" stroke=\"#000000\" stroke-opacity=\"1\" stroke-width=\"3.2\"/>\n",
       "<circle clip-path=\"url(#clip122)\" cx=\"1157.08\" cy=\"953.467\" r=\"10.8\" fill=\"#ffffff\" fill-rule=\"evenodd\" fill-opacity=\"1\" stroke=\"#000000\" stroke-opacity=\"1\" stroke-width=\"3.2\"/>\n",
       "<circle clip-path=\"url(#clip122)\" cx=\"2080.02\" cy=\"140.391\" r=\"10.8\" fill=\"#ffffff\" fill-rule=\"evenodd\" fill-opacity=\"1\" stroke=\"#000000\" stroke-opacity=\"1\" stroke-width=\"3.2\"/>\n",
       "<circle clip-path=\"url(#clip122)\" cx=\"1147.5\" cy=\"1007.67\" r=\"10.8\" fill=\"#ffffff\" fill-rule=\"evenodd\" fill-opacity=\"1\" stroke=\"#000000\" stroke-opacity=\"1\" stroke-width=\"3.2\"/>\n",
       "<circle clip-path=\"url(#clip122)\" cx=\"1127.25\" cy=\"1224.49\" r=\"10.8\" fill=\"#ffffff\" fill-rule=\"evenodd\" fill-opacity=\"1\" stroke=\"#000000\" stroke-opacity=\"1\" stroke-width=\"3.2\"/>\n",
       "<circle clip-path=\"url(#clip122)\" cx=\"1126.61\" cy=\"1270.95\" r=\"10.8\" fill=\"#ffffff\" fill-rule=\"evenodd\" fill-opacity=\"1\" stroke=\"#000000\" stroke-opacity=\"1\" stroke-width=\"3.2\"/>\n",
       "<polyline clip-path=\"url(#clip122)\" style=\"stroke:#ff0000; stroke-linecap:round; stroke-linejoin:round; stroke-width:16; stroke-opacity:1; fill:none\" points=\"909.712,1384.24 909.712,1384.24 909.712,1384.24 909.712,1384.24 909.712,1384.24 909.712,1384.17 910.169,1332.9 911.582,1278.7 913.857,1224.49 916.996,1170.29 921.129,1116.08 926.318,1061.88 932.577,1007.67 939.876,953.467 948.182,899.262 957.542,845.057 968.277,790.852 980.66,736.647 996.62,682.442 1034.51,628.237 1096.41,574.032 1177.53,519.827 1273.3,465.621 1380.02,411.416 1494.87,357.211 1615.8,303.006 1741.33,248.801 1870.4,194.596 2002.22,140.391 \"/>\n",
       "<circle clip-path=\"url(#clip122)\" cx=\"948.182\" cy=\"899.262\" r=\"10.8\" fill=\"#ffffff\" fill-rule=\"evenodd\" fill-opacity=\"1\" stroke=\"#000000\" stroke-opacity=\"1\" stroke-width=\"3.2\"/>\n",
       "<circle clip-path=\"url(#clip122)\" cx=\"1380.02\" cy=\"411.416\" r=\"10.8\" fill=\"#ffffff\" fill-rule=\"evenodd\" fill-opacity=\"1\" stroke=\"#000000\" stroke-opacity=\"1\" stroke-width=\"3.2\"/>\n",
       "<circle clip-path=\"url(#clip122)\" cx=\"921.129\" cy=\"1116.08\" r=\"10.8\" fill=\"#ffffff\" fill-rule=\"evenodd\" fill-opacity=\"1\" stroke=\"#000000\" stroke-opacity=\"1\" stroke-width=\"3.2\"/>\n",
       "<circle clip-path=\"url(#clip122)\" cx=\"968.277\" cy=\"790.852\" r=\"10.8\" fill=\"#ffffff\" fill-rule=\"evenodd\" fill-opacity=\"1\" stroke=\"#000000\" stroke-opacity=\"1\" stroke-width=\"3.2\"/>\n",
       "<circle clip-path=\"url(#clip122)\" cx=\"996.62\" cy=\"682.442\" r=\"10.8\" fill=\"#ffffff\" fill-rule=\"evenodd\" fill-opacity=\"1\" stroke=\"#000000\" stroke-opacity=\"1\" stroke-width=\"3.2\"/>\n",
       "<circle clip-path=\"url(#clip122)\" cx=\"909.712\" cy=\"1384.24\" r=\"10.8\" fill=\"#ffffff\" fill-rule=\"evenodd\" fill-opacity=\"1\" stroke=\"#000000\" stroke-opacity=\"1\" stroke-width=\"3.2\"/>\n",
       "<circle clip-path=\"url(#clip122)\" cx=\"916.996\" cy=\"1170.29\" r=\"10.8\" fill=\"#ffffff\" fill-rule=\"evenodd\" fill-opacity=\"1\" stroke=\"#000000\" stroke-opacity=\"1\" stroke-width=\"3.2\"/>\n",
       "<circle clip-path=\"url(#clip122)\" cx=\"980.66\" cy=\"736.647\" r=\"10.8\" fill=\"#ffffff\" fill-rule=\"evenodd\" fill-opacity=\"1\" stroke=\"#000000\" stroke-opacity=\"1\" stroke-width=\"3.2\"/>\n",
       "<circle clip-path=\"url(#clip122)\" cx=\"1096.41\" cy=\"574.032\" r=\"10.8\" fill=\"#ffffff\" fill-rule=\"evenodd\" fill-opacity=\"1\" stroke=\"#000000\" stroke-opacity=\"1\" stroke-width=\"3.2\"/>\n",
       "<circle clip-path=\"url(#clip122)\" cx=\"913.857\" cy=\"1224.49\" r=\"10.8\" fill=\"#ffffff\" fill-rule=\"evenodd\" fill-opacity=\"1\" stroke=\"#000000\" stroke-opacity=\"1\" stroke-width=\"3.2\"/>\n",
       "<circle clip-path=\"url(#clip122)\" cx=\"911.582\" cy=\"1278.7\" r=\"10.8\" fill=\"#ffffff\" fill-rule=\"evenodd\" fill-opacity=\"1\" stroke=\"#000000\" stroke-opacity=\"1\" stroke-width=\"3.2\"/>\n",
       "<circle clip-path=\"url(#clip122)\" cx=\"939.876\" cy=\"953.467\" r=\"10.8\" fill=\"#ffffff\" fill-rule=\"evenodd\" fill-opacity=\"1\" stroke=\"#000000\" stroke-opacity=\"1\" stroke-width=\"3.2\"/>\n",
       "<circle clip-path=\"url(#clip122)\" cx=\"910.169\" cy=\"1332.9\" r=\"10.8\" fill=\"#ffffff\" fill-rule=\"evenodd\" fill-opacity=\"1\" stroke=\"#000000\" stroke-opacity=\"1\" stroke-width=\"3.2\"/>\n",
       "<circle clip-path=\"url(#clip122)\" cx=\"1034.51\" cy=\"628.237\" r=\"10.8\" fill=\"#ffffff\" fill-rule=\"evenodd\" fill-opacity=\"1\" stroke=\"#000000\" stroke-opacity=\"1\" stroke-width=\"3.2\"/>\n",
       "<circle clip-path=\"url(#clip122)\" cx=\"1273.3\" cy=\"465.621\" r=\"10.8\" fill=\"#ffffff\" fill-rule=\"evenodd\" fill-opacity=\"1\" stroke=\"#000000\" stroke-opacity=\"1\" stroke-width=\"3.2\"/>\n",
       "<circle clip-path=\"url(#clip122)\" cx=\"1741.33\" cy=\"248.801\" r=\"10.8\" fill=\"#ffffff\" fill-rule=\"evenodd\" fill-opacity=\"1\" stroke=\"#000000\" stroke-opacity=\"1\" stroke-width=\"3.2\"/>\n",
       "<circle clip-path=\"url(#clip122)\" cx=\"909.712\" cy=\"1384.24\" r=\"10.8\" fill=\"#ffffff\" fill-rule=\"evenodd\" fill-opacity=\"1\" stroke=\"#000000\" stroke-opacity=\"1\" stroke-width=\"3.2\"/>\n",
       "<circle clip-path=\"url(#clip122)\" cx=\"909.712\" cy=\"1384.17\" r=\"10.8\" fill=\"#ffffff\" fill-rule=\"evenodd\" fill-opacity=\"1\" stroke=\"#000000\" stroke-opacity=\"1\" stroke-width=\"3.2\"/>\n",
       "<circle clip-path=\"url(#clip122)\" cx=\"909.712\" cy=\"1384.24\" r=\"10.8\" fill=\"#ffffff\" fill-rule=\"evenodd\" fill-opacity=\"1\" stroke=\"#000000\" stroke-opacity=\"1\" stroke-width=\"3.2\"/>\n",
       "<circle clip-path=\"url(#clip122)\" cx=\"1494.87\" cy=\"357.211\" r=\"10.8\" fill=\"#ffffff\" fill-rule=\"evenodd\" fill-opacity=\"1\" stroke=\"#000000\" stroke-opacity=\"1\" stroke-width=\"3.2\"/>\n",
       "<circle clip-path=\"url(#clip122)\" cx=\"932.577\" cy=\"1007.67\" r=\"10.8\" fill=\"#ffffff\" fill-rule=\"evenodd\" fill-opacity=\"1\" stroke=\"#000000\" stroke-opacity=\"1\" stroke-width=\"3.2\"/>\n",
       "<circle clip-path=\"url(#clip122)\" cx=\"909.712\" cy=\"1384.24\" r=\"10.8\" fill=\"#ffffff\" fill-rule=\"evenodd\" fill-opacity=\"1\" stroke=\"#000000\" stroke-opacity=\"1\" stroke-width=\"3.2\"/>\n",
       "<circle clip-path=\"url(#clip122)\" cx=\"926.318\" cy=\"1061.88\" r=\"10.8\" fill=\"#ffffff\" fill-rule=\"evenodd\" fill-opacity=\"1\" stroke=\"#000000\" stroke-opacity=\"1\" stroke-width=\"3.2\"/>\n",
       "<circle clip-path=\"url(#clip122)\" cx=\"1615.8\" cy=\"303.006\" r=\"10.8\" fill=\"#ffffff\" fill-rule=\"evenodd\" fill-opacity=\"1\" stroke=\"#000000\" stroke-opacity=\"1\" stroke-width=\"3.2\"/>\n",
       "<circle clip-path=\"url(#clip122)\" cx=\"1870.4\" cy=\"194.596\" r=\"10.8\" fill=\"#ffffff\" fill-rule=\"evenodd\" fill-opacity=\"1\" stroke=\"#000000\" stroke-opacity=\"1\" stroke-width=\"3.2\"/>\n",
       "<circle clip-path=\"url(#clip122)\" cx=\"909.712\" cy=\"1384.24\" r=\"10.8\" fill=\"#ffffff\" fill-rule=\"evenodd\" fill-opacity=\"1\" stroke=\"#000000\" stroke-opacity=\"1\" stroke-width=\"3.2\"/>\n",
       "<circle clip-path=\"url(#clip122)\" cx=\"2002.22\" cy=\"140.391\" r=\"10.8\" fill=\"#ffffff\" fill-rule=\"evenodd\" fill-opacity=\"1\" stroke=\"#000000\" stroke-opacity=\"1\" stroke-width=\"3.2\"/>\n",
       "<circle clip-path=\"url(#clip122)\" cx=\"957.542\" cy=\"845.057\" r=\"10.8\" fill=\"#ffffff\" fill-rule=\"evenodd\" fill-opacity=\"1\" stroke=\"#000000\" stroke-opacity=\"1\" stroke-width=\"3.2\"/>\n",
       "<circle clip-path=\"url(#clip122)\" cx=\"1177.53\" cy=\"519.827\" r=\"10.8\" fill=\"#ffffff\" fill-rule=\"evenodd\" fill-opacity=\"1\" stroke=\"#000000\" stroke-opacity=\"1\" stroke-width=\"3.2\"/>\n",
       "<path clip-path=\"url(#clip120)\" d=\"M319.649 248.629 L634.206 248.629 L634.206 93.1086 L319.649 93.1086  Z\" fill=\"#ffffff\" fill-rule=\"evenodd\" fill-opacity=\"1\"/>\n",
       "<polyline clip-path=\"url(#clip120)\" style=\"stroke:#000000; stroke-linecap:round; stroke-linejoin:round; stroke-width:4; stroke-opacity:1; fill:none\" points=\"319.649,248.629 634.206,248.629 634.206,93.1086 319.649,93.1086 319.649,248.629 \"/>\n",
       "<polyline clip-path=\"url(#clip120)\" style=\"stroke:#b0b0b0; stroke-linecap:round; stroke-linejoin:round; stroke-width:16; stroke-opacity:1; fill:none\" points=\"343.018,144.949 483.232,144.949 \"/>\n",
       "<path clip-path=\"url(#clip120)\" d=\"M511.277 131.511 L511.277 158.386 L516.926 158.386 Q524.078 158.386 527.388 155.145 Q530.722 151.905 530.722 144.914 Q530.722 137.969 527.388 134.752 Q524.078 131.511 516.926 131.511 L511.277 131.511 M506.602 127.669 L516.208 127.669 Q526.254 127.669 530.953 131.858 Q535.652 136.025 535.652 144.914 Q535.652 153.849 530.93 158.039 Q526.208 162.229 516.208 162.229 L506.602 162.229 L506.602 127.669 Z\" fill=\"#000000\" fill-rule=\"nonzero\" fill-opacity=\"1\" /><path clip-path=\"url(#clip120)\" d=\"M554.703 149.196 Q549.541 149.196 547.55 150.377 Q545.56 151.557 545.56 154.405 Q545.56 156.673 547.041 158.016 Q548.546 159.335 551.115 159.335 Q554.657 159.335 556.786 156.835 Q558.939 154.312 558.939 150.145 L558.939 149.196 L554.703 149.196 M563.198 147.437 L563.198 162.229 L558.939 162.229 L558.939 158.293 Q557.481 160.655 555.305 161.789 Q553.129 162.9 549.981 162.9 Q545.999 162.9 543.638 160.678 Q541.3 158.432 541.3 154.682 Q541.3 150.307 544.217 148.085 Q547.157 145.863 552.967 145.863 L558.939 145.863 L558.939 145.446 Q558.939 142.507 556.995 140.909 Q555.073 139.289 551.578 139.289 Q549.356 139.289 547.249 139.821 Q545.143 140.354 543.199 141.419 L543.199 137.483 Q545.536 136.581 547.736 136.141 Q549.935 135.678 552.018 135.678 Q557.643 135.678 560.421 138.594 Q563.198 141.511 563.198 147.437 Z\" fill=\"#000000\" fill-rule=\"nonzero\" fill-opacity=\"1\" /><path clip-path=\"url(#clip120)\" d=\"M576.184 128.942 L576.184 136.303 L584.958 136.303 L584.958 139.613 L576.184 139.613 L576.184 153.687 Q576.184 156.858 577.041 157.761 Q577.921 158.664 580.583 158.664 L584.958 158.664 L584.958 162.229 L580.583 162.229 Q575.652 162.229 573.777 160.4 Q571.902 158.548 571.902 153.687 L571.902 139.613 L568.777 139.613 L568.777 136.303 L571.902 136.303 L571.902 128.942 L576.184 128.942 Z\" fill=\"#000000\" fill-rule=\"nonzero\" fill-opacity=\"1\" /><path clip-path=\"url(#clip120)\" d=\"M602.342 149.196 Q597.18 149.196 595.189 150.377 Q593.198 151.557 593.198 154.405 Q593.198 156.673 594.68 158.016 Q596.184 159.335 598.754 159.335 Q602.295 159.335 604.425 156.835 Q606.578 154.312 606.578 150.145 L606.578 149.196 L602.342 149.196 M610.837 147.437 L610.837 162.229 L606.578 162.229 L606.578 158.293 Q605.119 160.655 602.944 161.789 Q600.768 162.9 597.62 162.9 Q593.638 162.9 591.277 160.678 Q588.939 158.432 588.939 154.682 Q588.939 150.307 591.856 148.085 Q594.795 145.863 600.606 145.863 L606.578 145.863 L606.578 145.446 Q606.578 142.507 604.633 140.909 Q602.712 139.289 599.217 139.289 Q596.995 139.289 594.888 139.821 Q592.782 140.354 590.837 141.419 L590.837 137.483 Q593.175 136.581 595.374 136.141 Q597.573 135.678 599.657 135.678 Q605.282 135.678 608.059 138.594 Q610.837 141.511 610.837 147.437 Z\" fill=\"#000000\" fill-rule=\"nonzero\" fill-opacity=\"1\" /><polyline clip-path=\"url(#clip120)\" style=\"stroke:#ff0000; stroke-linecap:round; stroke-linejoin:round; stroke-width:16; stroke-opacity:1; fill:none\" points=\"343.018,196.789 483.232,196.789 \"/>\n",
       "<path clip-path=\"url(#clip120)\" d=\"M528.847 180.643 L528.847 185.203 Q526.185 183.93 523.824 183.305 Q521.463 182.68 519.263 182.68 Q515.444 182.68 513.361 184.161 Q511.301 185.643 511.301 188.374 Q511.301 190.666 512.666 191.847 Q514.055 193.004 517.898 193.722 L520.722 194.3 Q525.953 195.296 528.43 197.819 Q530.93 200.319 530.93 204.532 Q530.93 209.555 527.55 212.147 Q524.194 214.74 517.689 214.74 Q515.236 214.74 512.458 214.184 Q509.703 213.629 506.74 212.541 L506.74 207.726 Q509.588 209.323 512.319 210.133 Q515.051 210.944 517.689 210.944 Q521.694 210.944 523.87 209.37 Q526.046 207.796 526.046 204.879 Q526.046 202.333 524.472 200.897 Q522.921 199.462 519.356 198.745 L516.509 198.189 Q511.277 197.147 508.939 194.925 Q506.602 192.703 506.602 188.745 Q506.602 184.161 509.819 181.522 Q513.06 178.884 518.731 178.884 Q521.162 178.884 523.685 179.323 Q526.208 179.763 528.847 180.643 Z\" fill=\"#000000\" fill-rule=\"nonzero\" fill-opacity=\"1\" /><path clip-path=\"url(#clip120)\" d=\"M538.222 179.509 L542.898 179.509 L542.898 214.069 L538.222 214.069 L538.222 179.509 Z\" fill=\"#000000\" fill-rule=\"nonzero\" fill-opacity=\"1\" /><path clip-path=\"url(#clip120)\" d=\"M552.203 179.509 L559.171 179.509 L567.99 203.027 L576.856 179.509 L583.823 179.509 L583.823 214.069 L579.263 214.069 L579.263 183.722 L570.351 207.425 L565.652 207.425 L556.74 183.722 L556.74 214.069 L552.203 214.069 L552.203 179.509 Z\" fill=\"#000000\" fill-rule=\"nonzero\" fill-opacity=\"1\" /></svg>\n"
      ]
     },
     "execution_count": 26,
     "metadata": {},
     "output_type": "execute_result"
    }
   ],
   "source": [
    "# regular -\n",
    "plot(efficient_frontier, lw=4, xlabel=\"Portfolio Risk (sqrt)\", \n",
    "    ylabel=\"Portfolio Reward (log return)\", fontsize=18, c=:gray69, \n",
    "    xlim=(0.0, 1.2*maximum(efficient_frontier).first), label=\"Data\")\n",
    "scatter!(efficient_frontier, label=\"\", c=:white, mec=:black, ms=3)\n",
    "\n",
    "# single index model -\n",
    "plot!(efficient_frontier_sim, lw=4, xlabel=\"Portfolio Risk (sqrt)\", \n",
    "    ylabel=\"Portfolio Reward (log return)\", fontsize=18, label=\"SIM\", c=:red, \n",
    "    xlim=(0.0, 1.2*maximum(efficient_frontier_sim).first))\n",
    "scatter!(efficient_frontier_sim, label=\"\", c=:white, mec=:red, ms=3)"
   ]
  },
  {
   "cell_type": "markdown",
   "id": "f5783b18-2f56-4641-9464-82658cc68a38",
   "metadata": {},
   "source": [
    "### Disclaimer and Risks\n",
    "__This content is offered solely for training and  informational purposes__. No offer or solicitation to buy or sell securities or derivative products, or any investment or trading advice or strategy,  is made, given, or endorsed by the teaching team. \n",
    "\n",
    "__Trading involves risk__. Carefully review your financial situation before investing in securities, futures contracts, options, or commodity interests. Past performance, whether actual or indicated by historical tests of strategies, is no guarantee of future performance or success. Trading is generally inappropriate for someone with limited resources, investment or trading experience, or a low-risk tolerance.  Only risk capital that is not required for living expenses.\n",
    "\n",
    "__You are fully responsible for any investment or trading decisions you make__. Such decisions should be based solely on your evaluation of your financial circumstances, investment or trading objectives, risk tolerance, and liquidity needs."
   ]
  },
  {
   "cell_type": "code",
   "execution_count": null,
   "id": "1b932005-fdec-4ce0-9469-60f406a464f5",
   "metadata": {},
   "outputs": [],
   "source": []
  },
  {
   "cell_type": "code",
   "execution_count": null,
   "id": "1a22012b-0efa-42be-b128-6ae0abf8fe95",
   "metadata": {},
   "outputs": [],
   "source": []
  },
  {
   "cell_type": "code",
   "execution_count": null,
   "id": "6d9cbddb-fb4b-4e88-9d4f-4ac7421e35f2",
   "metadata": {},
   "outputs": [],
   "source": []
  }
 ],
 "metadata": {
  "kernelspec": {
   "display_name": "Julia 1.9.3",
   "language": "julia",
   "name": "julia-1.9"
  },
  "language_info": {
   "file_extension": ".jl",
   "mimetype": "application/julia",
   "name": "julia",
   "version": "1.9.3"
  }
 },
 "nbformat": 4,
 "nbformat_minor": 5
}
