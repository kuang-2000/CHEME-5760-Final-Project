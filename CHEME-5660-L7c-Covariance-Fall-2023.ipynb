{
 "cells": [
  {
   "cell_type": "markdown",
   "id": "6cd7a8aa-9b82-482f-ae4a-cad35da00ea7",
   "metadata": {},
   "source": [
    "# Example: Computing the Covariance Matrix for Logarithmic Returns\n",
    "Fill me in"
   ]
  },
  {
   "cell_type": "markdown",
   "id": "6804fca0-b5ac-4743-a3e6-67e48188ca8d",
   "metadata": {},
   "source": [
    "## Setup"
   ]
  },
  {
   "cell_type": "code",
   "execution_count": 1,
   "id": "4b96b8c2-359c-469a-b6b7-8348bceb3957",
   "metadata": {
    "tags": []
   },
   "outputs": [
    {
     "name": "stderr",
     "output_type": "stream",
     "text": [
      "\u001b[32m\u001b[1m    Updating\u001b[22m\u001b[39m git-repo `https://github.com/varnerlab/VLQuantitativeFinancePackage.jl.git`\n",
      "\u001b[32m\u001b[1m   Resolving\u001b[22m\u001b[39m package versions...\n",
      "\u001b[32m\u001b[1m  No Changes\u001b[22m\u001b[39m to `~/Desktop/julia_work/CHEME-5660-Examples-F23/Project.toml`\n",
      "\u001b[32m\u001b[1m  No Changes\u001b[22m\u001b[39m to `~/Desktop/julia_work/CHEME-5660-Examples-F23/Manifest.toml`\n",
      "\u001b[32m\u001b[1m  Activating\u001b[22m\u001b[39m project at `~/Desktop/julia_work/CHEME-5660-Examples-F23`\n",
      "\u001b[32m\u001b[1m  No Changes\u001b[22m\u001b[39m to `~/Desktop/julia_work/CHEME-5660-Examples-F23/Project.toml`\n",
      "\u001b[32m\u001b[1m  No Changes\u001b[22m\u001b[39m to `~/Desktop/julia_work/CHEME-5660-Examples-F23/Manifest.toml`\n",
      "\u001b[32m\u001b[1m    Updating\u001b[22m\u001b[39m registry at `~/.julia/registries/General.toml`\n",
      "\u001b[32m\u001b[1m    Updating\u001b[22m\u001b[39m git-repo `https://github.com/varnerlab/VLQuantitativeFinancePackage.jl.git`\n",
      "\u001b[32m\u001b[1m  No Changes\u001b[22m\u001b[39m to `~/Desktop/julia_work/CHEME-5660-Examples-F23/Project.toml`\n",
      "\u001b[32m\u001b[1m  No Changes\u001b[22m\u001b[39m to `~/Desktop/julia_work/CHEME-5660-Examples-F23/Manifest.toml`\n"
     ]
    },
    {
     "data": {
      "text/plain": [
       "securityterm (generic function with 1 method)"
      ]
     },
     "execution_count": 1,
     "metadata": {},
     "output_type": "execute_result"
    }
   ],
   "source": [
    "include(\"Include.jl\");"
   ]
  },
  {
   "cell_type": "markdown",
   "id": "bf4e42a3-ff14-4a10-8604-6ac6ed592f7a",
   "metadata": {},
   "source": [
    "### Constants"
   ]
  },
  {
   "cell_type": "code",
   "execution_count": 2,
   "id": "7ee7942c-c442-4cab-9d2a-115765bb570d",
   "metadata": {
    "tags": []
   },
   "outputs": [],
   "source": [
    "number_of_trading_days = 1256;\n",
    "Δt = (1.0/252);"
   ]
  },
  {
   "cell_type": "markdown",
   "id": "2ad07aae-bab3-41f1-a6db-d08175e20747",
   "metadata": {},
   "source": [
    "## Prerequisite: Load historical equity dataset\n",
    "We gathered a daily open-high-low-close `dataset` for each firm in the [S&P500](https://en.wikipedia.org/wiki/S%26P_500) for the past five-trading years (a maximum of `1256` data points per firm). We will exclude frims that do not have the maximum number of trading days from the `dataset`. \n",
    "\n",
    "We load the price `dataset` by calling the `MyPortfolioDataSet()` function. This returns the `dataset` variable, which is type `Dict{Int64,DataFrame}`"
   ]
  },
  {
   "cell_type": "code",
   "execution_count": 3,
   "id": "e9b0d8df-c3b8-4e56-91c9-5dc9d56a5b89",
   "metadata": {
    "tags": []
   },
   "outputs": [],
   "source": [
    "dataset = MyPortfolioDataSet() |> x-> x[\"dataset\"];"
   ]
  },
  {
   "cell_type": "markdown",
   "id": "96a11d53-676a-425b-876d-a2a9b6dc7779",
   "metadata": {},
   "source": [
    "The all keys array holds the list of firm indexes in the dataset that have complete data, i.e., all `1256` data values: "
   ]
  },
  {
   "cell_type": "code",
   "execution_count": 4,
   "id": "c7427383-0157-4484-936c-622e9ae51925",
   "metadata": {
    "tags": []
   },
   "outputs": [],
   "source": [
    "list_of_all_firms = keys(dataset) |> collect |> sort;"
   ]
  },
  {
   "cell_type": "code",
   "execution_count": null,
   "id": "182012a4-c2e7-4d4e-87e7-d6e0e541dbe2",
   "metadata": {},
   "outputs": [],
   "source": []
  }
 ],
 "metadata": {
  "kernelspec": {
   "display_name": "Julia 1.9.3",
   "language": "julia",
   "name": "julia-1.9"
  },
  "language_info": {
   "file_extension": ".jl",
   "mimetype": "application/julia",
   "name": "julia",
   "version": "1.9.3"
  }
 },
 "nbformat": 4,
 "nbformat_minor": 5
}
