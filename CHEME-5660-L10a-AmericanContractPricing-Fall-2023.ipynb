{
 "cells": [
  {
   "cell_type": "markdown",
   "id": "3c5bc2ac-3b77-41c4-9f55-efa807ee24ba",
   "metadata": {},
   "source": [
    "# Example: Pricing of American Options Contracts\n",
    "We begin our discussion of American style `call` and `put` contracts by computing the premium $\\mathcal{P}_{\\star}(K,S(0))$ the buyer must pay for a American style-contract at the time its purchased. \n",
    "\n",
    "* The key difference between European and American-style contracts is that early exercise is allowed for American-style contracts. Thus, the an Americam contract seller will demand a premium that is greater than the European contract because of the possibility of early exercise (strictly greater than case):\n",
    "\n",
    "$$\\mathcal{P}_{\\star}(K,S(0)) \\geq \\mathbb{E}\\Bigl(\\mathcal{D}^{-1}_{T,0}(\\bar{r})\\cdot{V_{\\star}}(K,S(T))\\Bigr)$$\n",
    "\n",
    "Because exercise can occur at anytime between $0\\rightarrow{T}$ we need to project the share price $S(t)$ over the time interval, not just at the endpoint like a European contract. We'll use a binomial lattice approximation of the share price over the time interval $0\\rightarrow{T}$ in combination with a dynamic programming to compute the contract premium.\n",
    "\n",
    "## Learning objectives\n",
    "In this example, we'll use the binomial lattice approximation of the share price over the interval $0\\rightarrow{T}$ combined with dynamic programming to compute the premium for American-style contracts. In particular, we will focus on how the contract prices change as we move from when the contract was established toward expiration.\n",
    "\n",
    "* Objective 1: We'll review the pricing of American `call` and `put` contracts using the Cox, Ross, and Rubinstein (CRR) model and [VLQuantitativeFinancePackage.jl](https://github.com/varnerlab/VLQuantitativeFinancePackage.jl.git)"
   ]
  },
  {
   "cell_type": "markdown",
   "id": "61305dda-8700-4e41-b118-675fcbc70342",
   "metadata": {},
   "source": [
    "## Setup"
   ]
  },
  {
   "cell_type": "code",
   "execution_count": null,
   "id": "bf24f738-278c-4d28-8c78-a230455b450c",
   "metadata": {
    "tags": []
   },
   "outputs": [
    {
     "name": "stderr",
     "output_type": "stream",
     "text": [
      "\u001b[32m\u001b[1m    Updating\u001b[22m\u001b[39m git-repo `https://github.com/varnerlab/VLQuantitativeFinancePackage.jl.git`\n",
      "\u001b[32m\u001b[1m   Resolving\u001b[22m\u001b[39m package versions...\n",
      "\u001b[32m\u001b[1m  No Changes\u001b[22m\u001b[39m to `~/Desktop/julia_work/CHEME-5660-Examples-F23/Project.toml`\n",
      "\u001b[32m\u001b[1m  No Changes\u001b[22m\u001b[39m to `~/Desktop/julia_work/CHEME-5660-Examples-F23/Manifest.toml`\n",
      "\u001b[32m\u001b[1m  Activating\u001b[22m\u001b[39m project at `~/Desktop/julia_work/CHEME-5660-Examples-F23`\n",
      "\u001b[32m\u001b[1m  No Changes\u001b[22m\u001b[39m to `~/Desktop/julia_work/CHEME-5660-Examples-F23/Project.toml`\n",
      "\u001b[32m\u001b[1m  No Changes\u001b[22m\u001b[39m to `~/Desktop/julia_work/CHEME-5660-Examples-F23/Manifest.toml`\n",
      "\u001b[32m\u001b[1m    Updating\u001b[22m\u001b[39m registry at `~/.julia/registries/General.toml`\n"
     ]
    }
   ],
   "source": [
    "include(\"Include.jl\");"
   ]
  },
  {
   "cell_type": "markdown",
   "id": "280e6245-cb34-4923-ace1-cdf695f0b31f",
   "metadata": {},
   "source": [
    "### Types\n",
    "\n",
    "The `MyAmericanPutContractModel` and `MyAmericanCallContractModel` types encode information about American `put` and `call` contracts:\n",
    "* The field `K::Float64` is the strike price of the `put` (or `call`) contract\n",
    "* The field `sense::Int64` encodes if the contract was sold (`sense = -1` short) or purcahsed (`sense = 1` long). \n",
    "* The `DTE::Float64` field encodes the number of days to expiration (DTE) of the contract\n",
    "* The `IV::Float64` field encodes the implied volatility, i.e., the share price volatility of the underlying asset for this `put` or `call` contract\n",
    "* The `premium::Union{Nothing, Float64}` field is the cost of the contract (what we'll be calculating in this example)\n",
    "* The `ticker::Union{Nothing,String}` field encodes the symbol for a `put` or `call` contract, see [How to Read a Stock Options Ticker](https://polygon.io/blog/how-to-read-a-stock-options-ticker/).\n",
    "\n",
    "\n",
    "The `MyAdjacencyBasedCRREquityPriceTree` type encoded data required to compute the price of an American `call` or `put` contract price using the Bionomial lattice model of Cox, Ross and Rubinstein:\n",
    "* The `data::Dict{Int, MyCRRLatticeNodeModel}` field holds a `Dict` where the node indexes are the `keys` and `MyCRRLatticeNodeModel` are the values. \n",
    "    * The `MyCRRLatticeNodeModel` type holds the `price` and `probability` of the underlying share price, along with the `intrinsic::Float64` and `extrinsic::Float64` value of the contract at the node index. \n",
    "* The `connectivity::Dict{Int64, Array{Int64,1}}` holds a `Dict` which holds connectivity information about the nodes in the lattice\n",
    "* The `levels::Dict{Int64,Array{Int64,1}}` field the node indexes on a particular tree level\n",
    "* The `u::Float64` field holds the value of the `up` factor\n",
    "* The `p::Float64` field holds the probability of an `up` price move by the underlying stock\n",
    "* The `ΔT::Float64` field holds the length of the time step in the lattice\n",
    "* The `μ::Float64` field holds the risk free growth rate"
   ]
  },
  {
   "cell_type": "markdown",
   "id": "fad67a8d-543c-4c32-b40c-2a981b66c908",
   "metadata": {},
   "source": [
    "### Data\n",
    "We downloaded the options chain for [Advanced Micro Devices (AMD)](https://en.wikipedia.org/wiki/AMD) from [barchart.com](https://www.barchart.com). For this set of values, the share price of `AMD` was $S_{\\circ}$ = 117.50 USD/share, and the average implied volatility for `AMD` options with `DTE = 31 days` is `IV = 51.75%`. We load the options data using the ` MyOptionsChainDataSet()` function and store in the `options_dataset` variable, which is an instance of `DataFrame`:"
   ]
  },
  {
   "cell_type": "code",
   "execution_count": null,
   "id": "61838a1d-0ed6-4d7d-ba09-8f408a270c2b",
   "metadata": {
    "tags": []
   },
   "outputs": [],
   "source": [
    "options_dataset = MyOptionsChainDataSet();"
   ]
  },
  {
   "cell_type": "markdown",
   "id": "f96f3a05-b047-435a-845d-d7df8daf955b",
   "metadata": {},
   "source": [
    "## Lattice model of Cox, Ross and Rubinstein (CRR)\n",
    "A binomial lattice model assumes that each discrete time increment, the state of the system, e.g., the share price of equity, the spot rate, etc., can either increase by a factor $u$ with probability $p$ or decrease by a factor $d$ with probability $(1-p)$. Different models can be developed for the specific values of the tuple $(u,d,p)$. One particular model is the Cox, Ross, and Rubinstein (CRR) model:\n",
    "\n",
    "* [Cox, J. C.; Ross, S. A.; Rubinstein, M. (1979). \"Option pricing: A simplified approach\". Journal of Financial Economics. 7 (3): 229. CiteSeerX 10.1.1.379.7582. doi:10.1016/0304-405X(79)90015-1](https://www.sciencedirect.com/science/article/pii/0304405X79900151?via%3Dihub)\n",
    "\n",
    "The [CRR binomial lattice model](https://en.wikipedia.org/wiki/Binomial_options_pricing_model) was initially developed for options pricing in 1979. However, one of the critical aspects of estimating an option’s price is calculating the underlying asset’s share price. In the [CRR model](https://en.wikipedia.org/wiki/Binomial_options_pricing_model) model, the `up` and `down` moves are symmetric:\n",
    "\n",
    "$$ud = 1$$\n",
    "\n",
    "where the magnitude of an `up` move $u$ is given by:\n",
    "\n",
    "$$u = \\exp(\\sigma\\sqrt{\\Delta{T}})$$\n",
    "\n",
    "The quantity $\\sigma$ denotes a _volatility parameter_, and $\\Delta{T}$ represents the time step. The probability $p$ of an `up` move in a [CRR model](https://en.wikipedia.org/wiki/Binomial_options_pricing_model) is given by:\n",
    "\n",
    "$$p = \\frac{\\exp(\\bar{r}\\Delta{T}) - d}{u - d}$$\n",
    "\n",
    "where $\\bar{r}$ denotes a _return parameter_. In the [CRR model](https://en.wikipedia.org/wiki/Binomial_options_pricing_model) model paradigm, the return parameter $\\mu$ and the volatility parameter $\\sigma$ take on common values:\n",
    "* The return parameter is a _risk-free_ rate of return; the _risk-free_ rate $\\bar{r}$ can be approximated by the [yield on T = 10-year United States Treasury debt security](https://ycharts.com/indicators/10_year_treasury_rate). \n",
    "* The volatility parameter $\\sigma$ is the [implied volatility](https://www.investopedia.com/terms/i/iv.asp); the implied volatility is the market's view of the likelihood of changes in a given security's price.\n",
    "\n",
    "To start this calculation, first, let's look at how to construct and price a single `put` contract. \n",
    "* Let's set constant values for the contracts (these values, with the exception of `IV` are the same for each strike price `K`). The time will be calendar days `Δt = 1/365`, the initial share price `Sₒ` is 117.50 USD/share, the days to expiration or `DTE` is `31` days, the annual risk-free rate is `r̄ = 0.0418` and the (average) implied volatility `IV = 51.75%`:"
   ]
  },
  {
   "cell_type": "code",
   "execution_count": null,
   "id": "0e69af4b-11b4-4227-98e9-5603bd954b85",
   "metadata": {
    "tags": []
   },
   "outputs": [],
   "source": [
    "Δt, Sₒ, r̄, IV, K, h = (1.0/365.0), 117.50, 0.0418, 0.5175, 125.0, 365;\n",
    "DTE = 31.0*Δt;"
   ]
  },
  {
   "cell_type": "markdown",
   "id": "fc3c8268-ac25-467b-9630-bd553f40ea40",
   "metadata": {},
   "source": [
    "Next, let's build an instance of the `MyAdjacencyBasedCRREquityPriceTree` type which holds the parameters and data for the binomial price tree using the `build(...)` function. We store this in the `test_treemodel` variable:"
   ]
  },
  {
   "cell_type": "code",
   "execution_count": null,
   "id": "d891a69e-09b3-4e29-a9af-5dcb5f6a6a3b",
   "metadata": {
    "tags": []
   },
   "outputs": [],
   "source": [
    "test_treemodel = build(MyAdjacencyBasedCRREquityPriceTree, \n",
    "    (μ = r̄, T = DTE, σ = IV)) |> (x-> populate(x, Sₒ = Sₒ, h = h));"
   ]
  },
  {
   "cell_type": "markdown",
   "id": "8f09a8b9-12d3-44b2-950d-f631b37fd708",
   "metadata": {},
   "source": [
    "Now, create an instance of the `MyAmericanPutContractModel` type which holds the data for the contract information using the `build(...)` method. We store this instance in the `test_american_put_contract_model` variable:"
   ]
  },
  {
   "cell_type": "code",
   "execution_count": null,
   "id": "43e95a9a-1687-439b-be6f-a7258bf0fd56",
   "metadata": {
    "tags": []
   },
   "outputs": [],
   "source": [
    "test_american_put_contract_model = build(MyAmericanPutContractModel, (\n",
    "        K = K, sense = 1, copy = 1));"
   ]
  },
  {
   "cell_type": "markdown",
   "id": "0e4bf842-b2cd-4746-ae52-01ab6a04d3b2",
   "metadata": {},
   "source": [
    "Finally, we can compute the premium for this `put` contract by passing the `test_treemodel` instance (which holds the risk-neutral simulation of the share price) and the `test_american_put_contract_model` instance (holds contract information) to the `premium(...)` function:"
   ]
  },
  {
   "cell_type": "code",
   "execution_count": null,
   "id": "fa7a2eee-3656-45eb-b7b8-feb11d86ce4c",
   "metadata": {
    "tags": []
   },
   "outputs": [],
   "source": [
    "P_american_CRR = premium(test_american_put_contract_model, test_treemodel) |> x-> round(x,sigdigits=3)\n",
    "println(\"The CRR premium for the American put contract is: $(P_american_CRR) USD/share\")"
   ]
  },
  {
   "cell_type": "markdown",
   "id": "f81e72fb-06f3-4a2e-a2c9-77ad1b7724df",
   "metadata": {},
   "source": [
    "### Check: Is the predicted price the same as the observed price?"
   ]
  },
  {
   "cell_type": "code",
   "execution_count": null,
   "id": "af226257-1b79-4319-bfca-b1cbc77b2a63",
   "metadata": {
    "tags": []
   },
   "outputs": [],
   "source": [
    "check_put_dataset = filter([:Type, :Strike] => (x,y)-> x == \"Put\" && y == K, options_dataset)"
   ]
  },
  {
   "cell_type": "code",
   "execution_count": null,
   "id": "a2feefbe-b2c4-43e4-b2fc-a1c1c58d2818",
   "metadata": {
    "tags": []
   },
   "outputs": [],
   "source": [
    "ϵ = (check_put_dataset[1,:Midpoint] - P_american_CRR)/(check_put_dataset[1,:Midpoint])*100"
   ]
  },
  {
   "cell_type": "markdown",
   "id": "231f29c6-c9f6-4353-86f1-d56e238ea111",
   "metadata": {},
   "source": [
    "## Does the `CRR` model replicate the Observed Market Price?\n",
    "Let's use the `CRR model` to simulate the premium of American-style options contracts as a function of the strike price `K`. "
   ]
  },
  {
   "cell_type": "markdown",
   "id": "cf130590-69a7-4755-b979-762b60cf1156",
   "metadata": {},
   "source": [
    "Next, let's create an array of strike prices that are present in the data, we'll store this array in the `strike_price_array` variable:"
   ]
  },
  {
   "cell_type": "code",
   "execution_count": null,
   "id": "58d5e021-1e4e-44cd-a7da-0496101fd600",
   "metadata": {
    "tags": []
   },
   "outputs": [],
   "source": [
    "start_strike = 40.0;\n",
    "stop_strike = 200.0;\n",
    "strike_price_array = range(start_strike, stop = stop_strike, step=1) |> collect;\n",
    "number_of_strike_prices = length(strike_price_array);"
   ]
  },
  {
   "cell_type": "markdown",
   "id": "1876971f-4d0b-44d9-93a7-c52dfc48d41f",
   "metadata": {},
   "source": [
    "Now that we have the strike prices, and other data we create instances of the `MyAmericanPutContractModel` and `MyAmericanCallContractModel` models which holds the contract data using the `build(...)` method. We store these instances in the `american_put_contract_model` and the `american_call_contract_model` variables:"
   ]
  },
  {
   "cell_type": "code",
   "execution_count": null,
   "id": "ab900d8d-6878-48a1-b089-e8fe3ee11cd2",
   "metadata": {
    "tags": []
   },
   "outputs": [],
   "source": [
    "american_put_contract_model = build(MyAmericanPutContractModel, (\n",
    "        K = 0.0, sense = 1, copy = 1));\n",
    "\n",
    "american_call_contract_model = build(MyAmericanCallContractModel, (\n",
    "        K = 0.0, sense = 1, copy = 1));"
   ]
  },
  {
   "cell_type": "markdown",
   "id": "c7ee8eca-e1e2-44b7-93eb-278542cf7952",
   "metadata": {},
   "source": [
    "### Call contracts\n",
    "To start the calculation for `call` contracts, we filter the `options_dataset` and collect the `call` contracts with strike prices in the `strike_price_array`, we store the `call` contract data in the `call_dataset`, which is type `DataFrame`. \n",
    "\n",
    "Next, we build an instance of the `MyAdjacencyBasedCRREquityPriceTree` type, which holds the parameters and data for the binomial price tree using the `build(...)` function. We store this in the `treemodel` variable. We then calculate the premium for the various strike prices in the `strike_price_array`, ranging from `K=40` to `K=200`, using a `for` loop, and record the estimated premium in the `df_CRR_call_simulation` DataFrame. For each strike price:\n",
    "* We first check if the dataset has an existing `IV` value. If there is, we use that `IV` value. Otherwise, we use the `at the money` value for the implied volatility, `IV = 0.5175`. \n",
    "* Then, we update the strike price field `K` of the `put_contract_model` instance that we created above with the current strike price value.\n",
    "* Finally, we calculate the premium for this contract using the `premium(…)` function."
   ]
  },
  {
   "cell_type": "code",
   "execution_count": null,
   "id": "c496e8ad-4e5b-4159-86a2-38ecd88887c0",
   "metadata": {
    "tags": []
   },
   "outputs": [],
   "source": [
    "call_dataset = filter([:Type, :Strike] => (x,y)-> x == \"Call\" && y ∈ strike_price_array, options_dataset);\n",
    "df_CRR_call_simulation = DataFrame()\n",
    "for value ∈ strike_price_array\n",
    "    \n",
    "    # compute the IV - use average IV is not in dataset\n",
    "    tmp = call_dataset[call_dataset.Strike .== value, :IV]\n",
    "    IV_value = IV;\n",
    "    if (isempty(tmp) == false)\n",
    "        IV_value = first(tmp);\n",
    "    end\n",
    "    \n",
    "    # build the tree -\n",
    "    treemodel = build(MyAdjacencyBasedCRREquityPriceTree, \n",
    "        (μ = r̄, T = DTE, σ = first(IV_value))) |> (x-> populate(x, Sₒ = Sₒ, h = h));\n",
    "        \n",
    "    american_call_contract_model.K = value;   \n",
    "    price_value = premium(american_call_contract_model, treemodel)\n",
    "\n",
    "    # store the results\n",
    "    results_tuple = (\n",
    "        K = value,\n",
    "        premium = price_value,\n",
    "        Type = \"Call\"\n",
    "    );\n",
    "    push!(df_CRR_call_simulation, results_tuple);\n",
    "end"
   ]
  },
  {
   "cell_type": "markdown",
   "id": "5b23a138-6f55-4623-8b0b-f015fb3ff8fb",
   "metadata": {},
   "source": [
    "### Put contracts\n",
    "To start the calculation for `put` contracts, we filter the `options_dataset` and collect the `put` contracts with strike prices in the `strike_price_array`, we store the `put` contract data in the `put_dataset`, which is type `DataFrame`. \n",
    "\n",
    "Next, we build an instance of the `MyAdjacencyBasedCRREquityPriceTree` type, which holds the parameters and data for the binomial price tree using the `build(...)` function. We store this in the `treemodel` variable. We then calculate the premium for the various strike prices in the `strike_price_array`, ranging from `K=40` to `K=200`, using a `for` loop, and record the estimated premium in the `df_CRR_put_simulation` DataFrame. For each strike price:\n",
    "* We first check if the dataset has an existing `IV` value. If there is, we use that `IV` value. Otherwise, we use the average value for the implied volatility, `IV = 0.5175`. \n",
    "* Then, we update the strike price field `K` of the `put_contract_model` instance that we created above with the current strike price value. \n",
    "* Finally, we calculate the premium for this contract using the `premium(…)` function.* We first check if the dataset has an existing `IV` value. If there is, we use that `IV` value. Otherwise, we use the average value for the implied volatility, `IV = 0.5175`. "
   ]
  },
  {
   "cell_type": "code",
   "execution_count": null,
   "id": "c1f6ed1d-1640-48b0-a175-873a81ea0659",
   "metadata": {
    "tags": []
   },
   "outputs": [],
   "source": [
    "put_dataset = filter([:Type, :Strike] => (x,y)-> x == \"Put\" && y ∈ strike_price_array, options_dataset);\n",
    "df_CRR_put_simulation = DataFrame()\n",
    "for value ∈ strike_price_array\n",
    "    \n",
    "    # compute the IV - use average IV is not in dataset\n",
    "    tmp = put_dataset[put_dataset.Strike .== value, :IV]\n",
    "    IV_value = IV;\n",
    "    if (isempty(tmp) == false)\n",
    "        IV_value = first(tmp);\n",
    "    end\n",
    "    \n",
    "    # build the tree -\n",
    "    treemodel = build(MyAdjacencyBasedCRREquityPriceTree, \n",
    "        (μ = r̄, T = DTE, σ = first(IV_value))) |> (x-> populate(x, Sₒ = Sₒ, h = h));\n",
    "    \n",
    "    american_put_contract_model.K = value;   \n",
    "    price_value = premium(american_put_contract_model, treemodel)\n",
    "\n",
    "    # store the results\n",
    "    results_tuple = (\n",
    "        K = value,\n",
    "        premium = price_value,\n",
    "        Type = \"Put\",\n",
    "        \n",
    "    );\n",
    "    push!(df_CRR_put_simulation, results_tuple);\n",
    "end"
   ]
  },
  {
   "cell_type": "code",
   "execution_count": null,
   "id": "18d80d21-00a3-42fe-814d-efbaacdf0200",
   "metadata": {
    "tags": []
   },
   "outputs": [],
   "source": [
    "df_CRR_put_simulation"
   ]
  },
  {
   "cell_type": "markdown",
   "id": "bd90a6da-0cef-4417-855f-a3b41f867631",
   "metadata": {},
   "source": [
    "#### Visualize\n",
    "Let's plot the strike price `K` on the horizontal axis and the estimated premium on the vertical axis. \n",
    "* The CRR option price simulation follows the trend of prices of `put` options that are `at the money`, i.e., when $S\\simeq{K}$. Additionally, it captures the prices for contracts `in the money`, i.e., $S \\ll {K}$ and `out of the money`, i.e., $S\\gg{K}$:\n",
    "* The CRR option price simulation follows the trend of prices of `call` options that are `at the money`, i.e., when $S\\simeq{K}$. However, it under-predicts the prices of contracts `in the money`, i.e., $S \\gg {K}$ and `out of the money`, i.e., $S\\ll{K}$:"
   ]
  },
  {
   "cell_type": "code",
   "execution_count": null,
   "id": "42d48d4c-2679-46f6-a944-3130f5166912",
   "metadata": {
    "tags": []
   },
   "outputs": [],
   "source": [
    "plot(df_CRR_put_simulation[:,1],df_CRR_put_simulation[:,2], lw=3, label=\"Simulation Put contract\")\n",
    "scatter!(put_dataset[:,:Strike], put_dataset[:,:Ask],label=\"Put Actual DTE = 31 AMD\", mc=:white, msc=:blue)\n",
    "plot!(df_CRR_call_simulation[:,1],df_CRR_call_simulation[:,2], lw=3, label=\"Simulation Call contract\", c=:red)\n",
    "scatter!(call_dataset[:,:Strike], call_dataset[:,:Ask],label=\"Call Actual DTE = 31 AMD\", mc=:white, msc=:red)\n",
    "\n",
    "VLINE = Array{Float64,2}(undef, number_of_strike_prices, 2);\n",
    "premium_low = 0.0\n",
    "premium_high = maximum(put_dataset[:,:Ask]);\n",
    "tmp = range(premium_low, premium_high, length = number_of_strike_prices) |> collect;\n",
    "for i ∈ 1:number_of_strike_prices\n",
    "    VLINE[i,1] = Sₒ\n",
    "    VLINE[i,2] = tmp[i]\n",
    "end\n",
    "plot!(VLINE[:,1], VLINE[:,2], c=:gray69, ls=:dash, label=\"Sₒ = $(Sₒ) USD/share\")\n",
    "\n",
    "xlabel!(\"Strike price K (USD/share)\", fontsize=18)\n",
    "ylabel!(\"Option premium (USD/share)\", fontsize=18)"
   ]
  },
  {
   "cell_type": "code",
   "execution_count": null,
   "id": "bae3636d-a3ec-4830-9427-5f0770c48a88",
   "metadata": {},
   "outputs": [],
   "source": []
  }
 ],
 "metadata": {
  "kernelspec": {
   "display_name": "Julia 1.9.3",
   "language": "julia",
   "name": "julia-1.9"
  },
  "language_info": {
   "file_extension": ".jl",
   "mimetype": "application/julia",
   "name": "julia",
   "version": "1.9.3"
  }
 },
 "nbformat": 4,
 "nbformat_minor": 5
}
