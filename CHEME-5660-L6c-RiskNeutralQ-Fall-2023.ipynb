{
 "cells": [
  {
   "cell_type": "markdown",
   "id": "600de97e-58a9-4a67-b34c-42bfea405629",
   "metadata": {
    "tags": []
   },
   "source": [
    "## Example: Computing Risk Neutral Probabilities in the Binomial Lattice\n",
    "The expected value of the future risk neutral price in a one-period binomial model\n",
    "is:\n",
    "\n",
    "$$\n",
    "\\begin{equation*}\n",
    "    \\mathcal{D}_{1,0}(\\bar{r})\\cdot{S_{\\circ}} = \\mathbb{E}_{\\mathbb{Q}}\\left(S_{1}\\right)\n",
    "\\end{equation*}\n",
    "$$\n",
    "\n",
    "where $\\mathcal{D}_{1,0}(\\bar{r})$ is the continuous discount factor between period $0\\rightarrow{1}$, \n",
    "and $\\bar{r}$ is the annualized risk-free rate. The expectation operator $\\mathbb{E}_{\\mathbb{Q}}(\\dots)$ is taken \n",
    "with respect to a risk neutral probability measure $\\mathbb{Q}$.\n",
    "Thus, the expectation operator $\\mathbb{E}_{\\mathbb{Q}}(\\dots)$ is:\n",
    "\n",
    "$$\n",
    "\\begin{equation*}\n",
    "\\mathcal{D}_{1,0}(\\bar{r})\\cdot{S_{\\circ}} = q\\cdot{S^{u}} + (1-q)\\cdot{S^{d}}\n",
    "\\end{equation*}\n",
    "$$\n",
    "\n",
    "where $q$ is the risk neutral probability of the $\\texttt{up}$ state, \n",
    "and the share price in the $\\texttt{up}$ and $\\texttt{down}$ states are the product of an $\\texttt{up}$ factor $u$ (or a $\\texttt{down}$ factor $d$) and the initial share price, i.e., $S^{u} = u\\cdot{S_{\\circ}}$ and $S^{d} = d\\cdot{S_{\\circ}}$. Putting everything together, gives:\n",
    "\n",
    "$$\n",
    "\\begin{equation*}\n",
    "q = \\frac{\\mathcal{D}_{1,0}(\\bar{r}) - d}{u - d}\n",
    "\\end{equation*}\n",
    "$$\n",
    "\n",
    "### Learning objective\n",
    "In this example, we will familiarize students with the computation of the real-world and risk-neutral probability parameters for a binomial lattice model. In particular, we will:\n",
    "\n",
    "* Load the historical dataset. We gathered a daily open-high-low-close `dataset` for each firm in the [S&P500](https://en.wikipedia.org/wiki/S%26P_500) for the past five-trading years (a maximum of `1256` data points per firm). \n",
    "* Compute the $(p,q,u,d)$ parameters for each firm in the dataset. The results will be stored in `DataFrame`"
   ]
  },
  {
   "cell_type": "markdown",
   "id": "28429093-be5e-4efc-b6fc-7662ae4bc7b3",
   "metadata": {
    "tags": []
   },
   "source": [
    "## Setup\n",
    "We set up the computational environment by including the `Include.jl` file. The `Include.jl` file loads external packages, various functions that we will use in the exercise, and custom types to model the components of our example problem."
   ]
  },
  {
   "cell_type": "code",
   "execution_count": 1,
   "id": "0dde4be9-3351-41d8-b0c8-07741648479a",
   "metadata": {
    "tags": []
   },
   "outputs": [
    {
     "name": "stderr",
     "output_type": "stream",
     "text": [
      "\u001b[32m\u001b[1m    Updating\u001b[22m\u001b[39m git-repo `https://github.com/varnerlab/VLQuantitativeFinancePackage.jl.git`\n",
      "\u001b[32m\u001b[1m   Resolving\u001b[22m\u001b[39m package versions...\n",
      "\u001b[32m\u001b[1m  No Changes\u001b[22m\u001b[39m to `~/Desktop/julia_work/CHEME-5660-Examples-F23/Project.toml`\n",
      "\u001b[32m\u001b[1m  No Changes\u001b[22m\u001b[39m to `~/Desktop/julia_work/CHEME-5660-Examples-F23/Manifest.toml`\n",
      "\u001b[32m\u001b[1m  Activating\u001b[22m\u001b[39m project at `~/Desktop/julia_work/CHEME-5660-Examples-F23`\n",
      "\u001b[32m\u001b[1m  No Changes\u001b[22m\u001b[39m to `~/Desktop/julia_work/CHEME-5660-Examples-F23/Project.toml`\n",
      "\u001b[32m\u001b[1m  No Changes\u001b[22m\u001b[39m to `~/Desktop/julia_work/CHEME-5660-Examples-F23/Manifest.toml`\n",
      "\u001b[32m\u001b[1m    Updating\u001b[22m\u001b[39m registry at `~/.julia/registries/General.toml`\n",
      "\u001b[32m\u001b[1m    Updating\u001b[22m\u001b[39m git-repo `https://github.com/varnerlab/VLQuantitativeFinancePackage.jl.git`\n",
      "\u001b[32m\u001b[1m  No Changes\u001b[22m\u001b[39m to `~/Desktop/julia_work/CHEME-5660-Examples-F23/Project.toml`\n",
      "\u001b[32m\u001b[1m  No Changes\u001b[22m\u001b[39m to `~/Desktop/julia_work/CHEME-5660-Examples-F23/Manifest.toml`\n"
     ]
    },
    {
     "data": {
      "text/plain": [
       "securityterm (generic function with 1 method)"
      ]
     },
     "execution_count": 1,
     "metadata": {},
     "output_type": "execute_result"
    }
   ],
   "source": [
    "include(\"Include.jl\")"
   ]
  },
  {
   "cell_type": "markdown",
   "id": "72680a90-03ed-4555-b0b8-18ce88fe8597",
   "metadata": {},
   "source": [
    "### Constants"
   ]
  },
  {
   "cell_type": "code",
   "execution_count": 7,
   "id": "edb62198-3ea3-4809-93cf-b1904be5fa0e",
   "metadata": {
    "tags": []
   },
   "outputs": [],
   "source": [
    "number_of_trading_days = 1256;\n",
    "Δt = (1.0/252);\n",
    "risk_free_rate = 0.045;\n",
    "𝒟(r,t) = exp(r*t);"
   ]
  },
  {
   "cell_type": "markdown",
   "id": "dba4082b-3fac-4e72-8ecb-986bfd4b4406",
   "metadata": {},
   "source": [
    "## Load historical data set\n",
    "We gathered a daily open-high-low-close `dataset` for each firm in the [S&P500](https://en.wikipedia.org/wiki/S%26P_500) for the past five-trading years (a maximum of `1256` data points per firm). However, not all the firms in the `dataset` have the maximum number of trading days, i.e., some firms are missing information for various reasons; perhaps they were acquired, merged, or delisted, etc. We will exclude these firms from the `dataset`. We load the price `dataset` by calling the `MyPortfolioDataSet()` function:"
   ]
  },
  {
   "cell_type": "code",
   "execution_count": 2,
   "id": "0bb7456b-b8f5-4175-aac3-3e322aec9278",
   "metadata": {
    "tags": []
   },
   "outputs": [],
   "source": [
    "dataset = MyPortfolioDataSet() |> x-> x[\"dataset\"];"
   ]
  },
  {
   "cell_type": "markdown",
   "id": "eb434a75-ac40-468d-91d1-bc97a55eb033",
   "metadata": {},
   "source": [
    "The `list_of_all_firms` array holds the list of firm indexes in the dataset that have complete data, i.e., all `1256` data values: "
   ]
  },
  {
   "cell_type": "code",
   "execution_count": 3,
   "id": "2949952b-5227-4d51-95a3-0d933ab70d9c",
   "metadata": {
    "tags": []
   },
   "outputs": [],
   "source": [
    "list_of_all_firms = keys(dataset) |> collect |> sort;"
   ]
  },
  {
   "cell_type": "markdown",
   "id": "3c0c0d93-50a8-48bf-9eff-99b90b5526cc",
   "metadata": {},
   "source": [
    "While it is sometimes convenient to work with the data using the `firm_index`, often we specify the [ticker symbol](https://en.wikipedia.org/wiki/Ticker_symbol#:~:text=A%20ticker%20symbol%20or%20stock,on%20a%20particular%20stock%20market.) instead. To facilitate this, let's load a mapping between the `firm_index` and the ticker symbols using the `MyFirmMappingDataSet()` function. We store this mapping in the `firm_mapping_df` variable, which is of type `DataFrame`:"
   ]
  },
  {
   "cell_type": "code",
   "execution_count": 4,
   "id": "ee8a3141-7f72-4f00-b71c-7fd805a3fff4",
   "metadata": {
    "tags": []
   },
   "outputs": [
    {
     "data": {
      "text/html": [
       "<div><div style = \"float: left;\"><span>505×3 DataFrame</span></div><div style = \"float: right;\"><span style = \"font-style: italic;\">480 rows omitted</span></div><div style = \"clear: both;\"></div></div><div class = \"data-frame\" style = \"overflow-x: scroll;\"><table class = \"data-frame\" style = \"margin-bottom: 6px;\"><thead><tr class = \"header\"><th class = \"rowNumber\" style = \"font-weight: bold; text-align: right;\">Row</th><th style = \"text-align: left;\">Symbol</th><th style = \"text-align: left;\">Name</th><th style = \"text-align: left;\">Sector</th></tr><tr class = \"subheader headerLastRow\"><th class = \"rowNumber\" style = \"font-weight: bold; text-align: right;\"></th><th title = \"String7\" style = \"text-align: left;\">String7</th><th title = \"String\" style = \"text-align: left;\">String</th><th title = \"String31\" style = \"text-align: left;\">String31</th></tr></thead><tbody><tr><td class = \"rowNumber\" style = \"font-weight: bold; text-align: right;\">1</td><td style = \"text-align: left;\">MMM</td><td style = \"text-align: left;\">3M</td><td style = \"text-align: left;\">Industrials</td></tr><tr><td class = \"rowNumber\" style = \"font-weight: bold; text-align: right;\">2</td><td style = \"text-align: left;\">AOS</td><td style = \"text-align: left;\">A. O. Smith</td><td style = \"text-align: left;\">Industrials</td></tr><tr><td class = \"rowNumber\" style = \"font-weight: bold; text-align: right;\">3</td><td style = \"text-align: left;\">ABT</td><td style = \"text-align: left;\">Abbott Laboratories</td><td style = \"text-align: left;\">Health Care</td></tr><tr><td class = \"rowNumber\" style = \"font-weight: bold; text-align: right;\">4</td><td style = \"text-align: left;\">ABBV</td><td style = \"text-align: left;\">AbbVie</td><td style = \"text-align: left;\">Health Care</td></tr><tr><td class = \"rowNumber\" style = \"font-weight: bold; text-align: right;\">5</td><td style = \"text-align: left;\">ABMD</td><td style = \"text-align: left;\">Abiomed</td><td style = \"text-align: left;\">Health Care</td></tr><tr><td class = \"rowNumber\" style = \"font-weight: bold; text-align: right;\">6</td><td style = \"text-align: left;\">ACN</td><td style = \"text-align: left;\">Accenture</td><td style = \"text-align: left;\">Information Technology</td></tr><tr><td class = \"rowNumber\" style = \"font-weight: bold; text-align: right;\">7</td><td style = \"text-align: left;\">ATVI</td><td style = \"text-align: left;\">Activision Blizzard</td><td style = \"text-align: left;\">Communication Services</td></tr><tr><td class = \"rowNumber\" style = \"font-weight: bold; text-align: right;\">8</td><td style = \"text-align: left;\">ADM</td><td style = \"text-align: left;\">ADM</td><td style = \"text-align: left;\">Consumer Staples</td></tr><tr><td class = \"rowNumber\" style = \"font-weight: bold; text-align: right;\">9</td><td style = \"text-align: left;\">ADBE</td><td style = \"text-align: left;\">Adobe</td><td style = \"text-align: left;\">Information Technology</td></tr><tr><td class = \"rowNumber\" style = \"font-weight: bold; text-align: right;\">10</td><td style = \"text-align: left;\">AAP</td><td style = \"text-align: left;\">Advance Auto Parts</td><td style = \"text-align: left;\">Consumer Discretionary</td></tr><tr><td class = \"rowNumber\" style = \"font-weight: bold; text-align: right;\">11</td><td style = \"text-align: left;\">AMD</td><td style = \"text-align: left;\">Advanced Micro Devices</td><td style = \"text-align: left;\">Information Technology</td></tr><tr><td class = \"rowNumber\" style = \"font-weight: bold; text-align: right;\">12</td><td style = \"text-align: left;\">AES</td><td style = \"text-align: left;\">AES Corp</td><td style = \"text-align: left;\">Utilities</td></tr><tr><td class = \"rowNumber\" style = \"font-weight: bold; text-align: right;\">13</td><td style = \"text-align: left;\">AFL</td><td style = \"text-align: left;\">Aflac</td><td style = \"text-align: left;\">Financials</td></tr><tr><td style = \"text-align: right;\">&vellip;</td><td style = \"text-align: right;\">&vellip;</td><td style = \"text-align: right;\">&vellip;</td><td style = \"text-align: right;\">&vellip;</td></tr><tr><td class = \"rowNumber\" style = \"font-weight: bold; text-align: right;\">494</td><td style = \"text-align: left;\">WHR</td><td style = \"text-align: left;\">Whirlpool Corporation</td><td style = \"text-align: left;\">Consumer Discretionary</td></tr><tr><td class = \"rowNumber\" style = \"font-weight: bold; text-align: right;\">495</td><td style = \"text-align: left;\">WMB</td><td style = \"text-align: left;\">Williams Companies</td><td style = \"text-align: left;\">Energy</td></tr><tr><td class = \"rowNumber\" style = \"font-weight: bold; text-align: right;\">496</td><td style = \"text-align: left;\">WLTW</td><td style = \"text-align: left;\">Willis Towers Watson</td><td style = \"text-align: left;\">Financials</td></tr><tr><td class = \"rowNumber\" style = \"font-weight: bold; text-align: right;\">497</td><td style = \"text-align: left;\">WYNN</td><td style = \"text-align: left;\">Wynn Resorts</td><td style = \"text-align: left;\">Consumer Discretionary</td></tr><tr><td class = \"rowNumber\" style = \"font-weight: bold; text-align: right;\">498</td><td style = \"text-align: left;\">XEL</td><td style = \"text-align: left;\">Xcel Energy</td><td style = \"text-align: left;\">Utilities</td></tr><tr><td class = \"rowNumber\" style = \"font-weight: bold; text-align: right;\">499</td><td style = \"text-align: left;\">XLNX</td><td style = \"text-align: left;\">Xilinx</td><td style = \"text-align: left;\">Information Technology</td></tr><tr><td class = \"rowNumber\" style = \"font-weight: bold; text-align: right;\">500</td><td style = \"text-align: left;\">XYL</td><td style = \"text-align: left;\">Xylem</td><td style = \"text-align: left;\">Industrials</td></tr><tr><td class = \"rowNumber\" style = \"font-weight: bold; text-align: right;\">501</td><td style = \"text-align: left;\">YUM</td><td style = \"text-align: left;\">Yum! Brands</td><td style = \"text-align: left;\">Consumer Discretionary</td></tr><tr><td class = \"rowNumber\" style = \"font-weight: bold; text-align: right;\">502</td><td style = \"text-align: left;\">ZBRA</td><td style = \"text-align: left;\">Zebra Technologies</td><td style = \"text-align: left;\">Information Technology</td></tr><tr><td class = \"rowNumber\" style = \"font-weight: bold; text-align: right;\">503</td><td style = \"text-align: left;\">ZBH</td><td style = \"text-align: left;\">Zimmer Biomet</td><td style = \"text-align: left;\">Health Care</td></tr><tr><td class = \"rowNumber\" style = \"font-weight: bold; text-align: right;\">504</td><td style = \"text-align: left;\">ZION</td><td style = \"text-align: left;\">Zions Bancorp</td><td style = \"text-align: left;\">Financials</td></tr><tr><td class = \"rowNumber\" style = \"font-weight: bold; text-align: right;\">505</td><td style = \"text-align: left;\">ZTS</td><td style = \"text-align: left;\">Zoetis</td><td style = \"text-align: left;\">Health Care</td></tr></tbody></table></div>"
      ],
      "text/latex": [
       "\\begin{tabular}{r|ccc}\n",
       "\t& Symbol & Name & Sector\\\\\n",
       "\t\\hline\n",
       "\t& String7 & String & String31\\\\\n",
       "\t\\hline\n",
       "\t1 & MMM & 3M & Industrials \\\\\n",
       "\t2 & AOS & A. O. Smith & Industrials \\\\\n",
       "\t3 & ABT & Abbott Laboratories & Health Care \\\\\n",
       "\t4 & ABBV & AbbVie & Health Care \\\\\n",
       "\t5 & ABMD & Abiomed & Health Care \\\\\n",
       "\t6 & ACN & Accenture & Information Technology \\\\\n",
       "\t7 & ATVI & Activision Blizzard & Communication Services \\\\\n",
       "\t8 & ADM & ADM & Consumer Staples \\\\\n",
       "\t9 & ADBE & Adobe & Information Technology \\\\\n",
       "\t10 & AAP & Advance Auto Parts & Consumer Discretionary \\\\\n",
       "\t11 & AMD & Advanced Micro Devices & Information Technology \\\\\n",
       "\t12 & AES & AES Corp & Utilities \\\\\n",
       "\t13 & AFL & Aflac & Financials \\\\\n",
       "\t14 & A & Agilent Technologies & Health Care \\\\\n",
       "\t15 & APD & Air Products \\& Chemicals & Materials \\\\\n",
       "\t16 & AKAM & Akamai Technologies & Information Technology \\\\\n",
       "\t17 & ALK & Alaska Air Group & Industrials \\\\\n",
       "\t18 & ALB & Albemarle Corporation & Materials \\\\\n",
       "\t19 & ARE & Alexandria Real Estate Equities & Real Estate \\\\\n",
       "\t20 & ALGN & Align Technology & Health Care \\\\\n",
       "\t21 & ALLE & Allegion & Industrials \\\\\n",
       "\t22 & LNT & Alliant Energy & Utilities \\\\\n",
       "\t23 & ALL & Allstate Corp & Financials \\\\\n",
       "\t24 & GOOGL & Alphabet (Class A) & Communication Services \\\\\n",
       "\t25 & GOOG & Alphabet (Class C) & Communication Services \\\\\n",
       "\t26 & MO & Altria Group & Consumer Staples \\\\\n",
       "\t27 & AMZN & Amazon & Consumer Discretionary \\\\\n",
       "\t28 & AMCR & Amcor & Materials \\\\\n",
       "\t29 & AEE & Ameren Corp & Utilities \\\\\n",
       "\t30 & AAL & American Airlines Group & Industrials \\\\\n",
       "\t$\\dots$ & $\\dots$ & $\\dots$ & $\\dots$ \\\\\n",
       "\\end{tabular}\n"
      ],
      "text/plain": [
       "\u001b[1m505×3 DataFrame\u001b[0m\n",
       "\u001b[1m Row \u001b[0m│\u001b[1m Symbol  \u001b[0m\u001b[1m Name                   \u001b[0m\u001b[1m Sector                 \u001b[0m\n",
       "     │\u001b[90m String7 \u001b[0m\u001b[90m String                 \u001b[0m\u001b[90m String31               \u001b[0m\n",
       "─────┼─────────────────────────────────────────────────────────\n",
       "   1 │ MMM      3M                      Industrials\n",
       "   2 │ AOS      A. O. Smith             Industrials\n",
       "   3 │ ABT      Abbott Laboratories     Health Care\n",
       "   4 │ ABBV     AbbVie                  Health Care\n",
       "   5 │ ABMD     Abiomed                 Health Care\n",
       "   6 │ ACN      Accenture               Information Technology\n",
       "   7 │ ATVI     Activision Blizzard     Communication Services\n",
       "   8 │ ADM      ADM                     Consumer Staples\n",
       "   9 │ ADBE     Adobe                   Information Technology\n",
       "  10 │ AAP      Advance Auto Parts      Consumer Discretionary\n",
       "  11 │ AMD      Advanced Micro Devices  Information Technology\n",
       "  ⋮  │    ⋮               ⋮                       ⋮\n",
       " 496 │ WLTW     Willis Towers Watson    Financials\n",
       " 497 │ WYNN     Wynn Resorts            Consumer Discretionary\n",
       " 498 │ XEL      Xcel Energy             Utilities\n",
       " 499 │ XLNX     Xilinx                  Information Technology\n",
       " 500 │ XYL      Xylem                   Industrials\n",
       " 501 │ YUM      Yum! Brands             Consumer Discretionary\n",
       " 502 │ ZBRA     Zebra Technologies      Information Technology\n",
       " 503 │ ZBH      Zimmer Biomet           Health Care\n",
       " 504 │ ZION     Zions Bancorp           Financials\n",
       " 505 │ ZTS      Zoetis                  Health Care\n",
       "\u001b[36m                                               484 rows omitted\u001b[0m"
      ]
     },
     "execution_count": 4,
     "metadata": {},
     "output_type": "execute_result"
    }
   ],
   "source": [
    "firm_mapping_df = MyFirmMappingDataSet()"
   ]
  },
  {
   "cell_type": "markdown",
   "id": "20034b52-f983-47ee-b73d-18abbd18ac40",
   "metadata": {},
   "source": [
    "## Estimate the up, down, p, and q values for each firm in the dataset\n",
    "After validating our lattice implementation, it's time to utilize historical data to compute a share price prediction. To create a binomial lattice model for future share prices, we need to estimate three critical parameters: $p$, $u$, and $d$.\n",
    "\n",
    "* The $p$ parameter represents the __real world__ probability of a share price increase or an `up` move between two periods $j\\rightarrow{j+1}$. As a binary lattice model only allows `up` and `down` moves, the probability of a `down` move is $1-p$.\n",
    "* The $q$ parameter represents the __risk neutral__ probability of a share price increase or an `up` move between two periods $j\\rightarrow{j+1}$. As a binary lattice model only allows `up` and `down` moves, the probability of a `down` move is $1-q$.\n",
    "* The $u$ parameter represents the amount of an `up` move. If $S_{j}$ stands for the share price in period $j$, and $S_{j+1}$ is the share price in the next period, then an `up` move will give $S_{j+1} = u\\cdot{S}_{j}$.\n",
    "* The $d$ parameter represents the amount of a `down` move. If $S_{j}$ stands for the share price in period $j$, and $S_{j+1}$ is the share price in the next period, then a `down` move will give $S_{j+1} = d\\cdot{S}_{j}$.\n",
    "\n",
    "### Implementation\n",
    "To compute the $(p,q,u,d)$ values for each firm in the dataset, first, we initialize the `binomial_model_parameter_table` as an empty `DataFrame`, the `binomial_model_parameter_table` will hold the tuple of values in table format. Next, we iterate through each firm in the `list_of_all_firms`, the sorted list of keys from the `dataset` dictionary, using a `for` loop. For each iteration of the loop, we:\n",
    "\n",
    "* Get the `firm_index`, `firm_ticker` and the `firm_data` for a particular firm\n",
    "* Then we populate the `log_growth_array` with the daily growth rate values (growth rate is the instantaneous return dived by the time-step)\n",
    "* Next, we call the `analyze(...)` function with the `log_growth_array` and timestep `Δt` as parameters. The `analyze(...)` function returns the estimated magnitude of the `u` and `d` factors as well as the probability `p` of an `up` move\n",
    "* We compute the risk-neutral probability `q`\n",
    "* We store the values in the `firm_results_tuple` and add this data to the `binomial_model_parameter_table` using the `push!(...)` function. "
   ]
  },
  {
   "cell_type": "code",
   "execution_count": 13,
   "id": "3a916009-91b8-4ccb-bbb9-0c7064edf8d2",
   "metadata": {
    "tags": []
   },
   "outputs": [],
   "source": [
    "binomial_model_parameter_table = DataFrame();\n",
    "for i ∈ eachindex(list_of_all_firms)\n",
    "    \n",
    "    # get the firm index, and ticker\n",
    "    firm_index = list_of_all_firms[i];\n",
    "    firm_ticker = firm_mapping_df[firm_index, :Symbol];\n",
    "\n",
    "    # grab the dataset for this firm, and compute the return\n",
    "    firm_dataset = dataset[firm_index];\n",
    "    log_growth_array = Array{Float64,1}(undef, number_of_trading_days-1)\n",
    "    for j ∈ 2:number_of_trading_days\n",
    "    \n",
    "        S₁ = firm_dataset[j-1,:volume_weighted_average_price];\n",
    "        S₂ = firm_dataset[j,:volume_weighted_average_price];\n",
    "        log_growth_array[j-1] = (1/Δt)*log(S₂/S₁);\n",
    "    end\n",
    "    \n",
    "    # analyze the returns, compute u, d and p -\n",
    "    (u,d,p) = analyze(log_growth_array, Δt = Δt);\n",
    "    \n",
    "    # compute the risk neutral probability -\n",
    "    q = (𝒟(risk_free_rate, Δt) - d)/(u - d);\n",
    "    \n",
    "    # store -\n",
    "    firm_results_tuple = (\n",
    "        firm_index=firm_index, firm_ticker=firm_ticker, p = p, q = q, u = u, d = d\n",
    "    );\n",
    "    push!(binomial_model_parameter_table, firm_results_tuple)\n",
    "end"
   ]
  },
  {
   "cell_type": "code",
   "execution_count": 14,
   "id": "643febb6-3c98-4968-88dc-c707d8f731ee",
   "metadata": {
    "tags": []
   },
   "outputs": [
    {
     "data": {
      "text/html": [
       "<div><div style = \"float: left;\"><span>458×6 DataFrame</span></div><div style = \"float: right;\"><span style = \"font-style: italic;\">433 rows omitted</span></div><div style = \"clear: both;\"></div></div><div class = \"data-frame\" style = \"overflow-x: scroll;\"><table class = \"data-frame\" style = \"margin-bottom: 6px;\"><thead><tr class = \"header\"><th class = \"rowNumber\" style = \"font-weight: bold; text-align: right;\">Row</th><th style = \"text-align: left;\">firm_index</th><th style = \"text-align: left;\">firm_ticker</th><th style = \"text-align: left;\">p</th><th style = \"text-align: left;\">q</th><th style = \"text-align: left;\">u</th><th style = \"text-align: left;\">d</th></tr><tr class = \"subheader headerLastRow\"><th class = \"rowNumber\" style = \"font-weight: bold; text-align: right;\"></th><th title = \"Int64\" style = \"text-align: left;\">Int64</th><th title = \"String7\" style = \"text-align: left;\">String7</th><th title = \"Float64\" style = \"text-align: left;\">Float64</th><th title = \"Float64\" style = \"text-align: left;\">Float64</th><th title = \"Float64\" style = \"text-align: left;\">Float64</th><th title = \"Float64\" style = \"text-align: left;\">Float64</th></tr></thead><tbody><tr><td class = \"rowNumber\" style = \"font-weight: bold; text-align: right;\">1</td><td style = \"text-align: right;\">1</td><td style = \"text-align: left;\">MMM</td><td style = \"text-align: right;\">0.516335</td><td style = \"text-align: right;\">0.545115</td><td style = \"text-align: right;\">1.00972</td><td style = \"text-align: right;\">0.988739</td></tr><tr><td class = \"rowNumber\" style = \"font-weight: bold; text-align: right;\">2</td><td style = \"text-align: right;\">2</td><td style = \"text-align: left;\">AOS</td><td style = \"text-align: right;\">0.506773</td><td style = \"text-align: right;\">0.510835</td><td style = \"text-align: right;\">1.01228</td><td style = \"text-align: right;\">0.987544</td></tr><tr><td class = \"rowNumber\" style = \"font-weight: bold; text-align: right;\">3</td><td style = \"text-align: right;\">3</td><td style = \"text-align: left;\">ABT</td><td style = \"text-align: right;\">0.542629</td><td style = \"text-align: right;\">0.522264</td><td style = \"text-align: right;\">1.01006</td><td style = \"text-align: right;\">0.989375</td></tr><tr><td class = \"rowNumber\" style = \"font-weight: bold; text-align: right;\">4</td><td style = \"text-align: right;\">4</td><td style = \"text-align: left;\">ABBV</td><td style = \"text-align: right;\">0.525896</td><td style = \"text-align: right;\">0.510608</td><td style = \"text-align: right;\">1.01125</td><td style = \"text-align: right;\">0.988624</td></tr><tr><td class = \"rowNumber\" style = \"font-weight: bold; text-align: right;\">5</td><td style = \"text-align: right;\">6</td><td style = \"text-align: left;\">ACN</td><td style = \"text-align: right;\">0.54741</td><td style = \"text-align: right;\">0.529822</td><td style = \"text-align: right;\">1.01025</td><td style = \"text-align: right;\">0.988832</td></tr><tr><td class = \"rowNumber\" style = \"font-weight: bold; text-align: right;\">6</td><td style = \"text-align: right;\">7</td><td style = \"text-align: left;\">ATVI</td><td style = \"text-align: right;\">0.503586</td><td style = \"text-align: right;\">0.498259</td><td style = \"text-align: right;\">1.01277</td><td style = \"text-align: right;\">0.98767</td></tr><tr><td class = \"rowNumber\" style = \"font-weight: bold; text-align: right;\">7</td><td style = \"text-align: right;\">8</td><td style = \"text-align: left;\">ADM</td><td style = \"text-align: right;\">0.54741</td><td style = \"text-align: right;\">0.518992</td><td style = \"text-align: right;\">1.01042</td><td style = \"text-align: right;\">0.989132</td></tr><tr><td class = \"rowNumber\" style = \"font-weight: bold; text-align: right;\">8</td><td style = \"text-align: right;\">9</td><td style = \"text-align: left;\">ADBE</td><td style = \"text-align: right;\">0.563347</td><td style = \"text-align: right;\">0.545444</td><td style = \"text-align: right;\">1.01286</td><td style = \"text-align: right;\">0.984959</td></tr><tr><td class = \"rowNumber\" style = \"font-weight: bold; text-align: right;\">9</td><td style = \"text-align: right;\">10</td><td style = \"text-align: left;\">AAP</td><td style = \"text-align: right;\">0.513944</td><td style = \"text-align: right;\">0.504051</td><td style = \"text-align: right;\">1.01321</td><td style = \"text-align: right;\">0.986934</td></tr><tr><td class = \"rowNumber\" style = \"font-weight: bold; text-align: right;\">10</td><td style = \"text-align: right;\">11</td><td style = \"text-align: left;\">AMD</td><td style = \"text-align: right;\">0.533068</td><td style = \"text-align: right;\">0.49607</td><td style = \"text-align: right;\">1.02216</td><td style = \"text-align: right;\">0.978541</td></tr><tr><td class = \"rowNumber\" style = \"font-weight: bold; text-align: right;\">11</td><td style = \"text-align: right;\">12</td><td style = \"text-align: left;\">AES</td><td style = \"text-align: right;\">0.549004</td><td style = \"text-align: right;\">0.519471</td><td style = \"text-align: right;\">1.01321</td><td style = \"text-align: right;\">0.986094</td></tr><tr><td class = \"rowNumber\" style = \"font-weight: bold; text-align: right;\">12</td><td style = \"text-align: right;\">13</td><td style = \"text-align: left;\">AFL</td><td style = \"text-align: right;\">0.545817</td><td style = \"text-align: right;\">0.528852</td><td style = \"text-align: right;\">1.01017</td><td style = \"text-align: right;\">0.988958</td></tr><tr><td class = \"rowNumber\" style = \"font-weight: bold; text-align: right;\">13</td><td style = \"text-align: right;\">14</td><td style = \"text-align: left;\">A</td><td style = \"text-align: right;\">0.542629</td><td style = \"text-align: right;\">0.518366</td><td style = \"text-align: right;\">1.01142</td><td style = \"text-align: right;\">0.988081</td></tr><tr><td style = \"text-align: right;\">&vellip;</td><td style = \"text-align: right;\">&vellip;</td><td style = \"text-align: right;\">&vellip;</td><td style = \"text-align: right;\">&vellip;</td><td style = \"text-align: right;\">&vellip;</td><td style = \"text-align: right;\">&vellip;</td><td style = \"text-align: right;\">&vellip;</td></tr><tr><td class = \"rowNumber\" style = \"font-weight: bold; text-align: right;\">447</td><td style = \"text-align: right;\">492</td><td style = \"text-align: left;\">WRK</td><td style = \"text-align: right;\">0.521912</td><td style = \"text-align: right;\">0.535063</td><td style = \"text-align: right;\">1.01516</td><td style = \"text-align: right;\">0.982937</td></tr><tr><td class = \"rowNumber\" style = \"font-weight: bold; text-align: right;\">448</td><td style = \"text-align: right;\">493</td><td style = \"text-align: left;\">WY</td><td style = \"text-align: right;\">0.50996</td><td style = \"text-align: right;\">0.513007</td><td style = \"text-align: right;\">1.01336</td><td style = \"text-align: right;\">0.986291</td></tr><tr><td class = \"rowNumber\" style = \"font-weight: bold; text-align: right;\">449</td><td style = \"text-align: right;\">494</td><td style = \"text-align: left;\">WHR</td><td style = \"text-align: right;\">0.50996</td><td style = \"text-align: right;\">0.512693</td><td style = \"text-align: right;\">1.0152</td><td style = \"text-align: right;\">0.984372</td></tr><tr><td class = \"rowNumber\" style = \"font-weight: bold; text-align: right;\">450</td><td style = \"text-align: right;\">495</td><td style = \"text-align: left;\">WMB</td><td style = \"text-align: right;\">0.502789</td><td style = \"text-align: right;\">0.500684</td><td style = \"text-align: right;\">1.01325</td><td style = \"text-align: right;\">0.98707</td></tr><tr><td class = \"rowNumber\" style = \"font-weight: bold; text-align: right;\">451</td><td style = \"text-align: right;\">497</td><td style = \"text-align: left;\">WYNN</td><td style = \"text-align: right;\">0.480478</td><td style = \"text-align: right;\">0.48463</td><td style = \"text-align: right;\">1.0235</td><td style = \"text-align: right;\">0.97825</td></tr><tr><td class = \"rowNumber\" style = \"font-weight: bold; text-align: right;\">452</td><td style = \"text-align: right;\">498</td><td style = \"text-align: left;\">XEL</td><td style = \"text-align: right;\">0.541833</td><td style = \"text-align: right;\">0.530662</td><td style = \"text-align: right;\">1.00859</td><td style = \"text-align: right;\">0.99067</td></tr><tr><td class = \"rowNumber\" style = \"font-weight: bold; text-align: right;\">453</td><td style = \"text-align: right;\">500</td><td style = \"text-align: left;\">XYL</td><td style = \"text-align: right;\">0.525896</td><td style = \"text-align: right;\">0.51166</td><td style = \"text-align: right;\">1.01229</td><td style = \"text-align: right;\">0.987488</td></tr><tr><td class = \"rowNumber\" style = \"font-weight: bold; text-align: right;\">454</td><td style = \"text-align: right;\">501</td><td style = \"text-align: left;\">YUM</td><td style = \"text-align: right;\">0.533865</td><td style = \"text-align: right;\">0.518405</td><td style = \"text-align: right;\">1.00933</td><td style = \"text-align: right;\">0.990327</td></tr><tr><td class = \"rowNumber\" style = \"font-weight: bold; text-align: right;\">455</td><td style = \"text-align: right;\">502</td><td style = \"text-align: left;\">ZBRA</td><td style = \"text-align: right;\">0.534661</td><td style = \"text-align: right;\">0.509754</td><td style = \"text-align: right;\">1.01544</td><td style = \"text-align: right;\">0.984313</td></tr><tr><td class = \"rowNumber\" style = \"font-weight: bold; text-align: right;\">456</td><td style = \"text-align: right;\">503</td><td style = \"text-align: left;\">ZBH</td><td style = \"text-align: right;\">0.502789</td><td style = \"text-align: right;\">0.502663</td><td style = \"text-align: right;\">1.01234</td><td style = \"text-align: right;\">0.987887</td></tr><tr><td class = \"rowNumber\" style = \"font-weight: bold; text-align: right;\">457</td><td style = \"text-align: right;\">504</td><td style = \"text-align: left;\">ZION</td><td style = \"text-align: right;\">0.50757</td><td style = \"text-align: right;\">0.50644</td><td style = \"text-align: right;\">1.01554</td><td style = \"text-align: right;\">0.984412</td></tr><tr><td class = \"rowNumber\" style = \"font-weight: bold; text-align: right;\">458</td><td style = \"text-align: right;\">505</td><td style = \"text-align: left;\">ZTS</td><td style = \"text-align: right;\">0.541833</td><td style = \"text-align: right;\">0.518563</td><td style = \"text-align: right;\">1.01068</td><td style = \"text-align: right;\">0.988869</td></tr></tbody></table></div>"
      ],
      "text/latex": [
       "\\begin{tabular}{r|cccccc}\n",
       "\t& firm\\_index & firm\\_ticker & p & q & u & d\\\\\n",
       "\t\\hline\n",
       "\t& Int64 & String7 & Float64 & Float64 & Float64 & Float64\\\\\n",
       "\t\\hline\n",
       "\t1 & 1 & MMM & 0.516335 & 0.545115 & 1.00972 & 0.988739 \\\\\n",
       "\t2 & 2 & AOS & 0.506773 & 0.510835 & 1.01228 & 0.987544 \\\\\n",
       "\t3 & 3 & ABT & 0.542629 & 0.522264 & 1.01006 & 0.989375 \\\\\n",
       "\t4 & 4 & ABBV & 0.525896 & 0.510608 & 1.01125 & 0.988624 \\\\\n",
       "\t5 & 6 & ACN & 0.54741 & 0.529822 & 1.01025 & 0.988832 \\\\\n",
       "\t6 & 7 & ATVI & 0.503586 & 0.498259 & 1.01277 & 0.98767 \\\\\n",
       "\t7 & 8 & ADM & 0.54741 & 0.518992 & 1.01042 & 0.989132 \\\\\n",
       "\t8 & 9 & ADBE & 0.563347 & 0.545444 & 1.01286 & 0.984959 \\\\\n",
       "\t9 & 10 & AAP & 0.513944 & 0.504051 & 1.01321 & 0.986934 \\\\\n",
       "\t10 & 11 & AMD & 0.533068 & 0.49607 & 1.02216 & 0.978541 \\\\\n",
       "\t11 & 12 & AES & 0.549004 & 0.519471 & 1.01321 & 0.986094 \\\\\n",
       "\t12 & 13 & AFL & 0.545817 & 0.528852 & 1.01017 & 0.988958 \\\\\n",
       "\t13 & 14 & A & 0.542629 & 0.518366 & 1.01142 & 0.988081 \\\\\n",
       "\t14 & 15 & APD & 0.532271 & 0.511988 & 1.0103 & 0.989562 \\\\\n",
       "\t15 & 16 & AKAM & 0.52988 & 0.523144 & 1.01109 & 0.988211 \\\\\n",
       "\t16 & 17 & ALK & 0.483665 & 0.490881 & 1.0184 & 0.982612 \\\\\n",
       "\t17 & 18 & ALB & 0.525896 & 0.511115 & 1.01929 & 0.980202 \\\\\n",
       "\t18 & 19 & ARE & 0.522709 & 0.521822 & 1.00963 & 0.989862 \\\\\n",
       "\t19 & 20 & ALGN & 0.511554 & 0.506678 & 1.02021 & 0.979605 \\\\\n",
       "\t20 & 21 & ALLE & 0.526693 & 0.519001 & 1.01177 & 0.987671 \\\\\n",
       "\t21 & 22 & LNT & 0.52749 & 0.520309 & 1.00899 & 0.990626 \\\\\n",
       "\t22 & 23 & ALL & 0.542629 & 0.534336 & 1.00964 & 0.989322 \\\\\n",
       "\t23 & 24 & GOOGL & 0.521912 & 0.507764 & 1.01183 & 0.98816 \\\\\n",
       "\t24 & 25 & GOOG & 0.523506 & 0.50879 & 1.01175 & 0.988194 \\\\\n",
       "\t25 & 26 & MO & 0.540239 & 0.558867 & 1.00975 & 0.988047 \\\\\n",
       "\t26 & 27 & AMZN & 0.523506 & 0.514016 & 1.01369 & 0.985884 \\\\\n",
       "\t27 & 29 & AEE & 0.543426 & 0.529425 & 1.00861 & 0.990692 \\\\\n",
       "\t28 & 30 & AAL & 0.473307 & 0.487485 & 1.02448 & 0.977066 \\\\\n",
       "\t29 & 31 & AEP & 0.542629 & 0.535347 & 1.0085 & 0.990593 \\\\\n",
       "\t30 & 32 & AXP & 0.522709 & 0.509764 & 1.01342 & 0.986412 \\\\\n",
       "\t$\\dots$ & $\\dots$ & $\\dots$ & $\\dots$ & $\\dots$ & $\\dots$ & $\\dots$ \\\\\n",
       "\\end{tabular}\n"
      ],
      "text/plain": [
       "\u001b[1m458×6 DataFrame\u001b[0m\n",
       "\u001b[1m Row \u001b[0m│\u001b[1m firm_index \u001b[0m\u001b[1m firm_ticker \u001b[0m\u001b[1m p        \u001b[0m\u001b[1m q        \u001b[0m\u001b[1m u       \u001b[0m\u001b[1m d        \u001b[0m\n",
       "     │\u001b[90m Int64      \u001b[0m\u001b[90m String7     \u001b[0m\u001b[90m Float64  \u001b[0m\u001b[90m Float64  \u001b[0m\u001b[90m Float64 \u001b[0m\u001b[90m Float64  \u001b[0m\n",
       "─────┼────────────────────────────────────────────────────────────────\n",
       "   1 │          1  MMM          0.516335  0.545115  1.00972  0.988739\n",
       "   2 │          2  AOS          0.506773  0.510835  1.01228  0.987544\n",
       "   3 │          3  ABT          0.542629  0.522264  1.01006  0.989375\n",
       "   4 │          4  ABBV         0.525896  0.510608  1.01125  0.988624\n",
       "   5 │          6  ACN          0.54741   0.529822  1.01025  0.988832\n",
       "   6 │          7  ATVI         0.503586  0.498259  1.01277  0.98767\n",
       "   7 │          8  ADM          0.54741   0.518992  1.01042  0.989132\n",
       "   8 │          9  ADBE         0.563347  0.545444  1.01286  0.984959\n",
       "   9 │         10  AAP          0.513944  0.504051  1.01321  0.986934\n",
       "  10 │         11  AMD          0.533068  0.49607   1.02216  0.978541\n",
       "  11 │         12  AES          0.549004  0.519471  1.01321  0.986094\n",
       "  ⋮  │     ⋮            ⋮          ⋮         ⋮         ⋮        ⋮\n",
       " 449 │        494  WHR          0.50996   0.512693  1.0152   0.984372\n",
       " 450 │        495  WMB          0.502789  0.500684  1.01325  0.98707\n",
       " 451 │        497  WYNN         0.480478  0.48463   1.0235   0.97825\n",
       " 452 │        498  XEL          0.541833  0.530662  1.00859  0.99067\n",
       " 453 │        500  XYL          0.525896  0.51166   1.01229  0.987488\n",
       " 454 │        501  YUM          0.533865  0.518405  1.00933  0.990327\n",
       " 455 │        502  ZBRA         0.534661  0.509754  1.01544  0.984313\n",
       " 456 │        503  ZBH          0.502789  0.502663  1.01234  0.987887\n",
       " 457 │        504  ZION         0.50757   0.50644   1.01554  0.984412\n",
       " 458 │        505  ZTS          0.541833  0.518563  1.01068  0.988869\n",
       "\u001b[36m                                                      437 rows omitted\u001b[0m"
      ]
     },
     "execution_count": 14,
     "metadata": {},
     "output_type": "execute_result"
    }
   ],
   "source": [
    "binomial_model_parameter_table"
   ]
  },
  {
   "cell_type": "markdown",
   "id": "5331ea95-9544-489d-b70a-dfb3dece7f51",
   "metadata": {},
   "source": [
    "#### Save the computational results\n",
    "Finally, we store the data in `binomial_model_parameter_table` as a `Comma Separated Value (CSV)` file in the `data` folder using the `CSV.write(...)` function, which is exported by the [CSV.jl](https://github.com/JuliaData/CSV.jl.git) package"
   ]
  },
  {
   "cell_type": "code",
   "execution_count": 15,
   "id": "0b9222be-a91f-43e6-9200-ef35d6f4c200",
   "metadata": {
    "tags": []
   },
   "outputs": [],
   "source": [
    "CSV.write(joinpath(_PATH_TO_DATA,\"binomial_parameters.csv\"), binomial_model_parameter_table);"
   ]
  }
 ],
 "metadata": {
  "kernelspec": {
   "display_name": "Julia 1.9.3",
   "language": "julia",
   "name": "julia-1.9"
  },
  "language_info": {
   "file_extension": ".jl",
   "mimetype": "application/julia",
   "name": "julia",
   "version": "1.9.3"
  }
 },
 "nbformat": 4,
 "nbformat_minor": 5
}
