{
 "cells": [
  {
   "cell_type": "markdown",
   "metadata": {},
   "source": [
    "## Example: Developing a Bernoulli Binary Bandit Ticker Picker Agent\n",
    "In this example, we'll develop a collection of agents to advise us which stocks we should include in a portfolio $\\mathcal{P}$ by solving a Multi-arm Binary Bandit problem using [ϵ-Greedy Thompson Sampling](https://arxiv.org/abs/1707.02038). The `K`-actions (bandits) are the potential `tickers` in the portfolio $\\mathcal{P}$ portfolio. After their analysis, we'll ask the agents to rank-order their preferred `tickers`. \n",
    "\n",
    "### Problem\n",
    "* We have `N` agents independently analyzing daily Open High Low Close (OHLC) data sequences and rank-ordering their belief that the ticker `XYZ` will return at least the risk-free rate in the next step. \n",
    "* We then sample the `world`. If the ticker `XYZ` returns greater than or equal to the risk-free rate in the sample period, the agent receives a reward of `+1`. Otherwise, the agent receives a reward of `0`.\n",
    "* Each agent develops a distribution of beliefs for the probability $p_{a}$, i.e., the probability that `ticker` will beat the risk-free rate based on this experimentation. These beliefs are encoded in the parameters of a [Beta distribution](https://en.wikipedia.org/wiki/Beta_distribution)"
   ]
  },
  {
   "cell_type": "markdown",
   "metadata": {
    "tags": []
   },
   "source": [
    "## Setup"
   ]
  },
  {
   "cell_type": "code",
   "execution_count": null,
   "metadata": {
    "tags": []
   },
   "outputs": [],
   "source": [
    "include(\"Include.jl\");"
   ]
  },
  {
   "cell_type": "code",
   "execution_count": 2,
   "metadata": {
    "tags": []
   },
   "outputs": [],
   "source": [
    "include(joinpath(_PATH_TO_SRC, \"CHEME-5660-L14a-BanditProblems-CodeLibrary.jl\"));"
   ]
  },
  {
   "cell_type": "markdown",
   "metadata": {
    "tags": []
   },
   "source": [
    "## Prerequisites: Load and clean the historical dataset\n",
    "We gathered a daily open-high-low-close `dataset` for each firm in the [S&P500](https://en.wikipedia.org/wiki/S%26P_500) since `01-03-2018` until `11-17-2023`, along with data for a few exchange traded funds and volatility products during that time. "
   ]
  },
  {
   "cell_type": "code",
   "execution_count": 3,
   "metadata": {
    "tags": []
   },
   "outputs": [],
   "source": [
    "original_dataset = load(joinpath(_PATH_TO_DATA, \n",
    "        \"SP500-Daily-OHLC-1-3-2018-to-11-17-2023.jld2\")) |> x-> x[\"dataset\"];"
   ]
  },
  {
   "cell_type": "markdown",
   "metadata": {},
   "source": [
    "### Clean the data\n",
    "Not all of the tickers in our dataset have the maximum number of trading days for various reasons, e.g., acquistion or de-listing events. Let's collect only those tickers with the maximum number of trading days.\n",
    "\n",
    "* First, let's compute the number of records for a company that we know has a maximim value, e.g., `AAPL` and save that value in the `maximum_number_trading_days` variable:"
   ]
  },
  {
   "cell_type": "code",
   "execution_count": 4,
   "metadata": {
    "tags": []
   },
   "outputs": [
    {
     "data": {
      "text/plain": [
       "1480"
      ]
     },
     "execution_count": 4,
     "metadata": {},
     "output_type": "execute_result"
    }
   ],
   "source": [
    "maximum_number_trading_days = original_dataset[\"AAPL\"] |> nrow"
   ]
  },
  {
   "cell_type": "markdown",
   "metadata": {},
   "source": [
    "Now, lets iterate through our data and collect only those tickers that have `maximum_number_trading_days` records. Save that data in the `dataset::Dict{String,DataFrame}` variable:"
   ]
  },
  {
   "cell_type": "code",
   "execution_count": 5,
   "metadata": {
    "tags": []
   },
   "outputs": [],
   "source": [
    "dataset = Dict{String,DataFrame}();\n",
    "for (ticker,data) ∈ original_dataset\n",
    "    if (nrow(data) == maximum_number_trading_days)\n",
    "        dataset[ticker] = data;\n",
    "    end\n",
    "end\n",
    "dataset;"
   ]
  },
  {
   "cell_type": "markdown",
   "metadata": {},
   "source": [
    "Let's get a list of firms that we have in cleaned up `dataset`, and save it in the `all_tickers` array:"
   ]
  },
  {
   "cell_type": "code",
   "execution_count": null,
   "metadata": {
    "tags": []
   },
   "outputs": [],
   "source": [
    "all_tickers = keys(dataset) |> collect |> sort;\n",
    "K = length(all_tickers)"
   ]
  },
  {
   "cell_type": "markdown",
   "metadata": {},
   "source": [
    "## Initialize the `world` function\n",
    "The world function takes action `a`, i.e., chooses a `ticker` from the collection of stocks/ETFs that we are exploring, and asks whether or not the return of this `ticker` at the end of today was greater or equal to the risk-free rate. \n",
    "* If the daily return is greater than or equal to the risk-free rate, the `agent` receives a reward of `r = 1`. Otherwise, the `agent` receives a `r = 0` reward."
   ]
  },
  {
   "cell_type": "code",
   "execution_count": 7,
   "metadata": {
    "tags": []
   },
   "outputs": [],
   "source": [
    "function world(action::Int64, start::Int64, data::Dict{String, DataFrame}, tickers::Array{String,1}; \n",
    "        Δt::Float64 = (1.0/252.0), risk_free_rate::Float64 = 0.05, buffersize::Int64 = 1)::Int64\n",
    "\n",
    "    # initialize -\n",
    "    result_flag = 0;\n",
    "\n",
    "    # daily risk free rate -\n",
    "    T = buffersize*Δt;\n",
    "\n",
    "    # grab the ticker we are looking at?\n",
    "    ticker_symbol = tickers[action];\n",
    "    \n",
    "    # compute the expected return over the horizon -\n",
    "    price_df = data[ticker_symbol];\n",
    "    time = range(start+1,(start+buffersize), step=1) |> collect\n",
    "    buffer = Array{Float64,1}();\n",
    "    for t ∈ time\n",
    "        P₁ = price_df[t-1,  :volume_weighted_average_price]\n",
    "        P₂ = price_df[t, :volume_weighted_average_price]\n",
    "        R = (1/Δt)*log(P₂/P₁);\n",
    "        push!(buffer,R);\n",
    "    end\n",
    "    μ = mean(buffer);\n",
    "\n",
    "    # if we invested 1 USD, in each how much would we have at the end of horizon -\n",
    "    W_risk_free = exp(risk_free_rate*T);\n",
    "    W_ticker = exp(μ*T);\n",
    "    \n",
    "    # are we better or worse relative to the risk-free investment?\n",
    "    if (W_ticker >= W_risk_free)\n",
    "        result_flag = 1;\n",
    "    end\n",
    "\n",
    "    # default -\n",
    "    return result_flag;\n",
    "end;"
   ]
  },
  {
   "cell_type": "markdown",
   "metadata": {
    "tags": []
   },
   "source": [
    "Set the `risk_free_rate` variable:"
   ]
  },
  {
   "cell_type": "code",
   "execution_count": 8,
   "metadata": {
    "tags": []
   },
   "outputs": [],
   "source": [
    "risk_free_rate = 0.047;"
   ]
  },
  {
   "cell_type": "markdown",
   "metadata": {},
   "source": [
    "## Setup the `ticker-picker` agent"
   ]
  },
  {
   "cell_type": "markdown",
   "metadata": {},
   "source": [
    "First, let's specify the tickers that we want to examine in the `tickers` array, and store the number of tickers in the `K` variable:"
   ]
  },
  {
   "cell_type": "code",
   "execution_count": null,
   "metadata": {},
   "outputs": [],
   "source": [
    "all_tickers"
   ]
  },
  {
   "cell_type": "code",
   "execution_count": null,
   "metadata": {
    "tags": []
   },
   "outputs": [],
   "source": [
    "tickers = [\"MET\", \"NFLX\", \"AAPL\", \"AMD\", \"MU\", \"INTC\", \"MSFT\", \"SPY\", \"SPYD\", \"MMM\",\n",
    "    \"UNH\", \"JPM\", \"OXY\", \"TSLA\", \"PEP\", \"LMT\", \"CMCSA\", \"ECL\", \"SRE\", \"BAC\", \"C\", \"WFC\"];\n",
    "K = length(tickers);"
   ]
  },
  {
   "cell_type": "markdown",
   "metadata": {},
   "source": [
    "Next, we construct the `EpsilonSamplingModel` instance which holds information about the ϵ-greedy sampling approach. The `EpsilonSamplingModel` type has one additional field, the `ϵ` field which controls the approximate fraction of `exploration` steps the algorithm takes; `exploration` steps are purely random."
   ]
  },
  {
   "cell_type": "code",
   "execution_count": null,
   "metadata": {
    "tags": []
   },
   "outputs": [],
   "source": [
    "model = EpsilonSamplingModel()\n",
    "model.K = K; # tickers\n",
    "model.α = ones(K); # initialize to uniform values\n",
    "model.β = ones(K); # initialize to uniform values\n",
    "model.ϵ = 0.3;"
   ]
  },
  {
   "cell_type": "markdown",
   "metadata": {},
   "source": [
    "## Run a single `ticker-picker` agent and explore its preferences\n",
    "Let's run a single `ticker-picker` agent and examine what it returns using the `sample(...)` function. \n",
    "* The `sample(...)` function takes the agent model `model::EpsilonSamplingModel`, the `world::Function`, the cleaned `dataset` and your list of `tickers`, along with the `horizon` parameter, i.e., how many iterations we want the search to run for,  and the `risk_free_rate`. \n",
    "* The `sample(...)` function returns a dictionary holding the $(\\alpha,\\beta)$ parameters for each ticker (values) for iteration (keys).  "
   ]
  },
  {
   "cell_type": "code",
   "execution_count": null,
   "metadata": {
    "tags": []
   },
   "outputs": [],
   "source": [
    "time_sample_results_dict_eps = sample(model, world, dataset, tickers; \n",
    "    horizon = (maximum_number_trading_days - 1), risk_free_rate = risk_free_rate)"
   ]
  },
  {
   "cell_type": "code",
   "execution_count": null,
   "metadata": {
    "tags": []
   },
   "outputs": [],
   "source": [
    "Z = time_sample_results_dict_eps[1479]"
   ]
  },
  {
   "cell_type": "markdown",
   "metadata": {},
   "source": [
    "## Run a collection of `ticker-picker` agents and examine their preferences\n",
    "Repeat the single-agent analysis with `N` agents by running the `sample(...)` method inside a `for` loop. We'll store the results of the last time point in the `agent_specific_data::Array{Beta,2}(undef, K, number_of_agents)` array. \n",
    "* The `agent_specific_data` array holds the `Beta` distributions for each agent, i.e., it holds the preferences for each agent (cols) for each `ticker` in our collection (rows)."
   ]
  },
  {
   "cell_type": "code",
   "execution_count": 13,
   "metadata": {
    "tags": []
   },
   "outputs": [],
   "source": [
    "number_of_agents = 10000;\n",
    "trading_day_index = 1479\n",
    "agent_specific_data = Array{Beta,2}(undef, K, number_of_agents);\n",
    "\n",
    "for agent_index ∈ 1:number_of_agents\n",
    "    \n",
    "    # sample -\n",
    "    time_sample_results_dict_eps = sample(model, world, dataset, tickers; horizon = (maximum_number_trading_days - 1), risk_free_rate = risk_free_rate);\n",
    "    beta_array = build_beta_array(time_sample_results_dict_eps[trading_day_index]);\n",
    "\n",
    "    # grab data for this agent -\n",
    "    for k = 1:K\n",
    "        agent_specific_data[k, agent_index] = beta_array[k]\n",
    "    end\n",
    "end"
   ]
  },
  {
   "cell_type": "code",
   "execution_count": 14,
   "metadata": {
    "tags": []
   },
   "outputs": [
    {
     "data": {
      "text/plain": [
       "10000-element Vector{Beta}:\n",
       " Beta{Float64}(α=16.0, β=15.0)\n",
       " Beta{Float64}(α=30.0, β=24.0)\n",
       " Beta{Float64}(α=29.0, β=29.0)\n",
       " Beta{Float64}(α=22.0, β=24.0)\n",
       " Beta{Float64}(α=40.0, β=32.0)\n",
       " Beta{Float64}(α=4.0, β=7.0)\n",
       " Beta{Float64}(α=3.0, β=7.0)\n",
       " Beta{Float64}(α=6.0, β=11.0)\n",
       " Beta{Float64}(α=3.0, β=8.0)\n",
       " Beta{Float64}(α=7.0, β=12.0)\n",
       " Beta{Float64}(α=17.0, β=16.0)\n",
       " Beta{Float64}(α=30.0, β=29.0)\n",
       " Beta{Float64}(α=38.0, β=34.0)\n",
       " ⋮\n",
       " Beta{Float64}(α=22.0, β=18.0)\n",
       " Beta{Float64}(α=3.0, β=9.0)\n",
       " Beta{Float64}(α=42.0, β=31.0)\n",
       " Beta{Float64}(α=8.0, β=11.0)\n",
       " Beta{Float64}(α=11.0, β=15.0)\n",
       " Beta{Float64}(α=21.0, β=16.0)\n",
       " Beta{Float64}(α=69.0, β=52.0)\n",
       " Beta{Float64}(α=26.0, β=25.0)\n",
       " Beta{Float64}(α=2.0, β=6.0)\n",
       " Beta{Float64}(α=20.0, β=20.0)\n",
       " Beta{Float64}(α=7.0, β=10.0)\n",
       " Beta{Float64}(α=6.0, β=11.0)"
      ]
     },
     "execution_count": 14,
     "metadata": {},
     "output_type": "execute_result"
    }
   ],
   "source": [
    "agent_specific_data[1,:] # data for each agent for ticker 1 for all the agents"
   ]
  },
  {
   "cell_type": "markdown",
   "metadata": {},
   "source": [
    "## The wisdom of the collective\n",
    "Now that we have prefernces for the `N` agents (encoded as `Beta` distributions for each ticker), let's develop a concencous belief in which tickers to include in our portfolio $\\mathcal{P}$. First, let's compute the agent-specific rank of eack ticker, where `rank = 1` is the best, and `rank = K` is the worst. We'll store these values in the `preference_rank_array` array."
   ]
  },
  {
   "cell_type": "code",
   "execution_count": 15,
   "metadata": {
    "tags": []
   },
   "outputs": [
    {
     "data": {
      "text/plain": [
       "10000×24 Matrix{Int64}:\n",
       " 11   4   7  19   3   1  17   5   2  …  17  15  23  13  13  22  16  13  21\n",
       "  7   3  15  13   9  21   4  18   2      1  19   6  11   7  12  23  10  20\n",
       " 10   4  22   2  21  24   6   8   1     15   9  13  12  19   3  10  14  23\n",
       " 15  11  17   4  22   2   3  20  24     19   9  23  10   4   6   8  16   1\n",
       "  7   4  11  14   8   5  13  21  17     22  10   1   9   3  19  23   2  20\n",
       " 21  22  19  18  13   7  15  19   2  …   7   9  14  24  11   6  12  16   1\n",
       " 21  20   5   4  19  22   3  12   8     16  23  13  15  18  23  10  16   2\n",
       " 21  18  14  11   4  16  15   6   9     19   1  20   9  23   2  12  22   3\n",
       " 23  20  14  13   7  10   8   5   6     12  16  15  16   1   3   2  22  19\n",
       " 20   8   7  14   1   5  24   3  17      4  13  22  11  16  12  21  23   6\n",
       "  7  12  18   9  22   5  14   4   6  …  10   1  19  21  20  17  23  24  16\n",
       " 12  10  17  16   1   9  11   3   6     23   7  20  21  15   8   2   5  19\n",
       "  5  13   2  10  10  23   3  22  21      6  17  19  19  12   1   9  14  16\n",
       "  ⋮                   ⋮              ⋱   ⋮                   ⋮          \n",
       "  5   6   8  13  11  20  14  14  11      9   7   4  22  19  10   1  21   3\n",
       " 22   4   2   7   5  11  22   9   1     20  13  19   8  12  15  18  24   3\n",
       "  1  10  19  23  24  13   3  12  21  …  20   4  22   5  18   9  11  15   7\n",
       " 18  21  15   2   4   6  20  17   7     16  10   3   8   5  14  12  22  13\n",
       " 19  17  17   3   5   4  16  12  20     12   6  14   1   7  23  22  15   2\n",
       "  5  19  24  20  22  17  15   3   7      4  14  12   8  11   9  15  23   6\n",
       "  3  11   2  16  22   5  19   4  22      7  24  14  14   6  18   9   8  20\n",
       " 13   7   1  12  11   2   9  16   4  …  24  15  14  23   8  21   3  20  21\n",
       " 21  15  13   2  20  16  17   5   1      7   8  21  19   3  10   4  18   8\n",
       " 12   3   9  24  14   6  15  21  21      5  10  19   2  19  16  23  16   1\n",
       " 17  12   9  19  10  13  24  22   2      4   5   3  22   7  18  16  14   1\n",
       " 21  15  11  10   1   3  18   5   4     20  14  24  23  11   9   7  22  13"
      ]
     },
     "execution_count": 15,
     "metadata": {},
     "output_type": "execute_result"
    }
   ],
   "source": [
    "preference_rank_array = Array{Int,2}(undef, number_of_agents, K);\n",
    "for agent ∈ 1:number_of_agents\n",
    "        \n",
    "    # ask agent about thier preference for ticker i -\n",
    "    experience_distributions = agent_specific_data[:,agent]\n",
    "    preference_vector = preference(experience_distributions, tickers) .|> x-> trunc(Int64,x) # trunc function is cool!\n",
    "    \n",
    "    # package -\n",
    "    for i ∈ 1:K\n",
    "        preference_rank_array[agent, i] = preference_vector[i];\n",
    "    end\n",
    "end\n",
    "preference_rank_array"
   ]
  },
  {
   "cell_type": "markdown",
   "metadata": {},
   "source": [
    "### Compute the frequency dictionary\n",
    "Let's count the times a `ticker` is ranked in the `top 3` across the `N` agents and then normalize by the number of agents, i.e., compute the frequency of being ranked in the `top 3`. We'll store this value in the `frequency_dictionary,` where the `ticker` is the key, and the frequency is the value.\n",
    "* `Hypothesis`: Those `tickers` with high rank are likelier to beat an alternative `risk-free` investment, while low rank `tickers` do not outperform a `risk-free` alternative investment. "
   ]
  },
  {
   "cell_type": "code",
   "execution_count": 22,
   "metadata": {
    "tags": []
   },
   "outputs": [],
   "source": [
    "frequency_dictionary = Dict{String,Float64}();\n",
    "for i ∈ eachindex(tickers)\n",
    "    \n",
    "    # compute the frequency -\n",
    "    freq = findall(x-> x ≤ 8, preference_rank_array[:,i]) |> x-> length(x) |> x-> x/number_of_agents\n",
    "    \n",
    "    # get the ticker -\n",
    "    ticker = tickers[i];\n",
    "    frequency_dictionary[ticker] = freq;\n",
    "end"
   ]
  },
  {
   "cell_type": "code",
   "execution_count": 23,
   "metadata": {},
   "outputs": [
    {
     "data": {
      "text/plain": [
       "Dict{String, Float64} with 24 entries:\n",
       "  \"MSFT\"  => 0.5366\n",
       "  \"JPM\"   => 0.3625\n",
       "  \"C\"     => 0.2212\n",
       "  \"MRK\"   => 0.3284\n",
       "  \"UNH\"   => 0.2926\n",
       "  \"SPY\"   => 0.4712\n",
       "  \"BAC\"   => 0.3175\n",
       "  \"MU\"    => 0.2603\n",
       "  \"SRE\"   => 0.3832\n",
       "  \"TSLA\"  => 0.3932\n",
       "  \"AMD\"   => 0.3925\n",
       "  \"INTC\"  => 0.2928\n",
       "  \"MMM\"   => 0.2243\n",
       "  \"ECL\"   => 0.3067\n",
       "  \"LMT\"   => 0.2588\n",
       "  \"OXY\"   => 0.2719\n",
       "  \"CMCSA\" => 0.2493\n",
       "  \"JNJ\"   => 0.2838\n",
       "  \"SPYD\"  => 0.3198\n",
       "  \"NFLX\"  => 0.3004\n",
       "  \"WFC\"   => 0.3367\n",
       "  \"PEP\"   => 0.3649\n",
       "  \"MET\"   => 0.4227\n",
       "  \"AAPL\"  => 0.4542"
      ]
     },
     "execution_count": 23,
     "metadata": {},
     "output_type": "execute_result"
    }
   ],
   "source": [
    "frequency_dictionary"
   ]
  },
  {
   "cell_type": "markdown",
   "metadata": {},
   "source": [
    "### Disclaimer and Risks\n",
    "__This content is offered solely for training and  informational purposes__. No offer or solicitation to buy or sell securities or derivative products, or any investment or trading advice or strategy,  is made, given, or endorsed by the teaching team. \n",
    "\n",
    "__Trading involves risk__. Carefully review your financial situation before investing in securities, futures contracts, options, or commodity interests. Past performance, whether actual or indicated by historical tests of strategies, is no guarantee of future performance or success. Trading is generally inappropriate for someone with limited resources, investment or trading experience, or a low-risk tolerance.  Only risk capital that is not required for living expenses.\n",
    "\n",
    "__You are fully responsible for any investment or trading decisions you make__. Such decisions should be based solely on your evaluation of your financial circumstances, investment or trading objectives, risk tolerance, and liquidity needs."
   ]
  },
  {
   "cell_type": "code",
   "execution_count": null,
   "metadata": {},
   "outputs": [],
   "source": []
  }
 ],
 "metadata": {
  "kernelspec": {
   "display_name": "Julia 1.9.2",
   "language": "julia",
   "name": "julia-1.9"
  },
  "language_info": {
   "file_extension": ".jl",
   "mimetype": "application/julia",
   "name": "julia",
   "version": "1.9.2"
  }
 },
 "nbformat": 4,
 "nbformat_minor": 5
}
