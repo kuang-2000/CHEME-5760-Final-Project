{
 "cells": [
  {
   "cell_type": "markdown",
   "id": "6cd7a8aa-9b82-482f-ae4a-cad35da00ea7",
   "metadata": {},
   "source": [
    "# Example: Computing the Covariance Matrix for Logarithmic Returns\n",
    "Fill me in"
   ]
  },
  {
   "cell_type": "markdown",
   "id": "6804fca0-b5ac-4743-a3e6-67e48188ca8d",
   "metadata": {},
   "source": [
    "## Setup"
   ]
  },
  {
   "cell_type": "code",
   "execution_count": 1,
   "id": "4b96b8c2-359c-469a-b6b7-8348bceb3957",
   "metadata": {
    "tags": []
   },
   "outputs": [
    {
     "name": "stderr",
     "output_type": "stream",
     "text": [
      "\u001b[32m\u001b[1m    Updating\u001b[22m\u001b[39m git-repo `https://github.com/varnerlab/VLQuantitativeFinancePackage.jl.git`\n",
      "\u001b[32m\u001b[1m   Resolving\u001b[22m\u001b[39m package versions...\n",
      "\u001b[32m\u001b[1m  No Changes\u001b[22m\u001b[39m to `~/Desktop/julia_work/CHEME-5660-Examples-F23/Project.toml`\n",
      "\u001b[32m\u001b[1m  No Changes\u001b[22m\u001b[39m to `~/Desktop/julia_work/CHEME-5660-Examples-F23/Manifest.toml`\n",
      "\u001b[32m\u001b[1m  Activating\u001b[22m\u001b[39m project at `~/Desktop/julia_work/CHEME-5660-Examples-F23`\n",
      "\u001b[32m\u001b[1m  No Changes\u001b[22m\u001b[39m to `~/Desktop/julia_work/CHEME-5660-Examples-F23/Project.toml`\n",
      "\u001b[32m\u001b[1m  No Changes\u001b[22m\u001b[39m to `~/Desktop/julia_work/CHEME-5660-Examples-F23/Manifest.toml`\n",
      "\u001b[32m\u001b[1m    Updating\u001b[22m\u001b[39m registry at `~/.julia/registries/General.toml`\n",
      "\u001b[32m\u001b[1m    Updating\u001b[22m\u001b[39m git-repo `https://github.com/varnerlab/VLQuantitativeFinancePackage.jl.git`\n",
      "\u001b[32m\u001b[1m  No Changes\u001b[22m\u001b[39m to `~/Desktop/julia_work/CHEME-5660-Examples-F23/Project.toml`\n",
      "\u001b[32m\u001b[1m    Updating\u001b[22m\u001b[39m `~/Desktop/julia_work/CHEME-5660-Examples-F23/Manifest.toml`\n",
      "  \u001b[90m[e6f89c97] \u001b[39m\u001b[93m↑ LoggingExtras v1.0.2 ⇒ v1.0.3\u001b[39m\n",
      "  \u001b[90m[90014a1f] \u001b[39m\u001b[93m↑ PDMats v0.11.22 ⇒ v0.11.24\u001b[39m\n"
     ]
    }
   ],
   "source": [
    "include(\"Include.jl\");"
   ]
  },
  {
   "cell_type": "markdown",
   "id": "bf4e42a3-ff14-4a10-8604-6ac6ed592f7a",
   "metadata": {},
   "source": [
    "### Constants"
   ]
  },
  {
   "cell_type": "code",
   "execution_count": 2,
   "id": "7ee7942c-c442-4cab-9d2a-115765bb570d",
   "metadata": {
    "tags": []
   },
   "outputs": [],
   "source": [
    "number_of_trading_days = 1256;\n",
    "Δt = (1.0/252);"
   ]
  },
  {
   "cell_type": "markdown",
   "id": "2ad07aae-bab3-41f1-a6db-d08175e20747",
   "metadata": {},
   "source": [
    "## Prerequisite: Load historical equity dataset\n",
    "We gathered a daily open-high-low-close `dataset` for each firm in the [S&P500](https://en.wikipedia.org/wiki/S%26P_500) for the past five-trading years (a maximum of `1256` data points per firm). We will exclude frims that do not have the maximum number of trading days from the `dataset`. \n",
    "\n",
    "We load the price `dataset` by calling the `MyPortfolioDataSet()` function. This returns the `dataset` variable, which is type `Dict{Int64,DataFrame}`"
   ]
  },
  {
   "cell_type": "code",
   "execution_count": 3,
   "id": "e9b0d8df-c3b8-4e56-91c9-5dc9d56a5b89",
   "metadata": {
    "tags": []
   },
   "outputs": [],
   "source": [
    "dataset = MyPortfolioDataSet() |> x-> x[\"dataset\"];"
   ]
  },
  {
   "cell_type": "markdown",
   "id": "96a11d53-676a-425b-876d-a2a9b6dc7779",
   "metadata": {},
   "source": [
    "The all keys array holds the list of firm indexes in the dataset that have complete data, i.e., all `1256` data values: "
   ]
  },
  {
   "cell_type": "code",
   "execution_count": 4,
   "id": "c7427383-0157-4484-936c-622e9ae51925",
   "metadata": {
    "tags": []
   },
   "outputs": [],
   "source": [
    "list_of_all_firms = keys(dataset) |> collect |> sort;"
   ]
  },
  {
   "cell_type": "code",
   "execution_count": 5,
   "id": "00b288f7-ff12-44f4-ba8b-8c956f7f774b",
   "metadata": {
    "tags": []
   },
   "outputs": [
    {
     "data": {
      "text/html": [
       "<div><div style = \"float: left;\"><span>505×3 DataFrame</span></div><div style = \"float: right;\"><span style = \"font-style: italic;\">480 rows omitted</span></div><div style = \"clear: both;\"></div></div><div class = \"data-frame\" style = \"overflow-x: scroll;\"><table class = \"data-frame\" style = \"margin-bottom: 6px;\"><thead><tr class = \"header\"><th class = \"rowNumber\" style = \"font-weight: bold; text-align: right;\">Row</th><th style = \"text-align: left;\">Symbol</th><th style = \"text-align: left;\">Name</th><th style = \"text-align: left;\">Sector</th></tr><tr class = \"subheader headerLastRow\"><th class = \"rowNumber\" style = \"font-weight: bold; text-align: right;\"></th><th title = \"String7\" style = \"text-align: left;\">String7</th><th title = \"String\" style = \"text-align: left;\">String</th><th title = \"String31\" style = \"text-align: left;\">String31</th></tr></thead><tbody><tr><td class = \"rowNumber\" style = \"font-weight: bold; text-align: right;\">1</td><td style = \"text-align: left;\">MMM</td><td style = \"text-align: left;\">3M</td><td style = \"text-align: left;\">Industrials</td></tr><tr><td class = \"rowNumber\" style = \"font-weight: bold; text-align: right;\">2</td><td style = \"text-align: left;\">AOS</td><td style = \"text-align: left;\">A. O. Smith</td><td style = \"text-align: left;\">Industrials</td></tr><tr><td class = \"rowNumber\" style = \"font-weight: bold; text-align: right;\">3</td><td style = \"text-align: left;\">ABT</td><td style = \"text-align: left;\">Abbott Laboratories</td><td style = \"text-align: left;\">Health Care</td></tr><tr><td class = \"rowNumber\" style = \"font-weight: bold; text-align: right;\">4</td><td style = \"text-align: left;\">ABBV</td><td style = \"text-align: left;\">AbbVie</td><td style = \"text-align: left;\">Health Care</td></tr><tr><td class = \"rowNumber\" style = \"font-weight: bold; text-align: right;\">5</td><td style = \"text-align: left;\">ABMD</td><td style = \"text-align: left;\">Abiomed</td><td style = \"text-align: left;\">Health Care</td></tr><tr><td class = \"rowNumber\" style = \"font-weight: bold; text-align: right;\">6</td><td style = \"text-align: left;\">ACN</td><td style = \"text-align: left;\">Accenture</td><td style = \"text-align: left;\">Information Technology</td></tr><tr><td class = \"rowNumber\" style = \"font-weight: bold; text-align: right;\">7</td><td style = \"text-align: left;\">ATVI</td><td style = \"text-align: left;\">Activision Blizzard</td><td style = \"text-align: left;\">Communication Services</td></tr><tr><td class = \"rowNumber\" style = \"font-weight: bold; text-align: right;\">8</td><td style = \"text-align: left;\">ADM</td><td style = \"text-align: left;\">ADM</td><td style = \"text-align: left;\">Consumer Staples</td></tr><tr><td class = \"rowNumber\" style = \"font-weight: bold; text-align: right;\">9</td><td style = \"text-align: left;\">ADBE</td><td style = \"text-align: left;\">Adobe</td><td style = \"text-align: left;\">Information Technology</td></tr><tr><td class = \"rowNumber\" style = \"font-weight: bold; text-align: right;\">10</td><td style = \"text-align: left;\">AAP</td><td style = \"text-align: left;\">Advance Auto Parts</td><td style = \"text-align: left;\">Consumer Discretionary</td></tr><tr><td class = \"rowNumber\" style = \"font-weight: bold; text-align: right;\">11</td><td style = \"text-align: left;\">AMD</td><td style = \"text-align: left;\">Advanced Micro Devices</td><td style = \"text-align: left;\">Information Technology</td></tr><tr><td class = \"rowNumber\" style = \"font-weight: bold; text-align: right;\">12</td><td style = \"text-align: left;\">AES</td><td style = \"text-align: left;\">AES Corp</td><td style = \"text-align: left;\">Utilities</td></tr><tr><td class = \"rowNumber\" style = \"font-weight: bold; text-align: right;\">13</td><td style = \"text-align: left;\">AFL</td><td style = \"text-align: left;\">Aflac</td><td style = \"text-align: left;\">Financials</td></tr><tr><td style = \"text-align: right;\">&vellip;</td><td style = \"text-align: right;\">&vellip;</td><td style = \"text-align: right;\">&vellip;</td><td style = \"text-align: right;\">&vellip;</td></tr><tr><td class = \"rowNumber\" style = \"font-weight: bold; text-align: right;\">494</td><td style = \"text-align: left;\">WHR</td><td style = \"text-align: left;\">Whirlpool Corporation</td><td style = \"text-align: left;\">Consumer Discretionary</td></tr><tr><td class = \"rowNumber\" style = \"font-weight: bold; text-align: right;\">495</td><td style = \"text-align: left;\">WMB</td><td style = \"text-align: left;\">Williams Companies</td><td style = \"text-align: left;\">Energy</td></tr><tr><td class = \"rowNumber\" style = \"font-weight: bold; text-align: right;\">496</td><td style = \"text-align: left;\">WLTW</td><td style = \"text-align: left;\">Willis Towers Watson</td><td style = \"text-align: left;\">Financials</td></tr><tr><td class = \"rowNumber\" style = \"font-weight: bold; text-align: right;\">497</td><td style = \"text-align: left;\">WYNN</td><td style = \"text-align: left;\">Wynn Resorts</td><td style = \"text-align: left;\">Consumer Discretionary</td></tr><tr><td class = \"rowNumber\" style = \"font-weight: bold; text-align: right;\">498</td><td style = \"text-align: left;\">XEL</td><td style = \"text-align: left;\">Xcel Energy</td><td style = \"text-align: left;\">Utilities</td></tr><tr><td class = \"rowNumber\" style = \"font-weight: bold; text-align: right;\">499</td><td style = \"text-align: left;\">XLNX</td><td style = \"text-align: left;\">Xilinx</td><td style = \"text-align: left;\">Information Technology</td></tr><tr><td class = \"rowNumber\" style = \"font-weight: bold; text-align: right;\">500</td><td style = \"text-align: left;\">XYL</td><td style = \"text-align: left;\">Xylem</td><td style = \"text-align: left;\">Industrials</td></tr><tr><td class = \"rowNumber\" style = \"font-weight: bold; text-align: right;\">501</td><td style = \"text-align: left;\">YUM</td><td style = \"text-align: left;\">Yum! Brands</td><td style = \"text-align: left;\">Consumer Discretionary</td></tr><tr><td class = \"rowNumber\" style = \"font-weight: bold; text-align: right;\">502</td><td style = \"text-align: left;\">ZBRA</td><td style = \"text-align: left;\">Zebra Technologies</td><td style = \"text-align: left;\">Information Technology</td></tr><tr><td class = \"rowNumber\" style = \"font-weight: bold; text-align: right;\">503</td><td style = \"text-align: left;\">ZBH</td><td style = \"text-align: left;\">Zimmer Biomet</td><td style = \"text-align: left;\">Health Care</td></tr><tr><td class = \"rowNumber\" style = \"font-weight: bold; text-align: right;\">504</td><td style = \"text-align: left;\">ZION</td><td style = \"text-align: left;\">Zions Bancorp</td><td style = \"text-align: left;\">Financials</td></tr><tr><td class = \"rowNumber\" style = \"font-weight: bold; text-align: right;\">505</td><td style = \"text-align: left;\">ZTS</td><td style = \"text-align: left;\">Zoetis</td><td style = \"text-align: left;\">Health Care</td></tr></tbody></table></div>"
      ],
      "text/latex": [
       "\\begin{tabular}{r|ccc}\n",
       "\t& Symbol & Name & Sector\\\\\n",
       "\t\\hline\n",
       "\t& String7 & String & String31\\\\\n",
       "\t\\hline\n",
       "\t1 & MMM & 3M & Industrials \\\\\n",
       "\t2 & AOS & A. O. Smith & Industrials \\\\\n",
       "\t3 & ABT & Abbott Laboratories & Health Care \\\\\n",
       "\t4 & ABBV & AbbVie & Health Care \\\\\n",
       "\t5 & ABMD & Abiomed & Health Care \\\\\n",
       "\t6 & ACN & Accenture & Information Technology \\\\\n",
       "\t7 & ATVI & Activision Blizzard & Communication Services \\\\\n",
       "\t8 & ADM & ADM & Consumer Staples \\\\\n",
       "\t9 & ADBE & Adobe & Information Technology \\\\\n",
       "\t10 & AAP & Advance Auto Parts & Consumer Discretionary \\\\\n",
       "\t11 & AMD & Advanced Micro Devices & Information Technology \\\\\n",
       "\t12 & AES & AES Corp & Utilities \\\\\n",
       "\t13 & AFL & Aflac & Financials \\\\\n",
       "\t14 & A & Agilent Technologies & Health Care \\\\\n",
       "\t15 & APD & Air Products \\& Chemicals & Materials \\\\\n",
       "\t16 & AKAM & Akamai Technologies & Information Technology \\\\\n",
       "\t17 & ALK & Alaska Air Group & Industrials \\\\\n",
       "\t18 & ALB & Albemarle Corporation & Materials \\\\\n",
       "\t19 & ARE & Alexandria Real Estate Equities & Real Estate \\\\\n",
       "\t20 & ALGN & Align Technology & Health Care \\\\\n",
       "\t21 & ALLE & Allegion & Industrials \\\\\n",
       "\t22 & LNT & Alliant Energy & Utilities \\\\\n",
       "\t23 & ALL & Allstate Corp & Financials \\\\\n",
       "\t24 & GOOGL & Alphabet (Class A) & Communication Services \\\\\n",
       "\t25 & GOOG & Alphabet (Class C) & Communication Services \\\\\n",
       "\t26 & MO & Altria Group & Consumer Staples \\\\\n",
       "\t27 & AMZN & Amazon & Consumer Discretionary \\\\\n",
       "\t28 & AMCR & Amcor & Materials \\\\\n",
       "\t29 & AEE & Ameren Corp & Utilities \\\\\n",
       "\t30 & AAL & American Airlines Group & Industrials \\\\\n",
       "\t$\\dots$ & $\\dots$ & $\\dots$ & $\\dots$ \\\\\n",
       "\\end{tabular}\n"
      ],
      "text/plain": [
       "\u001b[1m505×3 DataFrame\u001b[0m\n",
       "\u001b[1m Row \u001b[0m│\u001b[1m Symbol  \u001b[0m\u001b[1m Name                   \u001b[0m\u001b[1m Sector                 \u001b[0m\n",
       "     │\u001b[90m String7 \u001b[0m\u001b[90m String                 \u001b[0m\u001b[90m String31               \u001b[0m\n",
       "─────┼─────────────────────────────────────────────────────────\n",
       "   1 │ MMM      3M                      Industrials\n",
       "   2 │ AOS      A. O. Smith             Industrials\n",
       "   3 │ ABT      Abbott Laboratories     Health Care\n",
       "   4 │ ABBV     AbbVie                  Health Care\n",
       "   5 │ ABMD     Abiomed                 Health Care\n",
       "   6 │ ACN      Accenture               Information Technology\n",
       "   7 │ ATVI     Activision Blizzard     Communication Services\n",
       "   8 │ ADM      ADM                     Consumer Staples\n",
       "   9 │ ADBE     Adobe                   Information Technology\n",
       "  10 │ AAP      Advance Auto Parts      Consumer Discretionary\n",
       "  11 │ AMD      Advanced Micro Devices  Information Technology\n",
       "  ⋮  │    ⋮               ⋮                       ⋮\n",
       " 496 │ WLTW     Willis Towers Watson    Financials\n",
       " 497 │ WYNN     Wynn Resorts            Consumer Discretionary\n",
       " 498 │ XEL      Xcel Energy             Utilities\n",
       " 499 │ XLNX     Xilinx                  Information Technology\n",
       " 500 │ XYL      Xylem                   Industrials\n",
       " 501 │ YUM      Yum! Brands             Consumer Discretionary\n",
       " 502 │ ZBRA     Zebra Technologies      Information Technology\n",
       " 503 │ ZBH      Zimmer Biomet           Health Care\n",
       " 504 │ ZION     Zions Bancorp           Financials\n",
       " 505 │ ZTS      Zoetis                  Health Care\n",
       "\u001b[36m                                               484 rows omitted\u001b[0m"
      ]
     },
     "execution_count": 5,
     "metadata": {},
     "output_type": "execute_result"
    }
   ],
   "source": [
    "firm_mapping = MyFirmMappingDataSet()"
   ]
  },
  {
   "cell_type": "code",
   "execution_count": 31,
   "id": "b896f0c5-5c68-4fd2-a3c7-311110fc666b",
   "metadata": {
    "tags": []
   },
   "outputs": [],
   "source": [
    "ticker_lookup_dictionary = Dict{String,Int64}();\n",
    "number_of_map_elements = nrow(firm_mapping);\n",
    "for i ∈ 1:number_of_map_elements\n",
    "    ticker = firm_mapping[i,:Symbol];\n",
    "    ticker_lookup_dictionary[ticker] = i;\n",
    "end"
   ]
  },
  {
   "cell_type": "code",
   "execution_count": 34,
   "id": "4b6ae5f7-16f5-4ff1-8de0-e4a2cf0f58b5",
   "metadata": {
    "tags": []
   },
   "outputs": [
    {
     "data": {
      "text/plain": [
       "222"
      ]
     },
     "execution_count": 34,
     "metadata": {},
     "output_type": "execute_result"
    }
   ],
   "source": [
    "findfirst(x->x == ticker_lookup_dictionary[\"INTC\"], list_of_all_firms)"
   ]
  },
  {
   "cell_type": "code",
   "execution_count": 35,
   "id": "edf71da5-f7ab-4ae6-9ed6-77e52a4c0be3",
   "metadata": {
    "tags": []
   },
   "outputs": [
    {
     "data": {
      "text/plain": [
       "249"
      ]
     },
     "execution_count": 35,
     "metadata": {},
     "output_type": "execute_result"
    }
   ],
   "source": [
    "list_of_all_firms[222]"
   ]
  },
  {
   "cell_type": "markdown",
   "id": "6e98a2c4-71fc-4df3-b75e-0228ff26c0aa",
   "metadata": {},
   "source": [
    "## Compute the return and covariance matrix"
   ]
  },
  {
   "cell_type": "code",
   "execution_count": 6,
   "id": "daa16c79-4473-46f6-9ae7-738209b0d00f",
   "metadata": {
    "tags": []
   },
   "outputs": [
    {
     "data": {
      "text/plain": [
       "1255×458 Matrix{Float64}:\n",
       "  0.0158069     0.00586994    0.00296121   …   0.00713818    0.00815285\n",
       "  0.0039873     0.0093903    -0.00173084      -0.00282514    0.0118091\n",
       "  0.00155613    0.00747963   -0.00169811      -0.00141261    0.00979846\n",
       "  0.0053433     0.00243087    0.000795871      0.0204302     0.0135465\n",
       "  0.000134337   0.000864149  -0.00181885       0.0133607    -0.0193259\n",
       "  0.000894703   0.0136076     0.000185609  …   0.00889023    0.00984934\n",
       "  0.0134427     0.0133497     0.00307881       0.009512      0.0125042\n",
       "  0.00185863    0.00438616   -0.00633965      -0.00616996    0.00439287\n",
       "  0.0109241     0.00132812    0.00683518      -0.000404901   0.0112949\n",
       " -0.00702045    0.00449336   -6.27764e-5      -0.00200621   -0.004329\n",
       "  0.00540192    0.0126991     0.00572525   …   0.00908432    0.00393979\n",
       " -0.00294251    0.00222886   -0.000558562      0.00750556    0.00588982\n",
       " -0.00211651   -0.00133253    0.000437088      0.00558505    0.00726033\n",
       "  ⋮                                        ⋱                \n",
       " -0.00899615   -0.00640939   -0.00150847      -0.0136067    -0.0121063\n",
       " -0.0332912    -0.0382315    -0.0242886       -0.01913      -0.0244671\n",
       " -0.00831546   -0.0162586    -0.0182383    …  -0.0158071    -0.0295591\n",
       "  0.00744615    0.00205062   -0.00294426      -0.0103474    -0.012391\n",
       " -0.00814224    0.00359714   -0.00113768       0.0121394    -0.00552541\n",
       "  0.0147956     0.0152347     0.0134007        0.0239911     0.0151991\n",
       " -0.0185686    -0.0207683    -0.00350541       0.00537519   -0.00520158\n",
       " -0.0104411     0.00985678    0.00386398   …   0.0169024     0.00972373\n",
       "  0.00468983    0.0193817     0.00524068       0.00763662    0.00058852\n",
       " -0.0102604    -0.00898782   -0.000821429     -0.0122326    -0.00630171\n",
       "  0.0106222     0.00858213    0.0168478        0.015971      0.0242822\n",
       " -0.00595647   -0.00879728   -0.00774847       0.00193527   -0.0124447"
      ]
     },
     "execution_count": 6,
     "metadata": {},
     "output_type": "execute_result"
    }
   ],
   "source": [
    "return_matrix = Δt*log_growth_matrix(dataset, list_of_all_firms)"
   ]
  },
  {
   "cell_type": "code",
   "execution_count": 15,
   "id": "c206feaf-3226-4a6f-b184-987f79a9a197",
   "metadata": {
    "tags": []
   },
   "outputs": [],
   "source": [
    "Σ = 252*cov(return_matrix);"
   ]
  },
  {
   "cell_type": "markdown",
   "id": "2dc2de7b-cea0-48c7-bc10-02ddaeb9ba29",
   "metadata": {},
   "source": [
    "## Structure of covariance matrix"
   ]
  },
  {
   "cell_type": "code",
   "execution_count": 25,
   "id": "c09a9a19-d1be-4b78-b362-1160c0b2f63b",
   "metadata": {
    "tags": []
   },
   "outputs": [],
   "source": [
    "tmp = DataFrame();\n",
    "for i ∈ eachindex(list_of_all_firms)\n",
    "    \n",
    "    firm_index = list_of_all_firms[i];\n",
    "    row_array = Array{Float64,1}();\n",
    "    for j ∈ eachindex(list_of_all_firms)\n",
    "        if (i ≠ j)\n",
    "            push!(row_array,Σ[i,j]);\n",
    "        end\n",
    "    end\n",
    "    \n",
    "    # what is the min, and max (and the args)\n",
    "    min_value = minimum(row_array)\n",
    "    max_value = maximum(row_array)\n",
    "    min_firm_index = argmin(row_array) |> x-> list_of_all_firms[x]\n",
    "    max_firm_index = argmax(row_array) |> x-> list_of_all_firms[x]\n",
    "    \n",
    "    min_max_tuple = (\n",
    "        me = firm_index,\n",
    "        low = min_value,\n",
    "        low_firm_index = min_firm_index,\n",
    "        high = max_value,\n",
    "        high_firm_index = max_firm_index\n",
    "    );\n",
    "    \n",
    "    push!(tmp, min_max_tuple);\n",
    "end"
   ]
  },
  {
   "cell_type": "code",
   "execution_count": 49,
   "id": "00abef74-cc12-475d-b9eb-0bfefd5762e8",
   "metadata": {
    "tags": []
   },
   "outputs": [
    {
     "data": {
      "text/plain": [
       "0.01734606359998117"
      ]
     },
     "execution_count": 49,
     "metadata": {},
     "output_type": "execute_result"
    }
   ],
   "source": [
    "min_value = maximum(Σ[10,1:end .!= 10]);\n",
    "min_value_index = argmin(Σ[10,:])"
   ]
  },
  {
   "cell_type": "code",
   "execution_count": 30,
   "id": "93e97fed-482a-4eed-871b-7aa53fabc26a",
   "metadata": {
    "tags": []
   },
   "outputs": [
    {
     "data": {
      "text/html": [
       "<div><div style = \"float: left;\"><span>1×3 DataFrame</span></div><div style = \"clear: both;\"></div></div><div class = \"data-frame\" style = \"overflow-x: scroll;\"><table class = \"data-frame\" style = \"margin-bottom: 6px;\"><thead><tr class = \"header\"><th class = \"rowNumber\" style = \"font-weight: bold; text-align: right;\">Row</th><th style = \"text-align: left;\">Symbol</th><th style = \"text-align: left;\">Name</th><th style = \"text-align: left;\">Sector</th></tr><tr class = \"subheader headerLastRow\"><th class = \"rowNumber\" style = \"font-weight: bold; text-align: right;\"></th><th title = \"String7\" style = \"text-align: left;\">String7</th><th title = \"String\" style = \"text-align: left;\">String</th><th title = \"String31\" style = \"text-align: left;\">String31</th></tr></thead><tbody><tr><td class = \"rowNumber\" style = \"font-weight: bold; text-align: right;\">1</td><td style = \"text-align: left;\">INTC</td><td style = \"text-align: left;\">Intel</td><td style = \"text-align: left;\">Information Technology</td></tr></tbody></table></div>"
      ],
      "text/latex": [
       "\\begin{tabular}{r|ccc}\n",
       "\t& Symbol & Name & Sector\\\\\n",
       "\t\\hline\n",
       "\t& String7 & String & String31\\\\\n",
       "\t\\hline\n",
       "\t1 & INTC & Intel & Information Technology \\\\\n",
       "\\end{tabular}\n"
      ],
      "text/plain": [
       "\u001b[1m1×3 DataFrame\u001b[0m\n",
       "\u001b[1m Row \u001b[0m│\u001b[1m Symbol  \u001b[0m\u001b[1m Name   \u001b[0m\u001b[1m Sector                 \u001b[0m\n",
       "     │\u001b[90m String7 \u001b[0m\u001b[90m String \u001b[0m\u001b[90m String31               \u001b[0m\n",
       "─────┼─────────────────────────────────────────\n",
       "   1 │ INTC     Intel   Information Technology"
      ]
     },
     "execution_count": 30,
     "metadata": {},
     "output_type": "execute_result"
    }
   ],
   "source": [
    "filter(:Symbol=>x->x==\"INTC\",firm_mapping)"
   ]
  },
  {
   "cell_type": "code",
   "execution_count": null,
   "id": "6b273285-357a-4763-98cb-5c4cebbd20a6",
   "metadata": {},
   "outputs": [],
   "source": []
  },
  {
   "cell_type": "code",
   "execution_count": 9,
   "id": "9e2acc14-6974-40ac-a2a2-3b252dec0cc3",
   "metadata": {
    "tags": []
   },
   "outputs": [],
   "source": [
    "factors = cholesky(Σ);"
   ]
  },
  {
   "cell_type": "code",
   "execution_count": 10,
   "id": "73258bca-cc9f-4bc3-958a-8aa5038bedb5",
   "metadata": {
    "tags": []
   },
   "outputs": [],
   "source": [
    "A = factors.L;"
   ]
  },
  {
   "cell_type": "markdown",
   "id": "063c1174-1a4b-4997-a6f1-1e8a6eb82946",
   "metadata": {},
   "source": [
    "### Check: Is the Cholesky factorization correct?"
   ]
  },
  {
   "cell_type": "code",
   "execution_count": 11,
   "id": "7f8afb4a-b171-4c86-aedb-0daccb4aeecb",
   "metadata": {
    "tags": []
   },
   "outputs": [],
   "source": [
    "@assert isapprox(A*transpose(A),Σ, rtol=1e-10)"
   ]
  },
  {
   "cell_type": "code",
   "execution_count": null,
   "id": "2b1d2f91-ad2f-4244-8759-f4516660b043",
   "metadata": {},
   "outputs": [],
   "source": []
  }
 ],
 "metadata": {
  "kernelspec": {
   "display_name": "Julia 1.9.3",
   "language": "julia",
   "name": "julia-1.9"
  },
  "language_info": {
   "file_extension": ".jl",
   "mimetype": "application/julia",
   "name": "julia",
   "version": "1.9.3"
  }
 },
 "nbformat": 4,
 "nbformat_minor": 5
}
