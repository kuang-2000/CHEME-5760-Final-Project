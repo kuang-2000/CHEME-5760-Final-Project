{
 "cells": [
  {
   "cell_type": "markdown",
   "id": "bcc0b6df-54d8-4658-9662-e8c4cbf0d00e",
   "metadata": {},
   "source": [
    "## Example: Pricing of European Options Contracts\n",
    "Let's begin by computing the premium $\\mathcal{P}_{c}(K,S(0))$ the buyer must pay for a `call` contract. When early excersise is not allowed, the pricing formula is given by:\n",
    "\n",
    "$$\\mathcal{P}_{c}(K,S(0)) = \\mathbb{E}\\Bigl(\\mathcal{D}^{-1}_{T,0}(\\bar{r})\\cdot{V_{c}}(K,S(T))\\Bigr)$$\n",
    "\n",
    "which says the right (but not the obligation) to excercise the `call` contract is the expected value of the discounted future payoff from the contract. To compute the expectation, we simulate the future share price `T` days in the future using a [geometric Brownian motion](https://en.wikipedia.org/wiki/Geometric_Brownian_motion#:~:text=A%20geometric%20Brownian%20motion%20(GBM,a%20Wiener%20process)%20with%20drift.) model for the future share price:\n",
    "\n",
    "$$S(T) = S(0)\\cdot\\exp\\Biggl[\\left(\\bar{r}-\\frac{\\sigma^{2}}{2}\\right)\\cdot{T} + (\\sigma\\sqrt{T})\\cdot{Z_{t}(0,1)}\\Biggr]$$\n",
    "\n",
    "where we assume $S(0)$ is the share price today, $\\bar{r}$ denotes the risk-free rate (risk-neutral pricing), $\\sigma$ denotes share price volatility and `T` denotes the number of days until contract expiration. \n",
    "\n",
    "### Learning Objectives\n",
    "Let's consider two examples: \n",
    "\n",
    "* First, we have a European `call` that expires in `T = 365` days with a strike price `K = 60.0`. The current share price is `S(0)=60.0`. Assume a risk free rate of return of `5%` and a implied volatility of `10%`. The correct answer is $\\mathcal{P}_{c}(K,S(0))$ = 4.08 USD/share. \n",
    "     * `TODO` Compare the price computed using Monte-Carlo simulation versus the [Black–Scholes pricing formula](https://en.wikipedia.org/wiki/Black–Scholes_model) for this `call` contract \n",
    "* Next, consider a European `put` that expires in `T = 365` days with a strike price `K = 60.0`. The current share price is `S(0)=60.0`. Assume a risk free rate of return of `5%` and a implied volatility of `10%`. The correct answer is $\\mathcal{P}_{p}(K,S(0))$ = 1.16 USD/share.\n",
    "     * `TODO` Compare the price computed using Monte-Carlo simulation versus the [Black–Scholes pricing formula](https://en.wikipedia.org/wiki/Black–Scholes_model) for this `put` contract "
   ]
  },
  {
   "cell_type": "markdown",
   "id": "9799a3d5-ad72-4d87-b4f9-a24c6c0a3cb9",
   "metadata": {
    "tags": []
   },
   "source": [
    "## Setup\n",
    "We set up the computational environment by including the `Include.jl` file. The `Include.jl` file loads external packages, various functions that we will use in the exercise, and custom types to model the components of our example problem."
   ]
  },
  {
   "cell_type": "code",
   "execution_count": 1,
   "id": "c63dcc9c-617f-485d-8b2e-681c8db6b5d8",
   "metadata": {
    "tags": []
   },
   "outputs": [
    {
     "name": "stderr",
     "output_type": "stream",
     "text": [
      "\u001b[32m\u001b[1m    Updating\u001b[22m\u001b[39m git-repo `https://github.com/varnerlab/VLQuantitativeFinancePackage.jl.git`\n",
      "\u001b[32m\u001b[1m   Resolving\u001b[22m\u001b[39m package versions...\n",
      "\u001b[32m\u001b[1m    Updating\u001b[22m\u001b[39m `~/Desktop/julia_work/CHEME-5660-Examples-F23/Project.toml`\n",
      "  \u001b[90m[4119e0bf] \u001b[39m\u001b[93m~ VLQuantitativeFinancePackage v1.0.0-DEV `https://github.com/varnerlab/VLQuantitativeFinancePackage.jl.git#main` ⇒ v1.0.0-DEV `https://github.com/varnerlab/VLQuantitativeFinancePackage.jl.git#main`\u001b[39m\n",
      "\u001b[32m\u001b[1m    Updating\u001b[22m\u001b[39m `~/Desktop/julia_work/CHEME-5660-Examples-F23/Manifest.toml`\n",
      "  \u001b[90m[4119e0bf] \u001b[39m\u001b[93m~ VLQuantitativeFinancePackage v1.0.0-DEV `https://github.com/varnerlab/VLQuantitativeFinancePackage.jl.git#main` ⇒ v1.0.0-DEV `https://github.com/varnerlab/VLQuantitativeFinancePackage.jl.git#main`\u001b[39m\n",
      "\u001b[32m\u001b[1mPrecompiling\u001b[22m\u001b[39m project...\n",
      "\u001b[32m  ✓ \u001b[39mVLQuantitativeFinancePackage\n",
      "  1 dependency successfully precompiled in 5 seconds. 241 already precompiled.\n",
      "\u001b[32m\u001b[1m  Activating\u001b[22m\u001b[39m project at `~/Desktop/julia_work/CHEME-5660-Examples-F23`\n",
      "\u001b[32m\u001b[1m  No Changes\u001b[22m\u001b[39m to `~/Desktop/julia_work/CHEME-5660-Examples-F23/Project.toml`\n",
      "\u001b[32m\u001b[1m  No Changes\u001b[22m\u001b[39m to `~/Desktop/julia_work/CHEME-5660-Examples-F23/Manifest.toml`\n",
      "\u001b[32m\u001b[1m    Updating\u001b[22m\u001b[39m registry at `~/.julia/registries/General.toml`\n",
      "\u001b[32m\u001b[1m    Updating\u001b[22m\u001b[39m git-repo `https://github.com/varnerlab/VLQuantitativeFinancePackage.jl.git`\n",
      "\u001b[32m\u001b[1m  No Changes\u001b[22m\u001b[39m to `~/Desktop/julia_work/CHEME-5660-Examples-F23/Project.toml`\n",
      "\u001b[32m\u001b[1m  No Changes\u001b[22m\u001b[39m to `~/Desktop/julia_work/CHEME-5660-Examples-F23/Manifest.toml`\n"
     ]
    }
   ],
   "source": [
    "include(\"Include.jl\");"
   ]
  },
  {
   "cell_type": "markdown",
   "id": "7308da23-4126-4986-b53d-7f33df31b8d1",
   "metadata": {
    "tags": []
   },
   "source": [
    "### Types\n",
    "`Include.jl` loads some [problem-specific types](https://docs.julialang.org/en/v1/manual/types/#Composite-Types) that will be helpful for the excercises.\n",
    "\n",
    "The `MyEuropeanPutContractModel` and `MyEuropeanCallContractModel` types encode information about European `put` and `call` contracts:\n",
    "* The field `K::Float64` is the strike price of the `put` (or `call`) contract\n",
    "* The field `sense::Int64` encodes if the contract was sold (`sense = -1` short) or purcahsed (`sense = 1` long). \n",
    "* The `DTE::Float64` field encodes the number of days to expiration (DTE) of the contract\n",
    "* The `IV::Float64` field encodes the implied volatility, i.e., the share price volatility of the underlying asset for this `put` or `call` contract\n",
    "* The `premium::Union{Nothing, Float64}` field is the cost of the contract (what we'll be calculating in this example)\n",
    "* The `ticker::Union{Nothing,String}` field encodes the symbol for a `put` or `call` contract, see [How to Read a Stock Options Ticker](https://polygon.io/blog/how-to-read-a-stock-options-ticker/).\n",
    "* The `copy::Int64` field encodes the number of contracts that purchased (or sold)\n",
    "\n",
    "The `MyGeometricBrownianMotionEquityModel` type encodes data used to simulate the future share price of an underlying asset assuming the share price is described by [geometric Brownian motion](https://en.wikipedia.org/wiki/Geometric_Brownian_motion).\n",
    "\n",
    "* The `μ::Float64` field encodes the drift parameter for the share price (in this case the risk free rate).\n",
    "* The `σ::Float64` field encodes the volatility parameter for the share price (in this case the [implied volatility](https://en.wikipedia.org/wiki/Implied_volatility) of `IV`). "
   ]
  },
  {
   "cell_type": "markdown",
   "id": "6f3a07f7-2a2e-4ce9-9c74-735c3be506d7",
   "metadata": {},
   "source": [
    "### Functions\n",
    "`Include.jl` loads the following [Julia functions](https://docs.julialang.org/en/v1/manual/functions/):\n",
    "\n",
    "* `build(model::Type{MyBlackScholesContractPricingModel}, data::NamedTuple) -> MyBlackScholesContractPricingModel`.\n",
    "This function takes information in the `data` [NamedTuple](https://docs.julialang.org/en/v1/base/base/#Core.NamedTuple) argument and returns an instance of the `MyBlackScholesContractPricingModel` [mutable type](https://docs.julialang.org/en/v1/manual/types/#Mutable-Composite-Types).\n",
    "\n",
    "* `build(model::Type{MyGeometricBrownianMotionEquityModel}, data::NamedTuple) -> MyGeometricBrownianMotionEquityModel`.\n",
    "This function takes information in the `data` [NamedTuple](https://docs.julialang.org/en/v1/base/base/#Core.NamedTuple) argument and returns an instance of the `MyGeometricBrownianMotionEquityModel` [mutable type](https://docs.julialang.org/en/v1/manual/types/#Mutable-Composite-Types).\n",
    "\n",
    "* `sample_endpoint(model::MyGeometricBrownianMotionEquityModel, data::NamedTuple; number_of_paths::Int64 = 100) -> Array{Float64,1}`.\n",
    "The `sample_endpoint(...)` function takes a `MyGeometricBrownianMotionEquityModel` model instance and information in the `data` [NamedTuple](https://docs.julialang.org/en/v1/base/base/#Core.NamedTuple) argument, and simulates the share price `T` days into the future. The simulated future share price is returned as an `Array{Float64,1}`.\n",
    "\n",
    "* `build(model::Type{MyEuropeanPutContractModel}, data::NamedTuple) -> MyEuropeanPutContractModel`. This `build(...)` method\n",
    "takes information in the `data` [NamedTuple](https://docs.julialang.org/en/v1/base/base/#Core.NamedTuple) argument and returns an instance of the `MyEuropeanPutContractModel` [mutable type](https://docs.julialang.org/en/v1/manual/types/#Mutable-Composite-Types).\n",
    "\n",
    "* `build(model::Type{MyEuropeanCallContractModel}, data::NamedTuple) -> MyEuropeanCallContractModel`. This `build(...)` method\n",
    "takes information in the `data` [NamedTuple](https://docs.julialang.org/en/v1/base/base/#Core.NamedTuple) argument and returns an instance of the `MyEuropeanCallContractModel` [mutable type](https://docs.julialang.org/en/v1/manual/types/#Mutable-Composite-Types).\n",
    "\n",
    "* `payoff(contracts::Array{T,1}, S::Array{Float64,1}) -> Array{Float64,2} where T <: AbstractContractModel`. The `payoff(...)` function\n",
    "takes an array of contract models and an array of share prices at expiration and returns an array of payoff values for each contract where each row holds the payoff value for a particular future share price at expiration, and each column holds the payoff value for the contracts, where the columns are in the same order as the `contracts` array.\n",
    "\n",
    "* `profit(contracts::Array{T,1}, S::Array{Float64,1}) -> Array{Float64,2} where T <: AbstractContractModel`. The `profit(...)` function takes an array of contract models and an array of share prices at expiration and returns an array of profit values for each contract.  Each row of the array holds the payoff value for a particular future share price at expiration, while each column holds the profit value for a contract (in the same order as the `contracts` array).\n",
    "\n",
    "* `premium(contract::MyEuropeanCallContractModel, model::MyBlackScholesContractPricingModel; sigdigits::Int64 = 4) -> Float64`. The `premium(...)` functions takes a `call` or `put` contract model, and a `pricing` model (in this case an instance of the `MyBlackScholesContractPricingModel` type) and returns the contract premium."
   ]
  },
  {
   "cell_type": "markdown",
   "id": "120910c2-4116-4790-9ce1-67cbdec36cd7",
   "metadata": {},
   "source": [
    "### Constants"
   ]
  },
  {
   "cell_type": "markdown",
   "id": "9d4ddd6a-c7c8-4475-a892-2c98b383d329",
   "metadata": {},
   "source": [
    "Define the problem parameters that are shared between the approaches:"
   ]
  },
  {
   "cell_type": "code",
   "execution_count": 2,
   "id": "9430a640-7d8b-4ace-babc-9b1e247d1433",
   "metadata": {
    "tags": []
   },
   "outputs": [],
   "source": [
    "Δt = (1.0/365.0);\n",
    "Sₒ = 60.0;\n",
    "K = 60.0;\n",
    "T = 365.0*Δt;\n",
    "r̄ = 0.05;\n",
    "σ̄ = 0.10;"
   ]
  },
  {
   "cell_type": "code",
   "execution_count": 3,
   "id": "da61a256-0274-49cf-8eb8-e4bd0465d2ee",
   "metadata": {
    "tags": []
   },
   "outputs": [],
   "source": [
    "𝒟(r,t) = exp(r*t);"
   ]
  },
  {
   "cell_type": "markdown",
   "id": "860a2757-4be6-4206-ab60-b8fda702d43d",
   "metadata": {},
   "source": [
    "## Monte Carlo estimate of European `call` contract price\n",
    "Let's build an instance of the `MyGeometricBrownianMotionEquityModel` type which holds the value for the price simulation using the `build(...)` method and store this instance in the `model` variable:"
   ]
  },
  {
   "cell_type": "code",
   "execution_count": 4,
   "id": "e2149ef1-d846-4298-aeb7-0c7c2284296e",
   "metadata": {
    "tags": []
   },
   "outputs": [],
   "source": [
    "model = build(MyGeometricBrownianMotionEquityModel, (\n",
    "        μ = r̄, σ = σ̄));"
   ]
  },
  {
   "cell_type": "markdown",
   "id": "452f82bb-29a1-4dff-bd3f-bb99b5ef1020",
   "metadata": {},
   "source": [
    "Next, we build an instance of the `MyEuropeanCallContractModel` type which holds the parameters for the `call` contract using the `build(...)` method. We store the contract model in the `call_contract_model` variable:"
   ]
  },
  {
   "cell_type": "code",
   "execution_count": 5,
   "id": "9fc3d4b7-e2ad-4b62-bb74-65c94438fbde",
   "metadata": {
    "tags": []
   },
   "outputs": [],
   "source": [
    "call_contract_model = build(MyEuropeanCallContractModel, (\n",
    "        K = K, IV = σ̄, DTE = T, sense = 1, copy = 1));"
   ]
  },
  {
   "cell_type": "markdown",
   "id": "24ee814d-90bf-45ec-8144-92f36fa7b860",
   "metadata": {},
   "source": [
    "We'll simulate the future share price at expiration $S(T)$ for different number of sample paths stored in the `number_of_samples` array:"
   ]
  },
  {
   "cell_type": "code",
   "execution_count": 6,
   "id": "e7d40e7e-db7c-4478-bf52-948c7e12a4e1",
   "metadata": {
    "tags": []
   },
   "outputs": [],
   "source": [
    "number_of_samples = range(1.0,stop=5,step=1.0) |> collect |> (x-> exp10.(x)) |> (x-> 5*Int.(x));"
   ]
  },
  {
   "cell_type": "markdown",
   "id": "0465ad70-eb42-4ff8-968f-75a35c6717cc",
   "metadata": {},
   "source": [
    "Finally, we iterate through each number of sample paths using a `for` loop. For each pass of the loop: \n",
    "* First, we sample the geometric Brownian model instance using the `sample_endpoint(...)` function and compute the payoff at contract expiration using the `payoff(...)` function, \n",
    "* Next, we compute the discounted payoff array stored in the `P̄` array, then calculate the mean and standard error of the expected discounted future contract payoff. The mean value of the `P̄` array is the contract premium. \n",
    "* Finally, We populate a `DataFrame` instance that holds the data (number of paths, premium, the standard error `SE`, and the 95% CI) for each number of sample paths."
   ]
  },
  {
   "cell_type": "code",
   "execution_count": 7,
   "id": "9ec21c76-7b8e-40bb-bd16-7ff1737f6b9c",
   "metadata": {
    "tags": []
   },
   "outputs": [
    {
     "data": {
      "text/html": [
       "<div><div style = \"float: left;\"><span>5×4 DataFrame</span></div><div style = \"clear: both;\"></div></div><div class = \"data-frame\" style = \"overflow-x: scroll;\"><table class = \"data-frame\" style = \"margin-bottom: 6px;\"><thead><tr class = \"header\"><th class = \"rowNumber\" style = \"font-weight: bold; text-align: right;\">Row</th><th style = \"text-align: left;\">n</th><th style = \"text-align: left;\">premium</th><th style = \"text-align: left;\">SE</th><th style = \"text-align: left;\">CI95</th></tr><tr class = \"subheader headerLastRow\"><th class = \"rowNumber\" style = \"font-weight: bold; text-align: right;\"></th><th title = \"Int64\" style = \"text-align: left;\">Int64</th><th title = \"Float64\" style = \"text-align: left;\">Float64</th><th title = \"Float64\" style = \"text-align: left;\">Float64</th><th title = \"Float64\" style = \"text-align: left;\">Float64</th></tr></thead><tbody><tr><td class = \"rowNumber\" style = \"font-weight: bold; text-align: right;\">1</td><td style = \"text-align: right;\">50</td><td style = \"text-align: right;\">4.08934</td><td style = \"text-align: right;\">0.707107</td><td style = \"text-align: right;\">1.38593</td></tr><tr><td class = \"rowNumber\" style = \"font-weight: bold; text-align: right;\">2</td><td style = \"text-align: right;\">500</td><td style = \"text-align: right;\">4.00747</td><td style = \"text-align: right;\">0.209912</td><td style = \"text-align: right;\">0.411428</td></tr><tr><td class = \"rowNumber\" style = \"font-weight: bold; text-align: right;\">3</td><td style = \"text-align: right;\">5000</td><td style = \"text-align: right;\">4.1979</td><td style = \"text-align: right;\">0.0669332</td><td style = \"text-align: right;\">0.131189</td></tr><tr><td class = \"rowNumber\" style = \"font-weight: bold; text-align: right;\">4</td><td style = \"text-align: right;\">50000</td><td style = \"text-align: right;\">4.05844</td><td style = \"text-align: right;\">0.0207757</td><td style = \"text-align: right;\">0.0407204</td></tr><tr><td class = \"rowNumber\" style = \"font-weight: bold; text-align: right;\">5</td><td style = \"text-align: right;\">500000</td><td style = \"text-align: right;\">4.08059</td><td style = \"text-align: right;\">0.00656495</td><td style = \"text-align: right;\">0.0128673</td></tr></tbody></table></div>"
      ],
      "text/latex": [
       "\\begin{tabular}{r|cccc}\n",
       "\t& n & premium & SE & CI95\\\\\n",
       "\t\\hline\n",
       "\t& Int64 & Float64 & Float64 & Float64\\\\\n",
       "\t\\hline\n",
       "\t1 & 50 & 4.08934 & 0.707107 & 1.38593 \\\\\n",
       "\t2 & 500 & 4.00747 & 0.209912 & 0.411428 \\\\\n",
       "\t3 & 5000 & 4.1979 & 0.0669332 & 0.131189 \\\\\n",
       "\t4 & 50000 & 4.05844 & 0.0207757 & 0.0407204 \\\\\n",
       "\t5 & 500000 & 4.08059 & 0.00656495 & 0.0128673 \\\\\n",
       "\\end{tabular}\n"
      ],
      "text/plain": [
       "\u001b[1m5×4 DataFrame\u001b[0m\n",
       "\u001b[1m Row \u001b[0m│\u001b[1m n      \u001b[0m\u001b[1m premium \u001b[0m\u001b[1m SE         \u001b[0m\u001b[1m CI95      \u001b[0m\n",
       "     │\u001b[90m Int64  \u001b[0m\u001b[90m Float64 \u001b[0m\u001b[90m Float64    \u001b[0m\u001b[90m Float64   \u001b[0m\n",
       "─────┼────────────────────────────────────────\n",
       "   1 │     50  4.08934  0.707107    1.38593\n",
       "   2 │    500  4.00747  0.209912    0.411428\n",
       "   3 │   5000  4.1979   0.0669332   0.131189\n",
       "   4 │  50000  4.05844  0.0207757   0.0407204\n",
       "   5 │ 500000  4.08059  0.00656495  0.0128673"
      ]
     },
     "execution_count": 7,
     "metadata": {},
     "output_type": "execute_result"
    }
   ],
   "source": [
    "call_price_df = DataFrame(n = Int64[], premium = Float64[], SE = Float64[], CI95 = Float64[]);\n",
    "for n ∈ number_of_samples\n",
    "    S = sample_endpoint(model, (T = T, Sₒ = Sₒ), number_of_paths = n);\n",
    "    P = payoff([call_contract_model], S);\n",
    "    P̄ = (1/𝒟(r̄,T))*P[:,3];\n",
    "    mean_value = mean(P̄);\n",
    "    std_error_value = (1.0/sqrt(n))*std(P̄);\n",
    "    CI95_value = 1.96*std_error_value;\n",
    "    \n",
    "    results_df = (\n",
    "        \n",
    "        n = n,\n",
    "        premium = mean_value,\n",
    "        SE = std_error_value,\n",
    "        CI95 = CI95_value\n",
    "    );\n",
    "    \n",
    "    push!(call_price_df, results_df);\n",
    "end\n",
    "\n",
    "call_price_df"
   ]
  },
  {
   "cell_type": "markdown",
   "id": "08576961-54cf-452d-8079-3a6c775973a9",
   "metadata": {},
   "source": [
    "## Black–Scholes pricing formula for a European `call` contract\n",
    "The [Black–Scholes pricing formula](https://en.wikipedia.org/wiki/Black–Scholes_model) for a European `call` option is given by the expression:\n",
    "\n",
    "$$\\mathcal{P}_{c}(K,S(0)) = N(d_{+})\\cdot{S}(0) - N(d_{-})\\cdot{K}\\cdot\\mathcal{D}^{-1}_{T,0}(\\bar{r})$$\n",
    "\n",
    "where:\n",
    "\n",
    "$$\n",
    "\\begin{eqnarray}\n",
    "d_{+} & = & \\frac{1}{\\sigma\\sqrt{T}}\\left[\\ln(\\frac{S_{\\circ}}{K}) + (r+\\frac{\\sigma^{2}}{2})T\\right] \\\\\n",
    "d_{-} & = & d_{+} - \\sigma\\sqrt{T}\n",
    "\\end{eqnarray}\n",
    "$$\n",
    "\n",
    "and $N(\\dots)$ denotes the standard normal cumulative distribution function. We've implemented a `premimum(...)` method which uses the Black–Scholes pricing formula to compute the premium of a European-style options contract. First, create an instance of the `MyBlackScholesContractPricingModel` type which holds the risk-free rate $r$ and the initial share price $S_{\\circ}$. Then pass this instance, a European `call` or `put` model, to the `premium(...)` function:"
   ]
  },
  {
   "cell_type": "code",
   "execution_count": 8,
   "id": "70e4f9bb-6c64-4800-9374-f3a10beb15b0",
   "metadata": {
    "tags": []
   },
   "outputs": [
    {
     "name": "stdout",
     "output_type": "stream",
     "text": [
      "The premium for the European call contract computed by Black-Scholes is: 4.083 USD/share\n"
     ]
    }
   ],
   "source": [
    "bsm_model = build(MyBlackScholesContractPricingModel, (\n",
    "        Sₒ = Sₒ, r = r̄\n",
    "));\n",
    "P = premium(call_contract_model, bsm_model)\n",
    "println(\"The premium for the European call contract computed by Black-Scholes is: $(P) USD/share\")"
   ]
  },
  {
   "cell_type": "markdown",
   "id": "1cea79e9-7ba2-481e-8423-472836a9e289",
   "metadata": {},
   "source": [
    "## Monte Carlo estimate of European `put` contract price\n",
    "First, we build an instance of the `MyEuropeanPutContractModel` type which holds the parameters for the `put` contract using the `build(...)` method. We store the contract model in the `put_contract_model` variable:"
   ]
  },
  {
   "cell_type": "code",
   "execution_count": 15,
   "id": "edf10a58-451f-4e2e-b170-6aa2ab05545d",
   "metadata": {
    "tags": []
   },
   "outputs": [],
   "source": [
    "put_contract_model = build(MyEuropeanPutContractModel, (\n",
    "        K = K, IV = σ̄, DTE = T, sense = 1, copy = 1));"
   ]
  },
  {
   "cell_type": "markdown",
   "id": "fc248213-968f-4099-871a-ea5cd7c1d62e",
   "metadata": {},
   "source": [
    "Next, we iterate through each number of sample paths using a `for` loop. For each pass of the loop: \n",
    "* First, we sample the geometric Brownian model instance using the `sample_endpoint(...)` function and compute the payoff at contract expiration using the `payoff(...)` function, \n",
    "* Next, we compute the discounted payoff array stored in the `P̄` array, then calculate the mean and standard error of the expected discounted future contract payoff. The mean value of the `P̄` array is the contract premium. \n",
    "* Finally, We populate a `DataFrame` instance that holds the data (number of paths, premium, the standard error `SE`, and the 95% CI) for each number of sample paths."
   ]
  },
  {
   "cell_type": "code",
   "execution_count": 16,
   "id": "35d1b7eb-f97b-4c62-874c-d3743c22b995",
   "metadata": {
    "tags": []
   },
   "outputs": [
    {
     "data": {
      "text/html": [
       "<div><div style = \"float: left;\"><span>5×4 DataFrame</span></div><div style = \"clear: both;\"></div></div><div class = \"data-frame\" style = \"overflow-x: scroll;\"><table class = \"data-frame\" style = \"margin-bottom: 6px;\"><thead><tr class = \"header\"><th class = \"rowNumber\" style = \"font-weight: bold; text-align: right;\">Row</th><th style = \"text-align: left;\">n</th><th style = \"text-align: left;\">premium</th><th style = \"text-align: left;\">SE</th><th style = \"text-align: left;\">CI95</th></tr><tr class = \"subheader headerLastRow\"><th class = \"rowNumber\" style = \"font-weight: bold; text-align: right;\"></th><th title = \"Int64\" style = \"text-align: left;\">Int64</th><th title = \"Float64\" style = \"text-align: left;\">Float64</th><th title = \"Float64\" style = \"text-align: left;\">Float64</th><th title = \"Float64\" style = \"text-align: left;\">Float64</th></tr></thead><tbody><tr><td class = \"rowNumber\" style = \"font-weight: bold; text-align: right;\">1</td><td style = \"text-align: right;\">50</td><td style = \"text-align: right;\">1.72675</td><td style = \"text-align: right;\">0.381479</td><td style = \"text-align: right;\">0.747699</td></tr><tr><td class = \"rowNumber\" style = \"font-weight: bold; text-align: right;\">2</td><td style = \"text-align: right;\">500</td><td style = \"text-align: right;\">0.981647</td><td style = \"text-align: right;\">0.0945711</td><td style = \"text-align: right;\">0.185359</td></tr><tr><td class = \"rowNumber\" style = \"font-weight: bold; text-align: right;\">3</td><td style = \"text-align: right;\">5000</td><td style = \"text-align: right;\">1.15945</td><td style = \"text-align: right;\">0.0319901</td><td style = \"text-align: right;\">0.0627006</td></tr><tr><td class = \"rowNumber\" style = \"font-weight: bold; text-align: right;\">4</td><td style = \"text-align: right;\">50000</td><td style = \"text-align: right;\">1.16291</td><td style = \"text-align: right;\">0.0102165</td><td style = \"text-align: right;\">0.0200244</td></tr><tr><td class = \"rowNumber\" style = \"font-weight: bold; text-align: right;\">5</td><td style = \"text-align: right;\">500000</td><td style = \"text-align: right;\">1.15956</td><td style = \"text-align: right;\">0.00323448</td><td style = \"text-align: right;\">0.00633959</td></tr></tbody></table></div>"
      ],
      "text/latex": [
       "\\begin{tabular}{r|cccc}\n",
       "\t& n & premium & SE & CI95\\\\\n",
       "\t\\hline\n",
       "\t& Int64 & Float64 & Float64 & Float64\\\\\n",
       "\t\\hline\n",
       "\t1 & 50 & 1.72675 & 0.381479 & 0.747699 \\\\\n",
       "\t2 & 500 & 0.981647 & 0.0945711 & 0.185359 \\\\\n",
       "\t3 & 5000 & 1.15945 & 0.0319901 & 0.0627006 \\\\\n",
       "\t4 & 50000 & 1.16291 & 0.0102165 & 0.0200244 \\\\\n",
       "\t5 & 500000 & 1.15956 & 0.00323448 & 0.00633959 \\\\\n",
       "\\end{tabular}\n"
      ],
      "text/plain": [
       "\u001b[1m5×4 DataFrame\u001b[0m\n",
       "\u001b[1m Row \u001b[0m│\u001b[1m n      \u001b[0m\u001b[1m premium  \u001b[0m\u001b[1m SE         \u001b[0m\u001b[1m CI95       \u001b[0m\n",
       "     │\u001b[90m Int64  \u001b[0m\u001b[90m Float64  \u001b[0m\u001b[90m Float64    \u001b[0m\u001b[90m Float64    \u001b[0m\n",
       "─────┼──────────────────────────────────────────\n",
       "   1 │     50  1.72675   0.381479    0.747699\n",
       "   2 │    500  0.981647  0.0945711   0.185359\n",
       "   3 │   5000  1.15945   0.0319901   0.0627006\n",
       "   4 │  50000  1.16291   0.0102165   0.0200244\n",
       "   5 │ 500000  1.15956   0.00323448  0.00633959"
      ]
     },
     "execution_count": 16,
     "metadata": {},
     "output_type": "execute_result"
    }
   ],
   "source": [
    "put_price_df = DataFrame(n = Int64[], premium = Float64[], SE = Float64[], CI95 = Float64[]);\n",
    "for n ∈ number_of_samples\n",
    "    S = sample_endpoint(model, (T = T, Sₒ = Sₒ), number_of_paths = n);\n",
    "    P = payoff([put_contract_model], S);\n",
    "    P̄ = (1/𝒟(r̄,T))*P[:,3];\n",
    "    mean_value = mean(P̄);\n",
    "    std_error_value = (1.0/sqrt(n))*std(P̄);\n",
    "    CI95_value = 1.96*std_error_value;\n",
    "    \n",
    "    results_df = (\n",
    "        \n",
    "        n = n,\n",
    "        premium = mean_value,\n",
    "        SE = std_error_value,\n",
    "        CI95 = CI95_value\n",
    "    );\n",
    "    \n",
    "    push!(put_price_df, results_df);\n",
    "end\n",
    "\n",
    "put_price_df"
   ]
  },
  {
   "cell_type": "markdown",
   "id": "670747ca-b0f3-44d1-9172-0dae62f78338",
   "metadata": {},
   "source": [
    "## Black–Scholes pricing formula for a European `put` contract\n",
    "The [Black–Scholes pricing formula ](https://en.wikipedia.org/wiki/Black–Scholes_model) for a European `put` option is given by the expression:\n",
    "\n",
    "$$\\mathcal{P}_{p}(K,S(0)) = N(-d_{-})\\cdot{K}\\cdot\\mathcal{D}^{-1}_{T,0}(\\bar{r}) - N(-d_{+})\\cdot{S}(0)$$\n",
    "\n",
    "where:\n",
    "\n",
    "$$\n",
    "\\begin{eqnarray}\n",
    "d_{+} & = & \\frac{1}{\\sigma\\sqrt{T}}\\left[\\ln(\\frac{S_{\\circ}}{K}) + (\\bar{r}+\\frac{\\sigma^{2}}{2})T\\right] \\\\\n",
    "d_{-} & = & d_{+} - \\sigma\\sqrt{T}\n",
    "\\end{eqnarray}\n",
    "$$\n",
    "\n",
    "and $N(\\dots)$ denotes the standard normal cumulative distribution function. We've implemented a `premimum(...)` method which uses the Black–Scholes pricing formula to compute the premium of a European-style options contract. First, create an instance of the `MyBlackScholesContractPricingModel` type which holds the risk-free rate $r$ and the initial share price $S_{\\circ}$. Then pass this instance, a European `call` or `put` model, to the `premium(...)` function:"
   ]
  },
  {
   "cell_type": "code",
   "execution_count": 10,
   "id": "51d3a709-0cf1-44b6-8ad0-8bbd7791800a",
   "metadata": {
    "tags": []
   },
   "outputs": [],
   "source": []
  },
  {
   "cell_type": "code",
   "execution_count": 12,
   "id": "b56ecbcc-13cf-4024-8b37-62923c97a5cb",
   "metadata": {
    "tags": []
   },
   "outputs": [
    {
     "name": "stdout",
     "output_type": "stream",
     "text": [
      "The premium for the European put contract computed by Black-Scholes is: 1.157 USD/share\n"
     ]
    }
   ],
   "source": [
    "bsm_model = build(MyBlackScholesContractPricingModel, (\n",
    "        Sₒ = Sₒ, r = r̄\n",
    "));\n",
    "P = premium(put_contract_model, bsm_model)\n",
    "println(\"The premium for the European put contract computed by Black-Scholes is: $(P) USD/share\")"
   ]
  },
  {
   "cell_type": "code",
   "execution_count": null,
   "id": "d6b76ab2-37aa-4b5c-a302-28bb48985ebe",
   "metadata": {},
   "outputs": [],
   "source": []
  }
 ],
 "metadata": {
  "kernelspec": {
   "display_name": "Julia 1.9.3",
   "language": "julia",
   "name": "julia-1.9"
  },
  "language_info": {
   "file_extension": ".jl",
   "mimetype": "application/julia",
   "name": "julia",
   "version": "1.9.3"
  }
 },
 "nbformat": 4,
 "nbformat_minor": 5
}
