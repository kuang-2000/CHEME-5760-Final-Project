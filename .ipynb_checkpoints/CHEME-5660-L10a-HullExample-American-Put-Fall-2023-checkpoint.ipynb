{
 "cells": [
  {
   "cell_type": "markdown",
   "id": "b87e7b82-38c7-4ec3-ab13-db992e0b23f4",
   "metadata": {},
   "source": [
    "## Example: `Hull` American `put` Option Premium Calculation\n",
    "A binomial lattice model assumes that at each discrete time increment, the state of the system, e.g., the share price of equity, can either increase by a factor $u$ with probability $p$ or decrease by a factor $d$ with probability $(1-p)$ in the next time interval. Thus, each discrete time interval can be modeled as a [Bernoulli random variable](https://en.wikipedia.org/wiki/Bernoulli_distribution):\n",
    "\n",
    "<div>\n",
    "    <center>\n",
    "        <img src=\"figs/Fig-Binomial-Lattice-Schematic.svg\" width=\"280\"/>\n",
    "    </center>\n",
    "</div>\n",
    "\n",
    "while each level (time slice) of the tree is described by a [Binomial distribution](https://en.wikipedia.org/wiki/Binomial_distribution). Different models have been developed to compute the tuple $(u,d,p)$. However, for now, let's specify these values, and calculate the value of an American `put` contract written with respect to the lattice.\n",
    "\n",
    "## Learning objectives\n",
    "The objective of `Lab 6c` is to familiarize students with computing future share price and the value of American `put` and `call` contracts using a [Binomial lattice approximation](https://en.wikipedia.org/wiki/Binomial_options_pricing_model). \n",
    "\n",
    "### Tasks \n",
    "* __Task 1__: Setup and populate an example lattice from Chapter 13 of `Hull`. \n",
    "    * `TODO`: Inspect the populated lattice’s `connectivity`, `levels`, and `data` fields. Can you explain these data?\n",
    "* __Task 2__: Compute the premium of an American `put` contract, given values for the $(u,d,p)$ tuple\n",
    "    * `TODO`: Compare the reported value for the `put` premium with the value reported by `Hull`. \n",
    "* __Task 3__ : Explore the `{excercise,hold}` decision that occurs at each node in the lattice, and the role of the `intrinsic` and `extrinsic` values."
   ]
  },
  {
   "cell_type": "markdown",
   "id": "4c211168-b95a-4bdd-80ee-9a03c421c80e",
   "metadata": {},
   "source": [
    "## Setup\n",
    "We load the [VLQuantitativeFinancePackage.jl](https://github.com/varnerlab/VLQuantitativeFinancePackage.jl) package, and several other external [Julia](https://julialang.org/downloads/https://julialang.org/downloads/) packages, as well as some helper code, by calling the [include(...)](https://docs.julialang.org/en/v1/manual/code-loading/https://docs.julialang.org/en/v1/manual/code-loading/) command on the file `Include.jl`:"
   ]
  },
  {
   "cell_type": "code",
   "execution_count": 10,
   "id": "19f1cbf4-ff0b-4f99-95cc-31679e96601c",
   "metadata": {
    "tags": []
   },
   "outputs": [
    {
     "name": "stderr",
     "output_type": "stream",
     "text": [
      "\u001b[32m\u001b[1m    Updating\u001b[22m\u001b[39m git-repo `https://github.com/varnerlab/VLQuantitativeFinancePackage.jl.git`\n",
      "\u001b[32m\u001b[1m   Resolving\u001b[22m\u001b[39m package versions...\n",
      "\u001b[32m\u001b[1m  No Changes\u001b[22m\u001b[39m to `~/Desktop/julia_work/CHEME-5660-Examples-F23/Project.toml`\n",
      "\u001b[32m\u001b[1m  No Changes\u001b[22m\u001b[39m to `~/Desktop/julia_work/CHEME-5660-Examples-F23/Manifest.toml`\n",
      "\u001b[32m\u001b[1m  Activating\u001b[22m\u001b[39m project at `~/Desktop/julia_work/CHEME-5660-Examples-F23`\n",
      "\u001b[32m\u001b[1m  No Changes\u001b[22m\u001b[39m to `~/Desktop/julia_work/CHEME-5660-Examples-F23/Project.toml`\n",
      "\u001b[32m\u001b[1m  No Changes\u001b[22m\u001b[39m to `~/Desktop/julia_work/CHEME-5660-Examples-F23/Manifest.toml`\n",
      "\u001b[32m\u001b[1m    Updating\u001b[22m\u001b[39m registry at `~/.julia/registries/General.toml`\n",
      "\u001b[32m\u001b[1m    Updating\u001b[22m\u001b[39m git-repo `https://github.com/varnerlab/VLQuantitativeFinancePackage.jl.git`\n",
      "\u001b[32m\u001b[1m  No Changes\u001b[22m\u001b[39m to `~/Desktop/julia_work/CHEME-5660-Examples-F23/Project.toml`\n",
      "\u001b[32m\u001b[1m  No Changes\u001b[22m\u001b[39m to `~/Desktop/julia_work/CHEME-5660-Examples-F23/Manifest.toml`\n"
     ]
    }
   ],
   "source": [
    "include(\"Include.jl\");"
   ]
  },
  {
   "cell_type": "markdown",
   "id": "485f56ac-52e9-4179-bb5d-99e8d79b903c",
   "metadata": {
    "tags": []
   },
   "source": [
    "### Types\n",
    "`Include.jl` loads some [problem-specific types](https://docs.julialang.org/en/v1/manual/types/#Composite-Types) that will be helpful for the lattice model simulation of equity share prices:\n",
    "\n",
    "The `MyBinomialEquityPriceTree` encodes the lattice model and has the fields:\n",
    "    \n",
    "* The `connectivity::Union{Nothing, Dict{Int64, Array{Int64,1}}}` field holds the indexes of the children for each parent node of the tree.\n",
    "* The `levels::Union{Nothing, Dict{Int64, Array{Int64,1}}}` field holds indexes of nodes that belong to each level of the tree, i.e., a trading day.\n",
    "* The `u::Float64` field holds the value of the `up` factor\n",
    "* The `d::Float64` field holds the value of the `down` factor\n",
    "* The `p::Float64` field holds the value of the probability of an `up` move.\n",
    "* The `data::Union{Nothing, Dict{Int64, MyBiomialLatticeEquityNodeModel}}` holds each node in the tree; nodes are of type `MyBiomialLatticeEquityNodeModel`\n",
    "\n",
    "Each node in the tree is a `MyBiomialLatticeEquityNodeModel` type, which has two important fields:\n",
    "* The `price::Float64` field holds the price value for a node\n",
    "* The `probability::Float64` field holds the probability value associated with this node\n",
    "\n",
    "The `MyAmericanPutContractModel` and `MyAmericanCallContractModel`types hold data associated with American `put` (or `call`) contracts. In this lab, we care about the fields:\n",
    "* The `K::Float64` field holds the strike price of the contract\n",
    "* The `DTE::Union{Nothing, Float64}` field holds the duration of the contract (units: years)\n",
    "* The `sense::Union{Nothing, Int64}` field holds the orientation of the contract (in this lab, `sense = 1`). "
   ]
  },
  {
   "cell_type": "markdown",
   "id": "05b9dddc-c443-46dd-bac9-dde7586480e6",
   "metadata": {},
   "source": [
    "### Functions\n",
    "`Include.jl` loads the following [Julia functions](https://docs.julialang.org/en/v1/manual/functions/):\n",
    "  \n",
    "`function build(model::Type{MyBinomialEquityPriceTree}, data::NamedTuple) -> MyBinomialEquityPriceTree` \n",
    "> This function takes information in the `data` [NamedTuple](https://docs.julialang.org/en/v1/base/base/#Core.NamedTuple) argument (the $(u,d,p)$ values) and returns an instance of the `MyBinomialEquityPriceTree` [mutable type](https://docs.julialang.org/en/v1/manual/types/#Mutable-Composite-Types). Note: the `MyBinomialEquityPriceTree` returned from the `build(...)` function does not have price or probability information computed yet. Call the `populate(…)` function to populate this data.\n",
    "\n",
    "`function populate(model::MyBinomialEquityPriceTree, Sₒ::Float64, h::Int) -> MyBinomialEquityPriceTree`\n",
    "> The `populate(...)` function takes the `model::MyBinomialEquityPriceTree` instance returned from `build(...)`, a starting share price $S_{o}$ and the height of the tree, i.e., the number of time steps to simulate, and returns an updated `model::MyBinomialEquityPriceTree` instance with the price and probabilities computed for each node in the tree.\n",
    "\n",
    "`function build(model::Type{MyAmericanPutContractModel}, data::NamedTuple) -> MyAmericanPutContractModel`\n",
    "> This function takes information in the `data` [NamedTuple](https://docs.julialang.org/en/v1/base/base/#Core.NamedTuple) argument, the strike price `K`, the duration of the contract `DTE` and the `sense = 1` flag, and returns an instance of a `MyAmericanPutContractModel` model. A similar method is also provided to construct `MyAmericanCallContractModel` instances. \n",
    "\n",
    "`function premium(contract::T, model::MyBinomialEquityPriceTree; choice::Function=_rational) -> Float64 where {T<:AbstractContractModel}`\n",
    "> The `premium(...)` function takes the `contract::T` and  `model::MyBinomialEquityPriceTree` arguments and returns the `premium::Float64` (price) of the options contract, where the type `T` is any contract type `{call,put}`."
   ]
  },
  {
   "cell_type": "markdown",
   "id": "0dc02ba7-a9c8-44f4-b567-b88208def7be",
   "metadata": {},
   "source": [
    "## Task 1: Setup and Populate Example Lattice From Hull\n",
    "Let’s start by calculating the hypothetical share price of a stock that was reproduced from Chapter 13 of Hull. The lattice in this example has three levels (`L=0,1,2`), with an initial share price of $S_{\\circ}=50.0$ USD (at the root). An `up` move has a probability of `p = 0.6523` and a magnitude of `u = 1.2`, while a `down` move has a magnitude of  `d = 0.8`.\n",
    "\n",
    "### Implementation\n",
    "Calculating the future share price with a binomial lattice requires setting the model’s parameters, including the initial share price (as a `Float64`), the number of time steps to simulate into the future, which equals the number levels of the tree starting from zero (as an `Int64`), the up and down move magnitudes (as `Float64` values), and the probability of an up move (as a `Float64`):"
   ]
  },
  {
   "cell_type": "code",
   "execution_count": 6,
   "id": "08f674f6-884c-44eb-9222-3572a7879f85",
   "metadata": {
    "tags": []
   },
   "outputs": [],
   "source": [
    "Sₒ,h,u,d,p,r̄,K,DTE = 50.0,2,1.2,0.8,0.6282,0.05,52.0,2;"
   ]
  },
  {
   "cell_type": "markdown",
   "id": "0f01558a-1d69-4c13-bfc6-76eaf7be707f",
   "metadata": {},
   "source": [
    "Once these values are set, we use the `build(…)` function to create an empty lattice model of type `MyBinomialEquityPriceTree`, which is then passed to the `populate(…)` function using the [Julia piping operator](https://docs.julialang.org/en/v1/manual/functions/#Function-composition-and-piping) `|>`. The `populate(…)` function calculates the prices and probabilities of each node (type `MyBiomialLatticeEquityNodeModel`) in the tree:"
   ]
  },
  {
   "cell_type": "code",
   "execution_count": 4,
   "id": "2f362fe0-b900-492a-af2c-58868917cc90",
   "metadata": {
    "tags": []
   },
   "outputs": [],
   "source": [
    "hull_lattice_model = VLQuantitativeFinancePackage.build(MyBinomialEquityPriceTree, (\n",
    "        u = u, d = d, p = p, μ = r̄)) |> (x-> populate(x, Sₒ = Sₒ, h = h));"
   ]
  },
  {
   "cell_type": "code",
   "execution_count": 15,
   "id": "9954e9f3-25e5-4068-ac2d-4a87f8ea4265",
   "metadata": {
    "tags": []
   },
   "outputs": [
    {
     "data": {
      "text/plain": [
       "Dict{Int64, Vector{Int64}} with 3 entries:\n",
       "  0 => [0]\n",
       "  2 => [3, 4, 5]\n",
       "  1 => [1, 2]"
      ]
     },
     "execution_count": 15,
     "metadata": {},
     "output_type": "execute_result"
    }
   ],
   "source": [
    "hull_lattice_model.levels"
   ]
  },
  {
   "cell_type": "code",
   "execution_count": 16,
   "id": "e516303c-2818-476d-809f-441ed4bfd125",
   "metadata": {
    "tags": []
   },
   "outputs": [
    {
     "data": {
      "text/plain": [
       "Dict{Int64, MyBiomialLatticeEquityNodeModel} with 6 entries:\n",
       "  0 => MyBiomialLatticeEquityNodeModel(50.0, 1.0, 2.0, 5.08936)\n",
       "  4 => MyBiomialLatticeEquityNodeModel(48.0, 0.46713, 4.0, 4.0)\n",
       "  5 => MyBiomialLatticeEquityNodeModel(32.0, 0.138235, 20.0, 20.0)\n",
       "  2 => MyBiomialLatticeEquityNodeModel(40.0, 0.3718, 12.0, 12.0)\n",
       "  3 => MyBiomialLatticeEquityNodeModel(72.0, 0.394635, 0.0, 0.0)\n",
       "  1 => MyBiomialLatticeEquityNodeModel(60.0, 0.6282, 0.0, 1.41467)"
      ]
     },
     "execution_count": 16,
     "metadata": {},
     "output_type": "execute_result"
    }
   ],
   "source": [
    "hull_lattice_model.data"
   ]
  },
  {
   "cell_type": "markdown",
   "id": "0c2b6e9c-cdfe-43c3-b7f0-b3f50ed091e3",
   "metadata": {},
   "source": [
    "## Task 2: Compute the premium of American `put` contract\n",
    "Now that we have the share price lattice, let's compute the the premium $\\mathcal{P}_{p}$ of a American `put` contract using `backward induction` on the binomial lattice. The `put` contract has a strike price `K = 52` USD/share and a Days to Expiration `DTE` of `2-years`. \n",
    "* The value computed by Hull for the American option is $\\mathcal{P}_{p} = 5.0894$ USD/share:"
   ]
  },
  {
   "cell_type": "code",
   "execution_count": 5,
   "id": "97650360-ed81-4bd2-a9e0-4c7b35bb5322",
   "metadata": {
    "tags": []
   },
   "outputs": [],
   "source": [
    "price_computed_by_Hull = 5.0894; # units: USD/share"
   ]
  },
  {
   "cell_type": "code",
   "execution_count": 7,
   "id": "049d4ce6-f440-45cc-b8d5-85d3b0e9d0db",
   "metadata": {
    "tags": []
   },
   "outputs": [],
   "source": [
    "american_put_contract_model = VLQuantitativeFinancePackage.build(MyAmericanPutContractModel, (\n",
    "        K = K, DTE = DTE, sense = 1));"
   ]
  },
  {
   "cell_type": "markdown",
   "id": "e413d64f-7b93-45c9-bde8-2bb08891317d",
   "metadata": {},
   "source": [
    "Now, we call the `premium(...)` method with the contract, and the lattice, as parameters. The `premium(...)` method returns the premium $\\mathcal{P}_{p}$ (price) of the contract. We store this value in the `my_put_premium` variable:"
   ]
  },
  {
   "cell_type": "code",
   "execution_count": 8,
   "id": "2e81bac7-89f6-496b-9f5c-25d488374a85",
   "metadata": {
    "tags": []
   },
   "outputs": [],
   "source": [
    "my_put_premium = premium(american_put_contract_model, hull_lattice_model);"
   ]
  },
  {
   "cell_type": "markdown",
   "id": "735c848e-630f-4394-8cea-194fc2a0ffba",
   "metadata": {},
   "source": [
    "### Check: Do we get the correct contract price?"
   ]
  },
  {
   "cell_type": "code",
   "execution_count": 9,
   "id": "7667ea63-afad-43ee-9d78-7b6da8577bbe",
   "metadata": {
    "tags": []
   },
   "outputs": [],
   "source": [
    "@assert isapprox(price_computed_by_Hull, my_put_premium, rtol=1e-4)"
   ]
  },
  {
   "cell_type": "markdown",
   "id": "e082c515-06f8-4376-89af-2fa5f473180a",
   "metadata": {},
   "source": [
    "## Task 3: Inspect the Lattice nodes\n",
    "The nodes in the `hull_lattice_model`, which can be accessed using the `data` field, contain information about the `instrinsic` and `extrinsic` values of the `put` option contract. When dealing with American options contracts, it is important to understand these two types of values: \n",
    "\n",
    "* `Intrinsic` value is the difference between the current market price of the underlying asset and the option’s strike price, indicating the immediate value that can be obtained by exercising the option at the current moment. \n",
    "* `Extrinsic` value, on the other hand, is the portion of the option’s premium that is not related to its intrinsic value. It represents the premium paid for the potential price movement of the underlying asset over the remaining time until the option’s expiration, as well as other factors such as implied volatility."
   ]
  },
  {
   "cell_type": "code",
   "execution_count": null,
   "id": "3850f63b-08f9-4183-8e44-dcf1b22e2bf6",
   "metadata": {},
   "outputs": [],
   "source": []
  }
 ],
 "metadata": {
  "kernelspec": {
   "display_name": "Julia 1.9.3",
   "language": "julia",
   "name": "julia-1.9"
  },
  "language_info": {
   "file_extension": ".jl",
   "mimetype": "application/julia",
   "name": "julia",
   "version": "1.9.3"
  }
 },
 "nbformat": 4,
 "nbformat_minor": 5
}
